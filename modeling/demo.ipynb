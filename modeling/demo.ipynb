{
 "cells": [
  {
   "cell_type": "code",
   "execution_count": 84,
   "id": "d4d16ddd",
   "metadata": {},
   "outputs": [],
   "source": [
    "from config import CATEGORY_PATH, GRANTS_FILE, LOGS_DIR, RESULTS_DIR, REFINED_CATEGORY_PATH\n",
    "from inspect_ai.analysis import messages_df, evals_df\n",
    "import pandas as pd\n",
    "import plotly.express as px\n",
    "import plotly.graph_objects as go\n",
    "import json"
   ]
  },
  {
   "cell_type": "code",
   "execution_count": 85,
   "id": "912bd312",
   "metadata": {},
   "outputs": [
    {
     "name": "stdout",
     "output_type": "stream",
     "text": [
      "Found 10 grant classifications\n",
      "Found 16 refined categories\n",
      "Found 239 detailed categories\n",
      "Total keywords: 2430\n",
      "Total grants: 10\n",
      "Strategic level classifications: 0\n",
      "Detailed level classifications: 0\n",
      "Average keywords per detailed category: 10.2\n",
      "Visualization mode: Strategic level\n"
     ]
    }
   ],
   "source": [
    "# Load refined categories data\n",
    "with open(REFINED_CATEGORY_PATH, 'r') as f:\n",
    "    refined_categories = json.load(f)\n",
    "\n",
    "# Load detailed categories data (with keywords)\n",
    "with open(CATEGORY_PATH, 'r') as f:\n",
    "    detailed_categories = json.load(f)\n",
    "\n",
    "# Try to load classification results if available\n",
    "classification_path = RESULTS_DIR / \"classification.json\"\n",
    "classification_results = []\n",
    "\n",
    "if classification_path.exists():\n",
    "    with open(classification_path, 'r') as f:\n",
    "        classification_results = json.load(f)\n",
    "    \n",
    "    print(f\"Found {len(classification_results)} grant classifications\")\n",
    "else:\n",
    "    print(\"No classification results found - run classify task first\")\n",
    "\n",
    "print(f\"Found {len(refined_categories)} refined categories\")\n",
    "print(f\"Found {len(detailed_categories)} detailed categories\")\n",
    "\n",
    "# Create mapping from detailed category name to keywords\n",
    "detailed_category_map = {cat['name']: cat.get('keywords', []) for cat in detailed_categories}\n",
    "\n",
    "# Create mappings for grants based on what's available in the classification results\n",
    "strategic_category_to_grants = {}  # Strategic level classifications\n",
    "detailed_category_to_grants = {}   # Detailed level classifications\n",
    "\n",
    "for result in classification_results:\n",
    "    # Strategic level mapping (always available)\n",
    "    for category_name in result.get('selected_categories', []):\n",
    "        if category_name not in strategic_category_to_grants:\n",
    "            strategic_category_to_grants[category_name] = []\n",
    "        strategic_category_to_grants[category_name].append({\n",
    "            'title': result['title'],\n",
    "            'grant_id': result['grant_id']\n",
    "        })\n",
    "    \n",
    "    # Detailed level mapping (only if subcategories were classified)\n",
    "    for subcat_name in result.get('selected_subcategories', []):\n",
    "        if subcat_name not in detailed_category_to_grants:\n",
    "            detailed_category_to_grants[subcat_name] = []\n",
    "        detailed_category_to_grants[subcat_name].append({\n",
    "            'title': result['title'],\n",
    "            'grant_id': result['grant_id']\n",
    "        })\n",
    "\n",
    "# Display summary\n",
    "total_subcategories = sum(len(cat['subcategories']) for cat in refined_categories)\n",
    "total_keywords = sum(len(cat.get('keywords', [])) for cat in detailed_categories)\n",
    "total_grants = len(classification_results)\n",
    "strategic_grants = sum(len(grants) for grants in strategic_category_to_grants.values())\n",
    "detailed_grants = sum(len(grants) for grants in detailed_category_to_grants.values())\n",
    "\n",
    "print(f\"Total keywords: {total_keywords}\")\n",
    "print(f\"Total grants: {total_grants}\")\n",
    "print(f\"Strategic level classifications: {strategic_grants}\")\n",
    "print(f\"Detailed level classifications: {detailed_grants}\")\n",
    "print(f\"Average keywords per detailed category: {total_keywords/len(detailed_categories):.1f}\")\n",
    "\n",
    "# Determine which visualization mode to use\n",
    "has_detailed_classifications = detailed_grants > 0\n",
    "print(f\"Visualization mode: {'Detailed level' if has_detailed_classifications else 'Strategic level'}\")"
   ]
  },
  {
   "cell_type": "code",
   "execution_count": 86,
   "id": "63afba6e",
   "metadata": {},
   "outputs": [
    {
     "name": "stdout",
     "output_type": "stream",
     "text": [
      "Treemap contains 1709 total elements:\n",
      "  - 16 Strategic Domains (Blue)\n",
      "  - 152 Detailed Categories (Orange)\n",
      "  - 1541 Keywords (Green)\n",
      "\n",
      "Classification summary:\n"
     ]
    },
    {
     "data": {
      "application/vnd.plotly.v1+json": {
       "config": {
        "plotlyServerURL": "https://plot.ly"
       },
       "data": [
        {
         "customdata": [
          [
           "Strategic Domain",
           134,
           "domain"
          ],
          [
           "Detailed Category",
           14,
           "category"
          ],
          [
           "Keyword",
           1,
           "keyword"
          ],
          [
           "Keyword",
           1,
           "keyword"
          ],
          [
           "Keyword",
           1,
           "keyword"
          ],
          [
           "Keyword",
           1,
           "keyword"
          ],
          [
           "Keyword",
           1,
           "keyword"
          ],
          [
           "Keyword",
           1,
           "keyword"
          ],
          [
           "Keyword",
           1,
           "keyword"
          ],
          [
           "Keyword",
           1,
           "keyword"
          ],
          [
           "Keyword",
           1,
           "keyword"
          ],
          [
           "Keyword",
           1,
           "keyword"
          ],
          [
           "Keyword",
           1,
           "keyword"
          ],
          [
           "Keyword",
           1,
           "keyword"
          ],
          [
           "Keyword",
           1,
           "keyword"
          ],
          [
           "Keyword",
           1,
           "keyword"
          ],
          [
           "Detailed Category",
           10,
           "category"
          ],
          [
           "Keyword",
           1,
           "keyword"
          ],
          [
           "Keyword",
           1,
           "keyword"
          ],
          [
           "Keyword",
           1,
           "keyword"
          ],
          [
           "Keyword",
           1,
           "keyword"
          ],
          [
           "Keyword",
           1,
           "keyword"
          ],
          [
           "Keyword",
           1,
           "keyword"
          ],
          [
           "Keyword",
           1,
           "keyword"
          ],
          [
           "Keyword",
           1,
           "keyword"
          ],
          [
           "Keyword",
           1,
           "keyword"
          ],
          [
           "Keyword",
           1,
           "keyword"
          ],
          [
           "Detailed Category",
           10,
           "category"
          ],
          [
           "Keyword",
           1,
           "keyword"
          ],
          [
           "Keyword",
           1,
           "keyword"
          ],
          [
           "Keyword",
           1,
           "keyword"
          ],
          [
           "Keyword",
           1,
           "keyword"
          ],
          [
           "Keyword",
           1,
           "keyword"
          ],
          [
           "Keyword",
           1,
           "keyword"
          ],
          [
           "Keyword",
           1,
           "keyword"
          ],
          [
           "Keyword",
           1,
           "keyword"
          ],
          [
           "Keyword",
           1,
           "keyword"
          ],
          [
           "Keyword",
           1,
           "keyword"
          ],
          [
           "Detailed Category",
           10,
           "category"
          ],
          [
           "Keyword",
           1,
           "keyword"
          ],
          [
           "Keyword",
           1,
           "keyword"
          ],
          [
           "Keyword",
           1,
           "keyword"
          ],
          [
           "Keyword",
           1,
           "keyword"
          ],
          [
           "Keyword",
           1,
           "keyword"
          ],
          [
           "Keyword",
           1,
           "keyword"
          ],
          [
           "Keyword",
           1,
           "keyword"
          ],
          [
           "Keyword",
           1,
           "keyword"
          ],
          [
           "Keyword",
           1,
           "keyword"
          ],
          [
           "Keyword",
           1,
           "keyword"
          ],
          [
           "Detailed Category",
           10,
           "category"
          ],
          [
           "Keyword",
           1,
           "keyword"
          ],
          [
           "Keyword",
           1,
           "keyword"
          ],
          [
           "Keyword",
           1,
           "keyword"
          ],
          [
           "Keyword",
           1,
           "keyword"
          ],
          [
           "Keyword",
           1,
           "keyword"
          ],
          [
           "Keyword",
           1,
           "keyword"
          ],
          [
           "Keyword",
           1,
           "keyword"
          ],
          [
           "Keyword",
           1,
           "keyword"
          ],
          [
           "Keyword",
           1,
           "keyword"
          ],
          [
           "Keyword",
           1,
           "keyword"
          ],
          [
           "Detailed Category",
           10,
           "category"
          ],
          [
           "Keyword",
           1,
           "keyword"
          ],
          [
           "Keyword",
           1,
           "keyword"
          ],
          [
           "Keyword",
           1,
           "keyword"
          ],
          [
           "Keyword",
           1,
           "keyword"
          ],
          [
           "Keyword",
           1,
           "keyword"
          ],
          [
           "Keyword",
           1,
           "keyword"
          ],
          [
           "Keyword",
           1,
           "keyword"
          ],
          [
           "Keyword",
           1,
           "keyword"
          ],
          [
           "Keyword",
           1,
           "keyword"
          ],
          [
           "Keyword",
           1,
           "keyword"
          ],
          [
           "Detailed Category",
           10,
           "category"
          ],
          [
           "Keyword",
           1,
           "keyword"
          ],
          [
           "Keyword",
           1,
           "keyword"
          ],
          [
           "Keyword",
           1,
           "keyword"
          ],
          [
           "Keyword",
           1,
           "keyword"
          ],
          [
           "Keyword",
           1,
           "keyword"
          ],
          [
           "Keyword",
           1,
           "keyword"
          ],
          [
           "Keyword",
           1,
           "keyword"
          ],
          [
           "Keyword",
           1,
           "keyword"
          ],
          [
           "Keyword",
           1,
           "keyword"
          ],
          [
           "Keyword",
           1,
           "keyword"
          ],
          [
           "Detailed Category",
           10,
           "category"
          ],
          [
           "Keyword",
           1,
           "keyword"
          ],
          [
           "Keyword",
           1,
           "keyword"
          ],
          [
           "Keyword",
           1,
           "keyword"
          ],
          [
           "Keyword",
           1,
           "keyword"
          ],
          [
           "Keyword",
           1,
           "keyword"
          ],
          [
           "Keyword",
           1,
           "keyword"
          ],
          [
           "Keyword",
           1,
           "keyword"
          ],
          [
           "Keyword",
           1,
           "keyword"
          ],
          [
           "Keyword",
           1,
           "keyword"
          ],
          [
           "Keyword",
           1,
           "keyword"
          ],
          [
           "Detailed Category",
           10,
           "category"
          ],
          [
           "Keyword",
           1,
           "keyword"
          ],
          [
           "Keyword",
           1,
           "keyword"
          ],
          [
           "Keyword",
           1,
           "keyword"
          ],
          [
           "Keyword",
           1,
           "keyword"
          ],
          [
           "Keyword",
           1,
           "keyword"
          ],
          [
           "Keyword",
           1,
           "keyword"
          ],
          [
           "Keyword",
           1,
           "keyword"
          ],
          [
           "Keyword",
           1,
           "keyword"
          ],
          [
           "Keyword",
           1,
           "keyword"
          ],
          [
           "Keyword",
           1,
           "keyword"
          ],
          [
           "Detailed Category",
           10,
           "category"
          ],
          [
           "Keyword",
           1,
           "keyword"
          ],
          [
           "Keyword",
           1,
           "keyword"
          ],
          [
           "Keyword",
           1,
           "keyword"
          ],
          [
           "Keyword",
           1,
           "keyword"
          ],
          [
           "Keyword",
           1,
           "keyword"
          ],
          [
           "Keyword",
           1,
           "keyword"
          ],
          [
           "Keyword",
           1,
           "keyword"
          ],
          [
           "Keyword",
           1,
           "keyword"
          ],
          [
           "Keyword",
           1,
           "keyword"
          ],
          [
           "Keyword",
           1,
           "keyword"
          ],
          [
           "Detailed Category",
           10,
           "category"
          ],
          [
           "Keyword",
           1,
           "keyword"
          ],
          [
           "Keyword",
           1,
           "keyword"
          ],
          [
           "Keyword",
           1,
           "keyword"
          ],
          [
           "Keyword",
           1,
           "keyword"
          ],
          [
           "Keyword",
           1,
           "keyword"
          ],
          [
           "Keyword",
           1,
           "keyword"
          ],
          [
           "Keyword",
           1,
           "keyword"
          ],
          [
           "Keyword",
           1,
           "keyword"
          ],
          [
           "Keyword",
           1,
           "keyword"
          ],
          [
           "Keyword",
           1,
           "keyword"
          ],
          [
           "Detailed Category",
           10,
           "category"
          ],
          [
           "Keyword",
           1,
           "keyword"
          ],
          [
           "Keyword",
           1,
           "keyword"
          ],
          [
           "Keyword",
           1,
           "keyword"
          ],
          [
           "Keyword",
           1,
           "keyword"
          ],
          [
           "Keyword",
           1,
           "keyword"
          ],
          [
           "Keyword",
           1,
           "keyword"
          ],
          [
           "Keyword",
           1,
           "keyword"
          ],
          [
           "Keyword",
           1,
           "keyword"
          ],
          [
           "Keyword",
           1,
           "keyword"
          ],
          [
           "Keyword",
           1,
           "keyword"
          ],
          [
           "Detailed Category",
           10,
           "category"
          ],
          [
           "Keyword",
           1,
           "keyword"
          ],
          [
           "Keyword",
           1,
           "keyword"
          ],
          [
           "Keyword",
           1,
           "keyword"
          ],
          [
           "Keyword",
           1,
           "keyword"
          ],
          [
           "Keyword",
           1,
           "keyword"
          ],
          [
           "Keyword",
           1,
           "keyword"
          ],
          [
           "Keyword",
           1,
           "keyword"
          ],
          [
           "Keyword",
           1,
           "keyword"
          ],
          [
           "Keyword",
           1,
           "keyword"
          ],
          [
           "Keyword",
           1,
           "keyword"
          ],
          [
           "Strategic Domain",
           91,
           "domain"
          ],
          [
           "Detailed Category",
           10,
           "category"
          ],
          [
           "Keyword",
           1,
           "keyword"
          ],
          [
           "Keyword",
           1,
           "keyword"
          ],
          [
           "Keyword",
           1,
           "keyword"
          ],
          [
           "Keyword",
           1,
           "keyword"
          ],
          [
           "Keyword",
           1,
           "keyword"
          ],
          [
           "Keyword",
           1,
           "keyword"
          ],
          [
           "Keyword",
           1,
           "keyword"
          ],
          [
           "Keyword",
           1,
           "keyword"
          ],
          [
           "Keyword",
           1,
           "keyword"
          ],
          [
           "Keyword",
           1,
           "keyword"
          ],
          [
           "Detailed Category",
           10,
           "category"
          ],
          [
           "Keyword",
           1,
           "keyword"
          ],
          [
           "Keyword",
           1,
           "keyword"
          ],
          [
           "Keyword",
           1,
           "keyword"
          ],
          [
           "Keyword",
           1,
           "keyword"
          ],
          [
           "Keyword",
           1,
           "keyword"
          ],
          [
           "Keyword",
           1,
           "keyword"
          ],
          [
           "Keyword",
           1,
           "keyword"
          ],
          [
           "Keyword",
           1,
           "keyword"
          ],
          [
           "Keyword",
           1,
           "keyword"
          ],
          [
           "Keyword",
           1,
           "keyword"
          ],
          [
           "Detailed Category",
           10,
           "category"
          ],
          [
           "Keyword",
           1,
           "keyword"
          ],
          [
           "Keyword",
           1,
           "keyword"
          ],
          [
           "Keyword",
           1,
           "keyword"
          ],
          [
           "Keyword",
           1,
           "keyword"
          ],
          [
           "Keyword",
           1,
           "keyword"
          ],
          [
           "Keyword",
           1,
           "keyword"
          ],
          [
           "Keyword",
           1,
           "keyword"
          ],
          [
           "Keyword",
           1,
           "keyword"
          ],
          [
           "Keyword",
           1,
           "keyword"
          ],
          [
           "Keyword",
           1,
           "keyword"
          ],
          [
           "Detailed Category",
           11,
           "category"
          ],
          [
           "Keyword",
           1,
           "keyword"
          ],
          [
           "Keyword",
           1,
           "keyword"
          ],
          [
           "Keyword",
           1,
           "keyword"
          ],
          [
           "Keyword",
           1,
           "keyword"
          ],
          [
           "Keyword",
           1,
           "keyword"
          ],
          [
           "Keyword",
           1,
           "keyword"
          ],
          [
           "Keyword",
           1,
           "keyword"
          ],
          [
           "Keyword",
           1,
           "keyword"
          ],
          [
           "Keyword",
           1,
           "keyword"
          ],
          [
           "Keyword",
           1,
           "keyword"
          ],
          [
           "Keyword",
           1,
           "keyword"
          ],
          [
           "Detailed Category",
           10,
           "category"
          ],
          [
           "Keyword",
           1,
           "keyword"
          ],
          [
           "Keyword",
           1,
           "keyword"
          ],
          [
           "Keyword",
           1,
           "keyword"
          ],
          [
           "Keyword",
           1,
           "keyword"
          ],
          [
           "Keyword",
           1,
           "keyword"
          ],
          [
           "Keyword",
           1,
           "keyword"
          ],
          [
           "Keyword",
           1,
           "keyword"
          ],
          [
           "Keyword",
           1,
           "keyword"
          ],
          [
           "Keyword",
           1,
           "keyword"
          ],
          [
           "Keyword",
           1,
           "keyword"
          ],
          [
           "Detailed Category",
           10,
           "category"
          ],
          [
           "Keyword",
           1,
           "keyword"
          ],
          [
           "Keyword",
           1,
           "keyword"
          ],
          [
           "Keyword",
           1,
           "keyword"
          ],
          [
           "Keyword",
           1,
           "keyword"
          ],
          [
           "Keyword",
           1,
           "keyword"
          ],
          [
           "Keyword",
           1,
           "keyword"
          ],
          [
           "Keyword",
           1,
           "keyword"
          ],
          [
           "Keyword",
           1,
           "keyword"
          ],
          [
           "Keyword",
           1,
           "keyword"
          ],
          [
           "Keyword",
           1,
           "keyword"
          ],
          [
           "Detailed Category",
           10,
           "category"
          ],
          [
           "Keyword",
           1,
           "keyword"
          ],
          [
           "Keyword",
           1,
           "keyword"
          ],
          [
           "Keyword",
           1,
           "keyword"
          ],
          [
           "Keyword",
           1,
           "keyword"
          ],
          [
           "Keyword",
           1,
           "keyword"
          ],
          [
           "Keyword",
           1,
           "keyword"
          ],
          [
           "Keyword",
           1,
           "keyword"
          ],
          [
           "Keyword",
           1,
           "keyword"
          ],
          [
           "Keyword",
           1,
           "keyword"
          ],
          [
           "Keyword",
           1,
           "keyword"
          ],
          [
           "Detailed Category",
           1,
           "category"
          ],
          [
           "Detailed Category",
           10,
           "category"
          ],
          [
           "Keyword",
           1,
           "keyword"
          ],
          [
           "Keyword",
           1,
           "keyword"
          ],
          [
           "Keyword",
           1,
           "keyword"
          ],
          [
           "Keyword",
           1,
           "keyword"
          ],
          [
           "Keyword",
           1,
           "keyword"
          ],
          [
           "Keyword",
           1,
           "keyword"
          ],
          [
           "Keyword",
           1,
           "keyword"
          ],
          [
           "Keyword",
           1,
           "keyword"
          ],
          [
           "Keyword",
           1,
           "keyword"
          ],
          [
           "Keyword",
           1,
           "keyword"
          ],
          [
           "Detailed Category",
           10,
           "category"
          ],
          [
           "Keyword",
           1,
           "keyword"
          ],
          [
           "Keyword",
           1,
           "keyword"
          ],
          [
           "Keyword",
           1,
           "keyword"
          ],
          [
           "Keyword",
           1,
           "keyword"
          ],
          [
           "Keyword",
           1,
           "keyword"
          ],
          [
           "Keyword",
           1,
           "keyword"
          ],
          [
           "Keyword",
           1,
           "keyword"
          ],
          [
           "Keyword",
           1,
           "keyword"
          ],
          [
           "Keyword",
           1,
           "keyword"
          ],
          [
           "Keyword",
           1,
           "keyword"
          ],
          [
           "Strategic Domain",
           111,
           "domain"
          ],
          [
           "Detailed Category",
           11,
           "category"
          ],
          [
           "Keyword",
           1,
           "keyword"
          ],
          [
           "Keyword",
           1,
           "keyword"
          ],
          [
           "Keyword",
           1,
           "keyword"
          ],
          [
           "Keyword",
           1,
           "keyword"
          ],
          [
           "Keyword",
           1,
           "keyword"
          ],
          [
           "Keyword",
           1,
           "keyword"
          ],
          [
           "Keyword",
           1,
           "keyword"
          ],
          [
           "Keyword",
           1,
           "keyword"
          ],
          [
           "Keyword",
           1,
           "keyword"
          ],
          [
           "Keyword",
           1,
           "keyword"
          ],
          [
           "Keyword",
           1,
           "keyword"
          ],
          [
           "Detailed Category",
           10,
           "category"
          ],
          [
           "Keyword",
           1,
           "keyword"
          ],
          [
           "Keyword",
           1,
           "keyword"
          ],
          [
           "Keyword",
           1,
           "keyword"
          ],
          [
           "Keyword",
           1,
           "keyword"
          ],
          [
           "Keyword",
           1,
           "keyword"
          ],
          [
           "Keyword",
           1,
           "keyword"
          ],
          [
           "Keyword",
           1,
           "keyword"
          ],
          [
           "Keyword",
           1,
           "keyword"
          ],
          [
           "Keyword",
           1,
           "keyword"
          ],
          [
           "Keyword",
           1,
           "keyword"
          ],
          [
           "Detailed Category",
           10,
           "category"
          ],
          [
           "Keyword",
           1,
           "keyword"
          ],
          [
           "Keyword",
           1,
           "keyword"
          ],
          [
           "Keyword",
           1,
           "keyword"
          ],
          [
           "Keyword",
           1,
           "keyword"
          ],
          [
           "Keyword",
           1,
           "keyword"
          ],
          [
           "Keyword",
           1,
           "keyword"
          ],
          [
           "Keyword",
           1,
           "keyword"
          ],
          [
           "Keyword",
           1,
           "keyword"
          ],
          [
           "Keyword",
           1,
           "keyword"
          ],
          [
           "Keyword",
           1,
           "keyword"
          ],
          [
           "Detailed Category",
           10,
           "category"
          ],
          [
           "Keyword",
           1,
           "keyword"
          ],
          [
           "Keyword",
           1,
           "keyword"
          ],
          [
           "Keyword",
           1,
           "keyword"
          ],
          [
           "Keyword",
           1,
           "keyword"
          ],
          [
           "Keyword",
           1,
           "keyword"
          ],
          [
           "Keyword",
           1,
           "keyword"
          ],
          [
           "Keyword",
           1,
           "keyword"
          ],
          [
           "Keyword",
           1,
           "keyword"
          ],
          [
           "Keyword",
           1,
           "keyword"
          ],
          [
           "Keyword",
           1,
           "keyword"
          ],
          [
           "Detailed Category",
           10,
           "category"
          ],
          [
           "Keyword",
           1,
           "keyword"
          ],
          [
           "Keyword",
           1,
           "keyword"
          ],
          [
           "Keyword",
           1,
           "keyword"
          ],
          [
           "Keyword",
           1,
           "keyword"
          ],
          [
           "Keyword",
           1,
           "keyword"
          ],
          [
           "Keyword",
           1,
           "keyword"
          ],
          [
           "Keyword",
           1,
           "keyword"
          ],
          [
           "Keyword",
           1,
           "keyword"
          ],
          [
           "Keyword",
           1,
           "keyword"
          ],
          [
           "Keyword",
           1,
           "keyword"
          ],
          [
           "Detailed Category",
           10,
           "category"
          ],
          [
           "Keyword",
           1,
           "keyword"
          ],
          [
           "Keyword",
           1,
           "keyword"
          ],
          [
           "Keyword",
           1,
           "keyword"
          ],
          [
           "Keyword",
           1,
           "keyword"
          ],
          [
           "Keyword",
           1,
           "keyword"
          ],
          [
           "Keyword",
           1,
           "keyword"
          ],
          [
           "Keyword",
           1,
           "keyword"
          ],
          [
           "Keyword",
           1,
           "keyword"
          ],
          [
           "Keyword",
           1,
           "keyword"
          ],
          [
           "Keyword",
           1,
           "keyword"
          ],
          [
           "Detailed Category",
           10,
           "category"
          ],
          [
           "Keyword",
           1,
           "keyword"
          ],
          [
           "Keyword",
           1,
           "keyword"
          ],
          [
           "Keyword",
           1,
           "keyword"
          ],
          [
           "Keyword",
           1,
           "keyword"
          ],
          [
           "Keyword",
           1,
           "keyword"
          ],
          [
           "Keyword",
           1,
           "keyword"
          ],
          [
           "Keyword",
           1,
           "keyword"
          ],
          [
           "Keyword",
           1,
           "keyword"
          ],
          [
           "Keyword",
           1,
           "keyword"
          ],
          [
           "Keyword",
           1,
           "keyword"
          ],
          [
           "Detailed Category",
           10,
           "category"
          ],
          [
           "Keyword",
           1,
           "keyword"
          ],
          [
           "Keyword",
           1,
           "keyword"
          ],
          [
           "Keyword",
           1,
           "keyword"
          ],
          [
           "Keyword",
           1,
           "keyword"
          ],
          [
           "Keyword",
           1,
           "keyword"
          ],
          [
           "Keyword",
           1,
           "keyword"
          ],
          [
           "Keyword",
           1,
           "keyword"
          ],
          [
           "Keyword",
           1,
           "keyword"
          ],
          [
           "Keyword",
           1,
           "keyword"
          ],
          [
           "Keyword",
           1,
           "keyword"
          ],
          [
           "Detailed Category",
           10,
           "category"
          ],
          [
           "Keyword",
           1,
           "keyword"
          ],
          [
           "Keyword",
           1,
           "keyword"
          ],
          [
           "Keyword",
           1,
           "keyword"
          ],
          [
           "Keyword",
           1,
           "keyword"
          ],
          [
           "Keyword",
           1,
           "keyword"
          ],
          [
           "Keyword",
           1,
           "keyword"
          ],
          [
           "Keyword",
           1,
           "keyword"
          ],
          [
           "Keyword",
           1,
           "keyword"
          ],
          [
           "Keyword",
           1,
           "keyword"
          ],
          [
           "Keyword",
           1,
           "keyword"
          ],
          [
           "Detailed Category",
           10,
           "category"
          ],
          [
           "Keyword",
           1,
           "keyword"
          ],
          [
           "Keyword",
           1,
           "keyword"
          ],
          [
           "Keyword",
           1,
           "keyword"
          ],
          [
           "Keyword",
           1,
           "keyword"
          ],
          [
           "Keyword",
           1,
           "keyword"
          ],
          [
           "Keyword",
           1,
           "keyword"
          ],
          [
           "Keyword",
           1,
           "keyword"
          ],
          [
           "Keyword",
           1,
           "keyword"
          ],
          [
           "Keyword",
           1,
           "keyword"
          ],
          [
           "Keyword",
           1,
           "keyword"
          ],
          [
           "Detailed Category",
           10,
           "category"
          ],
          [
           "Keyword",
           1,
           "keyword"
          ],
          [
           "Keyword",
           1,
           "keyword"
          ],
          [
           "Keyword",
           1,
           "keyword"
          ],
          [
           "Keyword",
           1,
           "keyword"
          ],
          [
           "Keyword",
           1,
           "keyword"
          ],
          [
           "Keyword",
           1,
           "keyword"
          ],
          [
           "Keyword",
           1,
           "keyword"
          ],
          [
           "Keyword",
           1,
           "keyword"
          ],
          [
           "Keyword",
           1,
           "keyword"
          ],
          [
           "Keyword",
           1,
           "keyword"
          ],
          [
           "Strategic Domain",
           127,
           "domain"
          ],
          [
           "Detailed Category",
           12,
           "category"
          ],
          [
           "Keyword",
           1,
           "keyword"
          ],
          [
           "Keyword",
           1,
           "keyword"
          ],
          [
           "Keyword",
           1,
           "keyword"
          ],
          [
           "Keyword",
           1,
           "keyword"
          ],
          [
           "Keyword",
           1,
           "keyword"
          ],
          [
           "Keyword",
           1,
           "keyword"
          ],
          [
           "Keyword",
           1,
           "keyword"
          ],
          [
           "Keyword",
           1,
           "keyword"
          ],
          [
           "Keyword",
           1,
           "keyword"
          ],
          [
           "Keyword",
           1,
           "keyword"
          ],
          [
           "Keyword",
           1,
           "keyword"
          ],
          [
           "Keyword",
           1,
           "keyword"
          ],
          [
           "Detailed Category",
           15,
           "category"
          ],
          [
           "Keyword",
           1,
           "keyword"
          ],
          [
           "Keyword",
           1,
           "keyword"
          ],
          [
           "Keyword",
           1,
           "keyword"
          ],
          [
           "Keyword",
           1,
           "keyword"
          ],
          [
           "Keyword",
           1,
           "keyword"
          ],
          [
           "Keyword",
           1,
           "keyword"
          ],
          [
           "Keyword",
           1,
           "keyword"
          ],
          [
           "Keyword",
           1,
           "keyword"
          ],
          [
           "Keyword",
           1,
           "keyword"
          ],
          [
           "Keyword",
           1,
           "keyword"
          ],
          [
           "Keyword",
           1,
           "keyword"
          ],
          [
           "Keyword",
           1,
           "keyword"
          ],
          [
           "Keyword",
           1,
           "keyword"
          ],
          [
           "Keyword",
           1,
           "keyword"
          ],
          [
           "Keyword",
           1,
           "keyword"
          ],
          [
           "Detailed Category",
           10,
           "category"
          ],
          [
           "Keyword",
           1,
           "keyword"
          ],
          [
           "Keyword",
           1,
           "keyword"
          ],
          [
           "Keyword",
           1,
           "keyword"
          ],
          [
           "Keyword",
           1,
           "keyword"
          ],
          [
           "Keyword",
           1,
           "keyword"
          ],
          [
           "Keyword",
           1,
           "keyword"
          ],
          [
           "Keyword",
           1,
           "keyword"
          ],
          [
           "Keyword",
           1,
           "keyword"
          ],
          [
           "Keyword",
           1,
           "keyword"
          ],
          [
           "Keyword",
           1,
           "keyword"
          ],
          [
           "Detailed Category",
           10,
           "category"
          ],
          [
           "Keyword",
           1,
           "keyword"
          ],
          [
           "Keyword",
           1,
           "keyword"
          ],
          [
           "Keyword",
           1,
           "keyword"
          ],
          [
           "Keyword",
           1,
           "keyword"
          ],
          [
           "Keyword",
           1,
           "keyword"
          ],
          [
           "Keyword",
           1,
           "keyword"
          ],
          [
           "Keyword",
           1,
           "keyword"
          ],
          [
           "Keyword",
           1,
           "keyword"
          ],
          [
           "Keyword",
           1,
           "keyword"
          ],
          [
           "Keyword",
           1,
           "keyword"
          ],
          [
           "Detailed Category",
           10,
           "category"
          ],
          [
           "Keyword",
           1,
           "keyword"
          ],
          [
           "Keyword",
           1,
           "keyword"
          ],
          [
           "Keyword",
           1,
           "keyword"
          ],
          [
           "Keyword",
           1,
           "keyword"
          ],
          [
           "Keyword",
           1,
           "keyword"
          ],
          [
           "Keyword",
           1,
           "keyword"
          ],
          [
           "Keyword",
           1,
           "keyword"
          ],
          [
           "Keyword",
           1,
           "keyword"
          ],
          [
           "Keyword",
           1,
           "keyword"
          ],
          [
           "Keyword",
           1,
           "keyword"
          ],
          [
           "Detailed Category",
           10,
           "category"
          ],
          [
           "Keyword",
           1,
           "keyword"
          ],
          [
           "Keyword",
           1,
           "keyword"
          ],
          [
           "Keyword",
           1,
           "keyword"
          ],
          [
           "Keyword",
           1,
           "keyword"
          ],
          [
           "Keyword",
           1,
           "keyword"
          ],
          [
           "Keyword",
           1,
           "keyword"
          ],
          [
           "Keyword",
           1,
           "keyword"
          ],
          [
           "Keyword",
           1,
           "keyword"
          ],
          [
           "Keyword",
           1,
           "keyword"
          ],
          [
           "Keyword",
           1,
           "keyword"
          ],
          [
           "Detailed Category",
           10,
           "category"
          ],
          [
           "Keyword",
           1,
           "keyword"
          ],
          [
           "Keyword",
           1,
           "keyword"
          ],
          [
           "Keyword",
           1,
           "keyword"
          ],
          [
           "Keyword",
           1,
           "keyword"
          ],
          [
           "Keyword",
           1,
           "keyword"
          ],
          [
           "Keyword",
           1,
           "keyword"
          ],
          [
           "Keyword",
           1,
           "keyword"
          ],
          [
           "Keyword",
           1,
           "keyword"
          ],
          [
           "Keyword",
           1,
           "keyword"
          ],
          [
           "Keyword",
           1,
           "keyword"
          ],
          [
           "Detailed Category",
           10,
           "category"
          ],
          [
           "Keyword",
           1,
           "keyword"
          ],
          [
           "Keyword",
           1,
           "keyword"
          ],
          [
           "Keyword",
           1,
           "keyword"
          ],
          [
           "Keyword",
           1,
           "keyword"
          ],
          [
           "Keyword",
           1,
           "keyword"
          ],
          [
           "Keyword",
           1,
           "keyword"
          ],
          [
           "Keyword",
           1,
           "keyword"
          ],
          [
           "Keyword",
           1,
           "keyword"
          ],
          [
           "Keyword",
           1,
           "keyword"
          ],
          [
           "Keyword",
           1,
           "keyword"
          ],
          [
           "Detailed Category",
           10,
           "category"
          ],
          [
           "Keyword",
           1,
           "keyword"
          ],
          [
           "Keyword",
           1,
           "keyword"
          ],
          [
           "Keyword",
           1,
           "keyword"
          ],
          [
           "Keyword",
           1,
           "keyword"
          ],
          [
           "Keyword",
           1,
           "keyword"
          ],
          [
           "Keyword",
           1,
           "keyword"
          ],
          [
           "Keyword",
           1,
           "keyword"
          ],
          [
           "Keyword",
           1,
           "keyword"
          ],
          [
           "Keyword",
           1,
           "keyword"
          ],
          [
           "Keyword",
           1,
           "keyword"
          ],
          [
           "Detailed Category",
           10,
           "category"
          ],
          [
           "Keyword",
           1,
           "keyword"
          ],
          [
           "Keyword",
           1,
           "keyword"
          ],
          [
           "Keyword",
           1,
           "keyword"
          ],
          [
           "Keyword",
           1,
           "keyword"
          ],
          [
           "Keyword",
           1,
           "keyword"
          ],
          [
           "Keyword",
           1,
           "keyword"
          ],
          [
           "Keyword",
           1,
           "keyword"
          ],
          [
           "Keyword",
           1,
           "keyword"
          ],
          [
           "Keyword",
           1,
           "keyword"
          ],
          [
           "Keyword",
           1,
           "keyword"
          ],
          [
           "Detailed Category",
           1,
           "category"
          ],
          [
           "Detailed Category",
           10,
           "category"
          ],
          [
           "Keyword",
           1,
           "keyword"
          ],
          [
           "Keyword",
           1,
           "keyword"
          ],
          [
           "Keyword",
           1,
           "keyword"
          ],
          [
           "Keyword",
           1,
           "keyword"
          ],
          [
           "Keyword",
           1,
           "keyword"
          ],
          [
           "Keyword",
           1,
           "keyword"
          ],
          [
           "Keyword",
           1,
           "keyword"
          ],
          [
           "Keyword",
           1,
           "keyword"
          ],
          [
           "Keyword",
           1,
           "keyword"
          ],
          [
           "Keyword",
           1,
           "keyword"
          ],
          [
           "Detailed Category",
           10,
           "category"
          ],
          [
           "Keyword",
           1,
           "keyword"
          ],
          [
           "Keyword",
           1,
           "keyword"
          ],
          [
           "Keyword",
           1,
           "keyword"
          ],
          [
           "Keyword",
           1,
           "keyword"
          ],
          [
           "Keyword",
           1,
           "keyword"
          ],
          [
           "Keyword",
           1,
           "keyword"
          ],
          [
           "Keyword",
           1,
           "keyword"
          ],
          [
           "Keyword",
           1,
           "keyword"
          ],
          [
           "Keyword",
           1,
           "keyword"
          ],
          [
           "Keyword",
           1,
           "keyword"
          ],
          [
           "Strategic Domain",
           143,
           "domain"
          ],
          [
           "Detailed Category",
           10,
           "category"
          ],
          [
           "Keyword",
           1,
           "keyword"
          ],
          [
           "Keyword",
           1,
           "keyword"
          ],
          [
           "Keyword",
           1,
           "keyword"
          ],
          [
           "Keyword",
           1,
           "keyword"
          ],
          [
           "Keyword",
           1,
           "keyword"
          ],
          [
           "Keyword",
           1,
           "keyword"
          ],
          [
           "Keyword",
           1,
           "keyword"
          ],
          [
           "Keyword",
           1,
           "keyword"
          ],
          [
           "Keyword",
           1,
           "keyword"
          ],
          [
           "Keyword",
           1,
           "keyword"
          ],
          [
           "Detailed Category",
           10,
           "category"
          ],
          [
           "Keyword",
           1,
           "keyword"
          ],
          [
           "Keyword",
           1,
           "keyword"
          ],
          [
           "Keyword",
           1,
           "keyword"
          ],
          [
           "Keyword",
           1,
           "keyword"
          ],
          [
           "Keyword",
           1,
           "keyword"
          ],
          [
           "Keyword",
           1,
           "keyword"
          ],
          [
           "Keyword",
           1,
           "keyword"
          ],
          [
           "Keyword",
           1,
           "keyword"
          ],
          [
           "Keyword",
           1,
           "keyword"
          ],
          [
           "Keyword",
           1,
           "keyword"
          ],
          [
           "Detailed Category",
           10,
           "category"
          ],
          [
           "Keyword",
           1,
           "keyword"
          ],
          [
           "Keyword",
           1,
           "keyword"
          ],
          [
           "Keyword",
           1,
           "keyword"
          ],
          [
           "Keyword",
           1,
           "keyword"
          ],
          [
           "Keyword",
           1,
           "keyword"
          ],
          [
           "Keyword",
           1,
           "keyword"
          ],
          [
           "Keyword",
           1,
           "keyword"
          ],
          [
           "Keyword",
           1,
           "keyword"
          ],
          [
           "Keyword",
           1,
           "keyword"
          ],
          [
           "Keyword",
           1,
           "keyword"
          ],
          [
           "Detailed Category",
           10,
           "category"
          ],
          [
           "Keyword",
           1,
           "keyword"
          ],
          [
           "Keyword",
           1,
           "keyword"
          ],
          [
           "Keyword",
           1,
           "keyword"
          ],
          [
           "Keyword",
           1,
           "keyword"
          ],
          [
           "Keyword",
           1,
           "keyword"
          ],
          [
           "Keyword",
           1,
           "keyword"
          ],
          [
           "Keyword",
           1,
           "keyword"
          ],
          [
           "Keyword",
           1,
           "keyword"
          ],
          [
           "Keyword",
           1,
           "keyword"
          ],
          [
           "Keyword",
           1,
           "keyword"
          ],
          [
           "Detailed Category",
           11,
           "category"
          ],
          [
           "Keyword",
           1,
           "keyword"
          ],
          [
           "Keyword",
           1,
           "keyword"
          ],
          [
           "Keyword",
           1,
           "keyword"
          ],
          [
           "Keyword",
           1,
           "keyword"
          ],
          [
           "Keyword",
           1,
           "keyword"
          ],
          [
           "Keyword",
           1,
           "keyword"
          ],
          [
           "Keyword",
           1,
           "keyword"
          ],
          [
           "Keyword",
           1,
           "keyword"
          ],
          [
           "Keyword",
           1,
           "keyword"
          ],
          [
           "Keyword",
           1,
           "keyword"
          ],
          [
           "Keyword",
           1,
           "keyword"
          ],
          [
           "Detailed Category",
           10,
           "category"
          ],
          [
           "Keyword",
           1,
           "keyword"
          ],
          [
           "Keyword",
           1,
           "keyword"
          ],
          [
           "Keyword",
           1,
           "keyword"
          ],
          [
           "Keyword",
           1,
           "keyword"
          ],
          [
           "Keyword",
           1,
           "keyword"
          ],
          [
           "Keyword",
           1,
           "keyword"
          ],
          [
           "Keyword",
           1,
           "keyword"
          ],
          [
           "Keyword",
           1,
           "keyword"
          ],
          [
           "Keyword",
           1,
           "keyword"
          ],
          [
           "Keyword",
           1,
           "keyword"
          ],
          [
           "Detailed Category",
           10,
           "category"
          ],
          [
           "Keyword",
           1,
           "keyword"
          ],
          [
           "Keyword",
           1,
           "keyword"
          ],
          [
           "Keyword",
           1,
           "keyword"
          ],
          [
           "Keyword",
           1,
           "keyword"
          ],
          [
           "Keyword",
           1,
           "keyword"
          ],
          [
           "Keyword",
           1,
           "keyword"
          ],
          [
           "Keyword",
           1,
           "keyword"
          ],
          [
           "Keyword",
           1,
           "keyword"
          ],
          [
           "Keyword",
           1,
           "keyword"
          ],
          [
           "Keyword",
           1,
           "keyword"
          ],
          [
           "Detailed Category",
           10,
           "category"
          ],
          [
           "Keyword",
           1,
           "keyword"
          ],
          [
           "Keyword",
           1,
           "keyword"
          ],
          [
           "Keyword",
           1,
           "keyword"
          ],
          [
           "Keyword",
           1,
           "keyword"
          ],
          [
           "Keyword",
           1,
           "keyword"
          ],
          [
           "Keyword",
           1,
           "keyword"
          ],
          [
           "Keyword",
           1,
           "keyword"
          ],
          [
           "Keyword",
           1,
           "keyword"
          ],
          [
           "Keyword",
           1,
           "keyword"
          ],
          [
           "Keyword",
           1,
           "keyword"
          ],
          [
           "Detailed Category",
           10,
           "category"
          ],
          [
           "Keyword",
           1,
           "keyword"
          ],
          [
           "Keyword",
           1,
           "keyword"
          ],
          [
           "Keyword",
           1,
           "keyword"
          ],
          [
           "Keyword",
           1,
           "keyword"
          ],
          [
           "Keyword",
           1,
           "keyword"
          ],
          [
           "Keyword",
           1,
           "keyword"
          ],
          [
           "Keyword",
           1,
           "keyword"
          ],
          [
           "Keyword",
           1,
           "keyword"
          ],
          [
           "Keyword",
           1,
           "keyword"
          ],
          [
           "Keyword",
           1,
           "keyword"
          ],
          [
           "Detailed Category",
           10,
           "category"
          ],
          [
           "Keyword",
           1,
           "keyword"
          ],
          [
           "Keyword",
           1,
           "keyword"
          ],
          [
           "Keyword",
           1,
           "keyword"
          ],
          [
           "Keyword",
           1,
           "keyword"
          ],
          [
           "Keyword",
           1,
           "keyword"
          ],
          [
           "Keyword",
           1,
           "keyword"
          ],
          [
           "Keyword",
           1,
           "keyword"
          ],
          [
           "Keyword",
           1,
           "keyword"
          ],
          [
           "Keyword",
           1,
           "keyword"
          ],
          [
           "Keyword",
           1,
           "keyword"
          ],
          [
           "Detailed Category",
           11,
           "category"
          ],
          [
           "Keyword",
           1,
           "keyword"
          ],
          [
           "Keyword",
           1,
           "keyword"
          ],
          [
           "Keyword",
           1,
           "keyword"
          ],
          [
           "Keyword",
           1,
           "keyword"
          ],
          [
           "Keyword",
           1,
           "keyword"
          ],
          [
           "Keyword",
           1,
           "keyword"
          ],
          [
           "Keyword",
           1,
           "keyword"
          ],
          [
           "Keyword",
           1,
           "keyword"
          ],
          [
           "Keyword",
           1,
           "keyword"
          ],
          [
           "Keyword",
           1,
           "keyword"
          ],
          [
           "Keyword",
           1,
           "keyword"
          ],
          [
           "Detailed Category",
           10,
           "category"
          ],
          [
           "Keyword",
           1,
           "keyword"
          ],
          [
           "Keyword",
           1,
           "keyword"
          ],
          [
           "Keyword",
           1,
           "keyword"
          ],
          [
           "Keyword",
           1,
           "keyword"
          ],
          [
           "Keyword",
           1,
           "keyword"
          ],
          [
           "Keyword",
           1,
           "keyword"
          ],
          [
           "Keyword",
           1,
           "keyword"
          ],
          [
           "Keyword",
           1,
           "keyword"
          ],
          [
           "Keyword",
           1,
           "keyword"
          ],
          [
           "Keyword",
           1,
           "keyword"
          ],
          [
           "Detailed Category",
           10,
           "category"
          ],
          [
           "Keyword",
           1,
           "keyword"
          ],
          [
           "Keyword",
           1,
           "keyword"
          ],
          [
           "Keyword",
           1,
           "keyword"
          ],
          [
           "Keyword",
           1,
           "keyword"
          ],
          [
           "Keyword",
           1,
           "keyword"
          ],
          [
           "Keyword",
           1,
           "keyword"
          ],
          [
           "Keyword",
           1,
           "keyword"
          ],
          [
           "Keyword",
           1,
           "keyword"
          ],
          [
           "Keyword",
           1,
           "keyword"
          ],
          [
           "Keyword",
           1,
           "keyword"
          ],
          [
           "Detailed Category",
           11,
           "category"
          ],
          [
           "Keyword",
           1,
           "keyword"
          ],
          [
           "Keyword",
           1,
           "keyword"
          ],
          [
           "Keyword",
           1,
           "keyword"
          ],
          [
           "Keyword",
           1,
           "keyword"
          ],
          [
           "Keyword",
           1,
           "keyword"
          ],
          [
           "Keyword",
           1,
           "keyword"
          ],
          [
           "Keyword",
           1,
           "keyword"
          ],
          [
           "Keyword",
           1,
           "keyword"
          ],
          [
           "Keyword",
           1,
           "keyword"
          ],
          [
           "Keyword",
           1,
           "keyword"
          ],
          [
           "Keyword",
           1,
           "keyword"
          ],
          [
           "Strategic Domain",
           128,
           "domain"
          ],
          [
           "Detailed Category",
           13,
           "category"
          ],
          [
           "Keyword",
           1,
           "keyword"
          ],
          [
           "Keyword",
           1,
           "keyword"
          ],
          [
           "Keyword",
           1,
           "keyword"
          ],
          [
           "Keyword",
           1,
           "keyword"
          ],
          [
           "Keyword",
           1,
           "keyword"
          ],
          [
           "Keyword",
           1,
           "keyword"
          ],
          [
           "Keyword",
           1,
           "keyword"
          ],
          [
           "Keyword",
           1,
           "keyword"
          ],
          [
           "Keyword",
           1,
           "keyword"
          ],
          [
           "Keyword",
           1,
           "keyword"
          ],
          [
           "Keyword",
           1,
           "keyword"
          ],
          [
           "Keyword",
           1,
           "keyword"
          ],
          [
           "Keyword",
           1,
           "keyword"
          ],
          [
           "Detailed Category",
           11,
           "category"
          ],
          [
           "Keyword",
           1,
           "keyword"
          ],
          [
           "Keyword",
           1,
           "keyword"
          ],
          [
           "Keyword",
           1,
           "keyword"
          ],
          [
           "Keyword",
           1,
           "keyword"
          ],
          [
           "Keyword",
           1,
           "keyword"
          ],
          [
           "Keyword",
           1,
           "keyword"
          ],
          [
           "Keyword",
           1,
           "keyword"
          ],
          [
           "Keyword",
           1,
           "keyword"
          ],
          [
           "Keyword",
           1,
           "keyword"
          ],
          [
           "Keyword",
           1,
           "keyword"
          ],
          [
           "Keyword",
           1,
           "keyword"
          ],
          [
           "Detailed Category",
           10,
           "category"
          ],
          [
           "Keyword",
           1,
           "keyword"
          ],
          [
           "Keyword",
           1,
           "keyword"
          ],
          [
           "Keyword",
           1,
           "keyword"
          ],
          [
           "Keyword",
           1,
           "keyword"
          ],
          [
           "Keyword",
           1,
           "keyword"
          ],
          [
           "Keyword",
           1,
           "keyword"
          ],
          [
           "Keyword",
           1,
           "keyword"
          ],
          [
           "Keyword",
           1,
           "keyword"
          ],
          [
           "Keyword",
           1,
           "keyword"
          ],
          [
           "Keyword",
           1,
           "keyword"
          ],
          [
           "Detailed Category",
           12,
           "category"
          ],
          [
           "Keyword",
           1,
           "keyword"
          ],
          [
           "Keyword",
           1,
           "keyword"
          ],
          [
           "Keyword",
           1,
           "keyword"
          ],
          [
           "Keyword",
           1,
           "keyword"
          ],
          [
           "Keyword",
           1,
           "keyword"
          ],
          [
           "Keyword",
           1,
           "keyword"
          ],
          [
           "Keyword",
           1,
           "keyword"
          ],
          [
           "Keyword",
           1,
           "keyword"
          ],
          [
           "Keyword",
           1,
           "keyword"
          ],
          [
           "Keyword",
           1,
           "keyword"
          ],
          [
           "Keyword",
           1,
           "keyword"
          ],
          [
           "Keyword",
           1,
           "keyword"
          ],
          [
           "Detailed Category",
           13,
           "category"
          ],
          [
           "Keyword",
           1,
           "keyword"
          ],
          [
           "Keyword",
           1,
           "keyword"
          ],
          [
           "Keyword",
           1,
           "keyword"
          ],
          [
           "Keyword",
           1,
           "keyword"
          ],
          [
           "Keyword",
           1,
           "keyword"
          ],
          [
           "Keyword",
           1,
           "keyword"
          ],
          [
           "Keyword",
           1,
           "keyword"
          ],
          [
           "Keyword",
           1,
           "keyword"
          ],
          [
           "Keyword",
           1,
           "keyword"
          ],
          [
           "Keyword",
           1,
           "keyword"
          ],
          [
           "Keyword",
           1,
           "keyword"
          ],
          [
           "Keyword",
           1,
           "keyword"
          ],
          [
           "Keyword",
           1,
           "keyword"
          ],
          [
           "Detailed Category",
           10,
           "category"
          ],
          [
           "Keyword",
           1,
           "keyword"
          ],
          [
           "Keyword",
           1,
           "keyword"
          ],
          [
           "Keyword",
           1,
           "keyword"
          ],
          [
           "Keyword",
           1,
           "keyword"
          ],
          [
           "Keyword",
           1,
           "keyword"
          ],
          [
           "Keyword",
           1,
           "keyword"
          ],
          [
           "Keyword",
           1,
           "keyword"
          ],
          [
           "Keyword",
           1,
           "keyword"
          ],
          [
           "Keyword",
           1,
           "keyword"
          ],
          [
           "Keyword",
           1,
           "keyword"
          ],
          [
           "Detailed Category",
           10,
           "category"
          ],
          [
           "Keyword",
           1,
           "keyword"
          ],
          [
           "Keyword",
           1,
           "keyword"
          ],
          [
           "Keyword",
           1,
           "keyword"
          ],
          [
           "Keyword",
           1,
           "keyword"
          ],
          [
           "Keyword",
           1,
           "keyword"
          ],
          [
           "Keyword",
           1,
           "keyword"
          ],
          [
           "Keyword",
           1,
           "keyword"
          ],
          [
           "Keyword",
           1,
           "keyword"
          ],
          [
           "Keyword",
           1,
           "keyword"
          ],
          [
           "Keyword",
           1,
           "keyword"
          ],
          [
           "Detailed Category",
           10,
           "category"
          ],
          [
           "Keyword",
           1,
           "keyword"
          ],
          [
           "Keyword",
           1,
           "keyword"
          ],
          [
           "Keyword",
           1,
           "keyword"
          ],
          [
           "Keyword",
           1,
           "keyword"
          ],
          [
           "Keyword",
           1,
           "keyword"
          ],
          [
           "Keyword",
           1,
           "keyword"
          ],
          [
           "Keyword",
           1,
           "keyword"
          ],
          [
           "Keyword",
           1,
           "keyword"
          ],
          [
           "Keyword",
           1,
           "keyword"
          ],
          [
           "Keyword",
           1,
           "keyword"
          ],
          [
           "Detailed Category",
           10,
           "category"
          ],
          [
           "Keyword",
           1,
           "keyword"
          ],
          [
           "Keyword",
           1,
           "keyword"
          ],
          [
           "Keyword",
           1,
           "keyword"
          ],
          [
           "Keyword",
           1,
           "keyword"
          ],
          [
           "Keyword",
           1,
           "keyword"
          ],
          [
           "Keyword",
           1,
           "keyword"
          ],
          [
           "Keyword",
           1,
           "keyword"
          ],
          [
           "Keyword",
           1,
           "keyword"
          ],
          [
           "Keyword",
           1,
           "keyword"
          ],
          [
           "Keyword",
           1,
           "keyword"
          ],
          [
           "Detailed Category",
           10,
           "category"
          ],
          [
           "Keyword",
           1,
           "keyword"
          ],
          [
           "Keyword",
           1,
           "keyword"
          ],
          [
           "Keyword",
           1,
           "keyword"
          ],
          [
           "Keyword",
           1,
           "keyword"
          ],
          [
           "Keyword",
           1,
           "keyword"
          ],
          [
           "Keyword",
           1,
           "keyword"
          ],
          [
           "Keyword",
           1,
           "keyword"
          ],
          [
           "Keyword",
           1,
           "keyword"
          ],
          [
           "Keyword",
           1,
           "keyword"
          ],
          [
           "Keyword",
           1,
           "keyword"
          ],
          [
           "Detailed Category",
           9,
           "category"
          ],
          [
           "Keyword",
           1,
           "keyword"
          ],
          [
           "Keyword",
           1,
           "keyword"
          ],
          [
           "Keyword",
           1,
           "keyword"
          ],
          [
           "Keyword",
           1,
           "keyword"
          ],
          [
           "Keyword",
           1,
           "keyword"
          ],
          [
           "Keyword",
           1,
           "keyword"
          ],
          [
           "Keyword",
           1,
           "keyword"
          ],
          [
           "Keyword",
           1,
           "keyword"
          ],
          [
           "Keyword",
           1,
           "keyword"
          ],
          [
           "Detailed Category",
           10,
           "category"
          ],
          [
           "Keyword",
           1,
           "keyword"
          ],
          [
           "Keyword",
           1,
           "keyword"
          ],
          [
           "Keyword",
           1,
           "keyword"
          ],
          [
           "Keyword",
           1,
           "keyword"
          ],
          [
           "Keyword",
           1,
           "keyword"
          ],
          [
           "Keyword",
           1,
           "keyword"
          ],
          [
           "Keyword",
           1,
           "keyword"
          ],
          [
           "Keyword",
           1,
           "keyword"
          ],
          [
           "Keyword",
           1,
           "keyword"
          ],
          [
           "Keyword",
           1,
           "keyword"
          ],
          [
           "Strategic Domain",
           121,
           "domain"
          ],
          [
           "Detailed Category",
           18,
           "category"
          ],
          [
           "Keyword",
           1,
           "keyword"
          ],
          [
           "Keyword",
           1,
           "keyword"
          ],
          [
           "Keyword",
           1,
           "keyword"
          ],
          [
           "Keyword",
           1,
           "keyword"
          ],
          [
           "Keyword",
           1,
           "keyword"
          ],
          [
           "Keyword",
           1,
           "keyword"
          ],
          [
           "Keyword",
           1,
           "keyword"
          ],
          [
           "Keyword",
           1,
           "keyword"
          ],
          [
           "Keyword",
           1,
           "keyword"
          ],
          [
           "Keyword",
           1,
           "keyword"
          ],
          [
           "Keyword",
           1,
           "keyword"
          ],
          [
           "Keyword",
           1,
           "keyword"
          ],
          [
           "Keyword",
           1,
           "keyword"
          ],
          [
           "Keyword",
           1,
           "keyword"
          ],
          [
           "Keyword",
           1,
           "keyword"
          ],
          [
           "Keyword",
           1,
           "keyword"
          ],
          [
           "Keyword",
           1,
           "keyword"
          ],
          [
           "Keyword",
           1,
           "keyword"
          ],
          [
           "Detailed Category",
           12,
           "category"
          ],
          [
           "Keyword",
           1,
           "keyword"
          ],
          [
           "Keyword",
           1,
           "keyword"
          ],
          [
           "Keyword",
           1,
           "keyword"
          ],
          [
           "Keyword",
           1,
           "keyword"
          ],
          [
           "Keyword",
           1,
           "keyword"
          ],
          [
           "Keyword",
           1,
           "keyword"
          ],
          [
           "Keyword",
           1,
           "keyword"
          ],
          [
           "Keyword",
           1,
           "keyword"
          ],
          [
           "Keyword",
           1,
           "keyword"
          ],
          [
           "Keyword",
           1,
           "keyword"
          ],
          [
           "Keyword",
           1,
           "keyword"
          ],
          [
           "Keyword",
           1,
           "keyword"
          ],
          [
           "Detailed Category",
           10,
           "category"
          ],
          [
           "Keyword",
           1,
           "keyword"
          ],
          [
           "Keyword",
           1,
           "keyword"
          ],
          [
           "Keyword",
           1,
           "keyword"
          ],
          [
           "Keyword",
           1,
           "keyword"
          ],
          [
           "Keyword",
           1,
           "keyword"
          ],
          [
           "Keyword",
           1,
           "keyword"
          ],
          [
           "Keyword",
           1,
           "keyword"
          ],
          [
           "Keyword",
           1,
           "keyword"
          ],
          [
           "Keyword",
           1,
           "keyword"
          ],
          [
           "Keyword",
           1,
           "keyword"
          ],
          [
           "Detailed Category",
           10,
           "category"
          ],
          [
           "Keyword",
           1,
           "keyword"
          ],
          [
           "Keyword",
           1,
           "keyword"
          ],
          [
           "Keyword",
           1,
           "keyword"
          ],
          [
           "Keyword",
           1,
           "keyword"
          ],
          [
           "Keyword",
           1,
           "keyword"
          ],
          [
           "Keyword",
           1,
           "keyword"
          ],
          [
           "Keyword",
           1,
           "keyword"
          ],
          [
           "Keyword",
           1,
           "keyword"
          ],
          [
           "Keyword",
           1,
           "keyword"
          ],
          [
           "Keyword",
           1,
           "keyword"
          ],
          [
           "Detailed Category",
           10,
           "category"
          ],
          [
           "Keyword",
           1,
           "keyword"
          ],
          [
           "Keyword",
           1,
           "keyword"
          ],
          [
           "Keyword",
           1,
           "keyword"
          ],
          [
           "Keyword",
           1,
           "keyword"
          ],
          [
           "Keyword",
           1,
           "keyword"
          ],
          [
           "Keyword",
           1,
           "keyword"
          ],
          [
           "Keyword",
           1,
           "keyword"
          ],
          [
           "Keyword",
           1,
           "keyword"
          ],
          [
           "Keyword",
           1,
           "keyword"
          ],
          [
           "Keyword",
           1,
           "keyword"
          ],
          [
           "Detailed Category",
           11,
           "category"
          ],
          [
           "Keyword",
           1,
           "keyword"
          ],
          [
           "Keyword",
           1,
           "keyword"
          ],
          [
           "Keyword",
           1,
           "keyword"
          ],
          [
           "Keyword",
           1,
           "keyword"
          ],
          [
           "Keyword",
           1,
           "keyword"
          ],
          [
           "Keyword",
           1,
           "keyword"
          ],
          [
           "Keyword",
           1,
           "keyword"
          ],
          [
           "Keyword",
           1,
           "keyword"
          ],
          [
           "Keyword",
           1,
           "keyword"
          ],
          [
           "Keyword",
           1,
           "keyword"
          ],
          [
           "Keyword",
           1,
           "keyword"
          ],
          [
           "Detailed Category",
           10,
           "category"
          ],
          [
           "Keyword",
           1,
           "keyword"
          ],
          [
           "Keyword",
           1,
           "keyword"
          ],
          [
           "Keyword",
           1,
           "keyword"
          ],
          [
           "Keyword",
           1,
           "keyword"
          ],
          [
           "Keyword",
           1,
           "keyword"
          ],
          [
           "Keyword",
           1,
           "keyword"
          ],
          [
           "Keyword",
           1,
           "keyword"
          ],
          [
           "Keyword",
           1,
           "keyword"
          ],
          [
           "Keyword",
           1,
           "keyword"
          ],
          [
           "Keyword",
           1,
           "keyword"
          ],
          [
           "Detailed Category",
           10,
           "category"
          ],
          [
           "Keyword",
           1,
           "keyword"
          ],
          [
           "Keyword",
           1,
           "keyword"
          ],
          [
           "Keyword",
           1,
           "keyword"
          ],
          [
           "Keyword",
           1,
           "keyword"
          ],
          [
           "Keyword",
           1,
           "keyword"
          ],
          [
           "Keyword",
           1,
           "keyword"
          ],
          [
           "Keyword",
           1,
           "keyword"
          ],
          [
           "Keyword",
           1,
           "keyword"
          ],
          [
           "Keyword",
           1,
           "keyword"
          ],
          [
           "Keyword",
           1,
           "keyword"
          ],
          [
           "Detailed Category",
           10,
           "category"
          ],
          [
           "Keyword",
           1,
           "keyword"
          ],
          [
           "Keyword",
           1,
           "keyword"
          ],
          [
           "Keyword",
           1,
           "keyword"
          ],
          [
           "Keyword",
           1,
           "keyword"
          ],
          [
           "Keyword",
           1,
           "keyword"
          ],
          [
           "Keyword",
           1,
           "keyword"
          ],
          [
           "Keyword",
           1,
           "keyword"
          ],
          [
           "Keyword",
           1,
           "keyword"
          ],
          [
           "Keyword",
           1,
           "keyword"
          ],
          [
           "Keyword",
           1,
           "keyword"
          ],
          [
           "Detailed Category",
           10,
           "category"
          ],
          [
           "Keyword",
           1,
           "keyword"
          ],
          [
           "Keyword",
           1,
           "keyword"
          ],
          [
           "Keyword",
           1,
           "keyword"
          ],
          [
           "Keyword",
           1,
           "keyword"
          ],
          [
           "Keyword",
           1,
           "keyword"
          ],
          [
           "Keyword",
           1,
           "keyword"
          ],
          [
           "Keyword",
           1,
           "keyword"
          ],
          [
           "Keyword",
           1,
           "keyword"
          ],
          [
           "Keyword",
           1,
           "keyword"
          ],
          [
           "Keyword",
           1,
           "keyword"
          ],
          [
           "Detailed Category",
           10,
           "category"
          ],
          [
           "Keyword",
           1,
           "keyword"
          ],
          [
           "Keyword",
           1,
           "keyword"
          ],
          [
           "Keyword",
           1,
           "keyword"
          ],
          [
           "Keyword",
           1,
           "keyword"
          ],
          [
           "Keyword",
           1,
           "keyword"
          ],
          [
           "Keyword",
           1,
           "keyword"
          ],
          [
           "Keyword",
           1,
           "keyword"
          ],
          [
           "Keyword",
           1,
           "keyword"
          ],
          [
           "Keyword",
           1,
           "keyword"
          ],
          [
           "Keyword",
           1,
           "keyword"
          ],
          [
           "Strategic Domain",
           91,
           "domain"
          ],
          [
           "Detailed Category",
           11,
           "category"
          ],
          [
           "Keyword",
           1,
           "keyword"
          ],
          [
           "Keyword",
           1,
           "keyword"
          ],
          [
           "Keyword",
           1,
           "keyword"
          ],
          [
           "Keyword",
           1,
           "keyword"
          ],
          [
           "Keyword",
           1,
           "keyword"
          ],
          [
           "Keyword",
           1,
           "keyword"
          ],
          [
           "Keyword",
           1,
           "keyword"
          ],
          [
           "Keyword",
           1,
           "keyword"
          ],
          [
           "Keyword",
           1,
           "keyword"
          ],
          [
           "Keyword",
           1,
           "keyword"
          ],
          [
           "Keyword",
           1,
           "keyword"
          ],
          [
           "Detailed Category",
           10,
           "category"
          ],
          [
           "Keyword",
           1,
           "keyword"
          ],
          [
           "Keyword",
           1,
           "keyword"
          ],
          [
           "Keyword",
           1,
           "keyword"
          ],
          [
           "Keyword",
           1,
           "keyword"
          ],
          [
           "Keyword",
           1,
           "keyword"
          ],
          [
           "Keyword",
           1,
           "keyword"
          ],
          [
           "Keyword",
           1,
           "keyword"
          ],
          [
           "Keyword",
           1,
           "keyword"
          ],
          [
           "Keyword",
           1,
           "keyword"
          ],
          [
           "Keyword",
           1,
           "keyword"
          ],
          [
           "Detailed Category",
           10,
           "category"
          ],
          [
           "Keyword",
           1,
           "keyword"
          ],
          [
           "Keyword",
           1,
           "keyword"
          ],
          [
           "Keyword",
           1,
           "keyword"
          ],
          [
           "Keyword",
           1,
           "keyword"
          ],
          [
           "Keyword",
           1,
           "keyword"
          ],
          [
           "Keyword",
           1,
           "keyword"
          ],
          [
           "Keyword",
           1,
           "keyword"
          ],
          [
           "Keyword",
           1,
           "keyword"
          ],
          [
           "Keyword",
           1,
           "keyword"
          ],
          [
           "Keyword",
           1,
           "keyword"
          ],
          [
           "Detailed Category",
           10,
           "category"
          ],
          [
           "Keyword",
           1,
           "keyword"
          ],
          [
           "Keyword",
           1,
           "keyword"
          ],
          [
           "Keyword",
           1,
           "keyword"
          ],
          [
           "Keyword",
           1,
           "keyword"
          ],
          [
           "Keyword",
           1,
           "keyword"
          ],
          [
           "Keyword",
           1,
           "keyword"
          ],
          [
           "Keyword",
           1,
           "keyword"
          ],
          [
           "Keyword",
           1,
           "keyword"
          ],
          [
           "Keyword",
           1,
           "keyword"
          ],
          [
           "Keyword",
           1,
           "keyword"
          ],
          [
           "Detailed Category",
           10,
           "category"
          ],
          [
           "Keyword",
           1,
           "keyword"
          ],
          [
           "Keyword",
           1,
           "keyword"
          ],
          [
           "Keyword",
           1,
           "keyword"
          ],
          [
           "Keyword",
           1,
           "keyword"
          ],
          [
           "Keyword",
           1,
           "keyword"
          ],
          [
           "Keyword",
           1,
           "keyword"
          ],
          [
           "Keyword",
           1,
           "keyword"
          ],
          [
           "Keyword",
           1,
           "keyword"
          ],
          [
           "Keyword",
           1,
           "keyword"
          ],
          [
           "Keyword",
           1,
           "keyword"
          ],
          [
           "Detailed Category",
           10,
           "category"
          ],
          [
           "Keyword",
           1,
           "keyword"
          ],
          [
           "Keyword",
           1,
           "keyword"
          ],
          [
           "Keyword",
           1,
           "keyword"
          ],
          [
           "Keyword",
           1,
           "keyword"
          ],
          [
           "Keyword",
           1,
           "keyword"
          ],
          [
           "Keyword",
           1,
           "keyword"
          ],
          [
           "Keyword",
           1,
           "keyword"
          ],
          [
           "Keyword",
           1,
           "keyword"
          ],
          [
           "Keyword",
           1,
           "keyword"
          ],
          [
           "Keyword",
           1,
           "keyword"
          ],
          [
           "Detailed Category",
           10,
           "category"
          ],
          [
           "Keyword",
           1,
           "keyword"
          ],
          [
           "Keyword",
           1,
           "keyword"
          ],
          [
           "Keyword",
           1,
           "keyword"
          ],
          [
           "Keyword",
           1,
           "keyword"
          ],
          [
           "Keyword",
           1,
           "keyword"
          ],
          [
           "Keyword",
           1,
           "keyword"
          ],
          [
           "Keyword",
           1,
           "keyword"
          ],
          [
           "Keyword",
           1,
           "keyword"
          ],
          [
           "Keyword",
           1,
           "keyword"
          ],
          [
           "Keyword",
           1,
           "keyword"
          ],
          [
           "Detailed Category",
           10,
           "category"
          ],
          [
           "Keyword",
           1,
           "keyword"
          ],
          [
           "Keyword",
           1,
           "keyword"
          ],
          [
           "Keyword",
           1,
           "keyword"
          ],
          [
           "Keyword",
           1,
           "keyword"
          ],
          [
           "Keyword",
           1,
           "keyword"
          ],
          [
           "Keyword",
           1,
           "keyword"
          ],
          [
           "Keyword",
           1,
           "keyword"
          ],
          [
           "Keyword",
           1,
           "keyword"
          ],
          [
           "Keyword",
           1,
           "keyword"
          ],
          [
           "Keyword",
           1,
           "keyword"
          ],
          [
           "Detailed Category",
           10,
           "category"
          ],
          [
           "Keyword",
           1,
           "keyword"
          ],
          [
           "Keyword",
           1,
           "keyword"
          ],
          [
           "Keyword",
           1,
           "keyword"
          ],
          [
           "Keyword",
           1,
           "keyword"
          ],
          [
           "Keyword",
           1,
           "keyword"
          ],
          [
           "Keyword",
           1,
           "keyword"
          ],
          [
           "Keyword",
           1,
           "keyword"
          ],
          [
           "Keyword",
           1,
           "keyword"
          ],
          [
           "Keyword",
           1,
           "keyword"
          ],
          [
           "Keyword",
           1,
           "keyword"
          ],
          [
           "Strategic Domain",
           80,
           "domain"
          ],
          [
           "Detailed Category",
           10,
           "category"
          ],
          [
           "Keyword",
           1,
           "keyword"
          ],
          [
           "Keyword",
           1,
           "keyword"
          ],
          [
           "Keyword",
           1,
           "keyword"
          ],
          [
           "Keyword",
           1,
           "keyword"
          ],
          [
           "Keyword",
           1,
           "keyword"
          ],
          [
           "Keyword",
           1,
           "keyword"
          ],
          [
           "Keyword",
           1,
           "keyword"
          ],
          [
           "Keyword",
           1,
           "keyword"
          ],
          [
           "Keyword",
           1,
           "keyword"
          ],
          [
           "Keyword",
           1,
           "keyword"
          ],
          [
           "Detailed Category",
           10,
           "category"
          ],
          [
           "Keyword",
           1,
           "keyword"
          ],
          [
           "Keyword",
           1,
           "keyword"
          ],
          [
           "Keyword",
           1,
           "keyword"
          ],
          [
           "Keyword",
           1,
           "keyword"
          ],
          [
           "Keyword",
           1,
           "keyword"
          ],
          [
           "Keyword",
           1,
           "keyword"
          ],
          [
           "Keyword",
           1,
           "keyword"
          ],
          [
           "Keyword",
           1,
           "keyword"
          ],
          [
           "Keyword",
           1,
           "keyword"
          ],
          [
           "Keyword",
           1,
           "keyword"
          ],
          [
           "Detailed Category",
           10,
           "category"
          ],
          [
           "Keyword",
           1,
           "keyword"
          ],
          [
           "Keyword",
           1,
           "keyword"
          ],
          [
           "Keyword",
           1,
           "keyword"
          ],
          [
           "Keyword",
           1,
           "keyword"
          ],
          [
           "Keyword",
           1,
           "keyword"
          ],
          [
           "Keyword",
           1,
           "keyword"
          ],
          [
           "Keyword",
           1,
           "keyword"
          ],
          [
           "Keyword",
           1,
           "keyword"
          ],
          [
           "Keyword",
           1,
           "keyword"
          ],
          [
           "Keyword",
           1,
           "keyword"
          ],
          [
           "Detailed Category",
           10,
           "category"
          ],
          [
           "Keyword",
           1,
           "keyword"
          ],
          [
           "Keyword",
           1,
           "keyword"
          ],
          [
           "Keyword",
           1,
           "keyword"
          ],
          [
           "Keyword",
           1,
           "keyword"
          ],
          [
           "Keyword",
           1,
           "keyword"
          ],
          [
           "Keyword",
           1,
           "keyword"
          ],
          [
           "Keyword",
           1,
           "keyword"
          ],
          [
           "Keyword",
           1,
           "keyword"
          ],
          [
           "Keyword",
           1,
           "keyword"
          ],
          [
           "Keyword",
           1,
           "keyword"
          ],
          [
           "Detailed Category",
           10,
           "category"
          ],
          [
           "Keyword",
           1,
           "keyword"
          ],
          [
           "Keyword",
           1,
           "keyword"
          ],
          [
           "Keyword",
           1,
           "keyword"
          ],
          [
           "Keyword",
           1,
           "keyword"
          ],
          [
           "Keyword",
           1,
           "keyword"
          ],
          [
           "Keyword",
           1,
           "keyword"
          ],
          [
           "Keyword",
           1,
           "keyword"
          ],
          [
           "Keyword",
           1,
           "keyword"
          ],
          [
           "Keyword",
           1,
           "keyword"
          ],
          [
           "Keyword",
           1,
           "keyword"
          ],
          [
           "Detailed Category",
           10,
           "category"
          ],
          [
           "Keyword",
           1,
           "keyword"
          ],
          [
           "Keyword",
           1,
           "keyword"
          ],
          [
           "Keyword",
           1,
           "keyword"
          ],
          [
           "Keyword",
           1,
           "keyword"
          ],
          [
           "Keyword",
           1,
           "keyword"
          ],
          [
           "Keyword",
           1,
           "keyword"
          ],
          [
           "Keyword",
           1,
           "keyword"
          ],
          [
           "Keyword",
           1,
           "keyword"
          ],
          [
           "Keyword",
           1,
           "keyword"
          ],
          [
           "Keyword",
           1,
           "keyword"
          ],
          [
           "Detailed Category",
           10,
           "category"
          ],
          [
           "Keyword",
           1,
           "keyword"
          ],
          [
           "Keyword",
           1,
           "keyword"
          ],
          [
           "Keyword",
           1,
           "keyword"
          ],
          [
           "Keyword",
           1,
           "keyword"
          ],
          [
           "Keyword",
           1,
           "keyword"
          ],
          [
           "Keyword",
           1,
           "keyword"
          ],
          [
           "Keyword",
           1,
           "keyword"
          ],
          [
           "Keyword",
           1,
           "keyword"
          ],
          [
           "Keyword",
           1,
           "keyword"
          ],
          [
           "Keyword",
           1,
           "keyword"
          ],
          [
           "Detailed Category",
           10,
           "category"
          ],
          [
           "Keyword",
           1,
           "keyword"
          ],
          [
           "Keyword",
           1,
           "keyword"
          ],
          [
           "Keyword",
           1,
           "keyword"
          ],
          [
           "Keyword",
           1,
           "keyword"
          ],
          [
           "Keyword",
           1,
           "keyword"
          ],
          [
           "Keyword",
           1,
           "keyword"
          ],
          [
           "Keyword",
           1,
           "keyword"
          ],
          [
           "Keyword",
           1,
           "keyword"
          ],
          [
           "Keyword",
           1,
           "keyword"
          ],
          [
           "Keyword",
           1,
           "keyword"
          ],
          [
           "Strategic Domain",
           111,
           "domain"
          ],
          [
           "Detailed Category",
           11,
           "category"
          ],
          [
           "Keyword",
           1,
           "keyword"
          ],
          [
           "Keyword",
           1,
           "keyword"
          ],
          [
           "Keyword",
           1,
           "keyword"
          ],
          [
           "Keyword",
           1,
           "keyword"
          ],
          [
           "Keyword",
           1,
           "keyword"
          ],
          [
           "Keyword",
           1,
           "keyword"
          ],
          [
           "Keyword",
           1,
           "keyword"
          ],
          [
           "Keyword",
           1,
           "keyword"
          ],
          [
           "Keyword",
           1,
           "keyword"
          ],
          [
           "Keyword",
           1,
           "keyword"
          ],
          [
           "Keyword",
           1,
           "keyword"
          ],
          [
           "Detailed Category",
           10,
           "category"
          ],
          [
           "Keyword",
           1,
           "keyword"
          ],
          [
           "Keyword",
           1,
           "keyword"
          ],
          [
           "Keyword",
           1,
           "keyword"
          ],
          [
           "Keyword",
           1,
           "keyword"
          ],
          [
           "Keyword",
           1,
           "keyword"
          ],
          [
           "Keyword",
           1,
           "keyword"
          ],
          [
           "Keyword",
           1,
           "keyword"
          ],
          [
           "Keyword",
           1,
           "keyword"
          ],
          [
           "Keyword",
           1,
           "keyword"
          ],
          [
           "Keyword",
           1,
           "keyword"
          ],
          [
           "Detailed Category",
           10,
           "category"
          ],
          [
           "Keyword",
           1,
           "keyword"
          ],
          [
           "Keyword",
           1,
           "keyword"
          ],
          [
           "Keyword",
           1,
           "keyword"
          ],
          [
           "Keyword",
           1,
           "keyword"
          ],
          [
           "Keyword",
           1,
           "keyword"
          ],
          [
           "Keyword",
           1,
           "keyword"
          ],
          [
           "Keyword",
           1,
           "keyword"
          ],
          [
           "Keyword",
           1,
           "keyword"
          ],
          [
           "Keyword",
           1,
           "keyword"
          ],
          [
           "Keyword",
           1,
           "keyword"
          ],
          [
           "Detailed Category",
           10,
           "category"
          ],
          [
           "Keyword",
           1,
           "keyword"
          ],
          [
           "Keyword",
           1,
           "keyword"
          ],
          [
           "Keyword",
           1,
           "keyword"
          ],
          [
           "Keyword",
           1,
           "keyword"
          ],
          [
           "Keyword",
           1,
           "keyword"
          ],
          [
           "Keyword",
           1,
           "keyword"
          ],
          [
           "Keyword",
           1,
           "keyword"
          ],
          [
           "Keyword",
           1,
           "keyword"
          ],
          [
           "Keyword",
           1,
           "keyword"
          ],
          [
           "Keyword",
           1,
           "keyword"
          ],
          [
           "Detailed Category",
           10,
           "category"
          ],
          [
           "Keyword",
           1,
           "keyword"
          ],
          [
           "Keyword",
           1,
           "keyword"
          ],
          [
           "Keyword",
           1,
           "keyword"
          ],
          [
           "Keyword",
           1,
           "keyword"
          ],
          [
           "Keyword",
           1,
           "keyword"
          ],
          [
           "Keyword",
           1,
           "keyword"
          ],
          [
           "Keyword",
           1,
           "keyword"
          ],
          [
           "Keyword",
           1,
           "keyword"
          ],
          [
           "Keyword",
           1,
           "keyword"
          ],
          [
           "Keyword",
           1,
           "keyword"
          ],
          [
           "Detailed Category",
           10,
           "category"
          ],
          [
           "Keyword",
           1,
           "keyword"
          ],
          [
           "Keyword",
           1,
           "keyword"
          ],
          [
           "Keyword",
           1,
           "keyword"
          ],
          [
           "Keyword",
           1,
           "keyword"
          ],
          [
           "Keyword",
           1,
           "keyword"
          ],
          [
           "Keyword",
           1,
           "keyword"
          ],
          [
           "Keyword",
           1,
           "keyword"
          ],
          [
           "Keyword",
           1,
           "keyword"
          ],
          [
           "Keyword",
           1,
           "keyword"
          ],
          [
           "Keyword",
           1,
           "keyword"
          ],
          [
           "Detailed Category",
           10,
           "category"
          ],
          [
           "Keyword",
           1,
           "keyword"
          ],
          [
           "Keyword",
           1,
           "keyword"
          ],
          [
           "Keyword",
           1,
           "keyword"
          ],
          [
           "Keyword",
           1,
           "keyword"
          ],
          [
           "Keyword",
           1,
           "keyword"
          ],
          [
           "Keyword",
           1,
           "keyword"
          ],
          [
           "Keyword",
           1,
           "keyword"
          ],
          [
           "Keyword",
           1,
           "keyword"
          ],
          [
           "Keyword",
           1,
           "keyword"
          ],
          [
           "Keyword",
           1,
           "keyword"
          ],
          [
           "Detailed Category",
           10,
           "category"
          ],
          [
           "Keyword",
           1,
           "keyword"
          ],
          [
           "Keyword",
           1,
           "keyword"
          ],
          [
           "Keyword",
           1,
           "keyword"
          ],
          [
           "Keyword",
           1,
           "keyword"
          ],
          [
           "Keyword",
           1,
           "keyword"
          ],
          [
           "Keyword",
           1,
           "keyword"
          ],
          [
           "Keyword",
           1,
           "keyword"
          ],
          [
           "Keyword",
           1,
           "keyword"
          ],
          [
           "Keyword",
           1,
           "keyword"
          ],
          [
           "Keyword",
           1,
           "keyword"
          ],
          [
           "Detailed Category",
           10,
           "category"
          ],
          [
           "Keyword",
           1,
           "keyword"
          ],
          [
           "Keyword",
           1,
           "keyword"
          ],
          [
           "Keyword",
           1,
           "keyword"
          ],
          [
           "Keyword",
           1,
           "keyword"
          ],
          [
           "Keyword",
           1,
           "keyword"
          ],
          [
           "Keyword",
           1,
           "keyword"
          ],
          [
           "Keyword",
           1,
           "keyword"
          ],
          [
           "Keyword",
           1,
           "keyword"
          ],
          [
           "Keyword",
           1,
           "keyword"
          ],
          [
           "Keyword",
           1,
           "keyword"
          ],
          [
           "Detailed Category",
           10,
           "category"
          ],
          [
           "Keyword",
           1,
           "keyword"
          ],
          [
           "Keyword",
           1,
           "keyword"
          ],
          [
           "Keyword",
           1,
           "keyword"
          ],
          [
           "Keyword",
           1,
           "keyword"
          ],
          [
           "Keyword",
           1,
           "keyword"
          ],
          [
           "Keyword",
           1,
           "keyword"
          ],
          [
           "Keyword",
           1,
           "keyword"
          ],
          [
           "Keyword",
           1,
           "keyword"
          ],
          [
           "Keyword",
           1,
           "keyword"
          ],
          [
           "Keyword",
           1,
           "keyword"
          ],
          [
           "Detailed Category",
           10,
           "category"
          ],
          [
           "Keyword",
           1,
           "keyword"
          ],
          [
           "Keyword",
           1,
           "keyword"
          ],
          [
           "Keyword",
           1,
           "keyword"
          ],
          [
           "Keyword",
           1,
           "keyword"
          ],
          [
           "Keyword",
           1,
           "keyword"
          ],
          [
           "Keyword",
           1,
           "keyword"
          ],
          [
           "Keyword",
           1,
           "keyword"
          ],
          [
           "Keyword",
           1,
           "keyword"
          ],
          [
           "Keyword",
           1,
           "keyword"
          ],
          [
           "Keyword",
           1,
           "keyword"
          ],
          [
           "Strategic Domain",
           61,
           "domain"
          ],
          [
           "Detailed Category",
           10,
           "category"
          ],
          [
           "Keyword",
           1,
           "keyword"
          ],
          [
           "Keyword",
           1,
           "keyword"
          ],
          [
           "Keyword",
           1,
           "keyword"
          ],
          [
           "Keyword",
           1,
           "keyword"
          ],
          [
           "Keyword",
           1,
           "keyword"
          ],
          [
           "Keyword",
           1,
           "keyword"
          ],
          [
           "Keyword",
           1,
           "keyword"
          ],
          [
           "Keyword",
           1,
           "keyword"
          ],
          [
           "Keyword",
           1,
           "keyword"
          ],
          [
           "Keyword",
           1,
           "keyword"
          ],
          [
           "Detailed Category",
           10,
           "category"
          ],
          [
           "Keyword",
           1,
           "keyword"
          ],
          [
           "Keyword",
           1,
           "keyword"
          ],
          [
           "Keyword",
           1,
           "keyword"
          ],
          [
           "Keyword",
           1,
           "keyword"
          ],
          [
           "Keyword",
           1,
           "keyword"
          ],
          [
           "Keyword",
           1,
           "keyword"
          ],
          [
           "Keyword",
           1,
           "keyword"
          ],
          [
           "Keyword",
           1,
           "keyword"
          ],
          [
           "Keyword",
           1,
           "keyword"
          ],
          [
           "Keyword",
           1,
           "keyword"
          ],
          [
           "Detailed Category",
           11,
           "category"
          ],
          [
           "Keyword",
           1,
           "keyword"
          ],
          [
           "Keyword",
           1,
           "keyword"
          ],
          [
           "Keyword",
           1,
           "keyword"
          ],
          [
           "Keyword",
           1,
           "keyword"
          ],
          [
           "Keyword",
           1,
           "keyword"
          ],
          [
           "Keyword",
           1,
           "keyword"
          ],
          [
           "Keyword",
           1,
           "keyword"
          ],
          [
           "Keyword",
           1,
           "keyword"
          ],
          [
           "Keyword",
           1,
           "keyword"
          ],
          [
           "Keyword",
           1,
           "keyword"
          ],
          [
           "Keyword",
           1,
           "keyword"
          ],
          [
           "Detailed Category",
           10,
           "category"
          ],
          [
           "Keyword",
           1,
           "keyword"
          ],
          [
           "Keyword",
           1,
           "keyword"
          ],
          [
           "Keyword",
           1,
           "keyword"
          ],
          [
           "Keyword",
           1,
           "keyword"
          ],
          [
           "Keyword",
           1,
           "keyword"
          ],
          [
           "Keyword",
           1,
           "keyword"
          ],
          [
           "Keyword",
           1,
           "keyword"
          ],
          [
           "Keyword",
           1,
           "keyword"
          ],
          [
           "Keyword",
           1,
           "keyword"
          ],
          [
           "Keyword",
           1,
           "keyword"
          ],
          [
           "Detailed Category",
           10,
           "category"
          ],
          [
           "Keyword",
           1,
           "keyword"
          ],
          [
           "Keyword",
           1,
           "keyword"
          ],
          [
           "Keyword",
           1,
           "keyword"
          ],
          [
           "Keyword",
           1,
           "keyword"
          ],
          [
           "Keyword",
           1,
           "keyword"
          ],
          [
           "Keyword",
           1,
           "keyword"
          ],
          [
           "Keyword",
           1,
           "keyword"
          ],
          [
           "Keyword",
           1,
           "keyword"
          ],
          [
           "Keyword",
           1,
           "keyword"
          ],
          [
           "Keyword",
           1,
           "keyword"
          ],
          [
           "Detailed Category",
           10,
           "category"
          ],
          [
           "Keyword",
           1,
           "keyword"
          ],
          [
           "Keyword",
           1,
           "keyword"
          ],
          [
           "Keyword",
           1,
           "keyword"
          ],
          [
           "Keyword",
           1,
           "keyword"
          ],
          [
           "Keyword",
           1,
           "keyword"
          ],
          [
           "Keyword",
           1,
           "keyword"
          ],
          [
           "Keyword",
           1,
           "keyword"
          ],
          [
           "Keyword",
           1,
           "keyword"
          ],
          [
           "Keyword",
           1,
           "keyword"
          ],
          [
           "Keyword",
           1,
           "keyword"
          ],
          [
           "Strategic Domain",
           70,
           "domain"
          ],
          [
           "Detailed Category",
           10,
           "category"
          ],
          [
           "Keyword",
           1,
           "keyword"
          ],
          [
           "Keyword",
           1,
           "keyword"
          ],
          [
           "Keyword",
           1,
           "keyword"
          ],
          [
           "Keyword",
           1,
           "keyword"
          ],
          [
           "Keyword",
           1,
           "keyword"
          ],
          [
           "Keyword",
           1,
           "keyword"
          ],
          [
           "Keyword",
           1,
           "keyword"
          ],
          [
           "Keyword",
           1,
           "keyword"
          ],
          [
           "Keyword",
           1,
           "keyword"
          ],
          [
           "Keyword",
           1,
           "keyword"
          ],
          [
           "Detailed Category",
           10,
           "category"
          ],
          [
           "Keyword",
           1,
           "keyword"
          ],
          [
           "Keyword",
           1,
           "keyword"
          ],
          [
           "Keyword",
           1,
           "keyword"
          ],
          [
           "Keyword",
           1,
           "keyword"
          ],
          [
           "Keyword",
           1,
           "keyword"
          ],
          [
           "Keyword",
           1,
           "keyword"
          ],
          [
           "Keyword",
           1,
           "keyword"
          ],
          [
           "Keyword",
           1,
           "keyword"
          ],
          [
           "Keyword",
           1,
           "keyword"
          ],
          [
           "Keyword",
           1,
           "keyword"
          ],
          [
           "Detailed Category",
           10,
           "category"
          ],
          [
           "Keyword",
           1,
           "keyword"
          ],
          [
           "Keyword",
           1,
           "keyword"
          ],
          [
           "Keyword",
           1,
           "keyword"
          ],
          [
           "Keyword",
           1,
           "keyword"
          ],
          [
           "Keyword",
           1,
           "keyword"
          ],
          [
           "Keyword",
           1,
           "keyword"
          ],
          [
           "Keyword",
           1,
           "keyword"
          ],
          [
           "Keyword",
           1,
           "keyword"
          ],
          [
           "Keyword",
           1,
           "keyword"
          ],
          [
           "Keyword",
           1,
           "keyword"
          ],
          [
           "Detailed Category",
           10,
           "category"
          ],
          [
           "Keyword",
           1,
           "keyword"
          ],
          [
           "Keyword",
           1,
           "keyword"
          ],
          [
           "Keyword",
           1,
           "keyword"
          ],
          [
           "Keyword",
           1,
           "keyword"
          ],
          [
           "Keyword",
           1,
           "keyword"
          ],
          [
           "Keyword",
           1,
           "keyword"
          ],
          [
           "Keyword",
           1,
           "keyword"
          ],
          [
           "Keyword",
           1,
           "keyword"
          ],
          [
           "Keyword",
           1,
           "keyword"
          ],
          [
           "Keyword",
           1,
           "keyword"
          ],
          [
           "Detailed Category",
           10,
           "category"
          ],
          [
           "Keyword",
           1,
           "keyword"
          ],
          [
           "Keyword",
           1,
           "keyword"
          ],
          [
           "Keyword",
           1,
           "keyword"
          ],
          [
           "Keyword",
           1,
           "keyword"
          ],
          [
           "Keyword",
           1,
           "keyword"
          ],
          [
           "Keyword",
           1,
           "keyword"
          ],
          [
           "Keyword",
           1,
           "keyword"
          ],
          [
           "Keyword",
           1,
           "keyword"
          ],
          [
           "Keyword",
           1,
           "keyword"
          ],
          [
           "Keyword",
           1,
           "keyword"
          ],
          [
           "Detailed Category",
           10,
           "category"
          ],
          [
           "Keyword",
           1,
           "keyword"
          ],
          [
           "Keyword",
           1,
           "keyword"
          ],
          [
           "Keyword",
           1,
           "keyword"
          ],
          [
           "Keyword",
           1,
           "keyword"
          ],
          [
           "Keyword",
           1,
           "keyword"
          ],
          [
           "Keyword",
           1,
           "keyword"
          ],
          [
           "Keyword",
           1,
           "keyword"
          ],
          [
           "Keyword",
           1,
           "keyword"
          ],
          [
           "Keyword",
           1,
           "keyword"
          ],
          [
           "Keyword",
           1,
           "keyword"
          ],
          [
           "Detailed Category",
           10,
           "category"
          ],
          [
           "Keyword",
           1,
           "keyword"
          ],
          [
           "Keyword",
           1,
           "keyword"
          ],
          [
           "Keyword",
           1,
           "keyword"
          ],
          [
           "Keyword",
           1,
           "keyword"
          ],
          [
           "Keyword",
           1,
           "keyword"
          ],
          [
           "Keyword",
           1,
           "keyword"
          ],
          [
           "Keyword",
           1,
           "keyword"
          ],
          [
           "Keyword",
           1,
           "keyword"
          ],
          [
           "Keyword",
           1,
           "keyword"
          ],
          [
           "Keyword",
           1,
           "keyword"
          ],
          [
           "Strategic Domain",
           71,
           "domain"
          ],
          [
           "Detailed Category",
           10,
           "category"
          ],
          [
           "Keyword",
           1,
           "keyword"
          ],
          [
           "Keyword",
           1,
           "keyword"
          ],
          [
           "Keyword",
           1,
           "keyword"
          ],
          [
           "Keyword",
           1,
           "keyword"
          ],
          [
           "Keyword",
           1,
           "keyword"
          ],
          [
           "Keyword",
           1,
           "keyword"
          ],
          [
           "Keyword",
           1,
           "keyword"
          ],
          [
           "Keyword",
           1,
           "keyword"
          ],
          [
           "Keyword",
           1,
           "keyword"
          ],
          [
           "Keyword",
           1,
           "keyword"
          ],
          [
           "Detailed Category",
           10,
           "category"
          ],
          [
           "Keyword",
           1,
           "keyword"
          ],
          [
           "Keyword",
           1,
           "keyword"
          ],
          [
           "Keyword",
           1,
           "keyword"
          ],
          [
           "Keyword",
           1,
           "keyword"
          ],
          [
           "Keyword",
           1,
           "keyword"
          ],
          [
           "Keyword",
           1,
           "keyword"
          ],
          [
           "Keyword",
           1,
           "keyword"
          ],
          [
           "Keyword",
           1,
           "keyword"
          ],
          [
           "Keyword",
           1,
           "keyword"
          ],
          [
           "Keyword",
           1,
           "keyword"
          ],
          [
           "Detailed Category",
           10,
           "category"
          ],
          [
           "Keyword",
           1,
           "keyword"
          ],
          [
           "Keyword",
           1,
           "keyword"
          ],
          [
           "Keyword",
           1,
           "keyword"
          ],
          [
           "Keyword",
           1,
           "keyword"
          ],
          [
           "Keyword",
           1,
           "keyword"
          ],
          [
           "Keyword",
           1,
           "keyword"
          ],
          [
           "Keyword",
           1,
           "keyword"
          ],
          [
           "Keyword",
           1,
           "keyword"
          ],
          [
           "Keyword",
           1,
           "keyword"
          ],
          [
           "Keyword",
           1,
           "keyword"
          ],
          [
           "Detailed Category",
           10,
           "category"
          ],
          [
           "Keyword",
           1,
           "keyword"
          ],
          [
           "Keyword",
           1,
           "keyword"
          ],
          [
           "Keyword",
           1,
           "keyword"
          ],
          [
           "Keyword",
           1,
           "keyword"
          ],
          [
           "Keyword",
           1,
           "keyword"
          ],
          [
           "Keyword",
           1,
           "keyword"
          ],
          [
           "Keyword",
           1,
           "keyword"
          ],
          [
           "Keyword",
           1,
           "keyword"
          ],
          [
           "Keyword",
           1,
           "keyword"
          ],
          [
           "Keyword",
           1,
           "keyword"
          ],
          [
           "Detailed Category",
           11,
           "category"
          ],
          [
           "Keyword",
           1,
           "keyword"
          ],
          [
           "Keyword",
           1,
           "keyword"
          ],
          [
           "Keyword",
           1,
           "keyword"
          ],
          [
           "Keyword",
           1,
           "keyword"
          ],
          [
           "Keyword",
           1,
           "keyword"
          ],
          [
           "Keyword",
           1,
           "keyword"
          ],
          [
           "Keyword",
           1,
           "keyword"
          ],
          [
           "Keyword",
           1,
           "keyword"
          ],
          [
           "Keyword",
           1,
           "keyword"
          ],
          [
           "Keyword",
           1,
           "keyword"
          ],
          [
           "Keyword",
           1,
           "keyword"
          ],
          [
           "Detailed Category",
           10,
           "category"
          ],
          [
           "Keyword",
           1,
           "keyword"
          ],
          [
           "Keyword",
           1,
           "keyword"
          ],
          [
           "Keyword",
           1,
           "keyword"
          ],
          [
           "Keyword",
           1,
           "keyword"
          ],
          [
           "Keyword",
           1,
           "keyword"
          ],
          [
           "Keyword",
           1,
           "keyword"
          ],
          [
           "Keyword",
           1,
           "keyword"
          ],
          [
           "Keyword",
           1,
           "keyword"
          ],
          [
           "Keyword",
           1,
           "keyword"
          ],
          [
           "Keyword",
           1,
           "keyword"
          ],
          [
           "Detailed Category",
           10,
           "category"
          ],
          [
           "Keyword",
           1,
           "keyword"
          ],
          [
           "Keyword",
           1,
           "keyword"
          ],
          [
           "Keyword",
           1,
           "keyword"
          ],
          [
           "Keyword",
           1,
           "keyword"
          ],
          [
           "Keyword",
           1,
           "keyword"
          ],
          [
           "Keyword",
           1,
           "keyword"
          ],
          [
           "Keyword",
           1,
           "keyword"
          ],
          [
           "Keyword",
           1,
           "keyword"
          ],
          [
           "Keyword",
           1,
           "keyword"
          ],
          [
           "Keyword",
           1,
           "keyword"
          ],
          [
           "Strategic Domain",
           73,
           "domain"
          ],
          [
           "Detailed Category",
           10,
           "category"
          ],
          [
           "Keyword",
           1,
           "keyword"
          ],
          [
           "Keyword",
           1,
           "keyword"
          ],
          [
           "Keyword",
           1,
           "keyword"
          ],
          [
           "Keyword",
           1,
           "keyword"
          ],
          [
           "Keyword",
           1,
           "keyword"
          ],
          [
           "Keyword",
           1,
           "keyword"
          ],
          [
           "Keyword",
           1,
           "keyword"
          ],
          [
           "Keyword",
           1,
           "keyword"
          ],
          [
           "Keyword",
           1,
           "keyword"
          ],
          [
           "Keyword",
           1,
           "keyword"
          ],
          [
           "Detailed Category",
           10,
           "category"
          ],
          [
           "Keyword",
           1,
           "keyword"
          ],
          [
           "Keyword",
           1,
           "keyword"
          ],
          [
           "Keyword",
           1,
           "keyword"
          ],
          [
           "Keyword",
           1,
           "keyword"
          ],
          [
           "Keyword",
           1,
           "keyword"
          ],
          [
           "Keyword",
           1,
           "keyword"
          ],
          [
           "Keyword",
           1,
           "keyword"
          ],
          [
           "Keyword",
           1,
           "keyword"
          ],
          [
           "Keyword",
           1,
           "keyword"
          ],
          [
           "Keyword",
           1,
           "keyword"
          ],
          [
           "Detailed Category",
           10,
           "category"
          ],
          [
           "Keyword",
           1,
           "keyword"
          ],
          [
           "Keyword",
           1,
           "keyword"
          ],
          [
           "Keyword",
           1,
           "keyword"
          ],
          [
           "Keyword",
           1,
           "keyword"
          ],
          [
           "Keyword",
           1,
           "keyword"
          ],
          [
           "Keyword",
           1,
           "keyword"
          ],
          [
           "Keyword",
           1,
           "keyword"
          ],
          [
           "Keyword",
           1,
           "keyword"
          ],
          [
           "Keyword",
           1,
           "keyword"
          ],
          [
           "Keyword",
           1,
           "keyword"
          ],
          [
           "Detailed Category",
           10,
           "category"
          ],
          [
           "Keyword",
           1,
           "keyword"
          ],
          [
           "Keyword",
           1,
           "keyword"
          ],
          [
           "Keyword",
           1,
           "keyword"
          ],
          [
           "Keyword",
           1,
           "keyword"
          ],
          [
           "Keyword",
           1,
           "keyword"
          ],
          [
           "Keyword",
           1,
           "keyword"
          ],
          [
           "Keyword",
           1,
           "keyword"
          ],
          [
           "Keyword",
           1,
           "keyword"
          ],
          [
           "Keyword",
           1,
           "keyword"
          ],
          [
           "Keyword",
           1,
           "keyword"
          ],
          [
           "Detailed Category",
           13,
           "category"
          ],
          [
           "Keyword",
           1,
           "keyword"
          ],
          [
           "Keyword",
           1,
           "keyword"
          ],
          [
           "Keyword",
           1,
           "keyword"
          ],
          [
           "Keyword",
           1,
           "keyword"
          ],
          [
           "Keyword",
           1,
           "keyword"
          ],
          [
           "Keyword",
           1,
           "keyword"
          ],
          [
           "Keyword",
           1,
           "keyword"
          ],
          [
           "Keyword",
           1,
           "keyword"
          ],
          [
           "Keyword",
           1,
           "keyword"
          ],
          [
           "Keyword",
           1,
           "keyword"
          ],
          [
           "Keyword",
           1,
           "keyword"
          ],
          [
           "Keyword",
           1,
           "keyword"
          ],
          [
           "Keyword",
           1,
           "keyword"
          ],
          [
           "Detailed Category",
           10,
           "category"
          ],
          [
           "Keyword",
           1,
           "keyword"
          ],
          [
           "Keyword",
           1,
           "keyword"
          ],
          [
           "Keyword",
           1,
           "keyword"
          ],
          [
           "Keyword",
           1,
           "keyword"
          ],
          [
           "Keyword",
           1,
           "keyword"
          ],
          [
           "Keyword",
           1,
           "keyword"
          ],
          [
           "Keyword",
           1,
           "keyword"
          ],
          [
           "Keyword",
           1,
           "keyword"
          ],
          [
           "Keyword",
           1,
           "keyword"
          ],
          [
           "Keyword",
           1,
           "keyword"
          ],
          [
           "Detailed Category",
           10,
           "category"
          ],
          [
           "Keyword",
           1,
           "keyword"
          ],
          [
           "Keyword",
           1,
           "keyword"
          ],
          [
           "Keyword",
           1,
           "keyword"
          ],
          [
           "Keyword",
           1,
           "keyword"
          ],
          [
           "Keyword",
           1,
           "keyword"
          ],
          [
           "Keyword",
           1,
           "keyword"
          ],
          [
           "Keyword",
           1,
           "keyword"
          ],
          [
           "Keyword",
           1,
           "keyword"
          ],
          [
           "Keyword",
           1,
           "keyword"
          ],
          [
           "Keyword",
           1,
           "keyword"
          ],
          [
           "Strategic Domain",
           69,
           "domain"
          ],
          [
           "Detailed Category",
           10,
           "category"
          ],
          [
           "Keyword",
           1,
           "keyword"
          ],
          [
           "Keyword",
           1,
           "keyword"
          ],
          [
           "Keyword",
           1,
           "keyword"
          ],
          [
           "Keyword",
           1,
           "keyword"
          ],
          [
           "Keyword",
           1,
           "keyword"
          ],
          [
           "Keyword",
           1,
           "keyword"
          ],
          [
           "Keyword",
           1,
           "keyword"
          ],
          [
           "Keyword",
           1,
           "keyword"
          ],
          [
           "Keyword",
           1,
           "keyword"
          ],
          [
           "Keyword",
           1,
           "keyword"
          ],
          [
           "Detailed Category",
           10,
           "category"
          ],
          [
           "Keyword",
           1,
           "keyword"
          ],
          [
           "Keyword",
           1,
           "keyword"
          ],
          [
           "Keyword",
           1,
           "keyword"
          ],
          [
           "Keyword",
           1,
           "keyword"
          ],
          [
           "Keyword",
           1,
           "keyword"
          ],
          [
           "Keyword",
           1,
           "keyword"
          ],
          [
           "Keyword",
           1,
           "keyword"
          ],
          [
           "Keyword",
           1,
           "keyword"
          ],
          [
           "Keyword",
           1,
           "keyword"
          ],
          [
           "Keyword",
           1,
           "keyword"
          ],
          [
           "Detailed Category",
           10,
           "category"
          ],
          [
           "Keyword",
           1,
           "keyword"
          ],
          [
           "Keyword",
           1,
           "keyword"
          ],
          [
           "Keyword",
           1,
           "keyword"
          ],
          [
           "Keyword",
           1,
           "keyword"
          ],
          [
           "Keyword",
           1,
           "keyword"
          ],
          [
           "Keyword",
           1,
           "keyword"
          ],
          [
           "Keyword",
           1,
           "keyword"
          ],
          [
           "Keyword",
           1,
           "keyword"
          ],
          [
           "Keyword",
           1,
           "keyword"
          ],
          [
           "Keyword",
           1,
           "keyword"
          ],
          [
           "Detailed Category",
           10,
           "category"
          ],
          [
           "Keyword",
           1,
           "keyword"
          ],
          [
           "Keyword",
           1,
           "keyword"
          ],
          [
           "Keyword",
           1,
           "keyword"
          ],
          [
           "Keyword",
           1,
           "keyword"
          ],
          [
           "Keyword",
           1,
           "keyword"
          ],
          [
           "Keyword",
           1,
           "keyword"
          ],
          [
           "Keyword",
           1,
           "keyword"
          ],
          [
           "Keyword",
           1,
           "keyword"
          ],
          [
           "Keyword",
           1,
           "keyword"
          ],
          [
           "Keyword",
           1,
           "keyword"
          ],
          [
           "Detailed Category",
           10,
           "category"
          ],
          [
           "Keyword",
           1,
           "keyword"
          ],
          [
           "Keyword",
           1,
           "keyword"
          ],
          [
           "Keyword",
           1,
           "keyword"
          ],
          [
           "Keyword",
           1,
           "keyword"
          ],
          [
           "Keyword",
           1,
           "keyword"
          ],
          [
           "Keyword",
           1,
           "keyword"
          ],
          [
           "Keyword",
           1,
           "keyword"
          ],
          [
           "Keyword",
           1,
           "keyword"
          ],
          [
           "Keyword",
           1,
           "keyword"
          ],
          [
           "Keyword",
           1,
           "keyword"
          ],
          [
           "Detailed Category",
           9,
           "category"
          ],
          [
           "Keyword",
           1,
           "keyword"
          ],
          [
           "Keyword",
           1,
           "keyword"
          ],
          [
           "Keyword",
           1,
           "keyword"
          ],
          [
           "Keyword",
           1,
           "keyword"
          ],
          [
           "Keyword",
           1,
           "keyword"
          ],
          [
           "Keyword",
           1,
           "keyword"
          ],
          [
           "Keyword",
           1,
           "keyword"
          ],
          [
           "Keyword",
           1,
           "keyword"
          ],
          [
           "Keyword",
           1,
           "keyword"
          ],
          [
           "Detailed Category",
           10,
           "category"
          ],
          [
           "Keyword",
           1,
           "keyword"
          ],
          [
           "Keyword",
           1,
           "keyword"
          ],
          [
           "Keyword",
           1,
           "keyword"
          ],
          [
           "Keyword",
           1,
           "keyword"
          ],
          [
           "Keyword",
           1,
           "keyword"
          ],
          [
           "Keyword",
           1,
           "keyword"
          ],
          [
           "Keyword",
           1,
           "keyword"
          ],
          [
           "Keyword",
           1,
           "keyword"
          ],
          [
           "Keyword",
           1,
           "keyword"
          ],
          [
           "Keyword",
           1,
           "keyword"
          ],
          [
           "Strategic Domain",
           60,
           "domain"
          ],
          [
           "Detailed Category",
           10,
           "category"
          ],
          [
           "Keyword",
           1,
           "keyword"
          ],
          [
           "Keyword",
           1,
           "keyword"
          ],
          [
           "Keyword",
           1,
           "keyword"
          ],
          [
           "Keyword",
           1,
           "keyword"
          ],
          [
           "Keyword",
           1,
           "keyword"
          ],
          [
           "Keyword",
           1,
           "keyword"
          ],
          [
           "Keyword",
           1,
           "keyword"
          ],
          [
           "Keyword",
           1,
           "keyword"
          ],
          [
           "Keyword",
           1,
           "keyword"
          ],
          [
           "Keyword",
           1,
           "keyword"
          ],
          [
           "Detailed Category",
           10,
           "category"
          ],
          [
           "Keyword",
           1,
           "keyword"
          ],
          [
           "Keyword",
           1,
           "keyword"
          ],
          [
           "Keyword",
           1,
           "keyword"
          ],
          [
           "Keyword",
           1,
           "keyword"
          ],
          [
           "Keyword",
           1,
           "keyword"
          ],
          [
           "Keyword",
           1,
           "keyword"
          ],
          [
           "Keyword",
           1,
           "keyword"
          ],
          [
           "Keyword",
           1,
           "keyword"
          ],
          [
           "Keyword",
           1,
           "keyword"
          ],
          [
           "Keyword",
           1,
           "keyword"
          ],
          [
           "Detailed Category",
           10,
           "category"
          ],
          [
           "Keyword",
           1,
           "keyword"
          ],
          [
           "Keyword",
           1,
           "keyword"
          ],
          [
           "Keyword",
           1,
           "keyword"
          ],
          [
           "Keyword",
           1,
           "keyword"
          ],
          [
           "Keyword",
           1,
           "keyword"
          ],
          [
           "Keyword",
           1,
           "keyword"
          ],
          [
           "Keyword",
           1,
           "keyword"
          ],
          [
           "Keyword",
           1,
           "keyword"
          ],
          [
           "Keyword",
           1,
           "keyword"
          ],
          [
           "Keyword",
           1,
           "keyword"
          ],
          [
           "Detailed Category",
           10,
           "category"
          ],
          [
           "Keyword",
           1,
           "keyword"
          ],
          [
           "Keyword",
           1,
           "keyword"
          ],
          [
           "Keyword",
           1,
           "keyword"
          ],
          [
           "Keyword",
           1,
           "keyword"
          ],
          [
           "Keyword",
           1,
           "keyword"
          ],
          [
           "Keyword",
           1,
           "keyword"
          ],
          [
           "Keyword",
           1,
           "keyword"
          ],
          [
           "Keyword",
           1,
           "keyword"
          ],
          [
           "Keyword",
           1,
           "keyword"
          ],
          [
           "Keyword",
           1,
           "keyword"
          ],
          [
           "Detailed Category",
           10,
           "category"
          ],
          [
           "Keyword",
           1,
           "keyword"
          ],
          [
           "Keyword",
           1,
           "keyword"
          ],
          [
           "Keyword",
           1,
           "keyword"
          ],
          [
           "Keyword",
           1,
           "keyword"
          ],
          [
           "Keyword",
           1,
           "keyword"
          ],
          [
           "Keyword",
           1,
           "keyword"
          ],
          [
           "Keyword",
           1,
           "keyword"
          ],
          [
           "Keyword",
           1,
           "keyword"
          ],
          [
           "Keyword",
           1,
           "keyword"
          ],
          [
           "Keyword",
           1,
           "keyword"
          ],
          [
           "Detailed Category",
           10,
           "category"
          ],
          [
           "Keyword",
           1,
           "keyword"
          ],
          [
           "Keyword",
           1,
           "keyword"
          ],
          [
           "Keyword",
           1,
           "keyword"
          ],
          [
           "Keyword",
           1,
           "keyword"
          ],
          [
           "Keyword",
           1,
           "keyword"
          ],
          [
           "Keyword",
           1,
           "keyword"
          ],
          [
           "Keyword",
           1,
           "keyword"
          ],
          [
           "Keyword",
           1,
           "keyword"
          ],
          [
           "Keyword",
           1,
           "keyword"
          ],
          [
           "Keyword",
           1,
           "keyword"
          ]
         ],
         "domain": {
          "x": [
           0,
           1
          ],
          "y": [
           0,
           1
          ]
         },
         "hovertemplate": "name=%{label}<br>value=%{customdata[1]}<br>parent=%{parent}<br>id=%{id}<br>level=%{customdata[0]}<br>item_type=%{customdata[2]}<extra></extra>",
         "ids": [
          "Climate and Environmental Systems",
          "Climate and Environmental Systems >> Climate-Related Financial Risk Assessment",
          "Climate and Environmental Systems >> Climate-Related Financial Risk Assessment >> KW: climate-related financial risk",
          "Climate and Environmental Systems >> Climate-Related Financial Risk Assessment >> KW: financial market stability",
          "Climate and Environmental Systems >> Climate-Related Financial Risk Assessment >> KW: risk prioritization",
          "Climate and Environmental Systems >> Climate-Related Financial Risk Assessment >> KW: financial cycle busts",
          "Climate and Environmental Systems >> Climate-Related Financial Risk Assessment >> KW: liquidity constraints",
          "Climate and Environmental Systems >> Climate-Related Financial Risk Assessment >> KW: financial crime detection",
          "Climate and Environmental Systems >> Climate-Related Financial Risk Assessment >> KW: financial lending models",
          "Climate and Environmental Systems >> Climate-Related Financial Risk Assessment >> KW: financial risk analysis",
          "Climate and Environmental Systems >> Climate-Related Financial Risk Assessment >> KW: climate action",
          "Climate and Environmental Systems >> Climate-Related Financial Risk Assessment >> KW: financial mathematics",
          "Climate and Environmental Systems >> Climate-Related Financial Risk Assessment >> KW: economic cycle analysis",
          "Climate and Environmental Systems >> Climate-Related Financial Risk Assessment >> KW: financial hedging",
          "Climate and Environmental Systems >> Climate-Related Financial Risk Assessment >> KW: investment opportunity identification",
          "Climate and Environmental Systems >> Climate-Related Financial Risk Assessment >> KW: liquidity risk assessment",
          "Climate and Environmental Systems >> Climate System Prediction and Long-Term Modeling",
          "Climate and Environmental Systems >> Climate System Prediction and Long-Term Modeling >> KW: climate system prediction",
          "Climate and Environmental Systems >> Climate System Prediction and Long-Term Modeling >> KW: climate scenario modeling",
          "Climate and Environmental Systems >> Climate System Prediction and Long-Term Modeling >> KW: climate change effects",
          "Climate and Environmental Systems >> Climate System Prediction and Long-Term Modeling >> KW: climate adaptation modeling",
          "Climate and Environmental Systems >> Climate System Prediction and Long-Term Modeling >> KW: climate-fire interaction models",
          "Climate and Environmental Systems >> Climate System Prediction and Long-Term Modeling >> KW: Southern Ocean climate system",
          "Climate and Environmental Systems >> Climate System Prediction and Long-Term Modeling >> KW: climate resilience",
          "Climate and Environmental Systems >> Climate System Prediction and Long-Term Modeling >> KW: climate-induced famine",
          "Climate and Environmental Systems >> Climate System Prediction and Long-Term Modeling >> KW: climate response options",
          "Climate and Environmental Systems >> Climate System Prediction and Long-Term Modeling >> KW: global climate mitigation strategies",
          "Climate and Environmental Systems >> Groundwater Contamination and Remediation",
          "Climate and Environmental Systems >> Groundwater Contamination and Remediation >> KW: groundwater contamination",
          "Climate and Environmental Systems >> Groundwater Contamination and Remediation >> KW: soil and groundwater remediation",
          "Climate and Environmental Systems >> Groundwater Contamination and Remediation >> KW: heavy metal concentration analysis",
          "Climate and Environmental Systems >> Groundwater Contamination and Remediation >> KW: pollution prevention",
          "Climate and Environmental Systems >> Groundwater Contamination and Remediation >> KW: contaminant concentration profiling",
          "Climate and Environmental Systems >> Groundwater Contamination and Remediation >> KW: environmental cleanup technologies",
          "Climate and Environmental Systems >> Groundwater Contamination and Remediation >> KW: wastewater treatment in aquaculture",
          "Climate and Environmental Systems >> Groundwater Contamination and Remediation >> KW: soil-plant interaction analysis",
          "Climate and Environmental Systems >> Groundwater Contamination and Remediation >> KW: hydrogeology",
          "Climate and Environmental Systems >> Groundwater Contamination and Remediation >> KW: remediation systems",
          "Climate and Environmental Systems >> Lake Condition Trends and Ecosystem Monitoring",
          "Climate and Environmental Systems >> Lake Condition Trends and Ecosystem Monitoring >> KW: lake condition trends",
          "Climate and Environmental Systems >> Lake Condition Trends and Ecosystem Monitoring >> KW: ecosystem function modeling",
          "Climate and Environmental Systems >> Lake Condition Trends and Ecosystem Monitoring >> KW: marine ecosystem degradation",
          "Climate and Environmental Systems >> Lake Condition Trends and Ecosystem Monitoring >> KW: biodiversity protection",
          "Climate and Environmental Systems >> Lake Condition Trends and Ecosystem Monitoring >> KW: ecological monitoring",
          "Climate and Environmental Systems >> Lake Condition Trends and Ecosystem Monitoring >> KW: water quality",
          "Climate and Environmental Systems >> Lake Condition Trends and Ecosystem Monitoring >> KW: lake health",
          "Climate and Environmental Systems >> Lake Condition Trends and Ecosystem Monitoring >> KW: ecosystem preservation",
          "Climate and Environmental Systems >> Lake Condition Trends and Ecosystem Monitoring >> KW: environmental change",
          "Climate and Environmental Systems >> Lake Condition Trends and Ecosystem Monitoring >> KW: aquatic biomonitoring",
          "Climate and Environmental Systems >> Global Biogeochemical Cycles and Earth System Science",
          "Climate and Environmental Systems >> Global Biogeochemical Cycles and Earth System Science >> KW: global biogeochemical cycles",
          "Climate and Environmental Systems >> Global Biogeochemical Cycles and Earth System Science >> KW: carbon and nitrogen cycles",
          "Climate and Environmental Systems >> Global Biogeochemical Cycles and Earth System Science >> KW: nutrient cycling",
          "Climate and Environmental Systems >> Global Biogeochemical Cycles and Earth System Science >> KW: global carbon cycling",
          "Climate and Environmental Systems >> Global Biogeochemical Cycles and Earth System Science >> KW: ecosystem function",
          "Climate and Environmental Systems >> Global Biogeochemical Cycles and Earth System Science >> KW: biogeochemical analysis",
          "Climate and Environmental Systems >> Global Biogeochemical Cycles and Earth System Science >> KW: elemental mobility",
          "Climate and Environmental Systems >> Global Biogeochemical Cycles and Earth System Science >> KW: soil-plant interaction",
          "Climate and Environmental Systems >> Global Biogeochemical Cycles and Earth System Science >> KW: environmental chemistry",
          "Climate and Environmental Systems >> Global Biogeochemical Cycles and Earth System Science >> KW: elemental cycles",
          "Climate and Environmental Systems >> Drought-Resistant Crops and Agricultural Resilience",
          "Climate and Environmental Systems >> Drought-Resistant Crops and Agricultural Resilience >> KW: drought-resistant crops",
          "Climate and Environmental Systems >> Drought-Resistant Crops and Agricultural Resilience >> KW: crop yield maximisation",
          "Climate and Environmental Systems >> Drought-Resistant Crops and Agricultural Resilience >> KW: plant adaptation",
          "Climate and Environmental Systems >> Drought-Resistant Crops and Agricultural Resilience >> KW: agricultural resilience",
          "Climate and Environmental Systems >> Drought-Resistant Crops and Agricultural Resilience >> KW: water-limited conditions",
          "Climate and Environmental Systems >> Drought-Resistant Crops and Agricultural Resilience >> KW: soil moisture mapping",
          "Climate and Environmental Systems >> Drought-Resistant Crops and Agricultural Resilience >> KW: enhanced photosynthetic efficiency",
          "Climate and Environmental Systems >> Drought-Resistant Crops and Agricultural Resilience >> KW: plant physiological responses",
          "Climate and Environmental Systems >> Drought-Resistant Crops and Agricultural Resilience >> KW: agricultural microbiology",
          "Climate and Environmental Systems >> Drought-Resistant Crops and Agricultural Resilience >> KW: sustainable farming practices",
          "Climate and Environmental Systems >> CO2 Capture and Carbon Management",
          "Climate and Environmental Systems >> CO2 Capture and Carbon Management >> KW: CO2 capture",
          "Climate and Environmental Systems >> CO2 Capture and Carbon Management >> KW: carbon capture assessment",
          "Climate and Environmental Systems >> CO2 Capture and Carbon Management >> KW: carbon sequestration",
          "Climate and Environmental Systems >> CO2 Capture and Carbon Management >> KW: carbon-neutral services",
          "Climate and Environmental Systems >> CO2 Capture and Carbon Management >> KW: carbon-positive buildings",
          "Climate and Environmental Systems >> CO2 Capture and Carbon Management >> KW: carbon-emitting fossil fuel utilization",
          "Climate and Environmental Systems >> CO2 Capture and Carbon Management >> KW: renewable ammonia production",
          "Climate and Environmental Systems >> CO2 Capture and Carbon Management >> KW: carbon storage in crops",
          "Climate and Environmental Systems >> CO2 Capture and Carbon Management >> KW: carbon-negative technologies",
          "Climate and Environmental Systems >> CO2 Capture and Carbon Management >> KW: carbon cycle management",
          "Climate and Environmental Systems >> Rapid CO2 Conversion and Carbon Utilization",
          "Climate and Environmental Systems >> Rapid CO2 Conversion and Carbon Utilization >> KW: rapid CO2 conversion",
          "Climate and Environmental Systems >> Rapid CO2 Conversion and Carbon Utilization >> KW: CO2 conversion to biofuels",
          "Climate and Environmental Systems >> Rapid CO2 Conversion and Carbon Utilization >> KW: carbon utilization",
          "Climate and Environmental Systems >> Rapid CO2 Conversion and Carbon Utilization >> KW: carbon-negative technologies",
          "Climate and Environmental Systems >> Rapid CO2 Conversion and Carbon Utilization >> KW: carbon capture and use",
          "Climate and Environmental Systems >> Rapid CO2 Conversion and Carbon Utilization >> KW: carbon-to-fuel conversion",
          "Climate and Environmental Systems >> Rapid CO2 Conversion and Carbon Utilization >> KW: carbon recycling",
          "Climate and Environmental Systems >> Rapid CO2 Conversion and Carbon Utilization >> KW: catalytic conversion",
          "Climate and Environmental Systems >> Rapid CO2 Conversion and Carbon Utilization >> KW: carbon utilization",
          "Climate and Environmental Systems >> Rapid CO2 Conversion and Carbon Utilization >> KW: CO2 transformation",
          "Climate and Environmental Systems >> Fossil Site Survey and Paleoenvironmental Reconstruction",
          "Climate and Environmental Systems >> Fossil Site Survey and Paleoenvironmental Reconstruction >> KW: fossil site survey",
          "Climate and Environmental Systems >> Fossil Site Survey and Paleoenvironmental Reconstruction >> KW: palaeoecological data",
          "Climate and Environmental Systems >> Fossil Site Survey and Paleoenvironmental Reconstruction >> KW: paleoenvironmental reconstruction",
          "Climate and Environmental Systems >> Fossil Site Survey and Paleoenvironmental Reconstruction >> KW: fossil deposits",
          "Climate and Environmental Systems >> Fossil Site Survey and Paleoenvironmental Reconstruction >> KW: ancient ecosystems",
          "Climate and Environmental Systems >> Fossil Site Survey and Paleoenvironmental Reconstruction >> KW: geological record",
          "Climate and Environmental Systems >> Fossil Site Survey and Paleoenvironmental Reconstruction >> KW: evolutionary history",
          "Climate and Environmental Systems >> Fossil Site Survey and Paleoenvironmental Reconstruction >> KW: paleoclimate",
          "Climate and Environmental Systems >> Fossil Site Survey and Paleoenvironmental Reconstruction >> KW: fossil record",
          "Climate and Environmental Systems >> Fossil Site Survey and Paleoenvironmental Reconstruction >> KW: prehistoric environments",
          "Climate and Environmental Systems >> Earth's Oxygenation and Atmospheric Evolution",
          "Climate and Environmental Systems >> Earth's Oxygenation and Atmospheric Evolution >> KW: Earth's oxygenation",
          "Climate and Environmental Systems >> Earth's Oxygenation and Atmospheric Evolution >> KW: atmospheric evolution",
          "Climate and Environmental Systems >> Earth's Oxygenation and Atmospheric Evolution >> KW: oxygenation events",
          "Climate and Environmental Systems >> Earth's Oxygenation and Atmospheric Evolution >> KW: oxygen cycle",
          "Climate and Environmental Systems >> Earth's Oxygenation and Atmospheric Evolution >> KW: biogeochemical cycles",
          "Climate and Environmental Systems >> Earth's Oxygenation and Atmospheric Evolution >> KW: oxygen levels",
          "Climate and Environmental Systems >> Earth's Oxygenation and Atmospheric Evolution >> KW: ancient atmosphere",
          "Climate and Environmental Systems >> Earth's Oxygenation and Atmospheric Evolution >> KW: oxygenation history",
          "Climate and Environmental Systems >> Earth's Oxygenation and Atmospheric Evolution >> KW: atmospheric chemistry",
          "Climate and Environmental Systems >> Earth's Oxygenation and Atmospheric Evolution >> KW: evolution of life",
          "Climate and Environmental Systems >> Ore-Bearing Sedimentary Rocks and Mineral Exploration",
          "Climate and Environmental Systems >> Ore-Bearing Sedimentary Rocks and Mineral Exploration >> KW: ore-bearing sedimentary rocks",
          "Climate and Environmental Systems >> Ore-Bearing Sedimentary Rocks and Mineral Exploration >> KW: mineral exploration strategy",
          "Climate and Environmental Systems >> Ore-Bearing Sedimentary Rocks and Mineral Exploration >> KW: mineralogy",
          "Climate and Environmental Systems >> Ore-Bearing Sedimentary Rocks and Mineral Exploration >> KW: mineral discovery",
          "Climate and Environmental Systems >> Ore-Bearing Sedimentary Rocks and Mineral Exploration >> KW: sedimentary rocks",
          "Climate and Environmental Systems >> Ore-Bearing Sedimentary Rocks and Mineral Exploration >> KW: geological modeling",
          "Climate and Environmental Systems >> Ore-Bearing Sedimentary Rocks and Mineral Exploration >> KW: mineral transformation",
          "Climate and Environmental Systems >> Ore-Bearing Sedimentary Rocks and Mineral Exploration >> KW: resource mapping",
          "Climate and Environmental Systems >> Ore-Bearing Sedimentary Rocks and Mineral Exploration >> KW: ore deposits",
          "Climate and Environmental Systems >> Ore-Bearing Sedimentary Rocks and Mineral Exploration >> KW: mineral identification",
          "Climate and Environmental Systems >> Taste and Odour Control in Water and Food",
          "Climate and Environmental Systems >> Taste and Odour Control in Water and Food >> KW: taste and odour control",
          "Climate and Environmental Systems >> Taste and Odour Control in Water and Food >> KW: water quality",
          "Climate and Environmental Systems >> Taste and Odour Control in Water and Food >> KW: taste profiles",
          "Climate and Environmental Systems >> Taste and Odour Control in Water and Food >> KW: odour control",
          "Climate and Environmental Systems >> Taste and Odour Control in Water and Food >> KW: environmental quality",
          "Climate and Environmental Systems >> Taste and Odour Control in Water and Food >> KW: taste analysis",
          "Climate and Environmental Systems >> Taste and Odour Control in Water and Food >> KW: food safety",
          "Climate and Environmental Systems >> Taste and Odour Control in Water and Food >> KW: taste testing",
          "Climate and Environmental Systems >> Taste and Odour Control in Water and Food >> KW: flavour replication",
          "Climate and Environmental Systems >> Taste and Odour Control in Water and Food >> KW: sensory evaluation",
          "Climate and Environmental Systems >> Australian Energy Efficiency and Sustainable Power",
          "Climate and Environmental Systems >> Australian Energy Efficiency and Sustainable Power >> KW: Australian energy efficiency",
          "Climate and Environmental Systems >> Australian Energy Efficiency and Sustainable Power >> KW: energy efficiency",
          "Climate and Environmental Systems >> Australian Energy Efficiency and Sustainable Power >> KW: renewable energy adoption",
          "Climate and Environmental Systems >> Australian Energy Efficiency and Sustainable Power >> KW: energy system reliability",
          "Climate and Environmental Systems >> Australian Energy Efficiency and Sustainable Power >> KW: sustainable energy",
          "Climate and Environmental Systems >> Australian Energy Efficiency and Sustainable Power >> KW: energy conversion",
          "Climate and Environmental Systems >> Australian Energy Efficiency and Sustainable Power >> KW: energy performance",
          "Climate and Environmental Systems >> Australian Energy Efficiency and Sustainable Power >> KW: energy policy",
          "Climate and Environmental Systems >> Australian Energy Efficiency and Sustainable Power >> KW: energy balance",
          "Climate and Environmental Systems >> Australian Energy Efficiency and Sustainable Power >> KW: clean energy",
          "Energy and Sustainable Technologies",
          "Energy and Sustainable Technologies >> Solar Cell Technology and Photovoltaic Energy Conversion",
          "Energy and Sustainable Technologies >> Solar Cell Technology and Photovoltaic Energy Conversion >> KW: solar cell technology",
          "Energy and Sustainable Technologies >> Solar Cell Technology and Photovoltaic Energy Conversion >> KW: photovoltaic energy conversion",
          "Energy and Sustainable Technologies >> Solar Cell Technology and Photovoltaic Energy Conversion >> KW: solar electricity generation",
          "Energy and Sustainable Technologies >> Solar Cell Technology and Photovoltaic Energy Conversion >> KW: solar-driven processes",
          "Energy and Sustainable Technologies >> Solar Cell Technology and Photovoltaic Energy Conversion >> KW: solar-to-fuel conversion",
          "Energy and Sustainable Technologies >> Solar Cell Technology and Photovoltaic Energy Conversion >> KW: renewable energy conversion",
          "Energy and Sustainable Technologies >> Solar Cell Technology and Photovoltaic Energy Conversion >> KW: energy harvesting",
          "Energy and Sustainable Technologies >> Solar Cell Technology and Photovoltaic Energy Conversion >> KW: solar-driven catalysis",
          "Energy and Sustainable Technologies >> Solar Cell Technology and Photovoltaic Energy Conversion >> KW: high-efficiency powertrains",
          "Energy and Sustainable Technologies >> Solar Cell Technology and Photovoltaic Energy Conversion >> KW: photovoltaic systems",
          "Energy and Sustainable Technologies >> Flexible Energy Harvesting Devices and Power Generation",
          "Energy and Sustainable Technologies >> Flexible Energy Harvesting Devices and Power Generation >> KW: flexible energy harvesting devices",
          "Energy and Sustainable Technologies >> Flexible Energy Harvesting Devices and Power Generation >> KW: energy harvesting",
          "Energy and Sustainable Technologies >> Flexible Energy Harvesting Devices and Power Generation >> KW: low-power computing",
          "Energy and Sustainable Technologies >> Flexible Energy Harvesting Devices and Power Generation >> KW: solar irradiation systems",
          "Energy and Sustainable Technologies >> Flexible Energy Harvesting Devices and Power Generation >> KW: wearable thermoelectric textiles",
          "Energy and Sustainable Technologies >> Flexible Energy Harvesting Devices and Power Generation >> KW: energy-efficient buildings",
          "Energy and Sustainable Technologies >> Flexible Energy Harvesting Devices and Power Generation >> KW: energy conversion efficiency",
          "Energy and Sustainable Technologies >> Flexible Energy Harvesting Devices and Power Generation >> KW: power management systems",
          "Energy and Sustainable Technologies >> Flexible Energy Harvesting Devices and Power Generation >> KW: ambient energy",
          "Energy and Sustainable Technologies >> Flexible Energy Harvesting Devices and Power Generation >> KW: energy-generating materials",
          "Energy and Sustainable Technologies >> Laser Additive Manufacturing and 3D Printing",
          "Energy and Sustainable Technologies >> Laser Additive Manufacturing and 3D Printing >> KW: laser additive manufacturing",
          "Energy and Sustainable Technologies >> Laser Additive Manufacturing and 3D Printing >> KW: 3D printing",
          "Energy and Sustainable Technologies >> Laser Additive Manufacturing and 3D Printing >> KW: precision cutting of metals and ceramics",
          "Energy and Sustainable Technologies >> Laser Additive Manufacturing and 3D Printing >> KW: laser ablation",
          "Energy and Sustainable Technologies >> Laser Additive Manufacturing and 3D Printing >> KW: additive manufacturing in food",
          "Energy and Sustainable Technologies >> Laser Additive Manufacturing and 3D Printing >> KW: fabrication of semiconductors",
          "Energy and Sustainable Technologies >> Laser Additive Manufacturing and 3D Printing >> KW: high-precision manufacturing",
          "Energy and Sustainable Technologies >> Laser Additive Manufacturing and 3D Printing >> KW: customised manufacturing",
          "Energy and Sustainable Technologies >> Laser Additive Manufacturing and 3D Printing >> KW: rapid prototyping",
          "Energy and Sustainable Technologies >> Laser Additive Manufacturing and 3D Printing >> KW: laser-based fabrication",
          "Energy and Sustainable Technologies >> Solid-State Metal Recycling and Circular Economy",
          "Energy and Sustainable Technologies >> Solid-State Metal Recycling and Circular Economy >> KW: solid state metal recycling",
          "Energy and Sustainable Technologies >> Solid-State Metal Recycling and Circular Economy >> KW: copper recovery",
          "Energy and Sustainable Technologies >> Solid-State Metal Recycling and Circular Economy >> KW: tyre recycling",
          "Energy and Sustainable Technologies >> Solid-State Metal Recycling and Circular Economy >> KW: plastic deterioration",
          "Energy and Sustainable Technologies >> Solid-State Metal Recycling and Circular Economy >> KW: recycling technology",
          "Energy and Sustainable Technologies >> Solid-State Metal Recycling and Circular Economy >> KW: circular economy",
          "Energy and Sustainable Technologies >> Solid-State Metal Recycling and Circular Economy >> KW: industrial waste processing",
          "Energy and Sustainable Technologies >> Solid-State Metal Recycling and Circular Economy >> KW: resource recovery",
          "Energy and Sustainable Technologies >> Solid-State Metal Recycling and Circular Economy >> KW: waste-to-resource conversion",
          "Energy and Sustainable Technologies >> Solid-State Metal Recycling and Circular Economy >> KW: industrial symbiosis",
          "Energy and Sustainable Technologies >> Solid-State Metal Recycling and Circular Economy >> KW: sustainable logistics",
          "Energy and Sustainable Technologies >> Tyre Recycling and Sustainable Materials",
          "Energy and Sustainable Technologies >> Tyre Recycling and Sustainable Materials >> KW: tyre recycling",
          "Energy and Sustainable Technologies >> Tyre Recycling and Sustainable Materials >> KW: plastic degradation",
          "Energy and Sustainable Technologies >> Tyre Recycling and Sustainable Materials >> KW: recycling technology",
          "Energy and Sustainable Technologies >> Tyre Recycling and Sustainable Materials >> KW: sustainable materials",
          "Energy and Sustainable Technologies >> Tyre Recycling and Sustainable Materials >> KW: waste-to-resource",
          "Energy and Sustainable Technologies >> Tyre Recycling and Sustainable Materials >> KW: circular economy",
          "Energy and Sustainable Technologies >> Tyre Recycling and Sustainable Materials >> KW: industrial waste processing",
          "Energy and Sustainable Technologies >> Tyre Recycling and Sustainable Materials >> KW: material recovery",
          "Energy and Sustainable Technologies >> Tyre Recycling and Sustainable Materials >> KW: sustainable manufacturing",
          "Energy and Sustainable Technologies >> Tyre Recycling and Sustainable Materials >> KW: material reuse",
          "Energy and Sustainable Technologies >> Copper Recovery and Critical Mineral Enrichment",
          "Energy and Sustainable Technologies >> Copper Recovery and Critical Mineral Enrichment >> KW: copper recovery",
          "Energy and Sustainable Technologies >> Copper Recovery and Critical Mineral Enrichment >> KW: critical mineral enrichment",
          "Energy and Sustainable Technologies >> Copper Recovery and Critical Mineral Enrichment >> KW: strategic metals",
          "Energy and Sustainable Technologies >> Copper Recovery and Critical Mineral Enrichment >> KW: mineral exploration strategy",
          "Energy and Sustainable Technologies >> Copper Recovery and Critical Mineral Enrichment >> KW: ore-bearing sedimentary rocks",
          "Energy and Sustainable Technologies >> Copper Recovery and Critical Mineral Enrichment >> KW: mining process optimization",
          "Energy and Sustainable Technologies >> Copper Recovery and Critical Mineral Enrichment >> KW: metal cycling",
          "Energy and Sustainable Technologies >> Copper Recovery and Critical Mineral Enrichment >> KW: mineral transformation",
          "Energy and Sustainable Technologies >> Copper Recovery and Critical Mineral Enrichment >> KW: critical infrastructure management",
          "Energy and Sustainable Technologies >> Copper Recovery and Critical Mineral Enrichment >> KW: industrial competitiveness",
          "Energy and Sustainable Technologies >> Fabrication of Semiconductors and Nanomaterials",
          "Energy and Sustainable Technologies >> Fabrication of Semiconductors and Nanomaterials >> KW: fabrication of semiconductors",
          "Energy and Sustainable Technologies >> Fabrication of Semiconductors and Nanomaterials >> KW: semiconductor nanomaterials",
          "Energy and Sustainable Technologies >> Fabrication of Semiconductors and Nanomaterials >> KW: silicon-based single-electron transistors",
          "Energy and Sustainable Technologies >> Fabrication of Semiconductors and Nanomaterials >> KW: CMOS-compatible fabrication",
          "Energy and Sustainable Technologies >> Fabrication of Semiconductors and Nanomaterials >> KW: nanomaterials",
          "Energy and Sustainable Technologies >> Fabrication of Semiconductors and Nanomaterials >> KW: semiconductor performance",
          "Energy and Sustainable Technologies >> Fabrication of Semiconductors and Nanomaterials >> KW: device fabrication",
          "Energy and Sustainable Technologies >> Fabrication of Semiconductors and Nanomaterials >> KW: advanced fabrication processes",
          "Energy and Sustainable Technologies >> Fabrication of Semiconductors and Nanomaterials >> KW: semiconductor-based devices",
          "Energy and Sustainable Technologies >> Fabrication of Semiconductors and Nanomaterials >> KW: thin-film displays",
          "Energy and Sustainable Technologies >> Energy Efficiency and Sustainable Power (Australian context)",
          "Energy and Sustainable Technologies >> Gas-Solids Interactions and Fluidized Bed Systems",
          "Energy and Sustainable Technologies >> Gas-Solids Interactions and Fluidized Bed Systems >> KW: gas-solids interactions",
          "Energy and Sustainable Technologies >> Gas-Solids Interactions and Fluidized Bed Systems >> KW: fluidized bed systems",
          "Energy and Sustainable Technologies >> Gas-Solids Interactions and Fluidized Bed Systems >> KW: gas-solid reactions",
          "Energy and Sustainable Technologies >> Gas-Solids Interactions and Fluidized Bed Systems >> KW: combustion dynamics",
          "Energy and Sustainable Technologies >> Gas-Solids Interactions and Fluidized Bed Systems >> KW: reaction kinetics",
          "Energy and Sustainable Technologies >> Gas-Solids Interactions and Fluidized Bed Systems >> KW: particle flow",
          "Energy and Sustainable Technologies >> Gas-Solids Interactions and Fluidized Bed Systems >> KW: fluid dynamics",
          "Energy and Sustainable Technologies >> Gas-Solids Interactions and Fluidized Bed Systems >> KW: gas-solid systems",
          "Energy and Sustainable Technologies >> Gas-Solids Interactions and Fluidized Bed Systems >> KW: thermal processes",
          "Energy and Sustainable Technologies >> Gas-Solids Interactions and Fluidized Bed Systems >> KW: reaction engineering",
          "Energy and Sustainable Technologies >> Gas-Phase Reaction Engineering and Catalysis",
          "Energy and Sustainable Technologies >> Gas-Phase Reaction Engineering and Catalysis >> KW: gas-phase reaction engineering",
          "Energy and Sustainable Technologies >> Gas-Phase Reaction Engineering and Catalysis >> KW: catalytic combustion kinetics",
          "Energy and Sustainable Technologies >> Gas-Phase Reaction Engineering and Catalysis >> KW: catalytic active centres",
          "Energy and Sustainable Technologies >> Gas-Phase Reaction Engineering and Catalysis >> KW: catalytic polymerization",
          "Energy and Sustainable Technologies >> Gas-Phase Reaction Engineering and Catalysis >> KW: catalytic active centres",
          "Energy and Sustainable Technologies >> Gas-Phase Reaction Engineering and Catalysis >> KW: catalytic conversion",
          "Energy and Sustainable Technologies >> Gas-Phase Reaction Engineering and Catalysis >> KW: catalytic active sites",
          "Energy and Sustainable Technologies >> Gas-Phase Reaction Engineering and Catalysis >> KW: catalytic properties",
          "Energy and Sustainable Technologies >> Gas-Phase Reaction Engineering and Catalysis >> KW: reaction-induced porosity development",
          "Energy and Sustainable Technologies >> Gas-Phase Reaction Engineering and Catalysis >> KW: catalytic systems",
          "Materials Science and Advanced Engineering",
          "Materials Science and Advanced Engineering >> Intelligent Polymers and Responsive Materials",
          "Materials Science and Advanced Engineering >> Intelligent Polymers and Responsive Materials >> KW: intelligent polymers",
          "Materials Science and Advanced Engineering >> Intelligent Polymers and Responsive Materials >> KW: stimuli-responsive chemistry",
          "Materials Science and Advanced Engineering >> Intelligent Polymers and Responsive Materials >> KW: light-responsive materials",
          "Materials Science and Advanced Engineering >> Intelligent Polymers and Responsive Materials >> KW: cargo-responsive polymers",
          "Materials Science and Advanced Engineering >> Intelligent Polymers and Responsive Materials >> KW: smart electronic skin",
          "Materials Science and Advanced Engineering >> Intelligent Polymers and Responsive Materials >> KW: adaptive structures",
          "Materials Science and Advanced Engineering >> Intelligent Polymers and Responsive Materials >> KW: self-healing materials",
          "Materials Science and Advanced Engineering >> Intelligent Polymers and Responsive Materials >> KW: responsive materials",
          "Materials Science and Advanced Engineering >> Intelligent Polymers and Responsive Materials >> KW: mechano-signalling",
          "Materials Science and Advanced Engineering >> Intelligent Polymers and Responsive Materials >> KW: phase change in solids",
          "Materials Science and Advanced Engineering >> Intelligent Polymers and Responsive Materials >> KW: tunable membranes",
          "Materials Science and Advanced Engineering >> Adaptive Structures and Smart Materials",
          "Materials Science and Advanced Engineering >> Adaptive Structures and Smart Materials >> KW: adaptive structures",
          "Materials Science and Advanced Engineering >> Adaptive Structures and Smart Materials >> KW: smart materials",
          "Materials Science and Advanced Engineering >> Adaptive Structures and Smart Materials >> KW: responsive materials",
          "Materials Science and Advanced Engineering >> Adaptive Structures and Smart Materials >> KW: self-adjusting systems",
          "Materials Science and Advanced Engineering >> Adaptive Structures and Smart Materials >> KW: smart structures",
          "Materials Science and Advanced Engineering >> Adaptive Structures and Smart Materials >> KW: mechano-signalling",
          "Materials Science and Advanced Engineering >> Adaptive Structures and Smart Materials >> KW: smart electronic skin",
          "Materials Science and Advanced Engineering >> Adaptive Structures and Smart Materials >> KW: dynamic reconfiguration",
          "Materials Science and Advanced Engineering >> Adaptive Structures and Smart Materials >> KW: smart systems",
          "Materials Science and Advanced Engineering >> Adaptive Structures and Smart Materials >> KW: self-optimizing materials",
          "Materials Science and Advanced Engineering >> Microstructure-Guided Alloy Design and Materials Science",
          "Materials Science and Advanced Engineering >> Microstructure-Guided Alloy Design and Materials Science >> KW: microstructure-guided alloy design",
          "Materials Science and Advanced Engineering >> Microstructure-Guided Alloy Design and Materials Science >> KW: material structure",
          "Materials Science and Advanced Engineering >> Microstructure-Guided Alloy Design and Materials Science >> KW: alloy design",
          "Materials Science and Advanced Engineering >> Microstructure-Guided Alloy Design and Materials Science >> KW: microstructure analysis",
          "Materials Science and Advanced Engineering >> Microstructure-Guided Alloy Design and Materials Science >> KW: material properties",
          "Materials Science and Advanced Engineering >> Microstructure-Guided Alloy Design and Materials Science >> KW: material optimization",
          "Materials Science and Advanced Engineering >> Microstructure-Guided Alloy Design and Materials Science >> KW: metallurgy",
          "Materials Science and Advanced Engineering >> Microstructure-Guided Alloy Design and Materials Science >> KW: material performance",
          "Materials Science and Advanced Engineering >> Microstructure-Guided Alloy Design and Materials Science >> KW: alloy development",
          "Materials Science and Advanced Engineering >> Microstructure-Guided Alloy Design and Materials Science >> KW: material characterization",
          "Materials Science and Advanced Engineering >> Phase Change in Solids and Material Transitions",
          "Materials Science and Advanced Engineering >> Phase Change in Solids and Material Transitions >> KW: phase change in solids",
          "Materials Science and Advanced Engineering >> Phase Change in Solids and Material Transitions >> KW: solidification kinetics",
          "Materials Science and Advanced Engineering >> Phase Change in Solids and Material Transitions >> KW: phase separation",
          "Materials Science and Advanced Engineering >> Phase Change in Solids and Material Transitions >> KW: material dynamics",
          "Materials Science and Advanced Engineering >> Phase Change in Solids and Material Transitions >> KW: solid-state quantum emitters",
          "Materials Science and Advanced Engineering >> Phase Change in Solids and Material Transitions >> KW: crystalline structure",
          "Materials Science and Advanced Engineering >> Phase Change in Solids and Material Transitions >> KW: solid-state materials",
          "Materials Science and Advanced Engineering >> Phase Change in Solids and Material Transitions >> KW: material transformation",
          "Materials Science and Advanced Engineering >> Phase Change in Solids and Material Transitions >> KW: thermal stability",
          "Materials Science and Advanced Engineering >> Phase Change in Solids and Material Transitions >> KW: solid-phase reactions",
          "Materials Science and Advanced Engineering >> Mantle Rock Characterization and Geophysical Modeling",
          "Materials Science and Advanced Engineering >> Mantle Rock Characterization and Geophysical Modeling >> KW: mantle rock characterization",
          "Materials Science and Advanced Engineering >> Mantle Rock Characterization and Geophysical Modeling >> KW: mantle melting",
          "Materials Science and Advanced Engineering >> Mantle Rock Characterization and Geophysical Modeling >> KW: subduction dynamics",
          "Materials Science and Advanced Engineering >> Mantle Rock Characterization and Geophysical Modeling >> KW: crustal structure analysis",
          "Materials Science and Advanced Engineering >> Mantle Rock Characterization and Geophysical Modeling >> KW: geophysical analysis",
          "Materials Science and Advanced Engineering >> Mantle Rock Characterization and Geophysical Modeling >> KW: geological modelling tools",
          "Materials Science and Advanced Engineering >> Mantle Rock Characterization and Geophysical Modeling >> KW: mantle structure",
          "Materials Science and Advanced Engineering >> Mantle Rock Characterization and Geophysical Modeling >> KW: geophysical surveys",
          "Materials Science and Advanced Engineering >> Mantle Rock Characterization and Geophysical Modeling >> KW: mantle dynamics",
          "Materials Science and Advanced Engineering >> Mantle Rock Characterization and Geophysical Modeling >> KW: earth structures stability",
          "Materials Science and Advanced Engineering >> Interferometric Instrumentation and Precision Measurement",
          "Materials Science and Advanced Engineering >> Interferometric Instrumentation and Precision Measurement >> KW: interferometric instrumentation",
          "Materials Science and Advanced Engineering >> Interferometric Instrumentation and Precision Measurement >> KW: interferometry",
          "Materials Science and Advanced Engineering >> Interferometric Instrumentation and Precision Measurement >> KW: precision measurement",
          "Materials Science and Advanced Engineering >> Interferometric Instrumentation and Precision Measurement >> KW: high-precision detection",
          "Materials Science and Advanced Engineering >> Interferometric Instrumentation and Precision Measurement >> KW: phase measurement",
          "Materials Science and Advanced Engineering >> Interferometric Instrumentation and Precision Measurement >> KW: distance sensing",
          "Materials Science and Advanced Engineering >> Interferometric Instrumentation and Precision Measurement >> KW: optical interferometry",
          "Materials Science and Advanced Engineering >> Interferometric Instrumentation and Precision Measurement >> KW: precision metrology",
          "Materials Science and Advanced Engineering >> Interferometric Instrumentation and Precision Measurement >> KW: measurement accuracy",
          "Materials Science and Advanced Engineering >> Interferometric Instrumentation and Precision Measurement >> KW: interferometric systems",
          "Materials Science and Advanced Engineering >> Reference Material Development and Calibration",
          "Materials Science and Advanced Engineering >> Reference Material Development and Calibration >> KW: reference material development",
          "Materials Science and Advanced Engineering >> Reference Material Development and Calibration >> KW: calibration standards",
          "Materials Science and Advanced Engineering >> Reference Material Development and Calibration >> KW: analytical standards",
          "Materials Science and Advanced Engineering >> Reference Material Development and Calibration >> KW: material standardization",
          "Materials Science and Advanced Engineering >> Reference Material Development and Calibration >> KW: quality control",
          "Materials Science and Advanced Engineering >> Reference Material Development and Calibration >> KW: standard-setting bodies",
          "Materials Science and Advanced Engineering >> Reference Material Development and Calibration >> KW: measurement accuracy",
          "Materials Science and Advanced Engineering >> Reference Material Development and Calibration >> KW: analytical methods",
          "Materials Science and Advanced Engineering >> Reference Material Development and Calibration >> KW: calibration protocols",
          "Materials Science and Advanced Engineering >> Reference Material Development and Calibration >> KW: standard reference materials",
          "Materials Science and Advanced Engineering >> Photoelectron Emission Spectroscopy and Surface Analysis",
          "Materials Science and Advanced Engineering >> Photoelectron Emission Spectroscopy and Surface Analysis >> KW: photoelectron emission spectroscopy",
          "Materials Science and Advanced Engineering >> Photoelectron Emission Spectroscopy and Surface Analysis >> KW: surface spectroscopy",
          "Materials Science and Advanced Engineering >> Photoelectron Emission Spectroscopy and Surface Analysis >> KW: surface analysis",
          "Materials Science and Advanced Engineering >> Photoelectron Emission Spectroscopy and Surface Analysis >> KW: electronic structure",
          "Materials Science and Advanced Engineering >> Photoelectron Emission Spectroscopy and Surface Analysis >> KW: surface properties",
          "Materials Science and Advanced Engineering >> Photoelectron Emission Spectroscopy and Surface Analysis >> KW: material surface characterization",
          "Materials Science and Advanced Engineering >> Photoelectron Emission Spectroscopy and Surface Analysis >> KW: surface chemistry",
          "Materials Science and Advanced Engineering >> Photoelectron Emission Spectroscopy and Surface Analysis >> KW: surface interaction",
          "Materials Science and Advanced Engineering >> Photoelectron Emission Spectroscopy and Surface Analysis >> KW: surface modification",
          "Materials Science and Advanced Engineering >> Photoelectron Emission Spectroscopy and Surface Analysis >> KW: surface science",
          "Materials Science and Advanced Engineering >> Lab-Based Assays and Experimental Validation",
          "Materials Science and Advanced Engineering >> Lab-Based Assays and Experimental Validation >> KW: lab-based assays",
          "Materials Science and Advanced Engineering >> Lab-Based Assays and Experimental Validation >> KW: wet-lab validation",
          "Materials Science and Advanced Engineering >> Lab-Based Assays and Experimental Validation >> KW: experimental testing techniques",
          "Materials Science and Advanced Engineering >> Lab-Based Assays and Experimental Validation >> KW: lab-scale reactor systems",
          "Materials Science and Advanced Engineering >> Lab-Based Assays and Experimental Validation >> KW: experimental petrology",
          "Materials Science and Advanced Engineering >> Lab-Based Assays and Experimental Validation >> KW: in vitro protein engineering",
          "Materials Science and Advanced Engineering >> Lab-Based Assays and Experimental Validation >> KW: in vitro cell delivery studies",
          "Materials Science and Advanced Engineering >> Lab-Based Assays and Experimental Validation >> KW: experimental design",
          "Materials Science and Advanced Engineering >> Lab-Based Assays and Experimental Validation >> KW: biological testing",
          "Materials Science and Advanced Engineering >> Lab-Based Assays and Experimental Validation >> KW: validation of models",
          "Materials Science and Advanced Engineering >> Rotor Burst Safety and Mechanical Failure Analysis",
          "Materials Science and Advanced Engineering >> Rotor Burst Safety and Mechanical Failure Analysis >> KW: rotor burst safety",
          "Materials Science and Advanced Engineering >> Rotor Burst Safety and Mechanical Failure Analysis >> KW: mechanical failure",
          "Materials Science and Advanced Engineering >> Rotor Burst Safety and Mechanical Failure Analysis >> KW: rotor dynamics",
          "Materials Science and Advanced Engineering >> Rotor Burst Safety and Mechanical Failure Analysis >> KW: rotating machinery",
          "Materials Science and Advanced Engineering >> Rotor Burst Safety and Mechanical Failure Analysis >> KW: failure analysis",
          "Materials Science and Advanced Engineering >> Rotor Burst Safety and Mechanical Failure Analysis >> KW: mechanical reliability",
          "Materials Science and Advanced Engineering >> Rotor Burst Safety and Mechanical Failure Analysis >> KW: rotor stress",
          "Materials Science and Advanced Engineering >> Rotor Burst Safety and Mechanical Failure Analysis >> KW: rotor stability",
          "Materials Science and Advanced Engineering >> Rotor Burst Safety and Mechanical Failure Analysis >> KW: mechanical integrity",
          "Materials Science and Advanced Engineering >> Rotor Burst Safety and Mechanical Failure Analysis >> KW: rotor design",
          "Materials Science and Advanced Engineering >> Gas-Solids Interactions and Fluidized Bed Systems",
          "Materials Science and Advanced Engineering >> Gas-Solids Interactions and Fluidized Bed Systems >> KW: gas-solids interactions",
          "Materials Science and Advanced Engineering >> Gas-Solids Interactions and Fluidized Bed Systems >> KW: fluidized bed systems",
          "Materials Science and Advanced Engineering >> Gas-Solids Interactions and Fluidized Bed Systems >> KW: gas-solid reactions",
          "Materials Science and Advanced Engineering >> Gas-Solids Interactions and Fluidized Bed Systems >> KW: combustion dynamics",
          "Materials Science and Advanced Engineering >> Gas-Solids Interactions and Fluidized Bed Systems >> KW: reaction kinetics",
          "Materials Science and Advanced Engineering >> Gas-Solids Interactions and Fluidized Bed Systems >> KW: particle flow",
          "Materials Science and Advanced Engineering >> Gas-Solids Interactions and Fluidized Bed Systems >> KW: fluid dynamics",
          "Materials Science and Advanced Engineering >> Gas-Solids Interactions and Fluidized Bed Systems >> KW: gas-solid systems",
          "Materials Science and Advanced Engineering >> Gas-Solids Interactions and Fluidized Bed Systems >> KW: thermal processes",
          "Materials Science and Advanced Engineering >> Gas-Solids Interactions and Fluidized Bed Systems >> KW: reaction engineering",
          "Health, Medicine, and Biomedical Innovation",
          "Health, Medicine, and Biomedical Innovation >> Muscle Health in Older Adults",
          "Health, Medicine, and Biomedical Innovation >> Muscle Health in Older Adults >> KW: muscle health in older adults",
          "Health, Medicine, and Biomedical Innovation >> Muscle Health in Older Adults >> KW: exercise and ageing",
          "Health, Medicine, and Biomedical Innovation >> Muscle Health in Older Adults >> KW: controlled exercise training",
          "Health, Medicine, and Biomedical Innovation >> Muscle Health in Older Adults >> KW: muscle training methods",
          "Health, Medicine, and Biomedical Innovation >> Muscle Health in Older Adults >> KW: fitness costs and benefits",
          "Health, Medicine, and Biomedical Innovation >> Muscle Health in Older Adults >> KW: physical activity",
          "Health, Medicine, and Biomedical Innovation >> Muscle Health in Older Adults >> KW: older women",
          "Health, Medicine, and Biomedical Innovation >> Muscle Health in Older Adults >> KW: active transport",
          "Health, Medicine, and Biomedical Innovation >> Muscle Health in Older Adults >> KW: senior school science",
          "Health, Medicine, and Biomedical Innovation >> Muscle Health in Older Adults >> KW: health outcomes optimization",
          "Health, Medicine, and Biomedical Innovation >> Muscle Health in Older Adults >> KW: functional modeling of hearts",
          "Health, Medicine, and Biomedical Innovation >> Muscle Health in Older Adults >> KW: cardiovascular health",
          "Health, Medicine, and Biomedical Innovation >> Prolonged Exposure and Health Impacts",
          "Health, Medicine, and Biomedical Innovation >> Prolonged Exposure and Health Impacts >> KW: prolonged exposure",
          "Health, Medicine, and Biomedical Innovation >> Prolonged Exposure and Health Impacts >> KW: psychosocial risks",
          "Health, Medicine, and Biomedical Innovation >> Prolonged Exposure and Health Impacts >> KW: stress molecules detection",
          "Health, Medicine, and Biomedical Innovation >> Prolonged Exposure and Health Impacts >> KW: chronic pain care",
          "Health, Medicine, and Biomedical Innovation >> Prolonged Exposure and Health Impacts >> KW: mental health service design",
          "Health, Medicine, and Biomedical Innovation >> Prolonged Exposure and Health Impacts >> KW: neuro-immune system",
          "Health, Medicine, and Biomedical Innovation >> Prolonged Exposure and Health Impacts >> KW: neurological disorders",
          "Health, Medicine, and Biomedical Innovation >> Prolonged Exposure and Health Impacts >> KW: cognitive decline prediction",
          "Health, Medicine, and Biomedical Innovation >> Prolonged Exposure and Health Impacts >> KW: chronic disease care",
          "Health, Medicine, and Biomedical Innovation >> Prolonged Exposure and Health Impacts >> KW: occupational skills",
          "Health, Medicine, and Biomedical Innovation >> Prolonged Exposure and Health Impacts >> KW: occupational safety",
          "Health, Medicine, and Biomedical Innovation >> Prolonged Exposure and Health Impacts >> KW: health promotion in older adults",
          "Health, Medicine, and Biomedical Innovation >> Prolonged Exposure and Health Impacts >> KW: long-term behaviour",
          "Health, Medicine, and Biomedical Innovation >> Prolonged Exposure and Health Impacts >> KW: exposure to natural scenes",
          "Health, Medicine, and Biomedical Innovation >> Prolonged Exposure and Health Impacts >> KW: environmental health assessment",
          "Health, Medicine, and Biomedical Innovation >> Ocular Immunology and Eye Disease Mechanisms",
          "Health, Medicine, and Biomedical Innovation >> Ocular Immunology and Eye Disease Mechanisms >> KW: ocular immunology",
          "Health, Medicine, and Biomedical Innovation >> Ocular Immunology and Eye Disease Mechanisms >> KW: corneal ulcers",
          "Health, Medicine, and Biomedical Innovation >> Ocular Immunology and Eye Disease Mechanisms >> KW: retina",
          "Health, Medicine, and Biomedical Innovation >> Ocular Immunology and Eye Disease Mechanisms >> KW: immune recognition mechanisms",
          "Health, Medicine, and Biomedical Innovation >> Ocular Immunology and Eye Disease Mechanisms >> KW: neuro-immune system",
          "Health, Medicine, and Biomedical Innovation >> Ocular Immunology and Eye Disease Mechanisms >> KW: ocular surface",
          "Health, Medicine, and Biomedical Innovation >> Ocular Immunology and Eye Disease Mechanisms >> KW: immune homeostasis",
          "Health, Medicine, and Biomedical Innovation >> Ocular Immunology and Eye Disease Mechanisms >> KW: inflammation in eye",
          "Health, Medicine, and Biomedical Innovation >> Ocular Immunology and Eye Disease Mechanisms >> KW: ocular diseases",
          "Health, Medicine, and Biomedical Innovation >> Ocular Immunology and Eye Disease Mechanisms >> KW: immunological responses",
          "Health, Medicine, and Biomedical Innovation >> Thyroid Hormone Signalling and Endocrine Regulation",
          "Health, Medicine, and Biomedical Innovation >> Thyroid Hormone Signalling and Endocrine Regulation >> KW: thyroid hormone signalling",
          "Health, Medicine, and Biomedical Innovation >> Thyroid Hormone Signalling and Endocrine Regulation >> KW: endocrine regulation",
          "Health, Medicine, and Biomedical Innovation >> Thyroid Hormone Signalling and Endocrine Regulation >> KW: hormonal signaling",
          "Health, Medicine, and Biomedical Innovation >> Thyroid Hormone Signalling and Endocrine Regulation >> KW: metabolic regulation",
          "Health, Medicine, and Biomedical Innovation >> Thyroid Hormone Signalling and Endocrine Regulation >> KW: neuroendocrine function",
          "Health, Medicine, and Biomedical Innovation >> Thyroid Hormone Signalling and Endocrine Regulation >> KW: endocrine disorders",
          "Health, Medicine, and Biomedical Innovation >> Thyroid Hormone Signalling and Endocrine Regulation >> KW: hormone receptors",
          "Health, Medicine, and Biomedical Innovation >> Thyroid Hormone Signalling and Endocrine Regulation >> KW: hormonal balance",
          "Health, Medicine, and Biomedical Innovation >> Thyroid Hormone Signalling and Endocrine Regulation >> KW: endocrine system",
          "Health, Medicine, and Biomedical Innovation >> Thyroid Hormone Signalling and Endocrine Regulation >> KW: metabolic health",
          "Health, Medicine, and Biomedical Innovation >> Personalized Health Diagnostics and Precision Medicine",
          "Health, Medicine, and Biomedical Innovation >> Personalized Health Diagnostics and Precision Medicine >> KW: personalized health diagnostics",
          "Health, Medicine, and Biomedical Innovation >> Personalized Health Diagnostics and Precision Medicine >> KW: precision medicine",
          "Health, Medicine, and Biomedical Innovation >> Personalized Health Diagnostics and Precision Medicine >> KW: personalized treatment strategies",
          "Health, Medicine, and Biomedical Innovation >> Personalized Health Diagnostics and Precision Medicine >> KW: genomic profiling",
          "Health, Medicine, and Biomedical Innovation >> Personalized Health Diagnostics and Precision Medicine >> KW: personalized care",
          "Health, Medicine, and Biomedical Innovation >> Personalized Health Diagnostics and Precision Medicine >> KW: genetic testing",
          "Health, Medicine, and Biomedical Innovation >> Personalized Health Diagnostics and Precision Medicine >> KW: biomarker identification",
          "Health, Medicine, and Biomedical Innovation >> Personalized Health Diagnostics and Precision Medicine >> KW: precision health",
          "Health, Medicine, and Biomedical Innovation >> Personalized Health Diagnostics and Precision Medicine >> KW: individualized medicine",
          "Health, Medicine, and Biomedical Innovation >> Personalized Health Diagnostics and Precision Medicine >> KW: health data integration",
          "Health, Medicine, and Biomedical Innovation >> Wound Healing Simulation and Tissue Regeneration",
          "Health, Medicine, and Biomedical Innovation >> Wound Healing Simulation and Tissue Regeneration >> KW: wound healing simulation",
          "Health, Medicine, and Biomedical Innovation >> Wound Healing Simulation and Tissue Regeneration >> KW: tissue repair",
          "Health, Medicine, and Biomedical Innovation >> Wound Healing Simulation and Tissue Regeneration >> KW: tissue regeneration",
          "Health, Medicine, and Biomedical Innovation >> Wound Healing Simulation and Tissue Regeneration >> KW: regenerative medicine",
          "Health, Medicine, and Biomedical Innovation >> Wound Healing Simulation and Tissue Regeneration >> KW: cellular repair mechanisms",
          "Health, Medicine, and Biomedical Innovation >> Wound Healing Simulation and Tissue Regeneration >> KW: biological healing",
          "Health, Medicine, and Biomedical Innovation >> Wound Healing Simulation and Tissue Regeneration >> KW: wound healing",
          "Health, Medicine, and Biomedical Innovation >> Wound Healing Simulation and Tissue Regeneration >> KW: tissue engineering",
          "Health, Medicine, and Biomedical Innovation >> Wound Healing Simulation and Tissue Regeneration >> KW: healing processes",
          "Health, Medicine, and Biomedical Innovation >> Wound Healing Simulation and Tissue Regeneration >> KW: tissue dynamics",
          "Health, Medicine, and Biomedical Innovation >> Artificial Tissue Growth and Regenerative Medicine",
          "Health, Medicine, and Biomedical Innovation >> Artificial Tissue Growth and Regenerative Medicine >> KW: artificial tissue growth",
          "Health, Medicine, and Biomedical Innovation >> Artificial Tissue Growth and Regenerative Medicine >> KW: stem cell culture optimization",
          "Health, Medicine, and Biomedical Innovation >> Artificial Tissue Growth and Regenerative Medicine >> KW: 3D tissue engineering",
          "Health, Medicine, and Biomedical Innovation >> Artificial Tissue Growth and Regenerative Medicine >> KW: organoid systems",
          "Health, Medicine, and Biomedical Innovation >> Artificial Tissue Growth and Regenerative Medicine >> KW: tissue remodelling",
          "Health, Medicine, and Biomedical Innovation >> Artificial Tissue Growth and Regenerative Medicine >> KW: regenerative medicine",
          "Health, Medicine, and Biomedical Innovation >> Artificial Tissue Growth and Regenerative Medicine >> KW: biomaterials design",
          "Health, Medicine, and Biomedical Innovation >> Artificial Tissue Growth and Regenerative Medicine >> KW: cellular repair mechanisms",
          "Health, Medicine, and Biomedical Innovation >> Artificial Tissue Growth and Regenerative Medicine >> KW: tissue engineering",
          "Health, Medicine, and Biomedical Innovation >> Artificial Tissue Growth and Regenerative Medicine >> KW: bioprinting",
          "Health, Medicine, and Biomedical Innovation >> Stem Cell Culture Optimization and Regenerative Therapies",
          "Health, Medicine, and Biomedical Innovation >> Stem Cell Culture Optimization and Regenerative Therapies >> KW: stem cell culture optimization",
          "Health, Medicine, and Biomedical Innovation >> Stem Cell Culture Optimization and Regenerative Therapies >> KW: stem/progenitor cells",
          "Health, Medicine, and Biomedical Innovation >> Stem Cell Culture Optimization and Regenerative Therapies >> KW: regenerative medicine",
          "Health, Medicine, and Biomedical Innovation >> Stem Cell Culture Optimization and Regenerative Therapies >> KW: tissue engineering",
          "Health, Medicine, and Biomedical Innovation >> Stem Cell Culture Optimization and Regenerative Therapies >> KW: cellular repair mechanisms",
          "Health, Medicine, and Biomedical Innovation >> Stem Cell Culture Optimization and Regenerative Therapies >> KW: biomaterials design",
          "Health, Medicine, and Biomedical Innovation >> Stem Cell Culture Optimization and Regenerative Therapies >> KW: organoid systems",
          "Health, Medicine, and Biomedical Innovation >> Stem Cell Culture Optimization and Regenerative Therapies >> KW: stem cell therapies",
          "Health, Medicine, and Biomedical Innovation >> Stem Cell Culture Optimization and Regenerative Therapies >> KW: cellular regeneration",
          "Health, Medicine, and Biomedical Innovation >> Stem Cell Culture Optimization and Regenerative Therapies >> KW: cell differentiation",
          "Health, Medicine, and Biomedical Innovation >> Preventive Approach and Health Promotion",
          "Health, Medicine, and Biomedical Innovation >> Preventive Approach and Health Promotion >> KW: preventive approach",
          "Health, Medicine, and Biomedical Innovation >> Preventive Approach and Health Promotion >> KW: preventive health programs",
          "Health, Medicine, and Biomedical Innovation >> Preventive Approach and Health Promotion >> KW: health promotion in older adults",
          "Health, Medicine, and Biomedical Innovation >> Preventive Approach and Health Promotion >> KW: public health campaigns",
          "Health, Medicine, and Biomedical Innovation >> Preventive Approach and Health Promotion >> KW: disease prevention",
          "Health, Medicine, and Biomedical Innovation >> Preventive Approach and Health Promotion >> KW: health education",
          "Health, Medicine, and Biomedical Innovation >> Preventive Approach and Health Promotion >> KW: early detection",
          "Health, Medicine, and Biomedical Innovation >> Preventive Approach and Health Promotion >> KW: wellbeing in education",
          "Health, Medicine, and Biomedical Innovation >> Preventive Approach and Health Promotion >> KW: health outcome modeling",
          "Health, Medicine, and Biomedical Innovation >> Preventive Approach and Health Promotion >> KW: preventive policy guidelines",
          "Health, Medicine, and Biomedical Innovation >> Infectious Disease Modelling and Outbreak Response",
          "Health, Medicine, and Biomedical Innovation >> Infectious Disease Modelling and Outbreak Response >> KW: infectious disease modelling",
          "Health, Medicine, and Biomedical Innovation >> Infectious Disease Modelling and Outbreak Response >> KW: outbreak science",
          "Health, Medicine, and Biomedical Innovation >> Infectious Disease Modelling and Outbreak Response >> KW: epidemic response",
          "Health, Medicine, and Biomedical Innovation >> Infectious Disease Modelling and Outbreak Response >> KW: viral evolution",
          "Health, Medicine, and Biomedical Innovation >> Infectious Disease Modelling and Outbreak Response >> KW: pathogen genomics",
          "Health, Medicine, and Biomedical Innovation >> Infectious Disease Modelling and Outbreak Response >> KW: disease spread",
          "Health, Medicine, and Biomedical Innovation >> Infectious Disease Modelling and Outbreak Response >> KW: public health response",
          "Health, Medicine, and Biomedical Innovation >> Infectious Disease Modelling and Outbreak Response >> KW: epidemiological modelling",
          "Health, Medicine, and Biomedical Innovation >> Infectious Disease Modelling and Outbreak Response >> KW: outbreak prediction",
          "Health, Medicine, and Biomedical Innovation >> Infectious Disease Modelling and Outbreak Response >> KW: disease forecasting",
          "Health, Medicine, and Biomedical Innovation >> Health Promotion and Public Health Strategies",
          "Health, Medicine, and Biomedical Innovation >> First Nations Students and Indigenous Education",
          "Health, Medicine, and Biomedical Innovation >> First Nations Students and Indigenous Education >> KW: First Nations students",
          "Health, Medicine, and Biomedical Innovation >> First Nations Students and Indigenous Education >> KW: Indigenous students",
          "Health, Medicine, and Biomedical Innovation >> First Nations Students and Indigenous Education >> KW: Indigenous education",
          "Health, Medicine, and Biomedical Innovation >> First Nations Students and Indigenous Education >> KW: on-country learning",
          "Health, Medicine, and Biomedical Innovation >> First Nations Students and Indigenous Education >> KW: Indigenous cultural values",
          "Health, Medicine, and Biomedical Innovation >> First Nations Students and Indigenous Education >> KW: cultural knowledge transfer",
          "Health, Medicine, and Biomedical Innovation >> First Nations Students and Indigenous Education >> KW: Indigenous-led education",
          "Health, Medicine, and Biomedical Innovation >> First Nations Students and Indigenous Education >> KW: Indigenous identity",
          "Health, Medicine, and Biomedical Innovation >> First Nations Students and Indigenous Education >> KW: Indigenous research capacity",
          "Health, Medicine, and Biomedical Innovation >> First Nations Students and Indigenous Education >> KW: cultural safety",
          "Health, Medicine, and Biomedical Innovation >> Fishing as a Public Health Intervention",
          "Health, Medicine, and Biomedical Innovation >> Fishing as a Public Health Intervention >> KW: fishing as a public health intervention",
          "Health, Medicine, and Biomedical Innovation >> Fishing as a Public Health Intervention >> KW: marine food products",
          "Health, Medicine, and Biomedical Innovation >> Fishing as a Public Health Intervention >> KW: fishery health",
          "Health, Medicine, and Biomedical Innovation >> Fishing as a Public Health Intervention >> KW: nutritional benefits",
          "Health, Medicine, and Biomedical Innovation >> Fishing as a Public Health Intervention >> KW: community health",
          "Health, Medicine, and Biomedical Innovation >> Fishing as a Public Health Intervention >> KW: fishing for health",
          "Health, Medicine, and Biomedical Innovation >> Fishing as a Public Health Intervention >> KW: food security",
          "Health, Medicine, and Biomedical Innovation >> Fishing as a Public Health Intervention >> KW: fish consumption",
          "Health, Medicine, and Biomedical Innovation >> Fishing as a Public Health Intervention >> KW: public health",
          "Health, Medicine, and Biomedical Innovation >> Fishing as a Public Health Intervention >> KW: marine health",
          "Biological Systems and Life Sciences",
          "Biological Systems and Life Sciences >> Actin Dynamics and Cellular Mechanics",
          "Biological Systems and Life Sciences >> Actin Dynamics and Cellular Mechanics >> KW: actin dynamics",
          "Biological Systems and Life Sciences >> Actin Dynamics and Cellular Mechanics >> KW: cellular mechanics",
          "Biological Systems and Life Sciences >> Actin Dynamics and Cellular Mechanics >> KW: cellular structure",
          "Biological Systems and Life Sciences >> Actin Dynamics and Cellular Mechanics >> KW: subcellular transport",
          "Biological Systems and Life Sciences >> Actin Dynamics and Cellular Mechanics >> KW: mechanosensing",
          "Biological Systems and Life Sciences >> Actin Dynamics and Cellular Mechanics >> KW: cell shape adaptation",
          "Biological Systems and Life Sciences >> Actin Dynamics and Cellular Mechanics >> KW: cellular movement",
          "Biological Systems and Life Sciences >> Actin Dynamics and Cellular Mechanics >> KW: cytoskeleton dynamics",
          "Biological Systems and Life Sciences >> Actin Dynamics and Cellular Mechanics >> KW: cellular signaling",
          "Biological Systems and Life Sciences >> Actin Dynamics and Cellular Mechanics >> KW: cellular microenvironment",
          "Biological Systems and Life Sciences >> Chemical Biology of Mitochondria and Metabolism",
          "Biological Systems and Life Sciences >> Chemical Biology of Mitochondria and Metabolism >> KW: chemical biology of mitochondria",
          "Biological Systems and Life Sciences >> Chemical Biology of Mitochondria and Metabolism >> KW: mitochondrial function",
          "Biological Systems and Life Sciences >> Chemical Biology of Mitochondria and Metabolism >> KW: mitochondrial respiration",
          "Biological Systems and Life Sciences >> Chemical Biology of Mitochondria and Metabolism >> KW: metabolite regulation",
          "Biological Systems and Life Sciences >> Chemical Biology of Mitochondria and Metabolism >> KW: cellular metabolism",
          "Biological Systems and Life Sciences >> Chemical Biology of Mitochondria and Metabolism >> KW: oxidative stress monitoring",
          "Biological Systems and Life Sciences >> Chemical Biology of Mitochondria and Metabolism >> KW: mitochondrial dynamics",
          "Biological Systems and Life Sciences >> Chemical Biology of Mitochondria and Metabolism >> KW: metabolic pathway optimization",
          "Biological Systems and Life Sciences >> Chemical Biology of Mitochondria and Metabolism >> KW: bioenergetics",
          "Biological Systems and Life Sciences >> Chemical Biology of Mitochondria and Metabolism >> KW: mitochondrial dysfunction",
          "Biological Systems and Life Sciences >> Cell Network Engineering and Biological Systems",
          "Biological Systems and Life Sciences >> Cell Network Engineering and Biological Systems >> KW: cell network engineering",
          "Biological Systems and Life Sciences >> Cell Network Engineering and Biological Systems >> KW: cellular signaling pathway analysis",
          "Biological Systems and Life Sciences >> Cell Network Engineering and Biological Systems >> KW: cellular communication",
          "Biological Systems and Life Sciences >> Cell Network Engineering and Biological Systems >> KW: cellular metabolism",
          "Biological Systems and Life Sciences >> Cell Network Engineering and Biological Systems >> KW: biological network mapping",
          "Biological Systems and Life Sciences >> Cell Network Engineering and Biological Systems >> KW: cellular activation assays",
          "Biological Systems and Life Sciences >> Cell Network Engineering and Biological Systems >> KW: cell-cell interaction",
          "Biological Systems and Life Sciences >> Cell Network Engineering and Biological Systems >> KW: biological systems engineering",
          "Biological Systems and Life Sciences >> Cell Network Engineering and Biological Systems >> KW: cellular systems",
          "Biological Systems and Life Sciences >> Cell Network Engineering and Biological Systems >> KW: network dynamics",
          "Biological Systems and Life Sciences >> Genetic Intervention Design and Gene Editing",
          "Biological Systems and Life Sciences >> Genetic Intervention Design and Gene Editing >> KW: genetic intervention design",
          "Biological Systems and Life Sciences >> Genetic Intervention Design and Gene Editing >> KW: CRISPR-Cas13a",
          "Biological Systems and Life Sciences >> Genetic Intervention Design and Gene Editing >> KW: gene editing technologies",
          "Biological Systems and Life Sciences >> Genetic Intervention Design and Gene Editing >> KW: gene regulatory network modeling",
          "Biological Systems and Life Sciences >> Genetic Intervention Design and Gene Editing >> KW: gene therapy",
          "Biological Systems and Life Sciences >> Genetic Intervention Design and Gene Editing >> KW: genetic engineering",
          "Biological Systems and Life Sciences >> Genetic Intervention Design and Gene Editing >> KW: genetic modification",
          "Biological Systems and Life Sciences >> Genetic Intervention Design and Gene Editing >> KW: precision gene editing",
          "Biological Systems and Life Sciences >> Genetic Intervention Design and Gene Editing >> KW: gene regulation",
          "Biological Systems and Life Sciences >> Genetic Intervention Design and Gene Editing >> KW: genetic correction",
          "Biological Systems and Life Sciences >> Transgenerational Phenotyping and Epigenetic Inheritance",
          "Biological Systems and Life Sciences >> Transgenerational Phenotyping and Epigenetic Inheritance >> KW: transgenerational phenotyping",
          "Biological Systems and Life Sciences >> Transgenerational Phenotyping and Epigenetic Inheritance >> KW: epigenetic enzyme activity",
          "Biological Systems and Life Sciences >> Transgenerational Phenotyping and Epigenetic Inheritance >> KW: gene regulatory network modeling",
          "Biological Systems and Life Sciences >> Transgenerational Phenotyping and Epigenetic Inheritance >> KW: developmental gene expression studies",
          "Biological Systems and Life Sciences >> Transgenerational Phenotyping and Epigenetic Inheritance >> KW: genetic basis of traits",
          "Biological Systems and Life Sciences >> Transgenerational Phenotyping and Epigenetic Inheritance >> KW: genetic evaluation",
          "Biological Systems and Life Sciences >> Transgenerational Phenotyping and Epigenetic Inheritance >> KW: environmental shaping of behavior",
          "Biological Systems and Life Sciences >> Transgenerational Phenotyping and Epigenetic Inheritance >> KW: intergenerational health effects",
          "Biological Systems and Life Sciences >> Transgenerational Phenotyping and Epigenetic Inheritance >> KW: maternal investment",
          "Biological Systems and Life Sciences >> Transgenerational Phenotyping and Epigenetic Inheritance >> KW: prenatal substance exposure",
          "Biological Systems and Life Sciences >> Transgenerational Phenotyping and Epigenetic Inheritance >> KW: epigenetic regulation",
          "Biological Systems and Life Sciences >> Data-Driven Biological Inference and Systems Biology",
          "Biological Systems and Life Sciences >> Data-Driven Biological Inference and Systems Biology >> KW: data-driven biological inference",
          "Biological Systems and Life Sciences >> Data-Driven Biological Inference and Systems Biology >> KW: biological pathway analysis",
          "Biological Systems and Life Sciences >> Data-Driven Biological Inference and Systems Biology >> KW: systems biology",
          "Biological Systems and Life Sciences >> Data-Driven Biological Inference and Systems Biology >> KW: genomic data analysis",
          "Biological Systems and Life Sciences >> Data-Driven Biological Inference and Systems Biology >> KW: biological network mapping",
          "Biological Systems and Life Sciences >> Data-Driven Biological Inference and Systems Biology >> KW: biological systems modeling",
          "Biological Systems and Life Sciences >> Data-Driven Biological Inference and Systems Biology >> KW: biological data integration",
          "Biological Systems and Life Sciences >> Data-Driven Biological Inference and Systems Biology >> KW: multi-omics",
          "Biological Systems and Life Sciences >> Data-Driven Biological Inference and Systems Biology >> KW: biological function",
          "Biological Systems and Life Sciences >> Data-Driven Biological Inference and Systems Biology >> KW: biological insight",
          "Biological Systems and Life Sciences >> Multi-Scale Imaging and High-Resolution Visualization",
          "Biological Systems and Life Sciences >> Multi-Scale Imaging and High-Resolution Visualization >> KW: multi-scale imaging",
          "Biological Systems and Life Sciences >> Multi-Scale Imaging and High-Resolution Visualization >> KW: high-resolution imaging",
          "Biological Systems and Life Sciences >> Multi-Scale Imaging and High-Resolution Visualization >> KW: 3D imaging techniques",
          "Biological Systems and Life Sciences >> Multi-Scale Imaging and High-Resolution Visualization >> KW: in vivo imaging",
          "Biological Systems and Life Sciences >> Multi-Scale Imaging and High-Resolution Visualization >> KW: micro-CT imaging",
          "Biological Systems and Life Sciences >> Multi-Scale Imaging and High-Resolution Visualization >> KW: optical microscopy",
          "Biological Systems and Life Sciences >> Multi-Scale Imaging and High-Resolution Visualization >> KW: spatial resolution",
          "Biological Systems and Life Sciences >> Multi-Scale Imaging and High-Resolution Visualization >> KW: high-resolution data",
          "Biological Systems and Life Sciences >> Multi-Scale Imaging and High-Resolution Visualization >> KW: imaging technologies",
          "Biological Systems and Life Sciences >> Multi-Scale Imaging and High-Resolution Visualization >> KW: image analysis",
          "Biological Systems and Life Sciences >> Multi-Scale Imaging and Biological Visualization",
          "Biological Systems and Life Sciences >> Multi-Scale Imaging and Biological Visualization >> KW: multi-scale imaging",
          "Biological Systems and Life Sciences >> Multi-Scale Imaging and Biological Visualization >> KW: 3D imaging",
          "Biological Systems and Life Sciences >> Multi-Scale Imaging and Biological Visualization >> KW: in vivo imaging",
          "Biological Systems and Life Sciences >> Multi-Scale Imaging and Biological Visualization >> KW: biological visualization",
          "Biological Systems and Life Sciences >> Multi-Scale Imaging and Biological Visualization >> KW: cellular imaging",
          "Biological Systems and Life Sciences >> Multi-Scale Imaging and Biological Visualization >> KW: microscopy imaging",
          "Biological Systems and Life Sciences >> Multi-Scale Imaging and Biological Visualization >> KW: spatial biology",
          "Biological Systems and Life Sciences >> Multi-Scale Imaging and Biological Visualization >> KW: tissue imaging",
          "Biological Systems and Life Sciences >> Multi-Scale Imaging and Biological Visualization >> KW: biological structures",
          "Biological Systems and Life Sciences >> Multi-Scale Imaging and Biological Visualization >> KW: dynamic imaging",
          "Biological Systems and Life Sciences >> Functional Testing in Plants and Bioreactor Systems",
          "Biological Systems and Life Sciences >> Functional Testing in Plants and Bioreactor Systems >> KW: functional testing in plants",
          "Biological Systems and Life Sciences >> Functional Testing in Plants and Bioreactor Systems >> KW: plant bioreactors",
          "Biological Systems and Life Sciences >> Functional Testing in Plants and Bioreactor Systems >> KW: plant physiological responses",
          "Biological Systems and Life Sciences >> Functional Testing in Plants and Bioreactor Systems >> KW: plant health monitoring",
          "Biological Systems and Life Sciences >> Functional Testing in Plants and Bioreactor Systems >> KW: bioreactor systems",
          "Biological Systems and Life Sciences >> Functional Testing in Plants and Bioreactor Systems >> KW: plant performance",
          "Biological Systems and Life Sciences >> Functional Testing in Plants and Bioreactor Systems >> KW: plant stress",
          "Biological Systems and Life Sciences >> Functional Testing in Plants and Bioreactor Systems >> KW: biological testing platforms",
          "Biological Systems and Life Sciences >> Functional Testing in Plants and Bioreactor Systems >> KW: functional traits",
          "Biological Systems and Life Sciences >> Functional Testing in Plants and Bioreactor Systems >> KW: plant growth",
          "Biological Systems and Life Sciences >> Trophic Reconstruction and Ecosystem Dynamics",
          "Biological Systems and Life Sciences >> Trophic Reconstruction and Ecosystem Dynamics >> KW: trophic reconstruction",
          "Biological Systems and Life Sciences >> Trophic Reconstruction and Ecosystem Dynamics >> KW: trophic state modeling",
          "Biological Systems and Life Sciences >> Trophic Reconstruction and Ecosystem Dynamics >> KW: ecosystem dynamics",
          "Biological Systems and Life Sciences >> Trophic Reconstruction and Ecosystem Dynamics >> KW: food web modeling",
          "Biological Systems and Life Sciences >> Trophic Reconstruction and Ecosystem Dynamics >> KW: biodiversity",
          "Biological Systems and Life Sciences >> Trophic Reconstruction and Ecosystem Dynamics >> KW: ecological interactions",
          "Biological Systems and Life Sciences >> Trophic Reconstruction and Ecosystem Dynamics >> KW: trophic interactions",
          "Biological Systems and Life Sciences >> Trophic Reconstruction and Ecosystem Dynamics >> KW: ecosystem function",
          "Biological Systems and Life Sciences >> Trophic Reconstruction and Ecosystem Dynamics >> KW: ecological balance",
          "Biological Systems and Life Sciences >> Trophic Reconstruction and Ecosystem Dynamics >> KW: species interactions",
          "Biological Systems and Life Sciences >> Plant Sensing and Environmental Monitoring",
          "Biological Systems and Life Sciences >> Plant Sensing and Environmental Monitoring >> KW: plant sensing",
          "Biological Systems and Life Sciences >> Plant Sensing and Environmental Monitoring >> KW: plant physiological responses",
          "Biological Systems and Life Sciences >> Plant Sensing and Environmental Monitoring >> KW: plant roots",
          "Biological Systems and Life Sciences >> Plant Sensing and Environmental Monitoring >> KW: plant adaptation",
          "Biological Systems and Life Sciences >> Plant Sensing and Environmental Monitoring >> KW: soil-plant interaction analysis",
          "Biological Systems and Life Sciences >> Plant Sensing and Environmental Monitoring >> KW: plant-pathogen interactions",
          "Biological Systems and Life Sciences >> Plant Sensing and Environmental Monitoring >> KW: plant bioreactors",
          "Biological Systems and Life Sciences >> Plant Sensing and Environmental Monitoring >> KW: phenological analysis",
          "Biological Systems and Life Sciences >> Plant Sensing and Environmental Monitoring >> KW: crop yield maximisation",
          "Biological Systems and Life Sciences >> Plant Sensing and Environmental Monitoring >> KW: plant hormone signalling",
          "Biological Systems and Life Sciences >> Plant Sensing and Environmental Monitoring >> KW: environmental interactions in plants",
          "Biological Systems and Life Sciences >> Crop Yield Maximisation and Agricultural Productivity",
          "Biological Systems and Life Sciences >> Crop Yield Maximisation and Agricultural Productivity >> KW: crop yield maximisation",
          "Biological Systems and Life Sciences >> Crop Yield Maximisation and Agricultural Productivity >> KW: improving crop yields",
          "Biological Systems and Life Sciences >> Crop Yield Maximisation and Agricultural Productivity >> KW: agricultural productivity",
          "Biological Systems and Life Sciences >> Crop Yield Maximisation and Agricultural Productivity >> KW: enhanced photosynthetic efficiency",
          "Biological Systems and Life Sciences >> Crop Yield Maximisation and Agricultural Productivity >> KW: precision agriculture",
          "Biological Systems and Life Sciences >> Crop Yield Maximisation and Agricultural Productivity >> KW: soil health",
          "Biological Systems and Life Sciences >> Crop Yield Maximisation and Agricultural Productivity >> KW: agricultural trade",
          "Biological Systems and Life Sciences >> Crop Yield Maximisation and Agricultural Productivity >> KW: fertilizer efficiency",
          "Biological Systems and Life Sciences >> Crop Yield Maximisation and Agricultural Productivity >> KW: agricultural gene modulation",
          "Biological Systems and Life Sciences >> Crop Yield Maximisation and Agricultural Productivity >> KW: sustainable farming practices",
          "Biological Systems and Life Sciences >> Superior Breeding Stock Development and Animal Genetics",
          "Biological Systems and Life Sciences >> Superior Breeding Stock Development and Animal Genetics >> KW: superior breeding stock development",
          "Biological Systems and Life Sciences >> Superior Breeding Stock Development and Animal Genetics >> KW: enhanced breeding programs",
          "Biological Systems and Life Sciences >> Superior Breeding Stock Development and Animal Genetics >> KW: animal breeding efficiency",
          "Biological Systems and Life Sciences >> Superior Breeding Stock Development and Animal Genetics >> KW: genetic evaluation",
          "Biological Systems and Life Sciences >> Superior Breeding Stock Development and Animal Genetics >> KW: genetic intervention design",
          "Biological Systems and Life Sciences >> Superior Breeding Stock Development and Animal Genetics >> KW: genomic combinations",
          "Biological Systems and Life Sciences >> Superior Breeding Stock Development and Animal Genetics >> KW: genetic drivers",
          "Biological Systems and Life Sciences >> Superior Breeding Stock Development and Animal Genetics >> KW: selective breeding",
          "Biological Systems and Life Sciences >> Superior Breeding Stock Development and Animal Genetics >> KW: animal stock management",
          "Biological Systems and Life Sciences >> Superior Breeding Stock Development and Animal Genetics >> KW: breeding programs",
          "Biological Systems and Life Sciences >> Biological Feed Development and Sustainable Nutrition",
          "Biological Systems and Life Sciences >> Biological Feed Development and Sustainable Nutrition >> KW: biological feed development",
          "Biological Systems and Life Sciences >> Biological Feed Development and Sustainable Nutrition >> KW: natural feedstuffs",
          "Biological Systems and Life Sciences >> Biological Feed Development and Sustainable Nutrition >> KW: local feedstuffs",
          "Biological Systems and Life Sciences >> Biological Feed Development and Sustainable Nutrition >> KW: reduced fertilizer dependency",
          "Biological Systems and Life Sciences >> Biological Feed Development and Sustainable Nutrition >> KW: nutrient modelling",
          "Biological Systems and Life Sciences >> Biological Feed Development and Sustainable Nutrition >> KW: organic metal binding",
          "Biological Systems and Life Sciences >> Biological Feed Development and Sustainable Nutrition >> KW: enhanced photosynthetic efficiency",
          "Biological Systems and Life Sciences >> Biological Feed Development and Sustainable Nutrition >> KW: nutrient interaction modeling",
          "Biological Systems and Life Sciences >> Biological Feed Development and Sustainable Nutrition >> KW: dietary reconstruction",
          "Biological Systems and Life Sciences >> Biological Feed Development and Sustainable Nutrition >> KW: high protein legume",
          "Biological Systems and Life Sciences >> Biological Feed Development and Sustainable Nutrition >> KW: animal breeding efficiency",
          "Sensing, Monitoring, and Data Acquisition",
          "Sensing, Monitoring, and Data Acquisition >> Active Sensing Technologies and Real-Time Monitoring",
          "Sensing, Monitoring, and Data Acquisition >> Active Sensing Technologies and Real-Time Monitoring >> KW: active sensing technologies",
          "Sensing, Monitoring, and Data Acquisition >> Active Sensing Technologies and Real-Time Monitoring >> KW: real-time sensing algorithms",
          "Sensing, Monitoring, and Data Acquisition >> Active Sensing Technologies and Real-Time Monitoring >> KW: on-site chemical processing",
          "Sensing, Monitoring, and Data Acquisition >> Active Sensing Technologies and Real-Time Monitoring >> KW: real-time gas monitoring",
          "Sensing, Monitoring, and Data Acquisition >> Active Sensing Technologies and Real-Time Monitoring >> KW: real-time neural signal processing",
          "Sensing, Monitoring, and Data Acquisition >> Active Sensing Technologies and Real-Time Monitoring >> KW: real-time flood response",
          "Sensing, Monitoring, and Data Acquisition >> Active Sensing Technologies and Real-Time Monitoring >> KW: remote sensing of meteorites",
          "Sensing, Monitoring, and Data Acquisition >> Active Sensing Technologies and Real-Time Monitoring >> KW: in situ analysis",
          "Sensing, Monitoring, and Data Acquisition >> Active Sensing Technologies and Real-Time Monitoring >> KW: real-time asset management",
          "Sensing, Monitoring, and Data Acquisition >> Active Sensing Technologies and Real-Time Monitoring >> KW: sensor stream pattern mining",
          "Sensing, Monitoring, and Data Acquisition >> Active Sensing Technologies and Real-Time Monitoring >> KW: distributed robotics",
          "Sensing, Monitoring, and Data Acquisition >> Active Sensing Technologies and Real-Time Monitoring >> KW: autonomous sensing",
          "Sensing, Monitoring, and Data Acquisition >> Active Sensing Technologies and Real-Time Monitoring >> KW: real-time video processing",
          "Sensing, Monitoring, and Data Acquisition >> Room Temperature Detection and Thermal Sensing",
          "Sensing, Monitoring, and Data Acquisition >> Room Temperature Detection and Thermal Sensing >> KW: room temperature detection",
          "Sensing, Monitoring, and Data Acquisition >> Room Temperature Detection and Thermal Sensing >> KW: thermal stability",
          "Sensing, Monitoring, and Data Acquisition >> Room Temperature Detection and Thermal Sensing >> KW: temperature and light responses",
          "Sensing, Monitoring, and Data Acquisition >> Room Temperature Detection and Thermal Sensing >> KW: thermal regulation mechanisms",
          "Sensing, Monitoring, and Data Acquisition >> Room Temperature Detection and Thermal Sensing >> KW: heat dissipation optimization",
          "Sensing, Monitoring, and Data Acquisition >> Room Temperature Detection and Thermal Sensing >> KW: thermal property characterization",
          "Sensing, Monitoring, and Data Acquisition >> Room Temperature Detection and Thermal Sensing >> KW: temperature forecasting",
          "Sensing, Monitoring, and Data Acquisition >> Room Temperature Detection and Thermal Sensing >> KW: thermal batteries",
          "Sensing, Monitoring, and Data Acquisition >> Room Temperature Detection and Thermal Sensing >> KW: thermal imaging",
          "Sensing, Monitoring, and Data Acquisition >> Room Temperature Detection and Thermal Sensing >> KW: heat extraction optimization",
          "Sensing, Monitoring, and Data Acquisition >> Room Temperature Detection and Thermal Sensing >> KW: low-power IoT devices",
          "Sensing, Monitoring, and Data Acquisition >> Compact Spectrometers and Portable Analytical Devices",
          "Sensing, Monitoring, and Data Acquisition >> Compact Spectrometers and Portable Analytical Devices >> KW: compact spectrometers",
          "Sensing, Monitoring, and Data Acquisition >> Compact Spectrometers and Portable Analytical Devices >> KW: field-deployable spectroscopy",
          "Sensing, Monitoring, and Data Acquisition >> Compact Spectrometers and Portable Analytical Devices >> KW: portable analytical devices",
          "Sensing, Monitoring, and Data Acquisition >> Compact Spectrometers and Portable Analytical Devices >> KW: on-site analysis",
          "Sensing, Monitoring, and Data Acquisition >> Compact Spectrometers and Portable Analytical Devices >> KW: real-time detection",
          "Sensing, Monitoring, and Data Acquisition >> Compact Spectrometers and Portable Analytical Devices >> KW: sensing devices",
          "Sensing, Monitoring, and Data Acquisition >> Compact Spectrometers and Portable Analytical Devices >> KW: chemical analysis",
          "Sensing, Monitoring, and Data Acquisition >> Compact Spectrometers and Portable Analytical Devices >> KW: portable sensors",
          "Sensing, Monitoring, and Data Acquisition >> Compact Spectrometers and Portable Analytical Devices >> KW: analytical platforms",
          "Sensing, Monitoring, and Data Acquisition >> Compact Spectrometers and Portable Analytical Devices >> KW: spectrum analysis",
          "Sensing, Monitoring, and Data Acquisition >> Simple Analytical Platforms for Point-of-Care Diagnostics",
          "Sensing, Monitoring, and Data Acquisition >> Simple Analytical Platforms for Point-of-Care Diagnostics >> KW: simple analytical platforms",
          "Sensing, Monitoring, and Data Acquisition >> Simple Analytical Platforms for Point-of-Care Diagnostics >> KW: point-of-care disease diagnosis",
          "Sensing, Monitoring, and Data Acquisition >> Simple Analytical Platforms for Point-of-Care Diagnostics >> KW: on-site analysis",
          "Sensing, Monitoring, and Data Acquisition >> Simple Analytical Platforms for Point-of-Care Diagnostics >> KW: field-deployable spectroscopy",
          "Sensing, Monitoring, and Data Acquisition >> Simple Analytical Platforms for Point-of-Care Diagnostics >> KW: portable test kits",
          "Sensing, Monitoring, and Data Acquisition >> Simple Analytical Platforms for Point-of-Care Diagnostics >> KW: microfluidics",
          "Sensing, Monitoring, and Data Acquisition >> Simple Analytical Platforms for Point-of-Care Diagnostics >> KW: low-cost computing",
          "Sensing, Monitoring, and Data Acquisition >> Simple Analytical Platforms for Point-of-Care Diagnostics >> KW: accessible data exploration",
          "Sensing, Monitoring, and Data Acquisition >> Simple Analytical Platforms for Point-of-Care Diagnostics >> KW: digital health records analysis",
          "Sensing, Monitoring, and Data Acquisition >> Simple Analytical Platforms for Point-of-Care Diagnostics >> KW: rapid CO2 conversion",
          "Sensing, Monitoring, and Data Acquisition >> Simple Analytical Platforms for Point-of-Care Diagnostics >> KW: bacterial detection",
          "Sensing, Monitoring, and Data Acquisition >> Simple Analytical Platforms for Point-of-Care Diagnostics >> KW: taste and odour control",
          "Sensing, Monitoring, and Data Acquisition >> Multi-Analytical Archaeological Approach",
          "Sensing, Monitoring, and Data Acquisition >> Multi-Analytical Archaeological Approach >> KW: multi-analytical archaeological approach",
          "Sensing, Monitoring, and Data Acquisition >> Multi-Analytical Archaeological Approach >> KW: archaeological diagnostics",
          "Sensing, Monitoring, and Data Acquisition >> Multi-Analytical Archaeological Approach >> KW: archaeological records",
          "Sensing, Monitoring, and Data Acquisition >> Multi-Analytical Archaeological Approach >> KW: fossil site survey",
          "Sensing, Monitoring, and Data Acquisition >> Multi-Analytical Archaeological Approach >> KW: historical fuel analysis",
          "Sensing, Monitoring, and Data Acquisition >> Multi-Analytical Archaeological Approach >> KW: scientific archaeological techniques",
          "Sensing, Monitoring, and Data Acquisition >> Multi-Analytical Archaeological Approach >> KW: archaeological fieldwork",
          "Sensing, Monitoring, and Data Acquisition >> Multi-Analytical Archaeological Approach >> KW: historical database construction",
          "Sensing, Monitoring, and Data Acquisition >> Multi-Analytical Archaeological Approach >> KW: palaeoecological data",
          "Sensing, Monitoring, and Data Acquisition >> Multi-Analytical Archaeological Approach >> KW: digital mapping",
          "Sensing, Monitoring, and Data Acquisition >> Multi-Analytical Archaeological Approach >> KW: remote sensing of exoplanets",
          "Sensing, Monitoring, and Data Acquisition >> Multi-Analytical Archaeological Approach >> KW: on-site analysis",
          "Sensing, Monitoring, and Data Acquisition >> Multi-Analytical Archaeological Approach >> KW: archaeological interpretation",
          "Sensing, Monitoring, and Data Acquisition >> Archaeological Diagnostics and Digital Reconstruction",
          "Sensing, Monitoring, and Data Acquisition >> Archaeological Diagnostics and Digital Reconstruction >> KW: archaeological diagnostics",
          "Sensing, Monitoring, and Data Acquisition >> Archaeological Diagnostics and Digital Reconstruction >> KW: digital mapping",
          "Sensing, Monitoring, and Data Acquisition >> Archaeological Diagnostics and Digital Reconstruction >> KW: 3D computer vision",
          "Sensing, Monitoring, and Data Acquisition >> Archaeological Diagnostics and Digital Reconstruction >> KW: geophysical analysis",
          "Sensing, Monitoring, and Data Acquisition >> Archaeological Diagnostics and Digital Reconstruction >> KW: digital drawing tools",
          "Sensing, Monitoring, and Data Acquisition >> Archaeological Diagnostics and Digital Reconstruction >> KW: remote sensing",
          "Sensing, Monitoring, and Data Acquisition >> Archaeological Diagnostics and Digital Reconstruction >> KW: digital fossil analysis",
          "Sensing, Monitoring, and Data Acquisition >> Archaeological Diagnostics and Digital Reconstruction >> KW: archaeological interpretation",
          "Sensing, Monitoring, and Data Acquisition >> Archaeological Diagnostics and Digital Reconstruction >> KW: digital archaeological records",
          "Sensing, Monitoring, and Data Acquisition >> Archaeological Diagnostics and Digital Reconstruction >> KW: archaeological tools",
          "Sensing, Monitoring, and Data Acquisition >> Digital Mapping and Geospatial Analysis",
          "Sensing, Monitoring, and Data Acquisition >> Digital Mapping and Geospatial Analysis >> KW: digital mapping",
          "Sensing, Monitoring, and Data Acquisition >> Digital Mapping and Geospatial Analysis >> KW: geographic information systems (GIS)",
          "Sensing, Monitoring, and Data Acquisition >> Digital Mapping and Geospatial Analysis >> KW: spatial data modeling",
          "Sensing, Monitoring, and Data Acquisition >> Digital Mapping and Geospatial Analysis >> KW: spatial genetics",
          "Sensing, Monitoring, and Data Acquisition >> Digital Mapping and Geospatial Analysis >> KW: spatial awareness",
          "Sensing, Monitoring, and Data Acquisition >> Digital Mapping and Geospatial Analysis >> KW: spatial quantification",
          "Sensing, Monitoring, and Data Acquisition >> Digital Mapping and Geospatial Analysis >> KW: spatial biology technologies",
          "Sensing, Monitoring, and Data Acquisition >> Digital Mapping and Geospatial Analysis >> KW: geotechnical sensing",
          "Sensing, Monitoring, and Data Acquisition >> Digital Mapping and Geospatial Analysis >> KW: geographic range",
          "Sensing, Monitoring, and Data Acquisition >> Digital Mapping and Geospatial Analysis >> KW: spatial analysis",
          "Sensing, Monitoring, and Data Acquisition >> Scalable Sensing Architectures and Sensor Networks",
          "Sensing, Monitoring, and Data Acquisition >> Scalable Sensing Architectures and Sensor Networks >> KW: scalable sensing architectures",
          "Sensing, Monitoring, and Data Acquisition >> Scalable Sensing Architectures and Sensor Networks >> KW: distributed sensing",
          "Sensing, Monitoring, and Data Acquisition >> Scalable Sensing Architectures and Sensor Networks >> KW: sensor networks",
          "Sensing, Monitoring, and Data Acquisition >> Scalable Sensing Architectures and Sensor Networks >> KW: real-time sensing",
          "Sensing, Monitoring, and Data Acquisition >> Scalable Sensing Architectures and Sensor Networks >> KW: networked sensing",
          "Sensing, Monitoring, and Data Acquisition >> Scalable Sensing Architectures and Sensor Networks >> KW: sensor data analytics",
          "Sensing, Monitoring, and Data Acquisition >> Scalable Sensing Architectures and Sensor Networks >> KW: distributed robotics",
          "Sensing, Monitoring, and Data Acquisition >> Scalable Sensing Architectures and Sensor Networks >> KW: large-scale monitoring",
          "Sensing, Monitoring, and Data Acquisition >> Scalable Sensing Architectures and Sensor Networks >> KW: sensor fusion",
          "Sensing, Monitoring, and Data Acquisition >> Scalable Sensing Architectures and Sensor Networks >> KW: scalable systems",
          "Sensing, Monitoring, and Data Acquisition >> Interferometric Instrumentation and Precision Measurement",
          "Sensing, Monitoring, and Data Acquisition >> Interferometric Instrumentation and Precision Measurement >> KW: interferometric instrumentation",
          "Sensing, Monitoring, and Data Acquisition >> Interferometric Instrumentation and Precision Measurement >> KW: interferometry",
          "Sensing, Monitoring, and Data Acquisition >> Interferometric Instrumentation and Precision Measurement >> KW: precision measurement",
          "Sensing, Monitoring, and Data Acquisition >> Interferometric Instrumentation and Precision Measurement >> KW: high-precision detection",
          "Sensing, Monitoring, and Data Acquisition >> Interferometric Instrumentation and Precision Measurement >> KW: phase measurement",
          "Sensing, Monitoring, and Data Acquisition >> Interferometric Instrumentation and Precision Measurement >> KW: distance sensing",
          "Sensing, Monitoring, and Data Acquisition >> Interferometric Instrumentation and Precision Measurement >> KW: optical interferometry",
          "Sensing, Monitoring, and Data Acquisition >> Interferometric Instrumentation and Precision Measurement >> KW: precision metrology",
          "Sensing, Monitoring, and Data Acquisition >> Interferometric Instrumentation and Precision Measurement >> KW: measurement accuracy",
          "Sensing, Monitoring, and Data Acquisition >> Interferometric Instrumentation and Precision Measurement >> KW: interferometric systems",
          "Sensing, Monitoring, and Data Acquisition >> Direct-Detection Technologies in Physics and Sensing",
          "Sensing, Monitoring, and Data Acquisition >> Direct-Detection Technologies in Physics and Sensing >> KW: direct-detection",
          "Sensing, Monitoring, and Data Acquisition >> Direct-Detection Technologies in Physics and Sensing >> KW: quantum sensing platforms",
          "Sensing, Monitoring, and Data Acquisition >> Direct-Detection Technologies in Physics and Sensing >> KW: quantum dot-based photodetectors",
          "Sensing, Monitoring, and Data Acquisition >> Direct-Detection Technologies in Physics and Sensing >> KW: optical-electrical bimodal systems",
          "Sensing, Monitoring, and Data Acquisition >> Direct-Detection Technologies in Physics and Sensing >> KW: coherent optical imaging",
          "Sensing, Monitoring, and Data Acquisition >> Direct-Detection Technologies in Physics and Sensing >> KW: real-time spectral detection",
          "Sensing, Monitoring, and Data Acquisition >> Direct-Detection Technologies in Physics and Sensing >> KW: ultra-sensitive sensors",
          "Sensing, Monitoring, and Data Acquisition >> Direct-Detection Technologies in Physics and Sensing >> KW: direct laser writing",
          "Sensing, Monitoring, and Data Acquisition >> Direct-Detection Technologies in Physics and Sensing >> KW: particle detection",
          "Sensing, Monitoring, and Data Acquisition >> Direct-Detection Technologies in Physics and Sensing >> KW: quantum sensing",
          "Sensing, Monitoring, and Data Acquisition >> Networked Counterpublics and Digital Activism",
          "Sensing, Monitoring, and Data Acquisition >> Networked Counterpublics and Digital Activism >> KW: networked counterpublics",
          "Sensing, Monitoring, and Data Acquisition >> Networked Counterpublics and Digital Activism >> KW: digital activism",
          "Sensing, Monitoring, and Data Acquisition >> Networked Counterpublics and Digital Activism >> KW: public discourse",
          "Sensing, Monitoring, and Data Acquisition >> Networked Counterpublics and Digital Activism >> KW: digital communities",
          "Sensing, Monitoring, and Data Acquisition >> Networked Counterpublics and Digital Activism >> KW: online engagement",
          "Sensing, Monitoring, and Data Acquisition >> Networked Counterpublics and Digital Activism >> KW: digital democracy",
          "Sensing, Monitoring, and Data Acquisition >> Networked Counterpublics and Digital Activism >> KW: digital resistance",
          "Sensing, Monitoring, and Data Acquisition >> Networked Counterpublics and Digital Activism >> KW: online publics",
          "Sensing, Monitoring, and Data Acquisition >> Networked Counterpublics and Digital Activism >> KW: counter-narratives",
          "Sensing, Monitoring, and Data Acquisition >> Event Invitations and Social Interaction Dynamics",
          "Sensing, Monitoring, and Data Acquisition >> Event Invitations and Social Interaction Dynamics >> KW: event invitations",
          "Sensing, Monitoring, and Data Acquisition >> Event Invitations and Social Interaction Dynamics >> KW: social interaction",
          "Sensing, Monitoring, and Data Acquisition >> Event Invitations and Social Interaction Dynamics >> KW: community engagement",
          "Sensing, Monitoring, and Data Acquisition >> Event Invitations and Social Interaction Dynamics >> KW: social dynamics",
          "Sensing, Monitoring, and Data Acquisition >> Event Invitations and Social Interaction Dynamics >> KW: event planning",
          "Sensing, Monitoring, and Data Acquisition >> Event Invitations and Social Interaction Dynamics >> KW: social networking",
          "Sensing, Monitoring, and Data Acquisition >> Event Invitations and Social Interaction Dynamics >> KW: digital invitations",
          "Sensing, Monitoring, and Data Acquisition >> Event Invitations and Social Interaction Dynamics >> KW: social participation",
          "Sensing, Monitoring, and Data Acquisition >> Event Invitations and Social Interaction Dynamics >> KW: community events",
          "Sensing, Monitoring, and Data Acquisition >> Event Invitations and Social Interaction Dynamics >> KW: social connection",
          "Education, Learning, and Workforce Development",
          "Education, Learning, and Workforce Development >> Training and Capacity Development in Education and Workforce",
          "Education, Learning, and Workforce Development >> Training and Capacity Development in Education and Workforce >> KW: training and capacity development",
          "Education, Learning, and Workforce Development >> Training and Capacity Development in Education and Workforce >> KW: teacher training in the United States",
          "Education, Learning, and Workforce Development >> Training and Capacity Development in Education and Workforce >> KW: automated teaching assistants",
          "Education, Learning, and Workforce Development >> Training and Capacity Development in Education and Workforce >> KW: educational tools",
          "Education, Learning, and Workforce Development >> Training and Capacity Development in Education and Workforce >> KW: curriculum modeling",
          "Education, Learning, and Workforce Development >> Training and Capacity Development in Education and Workforce >> KW: teacher collaboration",
          "Education, Learning, and Workforce Development >> Training and Capacity Development in Education and Workforce >> KW: workforce retention strategies",
          "Education, Learning, and Workforce Development >> Training and Capacity Development in Education and Workforce >> KW: occupational skills",
          "Education, Learning, and Workforce Development >> Training and Capacity Development in Education and Workforce >> KW: occupational pathways",
          "Education, Learning, and Workforce Development >> Training and Capacity Development in Education and Workforce >> KW: early career researcher",
          "Education, Learning, and Workforce Development >> Training and Capacity Development in Education and Workforce >> KW: capacity building for food-insecure populations",
          "Education, Learning, and Workforce Development >> Training and Capacity Development in Education and Workforce >> KW: workforce capability enhancement",
          "Education, Learning, and Workforce Development >> Training and Capacity Development in Education and Workforce >> KW: digital professional development",
          "Education, Learning, and Workforce Development >> Training and Capacity Development in Education and Workforce >> KW: skill-intensive industries",
          "Education, Learning, and Workforce Development >> Training and Capacity Development in Education and Workforce >> KW: workforce productivity",
          "Education, Learning, and Workforce Development >> Training and Capacity Development in Education and Workforce >> KW: higher education expansion",
          "Education, Learning, and Workforce Development >> Training and Capacity Development in Education and Workforce >> KW: education and cultural transmission",
          "Education, Learning, and Workforce Development >> Training and Capacity Development in Education and Workforce >> KW: inclusive economic development",
          "Education, Learning, and Workforce Development >> Automated Teaching Assistants and AI-Driven Education",
          "Education, Learning, and Workforce Development >> Automated Teaching Assistants and AI-Driven Education >> KW: automated teaching assistants",
          "Education, Learning, and Workforce Development >> Automated Teaching Assistants and AI-Driven Education >> KW: AI-driven insights",
          "Education, Learning, and Workforce Development >> Automated Teaching Assistants and AI-Driven Education >> KW: personalized query optimization",
          "Education, Learning, and Workforce Development >> Automated Teaching Assistants and AI-Driven Education >> KW: interactive data dashboards",
          "Education, Learning, and Workforce Development >> Automated Teaching Assistants and AI-Driven Education >> KW: digital teaching resources",
          "Education, Learning, and Workforce Development >> Automated Teaching Assistants and AI-Driven Education >> KW: adaptive learning",
          "Education, Learning, and Workforce Development >> Automated Teaching Assistants and AI-Driven Education >> KW: machine learning for behavioural prediction",
          "Education, Learning, and Workforce Development >> Automated Teaching Assistants and AI-Driven Education >> KW: learning management systems (LMS)",
          "Education, Learning, and Workforce Development >> Automated Teaching Assistants and AI-Driven Education >> KW: AI and machine learning",
          "Education, Learning, and Workforce Development >> Automated Teaching Assistants and AI-Driven Education >> KW: digital platforms for milk sharing",
          "Education, Learning, and Workforce Development >> Automated Teaching Assistants and AI-Driven Education >> KW: student physical activity",
          "Education, Learning, and Workforce Development >> Automated Teaching Assistants and AI-Driven Education >> KW: personalized treatment strategies",
          "Education, Learning, and Workforce Development >> Curriculum Modeling and Educational Transformation",
          "Education, Learning, and Workforce Development >> Curriculum Modeling and Educational Transformation >> KW: curriculum modeling",
          "Education, Learning, and Workforce Development >> Curriculum Modeling and Educational Transformation >> KW: formative assessment",
          "Education, Learning, and Workforce Development >> Curriculum Modeling and Educational Transformation >> KW: interdisciplinary system optimization",
          "Education, Learning, and Workforce Development >> Curriculum Modeling and Educational Transformation >> KW: educational use",
          "Education, Learning, and Workforce Development >> Curriculum Modeling and Educational Transformation >> KW: inclusive classroom design",
          "Education, Learning, and Workforce Development >> Curriculum Modeling and Educational Transformation >> KW: cultural diversity in education",
          "Education, Learning, and Workforce Development >> Curriculum Modeling and Educational Transformation >> KW: student engagement",
          "Education, Learning, and Workforce Development >> Curriculum Modeling and Educational Transformation >> KW: educational policy implementation",
          "Education, Learning, and Workforce Development >> Curriculum Modeling and Educational Transformation >> KW: blended propellants",
          "Education, Learning, and Workforce Development >> Curriculum Modeling and Educational Transformation >> KW: educational innovation",
          "Education, Learning, and Workforce Development >> Preparation for Diverse Learning Environments",
          "Education, Learning, and Workforce Development >> Preparation for Diverse Learning Environments >> KW: preparation for diverse learning environments",
          "Education, Learning, and Workforce Development >> Preparation for Diverse Learning Environments >> KW: inclusive education policy",
          "Education, Learning, and Workforce Development >> Preparation for Diverse Learning Environments >> KW: culturally diverse classrooms",
          "Education, Learning, and Workforce Development >> Preparation for Diverse Learning Environments >> KW: intercultural pedagogy",
          "Education, Learning, and Workforce Development >> Preparation for Diverse Learning Environments >> KW: cultural diversity in education",
          "Education, Learning, and Workforce Development >> Preparation for Diverse Learning Environments >> KW: inclusive design",
          "Education, Learning, and Workforce Development >> Preparation for Diverse Learning Environments >> KW: diverse role models in science",
          "Education, Learning, and Workforce Development >> Preparation for Diverse Learning Environments >> KW: cultural knowledge transfer",
          "Education, Learning, and Workforce Development >> Preparation for Diverse Learning Environments >> KW: inclusive classrooms",
          "Education, Learning, and Workforce Development >> Preparation for Diverse Learning Environments >> KW: educational equity",
          "Education, Learning, and Workforce Development >> Educational Tools and Learning Technologies",
          "Education, Learning, and Workforce Development >> Educational Tools and Learning Technologies >> KW: educational tools",
          "Education, Learning, and Workforce Development >> Educational Tools and Learning Technologies >> KW: digital learning",
          "Education, Learning, and Workforce Development >> Educational Tools and Learning Technologies >> KW: interactive learning",
          "Education, Learning, and Workforce Development >> Educational Tools and Learning Technologies >> KW: learning platforms",
          "Education, Learning, and Workforce Development >> Educational Tools and Learning Technologies >> KW: educational software",
          "Education, Learning, and Workforce Development >> Educational Tools and Learning Technologies >> KW: student engagement",
          "Education, Learning, and Workforce Development >> Educational Tools and Learning Technologies >> KW: digital teaching resources",
          "Education, Learning, and Workforce Development >> Educational Tools and Learning Technologies >> KW: interactive simulations",
          "Education, Learning, and Workforce Development >> Educational Tools and Learning Technologies >> KW: learning analytics",
          "Education, Learning, and Workforce Development >> Educational Tools and Learning Technologies >> KW: educational innovation",
          "Education, Learning, and Workforce Development >> Job Market Design and Economic Inclusion",
          "Education, Learning, and Workforce Development >> Job Market Design and Economic Inclusion >> KW: job market design",
          "Education, Learning, and Workforce Development >> Job Market Design and Economic Inclusion >> KW: employment lifecycle analysis",
          "Education, Learning, and Workforce Development >> Job Market Design and Economic Inclusion >> KW: workforce inclusion",
          "Education, Learning, and Workforce Development >> Job Market Design and Economic Inclusion >> KW: inclusive economic development",
          "Education, Learning, and Workforce Development >> Job Market Design and Economic Inclusion >> KW: gender equity in fishing",
          "Education, Learning, and Workforce Development >> Job Market Design and Economic Inclusion >> KW: women in work",
          "Education, Learning, and Workforce Development >> Job Market Design and Economic Inclusion >> KW: youth unemployment",
          "Education, Learning, and Workforce Development >> Job Market Design and Economic Inclusion >> KW: economic co-benefits",
          "Education, Learning, and Workforce Development >> Job Market Design and Economic Inclusion >> KW: workforce retention strategies",
          "Education, Learning, and Workforce Development >> Job Market Design and Economic Inclusion >> KW: economic development through cultural strategy",
          "Education, Learning, and Workforce Development >> Job Market Design and Economic Inclusion >> KW: occupational pathways",
          "Education, Learning, and Workforce Development >> Occupational Skills and Workforce Development",
          "Education, Learning, and Workforce Development >> Occupational Skills and Workforce Development >> KW: occupational skills",
          "Education, Learning, and Workforce Development >> Occupational Skills and Workforce Development >> KW: workforce development",
          "Education, Learning, and Workforce Development >> Occupational Skills and Workforce Development >> KW: skill-intensive industries",
          "Education, Learning, and Workforce Development >> Occupational Skills and Workforce Development >> KW: workforce retention strategies",
          "Education, Learning, and Workforce Development >> Occupational Skills and Workforce Development >> KW: workforce capability enhancement",
          "Education, Learning, and Workforce Development >> Occupational Skills and Workforce Development >> KW: industrial competitiveness",
          "Education, Learning, and Workforce Development >> Occupational Skills and Workforce Development >> KW: digital skills",
          "Education, Learning, and Workforce Development >> Occupational Skills and Workforce Development >> KW: green skills",
          "Education, Learning, and Workforce Development >> Occupational Skills and Workforce Development >> KW: healthcare workforce",
          "Education, Learning, and Workforce Development >> Occupational Skills and Workforce Development >> KW: professional re-engagement",
          "Education, Learning, and Workforce Development >> Early Career Researcher Development and Mentorship",
          "Education, Learning, and Workforce Development >> Early Career Researcher Development and Mentorship >> KW: early career researcher",
          "Education, Learning, and Workforce Development >> Early Career Researcher Development and Mentorship >> KW: researcher development",
          "Education, Learning, and Workforce Development >> Early Career Researcher Development and Mentorship >> KW: capacity building",
          "Education, Learning, and Workforce Development >> Early Career Researcher Development and Mentorship >> KW: post-doctoral projects",
          "Education, Learning, and Workforce Development >> Early Career Researcher Development and Mentorship >> KW: research coordination",
          "Education, Learning, and Workforce Development >> Early Career Researcher Development and Mentorship >> KW: researcher mentorship",
          "Education, Learning, and Workforce Development >> Early Career Researcher Development and Mentorship >> KW: academic enablers",
          "Education, Learning, and Workforce Development >> Early Career Researcher Development and Mentorship >> KW: doctoral student retention",
          "Education, Learning, and Workforce Development >> Early Career Researcher Development and Mentorship >> KW: research training",
          "Education, Learning, and Workforce Development >> Early Career Researcher Development and Mentorship >> KW: researcher support",
          "Education, Learning, and Workforce Development >> Gaming Industries and Human-Computer Interaction",
          "Education, Learning, and Workforce Development >> Gaming Industries and Human-Computer Interaction >> KW: gaming industries",
          "Education, Learning, and Workforce Development >> Gaming Industries and Human-Computer Interaction >> KW: virtual reality (VR) systems",
          "Education, Learning, and Workforce Development >> Gaming Industries and Human-Computer Interaction >> KW: immersive simulation",
          "Education, Learning, and Workforce Development >> Gaming Industries and Human-Computer Interaction >> KW: interactive narratives",
          "Education, Learning, and Workforce Development >> Gaming Industries and Human-Computer Interaction >> KW: digital engagement tools",
          "Education, Learning, and Workforce Development >> Gaming Industries and Human-Computer Interaction >> KW: human-robot co-evolution",
          "Education, Learning, and Workforce Development >> Gaming Industries and Human-Computer Interaction >> KW: interactive sound",
          "Education, Learning, and Workforce Development >> Gaming Industries and Human-Computer Interaction >> KW: immersive technology",
          "Education, Learning, and Workforce Development >> Gaming Industries and Human-Computer Interaction >> KW: game-based learning",
          "Education, Learning, and Workforce Development >> Gaming Industries and Human-Computer Interaction >> KW: digital experiences",
          "Education, Learning, and Workforce Development >> Visual Attention and Cognitive Processing",
          "Education, Learning, and Workforce Development >> Visual Attention and Cognitive Processing >> KW: visual attention",
          "Education, Learning, and Workforce Development >> Visual Attention and Cognitive Processing >> KW: visual working memory",
          "Education, Learning, and Workforce Development >> Visual Attention and Cognitive Processing >> KW: neural mechanisms of attention",
          "Education, Learning, and Workforce Development >> Visual Attention and Cognitive Processing >> KW: perceptual evaluation",
          "Education, Learning, and Workforce Development >> Visual Attention and Cognitive Processing >> KW: visual recording",
          "Education, Learning, and Workforce Development >> Visual Attention and Cognitive Processing >> KW: visual storytelling (film)",
          "Education, Learning, and Workforce Development >> Visual Attention and Cognitive Processing >> KW: human perception",
          "Education, Learning, and Workforce Development >> Visual Attention and Cognitive Processing >> KW: neurovisual experiments",
          "Education, Learning, and Workforce Development >> Visual Attention and Cognitive Processing >> KW: cognitive architecture",
          "Education, Learning, and Workforce Development >> Visual Attention and Cognitive Processing >> KW: attention to detail",
          "Education, Learning, and Workforce Development >> Customer Perceptions and Market Feedback",
          "Education, Learning, and Workforce Development >> Customer Perceptions and Market Feedback >> KW: customer perceptions",
          "Education, Learning, and Workforce Development >> Customer Perceptions and Market Feedback >> KW: consumer behavior change",
          "Education, Learning, and Workforce Development >> Customer Perceptions and Market Feedback >> KW: market research tools",
          "Education, Learning, and Workforce Development >> Customer Perceptions and Market Feedback >> KW: public perception",
          "Education, Learning, and Workforce Development >> Customer Perceptions and Market Feedback >> KW: user feedback",
          "Education, Learning, and Workforce Development >> Customer Perceptions and Market Feedback >> KW: brand perception",
          "Education, Learning, and Workforce Development >> Customer Perceptions and Market Feedback >> KW: service quality",
          "Education, Learning, and Workforce Development >> Customer Perceptions and Market Feedback >> KW: market analysis",
          "Education, Learning, and Workforce Development >> Customer Perceptions and Market Feedback >> KW: user experience",
          "Education, Learning, and Workforce Development >> Customer Perceptions and Market Feedback >> KW: market responsiveness",
          "Urban Systems and Infrastructure Resilience",
          "Urban Systems and Infrastructure Resilience >> Transport Service Providers and Urban Mobility",
          "Urban Systems and Infrastructure Resilience >> Transport Service Providers and Urban Mobility >> KW: transport service providers",
          "Urban Systems and Infrastructure Resilience >> Transport Service Providers and Urban Mobility >> KW: transport environments",
          "Urban Systems and Infrastructure Resilience >> Transport Service Providers and Urban Mobility >> KW: transport project delivery",
          "Urban Systems and Infrastructure Resilience >> Transport Service Providers and Urban Mobility >> KW: smart traffic management",
          "Urban Systems and Infrastructure Resilience >> Transport Service Providers and Urban Mobility >> KW: commuter cycling",
          "Urban Systems and Infrastructure Resilience >> Transport Service Providers and Urban Mobility >> KW: urban transport",
          "Urban Systems and Infrastructure Resilience >> Transport Service Providers and Urban Mobility >> KW: public transport precinct design",
          "Urban Systems and Infrastructure Resilience >> Transport Service Providers and Urban Mobility >> KW: reduced car dependency",
          "Urban Systems and Infrastructure Resilience >> Transport Service Providers and Urban Mobility >> KW: commuter safety",
          "Urban Systems and Infrastructure Resilience >> Transport Service Providers and Urban Mobility >> KW: intermodal transport",
          "Urban Systems and Infrastructure Resilience >> Transport Service Providers and Urban Mobility >> KW: ferry and water transport",
          "Urban Systems and Infrastructure Resilience >> Transport Environments and Urban Mobility Systems",
          "Urban Systems and Infrastructure Resilience >> Transport Environments and Urban Mobility Systems >> KW: transport environments",
          "Urban Systems and Infrastructure Resilience >> Transport Environments and Urban Mobility Systems >> KW: transport decision making",
          "Urban Systems and Infrastructure Resilience >> Transport Environments and Urban Mobility Systems >> KW: urban transport",
          "Urban Systems and Infrastructure Resilience >> Transport Environments and Urban Mobility Systems >> KW: public transport",
          "Urban Systems and Infrastructure Resilience >> Transport Environments and Urban Mobility Systems >> KW: commuter cycling",
          "Urban Systems and Infrastructure Resilience >> Transport Environments and Urban Mobility Systems >> KW: road safety",
          "Urban Systems and Infrastructure Resilience >> Transport Environments and Urban Mobility Systems >> KW: traffic flow modeling",
          "Urban Systems and Infrastructure Resilience >> Transport Environments and Urban Mobility Systems >> KW: vehicle-bridge interaction model",
          "Urban Systems and Infrastructure Resilience >> Transport Environments and Urban Mobility Systems >> KW: urban corridors",
          "Urban Systems and Infrastructure Resilience >> Transport Environments and Urban Mobility Systems >> KW: smart traffic management",
          "Urban Systems and Infrastructure Resilience >> Critical Infrastructure Management and Resilience",
          "Urban Systems and Infrastructure Resilience >> Critical Infrastructure Management and Resilience >> KW: critical infrastructure management",
          "Urban Systems and Infrastructure Resilience >> Critical Infrastructure Management and Resilience >> KW: resilient infrastructure",
          "Urban Systems and Infrastructure Resilience >> Critical Infrastructure Management and Resilience >> KW: infrastructure reliability",
          "Urban Systems and Infrastructure Resilience >> Critical Infrastructure Management and Resilience >> KW: infrastructure damage mitigation",
          "Urban Systems and Infrastructure Resilience >> Critical Infrastructure Management and Resilience >> KW: energy system reliability",
          "Urban Systems and Infrastructure Resilience >> Critical Infrastructure Management and Resilience >> KW: grid load balancing",
          "Urban Systems and Infrastructure Resilience >> Critical Infrastructure Management and Resilience >> KW: infrastructure security",
          "Urban Systems and Infrastructure Resilience >> Critical Infrastructure Management and Resilience >> KW: system resilience",
          "Urban Systems and Infrastructure Resilience >> Critical Infrastructure Management and Resilience >> KW: critical systems",
          "Urban Systems and Infrastructure Resilience >> Critical Infrastructure Management and Resilience >> KW: infrastructure planning",
          "Urban Systems and Infrastructure Resilience >> Rider Behaviour and Safety in Transport",
          "Urban Systems and Infrastructure Resilience >> Rider Behaviour and Safety in Transport >> KW: rider behaviour",
          "Urban Systems and Infrastructure Resilience >> Rider Behaviour and Safety in Transport >> KW: road injuries",
          "Urban Systems and Infrastructure Resilience >> Rider Behaviour and Safety in Transport >> KW: commuter safety",
          "Urban Systems and Infrastructure Resilience >> Rider Behaviour and Safety in Transport >> KW: driver assistance",
          "Urban Systems and Infrastructure Resilience >> Rider Behaviour and Safety in Transport >> KW: traffic safety",
          "Urban Systems and Infrastructure Resilience >> Rider Behaviour and Safety in Transport >> KW: vehicle-bridge interaction model",
          "Urban Systems and Infrastructure Resilience >> Rider Behaviour and Safety in Transport >> KW: public transport safety",
          "Urban Systems and Infrastructure Resilience >> Rider Behaviour and Safety in Transport >> KW: safety in urban robotics",
          "Urban Systems and Infrastructure Resilience >> Rider Behaviour and Safety in Transport >> KW: driver behaviour",
          "Urban Systems and Infrastructure Resilience >> Rider Behaviour and Safety in Transport >> KW: safety protocols",
          "Urban Systems and Infrastructure Resilience >> Public Funding Efficiency and Resource Allocation",
          "Urban Systems and Infrastructure Resilience >> Public Funding Efficiency and Resource Allocation >> KW: public funding efficiency",
          "Urban Systems and Infrastructure Resilience >> Public Funding Efficiency and Resource Allocation >> KW: funding body adoption",
          "Urban Systems and Infrastructure Resilience >> Public Funding Efficiency and Resource Allocation >> KW: resource allocation systems",
          "Urban Systems and Infrastructure Resilience >> Public Funding Efficiency and Resource Allocation >> KW: financial efficiency",
          "Urban Systems and Infrastructure Resilience >> Public Funding Efficiency and Resource Allocation >> KW: budgetary allocations",
          "Urban Systems and Infrastructure Resilience >> Public Funding Efficiency and Resource Allocation >> KW: cost-benefit optimization",
          "Urban Systems and Infrastructure Resilience >> Public Funding Efficiency and Resource Allocation >> KW: policy implementation",
          "Urban Systems and Infrastructure Resilience >> Public Funding Efficiency and Resource Allocation >> KW: economic impact assessment",
          "Urban Systems and Infrastructure Resilience >> Public Funding Efficiency and Resource Allocation >> KW: fiscal policy improvement",
          "Urban Systems and Infrastructure Resilience >> Public Funding Efficiency and Resource Allocation >> KW: funding effectiveness",
          "Urban Systems and Infrastructure Resilience >> Project Delivery Improvement and Process Management",
          "Urban Systems and Infrastructure Resilience >> Project Delivery Improvement and Process Management >> KW: project delivery improvement",
          "Urban Systems and Infrastructure Resilience >> Project Delivery Improvement and Process Management >> KW: project cost reduction",
          "Urban Systems and Infrastructure Resilience >> Project Delivery Improvement and Process Management >> KW: planning systems",
          "Urban Systems and Infrastructure Resilience >> Project Delivery Improvement and Process Management >> KW: management triggers",
          "Urban Systems and Infrastructure Resilience >> Project Delivery Improvement and Process Management >> KW: workforce mapping",
          "Urban Systems and Infrastructure Resilience >> Project Delivery Improvement and Process Management >> KW: management cost",
          "Urban Systems and Infrastructure Resilience >> Project Delivery Improvement and Process Management >> KW: project delivery",
          "Urban Systems and Infrastructure Resilience >> Project Delivery Improvement and Process Management >> KW: operational measures",
          "Urban Systems and Infrastructure Resilience >> Project Delivery Improvement and Process Management >> KW: process data analytics",
          "Urban Systems and Infrastructure Resilience >> Project Delivery Improvement and Process Management >> KW: project delivery frameworks",
          "Urban Systems and Infrastructure Resilience >> Service Efficiency Improvement and Operational Excellence",
          "Urban Systems and Infrastructure Resilience >> Service Efficiency Improvement and Operational Excellence >> KW: service efficiency improvement",
          "Urban Systems and Infrastructure Resilience >> Service Efficiency Improvement and Operational Excellence >> KW: service delivery innovation",
          "Urban Systems and Infrastructure Resilience >> Service Efficiency Improvement and Operational Excellence >> KW: project delivery improvement",
          "Urban Systems and Infrastructure Resilience >> Service Efficiency Improvement and Operational Excellence >> KW: organizational assessment",
          "Urban Systems and Infrastructure Resilience >> Service Efficiency Improvement and Operational Excellence >> KW: performance standards",
          "Urban Systems and Infrastructure Resilience >> Service Efficiency Improvement and Operational Excellence >> KW: management plan implementation",
          "Urban Systems and Infrastructure Resilience >> Service Efficiency Improvement and Operational Excellence >> KW: workforce productivity",
          "Urban Systems and Infrastructure Resilience >> Service Efficiency Improvement and Operational Excellence >> KW: system performance modelling",
          "Urban Systems and Infrastructure Resilience >> Service Efficiency Improvement and Operational Excellence >> KW: operational efficiency",
          "Urban Systems and Infrastructure Resilience >> Service Efficiency Improvement and Operational Excellence >> KW: process automation",
          "Urban Systems and Infrastructure Resilience >> Risk Prioritization and Hazard Assessment",
          "Urban Systems and Infrastructure Resilience >> Risk Prioritization and Hazard Assessment >> KW: risk prioritization",
          "Urban Systems and Infrastructure Resilience >> Risk Prioritization and Hazard Assessment >> KW: risk stratification",
          "Urban Systems and Infrastructure Resilience >> Risk Prioritization and Hazard Assessment >> KW: risk analysis framework",
          "Urban Systems and Infrastructure Resilience >> Risk Prioritization and Hazard Assessment >> KW: hazard identification",
          "Urban Systems and Infrastructure Resilience >> Risk Prioritization and Hazard Assessment >> KW: risk assessment for antisocial behavior",
          "Urban Systems and Infrastructure Resilience >> Risk Prioritization and Hazard Assessment >> KW: risk communication",
          "Urban Systems and Infrastructure Resilience >> Risk Prioritization and Hazard Assessment >> KW: risk-based design",
          "Urban Systems and Infrastructure Resilience >> Risk Prioritization and Hazard Assessment >> KW: risk modeling",
          "Urban Systems and Infrastructure Resilience >> Risk Prioritization and Hazard Assessment >> KW: risk reduction",
          "Urban Systems and Infrastructure Resilience >> Risk Prioritization and Hazard Assessment >> KW: hazard assessment",
          "Urban Systems and Infrastructure Resilience >> Policy Scenario Analysis and Strategic Planning",
          "Urban Systems and Infrastructure Resilience >> Policy Scenario Analysis and Strategic Planning >> KW: policy scenario analysis",
          "Urban Systems and Infrastructure Resilience >> Policy Scenario Analysis and Strategic Planning >> KW: strategic foresight",
          "Urban Systems and Infrastructure Resilience >> Policy Scenario Analysis and Strategic Planning >> KW: policy simulation models",
          "Urban Systems and Infrastructure Resilience >> Policy Scenario Analysis and Strategic Planning >> KW: policy-informed research",
          "Urban Systems and Infrastructure Resilience >> Policy Scenario Analysis and Strategic Planning >> KW: scenario planning",
          "Urban Systems and Infrastructure Resilience >> Policy Scenario Analysis and Strategic Planning >> KW: policy content analysis",
          "Urban Systems and Infrastructure Resilience >> Policy Scenario Analysis and Strategic Planning >> KW: policy evaluation",
          "Urban Systems and Infrastructure Resilience >> Policy Scenario Analysis and Strategic Planning >> KW: strategic decision-making",
          "Urban Systems and Infrastructure Resilience >> Policy Scenario Analysis and Strategic Planning >> KW: policy consistency",
          "Urban Systems and Infrastructure Resilience >> Policy Scenario Analysis and Strategic Planning >> KW: policy development",
          "Quantum and Advanced Computational Sciences",
          "Quantum and Advanced Computational Sciences >> Quantum Dynamics and Quantum Computing",
          "Quantum and Advanced Computational Sciences >> Quantum Dynamics and Quantum Computing >> KW: quantum dynamics",
          "Quantum and Advanced Computational Sciences >> Quantum Dynamics and Quantum Computing >> KW: quantum computing foundations",
          "Quantum and Advanced Computational Sciences >> Quantum Dynamics and Quantum Computing >> KW: quantum algorithms",
          "Quantum and Advanced Computational Sciences >> Quantum Dynamics and Quantum Computing >> KW: noisy quantum environments",
          "Quantum and Advanced Computational Sciences >> Quantum Dynamics and Quantum Computing >> KW: quantum control protocols",
          "Quantum and Advanced Computational Sciences >> Quantum Dynamics and Quantum Computing >> KW: quantum sensing",
          "Quantum and Advanced Computational Sciences >> Quantum Dynamics and Quantum Computing >> KW: quantum memory prototypes",
          "Quantum and Advanced Computational Sciences >> Quantum Dynamics and Quantum Computing >> KW: quantum electronic design automation",
          "Quantum and Advanced Computational Sciences >> Quantum Dynamics and Quantum Computing >> KW: quantum software development",
          "Quantum and Advanced Computational Sciences >> Quantum Dynamics and Quantum Computing >> KW: quantum devices",
          "Quantum and Advanced Computational Sciences >> Noisy Quantum Environments and Quantum Error Correction",
          "Quantum and Advanced Computational Sciences >> Noisy Quantum Environments and Quantum Error Correction >> KW: noisy quantum environments",
          "Quantum and Advanced Computational Sciences >> Noisy Quantum Environments and Quantum Error Correction >> KW: quantum error correction",
          "Quantum and Advanced Computational Sciences >> Noisy Quantum Environments and Quantum Error Correction >> KW: quantum control protocols",
          "Quantum and Advanced Computational Sciences >> Noisy Quantum Environments and Quantum Error Correction >> KW: quantum noise",
          "Quantum and Advanced Computational Sciences >> Noisy Quantum Environments and Quantum Error Correction >> KW: quantum stability",
          "Quantum and Advanced Computational Sciences >> Noisy Quantum Environments and Quantum Error Correction >> KW: quantum coherence",
          "Quantum and Advanced Computational Sciences >> Noisy Quantum Environments and Quantum Error Correction >> KW: quantum device reliability",
          "Quantum and Advanced Computational Sciences >> Noisy Quantum Environments and Quantum Error Correction >> KW: quantum computing",
          "Quantum and Advanced Computational Sciences >> Noisy Quantum Environments and Quantum Error Correction >> KW: quantum noise mitigation",
          "Quantum and Advanced Computational Sciences >> Noisy Quantum Environments and Quantum Error Correction >> KW: quantum hardware",
          "Quantum and Advanced Computational Sciences >> Noncommutative Geometry and Advanced Mathematical Frameworks",
          "Quantum and Advanced Computational Sciences >> Noncommutative Geometry and Advanced Mathematical Frameworks >> KW: noncommutative geometry",
          "Quantum and Advanced Computational Sciences >> Noncommutative Geometry and Advanced Mathematical Frameworks >> KW: mathematical innovation",
          "Quantum and Advanced Computational Sciences >> Noncommutative Geometry and Advanced Mathematical Frameworks >> KW: theoretical frameworks",
          "Quantum and Advanced Computational Sciences >> Noncommutative Geometry and Advanced Mathematical Frameworks >> KW: advanced mathematical models",
          "Quantum and Advanced Computational Sciences >> Noncommutative Geometry and Advanced Mathematical Frameworks >> KW: geometric frameworks",
          "Quantum and Advanced Computational Sciences >> Noncommutative Geometry and Advanced Mathematical Frameworks >> KW: algebraic geometry",
          "Quantum and Advanced Computational Sciences >> Noncommutative Geometry and Advanced Mathematical Frameworks >> KW: mathematical physics",
          "Quantum and Advanced Computational Sciences >> Noncommutative Geometry and Advanced Mathematical Frameworks >> KW: theoretical physics",
          "Quantum and Advanced Computational Sciences >> Noncommutative Geometry and Advanced Mathematical Frameworks >> KW: non-standard geometry",
          "Quantum and Advanced Computational Sciences >> Noncommutative Geometry and Advanced Mathematical Frameworks >> KW: mathematical modeling",
          "Quantum and Advanced Computational Sciences >> AI-Driven Inference and Machine Learning Applications",
          "Quantum and Advanced Computational Sciences >> AI-Driven Inference and Machine Learning Applications >> KW: AI-driven inference",
          "Quantum and Advanced Computational Sciences >> AI-Driven Inference and Machine Learning Applications >> KW: machine learning for behavioural prediction",
          "Quantum and Advanced Computational Sciences >> AI-Driven Inference and Machine Learning Applications >> KW: deep learning platforms",
          "Quantum and Advanced Computational Sciences >> AI-Driven Inference and Machine Learning Applications >> KW: machine learning in genomics",
          "Quantum and Advanced Computational Sciences >> AI-Driven Inference and Machine Learning Applications >> KW: machine learning for astrophysics",
          "Quantum and Advanced Computational Sciences >> AI-Driven Inference and Machine Learning Applications >> KW: AI and machine learning",
          "Quantum and Advanced Computational Sciences >> AI-Driven Inference and Machine Learning Applications >> KW: machine learning for structural assessment",
          "Quantum and Advanced Computational Sciences >> AI-Driven Inference and Machine Learning Applications >> KW: machine learning for event detection",
          "Quantum and Advanced Computational Sciences >> AI-Driven Inference and Machine Learning Applications >> KW: predictive modeling",
          "Quantum and Advanced Computational Sciences >> AI-Driven Inference and Machine Learning Applications >> KW: data-driven inference",
          "Quantum and Advanced Computational Sciences >> Statistical Modeling Platforms and Data Science",
          "Quantum and Advanced Computational Sciences >> Statistical Modeling Platforms and Data Science >> KW: statistical modeling platforms",
          "Quantum and Advanced Computational Sciences >> Statistical Modeling Platforms and Data Science >> KW: statistical decomposition",
          "Quantum and Advanced Computational Sciences >> Statistical Modeling Platforms and Data Science >> KW: regression analysis",
          "Quantum and Advanced Computational Sciences >> Statistical Modeling Platforms and Data Science >> KW: statistical pattern recognition",
          "Quantum and Advanced Computational Sciences >> Statistical Modeling Platforms and Data Science >> KW: statistical validation",
          "Quantum and Advanced Computational Sciences >> Statistical Modeling Platforms and Data Science >> KW: statistical anomaly detection",
          "Quantum and Advanced Computational Sciences >> Statistical Modeling Platforms and Data Science >> KW: data-driven modeling",
          "Quantum and Advanced Computational Sciences >> Statistical Modeling Platforms and Data Science >> KW: data science",
          "Quantum and Advanced Computational Sciences >> Statistical Modeling Platforms and Data Science >> KW: predictive modeling",
          "Quantum and Advanced Computational Sciences >> Statistical Modeling Platforms and Data Science >> KW: model inference",
          "Quantum and Advanced Computational Sciences >> Predictive Modeling Software and AI-Driven Forecasting",
          "Quantum and Advanced Computational Sciences >> Predictive Modeling Software and AI-Driven Forecasting >> KW: predictive modeling software",
          "Quantum and Advanced Computational Sciences >> Predictive Modeling Software and AI-Driven Forecasting >> KW: machine learning for astrophysics",
          "Quantum and Advanced Computational Sciences >> Predictive Modeling Software and AI-Driven Forecasting >> KW: deep learning for imaging",
          "Quantum and Advanced Computational Sciences >> Predictive Modeling Software and AI-Driven Forecasting >> KW: predictive material property modeling",
          "Quantum and Advanced Computational Sciences >> Predictive Modeling Software and AI-Driven Forecasting >> KW: predictive health models",
          "Quantum and Advanced Computational Sciences >> Predictive Modeling Software and AI-Driven Forecasting >> KW: climate scenario forecasting",
          "Quantum and Advanced Computational Sciences >> Predictive Modeling Software and AI-Driven Forecasting >> KW: predictive reliability",
          "Quantum and Advanced Computational Sciences >> Predictive Modeling Software and AI-Driven Forecasting >> KW: model training robustness",
          "Quantum and Advanced Computational Sciences >> Predictive Modeling Software and AI-Driven Forecasting >> KW: AI-driven inference",
          "Quantum and Advanced Computational Sciences >> Predictive Modeling Software and AI-Driven Forecasting >> KW: statistical modeling platforms",
          "Quantum and Advanced Computational Sciences >> Data-Driven Biological Inference and Systems Biology",
          "Quantum and Advanced Computational Sciences >> Data-Driven Biological Inference and Systems Biology >> KW: data-driven biological inference",
          "Quantum and Advanced Computational Sciences >> Data-Driven Biological Inference and Systems Biology >> KW: biological pathway analysis",
          "Quantum and Advanced Computational Sciences >> Data-Driven Biological Inference and Systems Biology >> KW: systems biology",
          "Quantum and Advanced Computational Sciences >> Data-Driven Biological Inference and Systems Biology >> KW: genomic data analysis",
          "Quantum and Advanced Computational Sciences >> Data-Driven Biological Inference and Systems Biology >> KW: biological network mapping",
          "Quantum and Advanced Computational Sciences >> Data-Driven Biological Inference and Systems Biology >> KW: biological systems modeling",
          "Quantum and Advanced Computational Sciences >> Data-Driven Biological Inference and Systems Biology >> KW: biological data integration",
          "Quantum and Advanced Computational Sciences >> Data-Driven Biological Inference and Systems Biology >> KW: multi-omics",
          "Quantum and Advanced Computational Sciences >> Data-Driven Biological Inference and Systems Biology >> KW: biological function",
          "Quantum and Advanced Computational Sciences >> Data-Driven Biological Inference and Systems Biology >> KW: biological insight",
          "Quantum and Advanced Computational Sciences >> Global Physics Collaborations and Open Science",
          "Quantum and Advanced Computational Sciences >> Global Physics Collaborations and Open Science >> KW: global physics collaborations",
          "Quantum and Advanced Computational Sciences >> Global Physics Collaborations and Open Science >> KW: open science",
          "Quantum and Advanced Computational Sciences >> Global Physics Collaborations and Open Science >> KW: scientific collaboration",
          "Quantum and Advanced Computational Sciences >> Global Physics Collaborations and Open Science >> KW: data sharing",
          "Quantum and Advanced Computational Sciences >> Global Physics Collaborations and Open Science >> KW: international research",
          "Quantum and Advanced Computational Sciences >> Global Physics Collaborations and Open Science >> KW: scientific communities",
          "Quantum and Advanced Computational Sciences >> Global Physics Collaborations and Open Science >> KW: open data",
          "Quantum and Advanced Computational Sciences >> Global Physics Collaborations and Open Science >> KW: global research networks",
          "Quantum and Advanced Computational Sciences >> Global Physics Collaborations and Open Science >> KW: collaborative research",
          "Quantum and Advanced Computational Sciences >> Global Physics Collaborations and Open Science >> KW: scientific innovation",
          "Social, Economic, and Policy Innovation",
          "Social, Economic, and Policy Innovation >> Job Market Design and Economic Inclusion",
          "Social, Economic, and Policy Innovation >> Job Market Design and Economic Inclusion >> KW: job market design",
          "Social, Economic, and Policy Innovation >> Job Market Design and Economic Inclusion >> KW: employment lifecycle analysis",
          "Social, Economic, and Policy Innovation >> Job Market Design and Economic Inclusion >> KW: workforce inclusion",
          "Social, Economic, and Policy Innovation >> Job Market Design and Economic Inclusion >> KW: inclusive economic development",
          "Social, Economic, and Policy Innovation >> Job Market Design and Economic Inclusion >> KW: gender equity in fishing",
          "Social, Economic, and Policy Innovation >> Job Market Design and Economic Inclusion >> KW: women in work",
          "Social, Economic, and Policy Innovation >> Job Market Design and Economic Inclusion >> KW: youth unemployment",
          "Social, Economic, and Policy Innovation >> Job Market Design and Economic Inclusion >> KW: economic co-benefits",
          "Social, Economic, and Policy Innovation >> Job Market Design and Economic Inclusion >> KW: workforce retention strategies",
          "Social, Economic, and Policy Innovation >> Job Market Design and Economic Inclusion >> KW: economic development through cultural strategy",
          "Social, Economic, and Policy Innovation >> Job Market Design and Economic Inclusion >> KW: occupational pathways",
          "Social, Economic, and Policy Innovation >> Women in Work and Gender Equity",
          "Social, Economic, and Policy Innovation >> Women in Work and Gender Equity >> KW: women in work",
          "Social, Economic, and Policy Innovation >> Women in Work and Gender Equity >> KW: gender equity",
          "Social, Economic, and Policy Innovation >> Women in Work and Gender Equity >> KW: gender equity in fishing",
          "Social, Economic, and Policy Innovation >> Women in Work and Gender Equity >> KW: women in corporate leadership",
          "Social, Economic, and Policy Innovation >> Women in Work and Gender Equity >> KW: gendered economic structures",
          "Social, Economic, and Policy Innovation >> Women in Work and Gender Equity >> KW: workforce inclusion",
          "Social, Economic, and Policy Innovation >> Women in Work and Gender Equity >> KW: female participation in fishing",
          "Social, Economic, and Policy Innovation >> Women in Work and Gender Equity >> KW: gender and work",
          "Social, Economic, and Policy Innovation >> Women in Work and Gender Equity >> KW: women's football",
          "Social, Economic, and Policy Innovation >> Women in Work and Gender Equity >> KW: workplace equity",
          "Social, Economic, and Policy Innovation >> Residential Equity and Housing Policy",
          "Social, Economic, and Policy Innovation >> Residential Equity and Housing Policy >> KW: residential equity",
          "Social, Economic, and Policy Innovation >> Residential Equity and Housing Policy >> KW: housing rights",
          "Social, Economic, and Policy Innovation >> Residential Equity and Housing Policy >> KW: housing standards",
          "Social, Economic, and Policy Innovation >> Residential Equity and Housing Policy >> KW: affordable housing",
          "Social, Economic, and Policy Innovation >> Residential Equity and Housing Policy >> KW: social housing",
          "Social, Economic, and Policy Innovation >> Residential Equity and Housing Policy >> KW: housing access",
          "Social, Economic, and Policy Innovation >> Residential Equity and Housing Policy >> KW: urban housing",
          "Social, Economic, and Policy Innovation >> Residential Equity and Housing Policy >> KW: home ownership",
          "Social, Economic, and Policy Innovation >> Residential Equity and Housing Policy >> KW: housing affordability",
          "Social, Economic, and Policy Innovation >> Residential Equity and Housing Policy >> KW: community housing",
          "Social, Economic, and Policy Innovation >> Social Welfare Reforms and Equity Policy",
          "Social, Economic, and Policy Innovation >> Social Welfare Reforms and Equity Policy >> KW: social welfare reforms",
          "Social, Economic, and Policy Innovation >> Social Welfare Reforms and Equity Policy >> KW: residential equity",
          "Social, Economic, and Policy Innovation >> Social Welfare Reforms and Equity Policy >> KW: public welfare programs",
          "Social, Economic, and Policy Innovation >> Social Welfare Reforms and Equity Policy >> KW: pension system sustainability",
          "Social, Economic, and Policy Innovation >> Social Welfare Reforms and Equity Policy >> KW: income security for elderly",
          "Social, Economic, and Policy Innovation >> Social Welfare Reforms and Equity Policy >> KW: social protection",
          "Social, Economic, and Policy Innovation >> Social Welfare Reforms and Equity Policy >> KW: community wellbeing",
          "Social, Economic, and Policy Innovation >> Social Welfare Reforms and Equity Policy >> KW: equity prices",
          "Social, Economic, and Policy Innovation >> Social Welfare Reforms and Equity Policy >> KW: inclusive public policy",
          "Social, Economic, and Policy Innovation >> Social Welfare Reforms and Equity Policy >> KW: social equity",
          "Social, Economic, and Policy Innovation >> Economic Co-Benefits and Sustainable Development",
          "Social, Economic, and Policy Innovation >> Economic Co-Benefits and Sustainable Development >> KW: economic co-benefits",
          "Social, Economic, and Policy Innovation >> Economic Co-Benefits and Sustainable Development >> KW: inclusive economic development",
          "Social, Economic, and Policy Innovation >> Economic Co-Benefits and Sustainable Development >> KW: sustainable prosperity",
          "Social, Economic, and Policy Innovation >> Economic Co-Benefits and Sustainable Development >> KW: economic development",
          "Social, Economic, and Policy Innovation >> Economic Co-Benefits and Sustainable Development >> KW: economic resilience",
          "Social, Economic, and Policy Innovation >> Economic Co-Benefits and Sustainable Development >> KW: sustainable development",
          "Social, Economic, and Policy Innovation >> Economic Co-Benefits and Sustainable Development >> KW: economic improvement",
          "Social, Economic, and Policy Innovation >> Economic Co-Benefits and Sustainable Development >> KW: value-based modeling",
          "Social, Economic, and Policy Innovation >> Economic Co-Benefits and Sustainable Development >> KW: economic welfare enhancement",
          "Social, Economic, and Policy Innovation >> Economic Co-Benefits and Sustainable Development >> KW: social and economic benefits",
          "Social, Economic, and Policy Innovation >> Economic Theory Application and Policy Design",
          "Social, Economic, and Policy Innovation >> Economic Theory Application and Policy Design >> KW: economic theory application",
          "Social, Economic, and Policy Innovation >> Economic Theory Application and Policy Design >> KW: economic development through cultural strategy",
          "Social, Economic, and Policy Innovation >> Economic Theory Application and Policy Design >> KW: economic improvement in LNG projects",
          "Social, Economic, and Policy Innovation >> Economic Theory Application and Policy Design >> KW: economic base enhancement",
          "Social, Economic, and Policy Innovation >> Economic Theory Application and Policy Design >> KW: market analysis",
          "Social, Economic, and Policy Innovation >> Economic Theory Application and Policy Design >> KW: economic datasets",
          "Social, Economic, and Policy Innovation >> Economic Theory Application and Policy Design >> KW: economic welfare enhancement",
          "Social, Economic, and Policy Innovation >> Economic Theory Application and Policy Design >> KW: economic policy formulation",
          "Social, Economic, and Policy Innovation >> Economic Theory Application and Policy Design >> KW: economic incentives",
          "Social, Economic, and Policy Innovation >> Economic Theory Application and Policy Design >> KW: market competition analysis",
          "Social, Economic, and Policy Innovation >> Policy Scenario Analysis and Strategic Planning",
          "Social, Economic, and Policy Innovation >> Policy Scenario Analysis and Strategic Planning >> KW: policy scenario analysis",
          "Social, Economic, and Policy Innovation >> Policy Scenario Analysis and Strategic Planning >> KW: strategic foresight",
          "Social, Economic, and Policy Innovation >> Policy Scenario Analysis and Strategic Planning >> KW: policy simulation models",
          "Social, Economic, and Policy Innovation >> Policy Scenario Analysis and Strategic Planning >> KW: policy-informed research",
          "Social, Economic, and Policy Innovation >> Policy Scenario Analysis and Strategic Planning >> KW: scenario planning",
          "Social, Economic, and Policy Innovation >> Policy Scenario Analysis and Strategic Planning >> KW: policy content analysis",
          "Social, Economic, and Policy Innovation >> Policy Scenario Analysis and Strategic Planning >> KW: policy evaluation",
          "Social, Economic, and Policy Innovation >> Policy Scenario Analysis and Strategic Planning >> KW: strategic decision-making",
          "Social, Economic, and Policy Innovation >> Policy Scenario Analysis and Strategic Planning >> KW: policy consistency",
          "Social, Economic, and Policy Innovation >> Policy Scenario Analysis and Strategic Planning >> KW: policy development",
          "Social, Economic, and Policy Innovation >> National Interests and Geopolitical Strategy",
          "Social, Economic, and Policy Innovation >> National Interests and Geopolitical Strategy >> KW: national interests",
          "Social, Economic, and Policy Innovation >> National Interests and Geopolitical Strategy >> KW: geopolitical strategy",
          "Social, Economic, and Policy Innovation >> National Interests and Geopolitical Strategy >> KW: Australia's geopolitical strategy",
          "Social, Economic, and Policy Innovation >> National Interests and Geopolitical Strategy >> KW: international relations",
          "Social, Economic, and Policy Innovation >> National Interests and Geopolitical Strategy >> KW: foreign policy",
          "Social, Economic, and Policy Innovation >> National Interests and Geopolitical Strategy >> KW: sovereign rights",
          "Social, Economic, and Policy Innovation >> National Interests and Geopolitical Strategy >> KW: global strategy",
          "Social, Economic, and Policy Innovation >> National Interests and Geopolitical Strategy >> KW: national security",
          "Social, Economic, and Policy Innovation >> National Interests and Geopolitical Strategy >> KW: international cooperation",
          "Social, Economic, and Policy Innovation >> National Interests and Geopolitical Strategy >> KW: global positioning",
          "Social, Economic, and Policy Innovation >> Democratic Fragility and Political Resilience",
          "Social, Economic, and Policy Innovation >> Democratic Fragility and Political Resilience >> KW: democratic fragility",
          "Social, Economic, and Policy Innovation >> Democratic Fragility and Political Resilience >> KW: political behavior analysis",
          "Social, Economic, and Policy Innovation >> Democratic Fragility and Political Resilience >> KW: public trust",
          "Social, Economic, and Policy Innovation >> Democratic Fragility and Political Resilience >> KW: electoral promises",
          "Social, Economic, and Policy Innovation >> Democratic Fragility and Political Resilience >> KW: policy scenario analysis",
          "Social, Economic, and Policy Innovation >> Democratic Fragility and Political Resilience >> KW: political engagement",
          "Social, Economic, and Policy Innovation >> Democratic Fragility and Political Resilience >> KW: institutional strength evaluation",
          "Social, Economic, and Policy Innovation >> Democratic Fragility and Political Resilience >> KW: transparent governance",
          "Social, Economic, and Policy Innovation >> Democratic Fragility and Political Resilience >> KW: electoral reform",
          "Social, Economic, and Policy Innovation >> Democratic Fragility and Political Resilience >> KW: civic value assessment",
          "Social, Economic, and Policy Innovation >> Culturally Appropriate Methodology and Indigenous Research",
          "Social, Economic, and Policy Innovation >> Culturally Appropriate Methodology and Indigenous Research >> KW: culturally appropriate methodology",
          "Social, Economic, and Policy Innovation >> Culturally Appropriate Methodology and Indigenous Research >> KW: Indigenous research capacity",
          "Social, Economic, and Policy Innovation >> Culturally Appropriate Methodology and Indigenous Research >> KW: Indigenous knowledge",
          "Social, Economic, and Policy Innovation >> Culturally Appropriate Methodology and Indigenous Research >> KW: Indigenous-led research",
          "Social, Economic, and Policy Innovation >> Culturally Appropriate Methodology and Indigenous Research >> KW: Indigenous methodologies",
          "Social, Economic, and Policy Innovation >> Culturally Appropriate Methodology and Indigenous Research >> KW: cultural safety",
          "Social, Economic, and Policy Innovation >> Culturally Appropriate Methodology and Indigenous Research >> KW: Indigenous cultural values",
          "Social, Economic, and Policy Innovation >> Culturally Appropriate Methodology and Indigenous Research >> KW: Indigenous participation",
          "Social, Economic, and Policy Innovation >> Culturally Appropriate Methodology and Indigenous Research >> KW: Indigenous-led fisheries",
          "Social, Economic, and Policy Innovation >> Culturally Appropriate Methodology and Indigenous Research >> KW: cultural knowledge",
          "Social, Economic, and Policy Innovation >> Living Evidence and Community-Based Knowledge",
          "Social, Economic, and Policy Innovation >> Living Evidence and Community-Based Knowledge >> KW: living evidence",
          "Social, Economic, and Policy Innovation >> Living Evidence and Community-Based Knowledge >> KW: community knowledge sharing",
          "Social, Economic, and Policy Innovation >> Living Evidence and Community-Based Knowledge >> KW: Indigenous knowledge",
          "Social, Economic, and Policy Innovation >> Living Evidence and Community-Based Knowledge >> KW: community-based research",
          "Social, Economic, and Policy Innovation >> Living Evidence and Community-Based Knowledge >> KW: local knowledge",
          "Social, Economic, and Policy Innovation >> Living Evidence and Community-Based Knowledge >> KW: cultural knowledge",
          "Social, Economic, and Policy Innovation >> Living Evidence and Community-Based Knowledge >> KW: community engagement",
          "Social, Economic, and Policy Innovation >> Living Evidence and Community-Based Knowledge >> KW: Indigenous-led conservation",
          "Social, Economic, and Policy Innovation >> Living Evidence and Community-Based Knowledge >> KW: cultural knowledge transfer",
          "Social, Economic, and Policy Innovation >> Living Evidence and Community-Based Knowledge >> KW: Indigenous research capacity",
          "Agricultural and Food Systems Innovation",
          "Agricultural and Food Systems Innovation >> Drought-Resistant Crops and Agricultural Resilience",
          "Agricultural and Food Systems Innovation >> Drought-Resistant Crops and Agricultural Resilience >> KW: drought-resistant crops",
          "Agricultural and Food Systems Innovation >> Drought-Resistant Crops and Agricultural Resilience >> KW: crop yield maximisation",
          "Agricultural and Food Systems Innovation >> Drought-Resistant Crops and Agricultural Resilience >> KW: plant adaptation",
          "Agricultural and Food Systems Innovation >> Drought-Resistant Crops and Agricultural Resilience >> KW: agricultural resilience",
          "Agricultural and Food Systems Innovation >> Drought-Resistant Crops and Agricultural Resilience >> KW: water-limited conditions",
          "Agricultural and Food Systems Innovation >> Drought-Resistant Crops and Agricultural Resilience >> KW: soil moisture mapping",
          "Agricultural and Food Systems Innovation >> Drought-Resistant Crops and Agricultural Resilience >> KW: enhanced photosynthetic efficiency",
          "Agricultural and Food Systems Innovation >> Drought-Resistant Crops and Agricultural Resilience >> KW: plant physiological responses",
          "Agricultural and Food Systems Innovation >> Drought-Resistant Crops and Agricultural Resilience >> KW: agricultural microbiology",
          "Agricultural and Food Systems Innovation >> Drought-Resistant Crops and Agricultural Resilience >> KW: sustainable farming practices",
          "Agricultural and Food Systems Innovation >> Crop Yield Maximisation and Agricultural Productivity",
          "Agricultural and Food Systems Innovation >> Crop Yield Maximisation and Agricultural Productivity >> KW: crop yield maximisation",
          "Agricultural and Food Systems Innovation >> Crop Yield Maximisation and Agricultural Productivity >> KW: improving crop yields",
          "Agricultural and Food Systems Innovation >> Crop Yield Maximisation and Agricultural Productivity >> KW: agricultural productivity",
          "Agricultural and Food Systems Innovation >> Crop Yield Maximisation and Agricultural Productivity >> KW: enhanced photosynthetic efficiency",
          "Agricultural and Food Systems Innovation >> Crop Yield Maximisation and Agricultural Productivity >> KW: precision agriculture",
          "Agricultural and Food Systems Innovation >> Crop Yield Maximisation and Agricultural Productivity >> KW: soil health",
          "Agricultural and Food Systems Innovation >> Crop Yield Maximisation and Agricultural Productivity >> KW: agricultural trade",
          "Agricultural and Food Systems Innovation >> Crop Yield Maximisation and Agricultural Productivity >> KW: fertilizer efficiency",
          "Agricultural and Food Systems Innovation >> Crop Yield Maximisation and Agricultural Productivity >> KW: agricultural gene modulation",
          "Agricultural and Food Systems Innovation >> Crop Yield Maximisation and Agricultural Productivity >> KW: sustainable farming practices",
          "Agricultural and Food Systems Innovation >> Biological Feed Development and Sustainable Nutrition",
          "Agricultural and Food Systems Innovation >> Biological Feed Development and Sustainable Nutrition >> KW: biological feed development",
          "Agricultural and Food Systems Innovation >> Biological Feed Development and Sustainable Nutrition >> KW: natural feedstuffs",
          "Agricultural and Food Systems Innovation >> Biological Feed Development and Sustainable Nutrition >> KW: local feedstuffs",
          "Agricultural and Food Systems Innovation >> Biological Feed Development and Sustainable Nutrition >> KW: reduced fertilizer dependency",
          "Agricultural and Food Systems Innovation >> Biological Feed Development and Sustainable Nutrition >> KW: nutrient modelling",
          "Agricultural and Food Systems Innovation >> Biological Feed Development and Sustainable Nutrition >> KW: organic metal binding",
          "Agricultural and Food Systems Innovation >> Biological Feed Development and Sustainable Nutrition >> KW: enhanced photosynthetic efficiency",
          "Agricultural and Food Systems Innovation >> Biological Feed Development and Sustainable Nutrition >> KW: nutrient interaction modeling",
          "Agricultural and Food Systems Innovation >> Biological Feed Development and Sustainable Nutrition >> KW: dietary reconstruction",
          "Agricultural and Food Systems Innovation >> Biological Feed Development and Sustainable Nutrition >> KW: high protein legume",
          "Agricultural and Food Systems Innovation >> Biological Feed Development and Sustainable Nutrition >> KW: animal breeding efficiency",
          "Agricultural and Food Systems Innovation >> Fishing as a Public Health Intervention",
          "Agricultural and Food Systems Innovation >> Fishing as a Public Health Intervention >> KW: fishing as a public health intervention",
          "Agricultural and Food Systems Innovation >> Fishing as a Public Health Intervention >> KW: marine food products",
          "Agricultural and Food Systems Innovation >> Fishing as a Public Health Intervention >> KW: fishery health",
          "Agricultural and Food Systems Innovation >> Fishing as a Public Health Intervention >> KW: nutritional benefits",
          "Agricultural and Food Systems Innovation >> Fishing as a Public Health Intervention >> KW: community health",
          "Agricultural and Food Systems Innovation >> Fishing as a Public Health Intervention >> KW: fishing for health",
          "Agricultural and Food Systems Innovation >> Fishing as a Public Health Intervention >> KW: food security",
          "Agricultural and Food Systems Innovation >> Fishing as a Public Health Intervention >> KW: fish consumption",
          "Agricultural and Food Systems Innovation >> Fishing as a Public Health Intervention >> KW: public health",
          "Agricultural and Food Systems Innovation >> Fishing as a Public Health Intervention >> KW: marine health",
          "Agricultural and Food Systems Innovation >> Fish Market Safety and Food Quality Assurance",
          "Agricultural and Food Systems Innovation >> Fish Market Safety and Food Quality Assurance >> KW: fish market safety",
          "Agricultural and Food Systems Innovation >> Fish Market Safety and Food Quality Assurance >> KW: seafood value addition",
          "Agricultural and Food Systems Innovation >> Fish Market Safety and Food Quality Assurance >> KW: fishery harvest strategies",
          "Agricultural and Food Systems Innovation >> Fish Market Safety and Food Quality Assurance >> KW: pathogen characterization",
          "Agricultural and Food Systems Innovation >> Fish Market Safety and Food Quality Assurance >> KW: food safety management",
          "Agricultural and Food Systems Innovation >> Fish Market Safety and Food Quality Assurance >> KW: seafood industry growth",
          "Agricultural and Food Systems Innovation >> Fish Market Safety and Food Quality Assurance >> KW: fish and chips",
          "Agricultural and Food Systems Innovation >> Fish Market Safety and Food Quality Assurance >> KW: fish welfare",
          "Agricultural and Food Systems Innovation >> Fish Market Safety and Food Quality Assurance >> KW: marine food products",
          "Agricultural and Food Systems Innovation >> Fish Market Safety and Food Quality Assurance >> KW: food safety improvement",
          "Agricultural and Food Systems Innovation >> Taste and Odour Control in Water and Food",
          "Agricultural and Food Systems Innovation >> Taste and Odour Control in Water and Food >> KW: taste and odour control",
          "Agricultural and Food Systems Innovation >> Taste and Odour Control in Water and Food >> KW: water quality",
          "Agricultural and Food Systems Innovation >> Taste and Odour Control in Water and Food >> KW: taste profiles",
          "Agricultural and Food Systems Innovation >> Taste and Odour Control in Water and Food >> KW: odour control",
          "Agricultural and Food Systems Innovation >> Taste and Odour Control in Water and Food >> KW: environmental quality",
          "Agricultural and Food Systems Innovation >> Taste and Odour Control in Water and Food >> KW: taste analysis",
          "Agricultural and Food Systems Innovation >> Taste and Odour Control in Water and Food >> KW: food safety",
          "Agricultural and Food Systems Innovation >> Taste and Odour Control in Water and Food >> KW: taste testing",
          "Agricultural and Food Systems Innovation >> Taste and Odour Control in Water and Food >> KW: flavour replication",
          "Agricultural and Food Systems Innovation >> Taste and Odour Control in Water and Food >> KW: sensory evaluation",
          "Human-Centered Technologies and Interaction",
          "Human-Centered Technologies and Interaction >> Perceptual Evaluation and Human-Computer Interaction",
          "Human-Centered Technologies and Interaction >> Perceptual Evaluation and Human-Computer Interaction >> KW: perceptual evaluation",
          "Human-Centered Technologies and Interaction >> Perceptual Evaluation and Human-Computer Interaction >> KW: user interface analytics",
          "Human-Centered Technologies and Interaction >> Perceptual Evaluation and Human-Computer Interaction >> KW: human-machine interface evaluation",
          "Human-Centered Technologies and Interaction >> Perceptual Evaluation and Human-Computer Interaction >> KW: user accessibility evaluation",
          "Human-Centered Technologies and Interaction >> Perceptual Evaluation and Human-Computer Interaction >> KW: interactive data dashboards",
          "Human-Centered Technologies and Interaction >> Perceptual Evaluation and Human-Computer Interaction >> KW: user practices",
          "Human-Centered Technologies and Interaction >> Perceptual Evaluation and Human-Computer Interaction >> KW: human-centered lighting",
          "Human-Centered Technologies and Interaction >> Perceptual Evaluation and Human-Computer Interaction >> KW: visual input",
          "Human-Centered Technologies and Interaction >> Perceptual Evaluation and Human-Computer Interaction >> KW: interactive sounds",
          "Human-Centered Technologies and Interaction >> Perceptual Evaluation and Human-Computer Interaction >> KW: sensory technologies",
          "Human-Centered Technologies and Interaction >> Visual Attention and Cognitive Processing",
          "Human-Centered Technologies and Interaction >> Visual Attention and Cognitive Processing >> KW: visual attention",
          "Human-Centered Technologies and Interaction >> Visual Attention and Cognitive Processing >> KW: visual working memory",
          "Human-Centered Technologies and Interaction >> Visual Attention and Cognitive Processing >> KW: neural mechanisms of attention",
          "Human-Centered Technologies and Interaction >> Visual Attention and Cognitive Processing >> KW: perceptual evaluation",
          "Human-Centered Technologies and Interaction >> Visual Attention and Cognitive Processing >> KW: visual recording",
          "Human-Centered Technologies and Interaction >> Visual Attention and Cognitive Processing >> KW: visual storytelling (film)",
          "Human-Centered Technologies and Interaction >> Visual Attention and Cognitive Processing >> KW: human perception",
          "Human-Centered Technologies and Interaction >> Visual Attention and Cognitive Processing >> KW: neurovisual experiments",
          "Human-Centered Technologies and Interaction >> Visual Attention and Cognitive Processing >> KW: cognitive architecture",
          "Human-Centered Technologies and Interaction >> Visual Attention and Cognitive Processing >> KW: attention to detail",
          "Human-Centered Technologies and Interaction >> Operator Performance and Human Factors",
          "Human-Centered Technologies and Interaction >> Operator Performance and Human Factors >> KW: operator performance",
          "Human-Centered Technologies and Interaction >> Operator Performance and Human Factors >> KW: human factors",
          "Human-Centered Technologies and Interaction >> Operator Performance and Human Factors >> KW: human-machine interaction",
          "Human-Centered Technologies and Interaction >> Operator Performance and Human Factors >> KW: workplace safety",
          "Human-Centered Technologies and Interaction >> Operator Performance and Human Factors >> KW: human error",
          "Human-Centered Technologies and Interaction >> Operator Performance and Human Factors >> KW: operator training",
          "Human-Centered Technologies and Interaction >> Operator Performance and Human Factors >> KW: human performance",
          "Human-Centered Technologies and Interaction >> Operator Performance and Human Factors >> KW: safety protocols",
          "Human-Centered Technologies and Interaction >> Operator Performance and Human Factors >> KW: human reliability",
          "Human-Centered Technologies and Interaction >> Operator Performance and Human Factors >> KW: workplace ergonomics",
          "Human-Centered Technologies and Interaction >> Interactive Data Dashboards and Visualization",
          "Human-Centered Technologies and Interaction >> Interactive Data Dashboards and Visualization >> KW: interactive data dashboards",
          "Human-Centered Technologies and Interaction >> Interactive Data Dashboards and Visualization >> KW: data visualization in art",
          "Human-Centered Technologies and Interaction >> Interactive Data Dashboards and Visualization >> KW: visual storytelling (film)",
          "Human-Centered Technologies and Interaction >> Interactive Data Dashboards and Visualization >> KW: interactive sounds",
          "Human-Centered Technologies and Interaction >> Interactive Data Dashboards and Visualization >> KW: data-driven design",
          "Human-Centered Technologies and Interaction >> Interactive Data Dashboards and Visualization >> KW: data visualization",
          "Human-Centered Technologies and Interaction >> Interactive Data Dashboards and Visualization >> KW: visual working memory",
          "Human-Centered Technologies and Interaction >> Interactive Data Dashboards and Visualization >> KW: interactive web mapping",
          "Human-Centered Technologies and Interaction >> Interactive Data Dashboards and Visualization >> KW: digital data collection",
          "Human-Centered Technologies and Interaction >> Interactive Data Dashboards and Visualization >> KW: data exploration",
          "Human-Centered Technologies and Interaction >> Wireless System Architecture and Communication Networks",
          "Human-Centered Technologies and Interaction >> Wireless System Architecture and Communication Networks >> KW: wireless system architecture",
          "Human-Centered Technologies and Interaction >> Wireless System Architecture and Communication Networks >> KW: wireless networks",
          "Human-Centered Technologies and Interaction >> Wireless System Architecture and Communication Networks >> KW: 5G infrastructure",
          "Human-Centered Technologies and Interaction >> Wireless System Architecture and Communication Networks >> KW: network performance monitoring",
          "Human-Centered Technologies and Interaction >> Wireless System Architecture and Communication Networks >> KW: mobile device connectivity",
          "Human-Centered Technologies and Interaction >> Wireless System Architecture and Communication Networks >> KW: communication planning",
          "Human-Centered Technologies and Interaction >> Wireless System Architecture and Communication Networks >> KW: signal processing",
          "Human-Centered Technologies and Interaction >> Wireless System Architecture and Communication Networks >> KW: network design",
          "Human-Centered Technologies and Interaction >> Wireless System Architecture and Communication Networks >> KW: wireless transmission",
          "Human-Centered Technologies and Interaction >> Wireless System Architecture and Communication Networks >> KW: network reliability",
          "Human-Centered Technologies and Interaction >> Event Invitations and Social Interaction Dynamics",
          "Human-Centered Technologies and Interaction >> Event Invitations and Social Interaction Dynamics >> KW: event invitations",
          "Human-Centered Technologies and Interaction >> Event Invitations and Social Interaction Dynamics >> KW: social interaction",
          "Human-Centered Technologies and Interaction >> Event Invitations and Social Interaction Dynamics >> KW: community engagement",
          "Human-Centered Technologies and Interaction >> Event Invitations and Social Interaction Dynamics >> KW: social dynamics",
          "Human-Centered Technologies and Interaction >> Event Invitations and Social Interaction Dynamics >> KW: event planning",
          "Human-Centered Technologies and Interaction >> Event Invitations and Social Interaction Dynamics >> KW: social networking",
          "Human-Centered Technologies and Interaction >> Event Invitations and Social Interaction Dynamics >> KW: digital invitations",
          "Human-Centered Technologies and Interaction >> Event Invitations and Social Interaction Dynamics >> KW: social participation",
          "Human-Centered Technologies and Interaction >> Event Invitations and Social Interaction Dynamics >> KW: community events",
          "Human-Centered Technologies and Interaction >> Event Invitations and Social Interaction Dynamics >> KW: social connection",
          "Human-Centered Technologies and Interaction >> Gaming Industries and Human-Computer Interaction",
          "Human-Centered Technologies and Interaction >> Gaming Industries and Human-Computer Interaction >> KW: gaming industries",
          "Human-Centered Technologies and Interaction >> Gaming Industries and Human-Computer Interaction >> KW: virtual reality (VR) systems",
          "Human-Centered Technologies and Interaction >> Gaming Industries and Human-Computer Interaction >> KW: immersive simulation",
          "Human-Centered Technologies and Interaction >> Gaming Industries and Human-Computer Interaction >> KW: interactive narratives",
          "Human-Centered Technologies and Interaction >> Gaming Industries and Human-Computer Interaction >> KW: digital engagement tools",
          "Human-Centered Technologies and Interaction >> Gaming Industries and Human-Computer Interaction >> KW: human-robot co-evolution",
          "Human-Centered Technologies and Interaction >> Gaming Industries and Human-Computer Interaction >> KW: interactive sound",
          "Human-Centered Technologies and Interaction >> Gaming Industries and Human-Computer Interaction >> KW: immersive technology",
          "Human-Centered Technologies and Interaction >> Gaming Industries and Human-Computer Interaction >> KW: game-based learning",
          "Human-Centered Technologies and Interaction >> Gaming Industries and Human-Computer Interaction >> KW: digital experiences",
          "Ecological and Environmental Restoration",
          "Ecological and Environmental Restoration >> Trophic Reconstruction and Ecosystem Dynamics",
          "Ecological and Environmental Restoration >> Trophic Reconstruction and Ecosystem Dynamics >> KW: trophic reconstruction",
          "Ecological and Environmental Restoration >> Trophic Reconstruction and Ecosystem Dynamics >> KW: trophic state modeling",
          "Ecological and Environmental Restoration >> Trophic Reconstruction and Ecosystem Dynamics >> KW: ecosystem dynamics",
          "Ecological and Environmental Restoration >> Trophic Reconstruction and Ecosystem Dynamics >> KW: food web modeling",
          "Ecological and Environmental Restoration >> Trophic Reconstruction and Ecosystem Dynamics >> KW: biodiversity",
          "Ecological and Environmental Restoration >> Trophic Reconstruction and Ecosystem Dynamics >> KW: ecological interactions",
          "Ecological and Environmental Restoration >> Trophic Reconstruction and Ecosystem Dynamics >> KW: trophic interactions",
          "Ecological and Environmental Restoration >> Trophic Reconstruction and Ecosystem Dynamics >> KW: ecosystem function",
          "Ecological and Environmental Restoration >> Trophic Reconstruction and Ecosystem Dynamics >> KW: ecological balance",
          "Ecological and Environmental Restoration >> Trophic Reconstruction and Ecosystem Dynamics >> KW: species interactions",
          "Ecological and Environmental Restoration >> Lake Condition Trends and Ecosystem Monitoring",
          "Ecological and Environmental Restoration >> Lake Condition Trends and Ecosystem Monitoring >> KW: lake condition trends",
          "Ecological and Environmental Restoration >> Lake Condition Trends and Ecosystem Monitoring >> KW: ecosystem function modeling",
          "Ecological and Environmental Restoration >> Lake Condition Trends and Ecosystem Monitoring >> KW: marine ecosystem degradation",
          "Ecological and Environmental Restoration >> Lake Condition Trends and Ecosystem Monitoring >> KW: biodiversity protection",
          "Ecological and Environmental Restoration >> Lake Condition Trends and Ecosystem Monitoring >> KW: ecological monitoring",
          "Ecological and Environmental Restoration >> Lake Condition Trends and Ecosystem Monitoring >> KW: water quality",
          "Ecological and Environmental Restoration >> Lake Condition Trends and Ecosystem Monitoring >> KW: lake health",
          "Ecological and Environmental Restoration >> Lake Condition Trends and Ecosystem Monitoring >> KW: ecosystem preservation",
          "Ecological and Environmental Restoration >> Lake Condition Trends and Ecosystem Monitoring >> KW: environmental change",
          "Ecological and Environmental Restoration >> Lake Condition Trends and Ecosystem Monitoring >> KW: aquatic biomonitoring",
          "Ecological and Environmental Restoration >> Wildlife Disease Management and Zoonotic Risk",
          "Ecological and Environmental Restoration >> Wildlife Disease Management and Zoonotic Risk >> KW: wildlife disease management",
          "Ecological and Environmental Restoration >> Wildlife Disease Management and Zoonotic Risk >> KW: zoonotic disease risk assessment",
          "Ecological and Environmental Restoration >> Wildlife Disease Management and Zoonotic Risk >> KW: animal disease",
          "Ecological and Environmental Restoration >> Wildlife Disease Management and Zoonotic Risk >> KW: pathogen transmission",
          "Ecological and Environmental Restoration >> Wildlife Disease Management and Zoonotic Risk >> KW: disease in animals",
          "Ecological and Environmental Restoration >> Wildlife Disease Management and Zoonotic Risk >> KW: wildlife health",
          "Ecological and Environmental Restoration >> Wildlife Disease Management and Zoonotic Risk >> KW: zoonotic infections",
          "Ecological and Environmental Restoration >> Wildlife Disease Management and Zoonotic Risk >> KW: disease surveillance",
          "Ecological and Environmental Restoration >> Wildlife Disease Management and Zoonotic Risk >> KW: wildlife conservation",
          "Ecological and Environmental Restoration >> Wildlife Disease Management and Zoonotic Risk >> KW: disease control",
          "Ecological and Environmental Restoration >> Fossil Site Survey and Paleoenvironmental Reconstruction",
          "Ecological and Environmental Restoration >> Fossil Site Survey and Paleoenvironmental Reconstruction >> KW: fossil site survey",
          "Ecological and Environmental Restoration >> Fossil Site Survey and Paleoenvironmental Reconstruction >> KW: palaeoecological data",
          "Ecological and Environmental Restoration >> Fossil Site Survey and Paleoenvironmental Reconstruction >> KW: paleoenvironmental reconstruction",
          "Ecological and Environmental Restoration >> Fossil Site Survey and Paleoenvironmental Reconstruction >> KW: fossil deposits",
          "Ecological and Environmental Restoration >> Fossil Site Survey and Paleoenvironmental Reconstruction >> KW: ancient ecosystems",
          "Ecological and Environmental Restoration >> Fossil Site Survey and Paleoenvironmental Reconstruction >> KW: geological record",
          "Ecological and Environmental Restoration >> Fossil Site Survey and Paleoenvironmental Reconstruction >> KW: evolutionary history",
          "Ecological and Environmental Restoration >> Fossil Site Survey and Paleoenvironmental Reconstruction >> KW: paleoclimate",
          "Ecological and Environmental Restoration >> Fossil Site Survey and Paleoenvironmental Reconstruction >> KW: fossil record",
          "Ecological and Environmental Restoration >> Fossil Site Survey and Paleoenvironmental Reconstruction >> KW: prehistoric environments",
          "Ecological and Environmental Restoration >> Plant Sensing and Environmental Monitoring",
          "Ecological and Environmental Restoration >> Plant Sensing and Environmental Monitoring >> KW: plant sensing",
          "Ecological and Environmental Restoration >> Plant Sensing and Environmental Monitoring >> KW: plant physiological responses",
          "Ecological and Environmental Restoration >> Plant Sensing and Environmental Monitoring >> KW: plant roots",
          "Ecological and Environmental Restoration >> Plant Sensing and Environmental Monitoring >> KW: plant adaptation",
          "Ecological and Environmental Restoration >> Plant Sensing and Environmental Monitoring >> KW: soil-plant interaction analysis",
          "Ecological and Environmental Restoration >> Plant Sensing and Environmental Monitoring >> KW: plant-pathogen interactions",
          "Ecological and Environmental Restoration >> Plant Sensing and Environmental Monitoring >> KW: plant bioreactors",
          "Ecological and Environmental Restoration >> Plant Sensing and Environmental Monitoring >> KW: phenological analysis",
          "Ecological and Environmental Restoration >> Plant Sensing and Environmental Monitoring >> KW: crop yield maximisation",
          "Ecological and Environmental Restoration >> Plant Sensing and Environmental Monitoring >> KW: plant hormone signalling",
          "Ecological and Environmental Restoration >> Plant Sensing and Environmental Monitoring >> KW: environmental interactions in plants",
          "Ecological and Environmental Restoration >> Groundwater Contamination and Remediation",
          "Ecological and Environmental Restoration >> Groundwater Contamination and Remediation >> KW: groundwater contamination",
          "Ecological and Environmental Restoration >> Groundwater Contamination and Remediation >> KW: soil and groundwater remediation",
          "Ecological and Environmental Restoration >> Groundwater Contamination and Remediation >> KW: heavy metal concentration analysis",
          "Ecological and Environmental Restoration >> Groundwater Contamination and Remediation >> KW: pollution prevention",
          "Ecological and Environmental Restoration >> Groundwater Contamination and Remediation >> KW: contaminant concentration profiling",
          "Ecological and Environmental Restoration >> Groundwater Contamination and Remediation >> KW: environmental cleanup technologies",
          "Ecological and Environmental Restoration >> Groundwater Contamination and Remediation >> KW: wastewater treatment in aquaculture",
          "Ecological and Environmental Restoration >> Groundwater Contamination and Remediation >> KW: soil-plant interaction analysis",
          "Ecological and Environmental Restoration >> Groundwater Contamination and Remediation >> KW: hydrogeology",
          "Ecological and Environmental Restoration >> Groundwater Contamination and Remediation >> KW: remediation systems",
          "Ecological and Environmental Restoration >> Sludge Reduction and Waste Management",
          "Ecological and Environmental Restoration >> Sludge Reduction and Waste Management >> KW: sludge reduction",
          "Ecological and Environmental Restoration >> Sludge Reduction and Waste Management >> KW: wastewater treatment",
          "Ecological and Environmental Restoration >> Sludge Reduction and Waste Management >> KW: waste management policy",
          "Ecological and Environmental Restoration >> Sludge Reduction and Waste Management >> KW: sludge bulking",
          "Ecological and Environmental Restoration >> Sludge Reduction and Waste Management >> KW: biological treatment",
          "Ecological and Environmental Restoration >> Sludge Reduction and Waste Management >> KW: waste-to-resource",
          "Ecological and Environmental Restoration >> Sludge Reduction and Waste Management >> KW: resource recovery",
          "Ecological and Environmental Restoration >> Sludge Reduction and Waste Management >> KW: environmental cleanup",
          "Ecological and Environmental Restoration >> Sludge Reduction and Waste Management >> KW: sewage treatment",
          "Ecological and Environmental Restoration >> Sludge Reduction and Waste Management >> KW: waste-to-resource",
          "Research Methodologies and Scientific Practice",
          "Research Methodologies and Scientific Practice >> Lab-Based Assays and Experimental Validation",
          "Research Methodologies and Scientific Practice >> Lab-Based Assays and Experimental Validation >> KW: lab-based assays",
          "Research Methodologies and Scientific Practice >> Lab-Based Assays and Experimental Validation >> KW: wet-lab validation",
          "Research Methodologies and Scientific Practice >> Lab-Based Assays and Experimental Validation >> KW: experimental testing techniques",
          "Research Methodologies and Scientific Practice >> Lab-Based Assays and Experimental Validation >> KW: lab-scale reactor systems",
          "Research Methodologies and Scientific Practice >> Lab-Based Assays and Experimental Validation >> KW: experimental petrology",
          "Research Methodologies and Scientific Practice >> Lab-Based Assays and Experimental Validation >> KW: in vitro protein engineering",
          "Research Methodologies and Scientific Practice >> Lab-Based Assays and Experimental Validation >> KW: in vitro cell delivery studies",
          "Research Methodologies and Scientific Practice >> Lab-Based Assays and Experimental Validation >> KW: experimental design",
          "Research Methodologies and Scientific Practice >> Lab-Based Assays and Experimental Validation >> KW: biological testing",
          "Research Methodologies and Scientific Practice >> Lab-Based Assays and Experimental Validation >> KW: validation of models",
          "Research Methodologies and Scientific Practice >> Reference Material Development and Calibration",
          "Research Methodologies and Scientific Practice >> Reference Material Development and Calibration >> KW: reference material development",
          "Research Methodologies and Scientific Practice >> Reference Material Development and Calibration >> KW: calibration standards",
          "Research Methodologies and Scientific Practice >> Reference Material Development and Calibration >> KW: analytical standards",
          "Research Methodologies and Scientific Practice >> Reference Material Development and Calibration >> KW: material standardization",
          "Research Methodologies and Scientific Practice >> Reference Material Development and Calibration >> KW: quality control",
          "Research Methodologies and Scientific Practice >> Reference Material Development and Calibration >> KW: standard-setting bodies",
          "Research Methodologies and Scientific Practice >> Reference Material Development and Calibration >> KW: measurement accuracy",
          "Research Methodologies and Scientific Practice >> Reference Material Development and Calibration >> KW: analytical methods",
          "Research Methodologies and Scientific Practice >> Reference Material Development and Calibration >> KW: calibration protocols",
          "Research Methodologies and Scientific Practice >> Reference Material Development and Calibration >> KW: standard reference materials",
          "Research Methodologies and Scientific Practice >> Crowdsourced Annotation and Citizen Science",
          "Research Methodologies and Scientific Practice >> Crowdsourced Annotation and Citizen Science >> KW: crowdsourced annotation",
          "Research Methodologies and Scientific Practice >> Crowdsourced Annotation and Citizen Science >> KW: citizen science",
          "Research Methodologies and Scientific Practice >> Crowdsourced Annotation and Citizen Science >> KW: public participation",
          "Research Methodologies and Scientific Practice >> Crowdsourced Annotation and Citizen Science >> KW: community-based research",
          "Research Methodologies and Scientific Practice >> Crowdsourced Annotation and Citizen Science >> KW: data collection",
          "Research Methodologies and Scientific Practice >> Crowdsourced Annotation and Citizen Science >> KW: public engagement",
          "Research Methodologies and Scientific Practice >> Crowdsourced Annotation and Citizen Science >> KW: community involvement",
          "Research Methodologies and Scientific Practice >> Crowdsourced Annotation and Citizen Science >> KW: public data",
          "Research Methodologies and Scientific Practice >> Crowdsourced Annotation and Citizen Science >> KW: community knowledge",
          "Research Methodologies and Scientific Practice >> Crowdsourced Annotation and Citizen Science >> KW: data sharing",
          "Research Methodologies and Scientific Practice >> Open Platform and Interoperable Frameworks",
          "Research Methodologies and Scientific Practice >> Open Platform and Interoperable Frameworks >> KW: open platform",
          "Research Methodologies and Scientific Practice >> Open Platform and Interoperable Frameworks >> KW: interoperable frameworks",
          "Research Methodologies and Scientific Practice >> Open Platform and Interoperable Frameworks >> KW: open-source modeling tools",
          "Research Methodologies and Scientific Practice >> Open Platform and Interoperable Frameworks >> KW: modular nanotechnology",
          "Research Methodologies and Scientific Practice >> Open Platform and Interoperable Frameworks >> KW: scalable review analysis platforms",
          "Research Methodologies and Scientific Practice >> Open Platform and Interoperable Frameworks >> KW: interoperability",
          "Research Methodologies and Scientific Practice >> Open Platform and Interoperable Frameworks >> KW: open science",
          "Research Methodologies and Scientific Practice >> Open Platform and Interoperable Frameworks >> KW: open data databases",
          "Research Methodologies and Scientific Practice >> Open Platform and Interoperable Frameworks >> KW: system integration",
          "Research Methodologies and Scientific Practice >> Open Platform and Interoperable Frameworks >> KW: modular representations",
          "Research Methodologies and Scientific Practice >> Multi-Analytical Archaeological Approach",
          "Research Methodologies and Scientific Practice >> Multi-Analytical Archaeological Approach >> KW: multi-analytical archaeological approach",
          "Research Methodologies and Scientific Practice >> Multi-Analytical Archaeological Approach >> KW: archaeological diagnostics",
          "Research Methodologies and Scientific Practice >> Multi-Analytical Archaeological Approach >> KW: archaeological records",
          "Research Methodologies and Scientific Practice >> Multi-Analytical Archaeological Approach >> KW: fossil site survey",
          "Research Methodologies and Scientific Practice >> Multi-Analytical Archaeological Approach >> KW: historical fuel analysis",
          "Research Methodologies and Scientific Practice >> Multi-Analytical Archaeological Approach >> KW: scientific archaeological techniques",
          "Research Methodologies and Scientific Practice >> Multi-Analytical Archaeological Approach >> KW: archaeological fieldwork",
          "Research Methodologies and Scientific Practice >> Multi-Analytical Archaeological Approach >> KW: historical database construction",
          "Research Methodologies and Scientific Practice >> Multi-Analytical Archaeological Approach >> KW: palaeoecological data",
          "Research Methodologies and Scientific Practice >> Multi-Analytical Archaeological Approach >> KW: digital mapping",
          "Research Methodologies and Scientific Practice >> Multi-Analytical Archaeological Approach >> KW: remote sensing of exoplanets",
          "Research Methodologies and Scientific Practice >> Multi-Analytical Archaeological Approach >> KW: on-site analysis",
          "Research Methodologies and Scientific Practice >> Multi-Analytical Archaeological Approach >> KW: archaeological interpretation",
          "Research Methodologies and Scientific Practice >> Archaeological Diagnostics and Digital Reconstruction",
          "Research Methodologies and Scientific Practice >> Archaeological Diagnostics and Digital Reconstruction >> KW: archaeological diagnostics",
          "Research Methodologies and Scientific Practice >> Archaeological Diagnostics and Digital Reconstruction >> KW: digital mapping",
          "Research Methodologies and Scientific Practice >> Archaeological Diagnostics and Digital Reconstruction >> KW: 3D computer vision",
          "Research Methodologies and Scientific Practice >> Archaeological Diagnostics and Digital Reconstruction >> KW: geophysical analysis",
          "Research Methodologies and Scientific Practice >> Archaeological Diagnostics and Digital Reconstruction >> KW: digital drawing tools",
          "Research Methodologies and Scientific Practice >> Archaeological Diagnostics and Digital Reconstruction >> KW: remote sensing",
          "Research Methodologies and Scientific Practice >> Archaeological Diagnostics and Digital Reconstruction >> KW: digital fossil analysis",
          "Research Methodologies and Scientific Practice >> Archaeological Diagnostics and Digital Reconstruction >> KW: archaeological interpretation",
          "Research Methodologies and Scientific Practice >> Archaeological Diagnostics and Digital Reconstruction >> KW: digital archaeological records",
          "Research Methodologies and Scientific Practice >> Archaeological Diagnostics and Digital Reconstruction >> KW: archaeological tools",
          "Research Methodologies and Scientific Practice >> Global Physics Collaborations and Open Science",
          "Research Methodologies and Scientific Practice >> Global Physics Collaborations and Open Science >> KW: global physics collaborations",
          "Research Methodologies and Scientific Practice >> Global Physics Collaborations and Open Science >> KW: open science",
          "Research Methodologies and Scientific Practice >> Global Physics Collaborations and Open Science >> KW: scientific collaboration",
          "Research Methodologies and Scientific Practice >> Global Physics Collaborations and Open Science >> KW: data sharing",
          "Research Methodologies and Scientific Practice >> Global Physics Collaborations and Open Science >> KW: international research",
          "Research Methodologies and Scientific Practice >> Global Physics Collaborations and Open Science >> KW: scientific communities",
          "Research Methodologies and Scientific Practice >> Global Physics Collaborations and Open Science >> KW: open data",
          "Research Methodologies and Scientific Practice >> Global Physics Collaborations and Open Science >> KW: global research networks",
          "Research Methodologies and Scientific Practice >> Global Physics Collaborations and Open Science >> KW: collaborative research",
          "Research Methodologies and Scientific Practice >> Global Physics Collaborations and Open Science >> KW: scientific innovation",
          "Technology Ecosystems and Innovation Dynamics",
          "Technology Ecosystems and Innovation Dynamics >> Technology Climate and Innovation Ecosystems",
          "Technology Ecosystems and Innovation Dynamics >> Technology Climate and Innovation Ecosystems >> KW: technology climate",
          "Technology Ecosystems and Innovation Dynamics >> Technology Climate and Innovation Ecosystems >> KW: innovative research",
          "Technology Ecosystems and Innovation Dynamics >> Technology Climate and Innovation Ecosystems >> KW: technology prototyping",
          "Technology Ecosystems and Innovation Dynamics >> Technology Climate and Innovation Ecosystems >> KW: digital innovation",
          "Technology Ecosystems and Innovation Dynamics >> Technology Climate and Innovation Ecosystems >> KW: research ecosystem development",
          "Technology Ecosystems and Innovation Dynamics >> Technology Climate and Innovation Ecosystems >> KW: innovation policy",
          "Technology Ecosystems and Innovation Dynamics >> Technology Climate and Innovation Ecosystems >> KW: technology development",
          "Technology Ecosystems and Innovation Dynamics >> Technology Climate and Innovation Ecosystems >> KW: emerging technologies",
          "Technology Ecosystems and Innovation Dynamics >> Technology Climate and Innovation Ecosystems >> KW: technology adoption",
          "Technology Ecosystems and Innovation Dynamics >> Technology Climate and Innovation Ecosystems >> KW: innovation systems",
          "Technology Ecosystems and Innovation Dynamics >> Resource Management Algorithms and Optimization",
          "Technology Ecosystems and Innovation Dynamics >> Resource Management Algorithms and Optimization >> KW: resource management algorithms",
          "Technology Ecosystems and Innovation Dynamics >> Resource Management Algorithms and Optimization >> KW: resource targeting",
          "Technology Ecosystems and Innovation Dynamics >> Resource Management Algorithms and Optimization >> KW: energy system reliability",
          "Technology Ecosystems and Innovation Dynamics >> Resource Management Algorithms and Optimization >> KW: resource sustainability",
          "Technology Ecosystems and Innovation Dynamics >> Resource Management Algorithms and Optimization >> KW: efficient micro air vehicle flight",
          "Technology Ecosystems and Innovation Dynamics >> Resource Management Algorithms and Optimization >> KW: energy efficiency",
          "Technology Ecosystems and Innovation Dynamics >> Resource Management Algorithms and Optimization >> KW: optimization algorithms",
          "Technology Ecosystems and Innovation Dynamics >> Resource Management Algorithms and Optimization >> KW: resource-constrained environments",
          "Technology Ecosystems and Innovation Dynamics >> Resource Management Algorithms and Optimization >> KW: sustainable resource use",
          "Technology Ecosystems and Innovation Dynamics >> Resource Management Algorithms and Optimization >> KW: capacity building",
          "Technology Ecosystems and Innovation Dynamics >> Communication Scheduling Analysis and Network Optimization",
          "Technology Ecosystems and Innovation Dynamics >> Communication Scheduling Analysis and Network Optimization >> KW: communication scheduling analysis",
          "Technology Ecosystems and Innovation Dynamics >> Communication Scheduling Analysis and Network Optimization >> KW: wireless network architecture",
          "Technology Ecosystems and Innovation Dynamics >> Communication Scheduling Analysis and Network Optimization >> KW: network performance monitoring",
          "Technology Ecosystems and Innovation Dynamics >> Communication Scheduling Analysis and Network Optimization >> KW: data transmission",
          "Technology Ecosystems and Innovation Dynamics >> Communication Scheduling Analysis and Network Optimization >> KW: high-bandwidth data systems",
          "Technology Ecosystems and Innovation Dynamics >> Communication Scheduling Analysis and Network Optimization >> KW: secure transmission protocols",
          "Technology Ecosystems and Innovation Dynamics >> Communication Scheduling Analysis and Network Optimization >> KW: communication planning",
          "Technology Ecosystems and Innovation Dynamics >> Communication Scheduling Analysis and Network Optimization >> KW: network-aware computation",
          "Technology Ecosystems and Innovation Dynamics >> Communication Scheduling Analysis and Network Optimization >> KW: real-time communication",
          "Technology Ecosystems and Innovation Dynamics >> Communication Scheduling Analysis and Network Optimization >> KW: mobile device connectivity",
          "Technology Ecosystems and Innovation Dynamics >> Flow Control Techniques and Fluid Dynamics",
          "Technology Ecosystems and Innovation Dynamics >> Flow Control Techniques and Fluid Dynamics >> KW: flow control techniques",
          "Technology Ecosystems and Innovation Dynamics >> Flow Control Techniques and Fluid Dynamics >> KW: fluid dynamics",
          "Technology Ecosystems and Innovation Dynamics >> Flow Control Techniques and Fluid Dynamics >> KW: turbulent flow modeling",
          "Technology Ecosystems and Innovation Dynamics >> Flow Control Techniques and Fluid Dynamics >> KW: flow over vehicles",
          "Technology Ecosystems and Innovation Dynamics >> Flow Control Techniques and Fluid Dynamics >> KW: hydrodynamic loading estimation",
          "Technology Ecosystems and Innovation Dynamics >> Flow Control Techniques and Fluid Dynamics >> KW: flow reactors",
          "Technology Ecosystems and Innovation Dynamics >> Flow Control Techniques and Fluid Dynamics >> KW: fluid inclusions",
          "Technology Ecosystems and Innovation Dynamics >> Flow Control Techniques and Fluid Dynamics >> KW: flow-based diagnostics",
          "Technology Ecosystems and Innovation Dynamics >> Flow Control Techniques and Fluid Dynamics >> KW: fluid-structure interaction",
          "Technology Ecosystems and Innovation Dynamics >> Flow Control Techniques and Fluid Dynamics >> KW: fluid transport",
          "Technology Ecosystems and Innovation Dynamics >> Liquidity Constraints and Financial Market Stability",
          "Technology Ecosystems and Innovation Dynamics >> Liquidity Constraints and Financial Market Stability >> KW: liquidity constraints",
          "Technology Ecosystems and Innovation Dynamics >> Liquidity Constraints and Financial Market Stability >> KW: financial market stability",
          "Technology Ecosystems and Innovation Dynamics >> Liquidity Constraints and Financial Market Stability >> KW: financial cycle busts",
          "Technology Ecosystems and Innovation Dynamics >> Liquidity Constraints and Financial Market Stability >> KW: market consistency",
          "Technology Ecosystems and Innovation Dynamics >> Liquidity Constraints and Financial Market Stability >> KW: financial risk analysis",
          "Technology Ecosystems and Innovation Dynamics >> Liquidity Constraints and Financial Market Stability >> KW: financial lending models",
          "Technology Ecosystems and Innovation Dynamics >> Liquidity Constraints and Financial Market Stability >> KW: liquidity risk assessment",
          "Technology Ecosystems and Innovation Dynamics >> Liquidity Constraints and Financial Market Stability >> KW: capital market efficiency",
          "Technology Ecosystems and Innovation Dynamics >> Liquidity Constraints and Financial Market Stability >> KW: financial hedging",
          "Technology Ecosystems and Innovation Dynamics >> Liquidity Constraints and Financial Market Stability >> KW: market volatility",
          "Technology Ecosystems and Innovation Dynamics >> Networked Counterpublics and Digital Activism",
          "Technology Ecosystems and Innovation Dynamics >> Networked Counterpublics and Digital Activism >> KW: networked counterpublics",
          "Technology Ecosystems and Innovation Dynamics >> Networked Counterpublics and Digital Activism >> KW: digital activism",
          "Technology Ecosystems and Innovation Dynamics >> Networked Counterpublics and Digital Activism >> KW: public discourse",
          "Technology Ecosystems and Innovation Dynamics >> Networked Counterpublics and Digital Activism >> KW: digital communities",
          "Technology Ecosystems and Innovation Dynamics >> Networked Counterpublics and Digital Activism >> KW: online engagement",
          "Technology Ecosystems and Innovation Dynamics >> Networked Counterpublics and Digital Activism >> KW: digital democracy",
          "Technology Ecosystems and Innovation Dynamics >> Networked Counterpublics and Digital Activism >> KW: digital resistance",
          "Technology Ecosystems and Innovation Dynamics >> Networked Counterpublics and Digital Activism >> KW: online publics",
          "Technology Ecosystems and Innovation Dynamics >> Networked Counterpublics and Digital Activism >> KW: counter-narratives",
          "Technology Ecosystems and Innovation Dynamics >> Scalable Sensing Architectures and Sensor Networks",
          "Technology Ecosystems and Innovation Dynamics >> Scalable Sensing Architectures and Sensor Networks >> KW: scalable sensing architectures",
          "Technology Ecosystems and Innovation Dynamics >> Scalable Sensing Architectures and Sensor Networks >> KW: distributed sensing",
          "Technology Ecosystems and Innovation Dynamics >> Scalable Sensing Architectures and Sensor Networks >> KW: sensor networks",
          "Technology Ecosystems and Innovation Dynamics >> Scalable Sensing Architectures and Sensor Networks >> KW: real-time sensing",
          "Technology Ecosystems and Innovation Dynamics >> Scalable Sensing Architectures and Sensor Networks >> KW: networked sensing",
          "Technology Ecosystems and Innovation Dynamics >> Scalable Sensing Architectures and Sensor Networks >> KW: sensor data analytics",
          "Technology Ecosystems and Innovation Dynamics >> Scalable Sensing Architectures and Sensor Networks >> KW: distributed robotics",
          "Technology Ecosystems and Innovation Dynamics >> Scalable Sensing Architectures and Sensor Networks >> KW: large-scale monitoring",
          "Technology Ecosystems and Innovation Dynamics >> Scalable Sensing Architectures and Sensor Networks >> KW: sensor fusion",
          "Technology Ecosystems and Innovation Dynamics >> Scalable Sensing Architectures and Sensor Networks >> KW: scalable systems",
          "Indigenous and Community-Based Knowledge",
          "Indigenous and Community-Based Knowledge >> First Nations Students and Indigenous Education",
          "Indigenous and Community-Based Knowledge >> First Nations Students and Indigenous Education >> KW: First Nations students",
          "Indigenous and Community-Based Knowledge >> First Nations Students and Indigenous Education >> KW: Indigenous students",
          "Indigenous and Community-Based Knowledge >> First Nations Students and Indigenous Education >> KW: Indigenous education",
          "Indigenous and Community-Based Knowledge >> First Nations Students and Indigenous Education >> KW: on-country learning",
          "Indigenous and Community-Based Knowledge >> First Nations Students and Indigenous Education >> KW: Indigenous cultural values",
          "Indigenous and Community-Based Knowledge >> First Nations Students and Indigenous Education >> KW: cultural knowledge transfer",
          "Indigenous and Community-Based Knowledge >> First Nations Students and Indigenous Education >> KW: Indigenous-led education",
          "Indigenous and Community-Based Knowledge >> First Nations Students and Indigenous Education >> KW: Indigenous identity",
          "Indigenous and Community-Based Knowledge >> First Nations Students and Indigenous Education >> KW: Indigenous research capacity",
          "Indigenous and Community-Based Knowledge >> First Nations Students and Indigenous Education >> KW: cultural safety",
          "Indigenous and Community-Based Knowledge >> Culturally Appropriate Methodology and Indigenous Research",
          "Indigenous and Community-Based Knowledge >> Culturally Appropriate Methodology and Indigenous Research >> KW: culturally appropriate methodology",
          "Indigenous and Community-Based Knowledge >> Culturally Appropriate Methodology and Indigenous Research >> KW: Indigenous research capacity",
          "Indigenous and Community-Based Knowledge >> Culturally Appropriate Methodology and Indigenous Research >> KW: Indigenous knowledge",
          "Indigenous and Community-Based Knowledge >> Culturally Appropriate Methodology and Indigenous Research >> KW: Indigenous-led research",
          "Indigenous and Community-Based Knowledge >> Culturally Appropriate Methodology and Indigenous Research >> KW: Indigenous methodologies",
          "Indigenous and Community-Based Knowledge >> Culturally Appropriate Methodology and Indigenous Research >> KW: cultural safety",
          "Indigenous and Community-Based Knowledge >> Culturally Appropriate Methodology and Indigenous Research >> KW: Indigenous cultural values",
          "Indigenous and Community-Based Knowledge >> Culturally Appropriate Methodology and Indigenous Research >> KW: Indigenous participation",
          "Indigenous and Community-Based Knowledge >> Culturally Appropriate Methodology and Indigenous Research >> KW: Indigenous-led fisheries",
          "Indigenous and Community-Based Knowledge >> Culturally Appropriate Methodology and Indigenous Research >> KW: cultural knowledge",
          "Indigenous and Community-Based Knowledge >> Living Evidence and Community-Based Knowledge",
          "Indigenous and Community-Based Knowledge >> Living Evidence and Community-Based Knowledge >> KW: living evidence",
          "Indigenous and Community-Based Knowledge >> Living Evidence and Community-Based Knowledge >> KW: community knowledge sharing",
          "Indigenous and Community-Based Knowledge >> Living Evidence and Community-Based Knowledge >> KW: Indigenous knowledge",
          "Indigenous and Community-Based Knowledge >> Living Evidence and Community-Based Knowledge >> KW: community-based research",
          "Indigenous and Community-Based Knowledge >> Living Evidence and Community-Based Knowledge >> KW: local knowledge",
          "Indigenous and Community-Based Knowledge >> Living Evidence and Community-Based Knowledge >> KW: cultural knowledge",
          "Indigenous and Community-Based Knowledge >> Living Evidence and Community-Based Knowledge >> KW: community engagement",
          "Indigenous and Community-Based Knowledge >> Living Evidence and Community-Based Knowledge >> KW: Indigenous-led conservation",
          "Indigenous and Community-Based Knowledge >> Living Evidence and Community-Based Knowledge >> KW: cultural knowledge transfer",
          "Indigenous and Community-Based Knowledge >> Living Evidence and Community-Based Knowledge >> KW: Indigenous research capacity",
          "Indigenous and Community-Based Knowledge >> Accent-Based Discrimination and Linguistic Bias",
          "Indigenous and Community-Based Knowledge >> Accent-Based Discrimination and Linguistic Bias >> KW: accent-based discrimination",
          "Indigenous and Community-Based Knowledge >> Accent-Based Discrimination and Linguistic Bias >> KW: linguistic bias",
          "Indigenous and Community-Based Knowledge >> Accent-Based Discrimination and Linguistic Bias >> KW: language equity",
          "Indigenous and Community-Based Knowledge >> Accent-Based Discrimination and Linguistic Bias >> KW: language socialization",
          "Indigenous and Community-Based Knowledge >> Accent-Based Discrimination and Linguistic Bias >> KW: linguistic diversity",
          "Indigenous and Community-Based Knowledge >> Accent-Based Discrimination and Linguistic Bias >> KW: language policy",
          "Indigenous and Community-Based Knowledge >> Accent-Based Discrimination and Linguistic Bias >> KW: communication barriers",
          "Indigenous and Community-Based Knowledge >> Accent-Based Discrimination and Linguistic Bias >> KW: language discrimination",
          "Indigenous and Community-Based Knowledge >> Accent-Based Discrimination and Linguistic Bias >> KW: linguistic inclusion",
          "Indigenous and Community-Based Knowledge >> Accent-Based Discrimination and Linguistic Bias >> KW: language access",
          "Indigenous and Community-Based Knowledge >> Historical Medicine and Traditional Healing",
          "Indigenous and Community-Based Knowledge >> Historical Medicine and Traditional Healing >> KW: historical medicine",
          "Indigenous and Community-Based Knowledge >> Historical Medicine and Traditional Healing >> KW: traditional healing",
          "Indigenous and Community-Based Knowledge >> Historical Medicine and Traditional Healing >> KW: Indigenous healing",
          "Indigenous and Community-Based Knowledge >> Historical Medicine and Traditional Healing >> KW: historical healing",
          "Indigenous and Community-Based Knowledge >> Historical Medicine and Traditional Healing >> KW: herbal medicine",
          "Indigenous and Community-Based Knowledge >> Historical Medicine and Traditional Healing >> KW: traditional knowledge",
          "Indigenous and Community-Based Knowledge >> Historical Medicine and Traditional Healing >> KW: cultural medicine",
          "Indigenous and Community-Based Knowledge >> Historical Medicine and Traditional Healing >> KW: medical history",
          "Indigenous and Community-Based Knowledge >> Historical Medicine and Traditional Healing >> KW: alternative medicine",
          "Indigenous and Community-Based Knowledge >> Historical Medicine and Traditional Healing >> KW: ethnopharmacology",
          "Indigenous and Community-Based Knowledge >> Historical Language Research and Linguistic Evolution",
          "Indigenous and Community-Based Knowledge >> Historical Language Research and Linguistic Evolution >> KW: historical language research",
          "Indigenous and Community-Based Knowledge >> Historical Language Research and Linguistic Evolution >> KW: linguistic variability",
          "Indigenous and Community-Based Knowledge >> Historical Language Research and Linguistic Evolution >> KW: language contact",
          "Indigenous and Community-Based Knowledge >> Historical Language Research and Linguistic Evolution >> KW: language loss",
          "Indigenous and Community-Based Knowledge >> Historical Language Research and Linguistic Evolution >> KW: linguistic sources",
          "Indigenous and Community-Based Knowledge >> Historical Language Research and Linguistic Evolution >> KW: language socialization",
          "Indigenous and Community-Based Knowledge >> Historical Language Research and Linguistic Evolution >> KW: multilingual text analysis",
          "Indigenous and Community-Based Knowledge >> Historical Language Research and Linguistic Evolution >> KW: language programs in schools",
          "Indigenous and Community-Based Knowledge >> Historical Language Research and Linguistic Evolution >> KW: language ecology",
          "Indigenous and Community-Based Knowledge >> Historical Language Research and Linguistic Evolution >> KW: historical sound"
         ],
         "labels": [
          "Climate and Environmental Systems",
          "Climate-Related Financial Risk Assessment",
          "climate-related financial risk",
          "financial market stability",
          "risk prioritization",
          "financial cycle busts",
          "liquidity constraints",
          "financial crime detection",
          "financial lending models",
          "financial risk analysis",
          "climate action",
          "financial mathematics",
          "economic cycle analysis",
          "financial hedging",
          "investment opportunity identification",
          "liquidity risk assessment",
          "Climate System Prediction and Long-Term Modeling",
          "climate system prediction",
          "climate scenario modeling",
          "climate change effects",
          "climate adaptation modeling",
          "climate-fire interaction models",
          "Southern Ocean climate system",
          "climate resilience",
          "climate-induced famine",
          "climate response options",
          "global climate mitigation strategies",
          "Groundwater Contamination and Remediation",
          "groundwater contamination",
          "soil and groundwater remediation",
          "heavy metal concentration analysis",
          "pollution prevention",
          "contaminant concentration profiling",
          "environmental cleanup technologies",
          "wastewater treatment in aquaculture",
          "soil-plant interaction analysis",
          "hydrogeology",
          "remediation systems",
          "Lake Condition Trends and Ecosystem Monitoring",
          "lake condition trends",
          "ecosystem function modeling",
          "marine ecosystem degradation",
          "biodiversity protection",
          "ecological monitoring",
          "water quality",
          "lake health",
          "ecosystem preservation",
          "environmental change",
          "aquatic biomonitoring",
          "Global Biogeochemical Cycles and Earth System Science",
          "global biogeochemical cycles",
          "carbon and nitrogen cycles",
          "nutrient cycling",
          "global carbon cycling",
          "ecosystem function",
          "biogeochemical analysis",
          "elemental mobility",
          "soil-plant interaction",
          "environmental chemistry",
          "elemental cycles",
          "Drought-Resistant Crops and Agricultural Resilience",
          "drought-resistant crops",
          "crop yield maximisation",
          "plant adaptation",
          "agricultural resilience",
          "water-limited conditions",
          "soil moisture mapping",
          "enhanced photosynthetic efficiency",
          "plant physiological responses",
          "agricultural microbiology",
          "sustainable farming practices",
          "CO2 Capture and Carbon Management",
          "CO2 capture",
          "carbon capture assessment",
          "carbon sequestration",
          "carbon-neutral services",
          "carbon-positive buildings",
          "carbon-emitting fossil fuel utilization",
          "renewable ammonia production",
          "carbon storage in crops",
          "carbon-negative technologies",
          "carbon cycle management",
          "Rapid CO2 Conversion and Carbon Utilization",
          "rapid CO2 conversion",
          "CO2 conversion to biofuels",
          "carbon utilization",
          "carbon-negative technologies",
          "carbon capture and use",
          "carbon-to-fuel conversion",
          "carbon recycling",
          "catalytic conversion",
          "carbon utilization",
          "CO2 transformation",
          "Fossil Site Survey and Paleoenvironmental Reconstruction",
          "fossil site survey",
          "palaeoecological data",
          "paleoenvironmental reconstruction",
          "fossil deposits",
          "ancient ecosystems",
          "geological record",
          "evolutionary history",
          "paleoclimate",
          "fossil record",
          "prehistoric environments",
          "Earth's Oxygenation and Atmospheric Evolution",
          "Earth's oxygenation",
          "atmospheric evolution",
          "oxygenation events",
          "oxygen cycle",
          "biogeochemical cycles",
          "oxygen levels",
          "ancient atmosphere",
          "oxygenation history",
          "atmospheric chemistry",
          "evolution of life",
          "Ore-Bearing Sedimentary Rocks and Mineral Exploration",
          "ore-bearing sedimentary rocks",
          "mineral exploration strategy",
          "mineralogy",
          "mineral discovery",
          "sedimentary rocks",
          "geological modeling",
          "mineral transformation",
          "resource mapping",
          "ore deposits",
          "mineral identification",
          "Taste and Odour Control in Water and Food",
          "taste and odour control",
          "water quality",
          "taste profiles",
          "odour control",
          "environmental quality",
          "taste analysis",
          "food safety",
          "taste testing",
          "flavour replication",
          "sensory evaluation",
          "Australian Energy Efficiency and Sustainable Power",
          "Australian energy efficiency",
          "energy efficiency",
          "renewable energy adoption",
          "energy system reliability",
          "sustainable energy",
          "energy conversion",
          "energy performance",
          "energy policy",
          "energy balance",
          "clean energy",
          "Energy and Sustainable Technologies",
          "Solar Cell Technology and Photovoltaic Energy Conversion",
          "solar cell technology",
          "photovoltaic energy conversion",
          "solar electricity generation",
          "solar-driven processes",
          "solar-to-fuel conversion",
          "renewable energy conversion",
          "energy harvesting",
          "solar-driven catalysis",
          "high-efficiency powertrains",
          "photovoltaic systems",
          "Flexible Energy Harvesting Devices and Power Generation",
          "flexible energy harvesting devices",
          "energy harvesting",
          "low-power computing",
          "solar irradiation systems",
          "wearable thermoelectric textiles",
          "energy-efficient buildings",
          "energy conversion efficiency",
          "power management systems",
          "ambient energy",
          "energy-generating materials",
          "Laser Additive Manufacturing and 3D Printing",
          "laser additive manufacturing",
          "3D printing",
          "precision cutting of metals and ceramics",
          "laser ablation",
          "additive manufacturing in food",
          "fabrication of semiconductors",
          "high-precision manufacturing",
          "customised manufacturing",
          "rapid prototyping",
          "laser-based fabrication",
          "Solid-State Metal Recycling and Circular Economy",
          "solid state metal recycling",
          "copper recovery",
          "tyre recycling",
          "plastic deterioration",
          "recycling technology",
          "circular economy",
          "industrial waste processing",
          "resource recovery",
          "waste-to-resource conversion",
          "industrial symbiosis",
          "sustainable logistics",
          "Tyre Recycling and Sustainable Materials",
          "tyre recycling",
          "plastic degradation",
          "recycling technology",
          "sustainable materials",
          "waste-to-resource",
          "circular economy",
          "industrial waste processing",
          "material recovery",
          "sustainable manufacturing",
          "material reuse",
          "Copper Recovery and Critical Mineral Enrichment",
          "copper recovery",
          "critical mineral enrichment",
          "strategic metals",
          "mineral exploration strategy",
          "ore-bearing sedimentary rocks",
          "mining process optimization",
          "metal cycling",
          "mineral transformation",
          "critical infrastructure management",
          "industrial competitiveness",
          "Fabrication of Semiconductors and Nanomaterials",
          "fabrication of semiconductors",
          "semiconductor nanomaterials",
          "silicon-based single-electron transistors",
          "CMOS-compatible fabrication",
          "nanomaterials",
          "semiconductor performance",
          "device fabrication",
          "advanced fabrication processes",
          "semiconductor-based devices",
          "thin-film displays",
          "Energy Efficiency and Sustainable Power (Australian context)",
          "Gas-Solids Interactions and Fluidized Bed Systems",
          "gas-solids interactions",
          "fluidized bed systems",
          "gas-solid reactions",
          "combustion dynamics",
          "reaction kinetics",
          "particle flow",
          "fluid dynamics",
          "gas-solid systems",
          "thermal processes",
          "reaction engineering",
          "Gas-Phase Reaction Engineering and Catalysis",
          "gas-phase reaction engineering",
          "catalytic combustion kinetics",
          "catalytic active centres",
          "catalytic polymerization",
          "catalytic active centres",
          "catalytic conversion",
          "catalytic active sites",
          "catalytic properties",
          "reaction-induced porosity development",
          "catalytic systems",
          "Materials Science and Advanced Engineering",
          "Intelligent Polymers and Responsive Materials",
          "intelligent polymers",
          "stimuli-responsive chemistry",
          "light-responsive materials",
          "cargo-responsive polymers",
          "smart electronic skin",
          "adaptive structures",
          "self-healing materials",
          "responsive materials",
          "mechano-signalling",
          "phase change in solids",
          "tunable membranes",
          "Adaptive Structures and Smart Materials",
          "adaptive structures",
          "smart materials",
          "responsive materials",
          "self-adjusting systems",
          "smart structures",
          "mechano-signalling",
          "smart electronic skin",
          "dynamic reconfiguration",
          "smart systems",
          "self-optimizing materials",
          "Microstructure-Guided Alloy Design and Materials Science",
          "microstructure-guided alloy design",
          "material structure",
          "alloy design",
          "microstructure analysis",
          "material properties",
          "material optimization",
          "metallurgy",
          "material performance",
          "alloy development",
          "material characterization",
          "Phase Change in Solids and Material Transitions",
          "phase change in solids",
          "solidification kinetics",
          "phase separation",
          "material dynamics",
          "solid-state quantum emitters",
          "crystalline structure",
          "solid-state materials",
          "material transformation",
          "thermal stability",
          "solid-phase reactions",
          "Mantle Rock Characterization and Geophysical Modeling",
          "mantle rock characterization",
          "mantle melting",
          "subduction dynamics",
          "crustal structure analysis",
          "geophysical analysis",
          "geological modelling tools",
          "mantle structure",
          "geophysical surveys",
          "mantle dynamics",
          "earth structures stability",
          "Interferometric Instrumentation and Precision Measurement",
          "interferometric instrumentation",
          "interferometry",
          "precision measurement",
          "high-precision detection",
          "phase measurement",
          "distance sensing",
          "optical interferometry",
          "precision metrology",
          "measurement accuracy",
          "interferometric systems",
          "Reference Material Development and Calibration",
          "reference material development",
          "calibration standards",
          "analytical standards",
          "material standardization",
          "quality control",
          "standard-setting bodies",
          "measurement accuracy",
          "analytical methods",
          "calibration protocols",
          "standard reference materials",
          "Photoelectron Emission Spectroscopy and Surface Analysis",
          "photoelectron emission spectroscopy",
          "surface spectroscopy",
          "surface analysis",
          "electronic structure",
          "surface properties",
          "material surface characterization",
          "surface chemistry",
          "surface interaction",
          "surface modification",
          "surface science",
          "Lab-Based Assays and Experimental Validation",
          "lab-based assays",
          "wet-lab validation",
          "experimental testing techniques",
          "lab-scale reactor systems",
          "experimental petrology",
          "in vitro protein engineering",
          "in vitro cell delivery studies",
          "experimental design",
          "biological testing",
          "validation of models",
          "Rotor Burst Safety and Mechanical Failure Analysis",
          "rotor burst safety",
          "mechanical failure",
          "rotor dynamics",
          "rotating machinery",
          "failure analysis",
          "mechanical reliability",
          "rotor stress",
          "rotor stability",
          "mechanical integrity",
          "rotor design",
          "Gas-Solids Interactions and Fluidized Bed Systems",
          "gas-solids interactions",
          "fluidized bed systems",
          "gas-solid reactions",
          "combustion dynamics",
          "reaction kinetics",
          "particle flow",
          "fluid dynamics",
          "gas-solid systems",
          "thermal processes",
          "reaction engineering",
          "Health, Medicine, and Biomedical Innovation",
          "Muscle Health in Older Adults",
          "muscle health in older adults",
          "exercise and ageing",
          "controlled exercise training",
          "muscle training methods",
          "fitness costs and benefits",
          "physical activity",
          "older women",
          "active transport",
          "senior school science",
          "health outcomes optimization",
          "functional modeling of hearts",
          "cardiovascular health",
          "Prolonged Exposure and Health Impacts",
          "prolonged exposure",
          "psychosocial risks",
          "stress molecules detection",
          "chronic pain care",
          "mental health service design",
          "neuro-immune system",
          "neurological disorders",
          "cognitive decline prediction",
          "chronic disease care",
          "occupational skills",
          "occupational safety",
          "health promotion in older adults",
          "long-term behaviour",
          "exposure to natural scenes",
          "environmental health assessment",
          "Ocular Immunology and Eye Disease Mechanisms",
          "ocular immunology",
          "corneal ulcers",
          "retina",
          "immune recognition mechanisms",
          "neuro-immune system",
          "ocular surface",
          "immune homeostasis",
          "inflammation in eye",
          "ocular diseases",
          "immunological responses",
          "Thyroid Hormone Signalling and Endocrine Regulation",
          "thyroid hormone signalling",
          "endocrine regulation",
          "hormonal signaling",
          "metabolic regulation",
          "neuroendocrine function",
          "endocrine disorders",
          "hormone receptors",
          "hormonal balance",
          "endocrine system",
          "metabolic health",
          "Personalized Health Diagnostics and Precision Medicine",
          "personalized health diagnostics",
          "precision medicine",
          "personalized treatment strategies",
          "genomic profiling",
          "personalized care",
          "genetic testing",
          "biomarker identification",
          "precision health",
          "individualized medicine",
          "health data integration",
          "Wound Healing Simulation and Tissue Regeneration",
          "wound healing simulation",
          "tissue repair",
          "tissue regeneration",
          "regenerative medicine",
          "cellular repair mechanisms",
          "biological healing",
          "wound healing",
          "tissue engineering",
          "healing processes",
          "tissue dynamics",
          "Artificial Tissue Growth and Regenerative Medicine",
          "artificial tissue growth",
          "stem cell culture optimization",
          "3D tissue engineering",
          "organoid systems",
          "tissue remodelling",
          "regenerative medicine",
          "biomaterials design",
          "cellular repair mechanisms",
          "tissue engineering",
          "bioprinting",
          "Stem Cell Culture Optimization and Regenerative Therapies",
          "stem cell culture optimization",
          "stem/progenitor cells",
          "regenerative medicine",
          "tissue engineering",
          "cellular repair mechanisms",
          "biomaterials design",
          "organoid systems",
          "stem cell therapies",
          "cellular regeneration",
          "cell differentiation",
          "Preventive Approach and Health Promotion",
          "preventive approach",
          "preventive health programs",
          "health promotion in older adults",
          "public health campaigns",
          "disease prevention",
          "health education",
          "early detection",
          "wellbeing in education",
          "health outcome modeling",
          "preventive policy guidelines",
          "Infectious Disease Modelling and Outbreak Response",
          "infectious disease modelling",
          "outbreak science",
          "epidemic response",
          "viral evolution",
          "pathogen genomics",
          "disease spread",
          "public health response",
          "epidemiological modelling",
          "outbreak prediction",
          "disease forecasting",
          "Health Promotion and Public Health Strategies",
          "First Nations Students and Indigenous Education",
          "First Nations students",
          "Indigenous students",
          "Indigenous education",
          "on-country learning",
          "Indigenous cultural values",
          "cultural knowledge transfer",
          "Indigenous-led education",
          "Indigenous identity",
          "Indigenous research capacity",
          "cultural safety",
          "Fishing as a Public Health Intervention",
          "fishing as a public health intervention",
          "marine food products",
          "fishery health",
          "nutritional benefits",
          "community health",
          "fishing for health",
          "food security",
          "fish consumption",
          "public health",
          "marine health",
          "Biological Systems and Life Sciences",
          "Actin Dynamics and Cellular Mechanics",
          "actin dynamics",
          "cellular mechanics",
          "cellular structure",
          "subcellular transport",
          "mechanosensing",
          "cell shape adaptation",
          "cellular movement",
          "cytoskeleton dynamics",
          "cellular signaling",
          "cellular microenvironment",
          "Chemical Biology of Mitochondria and Metabolism",
          "chemical biology of mitochondria",
          "mitochondrial function",
          "mitochondrial respiration",
          "metabolite regulation",
          "cellular metabolism",
          "oxidative stress monitoring",
          "mitochondrial dynamics",
          "metabolic pathway optimization",
          "bioenergetics",
          "mitochondrial dysfunction",
          "Cell Network Engineering and Biological Systems",
          "cell network engineering",
          "cellular signaling pathway analysis",
          "cellular communication",
          "cellular metabolism",
          "biological network mapping",
          "cellular activation assays",
          "cell-cell interaction",
          "biological systems engineering",
          "cellular systems",
          "network dynamics",
          "Genetic Intervention Design and Gene Editing",
          "genetic intervention design",
          "CRISPR-Cas13a",
          "gene editing technologies",
          "gene regulatory network modeling",
          "gene therapy",
          "genetic engineering",
          "genetic modification",
          "precision gene editing",
          "gene regulation",
          "genetic correction",
          "Transgenerational Phenotyping and Epigenetic Inheritance",
          "transgenerational phenotyping",
          "epigenetic enzyme activity",
          "gene regulatory network modeling",
          "developmental gene expression studies",
          "genetic basis of traits",
          "genetic evaluation",
          "environmental shaping of behavior",
          "intergenerational health effects",
          "maternal investment",
          "prenatal substance exposure",
          "epigenetic regulation",
          "Data-Driven Biological Inference and Systems Biology",
          "data-driven biological inference",
          "biological pathway analysis",
          "systems biology",
          "genomic data analysis",
          "biological network mapping",
          "biological systems modeling",
          "biological data integration",
          "multi-omics",
          "biological function",
          "biological insight",
          "Multi-Scale Imaging and High-Resolution Visualization",
          "multi-scale imaging",
          "high-resolution imaging",
          "3D imaging techniques",
          "in vivo imaging",
          "micro-CT imaging",
          "optical microscopy",
          "spatial resolution",
          "high-resolution data",
          "imaging technologies",
          "image analysis",
          "Multi-Scale Imaging and Biological Visualization",
          "multi-scale imaging",
          "3D imaging",
          "in vivo imaging",
          "biological visualization",
          "cellular imaging",
          "microscopy imaging",
          "spatial biology",
          "tissue imaging",
          "biological structures",
          "dynamic imaging",
          "Functional Testing in Plants and Bioreactor Systems",
          "functional testing in plants",
          "plant bioreactors",
          "plant physiological responses",
          "plant health monitoring",
          "bioreactor systems",
          "plant performance",
          "plant stress",
          "biological testing platforms",
          "functional traits",
          "plant growth",
          "Trophic Reconstruction and Ecosystem Dynamics",
          "trophic reconstruction",
          "trophic state modeling",
          "ecosystem dynamics",
          "food web modeling",
          "biodiversity",
          "ecological interactions",
          "trophic interactions",
          "ecosystem function",
          "ecological balance",
          "species interactions",
          "Plant Sensing and Environmental Monitoring",
          "plant sensing",
          "plant physiological responses",
          "plant roots",
          "plant adaptation",
          "soil-plant interaction analysis",
          "plant-pathogen interactions",
          "plant bioreactors",
          "phenological analysis",
          "crop yield maximisation",
          "plant hormone signalling",
          "environmental interactions in plants",
          "Crop Yield Maximisation and Agricultural Productivity",
          "crop yield maximisation",
          "improving crop yields",
          "agricultural productivity",
          "enhanced photosynthetic efficiency",
          "precision agriculture",
          "soil health",
          "agricultural trade",
          "fertilizer efficiency",
          "agricultural gene modulation",
          "sustainable farming practices",
          "Superior Breeding Stock Development and Animal Genetics",
          "superior breeding stock development",
          "enhanced breeding programs",
          "animal breeding efficiency",
          "genetic evaluation",
          "genetic intervention design",
          "genomic combinations",
          "genetic drivers",
          "selective breeding",
          "animal stock management",
          "breeding programs",
          "Biological Feed Development and Sustainable Nutrition",
          "biological feed development",
          "natural feedstuffs",
          "local feedstuffs",
          "reduced fertilizer dependency",
          "nutrient modelling",
          "organic metal binding",
          "enhanced photosynthetic efficiency",
          "nutrient interaction modeling",
          "dietary reconstruction",
          "high protein legume",
          "animal breeding efficiency",
          "Sensing, Monitoring, and Data Acquisition",
          "Active Sensing Technologies and Real-Time Monitoring",
          "active sensing technologies",
          "real-time sensing algorithms",
          "on-site chemical processing",
          "real-time gas monitoring",
          "real-time neural signal processing",
          "real-time flood response",
          "remote sensing of meteorites",
          "in situ analysis",
          "real-time asset management",
          "sensor stream pattern mining",
          "distributed robotics",
          "autonomous sensing",
          "real-time video processing",
          "Room Temperature Detection and Thermal Sensing",
          "room temperature detection",
          "thermal stability",
          "temperature and light responses",
          "thermal regulation mechanisms",
          "heat dissipation optimization",
          "thermal property characterization",
          "temperature forecasting",
          "thermal batteries",
          "thermal imaging",
          "heat extraction optimization",
          "low-power IoT devices",
          "Compact Spectrometers and Portable Analytical Devices",
          "compact spectrometers",
          "field-deployable spectroscopy",
          "portable analytical devices",
          "on-site analysis",
          "real-time detection",
          "sensing devices",
          "chemical analysis",
          "portable sensors",
          "analytical platforms",
          "spectrum analysis",
          "Simple Analytical Platforms for Point-of-Care Diagnostics",
          "simple analytical platforms",
          "point-of-care disease diagnosis",
          "on-site analysis",
          "field-deployable spectroscopy",
          "portable test kits",
          "microfluidics",
          "low-cost computing",
          "accessible data exploration",
          "digital health records analysis",
          "rapid CO2 conversion",
          "bacterial detection",
          "taste and odour control",
          "Multi-Analytical Archaeological Approach",
          "multi-analytical archaeological approach",
          "archaeological diagnostics",
          "archaeological records",
          "fossil site survey",
          "historical fuel analysis",
          "scientific archaeological techniques",
          "archaeological fieldwork",
          "historical database construction",
          "palaeoecological data",
          "digital mapping",
          "remote sensing of exoplanets",
          "on-site analysis",
          "archaeological interpretation",
          "Archaeological Diagnostics and Digital Reconstruction",
          "archaeological diagnostics",
          "digital mapping",
          "3D computer vision",
          "geophysical analysis",
          "digital drawing tools",
          "remote sensing",
          "digital fossil analysis",
          "archaeological interpretation",
          "digital archaeological records",
          "archaeological tools",
          "Digital Mapping and Geospatial Analysis",
          "digital mapping",
          "geographic information systems (GIS)",
          "spatial data modeling",
          "spatial genetics",
          "spatial awareness",
          "spatial quantification",
          "spatial biology technologies",
          "geotechnical sensing",
          "geographic range",
          "spatial analysis",
          "Scalable Sensing Architectures and Sensor Networks",
          "scalable sensing architectures",
          "distributed sensing",
          "sensor networks",
          "real-time sensing",
          "networked sensing",
          "sensor data analytics",
          "distributed robotics",
          "large-scale monitoring",
          "sensor fusion",
          "scalable systems",
          "Interferometric Instrumentation and Precision Measurement",
          "interferometric instrumentation",
          "interferometry",
          "precision measurement",
          "high-precision detection",
          "phase measurement",
          "distance sensing",
          "optical interferometry",
          "precision metrology",
          "measurement accuracy",
          "interferometric systems",
          "Direct-Detection Technologies in Physics and Sensing",
          "direct-detection",
          "quantum sensing platforms",
          "quantum dot-based photodetectors",
          "optical-electrical bimodal systems",
          "coherent optical imaging",
          "real-time spectral detection",
          "ultra-sensitive sensors",
          "direct laser writing",
          "particle detection",
          "quantum sensing",
          "Networked Counterpublics and Digital Activism",
          "networked counterpublics",
          "digital activism",
          "public discourse",
          "digital communities",
          "online engagement",
          "digital democracy",
          "digital resistance",
          "online publics",
          "counter-narratives",
          "Event Invitations and Social Interaction Dynamics",
          "event invitations",
          "social interaction",
          "community engagement",
          "social dynamics",
          "event planning",
          "social networking",
          "digital invitations",
          "social participation",
          "community events",
          "social connection",
          "Education, Learning, and Workforce Development",
          "Training and Capacity Development in Education and Workforce",
          "training and capacity development",
          "teacher training in the United States",
          "automated teaching assistants",
          "educational tools",
          "curriculum modeling",
          "teacher collaboration",
          "workforce retention strategies",
          "occupational skills",
          "occupational pathways",
          "early career researcher",
          "capacity building for food-insecure populations",
          "workforce capability enhancement",
          "digital professional development",
          "skill-intensive industries",
          "workforce productivity",
          "higher education expansion",
          "education and cultural transmission",
          "inclusive economic development",
          "Automated Teaching Assistants and AI-Driven Education",
          "automated teaching assistants",
          "AI-driven insights",
          "personalized query optimization",
          "interactive data dashboards",
          "digital teaching resources",
          "adaptive learning",
          "machine learning for behavioural prediction",
          "learning management systems (LMS)",
          "AI and machine learning",
          "digital platforms for milk sharing",
          "student physical activity",
          "personalized treatment strategies",
          "Curriculum Modeling and Educational Transformation",
          "curriculum modeling",
          "formative assessment",
          "interdisciplinary system optimization",
          "educational use",
          "inclusive classroom design",
          "cultural diversity in education",
          "student engagement",
          "educational policy implementation",
          "blended propellants",
          "educational innovation",
          "Preparation for Diverse Learning Environments",
          "preparation for diverse learning environments",
          "inclusive education policy",
          "culturally diverse classrooms",
          "intercultural pedagogy",
          "cultural diversity in education",
          "inclusive design",
          "diverse role models in science",
          "cultural knowledge transfer",
          "inclusive classrooms",
          "educational equity",
          "Educational Tools and Learning Technologies",
          "educational tools",
          "digital learning",
          "interactive learning",
          "learning platforms",
          "educational software",
          "student engagement",
          "digital teaching resources",
          "interactive simulations",
          "learning analytics",
          "educational innovation",
          "Job Market Design and Economic Inclusion",
          "job market design",
          "employment lifecycle analysis",
          "workforce inclusion",
          "inclusive economic development",
          "gender equity in fishing",
          "women in work",
          "youth unemployment",
          "economic co-benefits",
          "workforce retention strategies",
          "economic development through cultural strategy",
          "occupational pathways",
          "Occupational Skills and Workforce Development",
          "occupational skills",
          "workforce development",
          "skill-intensive industries",
          "workforce retention strategies",
          "workforce capability enhancement",
          "industrial competitiveness",
          "digital skills",
          "green skills",
          "healthcare workforce",
          "professional re-engagement",
          "Early Career Researcher Development and Mentorship",
          "early career researcher",
          "researcher development",
          "capacity building",
          "post-doctoral projects",
          "research coordination",
          "researcher mentorship",
          "academic enablers",
          "doctoral student retention",
          "research training",
          "researcher support",
          "Gaming Industries and Human-Computer Interaction",
          "gaming industries",
          "virtual reality (VR) systems",
          "immersive simulation",
          "interactive narratives",
          "digital engagement tools",
          "human-robot co-evolution",
          "interactive sound",
          "immersive technology",
          "game-based learning",
          "digital experiences",
          "Visual Attention and Cognitive Processing",
          "visual attention",
          "visual working memory",
          "neural mechanisms of attention",
          "perceptual evaluation",
          "visual recording",
          "visual storytelling (film)",
          "human perception",
          "neurovisual experiments",
          "cognitive architecture",
          "attention to detail",
          "Customer Perceptions and Market Feedback",
          "customer perceptions",
          "consumer behavior change",
          "market research tools",
          "public perception",
          "user feedback",
          "brand perception",
          "service quality",
          "market analysis",
          "user experience",
          "market responsiveness",
          "Urban Systems and Infrastructure Resilience",
          "Transport Service Providers and Urban Mobility",
          "transport service providers",
          "transport environments",
          "transport project delivery",
          "smart traffic management",
          "commuter cycling",
          "urban transport",
          "public transport precinct design",
          "reduced car dependency",
          "commuter safety",
          "intermodal transport",
          "ferry and water transport",
          "Transport Environments and Urban Mobility Systems",
          "transport environments",
          "transport decision making",
          "urban transport",
          "public transport",
          "commuter cycling",
          "road safety",
          "traffic flow modeling",
          "vehicle-bridge interaction model",
          "urban corridors",
          "smart traffic management",
          "Critical Infrastructure Management and Resilience",
          "critical infrastructure management",
          "resilient infrastructure",
          "infrastructure reliability",
          "infrastructure damage mitigation",
          "energy system reliability",
          "grid load balancing",
          "infrastructure security",
          "system resilience",
          "critical systems",
          "infrastructure planning",
          "Rider Behaviour and Safety in Transport",
          "rider behaviour",
          "road injuries",
          "commuter safety",
          "driver assistance",
          "traffic safety",
          "vehicle-bridge interaction model",
          "public transport safety",
          "safety in urban robotics",
          "driver behaviour",
          "safety protocols",
          "Public Funding Efficiency and Resource Allocation",
          "public funding efficiency",
          "funding body adoption",
          "resource allocation systems",
          "financial efficiency",
          "budgetary allocations",
          "cost-benefit optimization",
          "policy implementation",
          "economic impact assessment",
          "fiscal policy improvement",
          "funding effectiveness",
          "Project Delivery Improvement and Process Management",
          "project delivery improvement",
          "project cost reduction",
          "planning systems",
          "management triggers",
          "workforce mapping",
          "management cost",
          "project delivery",
          "operational measures",
          "process data analytics",
          "project delivery frameworks",
          "Service Efficiency Improvement and Operational Excellence",
          "service efficiency improvement",
          "service delivery innovation",
          "project delivery improvement",
          "organizational assessment",
          "performance standards",
          "management plan implementation",
          "workforce productivity",
          "system performance modelling",
          "operational efficiency",
          "process automation",
          "Risk Prioritization and Hazard Assessment",
          "risk prioritization",
          "risk stratification",
          "risk analysis framework",
          "hazard identification",
          "risk assessment for antisocial behavior",
          "risk communication",
          "risk-based design",
          "risk modeling",
          "risk reduction",
          "hazard assessment",
          "Policy Scenario Analysis and Strategic Planning",
          "policy scenario analysis",
          "strategic foresight",
          "policy simulation models",
          "policy-informed research",
          "scenario planning",
          "policy content analysis",
          "policy evaluation",
          "strategic decision-making",
          "policy consistency",
          "policy development",
          "Quantum and Advanced Computational Sciences",
          "Quantum Dynamics and Quantum Computing",
          "quantum dynamics",
          "quantum computing foundations",
          "quantum algorithms",
          "noisy quantum environments",
          "quantum control protocols",
          "quantum sensing",
          "quantum memory prototypes",
          "quantum electronic design automation",
          "quantum software development",
          "quantum devices",
          "Noisy Quantum Environments and Quantum Error Correction",
          "noisy quantum environments",
          "quantum error correction",
          "quantum control protocols",
          "quantum noise",
          "quantum stability",
          "quantum coherence",
          "quantum device reliability",
          "quantum computing",
          "quantum noise mitigation",
          "quantum hardware",
          "Noncommutative Geometry and Advanced Mathematical Frameworks",
          "noncommutative geometry",
          "mathematical innovation",
          "theoretical frameworks",
          "advanced mathematical models",
          "geometric frameworks",
          "algebraic geometry",
          "mathematical physics",
          "theoretical physics",
          "non-standard geometry",
          "mathematical modeling",
          "AI-Driven Inference and Machine Learning Applications",
          "AI-driven inference",
          "machine learning for behavioural prediction",
          "deep learning platforms",
          "machine learning in genomics",
          "machine learning for astrophysics",
          "AI and machine learning",
          "machine learning for structural assessment",
          "machine learning for event detection",
          "predictive modeling",
          "data-driven inference",
          "Statistical Modeling Platforms and Data Science",
          "statistical modeling platforms",
          "statistical decomposition",
          "regression analysis",
          "statistical pattern recognition",
          "statistical validation",
          "statistical anomaly detection",
          "data-driven modeling",
          "data science",
          "predictive modeling",
          "model inference",
          "Predictive Modeling Software and AI-Driven Forecasting",
          "predictive modeling software",
          "machine learning for astrophysics",
          "deep learning for imaging",
          "predictive material property modeling",
          "predictive health models",
          "climate scenario forecasting",
          "predictive reliability",
          "model training robustness",
          "AI-driven inference",
          "statistical modeling platforms",
          "Data-Driven Biological Inference and Systems Biology",
          "data-driven biological inference",
          "biological pathway analysis",
          "systems biology",
          "genomic data analysis",
          "biological network mapping",
          "biological systems modeling",
          "biological data integration",
          "multi-omics",
          "biological function",
          "biological insight",
          "Global Physics Collaborations and Open Science",
          "global physics collaborations",
          "open science",
          "scientific collaboration",
          "data sharing",
          "international research",
          "scientific communities",
          "open data",
          "global research networks",
          "collaborative research",
          "scientific innovation",
          "Social, Economic, and Policy Innovation",
          "Job Market Design and Economic Inclusion",
          "job market design",
          "employment lifecycle analysis",
          "workforce inclusion",
          "inclusive economic development",
          "gender equity in fishing",
          "women in work",
          "youth unemployment",
          "economic co-benefits",
          "workforce retention strategies",
          "economic development through cultural strategy",
          "occupational pathways",
          "Women in Work and Gender Equity",
          "women in work",
          "gender equity",
          "gender equity in fishing",
          "women in corporate leadership",
          "gendered economic structures",
          "workforce inclusion",
          "female participation in fishing",
          "gender and work",
          "women's football",
          "workplace equity",
          "Residential Equity and Housing Policy",
          "residential equity",
          "housing rights",
          "housing standards",
          "affordable housing",
          "social housing",
          "housing access",
          "urban housing",
          "home ownership",
          "housing affordability",
          "community housing",
          "Social Welfare Reforms and Equity Policy",
          "social welfare reforms",
          "residential equity",
          "public welfare programs",
          "pension system sustainability",
          "income security for elderly",
          "social protection",
          "community wellbeing",
          "equity prices",
          "inclusive public policy",
          "social equity",
          "Economic Co-Benefits and Sustainable Development",
          "economic co-benefits",
          "inclusive economic development",
          "sustainable prosperity",
          "economic development",
          "economic resilience",
          "sustainable development",
          "economic improvement",
          "value-based modeling",
          "economic welfare enhancement",
          "social and economic benefits",
          "Economic Theory Application and Policy Design",
          "economic theory application",
          "economic development through cultural strategy",
          "economic improvement in LNG projects",
          "economic base enhancement",
          "market analysis",
          "economic datasets",
          "economic welfare enhancement",
          "economic policy formulation",
          "economic incentives",
          "market competition analysis",
          "Policy Scenario Analysis and Strategic Planning",
          "policy scenario analysis",
          "strategic foresight",
          "policy simulation models",
          "policy-informed research",
          "scenario planning",
          "policy content analysis",
          "policy evaluation",
          "strategic decision-making",
          "policy consistency",
          "policy development",
          "National Interests and Geopolitical Strategy",
          "national interests",
          "geopolitical strategy",
          "Australia's geopolitical strategy",
          "international relations",
          "foreign policy",
          "sovereign rights",
          "global strategy",
          "national security",
          "international cooperation",
          "global positioning",
          "Democratic Fragility and Political Resilience",
          "democratic fragility",
          "political behavior analysis",
          "public trust",
          "electoral promises",
          "policy scenario analysis",
          "political engagement",
          "institutional strength evaluation",
          "transparent governance",
          "electoral reform",
          "civic value assessment",
          "Culturally Appropriate Methodology and Indigenous Research",
          "culturally appropriate methodology",
          "Indigenous research capacity",
          "Indigenous knowledge",
          "Indigenous-led research",
          "Indigenous methodologies",
          "cultural safety",
          "Indigenous cultural values",
          "Indigenous participation",
          "Indigenous-led fisheries",
          "cultural knowledge",
          "Living Evidence and Community-Based Knowledge",
          "living evidence",
          "community knowledge sharing",
          "Indigenous knowledge",
          "community-based research",
          "local knowledge",
          "cultural knowledge",
          "community engagement",
          "Indigenous-led conservation",
          "cultural knowledge transfer",
          "Indigenous research capacity",
          "Agricultural and Food Systems Innovation",
          "Drought-Resistant Crops and Agricultural Resilience",
          "drought-resistant crops",
          "crop yield maximisation",
          "plant adaptation",
          "agricultural resilience",
          "water-limited conditions",
          "soil moisture mapping",
          "enhanced photosynthetic efficiency",
          "plant physiological responses",
          "agricultural microbiology",
          "sustainable farming practices",
          "Crop Yield Maximisation and Agricultural Productivity",
          "crop yield maximisation",
          "improving crop yields",
          "agricultural productivity",
          "enhanced photosynthetic efficiency",
          "precision agriculture",
          "soil health",
          "agricultural trade",
          "fertilizer efficiency",
          "agricultural gene modulation",
          "sustainable farming practices",
          "Biological Feed Development and Sustainable Nutrition",
          "biological feed development",
          "natural feedstuffs",
          "local feedstuffs",
          "reduced fertilizer dependency",
          "nutrient modelling",
          "organic metal binding",
          "enhanced photosynthetic efficiency",
          "nutrient interaction modeling",
          "dietary reconstruction",
          "high protein legume",
          "animal breeding efficiency",
          "Fishing as a Public Health Intervention",
          "fishing as a public health intervention",
          "marine food products",
          "fishery health",
          "nutritional benefits",
          "community health",
          "fishing for health",
          "food security",
          "fish consumption",
          "public health",
          "marine health",
          "Fish Market Safety and Food Quality Assurance",
          "fish market safety",
          "seafood value addition",
          "fishery harvest strategies",
          "pathogen characterization",
          "food safety management",
          "seafood industry growth",
          "fish and chips",
          "fish welfare",
          "marine food products",
          "food safety improvement",
          "Taste and Odour Control in Water and Food",
          "taste and odour control",
          "water quality",
          "taste profiles",
          "odour control",
          "environmental quality",
          "taste analysis",
          "food safety",
          "taste testing",
          "flavour replication",
          "sensory evaluation",
          "Human-Centered Technologies and Interaction",
          "Perceptual Evaluation and Human-Computer Interaction",
          "perceptual evaluation",
          "user interface analytics",
          "human-machine interface evaluation",
          "user accessibility evaluation",
          "interactive data dashboards",
          "user practices",
          "human-centered lighting",
          "visual input",
          "interactive sounds",
          "sensory technologies",
          "Visual Attention and Cognitive Processing",
          "visual attention",
          "visual working memory",
          "neural mechanisms of attention",
          "perceptual evaluation",
          "visual recording",
          "visual storytelling (film)",
          "human perception",
          "neurovisual experiments",
          "cognitive architecture",
          "attention to detail",
          "Operator Performance and Human Factors",
          "operator performance",
          "human factors",
          "human-machine interaction",
          "workplace safety",
          "human error",
          "operator training",
          "human performance",
          "safety protocols",
          "human reliability",
          "workplace ergonomics",
          "Interactive Data Dashboards and Visualization",
          "interactive data dashboards",
          "data visualization in art",
          "visual storytelling (film)",
          "interactive sounds",
          "data-driven design",
          "data visualization",
          "visual working memory",
          "interactive web mapping",
          "digital data collection",
          "data exploration",
          "Wireless System Architecture and Communication Networks",
          "wireless system architecture",
          "wireless networks",
          "5G infrastructure",
          "network performance monitoring",
          "mobile device connectivity",
          "communication planning",
          "signal processing",
          "network design",
          "wireless transmission",
          "network reliability",
          "Event Invitations and Social Interaction Dynamics",
          "event invitations",
          "social interaction",
          "community engagement",
          "social dynamics",
          "event planning",
          "social networking",
          "digital invitations",
          "social participation",
          "community events",
          "social connection",
          "Gaming Industries and Human-Computer Interaction",
          "gaming industries",
          "virtual reality (VR) systems",
          "immersive simulation",
          "interactive narratives",
          "digital engagement tools",
          "human-robot co-evolution",
          "interactive sound",
          "immersive technology",
          "game-based learning",
          "digital experiences",
          "Ecological and Environmental Restoration",
          "Trophic Reconstruction and Ecosystem Dynamics",
          "trophic reconstruction",
          "trophic state modeling",
          "ecosystem dynamics",
          "food web modeling",
          "biodiversity",
          "ecological interactions",
          "trophic interactions",
          "ecosystem function",
          "ecological balance",
          "species interactions",
          "Lake Condition Trends and Ecosystem Monitoring",
          "lake condition trends",
          "ecosystem function modeling",
          "marine ecosystem degradation",
          "biodiversity protection",
          "ecological monitoring",
          "water quality",
          "lake health",
          "ecosystem preservation",
          "environmental change",
          "aquatic biomonitoring",
          "Wildlife Disease Management and Zoonotic Risk",
          "wildlife disease management",
          "zoonotic disease risk assessment",
          "animal disease",
          "pathogen transmission",
          "disease in animals",
          "wildlife health",
          "zoonotic infections",
          "disease surveillance",
          "wildlife conservation",
          "disease control",
          "Fossil Site Survey and Paleoenvironmental Reconstruction",
          "fossil site survey",
          "palaeoecological data",
          "paleoenvironmental reconstruction",
          "fossil deposits",
          "ancient ecosystems",
          "geological record",
          "evolutionary history",
          "paleoclimate",
          "fossil record",
          "prehistoric environments",
          "Plant Sensing and Environmental Monitoring",
          "plant sensing",
          "plant physiological responses",
          "plant roots",
          "plant adaptation",
          "soil-plant interaction analysis",
          "plant-pathogen interactions",
          "plant bioreactors",
          "phenological analysis",
          "crop yield maximisation",
          "plant hormone signalling",
          "environmental interactions in plants",
          "Groundwater Contamination and Remediation",
          "groundwater contamination",
          "soil and groundwater remediation",
          "heavy metal concentration analysis",
          "pollution prevention",
          "contaminant concentration profiling",
          "environmental cleanup technologies",
          "wastewater treatment in aquaculture",
          "soil-plant interaction analysis",
          "hydrogeology",
          "remediation systems",
          "Sludge Reduction and Waste Management",
          "sludge reduction",
          "wastewater treatment",
          "waste management policy",
          "sludge bulking",
          "biological treatment",
          "waste-to-resource",
          "resource recovery",
          "environmental cleanup",
          "sewage treatment",
          "waste-to-resource",
          "Research Methodologies and Scientific Practice",
          "Lab-Based Assays and Experimental Validation",
          "lab-based assays",
          "wet-lab validation",
          "experimental testing techniques",
          "lab-scale reactor systems",
          "experimental petrology",
          "in vitro protein engineering",
          "in vitro cell delivery studies",
          "experimental design",
          "biological testing",
          "validation of models",
          "Reference Material Development and Calibration",
          "reference material development",
          "calibration standards",
          "analytical standards",
          "material standardization",
          "quality control",
          "standard-setting bodies",
          "measurement accuracy",
          "analytical methods",
          "calibration protocols",
          "standard reference materials",
          "Crowdsourced Annotation and Citizen Science",
          "crowdsourced annotation",
          "citizen science",
          "public participation",
          "community-based research",
          "data collection",
          "public engagement",
          "community involvement",
          "public data",
          "community knowledge",
          "data sharing",
          "Open Platform and Interoperable Frameworks",
          "open platform",
          "interoperable frameworks",
          "open-source modeling tools",
          "modular nanotechnology",
          "scalable review analysis platforms",
          "interoperability",
          "open science",
          "open data databases",
          "system integration",
          "modular representations",
          "Multi-Analytical Archaeological Approach",
          "multi-analytical archaeological approach",
          "archaeological diagnostics",
          "archaeological records",
          "fossil site survey",
          "historical fuel analysis",
          "scientific archaeological techniques",
          "archaeological fieldwork",
          "historical database construction",
          "palaeoecological data",
          "digital mapping",
          "remote sensing of exoplanets",
          "on-site analysis",
          "archaeological interpretation",
          "Archaeological Diagnostics and Digital Reconstruction",
          "archaeological diagnostics",
          "digital mapping",
          "3D computer vision",
          "geophysical analysis",
          "digital drawing tools",
          "remote sensing",
          "digital fossil analysis",
          "archaeological interpretation",
          "digital archaeological records",
          "archaeological tools",
          "Global Physics Collaborations and Open Science",
          "global physics collaborations",
          "open science",
          "scientific collaboration",
          "data sharing",
          "international research",
          "scientific communities",
          "open data",
          "global research networks",
          "collaborative research",
          "scientific innovation",
          "Technology Ecosystems and Innovation Dynamics",
          "Technology Climate and Innovation Ecosystems",
          "technology climate",
          "innovative research",
          "technology prototyping",
          "digital innovation",
          "research ecosystem development",
          "innovation policy",
          "technology development",
          "emerging technologies",
          "technology adoption",
          "innovation systems",
          "Resource Management Algorithms and Optimization",
          "resource management algorithms",
          "resource targeting",
          "energy system reliability",
          "resource sustainability",
          "efficient micro air vehicle flight",
          "energy efficiency",
          "optimization algorithms",
          "resource-constrained environments",
          "sustainable resource use",
          "capacity building",
          "Communication Scheduling Analysis and Network Optimization",
          "communication scheduling analysis",
          "wireless network architecture",
          "network performance monitoring",
          "data transmission",
          "high-bandwidth data systems",
          "secure transmission protocols",
          "communication planning",
          "network-aware computation",
          "real-time communication",
          "mobile device connectivity",
          "Flow Control Techniques and Fluid Dynamics",
          "flow control techniques",
          "fluid dynamics",
          "turbulent flow modeling",
          "flow over vehicles",
          "hydrodynamic loading estimation",
          "flow reactors",
          "fluid inclusions",
          "flow-based diagnostics",
          "fluid-structure interaction",
          "fluid transport",
          "Liquidity Constraints and Financial Market Stability",
          "liquidity constraints",
          "financial market stability",
          "financial cycle busts",
          "market consistency",
          "financial risk analysis",
          "financial lending models",
          "liquidity risk assessment",
          "capital market efficiency",
          "financial hedging",
          "market volatility",
          "Networked Counterpublics and Digital Activism",
          "networked counterpublics",
          "digital activism",
          "public discourse",
          "digital communities",
          "online engagement",
          "digital democracy",
          "digital resistance",
          "online publics",
          "counter-narratives",
          "Scalable Sensing Architectures and Sensor Networks",
          "scalable sensing architectures",
          "distributed sensing",
          "sensor networks",
          "real-time sensing",
          "networked sensing",
          "sensor data analytics",
          "distributed robotics",
          "large-scale monitoring",
          "sensor fusion",
          "scalable systems",
          "Indigenous and Community-Based Knowledge",
          "First Nations Students and Indigenous Education",
          "First Nations students",
          "Indigenous students",
          "Indigenous education",
          "on-country learning",
          "Indigenous cultural values",
          "cultural knowledge transfer",
          "Indigenous-led education",
          "Indigenous identity",
          "Indigenous research capacity",
          "cultural safety",
          "Culturally Appropriate Methodology and Indigenous Research",
          "culturally appropriate methodology",
          "Indigenous research capacity",
          "Indigenous knowledge",
          "Indigenous-led research",
          "Indigenous methodologies",
          "cultural safety",
          "Indigenous cultural values",
          "Indigenous participation",
          "Indigenous-led fisheries",
          "cultural knowledge",
          "Living Evidence and Community-Based Knowledge",
          "living evidence",
          "community knowledge sharing",
          "Indigenous knowledge",
          "community-based research",
          "local knowledge",
          "cultural knowledge",
          "community engagement",
          "Indigenous-led conservation",
          "cultural knowledge transfer",
          "Indigenous research capacity",
          "Accent-Based Discrimination and Linguistic Bias",
          "accent-based discrimination",
          "linguistic bias",
          "language equity",
          "language socialization",
          "linguistic diversity",
          "language policy",
          "communication barriers",
          "language discrimination",
          "linguistic inclusion",
          "language access",
          "Historical Medicine and Traditional Healing",
          "historical medicine",
          "traditional healing",
          "Indigenous healing",
          "historical healing",
          "herbal medicine",
          "traditional knowledge",
          "cultural medicine",
          "medical history",
          "alternative medicine",
          "ethnopharmacology",
          "Historical Language Research and Linguistic Evolution",
          "historical language research",
          "linguistic variability",
          "language contact",
          "language loss",
          "linguistic sources",
          "language socialization",
          "multilingual text analysis",
          "language programs in schools",
          "language ecology",
          "historical sound"
         ],
         "marker": {
          "colors": [
           "#1f77b4",
           "#ff7f0e",
           "#2ca02c",
           "#2ca02c",
           "#2ca02c",
           "#2ca02c",
           "#2ca02c",
           "#2ca02c",
           "#2ca02c",
           "#2ca02c",
           "#2ca02c",
           "#2ca02c",
           "#2ca02c",
           "#2ca02c",
           "#2ca02c",
           "#2ca02c",
           "#ff7f0e",
           "#2ca02c",
           "#2ca02c",
           "#2ca02c",
           "#2ca02c",
           "#2ca02c",
           "#2ca02c",
           "#2ca02c",
           "#2ca02c",
           "#2ca02c",
           "#2ca02c",
           "#ff7f0e",
           "#2ca02c",
           "#2ca02c",
           "#2ca02c",
           "#2ca02c",
           "#2ca02c",
           "#2ca02c",
           "#2ca02c",
           "#2ca02c",
           "#2ca02c",
           "#2ca02c",
           "#ff7f0e",
           "#2ca02c",
           "#2ca02c",
           "#2ca02c",
           "#2ca02c",
           "#2ca02c",
           "#2ca02c",
           "#2ca02c",
           "#2ca02c",
           "#2ca02c",
           "#2ca02c",
           "#ff7f0e",
           "#2ca02c",
           "#2ca02c",
           "#2ca02c",
           "#2ca02c",
           "#2ca02c",
           "#2ca02c",
           "#2ca02c",
           "#2ca02c",
           "#2ca02c",
           "#2ca02c",
           "#ff7f0e",
           "#2ca02c",
           "#2ca02c",
           "#2ca02c",
           "#2ca02c",
           "#2ca02c",
           "#2ca02c",
           "#2ca02c",
           "#2ca02c",
           "#2ca02c",
           "#2ca02c",
           "#ff7f0e",
           "#2ca02c",
           "#2ca02c",
           "#2ca02c",
           "#2ca02c",
           "#2ca02c",
           "#2ca02c",
           "#2ca02c",
           "#2ca02c",
           "#2ca02c",
           "#2ca02c",
           "#ff7f0e",
           "#2ca02c",
           "#2ca02c",
           "#2ca02c",
           "#2ca02c",
           "#2ca02c",
           "#2ca02c",
           "#2ca02c",
           "#2ca02c",
           "#2ca02c",
           "#2ca02c",
           "#ff7f0e",
           "#2ca02c",
           "#2ca02c",
           "#2ca02c",
           "#2ca02c",
           "#2ca02c",
           "#2ca02c",
           "#2ca02c",
           "#2ca02c",
           "#2ca02c",
           "#2ca02c",
           "#ff7f0e",
           "#2ca02c",
           "#2ca02c",
           "#2ca02c",
           "#2ca02c",
           "#2ca02c",
           "#2ca02c",
           "#2ca02c",
           "#2ca02c",
           "#2ca02c",
           "#2ca02c",
           "#ff7f0e",
           "#2ca02c",
           "#2ca02c",
           "#2ca02c",
           "#2ca02c",
           "#2ca02c",
           "#2ca02c",
           "#2ca02c",
           "#2ca02c",
           "#2ca02c",
           "#2ca02c",
           "#ff7f0e",
           "#2ca02c",
           "#2ca02c",
           "#2ca02c",
           "#2ca02c",
           "#2ca02c",
           "#2ca02c",
           "#2ca02c",
           "#2ca02c",
           "#2ca02c",
           "#2ca02c",
           "#ff7f0e",
           "#2ca02c",
           "#2ca02c",
           "#2ca02c",
           "#2ca02c",
           "#2ca02c",
           "#2ca02c",
           "#2ca02c",
           "#2ca02c",
           "#2ca02c",
           "#2ca02c",
           "#1f77b4",
           "#ff7f0e",
           "#2ca02c",
           "#2ca02c",
           "#2ca02c",
           "#2ca02c",
           "#2ca02c",
           "#2ca02c",
           "#2ca02c",
           "#2ca02c",
           "#2ca02c",
           "#2ca02c",
           "#ff7f0e",
           "#2ca02c",
           "#2ca02c",
           "#2ca02c",
           "#2ca02c",
           "#2ca02c",
           "#2ca02c",
           "#2ca02c",
           "#2ca02c",
           "#2ca02c",
           "#2ca02c",
           "#ff7f0e",
           "#2ca02c",
           "#2ca02c",
           "#2ca02c",
           "#2ca02c",
           "#2ca02c",
           "#2ca02c",
           "#2ca02c",
           "#2ca02c",
           "#2ca02c",
           "#2ca02c",
           "#ff7f0e",
           "#2ca02c",
           "#2ca02c",
           "#2ca02c",
           "#2ca02c",
           "#2ca02c",
           "#2ca02c",
           "#2ca02c",
           "#2ca02c",
           "#2ca02c",
           "#2ca02c",
           "#2ca02c",
           "#ff7f0e",
           "#2ca02c",
           "#2ca02c",
           "#2ca02c",
           "#2ca02c",
           "#2ca02c",
           "#2ca02c",
           "#2ca02c",
           "#2ca02c",
           "#2ca02c",
           "#2ca02c",
           "#ff7f0e",
           "#2ca02c",
           "#2ca02c",
           "#2ca02c",
           "#2ca02c",
           "#2ca02c",
           "#2ca02c",
           "#2ca02c",
           "#2ca02c",
           "#2ca02c",
           "#2ca02c",
           "#ff7f0e",
           "#2ca02c",
           "#2ca02c",
           "#2ca02c",
           "#2ca02c",
           "#2ca02c",
           "#2ca02c",
           "#2ca02c",
           "#2ca02c",
           "#2ca02c",
           "#2ca02c",
           "#ff7f0e",
           "#ff7f0e",
           "#2ca02c",
           "#2ca02c",
           "#2ca02c",
           "#2ca02c",
           "#2ca02c",
           "#2ca02c",
           "#2ca02c",
           "#2ca02c",
           "#2ca02c",
           "#2ca02c",
           "#ff7f0e",
           "#2ca02c",
           "#2ca02c",
           "#2ca02c",
           "#2ca02c",
           "#2ca02c",
           "#2ca02c",
           "#2ca02c",
           "#2ca02c",
           "#2ca02c",
           "#2ca02c",
           "#1f77b4",
           "#ff7f0e",
           "#2ca02c",
           "#2ca02c",
           "#2ca02c",
           "#2ca02c",
           "#2ca02c",
           "#2ca02c",
           "#2ca02c",
           "#2ca02c",
           "#2ca02c",
           "#2ca02c",
           "#2ca02c",
           "#ff7f0e",
           "#2ca02c",
           "#2ca02c",
           "#2ca02c",
           "#2ca02c",
           "#2ca02c",
           "#2ca02c",
           "#2ca02c",
           "#2ca02c",
           "#2ca02c",
           "#2ca02c",
           "#ff7f0e",
           "#2ca02c",
           "#2ca02c",
           "#2ca02c",
           "#2ca02c",
           "#2ca02c",
           "#2ca02c",
           "#2ca02c",
           "#2ca02c",
           "#2ca02c",
           "#2ca02c",
           "#ff7f0e",
           "#2ca02c",
           "#2ca02c",
           "#2ca02c",
           "#2ca02c",
           "#2ca02c",
           "#2ca02c",
           "#2ca02c",
           "#2ca02c",
           "#2ca02c",
           "#2ca02c",
           "#ff7f0e",
           "#2ca02c",
           "#2ca02c",
           "#2ca02c",
           "#2ca02c",
           "#2ca02c",
           "#2ca02c",
           "#2ca02c",
           "#2ca02c",
           "#2ca02c",
           "#2ca02c",
           "#ff7f0e",
           "#2ca02c",
           "#2ca02c",
           "#2ca02c",
           "#2ca02c",
           "#2ca02c",
           "#2ca02c",
           "#2ca02c",
           "#2ca02c",
           "#2ca02c",
           "#2ca02c",
           "#ff7f0e",
           "#2ca02c",
           "#2ca02c",
           "#2ca02c",
           "#2ca02c",
           "#2ca02c",
           "#2ca02c",
           "#2ca02c",
           "#2ca02c",
           "#2ca02c",
           "#2ca02c",
           "#ff7f0e",
           "#2ca02c",
           "#2ca02c",
           "#2ca02c",
           "#2ca02c",
           "#2ca02c",
           "#2ca02c",
           "#2ca02c",
           "#2ca02c",
           "#2ca02c",
           "#2ca02c",
           "#ff7f0e",
           "#2ca02c",
           "#2ca02c",
           "#2ca02c",
           "#2ca02c",
           "#2ca02c",
           "#2ca02c",
           "#2ca02c",
           "#2ca02c",
           "#2ca02c",
           "#2ca02c",
           "#ff7f0e",
           "#2ca02c",
           "#2ca02c",
           "#2ca02c",
           "#2ca02c",
           "#2ca02c",
           "#2ca02c",
           "#2ca02c",
           "#2ca02c",
           "#2ca02c",
           "#2ca02c",
           "#ff7f0e",
           "#2ca02c",
           "#2ca02c",
           "#2ca02c",
           "#2ca02c",
           "#2ca02c",
           "#2ca02c",
           "#2ca02c",
           "#2ca02c",
           "#2ca02c",
           "#2ca02c",
           "#1f77b4",
           "#ff7f0e",
           "#2ca02c",
           "#2ca02c",
           "#2ca02c",
           "#2ca02c",
           "#2ca02c",
           "#2ca02c",
           "#2ca02c",
           "#2ca02c",
           "#2ca02c",
           "#2ca02c",
           "#2ca02c",
           "#2ca02c",
           "#ff7f0e",
           "#2ca02c",
           "#2ca02c",
           "#2ca02c",
           "#2ca02c",
           "#2ca02c",
           "#2ca02c",
           "#2ca02c",
           "#2ca02c",
           "#2ca02c",
           "#2ca02c",
           "#2ca02c",
           "#2ca02c",
           "#2ca02c",
           "#2ca02c",
           "#2ca02c",
           "#ff7f0e",
           "#2ca02c",
           "#2ca02c",
           "#2ca02c",
           "#2ca02c",
           "#2ca02c",
           "#2ca02c",
           "#2ca02c",
           "#2ca02c",
           "#2ca02c",
           "#2ca02c",
           "#ff7f0e",
           "#2ca02c",
           "#2ca02c",
           "#2ca02c",
           "#2ca02c",
           "#2ca02c",
           "#2ca02c",
           "#2ca02c",
           "#2ca02c",
           "#2ca02c",
           "#2ca02c",
           "#ff7f0e",
           "#2ca02c",
           "#2ca02c",
           "#2ca02c",
           "#2ca02c",
           "#2ca02c",
           "#2ca02c",
           "#2ca02c",
           "#2ca02c",
           "#2ca02c",
           "#2ca02c",
           "#ff7f0e",
           "#2ca02c",
           "#2ca02c",
           "#2ca02c",
           "#2ca02c",
           "#2ca02c",
           "#2ca02c",
           "#2ca02c",
           "#2ca02c",
           "#2ca02c",
           "#2ca02c",
           "#ff7f0e",
           "#2ca02c",
           "#2ca02c",
           "#2ca02c",
           "#2ca02c",
           "#2ca02c",
           "#2ca02c",
           "#2ca02c",
           "#2ca02c",
           "#2ca02c",
           "#2ca02c",
           "#ff7f0e",
           "#2ca02c",
           "#2ca02c",
           "#2ca02c",
           "#2ca02c",
           "#2ca02c",
           "#2ca02c",
           "#2ca02c",
           "#2ca02c",
           "#2ca02c",
           "#2ca02c",
           "#ff7f0e",
           "#2ca02c",
           "#2ca02c",
           "#2ca02c",
           "#2ca02c",
           "#2ca02c",
           "#2ca02c",
           "#2ca02c",
           "#2ca02c",
           "#2ca02c",
           "#2ca02c",
           "#ff7f0e",
           "#2ca02c",
           "#2ca02c",
           "#2ca02c",
           "#2ca02c",
           "#2ca02c",
           "#2ca02c",
           "#2ca02c",
           "#2ca02c",
           "#2ca02c",
           "#2ca02c",
           "#ff7f0e",
           "#ff7f0e",
           "#2ca02c",
           "#2ca02c",
           "#2ca02c",
           "#2ca02c",
           "#2ca02c",
           "#2ca02c",
           "#2ca02c",
           "#2ca02c",
           "#2ca02c",
           "#2ca02c",
           "#ff7f0e",
           "#2ca02c",
           "#2ca02c",
           "#2ca02c",
           "#2ca02c",
           "#2ca02c",
           "#2ca02c",
           "#2ca02c",
           "#2ca02c",
           "#2ca02c",
           "#2ca02c",
           "#1f77b4",
           "#ff7f0e",
           "#2ca02c",
           "#2ca02c",
           "#2ca02c",
           "#2ca02c",
           "#2ca02c",
           "#2ca02c",
           "#2ca02c",
           "#2ca02c",
           "#2ca02c",
           "#2ca02c",
           "#ff7f0e",
           "#2ca02c",
           "#2ca02c",
           "#2ca02c",
           "#2ca02c",
           "#2ca02c",
           "#2ca02c",
           "#2ca02c",
           "#2ca02c",
           "#2ca02c",
           "#2ca02c",
           "#ff7f0e",
           "#2ca02c",
           "#2ca02c",
           "#2ca02c",
           "#2ca02c",
           "#2ca02c",
           "#2ca02c",
           "#2ca02c",
           "#2ca02c",
           "#2ca02c",
           "#2ca02c",
           "#ff7f0e",
           "#2ca02c",
           "#2ca02c",
           "#2ca02c",
           "#2ca02c",
           "#2ca02c",
           "#2ca02c",
           "#2ca02c",
           "#2ca02c",
           "#2ca02c",
           "#2ca02c",
           "#ff7f0e",
           "#2ca02c",
           "#2ca02c",
           "#2ca02c",
           "#2ca02c",
           "#2ca02c",
           "#2ca02c",
           "#2ca02c",
           "#2ca02c",
           "#2ca02c",
           "#2ca02c",
           "#2ca02c",
           "#ff7f0e",
           "#2ca02c",
           "#2ca02c",
           "#2ca02c",
           "#2ca02c",
           "#2ca02c",
           "#2ca02c",
           "#2ca02c",
           "#2ca02c",
           "#2ca02c",
           "#2ca02c",
           "#ff7f0e",
           "#2ca02c",
           "#2ca02c",
           "#2ca02c",
           "#2ca02c",
           "#2ca02c",
           "#2ca02c",
           "#2ca02c",
           "#2ca02c",
           "#2ca02c",
           "#2ca02c",
           "#ff7f0e",
           "#2ca02c",
           "#2ca02c",
           "#2ca02c",
           "#2ca02c",
           "#2ca02c",
           "#2ca02c",
           "#2ca02c",
           "#2ca02c",
           "#2ca02c",
           "#2ca02c",
           "#ff7f0e",
           "#2ca02c",
           "#2ca02c",
           "#2ca02c",
           "#2ca02c",
           "#2ca02c",
           "#2ca02c",
           "#2ca02c",
           "#2ca02c",
           "#2ca02c",
           "#2ca02c",
           "#ff7f0e",
           "#2ca02c",
           "#2ca02c",
           "#2ca02c",
           "#2ca02c",
           "#2ca02c",
           "#2ca02c",
           "#2ca02c",
           "#2ca02c",
           "#2ca02c",
           "#2ca02c",
           "#ff7f0e",
           "#2ca02c",
           "#2ca02c",
           "#2ca02c",
           "#2ca02c",
           "#2ca02c",
           "#2ca02c",
           "#2ca02c",
           "#2ca02c",
           "#2ca02c",
           "#2ca02c",
           "#2ca02c",
           "#ff7f0e",
           "#2ca02c",
           "#2ca02c",
           "#2ca02c",
           "#2ca02c",
           "#2ca02c",
           "#2ca02c",
           "#2ca02c",
           "#2ca02c",
           "#2ca02c",
           "#2ca02c",
           "#ff7f0e",
           "#2ca02c",
           "#2ca02c",
           "#2ca02c",
           "#2ca02c",
           "#2ca02c",
           "#2ca02c",
           "#2ca02c",
           "#2ca02c",
           "#2ca02c",
           "#2ca02c",
           "#ff7f0e",
           "#2ca02c",
           "#2ca02c",
           "#2ca02c",
           "#2ca02c",
           "#2ca02c",
           "#2ca02c",
           "#2ca02c",
           "#2ca02c",
           "#2ca02c",
           "#2ca02c",
           "#2ca02c",
           "#1f77b4",
           "#ff7f0e",
           "#2ca02c",
           "#2ca02c",
           "#2ca02c",
           "#2ca02c",
           "#2ca02c",
           "#2ca02c",
           "#2ca02c",
           "#2ca02c",
           "#2ca02c",
           "#2ca02c",
           "#2ca02c",
           "#2ca02c",
           "#2ca02c",
           "#ff7f0e",
           "#2ca02c",
           "#2ca02c",
           "#2ca02c",
           "#2ca02c",
           "#2ca02c",
           "#2ca02c",
           "#2ca02c",
           "#2ca02c",
           "#2ca02c",
           "#2ca02c",
           "#2ca02c",
           "#ff7f0e",
           "#2ca02c",
           "#2ca02c",
           "#2ca02c",
           "#2ca02c",
           "#2ca02c",
           "#2ca02c",
           "#2ca02c",
           "#2ca02c",
           "#2ca02c",
           "#2ca02c",
           "#ff7f0e",
           "#2ca02c",
           "#2ca02c",
           "#2ca02c",
           "#2ca02c",
           "#2ca02c",
           "#2ca02c",
           "#2ca02c",
           "#2ca02c",
           "#2ca02c",
           "#2ca02c",
           "#2ca02c",
           "#2ca02c",
           "#ff7f0e",
           "#2ca02c",
           "#2ca02c",
           "#2ca02c",
           "#2ca02c",
           "#2ca02c",
           "#2ca02c",
           "#2ca02c",
           "#2ca02c",
           "#2ca02c",
           "#2ca02c",
           "#2ca02c",
           "#2ca02c",
           "#2ca02c",
           "#ff7f0e",
           "#2ca02c",
           "#2ca02c",
           "#2ca02c",
           "#2ca02c",
           "#2ca02c",
           "#2ca02c",
           "#2ca02c",
           "#2ca02c",
           "#2ca02c",
           "#2ca02c",
           "#ff7f0e",
           "#2ca02c",
           "#2ca02c",
           "#2ca02c",
           "#2ca02c",
           "#2ca02c",
           "#2ca02c",
           "#2ca02c",
           "#2ca02c",
           "#2ca02c",
           "#2ca02c",
           "#ff7f0e",
           "#2ca02c",
           "#2ca02c",
           "#2ca02c",
           "#2ca02c",
           "#2ca02c",
           "#2ca02c",
           "#2ca02c",
           "#2ca02c",
           "#2ca02c",
           "#2ca02c",
           "#ff7f0e",
           "#2ca02c",
           "#2ca02c",
           "#2ca02c",
           "#2ca02c",
           "#2ca02c",
           "#2ca02c",
           "#2ca02c",
           "#2ca02c",
           "#2ca02c",
           "#2ca02c",
           "#ff7f0e",
           "#2ca02c",
           "#2ca02c",
           "#2ca02c",
           "#2ca02c",
           "#2ca02c",
           "#2ca02c",
           "#2ca02c",
           "#2ca02c",
           "#2ca02c",
           "#2ca02c",
           "#ff7f0e",
           "#2ca02c",
           "#2ca02c",
           "#2ca02c",
           "#2ca02c",
           "#2ca02c",
           "#2ca02c",
           "#2ca02c",
           "#2ca02c",
           "#2ca02c",
           "#ff7f0e",
           "#2ca02c",
           "#2ca02c",
           "#2ca02c",
           "#2ca02c",
           "#2ca02c",
           "#2ca02c",
           "#2ca02c",
           "#2ca02c",
           "#2ca02c",
           "#2ca02c",
           "#1f77b4",
           "#ff7f0e",
           "#2ca02c",
           "#2ca02c",
           "#2ca02c",
           "#2ca02c",
           "#2ca02c",
           "#2ca02c",
           "#2ca02c",
           "#2ca02c",
           "#2ca02c",
           "#2ca02c",
           "#2ca02c",
           "#2ca02c",
           "#2ca02c",
           "#2ca02c",
           "#2ca02c",
           "#2ca02c",
           "#2ca02c",
           "#2ca02c",
           "#ff7f0e",
           "#2ca02c",
           "#2ca02c",
           "#2ca02c",
           "#2ca02c",
           "#2ca02c",
           "#2ca02c",
           "#2ca02c",
           "#2ca02c",
           "#2ca02c",
           "#2ca02c",
           "#2ca02c",
           "#2ca02c",
           "#ff7f0e",
           "#2ca02c",
           "#2ca02c",
           "#2ca02c",
           "#2ca02c",
           "#2ca02c",
           "#2ca02c",
           "#2ca02c",
           "#2ca02c",
           "#2ca02c",
           "#2ca02c",
           "#ff7f0e",
           "#2ca02c",
           "#2ca02c",
           "#2ca02c",
           "#2ca02c",
           "#2ca02c",
           "#2ca02c",
           "#2ca02c",
           "#2ca02c",
           "#2ca02c",
           "#2ca02c",
           "#ff7f0e",
           "#2ca02c",
           "#2ca02c",
           "#2ca02c",
           "#2ca02c",
           "#2ca02c",
           "#2ca02c",
           "#2ca02c",
           "#2ca02c",
           "#2ca02c",
           "#2ca02c",
           "#ff7f0e",
           "#2ca02c",
           "#2ca02c",
           "#2ca02c",
           "#2ca02c",
           "#2ca02c",
           "#2ca02c",
           "#2ca02c",
           "#2ca02c",
           "#2ca02c",
           "#2ca02c",
           "#2ca02c",
           "#ff7f0e",
           "#2ca02c",
           "#2ca02c",
           "#2ca02c",
           "#2ca02c",
           "#2ca02c",
           "#2ca02c",
           "#2ca02c",
           "#2ca02c",
           "#2ca02c",
           "#2ca02c",
           "#ff7f0e",
           "#2ca02c",
           "#2ca02c",
           "#2ca02c",
           "#2ca02c",
           "#2ca02c",
           "#2ca02c",
           "#2ca02c",
           "#2ca02c",
           "#2ca02c",
           "#2ca02c",
           "#ff7f0e",
           "#2ca02c",
           "#2ca02c",
           "#2ca02c",
           "#2ca02c",
           "#2ca02c",
           "#2ca02c",
           "#2ca02c",
           "#2ca02c",
           "#2ca02c",
           "#2ca02c",
           "#ff7f0e",
           "#2ca02c",
           "#2ca02c",
           "#2ca02c",
           "#2ca02c",
           "#2ca02c",
           "#2ca02c",
           "#2ca02c",
           "#2ca02c",
           "#2ca02c",
           "#2ca02c",
           "#ff7f0e",
           "#2ca02c",
           "#2ca02c",
           "#2ca02c",
           "#2ca02c",
           "#2ca02c",
           "#2ca02c",
           "#2ca02c",
           "#2ca02c",
           "#2ca02c",
           "#2ca02c",
           "#1f77b4",
           "#ff7f0e",
           "#2ca02c",
           "#2ca02c",
           "#2ca02c",
           "#2ca02c",
           "#2ca02c",
           "#2ca02c",
           "#2ca02c",
           "#2ca02c",
           "#2ca02c",
           "#2ca02c",
           "#2ca02c",
           "#ff7f0e",
           "#2ca02c",
           "#2ca02c",
           "#2ca02c",
           "#2ca02c",
           "#2ca02c",
           "#2ca02c",
           "#2ca02c",
           "#2ca02c",
           "#2ca02c",
           "#2ca02c",
           "#ff7f0e",
           "#2ca02c",
           "#2ca02c",
           "#2ca02c",
           "#2ca02c",
           "#2ca02c",
           "#2ca02c",
           "#2ca02c",
           "#2ca02c",
           "#2ca02c",
           "#2ca02c",
           "#ff7f0e",
           "#2ca02c",
           "#2ca02c",
           "#2ca02c",
           "#2ca02c",
           "#2ca02c",
           "#2ca02c",
           "#2ca02c",
           "#2ca02c",
           "#2ca02c",
           "#2ca02c",
           "#ff7f0e",
           "#2ca02c",
           "#2ca02c",
           "#2ca02c",
           "#2ca02c",
           "#2ca02c",
           "#2ca02c",
           "#2ca02c",
           "#2ca02c",
           "#2ca02c",
           "#2ca02c",
           "#ff7f0e",
           "#2ca02c",
           "#2ca02c",
           "#2ca02c",
           "#2ca02c",
           "#2ca02c",
           "#2ca02c",
           "#2ca02c",
           "#2ca02c",
           "#2ca02c",
           "#2ca02c",
           "#ff7f0e",
           "#2ca02c",
           "#2ca02c",
           "#2ca02c",
           "#2ca02c",
           "#2ca02c",
           "#2ca02c",
           "#2ca02c",
           "#2ca02c",
           "#2ca02c",
           "#2ca02c",
           "#ff7f0e",
           "#2ca02c",
           "#2ca02c",
           "#2ca02c",
           "#2ca02c",
           "#2ca02c",
           "#2ca02c",
           "#2ca02c",
           "#2ca02c",
           "#2ca02c",
           "#2ca02c",
           "#ff7f0e",
           "#2ca02c",
           "#2ca02c",
           "#2ca02c",
           "#2ca02c",
           "#2ca02c",
           "#2ca02c",
           "#2ca02c",
           "#2ca02c",
           "#2ca02c",
           "#2ca02c",
           "#1f77b4",
           "#ff7f0e",
           "#2ca02c",
           "#2ca02c",
           "#2ca02c",
           "#2ca02c",
           "#2ca02c",
           "#2ca02c",
           "#2ca02c",
           "#2ca02c",
           "#2ca02c",
           "#2ca02c",
           "#ff7f0e",
           "#2ca02c",
           "#2ca02c",
           "#2ca02c",
           "#2ca02c",
           "#2ca02c",
           "#2ca02c",
           "#2ca02c",
           "#2ca02c",
           "#2ca02c",
           "#2ca02c",
           "#ff7f0e",
           "#2ca02c",
           "#2ca02c",
           "#2ca02c",
           "#2ca02c",
           "#2ca02c",
           "#2ca02c",
           "#2ca02c",
           "#2ca02c",
           "#2ca02c",
           "#2ca02c",
           "#ff7f0e",
           "#2ca02c",
           "#2ca02c",
           "#2ca02c",
           "#2ca02c",
           "#2ca02c",
           "#2ca02c",
           "#2ca02c",
           "#2ca02c",
           "#2ca02c",
           "#2ca02c",
           "#ff7f0e",
           "#2ca02c",
           "#2ca02c",
           "#2ca02c",
           "#2ca02c",
           "#2ca02c",
           "#2ca02c",
           "#2ca02c",
           "#2ca02c",
           "#2ca02c",
           "#2ca02c",
           "#ff7f0e",
           "#2ca02c",
           "#2ca02c",
           "#2ca02c",
           "#2ca02c",
           "#2ca02c",
           "#2ca02c",
           "#2ca02c",
           "#2ca02c",
           "#2ca02c",
           "#2ca02c",
           "#ff7f0e",
           "#2ca02c",
           "#2ca02c",
           "#2ca02c",
           "#2ca02c",
           "#2ca02c",
           "#2ca02c",
           "#2ca02c",
           "#2ca02c",
           "#2ca02c",
           "#2ca02c",
           "#ff7f0e",
           "#2ca02c",
           "#2ca02c",
           "#2ca02c",
           "#2ca02c",
           "#2ca02c",
           "#2ca02c",
           "#2ca02c",
           "#2ca02c",
           "#2ca02c",
           "#2ca02c",
           "#1f77b4",
           "#ff7f0e",
           "#2ca02c",
           "#2ca02c",
           "#2ca02c",
           "#2ca02c",
           "#2ca02c",
           "#2ca02c",
           "#2ca02c",
           "#2ca02c",
           "#2ca02c",
           "#2ca02c",
           "#2ca02c",
           "#ff7f0e",
           "#2ca02c",
           "#2ca02c",
           "#2ca02c",
           "#2ca02c",
           "#2ca02c",
           "#2ca02c",
           "#2ca02c",
           "#2ca02c",
           "#2ca02c",
           "#2ca02c",
           "#ff7f0e",
           "#2ca02c",
           "#2ca02c",
           "#2ca02c",
           "#2ca02c",
           "#2ca02c",
           "#2ca02c",
           "#2ca02c",
           "#2ca02c",
           "#2ca02c",
           "#2ca02c",
           "#ff7f0e",
           "#2ca02c",
           "#2ca02c",
           "#2ca02c",
           "#2ca02c",
           "#2ca02c",
           "#2ca02c",
           "#2ca02c",
           "#2ca02c",
           "#2ca02c",
           "#2ca02c",
           "#ff7f0e",
           "#2ca02c",
           "#2ca02c",
           "#2ca02c",
           "#2ca02c",
           "#2ca02c",
           "#2ca02c",
           "#2ca02c",
           "#2ca02c",
           "#2ca02c",
           "#2ca02c",
           "#ff7f0e",
           "#2ca02c",
           "#2ca02c",
           "#2ca02c",
           "#2ca02c",
           "#2ca02c",
           "#2ca02c",
           "#2ca02c",
           "#2ca02c",
           "#2ca02c",
           "#2ca02c",
           "#ff7f0e",
           "#2ca02c",
           "#2ca02c",
           "#2ca02c",
           "#2ca02c",
           "#2ca02c",
           "#2ca02c",
           "#2ca02c",
           "#2ca02c",
           "#2ca02c",
           "#2ca02c",
           "#ff7f0e",
           "#2ca02c",
           "#2ca02c",
           "#2ca02c",
           "#2ca02c",
           "#2ca02c",
           "#2ca02c",
           "#2ca02c",
           "#2ca02c",
           "#2ca02c",
           "#2ca02c",
           "#ff7f0e",
           "#2ca02c",
           "#2ca02c",
           "#2ca02c",
           "#2ca02c",
           "#2ca02c",
           "#2ca02c",
           "#2ca02c",
           "#2ca02c",
           "#2ca02c",
           "#2ca02c",
           "#ff7f0e",
           "#2ca02c",
           "#2ca02c",
           "#2ca02c",
           "#2ca02c",
           "#2ca02c",
           "#2ca02c",
           "#2ca02c",
           "#2ca02c",
           "#2ca02c",
           "#2ca02c",
           "#ff7f0e",
           "#2ca02c",
           "#2ca02c",
           "#2ca02c",
           "#2ca02c",
           "#2ca02c",
           "#2ca02c",
           "#2ca02c",
           "#2ca02c",
           "#2ca02c",
           "#2ca02c",
           "#1f77b4",
           "#ff7f0e",
           "#2ca02c",
           "#2ca02c",
           "#2ca02c",
           "#2ca02c",
           "#2ca02c",
           "#2ca02c",
           "#2ca02c",
           "#2ca02c",
           "#2ca02c",
           "#2ca02c",
           "#ff7f0e",
           "#2ca02c",
           "#2ca02c",
           "#2ca02c",
           "#2ca02c",
           "#2ca02c",
           "#2ca02c",
           "#2ca02c",
           "#2ca02c",
           "#2ca02c",
           "#2ca02c",
           "#ff7f0e",
           "#2ca02c",
           "#2ca02c",
           "#2ca02c",
           "#2ca02c",
           "#2ca02c",
           "#2ca02c",
           "#2ca02c",
           "#2ca02c",
           "#2ca02c",
           "#2ca02c",
           "#2ca02c",
           "#ff7f0e",
           "#2ca02c",
           "#2ca02c",
           "#2ca02c",
           "#2ca02c",
           "#2ca02c",
           "#2ca02c",
           "#2ca02c",
           "#2ca02c",
           "#2ca02c",
           "#2ca02c",
           "#ff7f0e",
           "#2ca02c",
           "#2ca02c",
           "#2ca02c",
           "#2ca02c",
           "#2ca02c",
           "#2ca02c",
           "#2ca02c",
           "#2ca02c",
           "#2ca02c",
           "#2ca02c",
           "#ff7f0e",
           "#2ca02c",
           "#2ca02c",
           "#2ca02c",
           "#2ca02c",
           "#2ca02c",
           "#2ca02c",
           "#2ca02c",
           "#2ca02c",
           "#2ca02c",
           "#2ca02c",
           "#1f77b4",
           "#ff7f0e",
           "#2ca02c",
           "#2ca02c",
           "#2ca02c",
           "#2ca02c",
           "#2ca02c",
           "#2ca02c",
           "#2ca02c",
           "#2ca02c",
           "#2ca02c",
           "#2ca02c",
           "#ff7f0e",
           "#2ca02c",
           "#2ca02c",
           "#2ca02c",
           "#2ca02c",
           "#2ca02c",
           "#2ca02c",
           "#2ca02c",
           "#2ca02c",
           "#2ca02c",
           "#2ca02c",
           "#ff7f0e",
           "#2ca02c",
           "#2ca02c",
           "#2ca02c",
           "#2ca02c",
           "#2ca02c",
           "#2ca02c",
           "#2ca02c",
           "#2ca02c",
           "#2ca02c",
           "#2ca02c",
           "#ff7f0e",
           "#2ca02c",
           "#2ca02c",
           "#2ca02c",
           "#2ca02c",
           "#2ca02c",
           "#2ca02c",
           "#2ca02c",
           "#2ca02c",
           "#2ca02c",
           "#2ca02c",
           "#ff7f0e",
           "#2ca02c",
           "#2ca02c",
           "#2ca02c",
           "#2ca02c",
           "#2ca02c",
           "#2ca02c",
           "#2ca02c",
           "#2ca02c",
           "#2ca02c",
           "#2ca02c",
           "#ff7f0e",
           "#2ca02c",
           "#2ca02c",
           "#2ca02c",
           "#2ca02c",
           "#2ca02c",
           "#2ca02c",
           "#2ca02c",
           "#2ca02c",
           "#2ca02c",
           "#2ca02c",
           "#ff7f0e",
           "#2ca02c",
           "#2ca02c",
           "#2ca02c",
           "#2ca02c",
           "#2ca02c",
           "#2ca02c",
           "#2ca02c",
           "#2ca02c",
           "#2ca02c",
           "#2ca02c",
           "#1f77b4",
           "#ff7f0e",
           "#2ca02c",
           "#2ca02c",
           "#2ca02c",
           "#2ca02c",
           "#2ca02c",
           "#2ca02c",
           "#2ca02c",
           "#2ca02c",
           "#2ca02c",
           "#2ca02c",
           "#ff7f0e",
           "#2ca02c",
           "#2ca02c",
           "#2ca02c",
           "#2ca02c",
           "#2ca02c",
           "#2ca02c",
           "#2ca02c",
           "#2ca02c",
           "#2ca02c",
           "#2ca02c",
           "#ff7f0e",
           "#2ca02c",
           "#2ca02c",
           "#2ca02c",
           "#2ca02c",
           "#2ca02c",
           "#2ca02c",
           "#2ca02c",
           "#2ca02c",
           "#2ca02c",
           "#2ca02c",
           "#ff7f0e",
           "#2ca02c",
           "#2ca02c",
           "#2ca02c",
           "#2ca02c",
           "#2ca02c",
           "#2ca02c",
           "#2ca02c",
           "#2ca02c",
           "#2ca02c",
           "#2ca02c",
           "#ff7f0e",
           "#2ca02c",
           "#2ca02c",
           "#2ca02c",
           "#2ca02c",
           "#2ca02c",
           "#2ca02c",
           "#2ca02c",
           "#2ca02c",
           "#2ca02c",
           "#2ca02c",
           "#2ca02c",
           "#ff7f0e",
           "#2ca02c",
           "#2ca02c",
           "#2ca02c",
           "#2ca02c",
           "#2ca02c",
           "#2ca02c",
           "#2ca02c",
           "#2ca02c",
           "#2ca02c",
           "#2ca02c",
           "#ff7f0e",
           "#2ca02c",
           "#2ca02c",
           "#2ca02c",
           "#2ca02c",
           "#2ca02c",
           "#2ca02c",
           "#2ca02c",
           "#2ca02c",
           "#2ca02c",
           "#2ca02c",
           "#1f77b4",
           "#ff7f0e",
           "#2ca02c",
           "#2ca02c",
           "#2ca02c",
           "#2ca02c",
           "#2ca02c",
           "#2ca02c",
           "#2ca02c",
           "#2ca02c",
           "#2ca02c",
           "#2ca02c",
           "#ff7f0e",
           "#2ca02c",
           "#2ca02c",
           "#2ca02c",
           "#2ca02c",
           "#2ca02c",
           "#2ca02c",
           "#2ca02c",
           "#2ca02c",
           "#2ca02c",
           "#2ca02c",
           "#ff7f0e",
           "#2ca02c",
           "#2ca02c",
           "#2ca02c",
           "#2ca02c",
           "#2ca02c",
           "#2ca02c",
           "#2ca02c",
           "#2ca02c",
           "#2ca02c",
           "#2ca02c",
           "#ff7f0e",
           "#2ca02c",
           "#2ca02c",
           "#2ca02c",
           "#2ca02c",
           "#2ca02c",
           "#2ca02c",
           "#2ca02c",
           "#2ca02c",
           "#2ca02c",
           "#2ca02c",
           "#ff7f0e",
           "#2ca02c",
           "#2ca02c",
           "#2ca02c",
           "#2ca02c",
           "#2ca02c",
           "#2ca02c",
           "#2ca02c",
           "#2ca02c",
           "#2ca02c",
           "#2ca02c",
           "#2ca02c",
           "#2ca02c",
           "#2ca02c",
           "#ff7f0e",
           "#2ca02c",
           "#2ca02c",
           "#2ca02c",
           "#2ca02c",
           "#2ca02c",
           "#2ca02c",
           "#2ca02c",
           "#2ca02c",
           "#2ca02c",
           "#2ca02c",
           "#ff7f0e",
           "#2ca02c",
           "#2ca02c",
           "#2ca02c",
           "#2ca02c",
           "#2ca02c",
           "#2ca02c",
           "#2ca02c",
           "#2ca02c",
           "#2ca02c",
           "#2ca02c",
           "#1f77b4",
           "#ff7f0e",
           "#2ca02c",
           "#2ca02c",
           "#2ca02c",
           "#2ca02c",
           "#2ca02c",
           "#2ca02c",
           "#2ca02c",
           "#2ca02c",
           "#2ca02c",
           "#2ca02c",
           "#ff7f0e",
           "#2ca02c",
           "#2ca02c",
           "#2ca02c",
           "#2ca02c",
           "#2ca02c",
           "#2ca02c",
           "#2ca02c",
           "#2ca02c",
           "#2ca02c",
           "#2ca02c",
           "#ff7f0e",
           "#2ca02c",
           "#2ca02c",
           "#2ca02c",
           "#2ca02c",
           "#2ca02c",
           "#2ca02c",
           "#2ca02c",
           "#2ca02c",
           "#2ca02c",
           "#2ca02c",
           "#ff7f0e",
           "#2ca02c",
           "#2ca02c",
           "#2ca02c",
           "#2ca02c",
           "#2ca02c",
           "#2ca02c",
           "#2ca02c",
           "#2ca02c",
           "#2ca02c",
           "#2ca02c",
           "#ff7f0e",
           "#2ca02c",
           "#2ca02c",
           "#2ca02c",
           "#2ca02c",
           "#2ca02c",
           "#2ca02c",
           "#2ca02c",
           "#2ca02c",
           "#2ca02c",
           "#2ca02c",
           "#ff7f0e",
           "#2ca02c",
           "#2ca02c",
           "#2ca02c",
           "#2ca02c",
           "#2ca02c",
           "#2ca02c",
           "#2ca02c",
           "#2ca02c",
           "#2ca02c",
           "#ff7f0e",
           "#2ca02c",
           "#2ca02c",
           "#2ca02c",
           "#2ca02c",
           "#2ca02c",
           "#2ca02c",
           "#2ca02c",
           "#2ca02c",
           "#2ca02c",
           "#2ca02c",
           "#1f77b4",
           "#ff7f0e",
           "#2ca02c",
           "#2ca02c",
           "#2ca02c",
           "#2ca02c",
           "#2ca02c",
           "#2ca02c",
           "#2ca02c",
           "#2ca02c",
           "#2ca02c",
           "#2ca02c",
           "#ff7f0e",
           "#2ca02c",
           "#2ca02c",
           "#2ca02c",
           "#2ca02c",
           "#2ca02c",
           "#2ca02c",
           "#2ca02c",
           "#2ca02c",
           "#2ca02c",
           "#2ca02c",
           "#ff7f0e",
           "#2ca02c",
           "#2ca02c",
           "#2ca02c",
           "#2ca02c",
           "#2ca02c",
           "#2ca02c",
           "#2ca02c",
           "#2ca02c",
           "#2ca02c",
           "#2ca02c",
           "#ff7f0e",
           "#2ca02c",
           "#2ca02c",
           "#2ca02c",
           "#2ca02c",
           "#2ca02c",
           "#2ca02c",
           "#2ca02c",
           "#2ca02c",
           "#2ca02c",
           "#2ca02c",
           "#ff7f0e",
           "#2ca02c",
           "#2ca02c",
           "#2ca02c",
           "#2ca02c",
           "#2ca02c",
           "#2ca02c",
           "#2ca02c",
           "#2ca02c",
           "#2ca02c",
           "#2ca02c",
           "#ff7f0e",
           "#2ca02c",
           "#2ca02c",
           "#2ca02c",
           "#2ca02c",
           "#2ca02c",
           "#2ca02c",
           "#2ca02c",
           "#2ca02c",
           "#2ca02c",
           "#2ca02c"
          ]
         },
         "name": "",
         "parents": [
          "",
          "Climate and Environmental Systems",
          "Climate and Environmental Systems >> Climate-Related Financial Risk Assessment",
          "Climate and Environmental Systems >> Climate-Related Financial Risk Assessment",
          "Climate and Environmental Systems >> Climate-Related Financial Risk Assessment",
          "Climate and Environmental Systems >> Climate-Related Financial Risk Assessment",
          "Climate and Environmental Systems >> Climate-Related Financial Risk Assessment",
          "Climate and Environmental Systems >> Climate-Related Financial Risk Assessment",
          "Climate and Environmental Systems >> Climate-Related Financial Risk Assessment",
          "Climate and Environmental Systems >> Climate-Related Financial Risk Assessment",
          "Climate and Environmental Systems >> Climate-Related Financial Risk Assessment",
          "Climate and Environmental Systems >> Climate-Related Financial Risk Assessment",
          "Climate and Environmental Systems >> Climate-Related Financial Risk Assessment",
          "Climate and Environmental Systems >> Climate-Related Financial Risk Assessment",
          "Climate and Environmental Systems >> Climate-Related Financial Risk Assessment",
          "Climate and Environmental Systems >> Climate-Related Financial Risk Assessment",
          "Climate and Environmental Systems",
          "Climate and Environmental Systems >> Climate System Prediction and Long-Term Modeling",
          "Climate and Environmental Systems >> Climate System Prediction and Long-Term Modeling",
          "Climate and Environmental Systems >> Climate System Prediction and Long-Term Modeling",
          "Climate and Environmental Systems >> Climate System Prediction and Long-Term Modeling",
          "Climate and Environmental Systems >> Climate System Prediction and Long-Term Modeling",
          "Climate and Environmental Systems >> Climate System Prediction and Long-Term Modeling",
          "Climate and Environmental Systems >> Climate System Prediction and Long-Term Modeling",
          "Climate and Environmental Systems >> Climate System Prediction and Long-Term Modeling",
          "Climate and Environmental Systems >> Climate System Prediction and Long-Term Modeling",
          "Climate and Environmental Systems >> Climate System Prediction and Long-Term Modeling",
          "Climate and Environmental Systems",
          "Climate and Environmental Systems >> Groundwater Contamination and Remediation",
          "Climate and Environmental Systems >> Groundwater Contamination and Remediation",
          "Climate and Environmental Systems >> Groundwater Contamination and Remediation",
          "Climate and Environmental Systems >> Groundwater Contamination and Remediation",
          "Climate and Environmental Systems >> Groundwater Contamination and Remediation",
          "Climate and Environmental Systems >> Groundwater Contamination and Remediation",
          "Climate and Environmental Systems >> Groundwater Contamination and Remediation",
          "Climate and Environmental Systems >> Groundwater Contamination and Remediation",
          "Climate and Environmental Systems >> Groundwater Contamination and Remediation",
          "Climate and Environmental Systems >> Groundwater Contamination and Remediation",
          "Climate and Environmental Systems",
          "Climate and Environmental Systems >> Lake Condition Trends and Ecosystem Monitoring",
          "Climate and Environmental Systems >> Lake Condition Trends and Ecosystem Monitoring",
          "Climate and Environmental Systems >> Lake Condition Trends and Ecosystem Monitoring",
          "Climate and Environmental Systems >> Lake Condition Trends and Ecosystem Monitoring",
          "Climate and Environmental Systems >> Lake Condition Trends and Ecosystem Monitoring",
          "Climate and Environmental Systems >> Lake Condition Trends and Ecosystem Monitoring",
          "Climate and Environmental Systems >> Lake Condition Trends and Ecosystem Monitoring",
          "Climate and Environmental Systems >> Lake Condition Trends and Ecosystem Monitoring",
          "Climate and Environmental Systems >> Lake Condition Trends and Ecosystem Monitoring",
          "Climate and Environmental Systems >> Lake Condition Trends and Ecosystem Monitoring",
          "Climate and Environmental Systems",
          "Climate and Environmental Systems >> Global Biogeochemical Cycles and Earth System Science",
          "Climate and Environmental Systems >> Global Biogeochemical Cycles and Earth System Science",
          "Climate and Environmental Systems >> Global Biogeochemical Cycles and Earth System Science",
          "Climate and Environmental Systems >> Global Biogeochemical Cycles and Earth System Science",
          "Climate and Environmental Systems >> Global Biogeochemical Cycles and Earth System Science",
          "Climate and Environmental Systems >> Global Biogeochemical Cycles and Earth System Science",
          "Climate and Environmental Systems >> Global Biogeochemical Cycles and Earth System Science",
          "Climate and Environmental Systems >> Global Biogeochemical Cycles and Earth System Science",
          "Climate and Environmental Systems >> Global Biogeochemical Cycles and Earth System Science",
          "Climate and Environmental Systems >> Global Biogeochemical Cycles and Earth System Science",
          "Climate and Environmental Systems",
          "Climate and Environmental Systems >> Drought-Resistant Crops and Agricultural Resilience",
          "Climate and Environmental Systems >> Drought-Resistant Crops and Agricultural Resilience",
          "Climate and Environmental Systems >> Drought-Resistant Crops and Agricultural Resilience",
          "Climate and Environmental Systems >> Drought-Resistant Crops and Agricultural Resilience",
          "Climate and Environmental Systems >> Drought-Resistant Crops and Agricultural Resilience",
          "Climate and Environmental Systems >> Drought-Resistant Crops and Agricultural Resilience",
          "Climate and Environmental Systems >> Drought-Resistant Crops and Agricultural Resilience",
          "Climate and Environmental Systems >> Drought-Resistant Crops and Agricultural Resilience",
          "Climate and Environmental Systems >> Drought-Resistant Crops and Agricultural Resilience",
          "Climate and Environmental Systems >> Drought-Resistant Crops and Agricultural Resilience",
          "Climate and Environmental Systems",
          "Climate and Environmental Systems >> CO2 Capture and Carbon Management",
          "Climate and Environmental Systems >> CO2 Capture and Carbon Management",
          "Climate and Environmental Systems >> CO2 Capture and Carbon Management",
          "Climate and Environmental Systems >> CO2 Capture and Carbon Management",
          "Climate and Environmental Systems >> CO2 Capture and Carbon Management",
          "Climate and Environmental Systems >> CO2 Capture and Carbon Management",
          "Climate and Environmental Systems >> CO2 Capture and Carbon Management",
          "Climate and Environmental Systems >> CO2 Capture and Carbon Management",
          "Climate and Environmental Systems >> CO2 Capture and Carbon Management",
          "Climate and Environmental Systems >> CO2 Capture and Carbon Management",
          "Climate and Environmental Systems",
          "Climate and Environmental Systems >> Rapid CO2 Conversion and Carbon Utilization",
          "Climate and Environmental Systems >> Rapid CO2 Conversion and Carbon Utilization",
          "Climate and Environmental Systems >> Rapid CO2 Conversion and Carbon Utilization",
          "Climate and Environmental Systems >> Rapid CO2 Conversion and Carbon Utilization",
          "Climate and Environmental Systems >> Rapid CO2 Conversion and Carbon Utilization",
          "Climate and Environmental Systems >> Rapid CO2 Conversion and Carbon Utilization",
          "Climate and Environmental Systems >> Rapid CO2 Conversion and Carbon Utilization",
          "Climate and Environmental Systems >> Rapid CO2 Conversion and Carbon Utilization",
          "Climate and Environmental Systems >> Rapid CO2 Conversion and Carbon Utilization",
          "Climate and Environmental Systems >> Rapid CO2 Conversion and Carbon Utilization",
          "Climate and Environmental Systems",
          "Climate and Environmental Systems >> Fossil Site Survey and Paleoenvironmental Reconstruction",
          "Climate and Environmental Systems >> Fossil Site Survey and Paleoenvironmental Reconstruction",
          "Climate and Environmental Systems >> Fossil Site Survey and Paleoenvironmental Reconstruction",
          "Climate and Environmental Systems >> Fossil Site Survey and Paleoenvironmental Reconstruction",
          "Climate and Environmental Systems >> Fossil Site Survey and Paleoenvironmental Reconstruction",
          "Climate and Environmental Systems >> Fossil Site Survey and Paleoenvironmental Reconstruction",
          "Climate and Environmental Systems >> Fossil Site Survey and Paleoenvironmental Reconstruction",
          "Climate and Environmental Systems >> Fossil Site Survey and Paleoenvironmental Reconstruction",
          "Climate and Environmental Systems >> Fossil Site Survey and Paleoenvironmental Reconstruction",
          "Climate and Environmental Systems >> Fossil Site Survey and Paleoenvironmental Reconstruction",
          "Climate and Environmental Systems",
          "Climate and Environmental Systems >> Earth's Oxygenation and Atmospheric Evolution",
          "Climate and Environmental Systems >> Earth's Oxygenation and Atmospheric Evolution",
          "Climate and Environmental Systems >> Earth's Oxygenation and Atmospheric Evolution",
          "Climate and Environmental Systems >> Earth's Oxygenation and Atmospheric Evolution",
          "Climate and Environmental Systems >> Earth's Oxygenation and Atmospheric Evolution",
          "Climate and Environmental Systems >> Earth's Oxygenation and Atmospheric Evolution",
          "Climate and Environmental Systems >> Earth's Oxygenation and Atmospheric Evolution",
          "Climate and Environmental Systems >> Earth's Oxygenation and Atmospheric Evolution",
          "Climate and Environmental Systems >> Earth's Oxygenation and Atmospheric Evolution",
          "Climate and Environmental Systems >> Earth's Oxygenation and Atmospheric Evolution",
          "Climate and Environmental Systems",
          "Climate and Environmental Systems >> Ore-Bearing Sedimentary Rocks and Mineral Exploration",
          "Climate and Environmental Systems >> Ore-Bearing Sedimentary Rocks and Mineral Exploration",
          "Climate and Environmental Systems >> Ore-Bearing Sedimentary Rocks and Mineral Exploration",
          "Climate and Environmental Systems >> Ore-Bearing Sedimentary Rocks and Mineral Exploration",
          "Climate and Environmental Systems >> Ore-Bearing Sedimentary Rocks and Mineral Exploration",
          "Climate and Environmental Systems >> Ore-Bearing Sedimentary Rocks and Mineral Exploration",
          "Climate and Environmental Systems >> Ore-Bearing Sedimentary Rocks and Mineral Exploration",
          "Climate and Environmental Systems >> Ore-Bearing Sedimentary Rocks and Mineral Exploration",
          "Climate and Environmental Systems >> Ore-Bearing Sedimentary Rocks and Mineral Exploration",
          "Climate and Environmental Systems >> Ore-Bearing Sedimentary Rocks and Mineral Exploration",
          "Climate and Environmental Systems",
          "Climate and Environmental Systems >> Taste and Odour Control in Water and Food",
          "Climate and Environmental Systems >> Taste and Odour Control in Water and Food",
          "Climate and Environmental Systems >> Taste and Odour Control in Water and Food",
          "Climate and Environmental Systems >> Taste and Odour Control in Water and Food",
          "Climate and Environmental Systems >> Taste and Odour Control in Water and Food",
          "Climate and Environmental Systems >> Taste and Odour Control in Water and Food",
          "Climate and Environmental Systems >> Taste and Odour Control in Water and Food",
          "Climate and Environmental Systems >> Taste and Odour Control in Water and Food",
          "Climate and Environmental Systems >> Taste and Odour Control in Water and Food",
          "Climate and Environmental Systems >> Taste and Odour Control in Water and Food",
          "Climate and Environmental Systems",
          "Climate and Environmental Systems >> Australian Energy Efficiency and Sustainable Power",
          "Climate and Environmental Systems >> Australian Energy Efficiency and Sustainable Power",
          "Climate and Environmental Systems >> Australian Energy Efficiency and Sustainable Power",
          "Climate and Environmental Systems >> Australian Energy Efficiency and Sustainable Power",
          "Climate and Environmental Systems >> Australian Energy Efficiency and Sustainable Power",
          "Climate and Environmental Systems >> Australian Energy Efficiency and Sustainable Power",
          "Climate and Environmental Systems >> Australian Energy Efficiency and Sustainable Power",
          "Climate and Environmental Systems >> Australian Energy Efficiency and Sustainable Power",
          "Climate and Environmental Systems >> Australian Energy Efficiency and Sustainable Power",
          "Climate and Environmental Systems >> Australian Energy Efficiency and Sustainable Power",
          "",
          "Energy and Sustainable Technologies",
          "Energy and Sustainable Technologies >> Solar Cell Technology and Photovoltaic Energy Conversion",
          "Energy and Sustainable Technologies >> Solar Cell Technology and Photovoltaic Energy Conversion",
          "Energy and Sustainable Technologies >> Solar Cell Technology and Photovoltaic Energy Conversion",
          "Energy and Sustainable Technologies >> Solar Cell Technology and Photovoltaic Energy Conversion",
          "Energy and Sustainable Technologies >> Solar Cell Technology and Photovoltaic Energy Conversion",
          "Energy and Sustainable Technologies >> Solar Cell Technology and Photovoltaic Energy Conversion",
          "Energy and Sustainable Technologies >> Solar Cell Technology and Photovoltaic Energy Conversion",
          "Energy and Sustainable Technologies >> Solar Cell Technology and Photovoltaic Energy Conversion",
          "Energy and Sustainable Technologies >> Solar Cell Technology and Photovoltaic Energy Conversion",
          "Energy and Sustainable Technologies >> Solar Cell Technology and Photovoltaic Energy Conversion",
          "Energy and Sustainable Technologies",
          "Energy and Sustainable Technologies >> Flexible Energy Harvesting Devices and Power Generation",
          "Energy and Sustainable Technologies >> Flexible Energy Harvesting Devices and Power Generation",
          "Energy and Sustainable Technologies >> Flexible Energy Harvesting Devices and Power Generation",
          "Energy and Sustainable Technologies >> Flexible Energy Harvesting Devices and Power Generation",
          "Energy and Sustainable Technologies >> Flexible Energy Harvesting Devices and Power Generation",
          "Energy and Sustainable Technologies >> Flexible Energy Harvesting Devices and Power Generation",
          "Energy and Sustainable Technologies >> Flexible Energy Harvesting Devices and Power Generation",
          "Energy and Sustainable Technologies >> Flexible Energy Harvesting Devices and Power Generation",
          "Energy and Sustainable Technologies >> Flexible Energy Harvesting Devices and Power Generation",
          "Energy and Sustainable Technologies >> Flexible Energy Harvesting Devices and Power Generation",
          "Energy and Sustainable Technologies",
          "Energy and Sustainable Technologies >> Laser Additive Manufacturing and 3D Printing",
          "Energy and Sustainable Technologies >> Laser Additive Manufacturing and 3D Printing",
          "Energy and Sustainable Technologies >> Laser Additive Manufacturing and 3D Printing",
          "Energy and Sustainable Technologies >> Laser Additive Manufacturing and 3D Printing",
          "Energy and Sustainable Technologies >> Laser Additive Manufacturing and 3D Printing",
          "Energy and Sustainable Technologies >> Laser Additive Manufacturing and 3D Printing",
          "Energy and Sustainable Technologies >> Laser Additive Manufacturing and 3D Printing",
          "Energy and Sustainable Technologies >> Laser Additive Manufacturing and 3D Printing",
          "Energy and Sustainable Technologies >> Laser Additive Manufacturing and 3D Printing",
          "Energy and Sustainable Technologies >> Laser Additive Manufacturing and 3D Printing",
          "Energy and Sustainable Technologies",
          "Energy and Sustainable Technologies >> Solid-State Metal Recycling and Circular Economy",
          "Energy and Sustainable Technologies >> Solid-State Metal Recycling and Circular Economy",
          "Energy and Sustainable Technologies >> Solid-State Metal Recycling and Circular Economy",
          "Energy and Sustainable Technologies >> Solid-State Metal Recycling and Circular Economy",
          "Energy and Sustainable Technologies >> Solid-State Metal Recycling and Circular Economy",
          "Energy and Sustainable Technologies >> Solid-State Metal Recycling and Circular Economy",
          "Energy and Sustainable Technologies >> Solid-State Metal Recycling and Circular Economy",
          "Energy and Sustainable Technologies >> Solid-State Metal Recycling and Circular Economy",
          "Energy and Sustainable Technologies >> Solid-State Metal Recycling and Circular Economy",
          "Energy and Sustainable Technologies >> Solid-State Metal Recycling and Circular Economy",
          "Energy and Sustainable Technologies >> Solid-State Metal Recycling and Circular Economy",
          "Energy and Sustainable Technologies",
          "Energy and Sustainable Technologies >> Tyre Recycling and Sustainable Materials",
          "Energy and Sustainable Technologies >> Tyre Recycling and Sustainable Materials",
          "Energy and Sustainable Technologies >> Tyre Recycling and Sustainable Materials",
          "Energy and Sustainable Technologies >> Tyre Recycling and Sustainable Materials",
          "Energy and Sustainable Technologies >> Tyre Recycling and Sustainable Materials",
          "Energy and Sustainable Technologies >> Tyre Recycling and Sustainable Materials",
          "Energy and Sustainable Technologies >> Tyre Recycling and Sustainable Materials",
          "Energy and Sustainable Technologies >> Tyre Recycling and Sustainable Materials",
          "Energy and Sustainable Technologies >> Tyre Recycling and Sustainable Materials",
          "Energy and Sustainable Technologies >> Tyre Recycling and Sustainable Materials",
          "Energy and Sustainable Technologies",
          "Energy and Sustainable Technologies >> Copper Recovery and Critical Mineral Enrichment",
          "Energy and Sustainable Technologies >> Copper Recovery and Critical Mineral Enrichment",
          "Energy and Sustainable Technologies >> Copper Recovery and Critical Mineral Enrichment",
          "Energy and Sustainable Technologies >> Copper Recovery and Critical Mineral Enrichment",
          "Energy and Sustainable Technologies >> Copper Recovery and Critical Mineral Enrichment",
          "Energy and Sustainable Technologies >> Copper Recovery and Critical Mineral Enrichment",
          "Energy and Sustainable Technologies >> Copper Recovery and Critical Mineral Enrichment",
          "Energy and Sustainable Technologies >> Copper Recovery and Critical Mineral Enrichment",
          "Energy and Sustainable Technologies >> Copper Recovery and Critical Mineral Enrichment",
          "Energy and Sustainable Technologies >> Copper Recovery and Critical Mineral Enrichment",
          "Energy and Sustainable Technologies",
          "Energy and Sustainable Technologies >> Fabrication of Semiconductors and Nanomaterials",
          "Energy and Sustainable Technologies >> Fabrication of Semiconductors and Nanomaterials",
          "Energy and Sustainable Technologies >> Fabrication of Semiconductors and Nanomaterials",
          "Energy and Sustainable Technologies >> Fabrication of Semiconductors and Nanomaterials",
          "Energy and Sustainable Technologies >> Fabrication of Semiconductors and Nanomaterials",
          "Energy and Sustainable Technologies >> Fabrication of Semiconductors and Nanomaterials",
          "Energy and Sustainable Technologies >> Fabrication of Semiconductors and Nanomaterials",
          "Energy and Sustainable Technologies >> Fabrication of Semiconductors and Nanomaterials",
          "Energy and Sustainable Technologies >> Fabrication of Semiconductors and Nanomaterials",
          "Energy and Sustainable Technologies >> Fabrication of Semiconductors and Nanomaterials",
          "Energy and Sustainable Technologies",
          "Energy and Sustainable Technologies",
          "Energy and Sustainable Technologies >> Gas-Solids Interactions and Fluidized Bed Systems",
          "Energy and Sustainable Technologies >> Gas-Solids Interactions and Fluidized Bed Systems",
          "Energy and Sustainable Technologies >> Gas-Solids Interactions and Fluidized Bed Systems",
          "Energy and Sustainable Technologies >> Gas-Solids Interactions and Fluidized Bed Systems",
          "Energy and Sustainable Technologies >> Gas-Solids Interactions and Fluidized Bed Systems",
          "Energy and Sustainable Technologies >> Gas-Solids Interactions and Fluidized Bed Systems",
          "Energy and Sustainable Technologies >> Gas-Solids Interactions and Fluidized Bed Systems",
          "Energy and Sustainable Technologies >> Gas-Solids Interactions and Fluidized Bed Systems",
          "Energy and Sustainable Technologies >> Gas-Solids Interactions and Fluidized Bed Systems",
          "Energy and Sustainable Technologies >> Gas-Solids Interactions and Fluidized Bed Systems",
          "Energy and Sustainable Technologies",
          "Energy and Sustainable Technologies >> Gas-Phase Reaction Engineering and Catalysis",
          "Energy and Sustainable Technologies >> Gas-Phase Reaction Engineering and Catalysis",
          "Energy and Sustainable Technologies >> Gas-Phase Reaction Engineering and Catalysis",
          "Energy and Sustainable Technologies >> Gas-Phase Reaction Engineering and Catalysis",
          "Energy and Sustainable Technologies >> Gas-Phase Reaction Engineering and Catalysis",
          "Energy and Sustainable Technologies >> Gas-Phase Reaction Engineering and Catalysis",
          "Energy and Sustainable Technologies >> Gas-Phase Reaction Engineering and Catalysis",
          "Energy and Sustainable Technologies >> Gas-Phase Reaction Engineering and Catalysis",
          "Energy and Sustainable Technologies >> Gas-Phase Reaction Engineering and Catalysis",
          "Energy and Sustainable Technologies >> Gas-Phase Reaction Engineering and Catalysis",
          "",
          "Materials Science and Advanced Engineering",
          "Materials Science and Advanced Engineering >> Intelligent Polymers and Responsive Materials",
          "Materials Science and Advanced Engineering >> Intelligent Polymers and Responsive Materials",
          "Materials Science and Advanced Engineering >> Intelligent Polymers and Responsive Materials",
          "Materials Science and Advanced Engineering >> Intelligent Polymers and Responsive Materials",
          "Materials Science and Advanced Engineering >> Intelligent Polymers and Responsive Materials",
          "Materials Science and Advanced Engineering >> Intelligent Polymers and Responsive Materials",
          "Materials Science and Advanced Engineering >> Intelligent Polymers and Responsive Materials",
          "Materials Science and Advanced Engineering >> Intelligent Polymers and Responsive Materials",
          "Materials Science and Advanced Engineering >> Intelligent Polymers and Responsive Materials",
          "Materials Science and Advanced Engineering >> Intelligent Polymers and Responsive Materials",
          "Materials Science and Advanced Engineering >> Intelligent Polymers and Responsive Materials",
          "Materials Science and Advanced Engineering",
          "Materials Science and Advanced Engineering >> Adaptive Structures and Smart Materials",
          "Materials Science and Advanced Engineering >> Adaptive Structures and Smart Materials",
          "Materials Science and Advanced Engineering >> Adaptive Structures and Smart Materials",
          "Materials Science and Advanced Engineering >> Adaptive Structures and Smart Materials",
          "Materials Science and Advanced Engineering >> Adaptive Structures and Smart Materials",
          "Materials Science and Advanced Engineering >> Adaptive Structures and Smart Materials",
          "Materials Science and Advanced Engineering >> Adaptive Structures and Smart Materials",
          "Materials Science and Advanced Engineering >> Adaptive Structures and Smart Materials",
          "Materials Science and Advanced Engineering >> Adaptive Structures and Smart Materials",
          "Materials Science and Advanced Engineering >> Adaptive Structures and Smart Materials",
          "Materials Science and Advanced Engineering",
          "Materials Science and Advanced Engineering >> Microstructure-Guided Alloy Design and Materials Science",
          "Materials Science and Advanced Engineering >> Microstructure-Guided Alloy Design and Materials Science",
          "Materials Science and Advanced Engineering >> Microstructure-Guided Alloy Design and Materials Science",
          "Materials Science and Advanced Engineering >> Microstructure-Guided Alloy Design and Materials Science",
          "Materials Science and Advanced Engineering >> Microstructure-Guided Alloy Design and Materials Science",
          "Materials Science and Advanced Engineering >> Microstructure-Guided Alloy Design and Materials Science",
          "Materials Science and Advanced Engineering >> Microstructure-Guided Alloy Design and Materials Science",
          "Materials Science and Advanced Engineering >> Microstructure-Guided Alloy Design and Materials Science",
          "Materials Science and Advanced Engineering >> Microstructure-Guided Alloy Design and Materials Science",
          "Materials Science and Advanced Engineering >> Microstructure-Guided Alloy Design and Materials Science",
          "Materials Science and Advanced Engineering",
          "Materials Science and Advanced Engineering >> Phase Change in Solids and Material Transitions",
          "Materials Science and Advanced Engineering >> Phase Change in Solids and Material Transitions",
          "Materials Science and Advanced Engineering >> Phase Change in Solids and Material Transitions",
          "Materials Science and Advanced Engineering >> Phase Change in Solids and Material Transitions",
          "Materials Science and Advanced Engineering >> Phase Change in Solids and Material Transitions",
          "Materials Science and Advanced Engineering >> Phase Change in Solids and Material Transitions",
          "Materials Science and Advanced Engineering >> Phase Change in Solids and Material Transitions",
          "Materials Science and Advanced Engineering >> Phase Change in Solids and Material Transitions",
          "Materials Science and Advanced Engineering >> Phase Change in Solids and Material Transitions",
          "Materials Science and Advanced Engineering >> Phase Change in Solids and Material Transitions",
          "Materials Science and Advanced Engineering",
          "Materials Science and Advanced Engineering >> Mantle Rock Characterization and Geophysical Modeling",
          "Materials Science and Advanced Engineering >> Mantle Rock Characterization and Geophysical Modeling",
          "Materials Science and Advanced Engineering >> Mantle Rock Characterization and Geophysical Modeling",
          "Materials Science and Advanced Engineering >> Mantle Rock Characterization and Geophysical Modeling",
          "Materials Science and Advanced Engineering >> Mantle Rock Characterization and Geophysical Modeling",
          "Materials Science and Advanced Engineering >> Mantle Rock Characterization and Geophysical Modeling",
          "Materials Science and Advanced Engineering >> Mantle Rock Characterization and Geophysical Modeling",
          "Materials Science and Advanced Engineering >> Mantle Rock Characterization and Geophysical Modeling",
          "Materials Science and Advanced Engineering >> Mantle Rock Characterization and Geophysical Modeling",
          "Materials Science and Advanced Engineering >> Mantle Rock Characterization and Geophysical Modeling",
          "Materials Science and Advanced Engineering",
          "Materials Science and Advanced Engineering >> Interferometric Instrumentation and Precision Measurement",
          "Materials Science and Advanced Engineering >> Interferometric Instrumentation and Precision Measurement",
          "Materials Science and Advanced Engineering >> Interferometric Instrumentation and Precision Measurement",
          "Materials Science and Advanced Engineering >> Interferometric Instrumentation and Precision Measurement",
          "Materials Science and Advanced Engineering >> Interferometric Instrumentation and Precision Measurement",
          "Materials Science and Advanced Engineering >> Interferometric Instrumentation and Precision Measurement",
          "Materials Science and Advanced Engineering >> Interferometric Instrumentation and Precision Measurement",
          "Materials Science and Advanced Engineering >> Interferometric Instrumentation and Precision Measurement",
          "Materials Science and Advanced Engineering >> Interferometric Instrumentation and Precision Measurement",
          "Materials Science and Advanced Engineering >> Interferometric Instrumentation and Precision Measurement",
          "Materials Science and Advanced Engineering",
          "Materials Science and Advanced Engineering >> Reference Material Development and Calibration",
          "Materials Science and Advanced Engineering >> Reference Material Development and Calibration",
          "Materials Science and Advanced Engineering >> Reference Material Development and Calibration",
          "Materials Science and Advanced Engineering >> Reference Material Development and Calibration",
          "Materials Science and Advanced Engineering >> Reference Material Development and Calibration",
          "Materials Science and Advanced Engineering >> Reference Material Development and Calibration",
          "Materials Science and Advanced Engineering >> Reference Material Development and Calibration",
          "Materials Science and Advanced Engineering >> Reference Material Development and Calibration",
          "Materials Science and Advanced Engineering >> Reference Material Development and Calibration",
          "Materials Science and Advanced Engineering >> Reference Material Development and Calibration",
          "Materials Science and Advanced Engineering",
          "Materials Science and Advanced Engineering >> Photoelectron Emission Spectroscopy and Surface Analysis",
          "Materials Science and Advanced Engineering >> Photoelectron Emission Spectroscopy and Surface Analysis",
          "Materials Science and Advanced Engineering >> Photoelectron Emission Spectroscopy and Surface Analysis",
          "Materials Science and Advanced Engineering >> Photoelectron Emission Spectroscopy and Surface Analysis",
          "Materials Science and Advanced Engineering >> Photoelectron Emission Spectroscopy and Surface Analysis",
          "Materials Science and Advanced Engineering >> Photoelectron Emission Spectroscopy and Surface Analysis",
          "Materials Science and Advanced Engineering >> Photoelectron Emission Spectroscopy and Surface Analysis",
          "Materials Science and Advanced Engineering >> Photoelectron Emission Spectroscopy and Surface Analysis",
          "Materials Science and Advanced Engineering >> Photoelectron Emission Spectroscopy and Surface Analysis",
          "Materials Science and Advanced Engineering >> Photoelectron Emission Spectroscopy and Surface Analysis",
          "Materials Science and Advanced Engineering",
          "Materials Science and Advanced Engineering >> Lab-Based Assays and Experimental Validation",
          "Materials Science and Advanced Engineering >> Lab-Based Assays and Experimental Validation",
          "Materials Science and Advanced Engineering >> Lab-Based Assays and Experimental Validation",
          "Materials Science and Advanced Engineering >> Lab-Based Assays and Experimental Validation",
          "Materials Science and Advanced Engineering >> Lab-Based Assays and Experimental Validation",
          "Materials Science and Advanced Engineering >> Lab-Based Assays and Experimental Validation",
          "Materials Science and Advanced Engineering >> Lab-Based Assays and Experimental Validation",
          "Materials Science and Advanced Engineering >> Lab-Based Assays and Experimental Validation",
          "Materials Science and Advanced Engineering >> Lab-Based Assays and Experimental Validation",
          "Materials Science and Advanced Engineering >> Lab-Based Assays and Experimental Validation",
          "Materials Science and Advanced Engineering",
          "Materials Science and Advanced Engineering >> Rotor Burst Safety and Mechanical Failure Analysis",
          "Materials Science and Advanced Engineering >> Rotor Burst Safety and Mechanical Failure Analysis",
          "Materials Science and Advanced Engineering >> Rotor Burst Safety and Mechanical Failure Analysis",
          "Materials Science and Advanced Engineering >> Rotor Burst Safety and Mechanical Failure Analysis",
          "Materials Science and Advanced Engineering >> Rotor Burst Safety and Mechanical Failure Analysis",
          "Materials Science and Advanced Engineering >> Rotor Burst Safety and Mechanical Failure Analysis",
          "Materials Science and Advanced Engineering >> Rotor Burst Safety and Mechanical Failure Analysis",
          "Materials Science and Advanced Engineering >> Rotor Burst Safety and Mechanical Failure Analysis",
          "Materials Science and Advanced Engineering >> Rotor Burst Safety and Mechanical Failure Analysis",
          "Materials Science and Advanced Engineering >> Rotor Burst Safety and Mechanical Failure Analysis",
          "Materials Science and Advanced Engineering",
          "Materials Science and Advanced Engineering >> Gas-Solids Interactions and Fluidized Bed Systems",
          "Materials Science and Advanced Engineering >> Gas-Solids Interactions and Fluidized Bed Systems",
          "Materials Science and Advanced Engineering >> Gas-Solids Interactions and Fluidized Bed Systems",
          "Materials Science and Advanced Engineering >> Gas-Solids Interactions and Fluidized Bed Systems",
          "Materials Science and Advanced Engineering >> Gas-Solids Interactions and Fluidized Bed Systems",
          "Materials Science and Advanced Engineering >> Gas-Solids Interactions and Fluidized Bed Systems",
          "Materials Science and Advanced Engineering >> Gas-Solids Interactions and Fluidized Bed Systems",
          "Materials Science and Advanced Engineering >> Gas-Solids Interactions and Fluidized Bed Systems",
          "Materials Science and Advanced Engineering >> Gas-Solids Interactions and Fluidized Bed Systems",
          "Materials Science and Advanced Engineering >> Gas-Solids Interactions and Fluidized Bed Systems",
          "",
          "Health, Medicine, and Biomedical Innovation",
          "Health, Medicine, and Biomedical Innovation >> Muscle Health in Older Adults",
          "Health, Medicine, and Biomedical Innovation >> Muscle Health in Older Adults",
          "Health, Medicine, and Biomedical Innovation >> Muscle Health in Older Adults",
          "Health, Medicine, and Biomedical Innovation >> Muscle Health in Older Adults",
          "Health, Medicine, and Biomedical Innovation >> Muscle Health in Older Adults",
          "Health, Medicine, and Biomedical Innovation >> Muscle Health in Older Adults",
          "Health, Medicine, and Biomedical Innovation >> Muscle Health in Older Adults",
          "Health, Medicine, and Biomedical Innovation >> Muscle Health in Older Adults",
          "Health, Medicine, and Biomedical Innovation >> Muscle Health in Older Adults",
          "Health, Medicine, and Biomedical Innovation >> Muscle Health in Older Adults",
          "Health, Medicine, and Biomedical Innovation >> Muscle Health in Older Adults",
          "Health, Medicine, and Biomedical Innovation >> Muscle Health in Older Adults",
          "Health, Medicine, and Biomedical Innovation",
          "Health, Medicine, and Biomedical Innovation >> Prolonged Exposure and Health Impacts",
          "Health, Medicine, and Biomedical Innovation >> Prolonged Exposure and Health Impacts",
          "Health, Medicine, and Biomedical Innovation >> Prolonged Exposure and Health Impacts",
          "Health, Medicine, and Biomedical Innovation >> Prolonged Exposure and Health Impacts",
          "Health, Medicine, and Biomedical Innovation >> Prolonged Exposure and Health Impacts",
          "Health, Medicine, and Biomedical Innovation >> Prolonged Exposure and Health Impacts",
          "Health, Medicine, and Biomedical Innovation >> Prolonged Exposure and Health Impacts",
          "Health, Medicine, and Biomedical Innovation >> Prolonged Exposure and Health Impacts",
          "Health, Medicine, and Biomedical Innovation >> Prolonged Exposure and Health Impacts",
          "Health, Medicine, and Biomedical Innovation >> Prolonged Exposure and Health Impacts",
          "Health, Medicine, and Biomedical Innovation >> Prolonged Exposure and Health Impacts",
          "Health, Medicine, and Biomedical Innovation >> Prolonged Exposure and Health Impacts",
          "Health, Medicine, and Biomedical Innovation >> Prolonged Exposure and Health Impacts",
          "Health, Medicine, and Biomedical Innovation >> Prolonged Exposure and Health Impacts",
          "Health, Medicine, and Biomedical Innovation >> Prolonged Exposure and Health Impacts",
          "Health, Medicine, and Biomedical Innovation",
          "Health, Medicine, and Biomedical Innovation >> Ocular Immunology and Eye Disease Mechanisms",
          "Health, Medicine, and Biomedical Innovation >> Ocular Immunology and Eye Disease Mechanisms",
          "Health, Medicine, and Biomedical Innovation >> Ocular Immunology and Eye Disease Mechanisms",
          "Health, Medicine, and Biomedical Innovation >> Ocular Immunology and Eye Disease Mechanisms",
          "Health, Medicine, and Biomedical Innovation >> Ocular Immunology and Eye Disease Mechanisms",
          "Health, Medicine, and Biomedical Innovation >> Ocular Immunology and Eye Disease Mechanisms",
          "Health, Medicine, and Biomedical Innovation >> Ocular Immunology and Eye Disease Mechanisms",
          "Health, Medicine, and Biomedical Innovation >> Ocular Immunology and Eye Disease Mechanisms",
          "Health, Medicine, and Biomedical Innovation >> Ocular Immunology and Eye Disease Mechanisms",
          "Health, Medicine, and Biomedical Innovation >> Ocular Immunology and Eye Disease Mechanisms",
          "Health, Medicine, and Biomedical Innovation",
          "Health, Medicine, and Biomedical Innovation >> Thyroid Hormone Signalling and Endocrine Regulation",
          "Health, Medicine, and Biomedical Innovation >> Thyroid Hormone Signalling and Endocrine Regulation",
          "Health, Medicine, and Biomedical Innovation >> Thyroid Hormone Signalling and Endocrine Regulation",
          "Health, Medicine, and Biomedical Innovation >> Thyroid Hormone Signalling and Endocrine Regulation",
          "Health, Medicine, and Biomedical Innovation >> Thyroid Hormone Signalling and Endocrine Regulation",
          "Health, Medicine, and Biomedical Innovation >> Thyroid Hormone Signalling and Endocrine Regulation",
          "Health, Medicine, and Biomedical Innovation >> Thyroid Hormone Signalling and Endocrine Regulation",
          "Health, Medicine, and Biomedical Innovation >> Thyroid Hormone Signalling and Endocrine Regulation",
          "Health, Medicine, and Biomedical Innovation >> Thyroid Hormone Signalling and Endocrine Regulation",
          "Health, Medicine, and Biomedical Innovation >> Thyroid Hormone Signalling and Endocrine Regulation",
          "Health, Medicine, and Biomedical Innovation",
          "Health, Medicine, and Biomedical Innovation >> Personalized Health Diagnostics and Precision Medicine",
          "Health, Medicine, and Biomedical Innovation >> Personalized Health Diagnostics and Precision Medicine",
          "Health, Medicine, and Biomedical Innovation >> Personalized Health Diagnostics and Precision Medicine",
          "Health, Medicine, and Biomedical Innovation >> Personalized Health Diagnostics and Precision Medicine",
          "Health, Medicine, and Biomedical Innovation >> Personalized Health Diagnostics and Precision Medicine",
          "Health, Medicine, and Biomedical Innovation >> Personalized Health Diagnostics and Precision Medicine",
          "Health, Medicine, and Biomedical Innovation >> Personalized Health Diagnostics and Precision Medicine",
          "Health, Medicine, and Biomedical Innovation >> Personalized Health Diagnostics and Precision Medicine",
          "Health, Medicine, and Biomedical Innovation >> Personalized Health Diagnostics and Precision Medicine",
          "Health, Medicine, and Biomedical Innovation >> Personalized Health Diagnostics and Precision Medicine",
          "Health, Medicine, and Biomedical Innovation",
          "Health, Medicine, and Biomedical Innovation >> Wound Healing Simulation and Tissue Regeneration",
          "Health, Medicine, and Biomedical Innovation >> Wound Healing Simulation and Tissue Regeneration",
          "Health, Medicine, and Biomedical Innovation >> Wound Healing Simulation and Tissue Regeneration",
          "Health, Medicine, and Biomedical Innovation >> Wound Healing Simulation and Tissue Regeneration",
          "Health, Medicine, and Biomedical Innovation >> Wound Healing Simulation and Tissue Regeneration",
          "Health, Medicine, and Biomedical Innovation >> Wound Healing Simulation and Tissue Regeneration",
          "Health, Medicine, and Biomedical Innovation >> Wound Healing Simulation and Tissue Regeneration",
          "Health, Medicine, and Biomedical Innovation >> Wound Healing Simulation and Tissue Regeneration",
          "Health, Medicine, and Biomedical Innovation >> Wound Healing Simulation and Tissue Regeneration",
          "Health, Medicine, and Biomedical Innovation >> Wound Healing Simulation and Tissue Regeneration",
          "Health, Medicine, and Biomedical Innovation",
          "Health, Medicine, and Biomedical Innovation >> Artificial Tissue Growth and Regenerative Medicine",
          "Health, Medicine, and Biomedical Innovation >> Artificial Tissue Growth and Regenerative Medicine",
          "Health, Medicine, and Biomedical Innovation >> Artificial Tissue Growth and Regenerative Medicine",
          "Health, Medicine, and Biomedical Innovation >> Artificial Tissue Growth and Regenerative Medicine",
          "Health, Medicine, and Biomedical Innovation >> Artificial Tissue Growth and Regenerative Medicine",
          "Health, Medicine, and Biomedical Innovation >> Artificial Tissue Growth and Regenerative Medicine",
          "Health, Medicine, and Biomedical Innovation >> Artificial Tissue Growth and Regenerative Medicine",
          "Health, Medicine, and Biomedical Innovation >> Artificial Tissue Growth and Regenerative Medicine",
          "Health, Medicine, and Biomedical Innovation >> Artificial Tissue Growth and Regenerative Medicine",
          "Health, Medicine, and Biomedical Innovation >> Artificial Tissue Growth and Regenerative Medicine",
          "Health, Medicine, and Biomedical Innovation",
          "Health, Medicine, and Biomedical Innovation >> Stem Cell Culture Optimization and Regenerative Therapies",
          "Health, Medicine, and Biomedical Innovation >> Stem Cell Culture Optimization and Regenerative Therapies",
          "Health, Medicine, and Biomedical Innovation >> Stem Cell Culture Optimization and Regenerative Therapies",
          "Health, Medicine, and Biomedical Innovation >> Stem Cell Culture Optimization and Regenerative Therapies",
          "Health, Medicine, and Biomedical Innovation >> Stem Cell Culture Optimization and Regenerative Therapies",
          "Health, Medicine, and Biomedical Innovation >> Stem Cell Culture Optimization and Regenerative Therapies",
          "Health, Medicine, and Biomedical Innovation >> Stem Cell Culture Optimization and Regenerative Therapies",
          "Health, Medicine, and Biomedical Innovation >> Stem Cell Culture Optimization and Regenerative Therapies",
          "Health, Medicine, and Biomedical Innovation >> Stem Cell Culture Optimization and Regenerative Therapies",
          "Health, Medicine, and Biomedical Innovation >> Stem Cell Culture Optimization and Regenerative Therapies",
          "Health, Medicine, and Biomedical Innovation",
          "Health, Medicine, and Biomedical Innovation >> Preventive Approach and Health Promotion",
          "Health, Medicine, and Biomedical Innovation >> Preventive Approach and Health Promotion",
          "Health, Medicine, and Biomedical Innovation >> Preventive Approach and Health Promotion",
          "Health, Medicine, and Biomedical Innovation >> Preventive Approach and Health Promotion",
          "Health, Medicine, and Biomedical Innovation >> Preventive Approach and Health Promotion",
          "Health, Medicine, and Biomedical Innovation >> Preventive Approach and Health Promotion",
          "Health, Medicine, and Biomedical Innovation >> Preventive Approach and Health Promotion",
          "Health, Medicine, and Biomedical Innovation >> Preventive Approach and Health Promotion",
          "Health, Medicine, and Biomedical Innovation >> Preventive Approach and Health Promotion",
          "Health, Medicine, and Biomedical Innovation >> Preventive Approach and Health Promotion",
          "Health, Medicine, and Biomedical Innovation",
          "Health, Medicine, and Biomedical Innovation >> Infectious Disease Modelling and Outbreak Response",
          "Health, Medicine, and Biomedical Innovation >> Infectious Disease Modelling and Outbreak Response",
          "Health, Medicine, and Biomedical Innovation >> Infectious Disease Modelling and Outbreak Response",
          "Health, Medicine, and Biomedical Innovation >> Infectious Disease Modelling and Outbreak Response",
          "Health, Medicine, and Biomedical Innovation >> Infectious Disease Modelling and Outbreak Response",
          "Health, Medicine, and Biomedical Innovation >> Infectious Disease Modelling and Outbreak Response",
          "Health, Medicine, and Biomedical Innovation >> Infectious Disease Modelling and Outbreak Response",
          "Health, Medicine, and Biomedical Innovation >> Infectious Disease Modelling and Outbreak Response",
          "Health, Medicine, and Biomedical Innovation >> Infectious Disease Modelling and Outbreak Response",
          "Health, Medicine, and Biomedical Innovation >> Infectious Disease Modelling and Outbreak Response",
          "Health, Medicine, and Biomedical Innovation",
          "Health, Medicine, and Biomedical Innovation",
          "Health, Medicine, and Biomedical Innovation >> First Nations Students and Indigenous Education",
          "Health, Medicine, and Biomedical Innovation >> First Nations Students and Indigenous Education",
          "Health, Medicine, and Biomedical Innovation >> First Nations Students and Indigenous Education",
          "Health, Medicine, and Biomedical Innovation >> First Nations Students and Indigenous Education",
          "Health, Medicine, and Biomedical Innovation >> First Nations Students and Indigenous Education",
          "Health, Medicine, and Biomedical Innovation >> First Nations Students and Indigenous Education",
          "Health, Medicine, and Biomedical Innovation >> First Nations Students and Indigenous Education",
          "Health, Medicine, and Biomedical Innovation >> First Nations Students and Indigenous Education",
          "Health, Medicine, and Biomedical Innovation >> First Nations Students and Indigenous Education",
          "Health, Medicine, and Biomedical Innovation >> First Nations Students and Indigenous Education",
          "Health, Medicine, and Biomedical Innovation",
          "Health, Medicine, and Biomedical Innovation >> Fishing as a Public Health Intervention",
          "Health, Medicine, and Biomedical Innovation >> Fishing as a Public Health Intervention",
          "Health, Medicine, and Biomedical Innovation >> Fishing as a Public Health Intervention",
          "Health, Medicine, and Biomedical Innovation >> Fishing as a Public Health Intervention",
          "Health, Medicine, and Biomedical Innovation >> Fishing as a Public Health Intervention",
          "Health, Medicine, and Biomedical Innovation >> Fishing as a Public Health Intervention",
          "Health, Medicine, and Biomedical Innovation >> Fishing as a Public Health Intervention",
          "Health, Medicine, and Biomedical Innovation >> Fishing as a Public Health Intervention",
          "Health, Medicine, and Biomedical Innovation >> Fishing as a Public Health Intervention",
          "Health, Medicine, and Biomedical Innovation >> Fishing as a Public Health Intervention",
          "",
          "Biological Systems and Life Sciences",
          "Biological Systems and Life Sciences >> Actin Dynamics and Cellular Mechanics",
          "Biological Systems and Life Sciences >> Actin Dynamics and Cellular Mechanics",
          "Biological Systems and Life Sciences >> Actin Dynamics and Cellular Mechanics",
          "Biological Systems and Life Sciences >> Actin Dynamics and Cellular Mechanics",
          "Biological Systems and Life Sciences >> Actin Dynamics and Cellular Mechanics",
          "Biological Systems and Life Sciences >> Actin Dynamics and Cellular Mechanics",
          "Biological Systems and Life Sciences >> Actin Dynamics and Cellular Mechanics",
          "Biological Systems and Life Sciences >> Actin Dynamics and Cellular Mechanics",
          "Biological Systems and Life Sciences >> Actin Dynamics and Cellular Mechanics",
          "Biological Systems and Life Sciences >> Actin Dynamics and Cellular Mechanics",
          "Biological Systems and Life Sciences",
          "Biological Systems and Life Sciences >> Chemical Biology of Mitochondria and Metabolism",
          "Biological Systems and Life Sciences >> Chemical Biology of Mitochondria and Metabolism",
          "Biological Systems and Life Sciences >> Chemical Biology of Mitochondria and Metabolism",
          "Biological Systems and Life Sciences >> Chemical Biology of Mitochondria and Metabolism",
          "Biological Systems and Life Sciences >> Chemical Biology of Mitochondria and Metabolism",
          "Biological Systems and Life Sciences >> Chemical Biology of Mitochondria and Metabolism",
          "Biological Systems and Life Sciences >> Chemical Biology of Mitochondria and Metabolism",
          "Biological Systems and Life Sciences >> Chemical Biology of Mitochondria and Metabolism",
          "Biological Systems and Life Sciences >> Chemical Biology of Mitochondria and Metabolism",
          "Biological Systems and Life Sciences >> Chemical Biology of Mitochondria and Metabolism",
          "Biological Systems and Life Sciences",
          "Biological Systems and Life Sciences >> Cell Network Engineering and Biological Systems",
          "Biological Systems and Life Sciences >> Cell Network Engineering and Biological Systems",
          "Biological Systems and Life Sciences >> Cell Network Engineering and Biological Systems",
          "Biological Systems and Life Sciences >> Cell Network Engineering and Biological Systems",
          "Biological Systems and Life Sciences >> Cell Network Engineering and Biological Systems",
          "Biological Systems and Life Sciences >> Cell Network Engineering and Biological Systems",
          "Biological Systems and Life Sciences >> Cell Network Engineering and Biological Systems",
          "Biological Systems and Life Sciences >> Cell Network Engineering and Biological Systems",
          "Biological Systems and Life Sciences >> Cell Network Engineering and Biological Systems",
          "Biological Systems and Life Sciences >> Cell Network Engineering and Biological Systems",
          "Biological Systems and Life Sciences",
          "Biological Systems and Life Sciences >> Genetic Intervention Design and Gene Editing",
          "Biological Systems and Life Sciences >> Genetic Intervention Design and Gene Editing",
          "Biological Systems and Life Sciences >> Genetic Intervention Design and Gene Editing",
          "Biological Systems and Life Sciences >> Genetic Intervention Design and Gene Editing",
          "Biological Systems and Life Sciences >> Genetic Intervention Design and Gene Editing",
          "Biological Systems and Life Sciences >> Genetic Intervention Design and Gene Editing",
          "Biological Systems and Life Sciences >> Genetic Intervention Design and Gene Editing",
          "Biological Systems and Life Sciences >> Genetic Intervention Design and Gene Editing",
          "Biological Systems and Life Sciences >> Genetic Intervention Design and Gene Editing",
          "Biological Systems and Life Sciences >> Genetic Intervention Design and Gene Editing",
          "Biological Systems and Life Sciences",
          "Biological Systems and Life Sciences >> Transgenerational Phenotyping and Epigenetic Inheritance",
          "Biological Systems and Life Sciences >> Transgenerational Phenotyping and Epigenetic Inheritance",
          "Biological Systems and Life Sciences >> Transgenerational Phenotyping and Epigenetic Inheritance",
          "Biological Systems and Life Sciences >> Transgenerational Phenotyping and Epigenetic Inheritance",
          "Biological Systems and Life Sciences >> Transgenerational Phenotyping and Epigenetic Inheritance",
          "Biological Systems and Life Sciences >> Transgenerational Phenotyping and Epigenetic Inheritance",
          "Biological Systems and Life Sciences >> Transgenerational Phenotyping and Epigenetic Inheritance",
          "Biological Systems and Life Sciences >> Transgenerational Phenotyping and Epigenetic Inheritance",
          "Biological Systems and Life Sciences >> Transgenerational Phenotyping and Epigenetic Inheritance",
          "Biological Systems and Life Sciences >> Transgenerational Phenotyping and Epigenetic Inheritance",
          "Biological Systems and Life Sciences >> Transgenerational Phenotyping and Epigenetic Inheritance",
          "Biological Systems and Life Sciences",
          "Biological Systems and Life Sciences >> Data-Driven Biological Inference and Systems Biology",
          "Biological Systems and Life Sciences >> Data-Driven Biological Inference and Systems Biology",
          "Biological Systems and Life Sciences >> Data-Driven Biological Inference and Systems Biology",
          "Biological Systems and Life Sciences >> Data-Driven Biological Inference and Systems Biology",
          "Biological Systems and Life Sciences >> Data-Driven Biological Inference and Systems Biology",
          "Biological Systems and Life Sciences >> Data-Driven Biological Inference and Systems Biology",
          "Biological Systems and Life Sciences >> Data-Driven Biological Inference and Systems Biology",
          "Biological Systems and Life Sciences >> Data-Driven Biological Inference and Systems Biology",
          "Biological Systems and Life Sciences >> Data-Driven Biological Inference and Systems Biology",
          "Biological Systems and Life Sciences >> Data-Driven Biological Inference and Systems Biology",
          "Biological Systems and Life Sciences",
          "Biological Systems and Life Sciences >> Multi-Scale Imaging and High-Resolution Visualization",
          "Biological Systems and Life Sciences >> Multi-Scale Imaging and High-Resolution Visualization",
          "Biological Systems and Life Sciences >> Multi-Scale Imaging and High-Resolution Visualization",
          "Biological Systems and Life Sciences >> Multi-Scale Imaging and High-Resolution Visualization",
          "Biological Systems and Life Sciences >> Multi-Scale Imaging and High-Resolution Visualization",
          "Biological Systems and Life Sciences >> Multi-Scale Imaging and High-Resolution Visualization",
          "Biological Systems and Life Sciences >> Multi-Scale Imaging and High-Resolution Visualization",
          "Biological Systems and Life Sciences >> Multi-Scale Imaging and High-Resolution Visualization",
          "Biological Systems and Life Sciences >> Multi-Scale Imaging and High-Resolution Visualization",
          "Biological Systems and Life Sciences >> Multi-Scale Imaging and High-Resolution Visualization",
          "Biological Systems and Life Sciences",
          "Biological Systems and Life Sciences >> Multi-Scale Imaging and Biological Visualization",
          "Biological Systems and Life Sciences >> Multi-Scale Imaging and Biological Visualization",
          "Biological Systems and Life Sciences >> Multi-Scale Imaging and Biological Visualization",
          "Biological Systems and Life Sciences >> Multi-Scale Imaging and Biological Visualization",
          "Biological Systems and Life Sciences >> Multi-Scale Imaging and Biological Visualization",
          "Biological Systems and Life Sciences >> Multi-Scale Imaging and Biological Visualization",
          "Biological Systems and Life Sciences >> Multi-Scale Imaging and Biological Visualization",
          "Biological Systems and Life Sciences >> Multi-Scale Imaging and Biological Visualization",
          "Biological Systems and Life Sciences >> Multi-Scale Imaging and Biological Visualization",
          "Biological Systems and Life Sciences >> Multi-Scale Imaging and Biological Visualization",
          "Biological Systems and Life Sciences",
          "Biological Systems and Life Sciences >> Functional Testing in Plants and Bioreactor Systems",
          "Biological Systems and Life Sciences >> Functional Testing in Plants and Bioreactor Systems",
          "Biological Systems and Life Sciences >> Functional Testing in Plants and Bioreactor Systems",
          "Biological Systems and Life Sciences >> Functional Testing in Plants and Bioreactor Systems",
          "Biological Systems and Life Sciences >> Functional Testing in Plants and Bioreactor Systems",
          "Biological Systems and Life Sciences >> Functional Testing in Plants and Bioreactor Systems",
          "Biological Systems and Life Sciences >> Functional Testing in Plants and Bioreactor Systems",
          "Biological Systems and Life Sciences >> Functional Testing in Plants and Bioreactor Systems",
          "Biological Systems and Life Sciences >> Functional Testing in Plants and Bioreactor Systems",
          "Biological Systems and Life Sciences >> Functional Testing in Plants and Bioreactor Systems",
          "Biological Systems and Life Sciences",
          "Biological Systems and Life Sciences >> Trophic Reconstruction and Ecosystem Dynamics",
          "Biological Systems and Life Sciences >> Trophic Reconstruction and Ecosystem Dynamics",
          "Biological Systems and Life Sciences >> Trophic Reconstruction and Ecosystem Dynamics",
          "Biological Systems and Life Sciences >> Trophic Reconstruction and Ecosystem Dynamics",
          "Biological Systems and Life Sciences >> Trophic Reconstruction and Ecosystem Dynamics",
          "Biological Systems and Life Sciences >> Trophic Reconstruction and Ecosystem Dynamics",
          "Biological Systems and Life Sciences >> Trophic Reconstruction and Ecosystem Dynamics",
          "Biological Systems and Life Sciences >> Trophic Reconstruction and Ecosystem Dynamics",
          "Biological Systems and Life Sciences >> Trophic Reconstruction and Ecosystem Dynamics",
          "Biological Systems and Life Sciences >> Trophic Reconstruction and Ecosystem Dynamics",
          "Biological Systems and Life Sciences",
          "Biological Systems and Life Sciences >> Plant Sensing and Environmental Monitoring",
          "Biological Systems and Life Sciences >> Plant Sensing and Environmental Monitoring",
          "Biological Systems and Life Sciences >> Plant Sensing and Environmental Monitoring",
          "Biological Systems and Life Sciences >> Plant Sensing and Environmental Monitoring",
          "Biological Systems and Life Sciences >> Plant Sensing and Environmental Monitoring",
          "Biological Systems and Life Sciences >> Plant Sensing and Environmental Monitoring",
          "Biological Systems and Life Sciences >> Plant Sensing and Environmental Monitoring",
          "Biological Systems and Life Sciences >> Plant Sensing and Environmental Monitoring",
          "Biological Systems and Life Sciences >> Plant Sensing and Environmental Monitoring",
          "Biological Systems and Life Sciences >> Plant Sensing and Environmental Monitoring",
          "Biological Systems and Life Sciences >> Plant Sensing and Environmental Monitoring",
          "Biological Systems and Life Sciences",
          "Biological Systems and Life Sciences >> Crop Yield Maximisation and Agricultural Productivity",
          "Biological Systems and Life Sciences >> Crop Yield Maximisation and Agricultural Productivity",
          "Biological Systems and Life Sciences >> Crop Yield Maximisation and Agricultural Productivity",
          "Biological Systems and Life Sciences >> Crop Yield Maximisation and Agricultural Productivity",
          "Biological Systems and Life Sciences >> Crop Yield Maximisation and Agricultural Productivity",
          "Biological Systems and Life Sciences >> Crop Yield Maximisation and Agricultural Productivity",
          "Biological Systems and Life Sciences >> Crop Yield Maximisation and Agricultural Productivity",
          "Biological Systems and Life Sciences >> Crop Yield Maximisation and Agricultural Productivity",
          "Biological Systems and Life Sciences >> Crop Yield Maximisation and Agricultural Productivity",
          "Biological Systems and Life Sciences >> Crop Yield Maximisation and Agricultural Productivity",
          "Biological Systems and Life Sciences",
          "Biological Systems and Life Sciences >> Superior Breeding Stock Development and Animal Genetics",
          "Biological Systems and Life Sciences >> Superior Breeding Stock Development and Animal Genetics",
          "Biological Systems and Life Sciences >> Superior Breeding Stock Development and Animal Genetics",
          "Biological Systems and Life Sciences >> Superior Breeding Stock Development and Animal Genetics",
          "Biological Systems and Life Sciences >> Superior Breeding Stock Development and Animal Genetics",
          "Biological Systems and Life Sciences >> Superior Breeding Stock Development and Animal Genetics",
          "Biological Systems and Life Sciences >> Superior Breeding Stock Development and Animal Genetics",
          "Biological Systems and Life Sciences >> Superior Breeding Stock Development and Animal Genetics",
          "Biological Systems and Life Sciences >> Superior Breeding Stock Development and Animal Genetics",
          "Biological Systems and Life Sciences >> Superior Breeding Stock Development and Animal Genetics",
          "Biological Systems and Life Sciences",
          "Biological Systems and Life Sciences >> Biological Feed Development and Sustainable Nutrition",
          "Biological Systems and Life Sciences >> Biological Feed Development and Sustainable Nutrition",
          "Biological Systems and Life Sciences >> Biological Feed Development and Sustainable Nutrition",
          "Biological Systems and Life Sciences >> Biological Feed Development and Sustainable Nutrition",
          "Biological Systems and Life Sciences >> Biological Feed Development and Sustainable Nutrition",
          "Biological Systems and Life Sciences >> Biological Feed Development and Sustainable Nutrition",
          "Biological Systems and Life Sciences >> Biological Feed Development and Sustainable Nutrition",
          "Biological Systems and Life Sciences >> Biological Feed Development and Sustainable Nutrition",
          "Biological Systems and Life Sciences >> Biological Feed Development and Sustainable Nutrition",
          "Biological Systems and Life Sciences >> Biological Feed Development and Sustainable Nutrition",
          "Biological Systems and Life Sciences >> Biological Feed Development and Sustainable Nutrition",
          "",
          "Sensing, Monitoring, and Data Acquisition",
          "Sensing, Monitoring, and Data Acquisition >> Active Sensing Technologies and Real-Time Monitoring",
          "Sensing, Monitoring, and Data Acquisition >> Active Sensing Technologies and Real-Time Monitoring",
          "Sensing, Monitoring, and Data Acquisition >> Active Sensing Technologies and Real-Time Monitoring",
          "Sensing, Monitoring, and Data Acquisition >> Active Sensing Technologies and Real-Time Monitoring",
          "Sensing, Monitoring, and Data Acquisition >> Active Sensing Technologies and Real-Time Monitoring",
          "Sensing, Monitoring, and Data Acquisition >> Active Sensing Technologies and Real-Time Monitoring",
          "Sensing, Monitoring, and Data Acquisition >> Active Sensing Technologies and Real-Time Monitoring",
          "Sensing, Monitoring, and Data Acquisition >> Active Sensing Technologies and Real-Time Monitoring",
          "Sensing, Monitoring, and Data Acquisition >> Active Sensing Technologies and Real-Time Monitoring",
          "Sensing, Monitoring, and Data Acquisition >> Active Sensing Technologies and Real-Time Monitoring",
          "Sensing, Monitoring, and Data Acquisition >> Active Sensing Technologies and Real-Time Monitoring",
          "Sensing, Monitoring, and Data Acquisition >> Active Sensing Technologies and Real-Time Monitoring",
          "Sensing, Monitoring, and Data Acquisition >> Active Sensing Technologies and Real-Time Monitoring",
          "Sensing, Monitoring, and Data Acquisition",
          "Sensing, Monitoring, and Data Acquisition >> Room Temperature Detection and Thermal Sensing",
          "Sensing, Monitoring, and Data Acquisition >> Room Temperature Detection and Thermal Sensing",
          "Sensing, Monitoring, and Data Acquisition >> Room Temperature Detection and Thermal Sensing",
          "Sensing, Monitoring, and Data Acquisition >> Room Temperature Detection and Thermal Sensing",
          "Sensing, Monitoring, and Data Acquisition >> Room Temperature Detection and Thermal Sensing",
          "Sensing, Monitoring, and Data Acquisition >> Room Temperature Detection and Thermal Sensing",
          "Sensing, Monitoring, and Data Acquisition >> Room Temperature Detection and Thermal Sensing",
          "Sensing, Monitoring, and Data Acquisition >> Room Temperature Detection and Thermal Sensing",
          "Sensing, Monitoring, and Data Acquisition >> Room Temperature Detection and Thermal Sensing",
          "Sensing, Monitoring, and Data Acquisition >> Room Temperature Detection and Thermal Sensing",
          "Sensing, Monitoring, and Data Acquisition >> Room Temperature Detection and Thermal Sensing",
          "Sensing, Monitoring, and Data Acquisition",
          "Sensing, Monitoring, and Data Acquisition >> Compact Spectrometers and Portable Analytical Devices",
          "Sensing, Monitoring, and Data Acquisition >> Compact Spectrometers and Portable Analytical Devices",
          "Sensing, Monitoring, and Data Acquisition >> Compact Spectrometers and Portable Analytical Devices",
          "Sensing, Monitoring, and Data Acquisition >> Compact Spectrometers and Portable Analytical Devices",
          "Sensing, Monitoring, and Data Acquisition >> Compact Spectrometers and Portable Analytical Devices",
          "Sensing, Monitoring, and Data Acquisition >> Compact Spectrometers and Portable Analytical Devices",
          "Sensing, Monitoring, and Data Acquisition >> Compact Spectrometers and Portable Analytical Devices",
          "Sensing, Monitoring, and Data Acquisition >> Compact Spectrometers and Portable Analytical Devices",
          "Sensing, Monitoring, and Data Acquisition >> Compact Spectrometers and Portable Analytical Devices",
          "Sensing, Monitoring, and Data Acquisition >> Compact Spectrometers and Portable Analytical Devices",
          "Sensing, Monitoring, and Data Acquisition",
          "Sensing, Monitoring, and Data Acquisition >> Simple Analytical Platforms for Point-of-Care Diagnostics",
          "Sensing, Monitoring, and Data Acquisition >> Simple Analytical Platforms for Point-of-Care Diagnostics",
          "Sensing, Monitoring, and Data Acquisition >> Simple Analytical Platforms for Point-of-Care Diagnostics",
          "Sensing, Monitoring, and Data Acquisition >> Simple Analytical Platforms for Point-of-Care Diagnostics",
          "Sensing, Monitoring, and Data Acquisition >> Simple Analytical Platforms for Point-of-Care Diagnostics",
          "Sensing, Monitoring, and Data Acquisition >> Simple Analytical Platforms for Point-of-Care Diagnostics",
          "Sensing, Monitoring, and Data Acquisition >> Simple Analytical Platforms for Point-of-Care Diagnostics",
          "Sensing, Monitoring, and Data Acquisition >> Simple Analytical Platforms for Point-of-Care Diagnostics",
          "Sensing, Monitoring, and Data Acquisition >> Simple Analytical Platforms for Point-of-Care Diagnostics",
          "Sensing, Monitoring, and Data Acquisition >> Simple Analytical Platforms for Point-of-Care Diagnostics",
          "Sensing, Monitoring, and Data Acquisition >> Simple Analytical Platforms for Point-of-Care Diagnostics",
          "Sensing, Monitoring, and Data Acquisition >> Simple Analytical Platforms for Point-of-Care Diagnostics",
          "Sensing, Monitoring, and Data Acquisition",
          "Sensing, Monitoring, and Data Acquisition >> Multi-Analytical Archaeological Approach",
          "Sensing, Monitoring, and Data Acquisition >> Multi-Analytical Archaeological Approach",
          "Sensing, Monitoring, and Data Acquisition >> Multi-Analytical Archaeological Approach",
          "Sensing, Monitoring, and Data Acquisition >> Multi-Analytical Archaeological Approach",
          "Sensing, Monitoring, and Data Acquisition >> Multi-Analytical Archaeological Approach",
          "Sensing, Monitoring, and Data Acquisition >> Multi-Analytical Archaeological Approach",
          "Sensing, Monitoring, and Data Acquisition >> Multi-Analytical Archaeological Approach",
          "Sensing, Monitoring, and Data Acquisition >> Multi-Analytical Archaeological Approach",
          "Sensing, Monitoring, and Data Acquisition >> Multi-Analytical Archaeological Approach",
          "Sensing, Monitoring, and Data Acquisition >> Multi-Analytical Archaeological Approach",
          "Sensing, Monitoring, and Data Acquisition >> Multi-Analytical Archaeological Approach",
          "Sensing, Monitoring, and Data Acquisition >> Multi-Analytical Archaeological Approach",
          "Sensing, Monitoring, and Data Acquisition >> Multi-Analytical Archaeological Approach",
          "Sensing, Monitoring, and Data Acquisition",
          "Sensing, Monitoring, and Data Acquisition >> Archaeological Diagnostics and Digital Reconstruction",
          "Sensing, Monitoring, and Data Acquisition >> Archaeological Diagnostics and Digital Reconstruction",
          "Sensing, Monitoring, and Data Acquisition >> Archaeological Diagnostics and Digital Reconstruction",
          "Sensing, Monitoring, and Data Acquisition >> Archaeological Diagnostics and Digital Reconstruction",
          "Sensing, Monitoring, and Data Acquisition >> Archaeological Diagnostics and Digital Reconstruction",
          "Sensing, Monitoring, and Data Acquisition >> Archaeological Diagnostics and Digital Reconstruction",
          "Sensing, Monitoring, and Data Acquisition >> Archaeological Diagnostics and Digital Reconstruction",
          "Sensing, Monitoring, and Data Acquisition >> Archaeological Diagnostics and Digital Reconstruction",
          "Sensing, Monitoring, and Data Acquisition >> Archaeological Diagnostics and Digital Reconstruction",
          "Sensing, Monitoring, and Data Acquisition >> Archaeological Diagnostics and Digital Reconstruction",
          "Sensing, Monitoring, and Data Acquisition",
          "Sensing, Monitoring, and Data Acquisition >> Digital Mapping and Geospatial Analysis",
          "Sensing, Monitoring, and Data Acquisition >> Digital Mapping and Geospatial Analysis",
          "Sensing, Monitoring, and Data Acquisition >> Digital Mapping and Geospatial Analysis",
          "Sensing, Monitoring, and Data Acquisition >> Digital Mapping and Geospatial Analysis",
          "Sensing, Monitoring, and Data Acquisition >> Digital Mapping and Geospatial Analysis",
          "Sensing, Monitoring, and Data Acquisition >> Digital Mapping and Geospatial Analysis",
          "Sensing, Monitoring, and Data Acquisition >> Digital Mapping and Geospatial Analysis",
          "Sensing, Monitoring, and Data Acquisition >> Digital Mapping and Geospatial Analysis",
          "Sensing, Monitoring, and Data Acquisition >> Digital Mapping and Geospatial Analysis",
          "Sensing, Monitoring, and Data Acquisition >> Digital Mapping and Geospatial Analysis",
          "Sensing, Monitoring, and Data Acquisition",
          "Sensing, Monitoring, and Data Acquisition >> Scalable Sensing Architectures and Sensor Networks",
          "Sensing, Monitoring, and Data Acquisition >> Scalable Sensing Architectures and Sensor Networks",
          "Sensing, Monitoring, and Data Acquisition >> Scalable Sensing Architectures and Sensor Networks",
          "Sensing, Monitoring, and Data Acquisition >> Scalable Sensing Architectures and Sensor Networks",
          "Sensing, Monitoring, and Data Acquisition >> Scalable Sensing Architectures and Sensor Networks",
          "Sensing, Monitoring, and Data Acquisition >> Scalable Sensing Architectures and Sensor Networks",
          "Sensing, Monitoring, and Data Acquisition >> Scalable Sensing Architectures and Sensor Networks",
          "Sensing, Monitoring, and Data Acquisition >> Scalable Sensing Architectures and Sensor Networks",
          "Sensing, Monitoring, and Data Acquisition >> Scalable Sensing Architectures and Sensor Networks",
          "Sensing, Monitoring, and Data Acquisition >> Scalable Sensing Architectures and Sensor Networks",
          "Sensing, Monitoring, and Data Acquisition",
          "Sensing, Monitoring, and Data Acquisition >> Interferometric Instrumentation and Precision Measurement",
          "Sensing, Monitoring, and Data Acquisition >> Interferometric Instrumentation and Precision Measurement",
          "Sensing, Monitoring, and Data Acquisition >> Interferometric Instrumentation and Precision Measurement",
          "Sensing, Monitoring, and Data Acquisition >> Interferometric Instrumentation and Precision Measurement",
          "Sensing, Monitoring, and Data Acquisition >> Interferometric Instrumentation and Precision Measurement",
          "Sensing, Monitoring, and Data Acquisition >> Interferometric Instrumentation and Precision Measurement",
          "Sensing, Monitoring, and Data Acquisition >> Interferometric Instrumentation and Precision Measurement",
          "Sensing, Monitoring, and Data Acquisition >> Interferometric Instrumentation and Precision Measurement",
          "Sensing, Monitoring, and Data Acquisition >> Interferometric Instrumentation and Precision Measurement",
          "Sensing, Monitoring, and Data Acquisition >> Interferometric Instrumentation and Precision Measurement",
          "Sensing, Monitoring, and Data Acquisition",
          "Sensing, Monitoring, and Data Acquisition >> Direct-Detection Technologies in Physics and Sensing",
          "Sensing, Monitoring, and Data Acquisition >> Direct-Detection Technologies in Physics and Sensing",
          "Sensing, Monitoring, and Data Acquisition >> Direct-Detection Technologies in Physics and Sensing",
          "Sensing, Monitoring, and Data Acquisition >> Direct-Detection Technologies in Physics and Sensing",
          "Sensing, Monitoring, and Data Acquisition >> Direct-Detection Technologies in Physics and Sensing",
          "Sensing, Monitoring, and Data Acquisition >> Direct-Detection Technologies in Physics and Sensing",
          "Sensing, Monitoring, and Data Acquisition >> Direct-Detection Technologies in Physics and Sensing",
          "Sensing, Monitoring, and Data Acquisition >> Direct-Detection Technologies in Physics and Sensing",
          "Sensing, Monitoring, and Data Acquisition >> Direct-Detection Technologies in Physics and Sensing",
          "Sensing, Monitoring, and Data Acquisition >> Direct-Detection Technologies in Physics and Sensing",
          "Sensing, Monitoring, and Data Acquisition",
          "Sensing, Monitoring, and Data Acquisition >> Networked Counterpublics and Digital Activism",
          "Sensing, Monitoring, and Data Acquisition >> Networked Counterpublics and Digital Activism",
          "Sensing, Monitoring, and Data Acquisition >> Networked Counterpublics and Digital Activism",
          "Sensing, Monitoring, and Data Acquisition >> Networked Counterpublics and Digital Activism",
          "Sensing, Monitoring, and Data Acquisition >> Networked Counterpublics and Digital Activism",
          "Sensing, Monitoring, and Data Acquisition >> Networked Counterpublics and Digital Activism",
          "Sensing, Monitoring, and Data Acquisition >> Networked Counterpublics and Digital Activism",
          "Sensing, Monitoring, and Data Acquisition >> Networked Counterpublics and Digital Activism",
          "Sensing, Monitoring, and Data Acquisition >> Networked Counterpublics and Digital Activism",
          "Sensing, Monitoring, and Data Acquisition",
          "Sensing, Monitoring, and Data Acquisition >> Event Invitations and Social Interaction Dynamics",
          "Sensing, Monitoring, and Data Acquisition >> Event Invitations and Social Interaction Dynamics",
          "Sensing, Monitoring, and Data Acquisition >> Event Invitations and Social Interaction Dynamics",
          "Sensing, Monitoring, and Data Acquisition >> Event Invitations and Social Interaction Dynamics",
          "Sensing, Monitoring, and Data Acquisition >> Event Invitations and Social Interaction Dynamics",
          "Sensing, Monitoring, and Data Acquisition >> Event Invitations and Social Interaction Dynamics",
          "Sensing, Monitoring, and Data Acquisition >> Event Invitations and Social Interaction Dynamics",
          "Sensing, Monitoring, and Data Acquisition >> Event Invitations and Social Interaction Dynamics",
          "Sensing, Monitoring, and Data Acquisition >> Event Invitations and Social Interaction Dynamics",
          "Sensing, Monitoring, and Data Acquisition >> Event Invitations and Social Interaction Dynamics",
          "",
          "Education, Learning, and Workforce Development",
          "Education, Learning, and Workforce Development >> Training and Capacity Development in Education and Workforce",
          "Education, Learning, and Workforce Development >> Training and Capacity Development in Education and Workforce",
          "Education, Learning, and Workforce Development >> Training and Capacity Development in Education and Workforce",
          "Education, Learning, and Workforce Development >> Training and Capacity Development in Education and Workforce",
          "Education, Learning, and Workforce Development >> Training and Capacity Development in Education and Workforce",
          "Education, Learning, and Workforce Development >> Training and Capacity Development in Education and Workforce",
          "Education, Learning, and Workforce Development >> Training and Capacity Development in Education and Workforce",
          "Education, Learning, and Workforce Development >> Training and Capacity Development in Education and Workforce",
          "Education, Learning, and Workforce Development >> Training and Capacity Development in Education and Workforce",
          "Education, Learning, and Workforce Development >> Training and Capacity Development in Education and Workforce",
          "Education, Learning, and Workforce Development >> Training and Capacity Development in Education and Workforce",
          "Education, Learning, and Workforce Development >> Training and Capacity Development in Education and Workforce",
          "Education, Learning, and Workforce Development >> Training and Capacity Development in Education and Workforce",
          "Education, Learning, and Workforce Development >> Training and Capacity Development in Education and Workforce",
          "Education, Learning, and Workforce Development >> Training and Capacity Development in Education and Workforce",
          "Education, Learning, and Workforce Development >> Training and Capacity Development in Education and Workforce",
          "Education, Learning, and Workforce Development >> Training and Capacity Development in Education and Workforce",
          "Education, Learning, and Workforce Development >> Training and Capacity Development in Education and Workforce",
          "Education, Learning, and Workforce Development",
          "Education, Learning, and Workforce Development >> Automated Teaching Assistants and AI-Driven Education",
          "Education, Learning, and Workforce Development >> Automated Teaching Assistants and AI-Driven Education",
          "Education, Learning, and Workforce Development >> Automated Teaching Assistants and AI-Driven Education",
          "Education, Learning, and Workforce Development >> Automated Teaching Assistants and AI-Driven Education",
          "Education, Learning, and Workforce Development >> Automated Teaching Assistants and AI-Driven Education",
          "Education, Learning, and Workforce Development >> Automated Teaching Assistants and AI-Driven Education",
          "Education, Learning, and Workforce Development >> Automated Teaching Assistants and AI-Driven Education",
          "Education, Learning, and Workforce Development >> Automated Teaching Assistants and AI-Driven Education",
          "Education, Learning, and Workforce Development >> Automated Teaching Assistants and AI-Driven Education",
          "Education, Learning, and Workforce Development >> Automated Teaching Assistants and AI-Driven Education",
          "Education, Learning, and Workforce Development >> Automated Teaching Assistants and AI-Driven Education",
          "Education, Learning, and Workforce Development >> Automated Teaching Assistants and AI-Driven Education",
          "Education, Learning, and Workforce Development",
          "Education, Learning, and Workforce Development >> Curriculum Modeling and Educational Transformation",
          "Education, Learning, and Workforce Development >> Curriculum Modeling and Educational Transformation",
          "Education, Learning, and Workforce Development >> Curriculum Modeling and Educational Transformation",
          "Education, Learning, and Workforce Development >> Curriculum Modeling and Educational Transformation",
          "Education, Learning, and Workforce Development >> Curriculum Modeling and Educational Transformation",
          "Education, Learning, and Workforce Development >> Curriculum Modeling and Educational Transformation",
          "Education, Learning, and Workforce Development >> Curriculum Modeling and Educational Transformation",
          "Education, Learning, and Workforce Development >> Curriculum Modeling and Educational Transformation",
          "Education, Learning, and Workforce Development >> Curriculum Modeling and Educational Transformation",
          "Education, Learning, and Workforce Development >> Curriculum Modeling and Educational Transformation",
          "Education, Learning, and Workforce Development",
          "Education, Learning, and Workforce Development >> Preparation for Diverse Learning Environments",
          "Education, Learning, and Workforce Development >> Preparation for Diverse Learning Environments",
          "Education, Learning, and Workforce Development >> Preparation for Diverse Learning Environments",
          "Education, Learning, and Workforce Development >> Preparation for Diverse Learning Environments",
          "Education, Learning, and Workforce Development >> Preparation for Diverse Learning Environments",
          "Education, Learning, and Workforce Development >> Preparation for Diverse Learning Environments",
          "Education, Learning, and Workforce Development >> Preparation for Diverse Learning Environments",
          "Education, Learning, and Workforce Development >> Preparation for Diverse Learning Environments",
          "Education, Learning, and Workforce Development >> Preparation for Diverse Learning Environments",
          "Education, Learning, and Workforce Development >> Preparation for Diverse Learning Environments",
          "Education, Learning, and Workforce Development",
          "Education, Learning, and Workforce Development >> Educational Tools and Learning Technologies",
          "Education, Learning, and Workforce Development >> Educational Tools and Learning Technologies",
          "Education, Learning, and Workforce Development >> Educational Tools and Learning Technologies",
          "Education, Learning, and Workforce Development >> Educational Tools and Learning Technologies",
          "Education, Learning, and Workforce Development >> Educational Tools and Learning Technologies",
          "Education, Learning, and Workforce Development >> Educational Tools and Learning Technologies",
          "Education, Learning, and Workforce Development >> Educational Tools and Learning Technologies",
          "Education, Learning, and Workforce Development >> Educational Tools and Learning Technologies",
          "Education, Learning, and Workforce Development >> Educational Tools and Learning Technologies",
          "Education, Learning, and Workforce Development >> Educational Tools and Learning Technologies",
          "Education, Learning, and Workforce Development",
          "Education, Learning, and Workforce Development >> Job Market Design and Economic Inclusion",
          "Education, Learning, and Workforce Development >> Job Market Design and Economic Inclusion",
          "Education, Learning, and Workforce Development >> Job Market Design and Economic Inclusion",
          "Education, Learning, and Workforce Development >> Job Market Design and Economic Inclusion",
          "Education, Learning, and Workforce Development >> Job Market Design and Economic Inclusion",
          "Education, Learning, and Workforce Development >> Job Market Design and Economic Inclusion",
          "Education, Learning, and Workforce Development >> Job Market Design and Economic Inclusion",
          "Education, Learning, and Workforce Development >> Job Market Design and Economic Inclusion",
          "Education, Learning, and Workforce Development >> Job Market Design and Economic Inclusion",
          "Education, Learning, and Workforce Development >> Job Market Design and Economic Inclusion",
          "Education, Learning, and Workforce Development >> Job Market Design and Economic Inclusion",
          "Education, Learning, and Workforce Development",
          "Education, Learning, and Workforce Development >> Occupational Skills and Workforce Development",
          "Education, Learning, and Workforce Development >> Occupational Skills and Workforce Development",
          "Education, Learning, and Workforce Development >> Occupational Skills and Workforce Development",
          "Education, Learning, and Workforce Development >> Occupational Skills and Workforce Development",
          "Education, Learning, and Workforce Development >> Occupational Skills and Workforce Development",
          "Education, Learning, and Workforce Development >> Occupational Skills and Workforce Development",
          "Education, Learning, and Workforce Development >> Occupational Skills and Workforce Development",
          "Education, Learning, and Workforce Development >> Occupational Skills and Workforce Development",
          "Education, Learning, and Workforce Development >> Occupational Skills and Workforce Development",
          "Education, Learning, and Workforce Development >> Occupational Skills and Workforce Development",
          "Education, Learning, and Workforce Development",
          "Education, Learning, and Workforce Development >> Early Career Researcher Development and Mentorship",
          "Education, Learning, and Workforce Development >> Early Career Researcher Development and Mentorship",
          "Education, Learning, and Workforce Development >> Early Career Researcher Development and Mentorship",
          "Education, Learning, and Workforce Development >> Early Career Researcher Development and Mentorship",
          "Education, Learning, and Workforce Development >> Early Career Researcher Development and Mentorship",
          "Education, Learning, and Workforce Development >> Early Career Researcher Development and Mentorship",
          "Education, Learning, and Workforce Development >> Early Career Researcher Development and Mentorship",
          "Education, Learning, and Workforce Development >> Early Career Researcher Development and Mentorship",
          "Education, Learning, and Workforce Development >> Early Career Researcher Development and Mentorship",
          "Education, Learning, and Workforce Development >> Early Career Researcher Development and Mentorship",
          "Education, Learning, and Workforce Development",
          "Education, Learning, and Workforce Development >> Gaming Industries and Human-Computer Interaction",
          "Education, Learning, and Workforce Development >> Gaming Industries and Human-Computer Interaction",
          "Education, Learning, and Workforce Development >> Gaming Industries and Human-Computer Interaction",
          "Education, Learning, and Workforce Development >> Gaming Industries and Human-Computer Interaction",
          "Education, Learning, and Workforce Development >> Gaming Industries and Human-Computer Interaction",
          "Education, Learning, and Workforce Development >> Gaming Industries and Human-Computer Interaction",
          "Education, Learning, and Workforce Development >> Gaming Industries and Human-Computer Interaction",
          "Education, Learning, and Workforce Development >> Gaming Industries and Human-Computer Interaction",
          "Education, Learning, and Workforce Development >> Gaming Industries and Human-Computer Interaction",
          "Education, Learning, and Workforce Development >> Gaming Industries and Human-Computer Interaction",
          "Education, Learning, and Workforce Development",
          "Education, Learning, and Workforce Development >> Visual Attention and Cognitive Processing",
          "Education, Learning, and Workforce Development >> Visual Attention and Cognitive Processing",
          "Education, Learning, and Workforce Development >> Visual Attention and Cognitive Processing",
          "Education, Learning, and Workforce Development >> Visual Attention and Cognitive Processing",
          "Education, Learning, and Workforce Development >> Visual Attention and Cognitive Processing",
          "Education, Learning, and Workforce Development >> Visual Attention and Cognitive Processing",
          "Education, Learning, and Workforce Development >> Visual Attention and Cognitive Processing",
          "Education, Learning, and Workforce Development >> Visual Attention and Cognitive Processing",
          "Education, Learning, and Workforce Development >> Visual Attention and Cognitive Processing",
          "Education, Learning, and Workforce Development >> Visual Attention and Cognitive Processing",
          "Education, Learning, and Workforce Development",
          "Education, Learning, and Workforce Development >> Customer Perceptions and Market Feedback",
          "Education, Learning, and Workforce Development >> Customer Perceptions and Market Feedback",
          "Education, Learning, and Workforce Development >> Customer Perceptions and Market Feedback",
          "Education, Learning, and Workforce Development >> Customer Perceptions and Market Feedback",
          "Education, Learning, and Workforce Development >> Customer Perceptions and Market Feedback",
          "Education, Learning, and Workforce Development >> Customer Perceptions and Market Feedback",
          "Education, Learning, and Workforce Development >> Customer Perceptions and Market Feedback",
          "Education, Learning, and Workforce Development >> Customer Perceptions and Market Feedback",
          "Education, Learning, and Workforce Development >> Customer Perceptions and Market Feedback",
          "Education, Learning, and Workforce Development >> Customer Perceptions and Market Feedback",
          "",
          "Urban Systems and Infrastructure Resilience",
          "Urban Systems and Infrastructure Resilience >> Transport Service Providers and Urban Mobility",
          "Urban Systems and Infrastructure Resilience >> Transport Service Providers and Urban Mobility",
          "Urban Systems and Infrastructure Resilience >> Transport Service Providers and Urban Mobility",
          "Urban Systems and Infrastructure Resilience >> Transport Service Providers and Urban Mobility",
          "Urban Systems and Infrastructure Resilience >> Transport Service Providers and Urban Mobility",
          "Urban Systems and Infrastructure Resilience >> Transport Service Providers and Urban Mobility",
          "Urban Systems and Infrastructure Resilience >> Transport Service Providers and Urban Mobility",
          "Urban Systems and Infrastructure Resilience >> Transport Service Providers and Urban Mobility",
          "Urban Systems and Infrastructure Resilience >> Transport Service Providers and Urban Mobility",
          "Urban Systems and Infrastructure Resilience >> Transport Service Providers and Urban Mobility",
          "Urban Systems and Infrastructure Resilience >> Transport Service Providers and Urban Mobility",
          "Urban Systems and Infrastructure Resilience",
          "Urban Systems and Infrastructure Resilience >> Transport Environments and Urban Mobility Systems",
          "Urban Systems and Infrastructure Resilience >> Transport Environments and Urban Mobility Systems",
          "Urban Systems and Infrastructure Resilience >> Transport Environments and Urban Mobility Systems",
          "Urban Systems and Infrastructure Resilience >> Transport Environments and Urban Mobility Systems",
          "Urban Systems and Infrastructure Resilience >> Transport Environments and Urban Mobility Systems",
          "Urban Systems and Infrastructure Resilience >> Transport Environments and Urban Mobility Systems",
          "Urban Systems and Infrastructure Resilience >> Transport Environments and Urban Mobility Systems",
          "Urban Systems and Infrastructure Resilience >> Transport Environments and Urban Mobility Systems",
          "Urban Systems and Infrastructure Resilience >> Transport Environments and Urban Mobility Systems",
          "Urban Systems and Infrastructure Resilience >> Transport Environments and Urban Mobility Systems",
          "Urban Systems and Infrastructure Resilience",
          "Urban Systems and Infrastructure Resilience >> Critical Infrastructure Management and Resilience",
          "Urban Systems and Infrastructure Resilience >> Critical Infrastructure Management and Resilience",
          "Urban Systems and Infrastructure Resilience >> Critical Infrastructure Management and Resilience",
          "Urban Systems and Infrastructure Resilience >> Critical Infrastructure Management and Resilience",
          "Urban Systems and Infrastructure Resilience >> Critical Infrastructure Management and Resilience",
          "Urban Systems and Infrastructure Resilience >> Critical Infrastructure Management and Resilience",
          "Urban Systems and Infrastructure Resilience >> Critical Infrastructure Management and Resilience",
          "Urban Systems and Infrastructure Resilience >> Critical Infrastructure Management and Resilience",
          "Urban Systems and Infrastructure Resilience >> Critical Infrastructure Management and Resilience",
          "Urban Systems and Infrastructure Resilience >> Critical Infrastructure Management and Resilience",
          "Urban Systems and Infrastructure Resilience",
          "Urban Systems and Infrastructure Resilience >> Rider Behaviour and Safety in Transport",
          "Urban Systems and Infrastructure Resilience >> Rider Behaviour and Safety in Transport",
          "Urban Systems and Infrastructure Resilience >> Rider Behaviour and Safety in Transport",
          "Urban Systems and Infrastructure Resilience >> Rider Behaviour and Safety in Transport",
          "Urban Systems and Infrastructure Resilience >> Rider Behaviour and Safety in Transport",
          "Urban Systems and Infrastructure Resilience >> Rider Behaviour and Safety in Transport",
          "Urban Systems and Infrastructure Resilience >> Rider Behaviour and Safety in Transport",
          "Urban Systems and Infrastructure Resilience >> Rider Behaviour and Safety in Transport",
          "Urban Systems and Infrastructure Resilience >> Rider Behaviour and Safety in Transport",
          "Urban Systems and Infrastructure Resilience >> Rider Behaviour and Safety in Transport",
          "Urban Systems and Infrastructure Resilience",
          "Urban Systems and Infrastructure Resilience >> Public Funding Efficiency and Resource Allocation",
          "Urban Systems and Infrastructure Resilience >> Public Funding Efficiency and Resource Allocation",
          "Urban Systems and Infrastructure Resilience >> Public Funding Efficiency and Resource Allocation",
          "Urban Systems and Infrastructure Resilience >> Public Funding Efficiency and Resource Allocation",
          "Urban Systems and Infrastructure Resilience >> Public Funding Efficiency and Resource Allocation",
          "Urban Systems and Infrastructure Resilience >> Public Funding Efficiency and Resource Allocation",
          "Urban Systems and Infrastructure Resilience >> Public Funding Efficiency and Resource Allocation",
          "Urban Systems and Infrastructure Resilience >> Public Funding Efficiency and Resource Allocation",
          "Urban Systems and Infrastructure Resilience >> Public Funding Efficiency and Resource Allocation",
          "Urban Systems and Infrastructure Resilience >> Public Funding Efficiency and Resource Allocation",
          "Urban Systems and Infrastructure Resilience",
          "Urban Systems and Infrastructure Resilience >> Project Delivery Improvement and Process Management",
          "Urban Systems and Infrastructure Resilience >> Project Delivery Improvement and Process Management",
          "Urban Systems and Infrastructure Resilience >> Project Delivery Improvement and Process Management",
          "Urban Systems and Infrastructure Resilience >> Project Delivery Improvement and Process Management",
          "Urban Systems and Infrastructure Resilience >> Project Delivery Improvement and Process Management",
          "Urban Systems and Infrastructure Resilience >> Project Delivery Improvement and Process Management",
          "Urban Systems and Infrastructure Resilience >> Project Delivery Improvement and Process Management",
          "Urban Systems and Infrastructure Resilience >> Project Delivery Improvement and Process Management",
          "Urban Systems and Infrastructure Resilience >> Project Delivery Improvement and Process Management",
          "Urban Systems and Infrastructure Resilience >> Project Delivery Improvement and Process Management",
          "Urban Systems and Infrastructure Resilience",
          "Urban Systems and Infrastructure Resilience >> Service Efficiency Improvement and Operational Excellence",
          "Urban Systems and Infrastructure Resilience >> Service Efficiency Improvement and Operational Excellence",
          "Urban Systems and Infrastructure Resilience >> Service Efficiency Improvement and Operational Excellence",
          "Urban Systems and Infrastructure Resilience >> Service Efficiency Improvement and Operational Excellence",
          "Urban Systems and Infrastructure Resilience >> Service Efficiency Improvement and Operational Excellence",
          "Urban Systems and Infrastructure Resilience >> Service Efficiency Improvement and Operational Excellence",
          "Urban Systems and Infrastructure Resilience >> Service Efficiency Improvement and Operational Excellence",
          "Urban Systems and Infrastructure Resilience >> Service Efficiency Improvement and Operational Excellence",
          "Urban Systems and Infrastructure Resilience >> Service Efficiency Improvement and Operational Excellence",
          "Urban Systems and Infrastructure Resilience >> Service Efficiency Improvement and Operational Excellence",
          "Urban Systems and Infrastructure Resilience",
          "Urban Systems and Infrastructure Resilience >> Risk Prioritization and Hazard Assessment",
          "Urban Systems and Infrastructure Resilience >> Risk Prioritization and Hazard Assessment",
          "Urban Systems and Infrastructure Resilience >> Risk Prioritization and Hazard Assessment",
          "Urban Systems and Infrastructure Resilience >> Risk Prioritization and Hazard Assessment",
          "Urban Systems and Infrastructure Resilience >> Risk Prioritization and Hazard Assessment",
          "Urban Systems and Infrastructure Resilience >> Risk Prioritization and Hazard Assessment",
          "Urban Systems and Infrastructure Resilience >> Risk Prioritization and Hazard Assessment",
          "Urban Systems and Infrastructure Resilience >> Risk Prioritization and Hazard Assessment",
          "Urban Systems and Infrastructure Resilience >> Risk Prioritization and Hazard Assessment",
          "Urban Systems and Infrastructure Resilience >> Risk Prioritization and Hazard Assessment",
          "Urban Systems and Infrastructure Resilience",
          "Urban Systems and Infrastructure Resilience >> Policy Scenario Analysis and Strategic Planning",
          "Urban Systems and Infrastructure Resilience >> Policy Scenario Analysis and Strategic Planning",
          "Urban Systems and Infrastructure Resilience >> Policy Scenario Analysis and Strategic Planning",
          "Urban Systems and Infrastructure Resilience >> Policy Scenario Analysis and Strategic Planning",
          "Urban Systems and Infrastructure Resilience >> Policy Scenario Analysis and Strategic Planning",
          "Urban Systems and Infrastructure Resilience >> Policy Scenario Analysis and Strategic Planning",
          "Urban Systems and Infrastructure Resilience >> Policy Scenario Analysis and Strategic Planning",
          "Urban Systems and Infrastructure Resilience >> Policy Scenario Analysis and Strategic Planning",
          "Urban Systems and Infrastructure Resilience >> Policy Scenario Analysis and Strategic Planning",
          "Urban Systems and Infrastructure Resilience >> Policy Scenario Analysis and Strategic Planning",
          "",
          "Quantum and Advanced Computational Sciences",
          "Quantum and Advanced Computational Sciences >> Quantum Dynamics and Quantum Computing",
          "Quantum and Advanced Computational Sciences >> Quantum Dynamics and Quantum Computing",
          "Quantum and Advanced Computational Sciences >> Quantum Dynamics and Quantum Computing",
          "Quantum and Advanced Computational Sciences >> Quantum Dynamics and Quantum Computing",
          "Quantum and Advanced Computational Sciences >> Quantum Dynamics and Quantum Computing",
          "Quantum and Advanced Computational Sciences >> Quantum Dynamics and Quantum Computing",
          "Quantum and Advanced Computational Sciences >> Quantum Dynamics and Quantum Computing",
          "Quantum and Advanced Computational Sciences >> Quantum Dynamics and Quantum Computing",
          "Quantum and Advanced Computational Sciences >> Quantum Dynamics and Quantum Computing",
          "Quantum and Advanced Computational Sciences >> Quantum Dynamics and Quantum Computing",
          "Quantum and Advanced Computational Sciences",
          "Quantum and Advanced Computational Sciences >> Noisy Quantum Environments and Quantum Error Correction",
          "Quantum and Advanced Computational Sciences >> Noisy Quantum Environments and Quantum Error Correction",
          "Quantum and Advanced Computational Sciences >> Noisy Quantum Environments and Quantum Error Correction",
          "Quantum and Advanced Computational Sciences >> Noisy Quantum Environments and Quantum Error Correction",
          "Quantum and Advanced Computational Sciences >> Noisy Quantum Environments and Quantum Error Correction",
          "Quantum and Advanced Computational Sciences >> Noisy Quantum Environments and Quantum Error Correction",
          "Quantum and Advanced Computational Sciences >> Noisy Quantum Environments and Quantum Error Correction",
          "Quantum and Advanced Computational Sciences >> Noisy Quantum Environments and Quantum Error Correction",
          "Quantum and Advanced Computational Sciences >> Noisy Quantum Environments and Quantum Error Correction",
          "Quantum and Advanced Computational Sciences >> Noisy Quantum Environments and Quantum Error Correction",
          "Quantum and Advanced Computational Sciences",
          "Quantum and Advanced Computational Sciences >> Noncommutative Geometry and Advanced Mathematical Frameworks",
          "Quantum and Advanced Computational Sciences >> Noncommutative Geometry and Advanced Mathematical Frameworks",
          "Quantum and Advanced Computational Sciences >> Noncommutative Geometry and Advanced Mathematical Frameworks",
          "Quantum and Advanced Computational Sciences >> Noncommutative Geometry and Advanced Mathematical Frameworks",
          "Quantum and Advanced Computational Sciences >> Noncommutative Geometry and Advanced Mathematical Frameworks",
          "Quantum and Advanced Computational Sciences >> Noncommutative Geometry and Advanced Mathematical Frameworks",
          "Quantum and Advanced Computational Sciences >> Noncommutative Geometry and Advanced Mathematical Frameworks",
          "Quantum and Advanced Computational Sciences >> Noncommutative Geometry and Advanced Mathematical Frameworks",
          "Quantum and Advanced Computational Sciences >> Noncommutative Geometry and Advanced Mathematical Frameworks",
          "Quantum and Advanced Computational Sciences >> Noncommutative Geometry and Advanced Mathematical Frameworks",
          "Quantum and Advanced Computational Sciences",
          "Quantum and Advanced Computational Sciences >> AI-Driven Inference and Machine Learning Applications",
          "Quantum and Advanced Computational Sciences >> AI-Driven Inference and Machine Learning Applications",
          "Quantum and Advanced Computational Sciences >> AI-Driven Inference and Machine Learning Applications",
          "Quantum and Advanced Computational Sciences >> AI-Driven Inference and Machine Learning Applications",
          "Quantum and Advanced Computational Sciences >> AI-Driven Inference and Machine Learning Applications",
          "Quantum and Advanced Computational Sciences >> AI-Driven Inference and Machine Learning Applications",
          "Quantum and Advanced Computational Sciences >> AI-Driven Inference and Machine Learning Applications",
          "Quantum and Advanced Computational Sciences >> AI-Driven Inference and Machine Learning Applications",
          "Quantum and Advanced Computational Sciences >> AI-Driven Inference and Machine Learning Applications",
          "Quantum and Advanced Computational Sciences >> AI-Driven Inference and Machine Learning Applications",
          "Quantum and Advanced Computational Sciences",
          "Quantum and Advanced Computational Sciences >> Statistical Modeling Platforms and Data Science",
          "Quantum and Advanced Computational Sciences >> Statistical Modeling Platforms and Data Science",
          "Quantum and Advanced Computational Sciences >> Statistical Modeling Platforms and Data Science",
          "Quantum and Advanced Computational Sciences >> Statistical Modeling Platforms and Data Science",
          "Quantum and Advanced Computational Sciences >> Statistical Modeling Platforms and Data Science",
          "Quantum and Advanced Computational Sciences >> Statistical Modeling Platforms and Data Science",
          "Quantum and Advanced Computational Sciences >> Statistical Modeling Platforms and Data Science",
          "Quantum and Advanced Computational Sciences >> Statistical Modeling Platforms and Data Science",
          "Quantum and Advanced Computational Sciences >> Statistical Modeling Platforms and Data Science",
          "Quantum and Advanced Computational Sciences >> Statistical Modeling Platforms and Data Science",
          "Quantum and Advanced Computational Sciences",
          "Quantum and Advanced Computational Sciences >> Predictive Modeling Software and AI-Driven Forecasting",
          "Quantum and Advanced Computational Sciences >> Predictive Modeling Software and AI-Driven Forecasting",
          "Quantum and Advanced Computational Sciences >> Predictive Modeling Software and AI-Driven Forecasting",
          "Quantum and Advanced Computational Sciences >> Predictive Modeling Software and AI-Driven Forecasting",
          "Quantum and Advanced Computational Sciences >> Predictive Modeling Software and AI-Driven Forecasting",
          "Quantum and Advanced Computational Sciences >> Predictive Modeling Software and AI-Driven Forecasting",
          "Quantum and Advanced Computational Sciences >> Predictive Modeling Software and AI-Driven Forecasting",
          "Quantum and Advanced Computational Sciences >> Predictive Modeling Software and AI-Driven Forecasting",
          "Quantum and Advanced Computational Sciences >> Predictive Modeling Software and AI-Driven Forecasting",
          "Quantum and Advanced Computational Sciences >> Predictive Modeling Software and AI-Driven Forecasting",
          "Quantum and Advanced Computational Sciences",
          "Quantum and Advanced Computational Sciences >> Data-Driven Biological Inference and Systems Biology",
          "Quantum and Advanced Computational Sciences >> Data-Driven Biological Inference and Systems Biology",
          "Quantum and Advanced Computational Sciences >> Data-Driven Biological Inference and Systems Biology",
          "Quantum and Advanced Computational Sciences >> Data-Driven Biological Inference and Systems Biology",
          "Quantum and Advanced Computational Sciences >> Data-Driven Biological Inference and Systems Biology",
          "Quantum and Advanced Computational Sciences >> Data-Driven Biological Inference and Systems Biology",
          "Quantum and Advanced Computational Sciences >> Data-Driven Biological Inference and Systems Biology",
          "Quantum and Advanced Computational Sciences >> Data-Driven Biological Inference and Systems Biology",
          "Quantum and Advanced Computational Sciences >> Data-Driven Biological Inference and Systems Biology",
          "Quantum and Advanced Computational Sciences >> Data-Driven Biological Inference and Systems Biology",
          "Quantum and Advanced Computational Sciences",
          "Quantum and Advanced Computational Sciences >> Global Physics Collaborations and Open Science",
          "Quantum and Advanced Computational Sciences >> Global Physics Collaborations and Open Science",
          "Quantum and Advanced Computational Sciences >> Global Physics Collaborations and Open Science",
          "Quantum and Advanced Computational Sciences >> Global Physics Collaborations and Open Science",
          "Quantum and Advanced Computational Sciences >> Global Physics Collaborations and Open Science",
          "Quantum and Advanced Computational Sciences >> Global Physics Collaborations and Open Science",
          "Quantum and Advanced Computational Sciences >> Global Physics Collaborations and Open Science",
          "Quantum and Advanced Computational Sciences >> Global Physics Collaborations and Open Science",
          "Quantum and Advanced Computational Sciences >> Global Physics Collaborations and Open Science",
          "Quantum and Advanced Computational Sciences >> Global Physics Collaborations and Open Science",
          "",
          "Social, Economic, and Policy Innovation",
          "Social, Economic, and Policy Innovation >> Job Market Design and Economic Inclusion",
          "Social, Economic, and Policy Innovation >> Job Market Design and Economic Inclusion",
          "Social, Economic, and Policy Innovation >> Job Market Design and Economic Inclusion",
          "Social, Economic, and Policy Innovation >> Job Market Design and Economic Inclusion",
          "Social, Economic, and Policy Innovation >> Job Market Design and Economic Inclusion",
          "Social, Economic, and Policy Innovation >> Job Market Design and Economic Inclusion",
          "Social, Economic, and Policy Innovation >> Job Market Design and Economic Inclusion",
          "Social, Economic, and Policy Innovation >> Job Market Design and Economic Inclusion",
          "Social, Economic, and Policy Innovation >> Job Market Design and Economic Inclusion",
          "Social, Economic, and Policy Innovation >> Job Market Design and Economic Inclusion",
          "Social, Economic, and Policy Innovation >> Job Market Design and Economic Inclusion",
          "Social, Economic, and Policy Innovation",
          "Social, Economic, and Policy Innovation >> Women in Work and Gender Equity",
          "Social, Economic, and Policy Innovation >> Women in Work and Gender Equity",
          "Social, Economic, and Policy Innovation >> Women in Work and Gender Equity",
          "Social, Economic, and Policy Innovation >> Women in Work and Gender Equity",
          "Social, Economic, and Policy Innovation >> Women in Work and Gender Equity",
          "Social, Economic, and Policy Innovation >> Women in Work and Gender Equity",
          "Social, Economic, and Policy Innovation >> Women in Work and Gender Equity",
          "Social, Economic, and Policy Innovation >> Women in Work and Gender Equity",
          "Social, Economic, and Policy Innovation >> Women in Work and Gender Equity",
          "Social, Economic, and Policy Innovation >> Women in Work and Gender Equity",
          "Social, Economic, and Policy Innovation",
          "Social, Economic, and Policy Innovation >> Residential Equity and Housing Policy",
          "Social, Economic, and Policy Innovation >> Residential Equity and Housing Policy",
          "Social, Economic, and Policy Innovation >> Residential Equity and Housing Policy",
          "Social, Economic, and Policy Innovation >> Residential Equity and Housing Policy",
          "Social, Economic, and Policy Innovation >> Residential Equity and Housing Policy",
          "Social, Economic, and Policy Innovation >> Residential Equity and Housing Policy",
          "Social, Economic, and Policy Innovation >> Residential Equity and Housing Policy",
          "Social, Economic, and Policy Innovation >> Residential Equity and Housing Policy",
          "Social, Economic, and Policy Innovation >> Residential Equity and Housing Policy",
          "Social, Economic, and Policy Innovation >> Residential Equity and Housing Policy",
          "Social, Economic, and Policy Innovation",
          "Social, Economic, and Policy Innovation >> Social Welfare Reforms and Equity Policy",
          "Social, Economic, and Policy Innovation >> Social Welfare Reforms and Equity Policy",
          "Social, Economic, and Policy Innovation >> Social Welfare Reforms and Equity Policy",
          "Social, Economic, and Policy Innovation >> Social Welfare Reforms and Equity Policy",
          "Social, Economic, and Policy Innovation >> Social Welfare Reforms and Equity Policy",
          "Social, Economic, and Policy Innovation >> Social Welfare Reforms and Equity Policy",
          "Social, Economic, and Policy Innovation >> Social Welfare Reforms and Equity Policy",
          "Social, Economic, and Policy Innovation >> Social Welfare Reforms and Equity Policy",
          "Social, Economic, and Policy Innovation >> Social Welfare Reforms and Equity Policy",
          "Social, Economic, and Policy Innovation >> Social Welfare Reforms and Equity Policy",
          "Social, Economic, and Policy Innovation",
          "Social, Economic, and Policy Innovation >> Economic Co-Benefits and Sustainable Development",
          "Social, Economic, and Policy Innovation >> Economic Co-Benefits and Sustainable Development",
          "Social, Economic, and Policy Innovation >> Economic Co-Benefits and Sustainable Development",
          "Social, Economic, and Policy Innovation >> Economic Co-Benefits and Sustainable Development",
          "Social, Economic, and Policy Innovation >> Economic Co-Benefits and Sustainable Development",
          "Social, Economic, and Policy Innovation >> Economic Co-Benefits and Sustainable Development",
          "Social, Economic, and Policy Innovation >> Economic Co-Benefits and Sustainable Development",
          "Social, Economic, and Policy Innovation >> Economic Co-Benefits and Sustainable Development",
          "Social, Economic, and Policy Innovation >> Economic Co-Benefits and Sustainable Development",
          "Social, Economic, and Policy Innovation >> Economic Co-Benefits and Sustainable Development",
          "Social, Economic, and Policy Innovation",
          "Social, Economic, and Policy Innovation >> Economic Theory Application and Policy Design",
          "Social, Economic, and Policy Innovation >> Economic Theory Application and Policy Design",
          "Social, Economic, and Policy Innovation >> Economic Theory Application and Policy Design",
          "Social, Economic, and Policy Innovation >> Economic Theory Application and Policy Design",
          "Social, Economic, and Policy Innovation >> Economic Theory Application and Policy Design",
          "Social, Economic, and Policy Innovation >> Economic Theory Application and Policy Design",
          "Social, Economic, and Policy Innovation >> Economic Theory Application and Policy Design",
          "Social, Economic, and Policy Innovation >> Economic Theory Application and Policy Design",
          "Social, Economic, and Policy Innovation >> Economic Theory Application and Policy Design",
          "Social, Economic, and Policy Innovation >> Economic Theory Application and Policy Design",
          "Social, Economic, and Policy Innovation",
          "Social, Economic, and Policy Innovation >> Policy Scenario Analysis and Strategic Planning",
          "Social, Economic, and Policy Innovation >> Policy Scenario Analysis and Strategic Planning",
          "Social, Economic, and Policy Innovation >> Policy Scenario Analysis and Strategic Planning",
          "Social, Economic, and Policy Innovation >> Policy Scenario Analysis and Strategic Planning",
          "Social, Economic, and Policy Innovation >> Policy Scenario Analysis and Strategic Planning",
          "Social, Economic, and Policy Innovation >> Policy Scenario Analysis and Strategic Planning",
          "Social, Economic, and Policy Innovation >> Policy Scenario Analysis and Strategic Planning",
          "Social, Economic, and Policy Innovation >> Policy Scenario Analysis and Strategic Planning",
          "Social, Economic, and Policy Innovation >> Policy Scenario Analysis and Strategic Planning",
          "Social, Economic, and Policy Innovation >> Policy Scenario Analysis and Strategic Planning",
          "Social, Economic, and Policy Innovation",
          "Social, Economic, and Policy Innovation >> National Interests and Geopolitical Strategy",
          "Social, Economic, and Policy Innovation >> National Interests and Geopolitical Strategy",
          "Social, Economic, and Policy Innovation >> National Interests and Geopolitical Strategy",
          "Social, Economic, and Policy Innovation >> National Interests and Geopolitical Strategy",
          "Social, Economic, and Policy Innovation >> National Interests and Geopolitical Strategy",
          "Social, Economic, and Policy Innovation >> National Interests and Geopolitical Strategy",
          "Social, Economic, and Policy Innovation >> National Interests and Geopolitical Strategy",
          "Social, Economic, and Policy Innovation >> National Interests and Geopolitical Strategy",
          "Social, Economic, and Policy Innovation >> National Interests and Geopolitical Strategy",
          "Social, Economic, and Policy Innovation >> National Interests and Geopolitical Strategy",
          "Social, Economic, and Policy Innovation",
          "Social, Economic, and Policy Innovation >> Democratic Fragility and Political Resilience",
          "Social, Economic, and Policy Innovation >> Democratic Fragility and Political Resilience",
          "Social, Economic, and Policy Innovation >> Democratic Fragility and Political Resilience",
          "Social, Economic, and Policy Innovation >> Democratic Fragility and Political Resilience",
          "Social, Economic, and Policy Innovation >> Democratic Fragility and Political Resilience",
          "Social, Economic, and Policy Innovation >> Democratic Fragility and Political Resilience",
          "Social, Economic, and Policy Innovation >> Democratic Fragility and Political Resilience",
          "Social, Economic, and Policy Innovation >> Democratic Fragility and Political Resilience",
          "Social, Economic, and Policy Innovation >> Democratic Fragility and Political Resilience",
          "Social, Economic, and Policy Innovation >> Democratic Fragility and Political Resilience",
          "Social, Economic, and Policy Innovation",
          "Social, Economic, and Policy Innovation >> Culturally Appropriate Methodology and Indigenous Research",
          "Social, Economic, and Policy Innovation >> Culturally Appropriate Methodology and Indigenous Research",
          "Social, Economic, and Policy Innovation >> Culturally Appropriate Methodology and Indigenous Research",
          "Social, Economic, and Policy Innovation >> Culturally Appropriate Methodology and Indigenous Research",
          "Social, Economic, and Policy Innovation >> Culturally Appropriate Methodology and Indigenous Research",
          "Social, Economic, and Policy Innovation >> Culturally Appropriate Methodology and Indigenous Research",
          "Social, Economic, and Policy Innovation >> Culturally Appropriate Methodology and Indigenous Research",
          "Social, Economic, and Policy Innovation >> Culturally Appropriate Methodology and Indigenous Research",
          "Social, Economic, and Policy Innovation >> Culturally Appropriate Methodology and Indigenous Research",
          "Social, Economic, and Policy Innovation >> Culturally Appropriate Methodology and Indigenous Research",
          "Social, Economic, and Policy Innovation",
          "Social, Economic, and Policy Innovation >> Living Evidence and Community-Based Knowledge",
          "Social, Economic, and Policy Innovation >> Living Evidence and Community-Based Knowledge",
          "Social, Economic, and Policy Innovation >> Living Evidence and Community-Based Knowledge",
          "Social, Economic, and Policy Innovation >> Living Evidence and Community-Based Knowledge",
          "Social, Economic, and Policy Innovation >> Living Evidence and Community-Based Knowledge",
          "Social, Economic, and Policy Innovation >> Living Evidence and Community-Based Knowledge",
          "Social, Economic, and Policy Innovation >> Living Evidence and Community-Based Knowledge",
          "Social, Economic, and Policy Innovation >> Living Evidence and Community-Based Knowledge",
          "Social, Economic, and Policy Innovation >> Living Evidence and Community-Based Knowledge",
          "Social, Economic, and Policy Innovation >> Living Evidence and Community-Based Knowledge",
          "",
          "Agricultural and Food Systems Innovation",
          "Agricultural and Food Systems Innovation >> Drought-Resistant Crops and Agricultural Resilience",
          "Agricultural and Food Systems Innovation >> Drought-Resistant Crops and Agricultural Resilience",
          "Agricultural and Food Systems Innovation >> Drought-Resistant Crops and Agricultural Resilience",
          "Agricultural and Food Systems Innovation >> Drought-Resistant Crops and Agricultural Resilience",
          "Agricultural and Food Systems Innovation >> Drought-Resistant Crops and Agricultural Resilience",
          "Agricultural and Food Systems Innovation >> Drought-Resistant Crops and Agricultural Resilience",
          "Agricultural and Food Systems Innovation >> Drought-Resistant Crops and Agricultural Resilience",
          "Agricultural and Food Systems Innovation >> Drought-Resistant Crops and Agricultural Resilience",
          "Agricultural and Food Systems Innovation >> Drought-Resistant Crops and Agricultural Resilience",
          "Agricultural and Food Systems Innovation >> Drought-Resistant Crops and Agricultural Resilience",
          "Agricultural and Food Systems Innovation",
          "Agricultural and Food Systems Innovation >> Crop Yield Maximisation and Agricultural Productivity",
          "Agricultural and Food Systems Innovation >> Crop Yield Maximisation and Agricultural Productivity",
          "Agricultural and Food Systems Innovation >> Crop Yield Maximisation and Agricultural Productivity",
          "Agricultural and Food Systems Innovation >> Crop Yield Maximisation and Agricultural Productivity",
          "Agricultural and Food Systems Innovation >> Crop Yield Maximisation and Agricultural Productivity",
          "Agricultural and Food Systems Innovation >> Crop Yield Maximisation and Agricultural Productivity",
          "Agricultural and Food Systems Innovation >> Crop Yield Maximisation and Agricultural Productivity",
          "Agricultural and Food Systems Innovation >> Crop Yield Maximisation and Agricultural Productivity",
          "Agricultural and Food Systems Innovation >> Crop Yield Maximisation and Agricultural Productivity",
          "Agricultural and Food Systems Innovation >> Crop Yield Maximisation and Agricultural Productivity",
          "Agricultural and Food Systems Innovation",
          "Agricultural and Food Systems Innovation >> Biological Feed Development and Sustainable Nutrition",
          "Agricultural and Food Systems Innovation >> Biological Feed Development and Sustainable Nutrition",
          "Agricultural and Food Systems Innovation >> Biological Feed Development and Sustainable Nutrition",
          "Agricultural and Food Systems Innovation >> Biological Feed Development and Sustainable Nutrition",
          "Agricultural and Food Systems Innovation >> Biological Feed Development and Sustainable Nutrition",
          "Agricultural and Food Systems Innovation >> Biological Feed Development and Sustainable Nutrition",
          "Agricultural and Food Systems Innovation >> Biological Feed Development and Sustainable Nutrition",
          "Agricultural and Food Systems Innovation >> Biological Feed Development and Sustainable Nutrition",
          "Agricultural and Food Systems Innovation >> Biological Feed Development and Sustainable Nutrition",
          "Agricultural and Food Systems Innovation >> Biological Feed Development and Sustainable Nutrition",
          "Agricultural and Food Systems Innovation >> Biological Feed Development and Sustainable Nutrition",
          "Agricultural and Food Systems Innovation",
          "Agricultural and Food Systems Innovation >> Fishing as a Public Health Intervention",
          "Agricultural and Food Systems Innovation >> Fishing as a Public Health Intervention",
          "Agricultural and Food Systems Innovation >> Fishing as a Public Health Intervention",
          "Agricultural and Food Systems Innovation >> Fishing as a Public Health Intervention",
          "Agricultural and Food Systems Innovation >> Fishing as a Public Health Intervention",
          "Agricultural and Food Systems Innovation >> Fishing as a Public Health Intervention",
          "Agricultural and Food Systems Innovation >> Fishing as a Public Health Intervention",
          "Agricultural and Food Systems Innovation >> Fishing as a Public Health Intervention",
          "Agricultural and Food Systems Innovation >> Fishing as a Public Health Intervention",
          "Agricultural and Food Systems Innovation >> Fishing as a Public Health Intervention",
          "Agricultural and Food Systems Innovation",
          "Agricultural and Food Systems Innovation >> Fish Market Safety and Food Quality Assurance",
          "Agricultural and Food Systems Innovation >> Fish Market Safety and Food Quality Assurance",
          "Agricultural and Food Systems Innovation >> Fish Market Safety and Food Quality Assurance",
          "Agricultural and Food Systems Innovation >> Fish Market Safety and Food Quality Assurance",
          "Agricultural and Food Systems Innovation >> Fish Market Safety and Food Quality Assurance",
          "Agricultural and Food Systems Innovation >> Fish Market Safety and Food Quality Assurance",
          "Agricultural and Food Systems Innovation >> Fish Market Safety and Food Quality Assurance",
          "Agricultural and Food Systems Innovation >> Fish Market Safety and Food Quality Assurance",
          "Agricultural and Food Systems Innovation >> Fish Market Safety and Food Quality Assurance",
          "Agricultural and Food Systems Innovation >> Fish Market Safety and Food Quality Assurance",
          "Agricultural and Food Systems Innovation",
          "Agricultural and Food Systems Innovation >> Taste and Odour Control in Water and Food",
          "Agricultural and Food Systems Innovation >> Taste and Odour Control in Water and Food",
          "Agricultural and Food Systems Innovation >> Taste and Odour Control in Water and Food",
          "Agricultural and Food Systems Innovation >> Taste and Odour Control in Water and Food",
          "Agricultural and Food Systems Innovation >> Taste and Odour Control in Water and Food",
          "Agricultural and Food Systems Innovation >> Taste and Odour Control in Water and Food",
          "Agricultural and Food Systems Innovation >> Taste and Odour Control in Water and Food",
          "Agricultural and Food Systems Innovation >> Taste and Odour Control in Water and Food",
          "Agricultural and Food Systems Innovation >> Taste and Odour Control in Water and Food",
          "Agricultural and Food Systems Innovation >> Taste and Odour Control in Water and Food",
          "",
          "Human-Centered Technologies and Interaction",
          "Human-Centered Technologies and Interaction >> Perceptual Evaluation and Human-Computer Interaction",
          "Human-Centered Technologies and Interaction >> Perceptual Evaluation and Human-Computer Interaction",
          "Human-Centered Technologies and Interaction >> Perceptual Evaluation and Human-Computer Interaction",
          "Human-Centered Technologies and Interaction >> Perceptual Evaluation and Human-Computer Interaction",
          "Human-Centered Technologies and Interaction >> Perceptual Evaluation and Human-Computer Interaction",
          "Human-Centered Technologies and Interaction >> Perceptual Evaluation and Human-Computer Interaction",
          "Human-Centered Technologies and Interaction >> Perceptual Evaluation and Human-Computer Interaction",
          "Human-Centered Technologies and Interaction >> Perceptual Evaluation and Human-Computer Interaction",
          "Human-Centered Technologies and Interaction >> Perceptual Evaluation and Human-Computer Interaction",
          "Human-Centered Technologies and Interaction >> Perceptual Evaluation and Human-Computer Interaction",
          "Human-Centered Technologies and Interaction",
          "Human-Centered Technologies and Interaction >> Visual Attention and Cognitive Processing",
          "Human-Centered Technologies and Interaction >> Visual Attention and Cognitive Processing",
          "Human-Centered Technologies and Interaction >> Visual Attention and Cognitive Processing",
          "Human-Centered Technologies and Interaction >> Visual Attention and Cognitive Processing",
          "Human-Centered Technologies and Interaction >> Visual Attention and Cognitive Processing",
          "Human-Centered Technologies and Interaction >> Visual Attention and Cognitive Processing",
          "Human-Centered Technologies and Interaction >> Visual Attention and Cognitive Processing",
          "Human-Centered Technologies and Interaction >> Visual Attention and Cognitive Processing",
          "Human-Centered Technologies and Interaction >> Visual Attention and Cognitive Processing",
          "Human-Centered Technologies and Interaction >> Visual Attention and Cognitive Processing",
          "Human-Centered Technologies and Interaction",
          "Human-Centered Technologies and Interaction >> Operator Performance and Human Factors",
          "Human-Centered Technologies and Interaction >> Operator Performance and Human Factors",
          "Human-Centered Technologies and Interaction >> Operator Performance and Human Factors",
          "Human-Centered Technologies and Interaction >> Operator Performance and Human Factors",
          "Human-Centered Technologies and Interaction >> Operator Performance and Human Factors",
          "Human-Centered Technologies and Interaction >> Operator Performance and Human Factors",
          "Human-Centered Technologies and Interaction >> Operator Performance and Human Factors",
          "Human-Centered Technologies and Interaction >> Operator Performance and Human Factors",
          "Human-Centered Technologies and Interaction >> Operator Performance and Human Factors",
          "Human-Centered Technologies and Interaction >> Operator Performance and Human Factors",
          "Human-Centered Technologies and Interaction",
          "Human-Centered Technologies and Interaction >> Interactive Data Dashboards and Visualization",
          "Human-Centered Technologies and Interaction >> Interactive Data Dashboards and Visualization",
          "Human-Centered Technologies and Interaction >> Interactive Data Dashboards and Visualization",
          "Human-Centered Technologies and Interaction >> Interactive Data Dashboards and Visualization",
          "Human-Centered Technologies and Interaction >> Interactive Data Dashboards and Visualization",
          "Human-Centered Technologies and Interaction >> Interactive Data Dashboards and Visualization",
          "Human-Centered Technologies and Interaction >> Interactive Data Dashboards and Visualization",
          "Human-Centered Technologies and Interaction >> Interactive Data Dashboards and Visualization",
          "Human-Centered Technologies and Interaction >> Interactive Data Dashboards and Visualization",
          "Human-Centered Technologies and Interaction >> Interactive Data Dashboards and Visualization",
          "Human-Centered Technologies and Interaction",
          "Human-Centered Technologies and Interaction >> Wireless System Architecture and Communication Networks",
          "Human-Centered Technologies and Interaction >> Wireless System Architecture and Communication Networks",
          "Human-Centered Technologies and Interaction >> Wireless System Architecture and Communication Networks",
          "Human-Centered Technologies and Interaction >> Wireless System Architecture and Communication Networks",
          "Human-Centered Technologies and Interaction >> Wireless System Architecture and Communication Networks",
          "Human-Centered Technologies and Interaction >> Wireless System Architecture and Communication Networks",
          "Human-Centered Technologies and Interaction >> Wireless System Architecture and Communication Networks",
          "Human-Centered Technologies and Interaction >> Wireless System Architecture and Communication Networks",
          "Human-Centered Technologies and Interaction >> Wireless System Architecture and Communication Networks",
          "Human-Centered Technologies and Interaction >> Wireless System Architecture and Communication Networks",
          "Human-Centered Technologies and Interaction",
          "Human-Centered Technologies and Interaction >> Event Invitations and Social Interaction Dynamics",
          "Human-Centered Technologies and Interaction >> Event Invitations and Social Interaction Dynamics",
          "Human-Centered Technologies and Interaction >> Event Invitations and Social Interaction Dynamics",
          "Human-Centered Technologies and Interaction >> Event Invitations and Social Interaction Dynamics",
          "Human-Centered Technologies and Interaction >> Event Invitations and Social Interaction Dynamics",
          "Human-Centered Technologies and Interaction >> Event Invitations and Social Interaction Dynamics",
          "Human-Centered Technologies and Interaction >> Event Invitations and Social Interaction Dynamics",
          "Human-Centered Technologies and Interaction >> Event Invitations and Social Interaction Dynamics",
          "Human-Centered Technologies and Interaction >> Event Invitations and Social Interaction Dynamics",
          "Human-Centered Technologies and Interaction >> Event Invitations and Social Interaction Dynamics",
          "Human-Centered Technologies and Interaction",
          "Human-Centered Technologies and Interaction >> Gaming Industries and Human-Computer Interaction",
          "Human-Centered Technologies and Interaction >> Gaming Industries and Human-Computer Interaction",
          "Human-Centered Technologies and Interaction >> Gaming Industries and Human-Computer Interaction",
          "Human-Centered Technologies and Interaction >> Gaming Industries and Human-Computer Interaction",
          "Human-Centered Technologies and Interaction >> Gaming Industries and Human-Computer Interaction",
          "Human-Centered Technologies and Interaction >> Gaming Industries and Human-Computer Interaction",
          "Human-Centered Technologies and Interaction >> Gaming Industries and Human-Computer Interaction",
          "Human-Centered Technologies and Interaction >> Gaming Industries and Human-Computer Interaction",
          "Human-Centered Technologies and Interaction >> Gaming Industries and Human-Computer Interaction",
          "Human-Centered Technologies and Interaction >> Gaming Industries and Human-Computer Interaction",
          "",
          "Ecological and Environmental Restoration",
          "Ecological and Environmental Restoration >> Trophic Reconstruction and Ecosystem Dynamics",
          "Ecological and Environmental Restoration >> Trophic Reconstruction and Ecosystem Dynamics",
          "Ecological and Environmental Restoration >> Trophic Reconstruction and Ecosystem Dynamics",
          "Ecological and Environmental Restoration >> Trophic Reconstruction and Ecosystem Dynamics",
          "Ecological and Environmental Restoration >> Trophic Reconstruction and Ecosystem Dynamics",
          "Ecological and Environmental Restoration >> Trophic Reconstruction and Ecosystem Dynamics",
          "Ecological and Environmental Restoration >> Trophic Reconstruction and Ecosystem Dynamics",
          "Ecological and Environmental Restoration >> Trophic Reconstruction and Ecosystem Dynamics",
          "Ecological and Environmental Restoration >> Trophic Reconstruction and Ecosystem Dynamics",
          "Ecological and Environmental Restoration >> Trophic Reconstruction and Ecosystem Dynamics",
          "Ecological and Environmental Restoration",
          "Ecological and Environmental Restoration >> Lake Condition Trends and Ecosystem Monitoring",
          "Ecological and Environmental Restoration >> Lake Condition Trends and Ecosystem Monitoring",
          "Ecological and Environmental Restoration >> Lake Condition Trends and Ecosystem Monitoring",
          "Ecological and Environmental Restoration >> Lake Condition Trends and Ecosystem Monitoring",
          "Ecological and Environmental Restoration >> Lake Condition Trends and Ecosystem Monitoring",
          "Ecological and Environmental Restoration >> Lake Condition Trends and Ecosystem Monitoring",
          "Ecological and Environmental Restoration >> Lake Condition Trends and Ecosystem Monitoring",
          "Ecological and Environmental Restoration >> Lake Condition Trends and Ecosystem Monitoring",
          "Ecological and Environmental Restoration >> Lake Condition Trends and Ecosystem Monitoring",
          "Ecological and Environmental Restoration >> Lake Condition Trends and Ecosystem Monitoring",
          "Ecological and Environmental Restoration",
          "Ecological and Environmental Restoration >> Wildlife Disease Management and Zoonotic Risk",
          "Ecological and Environmental Restoration >> Wildlife Disease Management and Zoonotic Risk",
          "Ecological and Environmental Restoration >> Wildlife Disease Management and Zoonotic Risk",
          "Ecological and Environmental Restoration >> Wildlife Disease Management and Zoonotic Risk",
          "Ecological and Environmental Restoration >> Wildlife Disease Management and Zoonotic Risk",
          "Ecological and Environmental Restoration >> Wildlife Disease Management and Zoonotic Risk",
          "Ecological and Environmental Restoration >> Wildlife Disease Management and Zoonotic Risk",
          "Ecological and Environmental Restoration >> Wildlife Disease Management and Zoonotic Risk",
          "Ecological and Environmental Restoration >> Wildlife Disease Management and Zoonotic Risk",
          "Ecological and Environmental Restoration >> Wildlife Disease Management and Zoonotic Risk",
          "Ecological and Environmental Restoration",
          "Ecological and Environmental Restoration >> Fossil Site Survey and Paleoenvironmental Reconstruction",
          "Ecological and Environmental Restoration >> Fossil Site Survey and Paleoenvironmental Reconstruction",
          "Ecological and Environmental Restoration >> Fossil Site Survey and Paleoenvironmental Reconstruction",
          "Ecological and Environmental Restoration >> Fossil Site Survey and Paleoenvironmental Reconstruction",
          "Ecological and Environmental Restoration >> Fossil Site Survey and Paleoenvironmental Reconstruction",
          "Ecological and Environmental Restoration >> Fossil Site Survey and Paleoenvironmental Reconstruction",
          "Ecological and Environmental Restoration >> Fossil Site Survey and Paleoenvironmental Reconstruction",
          "Ecological and Environmental Restoration >> Fossil Site Survey and Paleoenvironmental Reconstruction",
          "Ecological and Environmental Restoration >> Fossil Site Survey and Paleoenvironmental Reconstruction",
          "Ecological and Environmental Restoration >> Fossil Site Survey and Paleoenvironmental Reconstruction",
          "Ecological and Environmental Restoration",
          "Ecological and Environmental Restoration >> Plant Sensing and Environmental Monitoring",
          "Ecological and Environmental Restoration >> Plant Sensing and Environmental Monitoring",
          "Ecological and Environmental Restoration >> Plant Sensing and Environmental Monitoring",
          "Ecological and Environmental Restoration >> Plant Sensing and Environmental Monitoring",
          "Ecological and Environmental Restoration >> Plant Sensing and Environmental Monitoring",
          "Ecological and Environmental Restoration >> Plant Sensing and Environmental Monitoring",
          "Ecological and Environmental Restoration >> Plant Sensing and Environmental Monitoring",
          "Ecological and Environmental Restoration >> Plant Sensing and Environmental Monitoring",
          "Ecological and Environmental Restoration >> Plant Sensing and Environmental Monitoring",
          "Ecological and Environmental Restoration >> Plant Sensing and Environmental Monitoring",
          "Ecological and Environmental Restoration >> Plant Sensing and Environmental Monitoring",
          "Ecological and Environmental Restoration",
          "Ecological and Environmental Restoration >> Groundwater Contamination and Remediation",
          "Ecological and Environmental Restoration >> Groundwater Contamination and Remediation",
          "Ecological and Environmental Restoration >> Groundwater Contamination and Remediation",
          "Ecological and Environmental Restoration >> Groundwater Contamination and Remediation",
          "Ecological and Environmental Restoration >> Groundwater Contamination and Remediation",
          "Ecological and Environmental Restoration >> Groundwater Contamination and Remediation",
          "Ecological and Environmental Restoration >> Groundwater Contamination and Remediation",
          "Ecological and Environmental Restoration >> Groundwater Contamination and Remediation",
          "Ecological and Environmental Restoration >> Groundwater Contamination and Remediation",
          "Ecological and Environmental Restoration >> Groundwater Contamination and Remediation",
          "Ecological and Environmental Restoration",
          "Ecological and Environmental Restoration >> Sludge Reduction and Waste Management",
          "Ecological and Environmental Restoration >> Sludge Reduction and Waste Management",
          "Ecological and Environmental Restoration >> Sludge Reduction and Waste Management",
          "Ecological and Environmental Restoration >> Sludge Reduction and Waste Management",
          "Ecological and Environmental Restoration >> Sludge Reduction and Waste Management",
          "Ecological and Environmental Restoration >> Sludge Reduction and Waste Management",
          "Ecological and Environmental Restoration >> Sludge Reduction and Waste Management",
          "Ecological and Environmental Restoration >> Sludge Reduction and Waste Management",
          "Ecological and Environmental Restoration >> Sludge Reduction and Waste Management",
          "Ecological and Environmental Restoration >> Sludge Reduction and Waste Management",
          "",
          "Research Methodologies and Scientific Practice",
          "Research Methodologies and Scientific Practice >> Lab-Based Assays and Experimental Validation",
          "Research Methodologies and Scientific Practice >> Lab-Based Assays and Experimental Validation",
          "Research Methodologies and Scientific Practice >> Lab-Based Assays and Experimental Validation",
          "Research Methodologies and Scientific Practice >> Lab-Based Assays and Experimental Validation",
          "Research Methodologies and Scientific Practice >> Lab-Based Assays and Experimental Validation",
          "Research Methodologies and Scientific Practice >> Lab-Based Assays and Experimental Validation",
          "Research Methodologies and Scientific Practice >> Lab-Based Assays and Experimental Validation",
          "Research Methodologies and Scientific Practice >> Lab-Based Assays and Experimental Validation",
          "Research Methodologies and Scientific Practice >> Lab-Based Assays and Experimental Validation",
          "Research Methodologies and Scientific Practice >> Lab-Based Assays and Experimental Validation",
          "Research Methodologies and Scientific Practice",
          "Research Methodologies and Scientific Practice >> Reference Material Development and Calibration",
          "Research Methodologies and Scientific Practice >> Reference Material Development and Calibration",
          "Research Methodologies and Scientific Practice >> Reference Material Development and Calibration",
          "Research Methodologies and Scientific Practice >> Reference Material Development and Calibration",
          "Research Methodologies and Scientific Practice >> Reference Material Development and Calibration",
          "Research Methodologies and Scientific Practice >> Reference Material Development and Calibration",
          "Research Methodologies and Scientific Practice >> Reference Material Development and Calibration",
          "Research Methodologies and Scientific Practice >> Reference Material Development and Calibration",
          "Research Methodologies and Scientific Practice >> Reference Material Development and Calibration",
          "Research Methodologies and Scientific Practice >> Reference Material Development and Calibration",
          "Research Methodologies and Scientific Practice",
          "Research Methodologies and Scientific Practice >> Crowdsourced Annotation and Citizen Science",
          "Research Methodologies and Scientific Practice >> Crowdsourced Annotation and Citizen Science",
          "Research Methodologies and Scientific Practice >> Crowdsourced Annotation and Citizen Science",
          "Research Methodologies and Scientific Practice >> Crowdsourced Annotation and Citizen Science",
          "Research Methodologies and Scientific Practice >> Crowdsourced Annotation and Citizen Science",
          "Research Methodologies and Scientific Practice >> Crowdsourced Annotation and Citizen Science",
          "Research Methodologies and Scientific Practice >> Crowdsourced Annotation and Citizen Science",
          "Research Methodologies and Scientific Practice >> Crowdsourced Annotation and Citizen Science",
          "Research Methodologies and Scientific Practice >> Crowdsourced Annotation and Citizen Science",
          "Research Methodologies and Scientific Practice >> Crowdsourced Annotation and Citizen Science",
          "Research Methodologies and Scientific Practice",
          "Research Methodologies and Scientific Practice >> Open Platform and Interoperable Frameworks",
          "Research Methodologies and Scientific Practice >> Open Platform and Interoperable Frameworks",
          "Research Methodologies and Scientific Practice >> Open Platform and Interoperable Frameworks",
          "Research Methodologies and Scientific Practice >> Open Platform and Interoperable Frameworks",
          "Research Methodologies and Scientific Practice >> Open Platform and Interoperable Frameworks",
          "Research Methodologies and Scientific Practice >> Open Platform and Interoperable Frameworks",
          "Research Methodologies and Scientific Practice >> Open Platform and Interoperable Frameworks",
          "Research Methodologies and Scientific Practice >> Open Platform and Interoperable Frameworks",
          "Research Methodologies and Scientific Practice >> Open Platform and Interoperable Frameworks",
          "Research Methodologies and Scientific Practice >> Open Platform and Interoperable Frameworks",
          "Research Methodologies and Scientific Practice",
          "Research Methodologies and Scientific Practice >> Multi-Analytical Archaeological Approach",
          "Research Methodologies and Scientific Practice >> Multi-Analytical Archaeological Approach",
          "Research Methodologies and Scientific Practice >> Multi-Analytical Archaeological Approach",
          "Research Methodologies and Scientific Practice >> Multi-Analytical Archaeological Approach",
          "Research Methodologies and Scientific Practice >> Multi-Analytical Archaeological Approach",
          "Research Methodologies and Scientific Practice >> Multi-Analytical Archaeological Approach",
          "Research Methodologies and Scientific Practice >> Multi-Analytical Archaeological Approach",
          "Research Methodologies and Scientific Practice >> Multi-Analytical Archaeological Approach",
          "Research Methodologies and Scientific Practice >> Multi-Analytical Archaeological Approach",
          "Research Methodologies and Scientific Practice >> Multi-Analytical Archaeological Approach",
          "Research Methodologies and Scientific Practice >> Multi-Analytical Archaeological Approach",
          "Research Methodologies and Scientific Practice >> Multi-Analytical Archaeological Approach",
          "Research Methodologies and Scientific Practice >> Multi-Analytical Archaeological Approach",
          "Research Methodologies and Scientific Practice",
          "Research Methodologies and Scientific Practice >> Archaeological Diagnostics and Digital Reconstruction",
          "Research Methodologies and Scientific Practice >> Archaeological Diagnostics and Digital Reconstruction",
          "Research Methodologies and Scientific Practice >> Archaeological Diagnostics and Digital Reconstruction",
          "Research Methodologies and Scientific Practice >> Archaeological Diagnostics and Digital Reconstruction",
          "Research Methodologies and Scientific Practice >> Archaeological Diagnostics and Digital Reconstruction",
          "Research Methodologies and Scientific Practice >> Archaeological Diagnostics and Digital Reconstruction",
          "Research Methodologies and Scientific Practice >> Archaeological Diagnostics and Digital Reconstruction",
          "Research Methodologies and Scientific Practice >> Archaeological Diagnostics and Digital Reconstruction",
          "Research Methodologies and Scientific Practice >> Archaeological Diagnostics and Digital Reconstruction",
          "Research Methodologies and Scientific Practice >> Archaeological Diagnostics and Digital Reconstruction",
          "Research Methodologies and Scientific Practice",
          "Research Methodologies and Scientific Practice >> Global Physics Collaborations and Open Science",
          "Research Methodologies and Scientific Practice >> Global Physics Collaborations and Open Science",
          "Research Methodologies and Scientific Practice >> Global Physics Collaborations and Open Science",
          "Research Methodologies and Scientific Practice >> Global Physics Collaborations and Open Science",
          "Research Methodologies and Scientific Practice >> Global Physics Collaborations and Open Science",
          "Research Methodologies and Scientific Practice >> Global Physics Collaborations and Open Science",
          "Research Methodologies and Scientific Practice >> Global Physics Collaborations and Open Science",
          "Research Methodologies and Scientific Practice >> Global Physics Collaborations and Open Science",
          "Research Methodologies and Scientific Practice >> Global Physics Collaborations and Open Science",
          "Research Methodologies and Scientific Practice >> Global Physics Collaborations and Open Science",
          "",
          "Technology Ecosystems and Innovation Dynamics",
          "Technology Ecosystems and Innovation Dynamics >> Technology Climate and Innovation Ecosystems",
          "Technology Ecosystems and Innovation Dynamics >> Technology Climate and Innovation Ecosystems",
          "Technology Ecosystems and Innovation Dynamics >> Technology Climate and Innovation Ecosystems",
          "Technology Ecosystems and Innovation Dynamics >> Technology Climate and Innovation Ecosystems",
          "Technology Ecosystems and Innovation Dynamics >> Technology Climate and Innovation Ecosystems",
          "Technology Ecosystems and Innovation Dynamics >> Technology Climate and Innovation Ecosystems",
          "Technology Ecosystems and Innovation Dynamics >> Technology Climate and Innovation Ecosystems",
          "Technology Ecosystems and Innovation Dynamics >> Technology Climate and Innovation Ecosystems",
          "Technology Ecosystems and Innovation Dynamics >> Technology Climate and Innovation Ecosystems",
          "Technology Ecosystems and Innovation Dynamics >> Technology Climate and Innovation Ecosystems",
          "Technology Ecosystems and Innovation Dynamics",
          "Technology Ecosystems and Innovation Dynamics >> Resource Management Algorithms and Optimization",
          "Technology Ecosystems and Innovation Dynamics >> Resource Management Algorithms and Optimization",
          "Technology Ecosystems and Innovation Dynamics >> Resource Management Algorithms and Optimization",
          "Technology Ecosystems and Innovation Dynamics >> Resource Management Algorithms and Optimization",
          "Technology Ecosystems and Innovation Dynamics >> Resource Management Algorithms and Optimization",
          "Technology Ecosystems and Innovation Dynamics >> Resource Management Algorithms and Optimization",
          "Technology Ecosystems and Innovation Dynamics >> Resource Management Algorithms and Optimization",
          "Technology Ecosystems and Innovation Dynamics >> Resource Management Algorithms and Optimization",
          "Technology Ecosystems and Innovation Dynamics >> Resource Management Algorithms and Optimization",
          "Technology Ecosystems and Innovation Dynamics >> Resource Management Algorithms and Optimization",
          "Technology Ecosystems and Innovation Dynamics",
          "Technology Ecosystems and Innovation Dynamics >> Communication Scheduling Analysis and Network Optimization",
          "Technology Ecosystems and Innovation Dynamics >> Communication Scheduling Analysis and Network Optimization",
          "Technology Ecosystems and Innovation Dynamics >> Communication Scheduling Analysis and Network Optimization",
          "Technology Ecosystems and Innovation Dynamics >> Communication Scheduling Analysis and Network Optimization",
          "Technology Ecosystems and Innovation Dynamics >> Communication Scheduling Analysis and Network Optimization",
          "Technology Ecosystems and Innovation Dynamics >> Communication Scheduling Analysis and Network Optimization",
          "Technology Ecosystems and Innovation Dynamics >> Communication Scheduling Analysis and Network Optimization",
          "Technology Ecosystems and Innovation Dynamics >> Communication Scheduling Analysis and Network Optimization",
          "Technology Ecosystems and Innovation Dynamics >> Communication Scheduling Analysis and Network Optimization",
          "Technology Ecosystems and Innovation Dynamics >> Communication Scheduling Analysis and Network Optimization",
          "Technology Ecosystems and Innovation Dynamics",
          "Technology Ecosystems and Innovation Dynamics >> Flow Control Techniques and Fluid Dynamics",
          "Technology Ecosystems and Innovation Dynamics >> Flow Control Techniques and Fluid Dynamics",
          "Technology Ecosystems and Innovation Dynamics >> Flow Control Techniques and Fluid Dynamics",
          "Technology Ecosystems and Innovation Dynamics >> Flow Control Techniques and Fluid Dynamics",
          "Technology Ecosystems and Innovation Dynamics >> Flow Control Techniques and Fluid Dynamics",
          "Technology Ecosystems and Innovation Dynamics >> Flow Control Techniques and Fluid Dynamics",
          "Technology Ecosystems and Innovation Dynamics >> Flow Control Techniques and Fluid Dynamics",
          "Technology Ecosystems and Innovation Dynamics >> Flow Control Techniques and Fluid Dynamics",
          "Technology Ecosystems and Innovation Dynamics >> Flow Control Techniques and Fluid Dynamics",
          "Technology Ecosystems and Innovation Dynamics >> Flow Control Techniques and Fluid Dynamics",
          "Technology Ecosystems and Innovation Dynamics",
          "Technology Ecosystems and Innovation Dynamics >> Liquidity Constraints and Financial Market Stability",
          "Technology Ecosystems and Innovation Dynamics >> Liquidity Constraints and Financial Market Stability",
          "Technology Ecosystems and Innovation Dynamics >> Liquidity Constraints and Financial Market Stability",
          "Technology Ecosystems and Innovation Dynamics >> Liquidity Constraints and Financial Market Stability",
          "Technology Ecosystems and Innovation Dynamics >> Liquidity Constraints and Financial Market Stability",
          "Technology Ecosystems and Innovation Dynamics >> Liquidity Constraints and Financial Market Stability",
          "Technology Ecosystems and Innovation Dynamics >> Liquidity Constraints and Financial Market Stability",
          "Technology Ecosystems and Innovation Dynamics >> Liquidity Constraints and Financial Market Stability",
          "Technology Ecosystems and Innovation Dynamics >> Liquidity Constraints and Financial Market Stability",
          "Technology Ecosystems and Innovation Dynamics >> Liquidity Constraints and Financial Market Stability",
          "Technology Ecosystems and Innovation Dynamics",
          "Technology Ecosystems and Innovation Dynamics >> Networked Counterpublics and Digital Activism",
          "Technology Ecosystems and Innovation Dynamics >> Networked Counterpublics and Digital Activism",
          "Technology Ecosystems and Innovation Dynamics >> Networked Counterpublics and Digital Activism",
          "Technology Ecosystems and Innovation Dynamics >> Networked Counterpublics and Digital Activism",
          "Technology Ecosystems and Innovation Dynamics >> Networked Counterpublics and Digital Activism",
          "Technology Ecosystems and Innovation Dynamics >> Networked Counterpublics and Digital Activism",
          "Technology Ecosystems and Innovation Dynamics >> Networked Counterpublics and Digital Activism",
          "Technology Ecosystems and Innovation Dynamics >> Networked Counterpublics and Digital Activism",
          "Technology Ecosystems and Innovation Dynamics >> Networked Counterpublics and Digital Activism",
          "Technology Ecosystems and Innovation Dynamics",
          "Technology Ecosystems and Innovation Dynamics >> Scalable Sensing Architectures and Sensor Networks",
          "Technology Ecosystems and Innovation Dynamics >> Scalable Sensing Architectures and Sensor Networks",
          "Technology Ecosystems and Innovation Dynamics >> Scalable Sensing Architectures and Sensor Networks",
          "Technology Ecosystems and Innovation Dynamics >> Scalable Sensing Architectures and Sensor Networks",
          "Technology Ecosystems and Innovation Dynamics >> Scalable Sensing Architectures and Sensor Networks",
          "Technology Ecosystems and Innovation Dynamics >> Scalable Sensing Architectures and Sensor Networks",
          "Technology Ecosystems and Innovation Dynamics >> Scalable Sensing Architectures and Sensor Networks",
          "Technology Ecosystems and Innovation Dynamics >> Scalable Sensing Architectures and Sensor Networks",
          "Technology Ecosystems and Innovation Dynamics >> Scalable Sensing Architectures and Sensor Networks",
          "Technology Ecosystems and Innovation Dynamics >> Scalable Sensing Architectures and Sensor Networks",
          "",
          "Indigenous and Community-Based Knowledge",
          "Indigenous and Community-Based Knowledge >> First Nations Students and Indigenous Education",
          "Indigenous and Community-Based Knowledge >> First Nations Students and Indigenous Education",
          "Indigenous and Community-Based Knowledge >> First Nations Students and Indigenous Education",
          "Indigenous and Community-Based Knowledge >> First Nations Students and Indigenous Education",
          "Indigenous and Community-Based Knowledge >> First Nations Students and Indigenous Education",
          "Indigenous and Community-Based Knowledge >> First Nations Students and Indigenous Education",
          "Indigenous and Community-Based Knowledge >> First Nations Students and Indigenous Education",
          "Indigenous and Community-Based Knowledge >> First Nations Students and Indigenous Education",
          "Indigenous and Community-Based Knowledge >> First Nations Students and Indigenous Education",
          "Indigenous and Community-Based Knowledge >> First Nations Students and Indigenous Education",
          "Indigenous and Community-Based Knowledge",
          "Indigenous and Community-Based Knowledge >> Culturally Appropriate Methodology and Indigenous Research",
          "Indigenous and Community-Based Knowledge >> Culturally Appropriate Methodology and Indigenous Research",
          "Indigenous and Community-Based Knowledge >> Culturally Appropriate Methodology and Indigenous Research",
          "Indigenous and Community-Based Knowledge >> Culturally Appropriate Methodology and Indigenous Research",
          "Indigenous and Community-Based Knowledge >> Culturally Appropriate Methodology and Indigenous Research",
          "Indigenous and Community-Based Knowledge >> Culturally Appropriate Methodology and Indigenous Research",
          "Indigenous and Community-Based Knowledge >> Culturally Appropriate Methodology and Indigenous Research",
          "Indigenous and Community-Based Knowledge >> Culturally Appropriate Methodology and Indigenous Research",
          "Indigenous and Community-Based Knowledge >> Culturally Appropriate Methodology and Indigenous Research",
          "Indigenous and Community-Based Knowledge >> Culturally Appropriate Methodology and Indigenous Research",
          "Indigenous and Community-Based Knowledge",
          "Indigenous and Community-Based Knowledge >> Living Evidence and Community-Based Knowledge",
          "Indigenous and Community-Based Knowledge >> Living Evidence and Community-Based Knowledge",
          "Indigenous and Community-Based Knowledge >> Living Evidence and Community-Based Knowledge",
          "Indigenous and Community-Based Knowledge >> Living Evidence and Community-Based Knowledge",
          "Indigenous and Community-Based Knowledge >> Living Evidence and Community-Based Knowledge",
          "Indigenous and Community-Based Knowledge >> Living Evidence and Community-Based Knowledge",
          "Indigenous and Community-Based Knowledge >> Living Evidence and Community-Based Knowledge",
          "Indigenous and Community-Based Knowledge >> Living Evidence and Community-Based Knowledge",
          "Indigenous and Community-Based Knowledge >> Living Evidence and Community-Based Knowledge",
          "Indigenous and Community-Based Knowledge >> Living Evidence and Community-Based Knowledge",
          "Indigenous and Community-Based Knowledge",
          "Indigenous and Community-Based Knowledge >> Accent-Based Discrimination and Linguistic Bias",
          "Indigenous and Community-Based Knowledge >> Accent-Based Discrimination and Linguistic Bias",
          "Indigenous and Community-Based Knowledge >> Accent-Based Discrimination and Linguistic Bias",
          "Indigenous and Community-Based Knowledge >> Accent-Based Discrimination and Linguistic Bias",
          "Indigenous and Community-Based Knowledge >> Accent-Based Discrimination and Linguistic Bias",
          "Indigenous and Community-Based Knowledge >> Accent-Based Discrimination and Linguistic Bias",
          "Indigenous and Community-Based Knowledge >> Accent-Based Discrimination and Linguistic Bias",
          "Indigenous and Community-Based Knowledge >> Accent-Based Discrimination and Linguistic Bias",
          "Indigenous and Community-Based Knowledge >> Accent-Based Discrimination and Linguistic Bias",
          "Indigenous and Community-Based Knowledge >> Accent-Based Discrimination and Linguistic Bias",
          "Indigenous and Community-Based Knowledge",
          "Indigenous and Community-Based Knowledge >> Historical Medicine and Traditional Healing",
          "Indigenous and Community-Based Knowledge >> Historical Medicine and Traditional Healing",
          "Indigenous and Community-Based Knowledge >> Historical Medicine and Traditional Healing",
          "Indigenous and Community-Based Knowledge >> Historical Medicine and Traditional Healing",
          "Indigenous and Community-Based Knowledge >> Historical Medicine and Traditional Healing",
          "Indigenous and Community-Based Knowledge >> Historical Medicine and Traditional Healing",
          "Indigenous and Community-Based Knowledge >> Historical Medicine and Traditional Healing",
          "Indigenous and Community-Based Knowledge >> Historical Medicine and Traditional Healing",
          "Indigenous and Community-Based Knowledge >> Historical Medicine and Traditional Healing",
          "Indigenous and Community-Based Knowledge >> Historical Medicine and Traditional Healing",
          "Indigenous and Community-Based Knowledge",
          "Indigenous and Community-Based Knowledge >> Historical Language Research and Linguistic Evolution",
          "Indigenous and Community-Based Knowledge >> Historical Language Research and Linguistic Evolution",
          "Indigenous and Community-Based Knowledge >> Historical Language Research and Linguistic Evolution",
          "Indigenous and Community-Based Knowledge >> Historical Language Research and Linguistic Evolution",
          "Indigenous and Community-Based Knowledge >> Historical Language Research and Linguistic Evolution",
          "Indigenous and Community-Based Knowledge >> Historical Language Research and Linguistic Evolution",
          "Indigenous and Community-Based Knowledge >> Historical Language Research and Linguistic Evolution",
          "Indigenous and Community-Based Knowledge >> Historical Language Research and Linguistic Evolution",
          "Indigenous and Community-Based Knowledge >> Historical Language Research and Linguistic Evolution",
          "Indigenous and Community-Based Knowledge >> Historical Language Research and Linguistic Evolution"
         ],
         "textfont": {
          "size": 9
         },
         "textinfo": "label",
         "textposition": "middle center",
         "type": "treemap",
         "values": {
          "bdata": "hgAOAAEAAQABAAEAAQABAAEAAQABAAEAAQABAAEAAQAKAAEAAQABAAEAAQABAAEAAQABAAEACgABAAEAAQABAAEAAQABAAEAAQABAAoAAQABAAEAAQABAAEAAQABAAEAAQAKAAEAAQABAAEAAQABAAEAAQABAAEACgABAAEAAQABAAEAAQABAAEAAQABAAoAAQABAAEAAQABAAEAAQABAAEAAQAKAAEAAQABAAEAAQABAAEAAQABAAEACgABAAEAAQABAAEAAQABAAEAAQABAAoAAQABAAEAAQABAAEAAQABAAEAAQAKAAEAAQABAAEAAQABAAEAAQABAAEACgABAAEAAQABAAEAAQABAAEAAQABAAoAAQABAAEAAQABAAEAAQABAAEAAQBbAAoAAQABAAEAAQABAAEAAQABAAEAAQAKAAEAAQABAAEAAQABAAEAAQABAAEACgABAAEAAQABAAEAAQABAAEAAQABAAsAAQABAAEAAQABAAEAAQABAAEAAQABAAoAAQABAAEAAQABAAEAAQABAAEAAQAKAAEAAQABAAEAAQABAAEAAQABAAEACgABAAEAAQABAAEAAQABAAEAAQABAAEACgABAAEAAQABAAEAAQABAAEAAQABAAoAAQABAAEAAQABAAEAAQABAAEAAQBvAAsAAQABAAEAAQABAAEAAQABAAEAAQABAAoAAQABAAEAAQABAAEAAQABAAEAAQAKAAEAAQABAAEAAQABAAEAAQABAAEACgABAAEAAQABAAEAAQABAAEAAQABAAoAAQABAAEAAQABAAEAAQABAAEAAQAKAAEAAQABAAEAAQABAAEAAQABAAEACgABAAEAAQABAAEAAQABAAEAAQABAAoAAQABAAEAAQABAAEAAQABAAEAAQAKAAEAAQABAAEAAQABAAEAAQABAAEACgABAAEAAQABAAEAAQABAAEAAQABAAoAAQABAAEAAQABAAEAAQABAAEAAQB/AAwAAQABAAEAAQABAAEAAQABAAEAAQABAAEADwABAAEAAQABAAEAAQABAAEAAQABAAEAAQABAAEAAQAKAAEAAQABAAEAAQABAAEAAQABAAEACgABAAEAAQABAAEAAQABAAEAAQABAAoAAQABAAEAAQABAAEAAQABAAEAAQAKAAEAAQABAAEAAQABAAEAAQABAAEACgABAAEAAQABAAEAAQABAAEAAQABAAoAAQABAAEAAQABAAEAAQABAAEAAQAKAAEAAQABAAEAAQABAAEAAQABAAEACgABAAEAAQABAAEAAQABAAEAAQABAAEACgABAAEAAQABAAEAAQABAAEAAQABAAoAAQABAAEAAQABAAEAAQABAAEAAQCPAAoAAQABAAEAAQABAAEAAQABAAEAAQAKAAEAAQABAAEAAQABAAEAAQABAAEACgABAAEAAQABAAEAAQABAAEAAQABAAoAAQABAAEAAQABAAEAAQABAAEAAQALAAEAAQABAAEAAQABAAEAAQABAAEAAQAKAAEAAQABAAEAAQABAAEAAQABAAEACgABAAEAAQABAAEAAQABAAEAAQABAAoAAQABAAEAAQABAAEAAQABAAEAAQAKAAEAAQABAAEAAQABAAEAAQABAAEACgABAAEAAQABAAEAAQABAAEAAQABAAsAAQABAAEAAQABAAEAAQABAAEAAQABAAoAAQABAAEAAQABAAEAAQABAAEAAQAKAAEAAQABAAEAAQABAAEAAQABAAEACwABAAEAAQABAAEAAQABAAEAAQABAAEAgAANAAEAAQABAAEAAQABAAEAAQABAAEAAQABAAEACwABAAEAAQABAAEAAQABAAEAAQABAAEACgABAAEAAQABAAEAAQABAAEAAQABAAwAAQABAAEAAQABAAEAAQABAAEAAQABAAEADQABAAEAAQABAAEAAQABAAEAAQABAAEAAQABAAoAAQABAAEAAQABAAEAAQABAAEAAQAKAAEAAQABAAEAAQABAAEAAQABAAEACgABAAEAAQABAAEAAQABAAEAAQABAAoAAQABAAEAAQABAAEAAQABAAEAAQAKAAEAAQABAAEAAQABAAEAAQABAAEACQABAAEAAQABAAEAAQABAAEAAQAKAAEAAQABAAEAAQABAAEAAQABAAEAeQASAAEAAQABAAEAAQABAAEAAQABAAEAAQABAAEAAQABAAEAAQABAAwAAQABAAEAAQABAAEAAQABAAEAAQABAAEACgABAAEAAQABAAEAAQABAAEAAQABAAoAAQABAAEAAQABAAEAAQABAAEAAQAKAAEAAQABAAEAAQABAAEAAQABAAEACwABAAEAAQABAAEAAQABAAEAAQABAAEACgABAAEAAQABAAEAAQABAAEAAQABAAoAAQABAAEAAQABAAEAAQABAAEAAQAKAAEAAQABAAEAAQABAAEAAQABAAEACgABAAEAAQABAAEAAQABAAEAAQABAAoAAQABAAEAAQABAAEAAQABAAEAAQBbAAsAAQABAAEAAQABAAEAAQABAAEAAQABAAoAAQABAAEAAQABAAEAAQABAAEAAQAKAAEAAQABAAEAAQABAAEAAQABAAEACgABAAEAAQABAAEAAQABAAEAAQABAAoAAQABAAEAAQABAAEAAQABAAEAAQAKAAEAAQABAAEAAQABAAEAAQABAAEACgABAAEAAQABAAEAAQABAAEAAQABAAoAAQABAAEAAQABAAEAAQABAAEAAQAKAAEAAQABAAEAAQABAAEAAQABAAEAUAAKAAEAAQABAAEAAQABAAEAAQABAAEACgABAAEAAQABAAEAAQABAAEAAQABAAoAAQABAAEAAQABAAEAAQABAAEAAQAKAAEAAQABAAEAAQABAAEAAQABAAEACgABAAEAAQABAAEAAQABAAEAAQABAAoAAQABAAEAAQABAAEAAQABAAEAAQAKAAEAAQABAAEAAQABAAEAAQABAAEACgABAAEAAQABAAEAAQABAAEAAQABAG8ACwABAAEAAQABAAEAAQABAAEAAQABAAEACgABAAEAAQABAAEAAQABAAEAAQABAAoAAQABAAEAAQABAAEAAQABAAEAAQAKAAEAAQABAAEAAQABAAEAAQABAAEACgABAAEAAQABAAEAAQABAAEAAQABAAoAAQABAAEAAQABAAEAAQABAAEAAQAKAAEAAQABAAEAAQABAAEAAQABAAEACgABAAEAAQABAAEAAQABAAEAAQABAAoAAQABAAEAAQABAAEAAQABAAEAAQAKAAEAAQABAAEAAQABAAEAAQABAAEACgABAAEAAQABAAEAAQABAAEAAQABAD0ACgABAAEAAQABAAEAAQABAAEAAQABAAoAAQABAAEAAQABAAEAAQABAAEAAQALAAEAAQABAAEAAQABAAEAAQABAAEAAQAKAAEAAQABAAEAAQABAAEAAQABAAEACgABAAEAAQABAAEAAQABAAEAAQABAAoAAQABAAEAAQABAAEAAQABAAEAAQBGAAoAAQABAAEAAQABAAEAAQABAAEAAQAKAAEAAQABAAEAAQABAAEAAQABAAEACgABAAEAAQABAAEAAQABAAEAAQABAAoAAQABAAEAAQABAAEAAQABAAEAAQAKAAEAAQABAAEAAQABAAEAAQABAAEACgABAAEAAQABAAEAAQABAAEAAQABAAoAAQABAAEAAQABAAEAAQABAAEAAQBHAAoAAQABAAEAAQABAAEAAQABAAEAAQAKAAEAAQABAAEAAQABAAEAAQABAAEACgABAAEAAQABAAEAAQABAAEAAQABAAoAAQABAAEAAQABAAEAAQABAAEAAQALAAEAAQABAAEAAQABAAEAAQABAAEAAQAKAAEAAQABAAEAAQABAAEAAQABAAEACgABAAEAAQABAAEAAQABAAEAAQABAEkACgABAAEAAQABAAEAAQABAAEAAQABAAoAAQABAAEAAQABAAEAAQABAAEAAQAKAAEAAQABAAEAAQABAAEAAQABAAEACgABAAEAAQABAAEAAQABAAEAAQABAA0AAQABAAEAAQABAAEAAQABAAEAAQABAAEAAQAKAAEAAQABAAEAAQABAAEAAQABAAEACgABAAEAAQABAAEAAQABAAEAAQABAEUACgABAAEAAQABAAEAAQABAAEAAQABAAoAAQABAAEAAQABAAEAAQABAAEAAQAKAAEAAQABAAEAAQABAAEAAQABAAEACgABAAEAAQABAAEAAQABAAEAAQABAAoAAQABAAEAAQABAAEAAQABAAEAAQAJAAEAAQABAAEAAQABAAEAAQABAAoAAQABAAEAAQABAAEAAQABAAEAAQA8AAoAAQABAAEAAQABAAEAAQABAAEAAQAKAAEAAQABAAEAAQABAAEAAQABAAEACgABAAEAAQABAAEAAQABAAEAAQABAAoAAQABAAEAAQABAAEAAQABAAEAAQAKAAEAAQABAAEAAQABAAEAAQABAAEACgABAAEAAQABAAEAAQABAAEAAQABAA==",
          "dtype": "i2"
         }
        }
       ],
       "layout": {
        "font": {
         "size": 9
        },
        "height": 800,
        "legend": {
         "tracegroupgap": 0
        },
        "margin": {
         "b": 25,
         "l": 25,
         "r": 25,
         "t": 60
        },
        "template": {
         "data": {
          "bar": [
           {
            "error_x": {
             "color": "#2a3f5f"
            },
            "error_y": {
             "color": "#2a3f5f"
            },
            "marker": {
             "line": {
              "color": "#E5ECF6",
              "width": 0.5
             },
             "pattern": {
              "fillmode": "overlay",
              "size": 10,
              "solidity": 0.2
             }
            },
            "type": "bar"
           }
          ],
          "barpolar": [
           {
            "marker": {
             "line": {
              "color": "#E5ECF6",
              "width": 0.5
             },
             "pattern": {
              "fillmode": "overlay",
              "size": 10,
              "solidity": 0.2
             }
            },
            "type": "barpolar"
           }
          ],
          "carpet": [
           {
            "aaxis": {
             "endlinecolor": "#2a3f5f",
             "gridcolor": "white",
             "linecolor": "white",
             "minorgridcolor": "white",
             "startlinecolor": "#2a3f5f"
            },
            "baxis": {
             "endlinecolor": "#2a3f5f",
             "gridcolor": "white",
             "linecolor": "white",
             "minorgridcolor": "white",
             "startlinecolor": "#2a3f5f"
            },
            "type": "carpet"
           }
          ],
          "choropleth": [
           {
            "colorbar": {
             "outlinewidth": 0,
             "ticks": ""
            },
            "type": "choropleth"
           }
          ],
          "contour": [
           {
            "colorbar": {
             "outlinewidth": 0,
             "ticks": ""
            },
            "colorscale": [
             [
              0,
              "#0d0887"
             ],
             [
              0.1111111111111111,
              "#46039f"
             ],
             [
              0.2222222222222222,
              "#7201a8"
             ],
             [
              0.3333333333333333,
              "#9c179e"
             ],
             [
              0.4444444444444444,
              "#bd3786"
             ],
             [
              0.5555555555555556,
              "#d8576b"
             ],
             [
              0.6666666666666666,
              "#ed7953"
             ],
             [
              0.7777777777777778,
              "#fb9f3a"
             ],
             [
              0.8888888888888888,
              "#fdca26"
             ],
             [
              1,
              "#f0f921"
             ]
            ],
            "type": "contour"
           }
          ],
          "contourcarpet": [
           {
            "colorbar": {
             "outlinewidth": 0,
             "ticks": ""
            },
            "type": "contourcarpet"
           }
          ],
          "heatmap": [
           {
            "colorbar": {
             "outlinewidth": 0,
             "ticks": ""
            },
            "colorscale": [
             [
              0,
              "#0d0887"
             ],
             [
              0.1111111111111111,
              "#46039f"
             ],
             [
              0.2222222222222222,
              "#7201a8"
             ],
             [
              0.3333333333333333,
              "#9c179e"
             ],
             [
              0.4444444444444444,
              "#bd3786"
             ],
             [
              0.5555555555555556,
              "#d8576b"
             ],
             [
              0.6666666666666666,
              "#ed7953"
             ],
             [
              0.7777777777777778,
              "#fb9f3a"
             ],
             [
              0.8888888888888888,
              "#fdca26"
             ],
             [
              1,
              "#f0f921"
             ]
            ],
            "type": "heatmap"
           }
          ],
          "histogram": [
           {
            "marker": {
             "pattern": {
              "fillmode": "overlay",
              "size": 10,
              "solidity": 0.2
             }
            },
            "type": "histogram"
           }
          ],
          "histogram2d": [
           {
            "colorbar": {
             "outlinewidth": 0,
             "ticks": ""
            },
            "colorscale": [
             [
              0,
              "#0d0887"
             ],
             [
              0.1111111111111111,
              "#46039f"
             ],
             [
              0.2222222222222222,
              "#7201a8"
             ],
             [
              0.3333333333333333,
              "#9c179e"
             ],
             [
              0.4444444444444444,
              "#bd3786"
             ],
             [
              0.5555555555555556,
              "#d8576b"
             ],
             [
              0.6666666666666666,
              "#ed7953"
             ],
             [
              0.7777777777777778,
              "#fb9f3a"
             ],
             [
              0.8888888888888888,
              "#fdca26"
             ],
             [
              1,
              "#f0f921"
             ]
            ],
            "type": "histogram2d"
           }
          ],
          "histogram2dcontour": [
           {
            "colorbar": {
             "outlinewidth": 0,
             "ticks": ""
            },
            "colorscale": [
             [
              0,
              "#0d0887"
             ],
             [
              0.1111111111111111,
              "#46039f"
             ],
             [
              0.2222222222222222,
              "#7201a8"
             ],
             [
              0.3333333333333333,
              "#9c179e"
             ],
             [
              0.4444444444444444,
              "#bd3786"
             ],
             [
              0.5555555555555556,
              "#d8576b"
             ],
             [
              0.6666666666666666,
              "#ed7953"
             ],
             [
              0.7777777777777778,
              "#fb9f3a"
             ],
             [
              0.8888888888888888,
              "#fdca26"
             ],
             [
              1,
              "#f0f921"
             ]
            ],
            "type": "histogram2dcontour"
           }
          ],
          "mesh3d": [
           {
            "colorbar": {
             "outlinewidth": 0,
             "ticks": ""
            },
            "type": "mesh3d"
           }
          ],
          "parcoords": [
           {
            "line": {
             "colorbar": {
              "outlinewidth": 0,
              "ticks": ""
             }
            },
            "type": "parcoords"
           }
          ],
          "pie": [
           {
            "automargin": true,
            "type": "pie"
           }
          ],
          "scatter": [
           {
            "fillpattern": {
             "fillmode": "overlay",
             "size": 10,
             "solidity": 0.2
            },
            "type": "scatter"
           }
          ],
          "scatter3d": [
           {
            "line": {
             "colorbar": {
              "outlinewidth": 0,
              "ticks": ""
             }
            },
            "marker": {
             "colorbar": {
              "outlinewidth": 0,
              "ticks": ""
             }
            },
            "type": "scatter3d"
           }
          ],
          "scattercarpet": [
           {
            "marker": {
             "colorbar": {
              "outlinewidth": 0,
              "ticks": ""
             }
            },
            "type": "scattercarpet"
           }
          ],
          "scattergeo": [
           {
            "marker": {
             "colorbar": {
              "outlinewidth": 0,
              "ticks": ""
             }
            },
            "type": "scattergeo"
           }
          ],
          "scattergl": [
           {
            "marker": {
             "colorbar": {
              "outlinewidth": 0,
              "ticks": ""
             }
            },
            "type": "scattergl"
           }
          ],
          "scattermap": [
           {
            "marker": {
             "colorbar": {
              "outlinewidth": 0,
              "ticks": ""
             }
            },
            "type": "scattermap"
           }
          ],
          "scattermapbox": [
           {
            "marker": {
             "colorbar": {
              "outlinewidth": 0,
              "ticks": ""
             }
            },
            "type": "scattermapbox"
           }
          ],
          "scatterpolar": [
           {
            "marker": {
             "colorbar": {
              "outlinewidth": 0,
              "ticks": ""
             }
            },
            "type": "scatterpolar"
           }
          ],
          "scatterpolargl": [
           {
            "marker": {
             "colorbar": {
              "outlinewidth": 0,
              "ticks": ""
             }
            },
            "type": "scatterpolargl"
           }
          ],
          "scatterternary": [
           {
            "marker": {
             "colorbar": {
              "outlinewidth": 0,
              "ticks": ""
             }
            },
            "type": "scatterternary"
           }
          ],
          "surface": [
           {
            "colorbar": {
             "outlinewidth": 0,
             "ticks": ""
            },
            "colorscale": [
             [
              0,
              "#0d0887"
             ],
             [
              0.1111111111111111,
              "#46039f"
             ],
             [
              0.2222222222222222,
              "#7201a8"
             ],
             [
              0.3333333333333333,
              "#9c179e"
             ],
             [
              0.4444444444444444,
              "#bd3786"
             ],
             [
              0.5555555555555556,
              "#d8576b"
             ],
             [
              0.6666666666666666,
              "#ed7953"
             ],
             [
              0.7777777777777778,
              "#fb9f3a"
             ],
             [
              0.8888888888888888,
              "#fdca26"
             ],
             [
              1,
              "#f0f921"
             ]
            ],
            "type": "surface"
           }
          ],
          "table": [
           {
            "cells": {
             "fill": {
              "color": "#EBF0F8"
             },
             "line": {
              "color": "white"
             }
            },
            "header": {
             "fill": {
              "color": "#C8D4E3"
             },
             "line": {
              "color": "white"
             }
            },
            "type": "table"
           }
          ]
         },
         "layout": {
          "annotationdefaults": {
           "arrowcolor": "#2a3f5f",
           "arrowhead": 0,
           "arrowwidth": 1
          },
          "autotypenumbers": "strict",
          "coloraxis": {
           "colorbar": {
            "outlinewidth": 0,
            "ticks": ""
           }
          },
          "colorscale": {
           "diverging": [
            [
             0,
             "#8e0152"
            ],
            [
             0.1,
             "#c51b7d"
            ],
            [
             0.2,
             "#de77ae"
            ],
            [
             0.3,
             "#f1b6da"
            ],
            [
             0.4,
             "#fde0ef"
            ],
            [
             0.5,
             "#f7f7f7"
            ],
            [
             0.6,
             "#e6f5d0"
            ],
            [
             0.7,
             "#b8e186"
            ],
            [
             0.8,
             "#7fbc41"
            ],
            [
             0.9,
             "#4d9221"
            ],
            [
             1,
             "#276419"
            ]
           ],
           "sequential": [
            [
             0,
             "#0d0887"
            ],
            [
             0.1111111111111111,
             "#46039f"
            ],
            [
             0.2222222222222222,
             "#7201a8"
            ],
            [
             0.3333333333333333,
             "#9c179e"
            ],
            [
             0.4444444444444444,
             "#bd3786"
            ],
            [
             0.5555555555555556,
             "#d8576b"
            ],
            [
             0.6666666666666666,
             "#ed7953"
            ],
            [
             0.7777777777777778,
             "#fb9f3a"
            ],
            [
             0.8888888888888888,
             "#fdca26"
            ],
            [
             1,
             "#f0f921"
            ]
           ],
           "sequentialminus": [
            [
             0,
             "#0d0887"
            ],
            [
             0.1111111111111111,
             "#46039f"
            ],
            [
             0.2222222222222222,
             "#7201a8"
            ],
            [
             0.3333333333333333,
             "#9c179e"
            ],
            [
             0.4444444444444444,
             "#bd3786"
            ],
            [
             0.5555555555555556,
             "#d8576b"
            ],
            [
             0.6666666666666666,
             "#ed7953"
            ],
            [
             0.7777777777777778,
             "#fb9f3a"
            ],
            [
             0.8888888888888888,
             "#fdca26"
            ],
            [
             1,
             "#f0f921"
            ]
           ]
          },
          "colorway": [
           "#636efa",
           "#EF553B",
           "#00cc96",
           "#ab63fa",
           "#FFA15A",
           "#19d3f3",
           "#FF6692",
           "#B6E880",
           "#FF97FF",
           "#FECB52"
          ],
          "font": {
           "color": "#2a3f5f"
          },
          "geo": {
           "bgcolor": "white",
           "lakecolor": "white",
           "landcolor": "#E5ECF6",
           "showlakes": true,
           "showland": true,
           "subunitcolor": "white"
          },
          "hoverlabel": {
           "align": "left"
          },
          "hovermode": "closest",
          "mapbox": {
           "style": "light"
          },
          "paper_bgcolor": "white",
          "plot_bgcolor": "#E5ECF6",
          "polar": {
           "angularaxis": {
            "gridcolor": "white",
            "linecolor": "white",
            "ticks": ""
           },
           "bgcolor": "#E5ECF6",
           "radialaxis": {
            "gridcolor": "white",
            "linecolor": "white",
            "ticks": ""
           }
          },
          "scene": {
           "xaxis": {
            "backgroundcolor": "#E5ECF6",
            "gridcolor": "white",
            "gridwidth": 2,
            "linecolor": "white",
            "showbackground": true,
            "ticks": "",
            "zerolinecolor": "white"
           },
           "yaxis": {
            "backgroundcolor": "#E5ECF6",
            "gridcolor": "white",
            "gridwidth": 2,
            "linecolor": "white",
            "showbackground": true,
            "ticks": "",
            "zerolinecolor": "white"
           },
           "zaxis": {
            "backgroundcolor": "#E5ECF6",
            "gridcolor": "white",
            "gridwidth": 2,
            "linecolor": "white",
            "showbackground": true,
            "ticks": "",
            "zerolinecolor": "white"
           }
          },
          "shapedefaults": {
           "line": {
            "color": "#2a3f5f"
           }
          },
          "ternary": {
           "aaxis": {
            "gridcolor": "white",
            "linecolor": "white",
            "ticks": ""
           },
           "baxis": {
            "gridcolor": "white",
            "linecolor": "white",
            "ticks": ""
           },
           "bgcolor": "#E5ECF6",
           "caxis": {
            "gridcolor": "white",
            "linecolor": "white",
            "ticks": ""
           }
          },
          "title": {
           "x": 0.05
          },
          "xaxis": {
           "automargin": true,
           "gridcolor": "white",
           "linecolor": "white",
           "ticks": "",
           "title": {
            "standoff": 15
           },
           "zerolinecolor": "white",
           "zerolinewidth": 2
          },
          "yaxis": {
           "automargin": true,
           "gridcolor": "white",
           "linecolor": "white",
           "ticks": "",
           "title": {
            "standoff": 15
           },
           "zerolinecolor": "white",
           "zerolinewidth": 2
          }
         }
        },
        "title": {
         "font": {
          "size": 16
         },
         "text": "Research Landscape: Domains → Categories → Keywords"
        }
       }
      }
     },
     "metadata": {},
     "output_type": "display_data"
    }
   ],
   "source": [
    "# Create comprehensive hierarchy based on available classification data\n",
    "treemap_data = []\n",
    "\n",
    "# Level 1: Strategic domains (refined categories)\n",
    "for refined_cat in refined_categories:\n",
    "    # Calculate total keywords for this strategic domain\n",
    "    domain_keyword_count = 0\n",
    "    \n",
    "    for subcat_name in refined_cat['subcategories']:\n",
    "        domain_keyword_count += len(detailed_category_map.get(subcat_name, []))\n",
    "    \n",
    "    # Size by total keywords\n",
    "    domain_size = max(1, domain_keyword_count)\n",
    "    \n",
    "    treemap_data.append({\n",
    "        'id': refined_cat['name'],\n",
    "        'parent': '',\n",
    "        'name': refined_cat['name'],\n",
    "        'value': domain_size,\n",
    "        'level': 'Strategic Domain',\n",
    "        'item_type': 'domain'\n",
    "    })\n",
    "    \n",
    "    # Level 2: Detailed categories (subcategories)\n",
    "    for subcat_name in refined_cat['subcategories']:\n",
    "        keywords = detailed_category_map.get(subcat_name, [])\n",
    "        \n",
    "        # Size by keywords only\n",
    "        category_size = max(1, len(keywords))\n",
    "        \n",
    "        treemap_data.append({\n",
    "            'id': f\"{refined_cat['name']} >> {subcat_name}\",\n",
    "            'parent': refined_cat['name'],\n",
    "            'name': subcat_name,\n",
    "            'value': category_size,\n",
    "            'level': 'Detailed Category',\n",
    "            'item_type': 'category'\n",
    "        })\n",
    "        \n",
    "        # Level 3: Keywords under detailed categories\n",
    "        for keyword in keywords:\n",
    "            treemap_data.append({\n",
    "                'id': f\"{refined_cat['name']} >> {subcat_name} >> KW: {keyword}\",\n",
    "                'parent': f\"{refined_cat['name']} >> {subcat_name}\",\n",
    "                'name': keyword,\n",
    "                'value': 1,\n",
    "                'level': 'Keyword',\n",
    "                'item_type': 'keyword'\n",
    "            })\n",
    "\n",
    "treemap_df = pd.DataFrame(treemap_data)\n",
    "\n",
    "# Create the treemap with 3 different colors (removed grants)\n",
    "color_map = {\n",
    "    'Strategic Domain': '#1f77b4',    # Blue\n",
    "    'Detailed Category': '#ff7f0e',   # Orange  \n",
    "    'Keyword': '#2ca02c',             # Green\n",
    "}\n",
    "\n",
    "# Create title\n",
    "title = 'Research Landscape: Domains → Categories → Keywords'\n",
    "\n",
    "fig = px.treemap(\n",
    "    treemap_df,\n",
    "    ids='id',\n",
    "    names='name',\n",
    "    parents='parent', \n",
    "    values='value',\n",
    "    title=title,\n",
    "    color='level',\n",
    "    color_discrete_map=color_map,\n",
    "    hover_data=['level', 'value', 'item_type']\n",
    ")\n",
    "\n",
    "fig.update_layout(\n",
    "    font_size=9,\n",
    "    title_font_size=16,\n",
    "    height=800,\n",
    "    margin=dict(t=60, l=25, r=25, b=25)\n",
    ")\n",
    "\n",
    "# Update traces for better text visibility\n",
    "fig.update_traces(\n",
    "    textinfo=\"label\",\n",
    "    textfont_size=9,\n",
    "    textposition=\"middle center\"\n",
    ")\n",
    "\n",
    "# Print summary\n",
    "keyword_count = len(treemap_df[treemap_df['level'] == 'Keyword'])\n",
    "\n",
    "print(f\"Treemap contains {len(treemap_df)} total elements:\")\n",
    "print(f\"  - {len(refined_categories)} Strategic Domains (Blue)\")  \n",
    "print(f\"  - {total_subcategories} Detailed Categories (Orange)\")\n",
    "print(f\"  - {keyword_count} Keywords (Green)\")\n",
    "\n",
    "print(f\"\\nClassification summary:\")\n",
    "if strategic_grants > 0:\n",
    "    print(f\"Strategic level grants: {strategic_grants}\")\n",
    "if detailed_grants > 0:\n",
    "    print(f\"Detailed level grants: {detailed_grants}\")\n",
    "\n",
    "if strategic_grants > 0 or detailed_grants > 0:\n",
    "    strategic_dist = {k: len(v) for k, v in strategic_category_to_grants.items() if v}\n",
    "    detailed_dist = {k: len(v) for k, v in detailed_category_to_grants.items() if v}\n",
    "    \n",
    "    if strategic_dist:\n",
    "        print(\"  Strategic level distribution:\")\n",
    "        for domain, count in sorted(strategic_dist.items(), key=lambda x: x[1], reverse=True)[:3]:\n",
    "            print(f\"    - {domain}: {count} grants\")\n",
    "    \n",
    "    if detailed_dist:\n",
    "        print(\"  Detailed level distribution:\")\n",
    "        for category, count in sorted(detailed_dist.items(), key=lambda x: x[1], reverse=True)[:3]:\n",
    "            print(f\"    - {category}: {count} grants\")\n",
    "\n",
    "fig.show()"
   ]
  },
  {
   "cell_type": "code",
   "execution_count": null,
   "id": "f28b5f71",
   "metadata": {},
   "outputs": [],
   "source": []
  }
 ],
 "metadata": {
  "kernelspec": {
   "display_name": "modeling (3.12.10)",
   "language": "python",
   "name": "python3"
  },
  "language_info": {
   "codemirror_mode": {
    "name": "ipython",
    "version": 3
   },
   "file_extension": ".py",
   "mimetype": "text/x-python",
   "name": "python",
   "nbconvert_exporter": "python",
   "pygments_lexer": "ipython3",
   "version": "3.12.10"
  }
 },
 "nbformat": 4,
 "nbformat_minor": 5
}

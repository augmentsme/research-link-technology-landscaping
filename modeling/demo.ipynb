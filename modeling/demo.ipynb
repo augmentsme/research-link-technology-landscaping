{
 "cells": [
  {
   "cell_type": "code",
   "execution_count": 1,
   "id": "3c30db15",
   "metadata": {},
   "outputs": [],
   "source": [
    "\n",
    "%load_ext autoreload\n",
    "%autoreload 2\n",
    "import utils\n",
    "import config\n",
    "from keywords_postprocess import deduplicate_keywords\n",
    "import pandas as pd\n",
    "import plotly.express as px\n",
    "# px.bar(keywords.groupby(\"type\")['type'].count(), text_auto=True).update_layout(yaxis_title=\"Count\", xaxis_title=\"Type\")"
   ]
  },
  {
   "cell_type": "code",
   "execution_count": 12,
   "id": "5876cdf3",
   "metadata": {},
   "outputs": [],
   "source": [
    "extracted = config.Keywords.load_extracted()\n",
    "grants = config.Grants.load()\n",
    "keywords = config.Keywords.load()"
   ]
  },
  {
   "cell_type": "code",
   "execution_count": 16,
   "id": "0b3008c4",
   "metadata": {},
   "outputs": [],
   "source": [
    "grants.explode(\"linked_organizations\").groupby(\"linked_organizations\")['id'].count().sort_values(ascending=False).head(20).to_clipboard()"
   ]
  },
  {
   "cell_type": "code",
   "execution_count": null,
   "id": "14ddd02f",
   "metadata": {},
   "outputs": [],
   "source": []
  }
 ],
 "metadata": {
  "kernelspec": {
   "display_name": "modeling (3.12.10)",
   "language": "python",
   "name": "python3"
  },
  "language_info": {
   "codemirror_mode": {
    "name": "ipython",
    "version": 3
   },
   "file_extension": ".py",
   "mimetype": "text/x-python",
   "name": "python",
   "nbconvert_exporter": "python",
   "pygments_lexer": "ipython3",
   "version": "3.12.10"
  }
 },
 "nbformat": 4,
 "nbformat_minor": 5
}

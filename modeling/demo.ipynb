{
 "cells": [
  {
   "cell_type": "code",
   "execution_count": 2,
   "id": "b73895f6",
   "metadata": {},
   "outputs": [
    {
     "name": "stderr",
     "output_type": "stream",
     "text": [
      "2025-10-14 19:57:33.407 WARNING streamlit.runtime.caching.cache_data_api: No runtime found, using MemoryCacheStorageManager\n",
      "2025-10-14 19:57:33.408 WARNING streamlit.runtime.caching.cache_data_api: No runtime found, using MemoryCacheStorageManager\n",
      "2025-10-14 19:57:33.408 WARNING streamlit.runtime.caching.cache_data_api: No runtime found, using MemoryCacheStorageManager\n",
      "2025-10-14 19:57:33.408 WARNING streamlit.runtime.caching.cache_data_api: No runtime found, using MemoryCacheStorageManager\n",
      "2025-10-14 19:57:33.409 WARNING streamlit.runtime.caching.cache_data_api: No runtime found, using MemoryCacheStorageManager\n",
      "2025-10-14 19:57:33.409 WARNING streamlit.runtime.caching.cache_data_api: No runtime found, using MemoryCacheStorageManager\n",
      "2025-10-14 19:57:33.409 WARNING streamlit.runtime.caching.cache_data_api: No runtime found, using MemoryCacheStorageManager\n"
     ]
    }
   ],
   "source": [
    "import plotly.express as px\n",
    "import pandas as pd\n",
    "import config\n",
    "from web.shared_utils import load_data"
   ]
  },
  {
   "cell_type": "code",
   "execution_count": 3,
   "id": "d3c6c4d2",
   "metadata": {},
   "outputs": [
    {
     "name": "stderr",
     "output_type": "stream",
     "text": [
      "2025-10-14 19:57:33.416 WARNING streamlit.runtime.caching.cache_data_api: No runtime found, using MemoryCacheStorageManager\n",
      "2025-10-14 19:57:33.416 WARNING streamlit.runtime.scriptrunner_utils.script_run_context: Thread 'MainThread': missing ScriptRunContext! This warning can be ignored when running in bare mode.\n",
      "2025-10-14 19:57:33.504 \n",
      "  \u001b[33m\u001b[1mWarning:\u001b[0m to view this Streamlit app on a browser, run it with the following\n",
      "  command:\n",
      "\n",
      "    streamlit run /Users/luhancheng/Desktop/research-link-technology-landscaping/modeling/.venv/lib/python3.12/site-packages/ipykernel_launcher.py [ARGUMENTS]\n",
      "2025-10-14 19:57:33.504 Thread 'MainThread': missing ScriptRunContext! This warning can be ignored when running in bare mode.\n",
      "2025-10-14 19:57:33.504 Thread 'MainThread': missing ScriptRunContext! This warning can be ignored when running in bare mode.\n",
      "2025-10-14 19:57:33.505 Thread 'MainThread': missing ScriptRunContext! This warning can be ignored when running in bare mode.\n",
      "2025-10-14 19:57:34.022 Thread 'Thread-6': missing ScriptRunContext! This warning can be ignored when running in bare mode.\n",
      "2025-10-14 19:57:34.079 Thread 'Thread-6': missing ScriptRunContext! This warning can be ignored when running in bare mode.\n",
      "2025-10-14 19:57:34.081 Thread 'Thread-6': missing ScriptRunContext! This warning can be ignored when running in bare mode.\n",
      "2025-10-14 19:57:37.269 Thread 'MainThread': missing ScriptRunContext! This warning can be ignored when running in bare mode.\n",
      "2025-10-14 19:57:37.270 Thread 'MainThread': missing ScriptRunContext! This warning can be ignored when running in bare mode.\n",
      "2025-10-14 19:57:37.270 Thread 'MainThread': missing ScriptRunContext! This warning can be ignored when running in bare mode.\n"
     ]
    }
   ],
   "source": [
    "keywords, grants, cats = load_data()"
   ]
  },
  {
   "cell_type": "code",
   "execution_count": 14,
   "id": "c9380fc8",
   "metadata": {},
   "outputs": [],
   "source": [
    "cats['keywords_len'] = cats.keywords.map(len)"
   ]
  },
  {
   "cell_type": "code",
   "execution_count": 15,
   "id": "3340617a",
   "metadata": {},
   "outputs": [],
   "source": [
    "cats.sort_values(by='keywords_len', ascending=False, inplace=True)"
   ]
  },
  {
   "cell_type": "code",
   "execution_count": 16,
   "id": "873a25f2",
   "metadata": {},
   "outputs": [
    {
     "data": {
      "text/html": [
       "<div>\n",
       "<style scoped>\n",
       "    .dataframe tbody tr th:only-of-type {\n",
       "        vertical-align: middle;\n",
       "    }\n",
       "\n",
       "    .dataframe tbody tr th {\n",
       "        vertical-align: top;\n",
       "    }\n",
       "\n",
       "    .dataframe thead th {\n",
       "        text-align: right;\n",
       "    }\n",
       "</style>\n",
       "<table border=\"1\" class=\"dataframe\">\n",
       "  <thead>\n",
       "    <tr style=\"text-align: right;\">\n",
       "      <th></th>\n",
       "      <th>description</th>\n",
       "      <th>field_of_research</th>\n",
       "      <th>keywords</th>\n",
       "      <th>keywords_len</th>\n",
       "    </tr>\n",
       "    <tr>\n",
       "      <th>name</th>\n",
       "      <th></th>\n",
       "      <th></th>\n",
       "      <th></th>\n",
       "      <th></th>\n",
       "    </tr>\n",
       "  </thead>\n",
       "  <tbody>\n",
       "    <tr>\n",
       "      <th>Climate System Dynamics and Earth System Interactions</th>\n",
       "      <td>A comprehensive domain focused on the physical...</td>\n",
       "      <td>CREATIVE_ARTS_WRITING</td>\n",
       "      <td>[10-100 km scale currents, 1000-year reconstru...</td>\n",
       "      <td>1890</td>\n",
       "    </tr>\n",
       "    <tr>\n",
       "      <th>Cognitive and Behavioral Sciences</th>\n",
       "      <td>A comprehensive domain integrating research on...</td>\n",
       "      <td>CHEMICAL_SCIENCES</td>\n",
       "      <td>[21st-century applications, ADHD, ADHD assessm...</td>\n",
       "      <td>1631</td>\n",
       "    </tr>\n",
       "    <tr>\n",
       "      <th>Social Equity and Inclusion</th>\n",
       "      <td>A comprehensive category addressing systemic i...</td>\n",
       "      <td>AGRICULTURAL_VETERINARY_FOOD_SCIENCES</td>\n",
       "      <td>[21st century human rights, ADHD transitions, ...</td>\n",
       "      <td>1246</td>\n",
       "    </tr>\n",
       "    <tr>\n",
       "      <th>Infectious Disease Pathogenesis and Host-Pathogen Interactions</th>\n",
       "      <td>A comprehensive category encompassing the mole...</td>\n",
       "      <td>BIOLOGICAL_SCIENCES</td>\n",
       "      <td>[16S rDNA linkage, 5' non-coding region, 5'tRF...</td>\n",
       "      <td>1171</td>\n",
       "    </tr>\n",
       "    <tr>\n",
       "      <th>Deep Earth and Planetary Evolution</th>\n",
       "      <td>This unified category encompasses the long-ter...</td>\n",
       "      <td>EARTH_SCIENCES</td>\n",
       "      <td>[1.6 billion year old rocks, 2.0 billion years...</td>\n",
       "      <td>1143</td>\n",
       "    </tr>\n",
       "    <tr>\n",
       "      <th>...</th>\n",
       "      <td>...</td>\n",
       "      <td>...</td>\n",
       "      <td>...</td>\n",
       "      <td>...</td>\n",
       "    </tr>\n",
       "    <tr>\n",
       "      <th>Pathology and Diagnostic Automation</th>\n",
       "      <td>This category focuses on improving efficiency ...</td>\n",
       "      <td>HEALTH_SCIENCES</td>\n",
       "      <td>[pathology workflow]</td>\n",
       "      <td>1</td>\n",
       "    </tr>\n",
       "    <tr>\n",
       "      <th>Marine Biofilm Ecology and Coastal Resilience</th>\n",
       "      <td>A research domain focused on the formation, st...</td>\n",
       "      <td>BIOLOGICAL_SCIENCES</td>\n",
       "      <td>[marine biofilms]</td>\n",
       "      <td>1</td>\n",
       "    </tr>\n",
       "    <tr>\n",
       "      <th>German-Speakers and Colonial Identity</th>\n",
       "      <td>This category examines the cultural and lingui...</td>\n",
       "      <td>CREATIVE_ARTS_WRITING</td>\n",
       "      <td>[German-speakers]</td>\n",
       "      <td>1</td>\n",
       "    </tr>\n",
       "    <tr>\n",
       "      <th>Pre-emptive Pest Genomics</th>\n",
       "      <td>A proactive approach leveraging genomic analys...</td>\n",
       "      <td>BIOLOGICAL_SCIENCES</td>\n",
       "      <td>[pre-emptive genomics]</td>\n",
       "      <td>1</td>\n",
       "    </tr>\n",
       "    <tr>\n",
       "      <th>Aviation and Transportation Emissions</th>\n",
       "      <td>This category focuses on the environmental imp...</td>\n",
       "      <td>ENGINEERING</td>\n",
       "      <td>[aviation carbon offsets]</td>\n",
       "      <td>1</td>\n",
       "    </tr>\n",
       "  </tbody>\n",
       "</table>\n",
       "<p>2954 rows × 4 columns</p>\n",
       "</div>"
      ],
      "text/plain": [
       "                                                                                          description  \\\n",
       "name                                                                                                    \n",
       "Climate System Dynamics and Earth System Intera...  A comprehensive domain focused on the physical...   \n",
       "Cognitive and Behavioral Sciences                   A comprehensive domain integrating research on...   \n",
       "Social Equity and Inclusion                         A comprehensive category addressing systemic i...   \n",
       "Infectious Disease Pathogenesis and Host-Pathog...  A comprehensive category encompassing the mole...   \n",
       "Deep Earth and Planetary Evolution                  This unified category encompasses the long-ter...   \n",
       "...                                                                                               ...   \n",
       "Pathology and Diagnostic Automation                 This category focuses on improving efficiency ...   \n",
       "Marine Biofilm Ecology and Coastal Resilience       A research domain focused on the formation, st...   \n",
       "German-Speakers and Colonial Identity               This category examines the cultural and lingui...   \n",
       "Pre-emptive Pest Genomics                           A proactive approach leveraging genomic analys...   \n",
       "Aviation and Transportation Emissions               This category focuses on the environmental imp...   \n",
       "\n",
       "                                                                        field_of_research  \\\n",
       "name                                                                                        \n",
       "Climate System Dynamics and Earth System Intera...                  CREATIVE_ARTS_WRITING   \n",
       "Cognitive and Behavioral Sciences                                       CHEMICAL_SCIENCES   \n",
       "Social Equity and Inclusion                         AGRICULTURAL_VETERINARY_FOOD_SCIENCES   \n",
       "Infectious Disease Pathogenesis and Host-Pathog...                    BIOLOGICAL_SCIENCES   \n",
       "Deep Earth and Planetary Evolution                                         EARTH_SCIENCES   \n",
       "...                                                                                   ...   \n",
       "Pathology and Diagnostic Automation                                       HEALTH_SCIENCES   \n",
       "Marine Biofilm Ecology and Coastal Resilience                         BIOLOGICAL_SCIENCES   \n",
       "German-Speakers and Colonial Identity                               CREATIVE_ARTS_WRITING   \n",
       "Pre-emptive Pest Genomics                                             BIOLOGICAL_SCIENCES   \n",
       "Aviation and Transportation Emissions                                         ENGINEERING   \n",
       "\n",
       "                                                                                             keywords  \\\n",
       "name                                                                                                    \n",
       "Climate System Dynamics and Earth System Intera...  [10-100 km scale currents, 1000-year reconstru...   \n",
       "Cognitive and Behavioral Sciences                   [21st-century applications, ADHD, ADHD assessm...   \n",
       "Social Equity and Inclusion                         [21st century human rights, ADHD transitions, ...   \n",
       "Infectious Disease Pathogenesis and Host-Pathog...  [16S rDNA linkage, 5' non-coding region, 5'tRF...   \n",
       "Deep Earth and Planetary Evolution                  [1.6 billion year old rocks, 2.0 billion years...   \n",
       "...                                                                                               ...   \n",
       "Pathology and Diagnostic Automation                                              [pathology workflow]   \n",
       "Marine Biofilm Ecology and Coastal Resilience                                       [marine biofilms]   \n",
       "German-Speakers and Colonial Identity                                               [German-speakers]   \n",
       "Pre-emptive Pest Genomics                                                      [pre-emptive genomics]   \n",
       "Aviation and Transportation Emissions                                       [aviation carbon offsets]   \n",
       "\n",
       "                                                    keywords_len  \n",
       "name                                                              \n",
       "Climate System Dynamics and Earth System Intera...          1890  \n",
       "Cognitive and Behavioral Sciences                           1631  \n",
       "Social Equity and Inclusion                                 1246  \n",
       "Infectious Disease Pathogenesis and Host-Pathog...          1171  \n",
       "Deep Earth and Planetary Evolution                          1143  \n",
       "...                                                          ...  \n",
       "Pathology and Diagnostic Automation                            1  \n",
       "Marine Biofilm Ecology and Coastal Resilience                  1  \n",
       "German-Speakers and Colonial Identity                          1  \n",
       "Pre-emptive Pest Genomics                                      1  \n",
       "Aviation and Transportation Emissions                          1  \n",
       "\n",
       "[2954 rows x 4 columns]"
      ]
     },
     "execution_count": 16,
     "metadata": {},
     "output_type": "execute_result"
    }
   ],
   "source": [
    "cats"
   ]
  },
  {
   "cell_type": "code",
   "execution_count": 17,
   "id": "a564b0c5",
   "metadata": {},
   "outputs": [
    {
     "data": {
      "text/plain": [
       "description          A comprehensive domain focused on the physical...\n",
       "field_of_research                                CREATIVE_ARTS_WRITING\n",
       "keywords             [10-100 km scale currents, 1000-year reconstru...\n",
       "keywords_len                                                      1890\n",
       "Name: Climate System Dynamics and Earth System Interactions, dtype: object"
      ]
     },
     "execution_count": 17,
     "metadata": {},
     "output_type": "execute_result"
    }
   ],
   "source": [
    "# Test categories structure\n",
    "cat = cats.iloc[0]\n",
    "cat"
   ]
  },
  {
   "cell_type": "code",
   "execution_count": 18,
   "id": "c5a6fd86",
   "metadata": {},
   "outputs": [
    {
     "data": {
      "text/plain": [
       "['description', 'field_of_research', 'keywords', 'keywords_len']"
      ]
     },
     "execution_count": 18,
     "metadata": {},
     "output_type": "execute_result"
    }
   ],
   "source": [
    "# Check available columns\n",
    "cats.columns.tolist()"
   ]
  },
  {
   "cell_type": "code",
   "execution_count": 19,
   "id": "579745e7",
   "metadata": {},
   "outputs": [
    {
     "data": {
      "application/vnd.plotly.v1+json": {
       "config": {
        "plotlyServerURL": "https://plot.ly"
       },
       "data": [
        {
         "labels": [
          "CREATIVE_ARTS_WRITING",
          "CHEMICAL_SCIENCES",
          "AGRICULTURAL_VETERINARY_FOOD_SCIENCES",
          "BIOLOGICAL_SCIENCES",
          "EARTH_SCIENCES",
          "Climate System Dynamics and Earth System Interactions",
          "Cognitive and Behavioral Sciences",
          "Social Equity and Inclusion",
          "Infectious Disease Pathogenesis and Host-Pathogen Interactions",
          "Deep Earth and Planetary Evolution",
          "10-100 km scale currents",
          "1000-year reconstruction",
          "140,000 year record",
          "2.5°C warming",
          "3-D soil sensors",
          "21st-century applications",
          "ADHD",
          "ADHD assessments",
          "ADHD phenotypes",
          "ADHD symptoms",
          "21st century human rights",
          "ADHD transitions",
          "AI exclusion",
          "Aboriginal Family Birthing Program",
          "Aboriginal men",
          "16S rDNA linkage",
          "5' non-coding region",
          "5'tRFs",
          "AB5 toxin",
          "AB5 toxin B subunits",
          "1.6 billion year old rocks",
          "2.0 billion years",
          "2.8 to 2.6 billion years",
          "3.7 billion years ago",
          "3.85 Ga life"
         ],
         "marker": {
          "line": {
           "width": 2
          }
         },
         "parents": [
          "",
          "",
          "",
          "",
          "",
          "CREATIVE_ARTS_WRITING",
          "CHEMICAL_SCIENCES",
          "AGRICULTURAL_VETERINARY_FOOD_SCIENCES",
          "BIOLOGICAL_SCIENCES",
          "EARTH_SCIENCES",
          "Climate System Dynamics and Earth System Interactions",
          "Climate System Dynamics and Earth System Interactions",
          "Climate System Dynamics and Earth System Interactions",
          "Climate System Dynamics and Earth System Interactions",
          "Climate System Dynamics and Earth System Interactions",
          "Cognitive and Behavioral Sciences",
          "Cognitive and Behavioral Sciences",
          "Cognitive and Behavioral Sciences",
          "Cognitive and Behavioral Sciences",
          "Cognitive and Behavioral Sciences",
          "Social Equity and Inclusion",
          "Social Equity and Inclusion",
          "Social Equity and Inclusion",
          "Social Equity and Inclusion",
          "Social Equity and Inclusion",
          "Infectious Disease Pathogenesis and Host-Pathogen Interactions",
          "Infectious Disease Pathogenesis and Host-Pathogen Interactions",
          "Infectious Disease Pathogenesis and Host-Pathogen Interactions",
          "Infectious Disease Pathogenesis and Host-Pathogen Interactions",
          "Infectious Disease Pathogenesis and Host-Pathogen Interactions",
          "Deep Earth and Planetary Evolution",
          "Deep Earth and Planetary Evolution",
          "Deep Earth and Planetary Evolution",
          "Deep Earth and Planetary Evolution",
          "Deep Earth and Planetary Evolution"
         ],
         "text": [
          "CREATIVE_ARTS_WRITING<br>1890 keywords",
          "CHEMICAL_SCIENCES<br>1631 keywords",
          "AGRICULTURAL_VETERINARY_FOOD_SCIENCES<br>1246 keywords",
          "BIOLOGICAL_SCIENCES<br>1171 keywords",
          "EARTH_SCIENCES<br>1143 keywords",
          "Climate System Dynamics and Earth System Interactions<br>1890 keywords",
          "Cognitive and Behavioral Sciences<br>1631 keywords",
          "Social Equity and Inclusion<br>1246 keywords",
          "Infectious Disease Pathogenesis and Host-Pathogen Interactions<br>1171 keywords",
          "Deep Earth and Planetary Evolution<br>1143 keywords",
          "10-100 km scale currents",
          "1000-year reconstruction",
          "140,000 year record",
          "2.5°C warming",
          "3-D soil sensors",
          "21st-century applications",
          "ADHD",
          "ADHD assessments",
          "ADHD phenotypes",
          "ADHD symptoms",
          "21st century human rights",
          "ADHD transitions",
          "AI exclusion",
          "Aboriginal Family Birthing Program",
          "Aboriginal men",
          "16S rDNA linkage",
          "5' non-coding region",
          "5'tRFs",
          "AB5 toxin",
          "AB5 toxin B subunits",
          "1.6 billion year old rocks",
          "2.0 billion years",
          "2.8 to 2.6 billion years",
          "3.7 billion years ago",
          "3.85 Ga life"
         ],
         "textposition": "middle center",
         "type": "treemap",
         "values": [
          1890,
          1631,
          1246,
          1171,
          1143,
          1890,
          1631,
          1246,
          1171,
          1143,
          1,
          1,
          1,
          1,
          1,
          1,
          1,
          1,
          1,
          1,
          1,
          1,
          1,
          1,
          1,
          1,
          1,
          1,
          1,
          1,
          1,
          1,
          1,
          1,
          1
         ]
        }
       ],
       "layout": {
        "height": 800,
        "template": {
         "data": {
          "candlestick": [
           {
            "decreasing": {
             "line": {
              "color": "#000033"
             }
            },
            "increasing": {
             "line": {
              "color": "#000032"
             }
            },
            "type": "candlestick"
           }
          ],
          "contour": [
           {
            "colorscale": [
             [
              0,
              "#000011"
             ],
             [
              0.1111111111111111,
              "#000012"
             ],
             [
              0.2222222222222222,
              "#000013"
             ],
             [
              0.3333333333333333,
              "#000014"
             ],
             [
              0.4444444444444444,
              "#000015"
             ],
             [
              0.5555555555555556,
              "#000016"
             ],
             [
              0.6666666666666666,
              "#000017"
             ],
             [
              0.7777777777777778,
              "#000018"
             ],
             [
              0.8888888888888888,
              "#000019"
             ],
             [
              1,
              "#000020"
             ]
            ],
            "type": "contour"
           }
          ],
          "contourcarpet": [
           {
            "colorscale": [
             [
              0,
              "#000011"
             ],
             [
              0.1111111111111111,
              "#000012"
             ],
             [
              0.2222222222222222,
              "#000013"
             ],
             [
              0.3333333333333333,
              "#000014"
             ],
             [
              0.4444444444444444,
              "#000015"
             ],
             [
              0.5555555555555556,
              "#000016"
             ],
             [
              0.6666666666666666,
              "#000017"
             ],
             [
              0.7777777777777778,
              "#000018"
             ],
             [
              0.8888888888888888,
              "#000019"
             ],
             [
              1,
              "#000020"
             ]
            ],
            "type": "contourcarpet"
           }
          ],
          "heatmap": [
           {
            "colorscale": [
             [
              0,
              "#000011"
             ],
             [
              0.1111111111111111,
              "#000012"
             ],
             [
              0.2222222222222222,
              "#000013"
             ],
             [
              0.3333333333333333,
              "#000014"
             ],
             [
              0.4444444444444444,
              "#000015"
             ],
             [
              0.5555555555555556,
              "#000016"
             ],
             [
              0.6666666666666666,
              "#000017"
             ],
             [
              0.7777777777777778,
              "#000018"
             ],
             [
              0.8888888888888888,
              "#000019"
             ],
             [
              1,
              "#000020"
             ]
            ],
            "type": "heatmap"
           }
          ],
          "histogram2d": [
           {
            "colorscale": [
             [
              0,
              "#000011"
             ],
             [
              0.1111111111111111,
              "#000012"
             ],
             [
              0.2222222222222222,
              "#000013"
             ],
             [
              0.3333333333333333,
              "#000014"
             ],
             [
              0.4444444444444444,
              "#000015"
             ],
             [
              0.5555555555555556,
              "#000016"
             ],
             [
              0.6666666666666666,
              "#000017"
             ],
             [
              0.7777777777777778,
              "#000018"
             ],
             [
              0.8888888888888888,
              "#000019"
             ],
             [
              1,
              "#000020"
             ]
            ],
            "type": "histogram2d"
           }
          ],
          "icicle": [
           {
            "textfont": {
             "color": "white"
            },
            "type": "icicle"
           }
          ],
          "sankey": [
           {
            "textfont": {
             "color": "#000036"
            },
            "type": "sankey"
           }
          ],
          "scatter": [
           {
            "marker": {
             "line": {
              "width": 0
             }
            },
            "type": "scatter"
           }
          ],
          "table": [
           {
            "cells": {
             "fill": {
              "color": "#000038"
             },
             "font": {
              "color": "#000037"
             },
             "line": {
              "color": "#000039"
             }
            },
            "header": {
             "fill": {
              "color": "#000040"
             },
             "font": {
              "color": "#000036"
             },
             "line": {
              "color": "#000039"
             }
            },
            "type": "table"
           }
          ],
          "waterfall": [
           {
            "connector": {
             "line": {
              "color": "#000036",
              "width": 2
             }
            },
            "decreasing": {
             "marker": {
              "color": "#000033"
             }
            },
            "increasing": {
             "marker": {
              "color": "#000032"
             }
            },
            "totals": {
             "marker": {
              "color": "#000034"
             }
            },
            "type": "waterfall"
           }
          ]
         },
         "layout": {
          "coloraxis": {
           "colorscale": [
            [
             0,
             "#000011"
            ],
            [
             0.1111111111111111,
             "#000012"
            ],
            [
             0.2222222222222222,
             "#000013"
            ],
            [
             0.3333333333333333,
             "#000014"
            ],
            [
             0.4444444444444444,
             "#000015"
            ],
            [
             0.5555555555555556,
             "#000016"
            ],
            [
             0.6666666666666666,
             "#000017"
            ],
            [
             0.7777777777777778,
             "#000018"
            ],
            [
             0.8888888888888888,
             "#000019"
            ],
            [
             1,
             "#000020"
            ]
           ]
          },
          "colorscale": {
           "diverging": [
            [
             0,
             "#000021"
            ],
            [
             0.1,
             "#000022"
            ],
            [
             0.2,
             "#000023"
            ],
            [
             0.3,
             "#000024"
            ],
            [
             0.4,
             "#000025"
            ],
            [
             0.5,
             "#000026"
            ],
            [
             0.6,
             "#000027"
            ],
            [
             0.7,
             "#000028"
            ],
            [
             0.8,
             "#000029"
            ],
            [
             0.9,
             "#000030"
            ],
            [
             1,
             "#000031"
            ]
           ],
           "sequential": [
            [
             0,
             "#000011"
            ],
            [
             0.1111111111111111,
             "#000012"
            ],
            [
             0.2222222222222222,
             "#000013"
            ],
            [
             0.3333333333333333,
             "#000014"
            ],
            [
             0.4444444444444444,
             "#000015"
            ],
            [
             0.5555555555555556,
             "#000016"
            ],
            [
             0.6666666666666666,
             "#000017"
            ],
            [
             0.7777777777777778,
             "#000018"
            ],
            [
             0.8888888888888888,
             "#000019"
            ],
            [
             1,
             "#000020"
            ]
           ],
           "sequentialminus": [
            [
             0,
             "#000011"
            ],
            [
             0.1111111111111111,
             "#000012"
            ],
            [
             0.2222222222222222,
             "#000013"
            ],
            [
             0.3333333333333333,
             "#000014"
            ],
            [
             0.4444444444444444,
             "#000015"
            ],
            [
             0.5555555555555556,
             "#000016"
            ],
            [
             0.6666666666666666,
             "#000017"
            ],
            [
             0.7777777777777778,
             "#000018"
            ],
            [
             0.8888888888888888,
             "#000019"
            ],
            [
             1,
             "#000020"
            ]
           ]
          },
          "colorway": [
           "#000001",
           "#000002",
           "#000003",
           "#000004",
           "#000005",
           "#000006",
           "#000007",
           "#000008",
           "#000009",
           "#000010"
          ]
         }
        },
        "title": {
         "text": "Research Landscape: Fields → Categories → Keywords"
        }
       }
      }
     },
     "metadata": {},
     "output_type": "display_data"
    }
   ],
   "source": [
    "# Test treemap creation\n",
    "import plotly.graph_objects as go\n",
    "\n",
    "# Sample data to test treemap structure\n",
    "sample_cats = cats.head(5).copy()\n",
    "\n",
    "# Create hierarchical data structure\n",
    "labels = []\n",
    "parents = []\n",
    "values = []\n",
    "texts = []\n",
    "\n",
    "# Add research fields level\n",
    "field_counts = {}\n",
    "for idx, row in sample_cats.iterrows():\n",
    "    field = row.get('field_of_research', 'Unknown')\n",
    "    if field not in field_counts:\n",
    "        field_counts[field] = 0\n",
    "    field_counts[field] += len(row.get('keywords', []))\n",
    "\n",
    "# Add fields to treemap\n",
    "for field, count in field_counts.items():\n",
    "    labels.append(field)\n",
    "    parents.append(\"\")\n",
    "    values.append(count)\n",
    "    texts.append(f\"{field}<br>{count} keywords\")\n",
    "\n",
    "# Add categories level  \n",
    "for idx, row in sample_cats.iterrows():\n",
    "    field = row.get('field_of_research', 'Unknown')\n",
    "    category_name = idx\n",
    "    keyword_count = len(row.get('keywords', []))\n",
    "    \n",
    "    labels.append(category_name)\n",
    "    parents.append(field)\n",
    "    values.append(keyword_count)\n",
    "    texts.append(f\"{category_name}<br>{keyword_count} keywords\")\n",
    "\n",
    "# Add keywords level (sample only first 5 per category)\n",
    "for idx, row in sample_cats.iterrows():\n",
    "    keywords = row.get('keywords', [])[:5]\n",
    "    for kw in keywords:\n",
    "        labels.append(kw)\n",
    "        parents.append(idx)\n",
    "        values.append(1)\n",
    "        texts.append(kw)\n",
    "\n",
    "# Create figure\n",
    "fig = go.Figure(go.Treemap(\n",
    "    labels=labels,\n",
    "    parents=parents,\n",
    "    values=values,\n",
    "    text=texts,\n",
    "    textposition=\"middle center\",\n",
    "    marker=dict(\n",
    "        line=dict(width=2)\n",
    "    )\n",
    "))\n",
    "\n",
    "fig.update_layout(\n",
    "    title=\"Research Landscape: Fields → Categories → Keywords\",\n",
    "    height=800\n",
    ")\n",
    "\n",
    "fig.show()"
   ]
  },
  {
   "cell_type": "code",
   "execution_count": 20,
   "id": "23cfbd0e",
   "metadata": {},
   "outputs": [
    {
     "data": {
      "application/vnd.plotly.v1+json": {
       "config": {
        "plotlyServerURL": "https://plot.ly"
       },
       "data": [
        {
         "hovertemplate": "<b>%{label}</b><br>%{text}<extra></extra>",
         "labels": [
          "ENGINEERING",
          "BIOLOGICAL_SCIENCES",
          "ENVIRONMENTAL_SCIENCES",
          "AGRICULTURAL_VETERINARY_FOOD_SCIENCES",
          "HUMAN_SOCIETY",
          "Social Equity and Inclusion",
          "Educational Equity and Inclusion",
          "Autonomous and Intelligent Systems",
          "Infectious Disease Pathogenesis and Host-Pathogen Interactions",
          "Immune System and Inflammation",
          "One Health and Disease Dynamics",
          "Hydrological and Water Cycle Dynamics",
          "Marine and Coastal Ecosystem Dynamics, Resilience, and Conservation",
          "Ecosystem Resilience, Function, and Biodiversity Conservation",
          "Critical Infrastructure Resilience, Safety, and Risk Management",
          "Advanced Energy Storage and Materials",
          "Transportation Systems, Safety, and Urban Mobility",
          "Cultural Memory and Identity",
          "Social and Emotional Wellbeing in Education",
          "Interdisciplinary and Transdisciplinary Research Frameworks",
          "21st century human rights",
          "ADHD transitions",
          "AI exclusion",
          "Aboriginal Family Birthing Program",
          "Aboriginal men",
          "ADHD profiling",
          "Aussie Optimism Program",
          "Better Beginnings Sing With Me program",
          "Clever Kids programme",
          "Climate Schools Combined",
          "240x360 degree camera",
          "2D image translation",
          "3D animation",
          "3D environmental structure",
          "3D face motion",
          "16S rDNA linkage",
          "5' non-coding region",
          "5'tRFs",
          "AB5 toxin",
          "AB5 toxin B subunits",
          "3D chromatin",
          "ANCA",
          "ANCA-associated vasculitis",
          "Acinetobacter baumannii",
          "B cell activation",
          "2,4-D",
          "ABA perception",
          "AI injury prediction",
          "ARG transmission pathways",
          "ATAD microbiology",
          "3D canopy mapping",
          "3D water quality modelling",
          "60,000 years",
          "Antarctic margins",
          "Antarctic region",
          "Antarctic aquatic systems",
          "Antarctic archeon",
          "Antarctic diatoms",
          "Antarctic marine communities",
          "Antarctic microorganisms",
          "Anthropocene climate change",
          "Australian and Malaysian species",
          "Australian biodiversity",
          "Australian forest management",
          "Australian forests",
          "22 kV cables",
          "3D dynamics",
          "3D loading scenarios",
          "3D safety assessment",
          "AI assisted",
          "001//ND fibre texture",
          "2D and 3D carbon/MXene composites",
          "2D material interphases",
          "3D carbon architectures",
          "3d transition metal",
          "3-Domains toolkit",
          "3D head-up displays",
          "4WD driving competency",
          "AI behavior prediction",
          "HSEC performance",
          "1788-1900",
          "1880s–1970s",
          "1890s-1950s",
          "1901-1950",
          "1918–19 influenza pandemic",
          "ADHD profiling",
          "Aussie Optimism Program",
          "Better Beginnings Sing With Me program",
          "Clever Kids programme",
          "Climate Schools Combined",
          "CRM implementation",
          "DIMPLES",
          "Dahlem Workshop Model",
          "Depression impact",
          "EU-COST action"
         ],
         "marker": {
          "colors": [
           "#1f77b4",
           "#ff7f0e",
           "#2ca02c",
           "#d62728",
           "#9467bd",
           "#d62728",
           "#d62728",
           "#d62728",
           "#ff7f0e",
           "#ff7f0e",
           "#ff7f0e",
           "#2ca02c",
           "#2ca02c",
           "#2ca02c",
           "#1f77b4",
           "#1f77b4",
           "#1f77b4",
           "#9467bd",
           "#9467bd",
           "#9467bd",
           "#d62728",
           "#d62728",
           "#d62728",
           "#d62728",
           "#d62728",
           "#d62728",
           "#d62728",
           "#d62728",
           "#d62728",
           "#d62728",
           "#d62728",
           "#d62728",
           "#d62728",
           "#d62728",
           "#d62728",
           "#ff7f0e",
           "#ff7f0e",
           "#ff7f0e",
           "#ff7f0e",
           "#ff7f0e",
           "#ff7f0e",
           "#ff7f0e",
           "#ff7f0e",
           "#ff7f0e",
           "#ff7f0e",
           "#ff7f0e",
           "#ff7f0e",
           "#ff7f0e",
           "#ff7f0e",
           "#ff7f0e",
           "#2ca02c",
           "#2ca02c",
           "#2ca02c",
           "#2ca02c",
           "#2ca02c",
           "#2ca02c",
           "#2ca02c",
           "#2ca02c",
           "#2ca02c",
           "#2ca02c",
           "#2ca02c",
           "#2ca02c",
           "#2ca02c",
           "#2ca02c",
           "#2ca02c",
           "#1f77b4",
           "#1f77b4",
           "#1f77b4",
           "#1f77b4",
           "#1f77b4",
           "#1f77b4",
           "#1f77b4",
           "#1f77b4",
           "#1f77b4",
           "#1f77b4",
           "#1f77b4",
           "#1f77b4",
           "#1f77b4",
           "#1f77b4",
           "#1f77b4",
           "#9467bd",
           "#9467bd",
           "#9467bd",
           "#9467bd",
           "#9467bd",
           "#9467bd",
           "#9467bd",
           "#9467bd",
           "#9467bd",
           "#9467bd",
           "#9467bd",
           "#9467bd",
           "#9467bd",
           "#9467bd",
           "#9467bd"
          ],
          "line": {
           "color": "white",
           "width": 2
          }
         },
         "parents": [
          "",
          "",
          "",
          "",
          "",
          "AGRICULTURAL_VETERINARY_FOOD_SCIENCES",
          "AGRICULTURAL_VETERINARY_FOOD_SCIENCES",
          "AGRICULTURAL_VETERINARY_FOOD_SCIENCES",
          "BIOLOGICAL_SCIENCES",
          "BIOLOGICAL_SCIENCES",
          "BIOLOGICAL_SCIENCES",
          "ENVIRONMENTAL_SCIENCES",
          "ENVIRONMENTAL_SCIENCES",
          "ENVIRONMENTAL_SCIENCES",
          "ENGINEERING",
          "ENGINEERING",
          "ENGINEERING",
          "HUMAN_SOCIETY",
          "HUMAN_SOCIETY",
          "HUMAN_SOCIETY",
          "Social Equity and Inclusion",
          "Social Equity and Inclusion",
          "Social Equity and Inclusion",
          "Social Equity and Inclusion",
          "Social Equity and Inclusion",
          "Educational Equity and Inclusion",
          "Educational Equity and Inclusion",
          "Educational Equity and Inclusion",
          "Educational Equity and Inclusion",
          "Educational Equity and Inclusion",
          "Autonomous and Intelligent Systems",
          "Autonomous and Intelligent Systems",
          "Autonomous and Intelligent Systems",
          "Autonomous and Intelligent Systems",
          "Autonomous and Intelligent Systems",
          "Infectious Disease Pathogenesis and Host-Pathogen Interactions",
          "Infectious Disease Pathogenesis and Host-Pathogen Interactions",
          "Infectious Disease Pathogenesis and Host-Pathogen Interactions",
          "Infectious Disease Pathogenesis and Host-Pathogen Interactions",
          "Infectious Disease Pathogenesis and Host-Pathogen Interactions",
          "Immune System and Inflammation",
          "Immune System and Inflammation",
          "Immune System and Inflammation",
          "Immune System and Inflammation",
          "Immune System and Inflammation",
          "One Health and Disease Dynamics",
          "One Health and Disease Dynamics",
          "One Health and Disease Dynamics",
          "One Health and Disease Dynamics",
          "One Health and Disease Dynamics",
          "Hydrological and Water Cycle Dynamics",
          "Hydrological and Water Cycle Dynamics",
          "Hydrological and Water Cycle Dynamics",
          "Hydrological and Water Cycle Dynamics",
          "Hydrological and Water Cycle Dynamics",
          "Marine and Coastal Ecosystem Dynamics, Resilience, and Conservation",
          "Marine and Coastal Ecosystem Dynamics, Resilience, and Conservation",
          "Marine and Coastal Ecosystem Dynamics, Resilience, and Conservation",
          "Marine and Coastal Ecosystem Dynamics, Resilience, and Conservation",
          "Marine and Coastal Ecosystem Dynamics, Resilience, and Conservation",
          "Ecosystem Resilience, Function, and Biodiversity Conservation",
          "Ecosystem Resilience, Function, and Biodiversity Conservation",
          "Ecosystem Resilience, Function, and Biodiversity Conservation",
          "Ecosystem Resilience, Function, and Biodiversity Conservation",
          "Ecosystem Resilience, Function, and Biodiversity Conservation",
          "Critical Infrastructure Resilience, Safety, and Risk Management",
          "Critical Infrastructure Resilience, Safety, and Risk Management",
          "Critical Infrastructure Resilience, Safety, and Risk Management",
          "Critical Infrastructure Resilience, Safety, and Risk Management",
          "Critical Infrastructure Resilience, Safety, and Risk Management",
          "Advanced Energy Storage and Materials",
          "Advanced Energy Storage and Materials",
          "Advanced Energy Storage and Materials",
          "Advanced Energy Storage and Materials",
          "Advanced Energy Storage and Materials",
          "Transportation Systems, Safety, and Urban Mobility",
          "Transportation Systems, Safety, and Urban Mobility",
          "Transportation Systems, Safety, and Urban Mobility",
          "Transportation Systems, Safety, and Urban Mobility",
          "Transportation Systems, Safety, and Urban Mobility",
          "Cultural Memory and Identity",
          "Cultural Memory and Identity",
          "Cultural Memory and Identity",
          "Cultural Memory and Identity",
          "Cultural Memory and Identity",
          "Social and Emotional Wellbeing in Education",
          "Social and Emotional Wellbeing in Education",
          "Social and Emotional Wellbeing in Education",
          "Social and Emotional Wellbeing in Education",
          "Social and Emotional Wellbeing in Education",
          "Interdisciplinary and Transdisciplinary Research Frameworks",
          "Interdisciplinary and Transdisciplinary Research Frameworks",
          "Interdisciplinary and Transdisciplinary Research Frameworks",
          "Interdisciplinary and Transdisciplinary Research Frameworks",
          "Interdisciplinary and Transdisciplinary Research Frameworks"
         ],
         "text": [
          "ENGINEERING<br>28210 keywords",
          "BIOLOGICAL_SCIENCES<br>24218 keywords",
          "ENVIRONMENTAL_SCIENCES<br>18326 keywords",
          "AGRICULTURAL_VETERINARY_FOOD_SCIENCES<br>17496 keywords",
          "HUMAN_SOCIETY<br>13554 keywords",
          "Social Equity and Inclusion<br>1246 keywords",
          "Educational Equity and Inclusion<br>1004 keywords",
          "Autonomous and Intelligent Systems<br>874 keywords",
          "Infectious Disease Pathogenesis and Host-Pathogen Interactions<br>1171 keywords",
          "Immune System and Inflammation<br>893 keywords",
          "One Health and Disease Dynamics<br>849 keywords",
          "Hydrological and Water Cycle Dynamics<br>1070 keywords",
          "Marine and Coastal Ecosystem Dynamics, Resilience, and Conservation<br>1061 keywords",
          "Ecosystem Resilience, Function, and Biodiversity Conservation<br>956 keywords",
          "Critical Infrastructure Resilience, Safety, and Risk Management<br>876 keywords",
          "Advanced Energy Storage and Materials<br>717 keywords",
          "Transportation Systems, Safety, and Urban Mobility<br>633 keywords",
          "Cultural Memory and Identity<br>776 keywords",
          "Social and Emotional Wellbeing in Education<br>530 keywords",
          "Interdisciplinary and Transdisciplinary Research Frameworks<br>374 keywords",
          "21st century human rights",
          "ADHD transitions",
          "AI exclusion",
          "Aboriginal Family Birthing Program",
          "Aboriginal men",
          "ADHD profiling",
          "Aussie Optimism Program",
          "Better Beginnings Sing With Me program",
          "Clever Kids programme",
          "Climate Schools Combined",
          "240x360 degree camera",
          "2D image translation",
          "3D animation",
          "3D environmental structure",
          "3D face motion",
          "16S rDNA linkage",
          "5' non-coding region",
          "5'tRFs",
          "AB5 toxin",
          "AB5 toxin B subunits",
          "3D chromatin",
          "ANCA",
          "ANCA-associated vasculitis",
          "Acinetobacter baumannii",
          "B cell activation",
          "2,4-D",
          "ABA perception",
          "AI injury prediction",
          "ARG transmission pathways",
          "ATAD microbiology",
          "3D canopy mapping",
          "3D water quality modelling",
          "60,000 years",
          "Antarctic margins",
          "Antarctic region",
          "Antarctic aquatic systems",
          "Antarctic archeon",
          "Antarctic diatoms",
          "Antarctic marine communities",
          "Antarctic microorganisms",
          "Anthropocene climate change",
          "Australian and Malaysian species",
          "Australian biodiversity",
          "Australian forest management",
          "Australian forests",
          "22 kV cables",
          "3D dynamics",
          "3D loading scenarios",
          "3D safety assessment",
          "AI assisted",
          "001//ND fibre texture",
          "2D and 3D carbon/MXene composites",
          "2D material interphases",
          "3D carbon architectures",
          "3d transition metal",
          "3-Domains toolkit",
          "3D head-up displays",
          "4WD driving competency",
          "AI behavior prediction",
          "HSEC performance",
          "1788-1900",
          "1880s–1970s",
          "1890s-1950s",
          "1901-1950",
          "1918–19 influenza pandemic",
          "ADHD profiling",
          "Aussie Optimism Program",
          "Better Beginnings Sing With Me program",
          "Clever Kids programme",
          "Climate Schools Combined",
          "CRM implementation",
          "DIMPLES",
          "Dahlem Workshop Model",
          "Depression impact",
          "EU-COST action"
         ],
         "textfont": {
          "size": 14
         },
         "textposition": "middle center",
         "type": "treemap",
         "values": [
          28210,
          24218,
          18326,
          17496,
          13554,
          1246,
          1004,
          874,
          1171,
          893,
          849,
          1070,
          1061,
          956,
          876,
          717,
          633,
          776,
          530,
          374,
          1,
          1,
          1,
          1,
          1,
          1,
          1,
          1,
          1,
          1,
          1,
          1,
          1,
          1,
          1,
          1,
          1,
          1,
          1,
          1,
          1,
          1,
          1,
          1,
          1,
          1,
          1,
          1,
          1,
          1,
          1,
          1,
          1,
          1,
          1,
          1,
          1,
          1,
          1,
          1,
          1,
          1,
          1,
          1,
          1,
          1,
          1,
          1,
          1,
          1,
          1,
          1,
          1,
          1,
          1,
          1,
          1,
          1,
          1,
          1,
          1,
          1,
          1,
          1,
          1,
          1,
          1,
          1,
          1,
          1,
          1,
          1,
          1,
          1,
          1
         ]
        }
       ],
       "layout": {
        "height": 800,
        "margin": {
         "b": 0,
         "l": 0,
         "r": 0,
         "t": 50
        },
        "template": {
         "data": {
          "candlestick": [
           {
            "decreasing": {
             "line": {
              "color": "#000033"
             }
            },
            "increasing": {
             "line": {
              "color": "#000032"
             }
            },
            "type": "candlestick"
           }
          ],
          "contour": [
           {
            "colorscale": [
             [
              0,
              "#000011"
             ],
             [
              0.1111111111111111,
              "#000012"
             ],
             [
              0.2222222222222222,
              "#000013"
             ],
             [
              0.3333333333333333,
              "#000014"
             ],
             [
              0.4444444444444444,
              "#000015"
             ],
             [
              0.5555555555555556,
              "#000016"
             ],
             [
              0.6666666666666666,
              "#000017"
             ],
             [
              0.7777777777777778,
              "#000018"
             ],
             [
              0.8888888888888888,
              "#000019"
             ],
             [
              1,
              "#000020"
             ]
            ],
            "type": "contour"
           }
          ],
          "contourcarpet": [
           {
            "colorscale": [
             [
              0,
              "#000011"
             ],
             [
              0.1111111111111111,
              "#000012"
             ],
             [
              0.2222222222222222,
              "#000013"
             ],
             [
              0.3333333333333333,
              "#000014"
             ],
             [
              0.4444444444444444,
              "#000015"
             ],
             [
              0.5555555555555556,
              "#000016"
             ],
             [
              0.6666666666666666,
              "#000017"
             ],
             [
              0.7777777777777778,
              "#000018"
             ],
             [
              0.8888888888888888,
              "#000019"
             ],
             [
              1,
              "#000020"
             ]
            ],
            "type": "contourcarpet"
           }
          ],
          "heatmap": [
           {
            "colorscale": [
             [
              0,
              "#000011"
             ],
             [
              0.1111111111111111,
              "#000012"
             ],
             [
              0.2222222222222222,
              "#000013"
             ],
             [
              0.3333333333333333,
              "#000014"
             ],
             [
              0.4444444444444444,
              "#000015"
             ],
             [
              0.5555555555555556,
              "#000016"
             ],
             [
              0.6666666666666666,
              "#000017"
             ],
             [
              0.7777777777777778,
              "#000018"
             ],
             [
              0.8888888888888888,
              "#000019"
             ],
             [
              1,
              "#000020"
             ]
            ],
            "type": "heatmap"
           }
          ],
          "histogram2d": [
           {
            "colorscale": [
             [
              0,
              "#000011"
             ],
             [
              0.1111111111111111,
              "#000012"
             ],
             [
              0.2222222222222222,
              "#000013"
             ],
             [
              0.3333333333333333,
              "#000014"
             ],
             [
              0.4444444444444444,
              "#000015"
             ],
             [
              0.5555555555555556,
              "#000016"
             ],
             [
              0.6666666666666666,
              "#000017"
             ],
             [
              0.7777777777777778,
              "#000018"
             ],
             [
              0.8888888888888888,
              "#000019"
             ],
             [
              1,
              "#000020"
             ]
            ],
            "type": "histogram2d"
           }
          ],
          "icicle": [
           {
            "textfont": {
             "color": "white"
            },
            "type": "icicle"
           }
          ],
          "sankey": [
           {
            "textfont": {
             "color": "#000036"
            },
            "type": "sankey"
           }
          ],
          "scatter": [
           {
            "marker": {
             "line": {
              "width": 0
             }
            },
            "type": "scatter"
           }
          ],
          "table": [
           {
            "cells": {
             "fill": {
              "color": "#000038"
             },
             "font": {
              "color": "#000037"
             },
             "line": {
              "color": "#000039"
             }
            },
            "header": {
             "fill": {
              "color": "#000040"
             },
             "font": {
              "color": "#000036"
             },
             "line": {
              "color": "#000039"
             }
            },
            "type": "table"
           }
          ],
          "waterfall": [
           {
            "connector": {
             "line": {
              "color": "#000036",
              "width": 2
             }
            },
            "decreasing": {
             "marker": {
              "color": "#000033"
             }
            },
            "increasing": {
             "marker": {
              "color": "#000032"
             }
            },
            "totals": {
             "marker": {
              "color": "#000034"
             }
            },
            "type": "waterfall"
           }
          ]
         },
         "layout": {
          "coloraxis": {
           "colorscale": [
            [
             0,
             "#000011"
            ],
            [
             0.1111111111111111,
             "#000012"
            ],
            [
             0.2222222222222222,
             "#000013"
            ],
            [
             0.3333333333333333,
             "#000014"
            ],
            [
             0.4444444444444444,
             "#000015"
            ],
            [
             0.5555555555555556,
             "#000016"
            ],
            [
             0.6666666666666666,
             "#000017"
            ],
            [
             0.7777777777777778,
             "#000018"
            ],
            [
             0.8888888888888888,
             "#000019"
            ],
            [
             1,
             "#000020"
            ]
           ]
          },
          "colorscale": {
           "diverging": [
            [
             0,
             "#000021"
            ],
            [
             0.1,
             "#000022"
            ],
            [
             0.2,
             "#000023"
            ],
            [
             0.3,
             "#000024"
            ],
            [
             0.4,
             "#000025"
            ],
            [
             0.5,
             "#000026"
            ],
            [
             0.6,
             "#000027"
            ],
            [
             0.7,
             "#000028"
            ],
            [
             0.8,
             "#000029"
            ],
            [
             0.9,
             "#000030"
            ],
            [
             1,
             "#000031"
            ]
           ],
           "sequential": [
            [
             0,
             "#000011"
            ],
            [
             0.1111111111111111,
             "#000012"
            ],
            [
             0.2222222222222222,
             "#000013"
            ],
            [
             0.3333333333333333,
             "#000014"
            ],
            [
             0.4444444444444444,
             "#000015"
            ],
            [
             0.5555555555555556,
             "#000016"
            ],
            [
             0.6666666666666666,
             "#000017"
            ],
            [
             0.7777777777777778,
             "#000018"
            ],
            [
             0.8888888888888888,
             "#000019"
            ],
            [
             1,
             "#000020"
            ]
           ],
           "sequentialminus": [
            [
             0,
             "#000011"
            ],
            [
             0.1111111111111111,
             "#000012"
            ],
            [
             0.2222222222222222,
             "#000013"
            ],
            [
             0.3333333333333333,
             "#000014"
            ],
            [
             0.4444444444444444,
             "#000015"
            ],
            [
             0.5555555555555556,
             "#000016"
            ],
            [
             0.6666666666666666,
             "#000017"
            ],
            [
             0.7777777777777778,
             "#000018"
            ],
            [
             0.8888888888888888,
             "#000019"
            ],
            [
             1,
             "#000020"
            ]
           ]
          },
          "colorway": [
           "#000001",
           "#000002",
           "#000003",
           "#000004",
           "#000005",
           "#000006",
           "#000007",
           "#000008",
           "#000009",
           "#000010"
          ]
         }
        },
        "title": {
         "text": "Research Landscape: Research Fields → Categories → Keywords"
        }
       }
      }
     },
     "metadata": {},
     "output_type": "display_data"
    }
   ],
   "source": [
    "# Test the new create_treemap function\n",
    "def create_treemap(\n",
    "    categories_df,\n",
    "    max_research_fields=None,\n",
    "    max_categories_per_field=None,\n",
    "    max_keywords_per_category=None,\n",
    "    height=800,\n",
    "    font_size=18\n",
    "):\n",
    "    \"\"\"Create a hierarchical treemap visualization\"\"\"\n",
    "    \n",
    "    categories_df = categories_df.copy()\n",
    "    categories_df['keywords_count'] = categories_df['keywords'].apply(\n",
    "        lambda x: len(x) if isinstance(x, list) else 0\n",
    "    )\n",
    "    \n",
    "    field_stats = categories_df.groupby('field_of_research').agg({\n",
    "        'keywords_count': 'sum'\n",
    "    }).reset_index()\n",
    "    field_stats = field_stats.sort_values('keywords_count', ascending=False)\n",
    "    \n",
    "    if max_research_fields:\n",
    "        top_fields = field_stats.head(max_research_fields)['field_of_research'].tolist()\n",
    "        categories_df = categories_df[categories_df['field_of_research'].isin(top_fields)]\n",
    "        field_stats = field_stats.head(max_research_fields)\n",
    "    \n",
    "    if max_categories_per_field:\n",
    "        filtered_cats = []\n",
    "        for field in categories_df['field_of_research'].unique():\n",
    "            field_cats = categories_df[categories_df['field_of_research'] == field]\n",
    "            field_cats = field_cats.sort_values('keywords_count', ascending=False)\n",
    "            filtered_cats.append(field_cats.head(max_categories_per_field))\n",
    "        categories_df = pd.concat(filtered_cats)\n",
    "    \n",
    "    labels = []\n",
    "    parents = []\n",
    "    values = []\n",
    "    texts = []\n",
    "    colors = []\n",
    "    \n",
    "    field_colors = {}\n",
    "    color_palette = [\n",
    "        '#1f77b4', '#ff7f0e', '#2ca02c', '#d62728', '#9467bd',\n",
    "        '#8c564b', '#e377c2', '#7f7f7f', '#bcbd22', '#17becf',\n",
    "        '#aec7e8', '#ffbb78', '#98df8a', '#ff9896', '#c5b0d5'\n",
    "    ]\n",
    "    \n",
    "    for i, field in enumerate(field_stats['field_of_research']):\n",
    "        field_colors[field] = color_palette[i % len(color_palette)]\n",
    "    \n",
    "    for _, row in field_stats.iterrows():\n",
    "        field = row['field_of_research']\n",
    "        count = row['keywords_count']\n",
    "        \n",
    "        labels.append(field)\n",
    "        parents.append(\"\")\n",
    "        values.append(count)\n",
    "        texts.append(f\"{field}<br>{count} keywords\")\n",
    "        colors.append(field_colors[field])\n",
    "    \n",
    "    for idx, row in categories_df.iterrows():\n",
    "        field = row['field_of_research']\n",
    "        category_name = str(idx)\n",
    "        keyword_count = row['keywords_count']\n",
    "        \n",
    "        labels.append(category_name)\n",
    "        parents.append(field)\n",
    "        values.append(keyword_count)\n",
    "        texts.append(f\"{category_name}<br>{keyword_count} keywords\")\n",
    "        colors.append(field_colors[field])\n",
    "    \n",
    "    for idx, row in categories_df.iterrows():\n",
    "        field = row['field_of_research']\n",
    "        keywords = row.get('keywords', [])\n",
    "        \n",
    "        if max_keywords_per_category:\n",
    "            keywords = keywords[:max_keywords_per_category]\n",
    "        \n",
    "        for kw in keywords:\n",
    "            labels.append(kw)\n",
    "            parents.append(str(idx))\n",
    "            values.append(1)\n",
    "            texts.append(kw)\n",
    "            colors.append(field_colors[field])\n",
    "    \n",
    "    fig = go.Figure(go.Treemap(\n",
    "        labels=labels,\n",
    "        parents=parents,\n",
    "        values=values,\n",
    "        text=texts,\n",
    "        textposition=\"middle center\",\n",
    "        textfont=dict(size=font_size),\n",
    "        marker=dict(\n",
    "            colors=colors,\n",
    "            line=dict(width=2, color='white')\n",
    "        ),\n",
    "        hovertemplate='<b>%{label}</b><br>%{text}<extra></extra>'\n",
    "    ))\n",
    "    \n",
    "    fig.update_layout(\n",
    "        title=\"Research Landscape: Research Fields → Categories → Keywords\",\n",
    "        height=height,\n",
    "        margin=dict(t=50, l=0, r=0, b=0)\n",
    "    )\n",
    "    \n",
    "    return fig\n",
    "\n",
    "# Test with limited data\n",
    "fig = create_treemap(\n",
    "    cats,\n",
    "    max_research_fields=5,\n",
    "    max_categories_per_field=3,\n",
    "    max_keywords_per_category=5,\n",
    "    height=800,\n",
    "    font_size=14\n",
    ")\n",
    "fig.show()"
   ]
  }
 ],
 "metadata": {
  "kernelspec": {
   "display_name": "modeling",
   "language": "python",
   "name": "python3"
  },
  "language_info": {
   "codemirror_mode": {
    "name": "ipython",
    "version": 3
   },
   "file_extension": ".py",
   "mimetype": "text/x-python",
   "name": "python",
   "nbconvert_exporter": "python",
   "pygments_lexer": "ipython3",
   "version": "3.12.10"
  }
 },
 "nbformat": 4,
 "nbformat_minor": 5
}

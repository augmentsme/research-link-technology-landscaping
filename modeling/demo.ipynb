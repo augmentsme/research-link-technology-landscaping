{
 "cells": [
  {
   "cell_type": "code",
   "execution_count": 1,
   "id": "26a671cf",
   "metadata": {},
   "outputs": [],
   "source": [
    "\n",
    "import config\n",
    "import pandas as pd\n",
    "import plotly.express as px"
   ]
  },
  {
   "cell_type": "code",
   "execution_count": 2,
   "id": "227f84e9",
   "metadata": {},
   "outputs": [],
   "source": [
    "from pipelines.cluster_io import load_cluster_file"
   ]
  },
  {
   "cell_type": "code",
   "execution_count": 3,
   "id": "b1f82774",
   "metadata": {},
   "outputs": [],
   "source": [
    "df = pd.read_json(\"/fred/oz318/luhanc/research-link-technology-landscaping/modeling/results/keywords/keywords_clusters.json\")"
   ]
  },
  {
   "cell_type": "code",
   "execution_count": 4,
   "id": "8a45c69d",
   "metadata": {},
   "outputs": [
    {
     "data": {
      "text/plain": [
       "<Axes: >"
      ]
     },
     "execution_count": 4,
     "metadata": {},
     "output_type": "execute_result"
    },
    {
     "data": {
      "image/png": "[encoded data removed]",
      "text/plain": [
       "<Figure size 640x480 with 1 Axes>"
      ]
     },
     "metadata": {},
     "output_type": "display_data"
    }
   ],
   "source": [
    "df.clusters.map(len).hist(bins=50)"
   ]
  },
  {
   "cell_type": "code",
   "execution_count": null,
   "id": "4ec42398",
   "metadata": {},
   "outputs": [],
   "source": []
  },
  {
   "cell_type": "code",
   "execution_count": 12,
   "id": "af85622a",
   "metadata": {},
   "outputs": [
    {
     "data": {
      "application/vnd.jupyter.widget-view+json": {
       "model_id": "ce5ec14e88054bf5a5eba31d94018129",
       "version_major": 2,
       "version_minor": 0
      },
      "text/plain": [
       "Output()"
      ]
     },
     "metadata": {},
     "output_type": "display_data"
    },
    {
     "name": "stderr",
     "output_type": "stream",
     "text": [
      "/fred/oz318/luhanc/research-link-technology-landscaping/modeling/pipelines/cluster_io.py:41: RuntimeWarning: coroutine 'merge_async' was never awaited\n",
      "  {k: v for k, v in item.items() if k != \"embedding_index\"}\n",
      "RuntimeWarning: Enable tracemalloc to get the object allocation traceback\n"
     ]
    },
    {
     "data": {
      "text/html": [
       "<pre style=\"white-space:pre;overflow-x:auto;line-height:normal;font-family:Menlo,'DejaVu Sans Mono',consolas,'Courier New',monospace\"></pre>\n"
      ],
      "text/plain": []
     },
     "metadata": {},
     "output_type": "display_data"
    },
    {
     "data": {
      "text/plain": [
       "['cluster_0']"
      ]
     },
     "execution_count": 12,
     "metadata": {},
     "output_type": "execute_result"
    }
   ],
   "source": [
    "from pathlib import Path\n",
    "import importlib\n",
    "merge_module = importlib.import_module(\"pipelines.merge\")\n",
    "importlib.reload(merge_module)\n",
    "from pipelines.merge import merge_async\n",
    "merge_output_dir = Path(\"results/merge_demo\")\n",
    "merge_batches = await merge_async(\n",
    "    clusters_path=Path(\"/fred/oz318/luhanc/research-link-technology-landscaping/modeling/results/categories/1/categories_clusters.json\"),\n",
    "    output_dir=merge_output_dir,\n",
    "    concurrency=8,\n",
    "    limit=1,\n",
    ")\n",
    "merge_batches"
   ]
  }
 ],
 "metadata": {
  "kernelspec": {
   "display_name": "modeling (3.12.10)",
   "language": "python",
   "name": "python3"
  },
  "language_info": {
   "codemirror_mode": {
    "name": "ipython",
    "version": 3
   },
   "file_extension": ".py",
   "mimetype": "text/x-python",
   "name": "python",
   "nbconvert_exporter": "python",
   "pygments_lexer": "ipython3",
   "version": "3.12.10"
  }
 },
 "nbformat": 4,
 "nbformat_minor": 5
}

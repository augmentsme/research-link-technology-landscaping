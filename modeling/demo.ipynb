{
 "cells": [
  {
   "cell_type": "code",
   "execution_count": 1,
   "id": "b73895f6",
   "metadata": {},
   "outputs": [
    {
     "name": "stderr",
     "output_type": "stream",
     "text": [
      "2025-10-17 15:04:29.250 WARNING streamlit.runtime.caching.cache_data_api: No runtime found, using MemoryCacheStorageManager\n",
      "2025-10-17 15:04:29.251 WARNING streamlit.runtime.caching.cache_data_api: No runtime found, using MemoryCacheStorageManager\n",
      "2025-10-17 15:04:29.251 WARNING streamlit.runtime.caching.cache_data_api: No runtime found, using MemoryCacheStorageManager\n",
      "2025-10-17 15:04:29.251 WARNING streamlit.runtime.caching.cache_data_api: No runtime found, using MemoryCacheStorageManager\n",
      "2025-10-17 15:04:29.252 WARNING streamlit.runtime.caching.cache_data_api: No runtime found, using MemoryCacheStorageManager\n",
      "2025-10-17 15:04:29.252 WARNING streamlit.runtime.caching.cache_data_api: No runtime found, using MemoryCacheStorageManager\n",
      "2025-10-17 15:04:29.252 WARNING streamlit.runtime.caching.cache_data_api: No runtime found, using MemoryCacheStorageManager\n"
     ]
    }
   ],
   "source": [
    "import plotly.express as px\n",
    "import pandas as pd\n",
    "import config\n",
    "from web.shared_utils import load_data"
   ]
  },
  {
   "cell_type": "code",
   "execution_count": 2,
   "id": "5685b047",
   "metadata": {},
   "outputs": [
    {
     "name": "stderr",
     "output_type": "stream",
     "text": [
      "2025-10-17 15:04:29.262 WARNING streamlit.runtime.caching.cache_data_api: No runtime found, using MemoryCacheStorageManager\n",
      "2025-10-17 15:04:29.262 WARNING streamlit.runtime.scriptrunner_utils.script_run_context: Thread 'MainThread': missing ScriptRunContext! This warning can be ignored when running in bare mode.\n",
      "2025-10-17 15:04:29.375 \n",
      "  \u001b[33m\u001b[1mWarning:\u001b[0m to view this Streamlit app on a browser, run it with the following\n",
      "  command:\n",
      "\n",
      "    streamlit run /Users/luhancheng/Desktop/research-link-technology-landscaping/modeling/.venv/lib/python3.12/site-packages/ipykernel_launcher.py [ARGUMENTS]\n",
      "2025-10-17 15:04:29.375 Thread 'MainThread': missing ScriptRunContext! This warning can be ignored when running in bare mode.\n",
      "2025-10-17 15:04:29.376 Thread 'MainThread': missing ScriptRunContext! This warning can be ignored when running in bare mode.\n",
      "2025-10-17 15:04:29.376 Thread 'MainThread': missing ScriptRunContext! This warning can be ignored when running in bare mode.\n",
      "2025-10-17 15:04:29.941 Thread 'Thread-5': missing ScriptRunContext! This warning can be ignored when running in bare mode.\n",
      "2025-10-17 15:04:30.001 Thread 'Thread-5': missing ScriptRunContext! This warning can be ignored when running in bare mode.\n",
      "2025-10-17 15:04:30.037 Thread 'Thread-5': missing ScriptRunContext! This warning can be ignored when running in bare mode.\n",
      "2025-10-17 15:04:33.384 Thread 'MainThread': missing ScriptRunContext! This warning can be ignored when running in bare mode.\n",
      "2025-10-17 15:04:33.385 Thread 'MainThread': missing ScriptRunContext! This warning can be ignored when running in bare mode.\n",
      "2025-10-17 15:04:33.385 Thread 'MainThread': missing ScriptRunContext! This warning can be ignored when running in bare mode.\n"
     ]
    }
   ],
   "source": [
    "keywords, grants, cats = load_data()"
   ]
  },
  {
   "cell_type": "code",
   "execution_count": 20,
   "id": "846794c9",
   "metadata": {},
   "outputs": [
    {
     "data": {
      "text/html": [
       "<div>\n",
       "<style scoped>\n",
       "    .dataframe tbody tr th:only-of-type {\n",
       "        vertical-align: middle;\n",
       "    }\n",
       "\n",
       "    .dataframe tbody tr th {\n",
       "        vertical-align: top;\n",
       "    }\n",
       "\n",
       "    .dataframe thead th {\n",
       "        text-align: right;\n",
       "    }\n",
       "</style>\n",
       "<table border=\"1\" class=\"dataframe\">\n",
       "  <thead>\n",
       "    <tr style=\"text-align: right;\">\n",
       "      <th></th>\n",
       "      <th>type</th>\n",
       "      <th>description</th>\n",
       "      <th>grants</th>\n",
       "      <th>organisation_ids</th>\n",
       "    </tr>\n",
       "    <tr>\n",
       "      <th>name</th>\n",
       "      <th></th>\n",
       "      <th></th>\n",
       "      <th></th>\n",
       "      <th></th>\n",
       "    </tr>\n",
       "  </thead>\n",
       "  <tbody>\n",
       "    <tr>\n",
       "      <th>climate change impacts</th>\n",
       "      <td>Application</td>\n",
       "      <td>Directly referenced in the grant description a...</td>\n",
       "      <td>[arc/lx0882558, arc/ft230100276, arc/dp0451686...</td>\n",
       "      <td>[0c165914-e0ea-4893-bf35-8af8ae693dde, 228d87c...</td>\n",
       "    </tr>\n",
       "    <tr>\n",
       "      <th>climate change adaptation</th>\n",
       "      <td>Application</td>\n",
       "      <td>A core theme in the grant, explicitly referenc...</td>\n",
       "      <td>[79b40bd1-a6bc-4414-8edb-ca5993f46ff7, arc/dp1...</td>\n",
       "      <td>[0d9e002e-ef4a-4f7a-bc3b-87c93432e4b9, 1357d98...</td>\n",
       "    </tr>\n",
       "  </tbody>\n",
       "</table>\n",
       "</div>"
      ],
      "text/plain": [
       "                                  type  \\\n",
       "name                                     \n",
       "climate change impacts     Application   \n",
       "climate change adaptation  Application   \n",
       "\n",
       "                                                                 description  \\\n",
       "name                                                                           \n",
       "climate change impacts     Directly referenced in the grant description a...   \n",
       "climate change adaptation  A core theme in the grant, explicitly referenc...   \n",
       "\n",
       "                                                                      grants  \\\n",
       "name                                                                           \n",
       "climate change impacts     [arc/lx0882558, arc/ft230100276, arc/dp0451686...   \n",
       "climate change adaptation  [79b40bd1-a6bc-4414-8edb-ca5993f46ff7, arc/dp1...   \n",
       "\n",
       "                                                            organisation_ids  \n",
       "name                                                                          \n",
       "climate change impacts     [0c165914-e0ea-4893-bf35-8af8ae693dde, 228d87c...  \n",
       "climate change adaptation  [0d9e002e-ef4a-4f7a-bc3b-87c93432e4b9, 1357d98...  "
      ]
     },
     "execution_count": 20,
     "metadata": {},
     "output_type": "execute_result"
    }
   ],
   "source": [
    "keywords.loc[[\"climate change impacts\", \"climate change adaptation\"]]"
   ]
  },
  {
   "cell_type": "code",
   "execution_count": 25,
   "id": "88199394",
   "metadata": {},
   "outputs": [],
   "source": [
    "impacts_grants = grants.loc[keywords.loc[\"climate change impacts\"].grants]"
   ]
  },
  {
   "cell_type": "code",
   "execution_count": 26,
   "id": "28ffa22f",
   "metadata": {},
   "outputs": [],
   "source": [
    "adaptation_grants = grants.loc[keywords.loc[\"climate change adaptation\"].grants]"
   ]
  },
  {
   "cell_type": "code",
   "execution_count": 40,
   "id": "a58a3dd6",
   "metadata": {},
   "outputs": [
    {
     "data": {
      "text/plain": [
       "Index([], dtype='object', name='id')"
      ]
     },
     "execution_count": 40,
     "metadata": {},
     "output_type": "execute_result"
    }
   ],
   "source": [
    "impacts_grants.index.intersection(adaptation_grants.index)"
   ]
  },
  {
   "cell_type": "code",
   "execution_count": null,
   "id": "ece4f63a",
   "metadata": {},
   "outputs": [],
   "source": []
  }
 ],
 "metadata": {
  "kernelspec": {
   "display_name": "modeling (3.12.10)",
   "language": "python",
   "name": "python3"
  },
  "language_info": {
   "codemirror_mode": {
    "name": "ipython",
    "version": 3
   },
   "file_extension": ".py",
   "mimetype": "text/x-python",
   "name": "python",
   "nbconvert_exporter": "python",
   "pygments_lexer": "ipython3",
   "version": "3.12.10"
  }
 },
 "nbformat": 4,
 "nbformat_minor": 5
}

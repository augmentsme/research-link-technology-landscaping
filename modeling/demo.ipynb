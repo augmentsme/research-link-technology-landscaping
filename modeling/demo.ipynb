{
 "cells": [
  {
   "cell_type": "code",
   "execution_count": 8,
   "id": "3c30db15",
   "metadata": {},
   "outputs": [
    {
     "name": "stdout",
     "output_type": "stream",
     "text": [
      "The autoreload extension is already loaded. To reload it, use:\n",
      "  %reload_ext autoreload\n"
     ]
    }
   ],
   "source": [
    "%load_ext autoreload\n",
    "%autoreload 2\n",
    "import utils\n",
    "\n",
    "import config\n"
   ]
  },
  {
   "cell_type": "code",
   "execution_count": 9,
   "id": "78e3ad91",
   "metadata": {},
   "outputs": [],
   "source": [
    "enriched = config.Grants.load_enriched()"
   ]
  },
  {
   "cell_type": "code",
   "execution_count": 31,
   "id": "c9e684e6",
   "metadata": {},
   "outputs": [
    {
     "data": {
      "text/plain": [
       "Index(['funder', 'last_updated', 'local_id', 'start_year',\n",
       "       'nhmrc_funding_amount', 'purl', 'source', 'type', 'title', 'end_year',\n",
       "       'participant_list', 'key', 'grant_summary', 'arc_for_primary',\n",
       "       'arc_scheme_name', 'arc_announcement_administering_organisation', 'url',\n",
       "       'arc_grant_status', 'arc_funding_at_announcement', 'arc_for',\n",
       "       'arc_rfcd', 'funding_currency', 'crossref_grant_award',\n",
       "       'funding_amount'],\n",
       "      dtype='object')"
      ]
     },
     "execution_count": 31,
     "metadata": {},
     "output_type": "execute_result"
    }
   ],
   "source": [
    "enriched.columns"
   ]
  },
  {
   "cell_type": "code",
   "execution_count": 28,
   "id": "fdcad34b",
   "metadata": {},
   "outputs": [
    {
     "data": {
      "text/plain": [
       "key\n",
       "arc      32338\n",
       "orcid    29781\n",
       "nhmrc    28547\n",
       "doi         49\n",
       "Name: count, dtype: int64"
      ]
     },
     "execution_count": 28,
     "metadata": {},
     "output_type": "execute_result"
    }
   ],
   "source": [
    "enriched.key.str.split(\"/\").map(lambda x: x[0]).value_counts()"
   ]
  },
  {
   "cell_type": "code",
   "execution_count": 16,
   "id": "158a6e23",
   "metadata": {},
   "outputs": [
    {
     "name": "stdout",
     "output_type": "stream",
     "text": [
      "The autoreload extension is already loaded. To reload it, use:\n",
      "  %reload_ext autoreload\n",
      "=== TESTING IMPROVED CLEANING FUNCTION ===\n",
      "\n",
      "Loaded 90,715 total records from 4 sources\n",
      "  - nhmrc.org: 28,547 records\n",
      "  - arc.gov.au: 32,338 records\n",
      "  - orcid.org: 29,781 records\n",
      "  - crossref.org: 49 records\n",
      "Processed NHMRC grants: 28,442 records\n",
      "Processed ARC grants: 32,338 records\n",
      "Processed ORCID grants: 12,365 records\n",
      "Processed Crossref grants: 46 records\n",
      "Loaded 90,715 total records from 4 sources\n",
      "  - nhmrc.org: 28,547 records\n",
      "  - arc.gov.au: 32,338 records\n",
      "  - orcid.org: 29,781 records\n",
      "  - crossref.org: 49 records\n",
      "Processed NHMRC grants: 28,442 records\n",
      "Processed ARC grants: 32,338 records\n",
      "Processed ORCID grants: 12,365 records\n",
      "Processed Crossref grants: 46 records\n"
     ]
    },
    {
     "name": "stderr",
     "output_type": "stream",
     "text": [
      "/Users/luhancheng/Desktop/research-link-technology-landscaping/modeling/prepare.py:509: FutureWarning: Setting an item of incompatible dtype is deprecated and will raise in a future error of pandas. Value '<NA>' has dtype incompatible with float64, please explicitly cast to a compatible dtype first.\n",
      "  orcid_grants.loc[:, 'funding_amount'] = None\n",
      "/Users/luhancheng/Desktop/research-link-technology-landscaping/modeling/prepare.py:442: FutureWarning: The behavior of DataFrame concatenation with empty or all-NA entries is deprecated. In a future version, this will no longer exclude empty or all-NA columns when determining the result dtypes. To retain the old behavior, exclude the relevant entries before the concat operation.\n",
      "  df_cleaned = pd.concat(cleaned_parts, axis=0, ignore_index=False)\n"
     ]
    },
    {
     "name": "stdout",
     "output_type": "stream",
     "text": [
      "Total cleaned records: 73,191\n",
      "\n",
      "=== FINAL SUMMARY ===\n",
      "Total cleaned records: 73,191\n",
      "Memory usage: 60.8 MB\n",
      "\n",
      "Sample records by source:\n",
      "  nhmrc.org: 'Investigation of haematopoietic and leukemia stem cell self-...' (Funder: NHMRC)\n",
      "  arc.gov.au: 'Australia's variable rainfall - how dry or wet can it really...' (Funder: ARC)\n",
      "  orcid.org: 'The legal regulation of behaviour as a disability...' (Funder: ARC)\n",
      "  crossref.org: 'TurExperience - Tourist experiences' impacts on the destinat...' (Funder: Fundação para a Ciência e a Tecnologia)\n"
     ]
    }
   ],
   "source": [
    "# Test the improved cleaning function (should have fewer warnings)\n",
    "%load_ext autoreload\n",
    "%autoreload 2\n",
    "\n",
    "from prepare import GrantsCleaner\n",
    "import config\n",
    "\n",
    "print(\"=== TESTING IMPROVED CLEANING FUNCTION ===\\n\")\n",
    "\n",
    "# Create cleaner and test it\n",
    "cleaner = GrantsCleaner()\n",
    "cleaned_df_v2 = cleaner.clean_enriched_data(config.Grants.enriched_path)\n",
    "\n",
    "if cleaned_df_v2 is not None:\n",
    "    print(f\"\\n=== FINAL SUMMARY ===\")\n",
    "    print(f\"Total cleaned records: {len(cleaned_df_v2):,}\")\n",
    "    print(f\"Memory usage: {cleaned_df_v2.memory_usage(deep=True).sum() / 1024**2:.1f} MB\")\n",
    "    \n",
    "    # Check sample records from each source\n",
    "    print(f\"\\nSample records by source:\")\n",
    "    for source in cleaned_df_v2.source.unique():\n",
    "        sample = cleaned_df_v2[cleaned_df_v2.source == source].iloc[0]\n",
    "        print(f\"  {source}: '{sample['title'][:60]}...' (Funder: {sample['funder_standardized']})\")\n",
    "else:\n",
    "    print(\"Cleaning failed!\")"
   ]
  },
  {
   "cell_type": "markdown",
   "id": "b6f285fb",
   "metadata": {},
   "source": [
    "## Summary of Data Cleaning Improvements\n",
    "\n",
    "### ✅ Unified Data Cleaning Function\n",
    "\n",
    "The new `GrantsCleaner` class now handles all 4 data sources properly:\n",
    "\n",
    "#### **Source Processing:**\n",
    "1. **nhmrc.org** (28,442 records): NHMRC grants with funding amounts\n",
    "2. **arc.gov.au** (32,338 records): ARC grants with funding amounts and FOR codes  \n",
    "3. **orcid.org** (12,365 records): Additional Australian grants (ARC, NHMRC, Cancer Australia)\n",
    "4. **crossref.org** (46 records): International grants with funding amounts\n",
    "\n",
    "#### **Key Improvements:**\n",
    "- **Merged two separate cleaning functions** into one unified approach\n",
    "- **Handles all 4 sources** with appropriate logic for each\n",
    "- **Standardized funding amount fields** from different source-specific columns\n",
    "- **Added funder_standardized field** for consistent funder names\n",
    "- **Improved filtering logic** to include relevant grants from all sources\n",
    "- **Better data type handling** to reduce pandas warnings\n",
    "\n",
    "#### **Output:**\n",
    "- **Total cleaned records**: 73,191 (from 90,715 original)\n",
    "- **Memory usage**: ~60.8 MB\n",
    "- **Standardized columns**: title, grant_summary, funding_amount, start_year, end_year, funder, funder_standardized, for_primary, for, source"
   ]
  },
  {
   "cell_type": "code",
   "execution_count": 11,
   "id": "2cb01349",
   "metadata": {},
   "outputs": [
    {
     "name": "stdout",
     "output_type": "stream",
     "text": [
      "Data shape: (90715, 24)\n",
      "\n",
      "Columns: ['funder', 'last_updated', 'local_id', 'start_year', 'nhmrc_funding_amount', 'purl', 'source', 'type', 'title', 'end_year', 'participant_list', 'key', 'grant_summary', 'arc_for_primary', 'arc_scheme_name', 'arc_announcement_administering_organisation', 'url', 'arc_grant_status', 'arc_funding_at_announcement', 'arc_for', 'arc_rfcd', 'funding_currency', 'crossref_grant_award', 'funding_amount']\n",
      "\n",
      "Source counts:\n",
      "source\n",
      "arc.gov.au      32338\n",
      "orcid.org       29781\n",
      "nhmrc.org       28547\n",
      "crossref.org       49\n",
      "Name: count, dtype: int64\n"
     ]
    }
   ],
   "source": [
    "# Let's examine the structure by source\n",
    "print(\"Data shape:\", enriched.shape)\n",
    "print(\"\\nColumns:\", list(enriched.columns))\n",
    "print(\"\\nSource counts:\")\n",
    "print(enriched.source.value_counts())"
   ]
  },
  {
   "cell_type": "code",
   "execution_count": 13,
   "id": "7b89d29e",
   "metadata": {},
   "outputs": [
    {
     "name": "stdout",
     "output_type": "stream",
     "text": [
      "\n",
      "=== nhmrc.org ===\n",
      "Sample title: Investigation of haematopoietic and leukemia stem cell self-renewal.\n",
      "Funder: National Health and Medical Research Council\n",
      "Grant summary exists: True\n",
      "nhmrc_funding_amount: 415218.3\n",
      "--------------------------------------------------\n",
      "\n",
      "=== arc.gov.au ===\n",
      "Sample title: Australia's variable rainfall - how dry or wet can it really get?\n",
      "Funder: arc.gov.au\n",
      "Grant summary exists: True\n",
      "arc_funding_at_announcement: 353000.0\n",
      "arc_for_primary: 406.0\n",
      "arc_for: 040104,0406,040605,040608\n",
      "--------------------------------------------------\n",
      "\n",
      "=== orcid.org ===\n",
      "Sample title: The legal regulation of behaviour as a disability\n",
      "Funder: Australian Research Council\n",
      "Grant summary exists: False\n",
      "--------------------------------------------------\n",
      "\n",
      "=== crossref.org ===\n",
      "Sample title: TurExperience - Tourist experiences' impacts on the destination image: searching for new opportunities to the Algarve.\n",
      "Funder: Fundação para a Ciência e a Tecnologia\n",
      "Grant summary exists: False\n",
      "funding_amount: 123609.79\n",
      "crossref_grant_award: SAICT-ALG/39588/2018\n",
      "--------------------------------------------------\n"
     ]
    }
   ],
   "source": [
    "import pandas as pd\n",
    "\n",
    "# Let's look at sample records from each source to understand the structure\n",
    "for source in enriched.source.unique():\n",
    "    print(f\"\\n=== {source} ===\")\n",
    "    sample = enriched[enriched.source == source].iloc[0]\n",
    "    print(f\"Sample title: {sample['title']}\")\n",
    "    print(f\"Funder: {sample['funder']}\")\n",
    "    print(f\"Grant summary exists: {pd.notna(sample['grant_summary']) and sample['grant_summary'] != ''}\")\n",
    "    \n",
    "    # Check funding amount fields\n",
    "    funding_fields = ['funding_amount', 'nhmrc_funding_amount', 'arc_funding_at_announcement', 'crossref_grant_award']\n",
    "    for field in funding_fields:\n",
    "        if field in sample and pd.notna(sample[field]):\n",
    "            print(f\"{field}: {sample[field]}\")\n",
    "    \n",
    "    # Check FOR codes fields\n",
    "    for_fields = ['arc_for_primary', 'arc_for']\n",
    "    for field in for_fields:\n",
    "        if field in sample and pd.notna(sample[field]):\n",
    "            print(f\"{field}: {sample[field]}\")\n",
    "    print(\"-\" * 50)"
   ]
  },
  {
   "cell_type": "code",
   "execution_count": 14,
   "id": "7914c8eb",
   "metadata": {},
   "outputs": [
    {
     "name": "stdout",
     "output_type": "stream",
     "text": [
      "=== KEY PATTERNS BY SOURCE ===\n",
      "\n",
      "nhmrc.org (28,547 records):\n",
      "  - Has nhmrc_funding_amount: 28,524 (99.9%)\n",
      "  - Has grant summary: 12,148 (42.6%)\n",
      "  - Unique funders: ['National Health and Medical Research Council'\n",
      " 'Australian Research Council']\n",
      "\n",
      "arc.gov.au (32,338 records):\n",
      "  - Has arc_funding_at_announcement: 32,338 (100.0%)\n",
      "  - Has grant summary: 21,505 (66.5%)\n",
      "  - Has FOR primary: 32,263 (99.8%)\n",
      "  - Has FOR codes: 32,263 (99.8%)\n",
      "  - Unique funders: ['arc.gov.au']\n",
      "\n",
      "orcid.org (29,781 records):\n",
      "  - Has grant summary: 0 (0.0%)\n",
      "  - Unique funders: ['Australian Research Council' 'Cancer Australia'\n",
      " 'National Health and Medical Research Council' ...\n",
      " 'Universitat Rovira i Virgili' 'National Academy of Sciences of Ukraine'\n",
      " 'University of Technology Sydney - Health Future Development Grant (HFDG)']\n",
      "\n",
      "crossref.org (49 records):\n",
      "  - Has funding_amount: 46 (93.9%)\n",
      "  - Has grant summary: 0 (0.0%)\n",
      "  - Unique funders: ['Fundação para a Ciência e a Tecnologia' 'American Heart Association'\n",
      " 'Wellcome Trust' 'H2020 European Research Council'\n",
      " 'Asia-Pacific Network for Global Change Research'\n",
      " 'Australian Research Data Commons' 'Melanoma Research Alliance'\n",
      " 'HORIZON EUROPE European Innovation Council'\n",
      " 'Muscular Dystrophy Association'\n",
      " 'HORIZON EUROPE Marie Sklodowska-Curie Actions'\n",
      " \"Children's Tumor Foundation\"]\n",
      "\n"
     ]
    }
   ],
   "source": [
    "# Let's analyze the key patterns for each source\n",
    "print(\"=== KEY PATTERNS BY SOURCE ===\\n\")\n",
    "\n",
    "for source in enriched.source.unique():\n",
    "    subset = enriched[enriched.source == source]\n",
    "    print(f\"{source} ({len(subset):,} records):\")\n",
    "    \n",
    "    # Funding amount patterns\n",
    "    if source == 'nhmrc.org':\n",
    "        funding_field = 'nhmrc_funding_amount'\n",
    "    elif source == 'arc.gov.au':\n",
    "        funding_field = 'arc_funding_at_announcement'\n",
    "    elif source == 'crossref.org':\n",
    "        funding_field = 'funding_amount'\n",
    "    else:\n",
    "        funding_field = None\n",
    "    \n",
    "    if funding_field:\n",
    "        has_funding = subset[funding_field].notna().sum()\n",
    "        print(f\"  - Has {funding_field}: {has_funding:,} ({has_funding/len(subset)*100:.1f}%)\")\n",
    "    \n",
    "    # Grant summary patterns\n",
    "    has_summary = (subset['grant_summary'].notna() & (subset['grant_summary'] != '')).sum()\n",
    "    print(f\"  - Has grant summary: {has_summary:,} ({has_summary/len(subset)*100:.1f}%)\")\n",
    "    \n",
    "    # FOR codes (only for ARC)\n",
    "    if source == 'arc.gov.au':\n",
    "        has_for_primary = subset['arc_for_primary'].notna().sum()\n",
    "        has_for = subset['arc_for'].notna().sum()\n",
    "        print(f\"  - Has FOR primary: {has_for_primary:,} ({has_for_primary/len(subset)*100:.1f}%)\")\n",
    "        print(f\"  - Has FOR codes: {has_for:,} ({has_for/len(subset)*100:.1f}%)\")\n",
    "    \n",
    "    # Unique funders\n",
    "    funders = subset['funder'].unique()\n",
    "    print(f\"  - Unique funders: {funders}\")\n",
    "    print()"
   ]
  }
 ],
 "metadata": {
  "kernelspec": {
   "display_name": "modeling (3.12.10)",
   "language": "python",
   "name": "python3"
  },
  "language_info": {
   "codemirror_mode": {
    "name": "ipython",
    "version": 3
   },
   "file_extension": ".py",
   "mimetype": "text/x-python",
   "name": "python",
   "nbconvert_exporter": "python",
   "pygments_lexer": "ipython3",
   "version": "3.12.10"
  }
 },
 "nbformat": 4,
 "nbformat_minor": 5
}

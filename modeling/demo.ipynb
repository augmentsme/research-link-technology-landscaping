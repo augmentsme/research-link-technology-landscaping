{
 "cells": [
  {
   "cell_type": "code",
   "execution_count": 13,
   "id": "26a671cf",
   "metadata": {},
   "outputs": [
    {
     "name": "stdout",
     "output_type": "stream",
     "text": [
      "The autoreload extension is already loaded. To reload it, use:\n",
      "  %reload_ext autoreload\n"
     ]
    }
   ],
   "source": [
    "%load_ext autoreload\n",
    "%autoreload 2\n",
    "\n",
    "import utils\n",
    "import config\n",
    "import plotly.express as px"
   ]
  },
  {
   "cell_type": "code",
   "execution_count": 14,
   "id": "d081ae6e",
   "metadata": {},
   "outputs": [],
   "source": [
    "keywords = config.Keywords.load()\n",
    "grants = config.Grants.load()\n",
    "cats = config.Categories.load()"
   ]
  },
  {
   "cell_type": "code",
   "execution_count": 38,
   "id": "f1cc9de0",
   "metadata": {},
   "outputs": [
    {
     "data": {
      "application/vnd.plotly.v1+json": {
       "config": {
        "plotlyServerURL": "https://plot.ly"
       },
       "data": [
        {
         "hoverinfo": "skip",
         "legendgroup": "Therapeutic Inhibition Strategies",
         "line": {
          "color": "rgb(31, 119, 180)",
          "width": 2
         },
         "mode": "lines",
         "name": "Therapeutic Inhibition Strategies",
         "showlegend": false,
         "type": "scatter",
         "x": {
          "bdata": "AAAAAACQn0A=",
          "dtype": "f8"
         },
         "y": {
          "bdata": "AQ==",
          "dtype": "i1"
         }
        },
        {
         "hovertemplate": "%{text}<extra></extra>",
         "legendgroup": "Therapeutic Inhibition Strategies",
         "marker": {
          "color": "rgb(31, 119, 180)",
          "line": {
           "color": "white",
           "width": 1
          },
          "opacity": 0.8,
          "size": {
           "bdata": "7VzrrPAaCkA=",
           "dtype": "f8"
          }
         },
         "mode": "markers",
         "name": "Therapeutic Inhibition Strategies",
         "showlegend": true,
         "text": [
          "Category: Therapeutic Inhibition Strategies<br>Year: 2020<br>Grants: 1<br>Funding: $904,890"
         ],
         "type": "scatter",
         "x": {
          "bdata": "AAAAAACQn0A=",
          "dtype": "f8"
         },
         "y": {
          "bdata": "AQ==",
          "dtype": "i1"
         }
        },
        {
         "hoverinfo": "skip",
         "legendgroup": "Commercialization and Market Deployment",
         "line": {
          "color": "rgb(255, 127, 14)",
          "width": 2
         },
         "mode": "lines",
         "name": "Commercialization and Market Deployment",
         "showlegend": false,
         "type": "scatter",
         "x": {
          "bdata": "AAAAAACQn0A=",
          "dtype": "f8"
         },
         "y": {
          "bdata": "Ag==",
          "dtype": "i1"
         }
        },
        {
         "hovertemplate": "%{text}<extra></extra>",
         "legendgroup": "Commercialization and Market Deployment",
         "marker": {
          "color": "rgb(255, 127, 14)",
          "line": {
           "color": "white",
           "width": 1
          },
          "opacity": 0.8,
          "size": {
           "bdata": "znPNt1sN9D8=",
           "dtype": "f8"
          }
         },
         "mode": "markers",
         "name": "Commercialization and Market Deployment",
         "showlegend": true,
         "text": [
          "Category: Commercialization and Market Deployment<br>Year: 2020<br>Grants: 2<br>Funding: $347,536"
         ],
         "type": "scatter",
         "x": {
          "bdata": "AAAAAACQn0A=",
          "dtype": "f8"
         },
         "y": {
          "bdata": "Ag==",
          "dtype": "i1"
         }
        },
        {
         "hoverinfo": "skip",
         "legendgroup": "Historical and Societal Narratives of Power, Resistance, and Identity",
         "line": {
          "color": "rgb(44, 160, 44)",
          "width": 2
         },
         "mode": "lines",
         "name": "Historical and Societal Narratives of Power, Resistance, and Identity",
         "showlegend": false,
         "type": "scatter",
         "x": {
          "bdata": "AAAAAACQn0A=",
          "dtype": "f8"
         },
         "y": {
          "bdata": "BQ==",
          "dtype": "i1"
         }
        },
        {
         "hovertemplate": "%{text}<extra></extra>",
         "legendgroup": "Historical and Societal Narratives of Power, Resistance, and Identity",
         "marker": {
          "color": "rgb(44, 160, 44)",
          "line": {
           "color": "white",
           "width": 1
          },
          "opacity": 0.8,
          "size": {
           "bdata": "ig5gqqPAKUA=",
           "dtype": "f8"
          }
         },
         "mode": "markers",
         "name": "Historical and Societal Narratives of Power, Resistance, and Identity",
         "showlegend": true,
         "text": [
          "Category: Historical and Societal Narratives of Power, Resistance, and Identity<br>Year: 2020<br>Grants: 5<br>Funding: $3,570,652"
         ],
         "type": "scatter",
         "x": {
          "bdata": "AAAAAACQn0A=",
          "dtype": "f8"
         },
         "y": {
          "bdata": "BQ==",
          "dtype": "i1"
         }
        }
       ],
       "frames": [
        {
         "data": [
          {
           "hoverinfo": "skip",
           "legendgroup": "Therapeutic Inhibition Strategies",
           "line": {
            "color": "rgb(31, 119, 180)",
            "width": 2
           },
           "mode": "lines",
           "name": "Therapeutic Inhibition Strategies",
           "showlegend": false,
           "type": "scatter",
           "x": {
            "bdata": "AAAAAACQn0A=",
            "dtype": "f8"
           },
           "y": {
            "bdata": "AQ==",
            "dtype": "i1"
           }
          },
          {
           "hovertemplate": "%{text}<extra></extra>",
           "legendgroup": "Therapeutic Inhibition Strategies",
           "marker": {
            "color": "rgb(31, 119, 180)",
            "line": {
             "color": "white",
             "width": 1
            },
            "opacity": 0.8,
            "size": {
             "bdata": "7VzrrPAaCkA=",
             "dtype": "f8"
            }
           },
           "mode": "markers",
           "name": "Therapeutic Inhibition Strategies",
           "showlegend": true,
           "text": [
            "Category: Therapeutic Inhibition Strategies<br>Year: 2020<br>Grants: 1<br>Funding: $904,890"
           ],
           "type": "scatter",
           "x": {
            "bdata": "AAAAAACQn0A=",
            "dtype": "f8"
           },
           "y": {
            "bdata": "AQ==",
            "dtype": "i1"
           }
          },
          {
           "hoverinfo": "skip",
           "legendgroup": "Commercialization and Market Deployment",
           "line": {
            "color": "rgb(255, 127, 14)",
            "width": 2
           },
           "mode": "lines",
           "name": "Commercialization and Market Deployment",
           "showlegend": false,
           "type": "scatter",
           "x": {
            "bdata": "AAAAAACQn0A=",
            "dtype": "f8"
           },
           "y": {
            "bdata": "Ag==",
            "dtype": "i1"
           }
          },
          {
           "hovertemplate": "%{text}<extra></extra>",
           "legendgroup": "Commercialization and Market Deployment",
           "marker": {
            "color": "rgb(255, 127, 14)",
            "line": {
             "color": "white",
             "width": 1
            },
            "opacity": 0.8,
            "size": {
             "bdata": "znPNt1sN9D8=",
             "dtype": "f8"
            }
           },
           "mode": "markers",
           "name": "Commercialization and Market Deployment",
           "showlegend": true,
           "text": [
            "Category: Commercialization and Market Deployment<br>Year: 2020<br>Grants: 2<br>Funding: $347,536"
           ],
           "type": "scatter",
           "x": {
            "bdata": "AAAAAACQn0A=",
            "dtype": "f8"
           },
           "y": {
            "bdata": "Ag==",
            "dtype": "i1"
           }
          },
          {
           "hoverinfo": "skip",
           "legendgroup": "Historical and Societal Narratives of Power, Resistance, and Identity",
           "line": {
            "color": "rgb(44, 160, 44)",
            "width": 2
           },
           "mode": "lines",
           "name": "Historical and Societal Narratives of Power, Resistance, and Identity",
           "showlegend": false,
           "type": "scatter",
           "x": {
            "bdata": "AAAAAACQn0A=",
            "dtype": "f8"
           },
           "y": {
            "bdata": "BQ==",
            "dtype": "i1"
           }
          },
          {
           "hovertemplate": "%{text}<extra></extra>",
           "legendgroup": "Historical and Societal Narratives of Power, Resistance, and Identity",
           "marker": {
            "color": "rgb(44, 160, 44)",
            "line": {
             "color": "white",
             "width": 1
            },
            "opacity": 0.8,
            "size": {
             "bdata": "ig5gqqPAKUA=",
             "dtype": "f8"
            }
           },
           "mode": "markers",
           "name": "Historical and Societal Narratives of Power, Resistance, and Identity",
           "showlegend": true,
           "text": [
            "Category: Historical and Societal Narratives of Power, Resistance, and Identity<br>Year: 2020<br>Grants: 5<br>Funding: $3,570,652"
           ],
           "type": "scatter",
           "x": {
            "bdata": "AAAAAACQn0A=",
            "dtype": "f8"
           },
           "y": {
            "bdata": "BQ==",
            "dtype": "i1"
           }
          }
         ],
         "name": "2020.0"
        },
        {
         "data": [
          {
           "hoverinfo": "skip",
           "legendgroup": "Therapeutic Inhibition Strategies",
           "line": {
            "color": "rgb(31, 119, 180)",
            "width": 2
           },
           "mode": "lines",
           "name": "Therapeutic Inhibition Strategies",
           "showlegend": false,
           "type": "scatter",
           "x": {
            "bdata": "AAAAAACQn0AAAAAAAJSfQA==",
            "dtype": "f8"
           },
           "y": {
            "bdata": "AQI=",
            "dtype": "i1"
           }
          },
          {
           "hovertemplate": "%{text}<extra></extra>",
           "legendgroup": "Therapeutic Inhibition Strategies",
           "marker": {
            "color": "rgb(31, 119, 180)",
            "line": {
             "color": "white",
             "width": 1
            },
            "opacity": 0.8,
            "size": {
             "bdata": "7VzrrPAaCkC3XwRxDLv5Pw==",
             "dtype": "f8"
            }
           },
           "mode": "markers",
           "name": "Therapeutic Inhibition Strategies",
           "showlegend": true,
           "text": [
            "Category: Therapeutic Inhibition Strategies<br>Year: 2020<br>Grants: 1<br>Funding: $904,890",
            "Category: Therapeutic Inhibition Strategies<br>Year: 2021<br>Grants: 2<br>Funding: $445,953"
           ],
           "type": "scatter",
           "x": {
            "bdata": "AAAAAACQn0AAAAAAAJSfQA==",
            "dtype": "f8"
           },
           "y": {
            "bdata": "AQI=",
            "dtype": "i1"
           }
          },
          {
           "hoverinfo": "skip",
           "legendgroup": "Commercialization and Market Deployment",
           "line": {
            "color": "rgb(255, 127, 14)",
            "width": 2
           },
           "mode": "lines",
           "name": "Commercialization and Market Deployment",
           "showlegend": false,
           "type": "scatter",
           "x": {
            "bdata": "AAAAAACQn0AAAAAAAJSfQA==",
            "dtype": "f8"
           },
           "y": {
            "bdata": "AgU=",
            "dtype": "i1"
           }
          },
          {
           "hovertemplate": "%{text}<extra></extra>",
           "legendgroup": "Commercialization and Market Deployment",
           "marker": {
            "color": "rgb(255, 127, 14)",
            "line": {
             "color": "white",
             "width": 1
            },
            "opacity": 0.8,
            "size": {
             "bdata": "znPNt1sN9D+bgBp4KqwaQA==",
             "dtype": "f8"
            }
           },
           "mode": "markers",
           "name": "Commercialization and Market Deployment",
           "showlegend": true,
           "text": [
            "Category: Commercialization and Market Deployment<br>Year: 2020<br>Grants: 2<br>Funding: $347,536",
            "Category: Commercialization and Market Deployment<br>Year: 2021<br>Grants: 5<br>Funding: $1,849,108"
           ],
           "type": "scatter",
           "x": {
            "bdata": "AAAAAACQn0AAAAAAAJSfQA==",
            "dtype": "f8"
           },
           "y": {
            "bdata": "AgU=",
            "dtype": "i1"
           }
          },
          {
           "hoverinfo": "skip",
           "legendgroup": "Historical and Societal Narratives of Power, Resistance, and Identity",
           "line": {
            "color": "rgb(44, 160, 44)",
            "width": 2
           },
           "mode": "lines",
           "name": "Historical and Societal Narratives of Power, Resistance, and Identity",
           "showlegend": false,
           "type": "scatter",
           "x": {
            "bdata": "AAAAAACQn0AAAAAAAJSfQA==",
            "dtype": "f8"
           },
           "y": {
            "bdata": "BQo=",
            "dtype": "i1"
           }
          },
          {
           "hovertemplate": "%{text}<extra></extra>",
           "legendgroup": "Historical and Societal Narratives of Power, Resistance, and Identity",
           "marker": {
            "color": "rgb(44, 160, 44)",
            "line": {
             "color": "white",
             "width": 1
            },
            "opacity": 0.8,
            "size": {
             "bdata": "ig5gqqPAKUAlHNITpSoxQA==",
             "dtype": "f8"
            }
           },
           "mode": "markers",
           "name": "Historical and Societal Narratives of Power, Resistance, and Identity",
           "showlegend": true,
           "text": [
            "Category: Historical and Societal Narratives of Power, Resistance, and Identity<br>Year: 2020<br>Grants: 5<br>Funding: $3,570,652",
            "Category: Historical and Societal Narratives of Power, Resistance, and Identity<br>Year: 2021<br>Grants: 10<br>Funding: $4,760,384"
           ],
           "type": "scatter",
           "x": {
            "bdata": "AAAAAACQn0AAAAAAAJSfQA==",
            "dtype": "f8"
           },
           "y": {
            "bdata": "BQo=",
            "dtype": "i1"
           }
          }
         ],
         "name": "2021.0"
        },
        {
         "data": [
          {
           "hoverinfo": "skip",
           "legendgroup": "Therapeutic Inhibition Strategies",
           "line": {
            "color": "rgb(31, 119, 180)",
            "width": 2
           },
           "mode": "lines",
           "name": "Therapeutic Inhibition Strategies",
           "showlegend": false,
           "type": "scatter",
           "x": {
            "bdata": "AAAAAACQn0AAAAAAAJSfQAAAAAAAmJ9A",
            "dtype": "f8"
           },
           "y": {
            "bdata": "AQIB",
            "dtype": "i1"
           }
          },
          {
           "hovertemplate": "%{text}<extra></extra>",
           "legendgroup": "Therapeutic Inhibition Strategies",
           "marker": {
            "color": "rgb(31, 119, 180)",
            "line": {
             "color": "white",
             "width": 1
            },
            "opacity": 0.8,
            "size": {
             "bdata": "7VzrrPAaCkC3XwRxDLv5P0PvLr0VHvU/",
             "dtype": "f8"
            }
           },
           "mode": "markers",
           "name": "Therapeutic Inhibition Strategies",
           "showlegend": true,
           "text": [
            "Category: Therapeutic Inhibition Strategies<br>Year: 2020<br>Grants: 1<br>Funding: $904,890",
            "Category: Therapeutic Inhibition Strategies<br>Year: 2021<br>Grants: 2<br>Funding: $445,953",
            "Category: Therapeutic Inhibition Strategies<br>Year: 2022<br>Grants: 1<br>Funding: $366,000"
           ],
           "type": "scatter",
           "x": {
            "bdata": "AAAAAACQn0AAAAAAAJSfQAAAAAAAmJ9A",
            "dtype": "f8"
           },
           "y": {
            "bdata": "AQIB",
            "dtype": "i1"
           }
          },
          {
           "hoverinfo": "skip",
           "legendgroup": "Commercialization and Market Deployment",
           "line": {
            "color": "rgb(255, 127, 14)",
            "width": 2
           },
           "mode": "lines",
           "name": "Commercialization and Market Deployment",
           "showlegend": false,
           "type": "scatter",
           "x": {
            "bdata": "AAAAAACQn0AAAAAAAJSfQAAAAAAAmJ9A",
            "dtype": "f8"
           },
           "y": {
            "bdata": "AgUH",
            "dtype": "i1"
           }
          },
          {
           "hovertemplate": "%{text}<extra></extra>",
           "legendgroup": "Commercialization and Market Deployment",
           "marker": {
            "color": "rgb(255, 127, 14)",
            "line": {
             "color": "white",
             "width": 1
            },
            "opacity": 0.8,
            "size": {
             "bdata": "znPNt1sN9D+bgBp4KqwaQAAAAAAAAE5A",
             "dtype": "f8"
            }
           },
           "mode": "markers",
           "name": "Commercialization and Market Deployment",
           "showlegend": true,
           "text": [
            "Category: Commercialization and Market Deployment<br>Year: 2020<br>Grants: 2<br>Funding: $347,536",
            "Category: Commercialization and Market Deployment<br>Year: 2021<br>Grants: 5<br>Funding: $1,849,108",
            "Category: Commercialization and Market Deployment<br>Year: 2022<br>Grants: 7<br>Funding: $16,638,318"
           ],
           "type": "scatter",
           "x": {
            "bdata": "AAAAAACQn0AAAAAAAJSfQAAAAAAAmJ9A",
            "dtype": "f8"
           },
           "y": {
            "bdata": "AgUH",
            "dtype": "i1"
           }
          },
          {
           "hoverinfo": "skip",
           "legendgroup": "Historical and Societal Narratives of Power, Resistance, and Identity",
           "line": {
            "color": "rgb(44, 160, 44)",
            "width": 2
           },
           "mode": "lines",
           "name": "Historical and Societal Narratives of Power, Resistance, and Identity",
           "showlegend": false,
           "type": "scatter",
           "x": {
            "bdata": "AAAAAACQn0AAAAAAAJSfQAAAAAAAmJ9A",
            "dtype": "f8"
           },
           "y": {
            "bdata": "BQoI",
            "dtype": "i1"
           }
          },
          {
           "hovertemplate": "%{text}<extra></extra>",
           "legendgroup": "Historical and Societal Narratives of Power, Resistance, and Identity",
           "marker": {
            "color": "rgb(44, 160, 44)",
            "line": {
             "color": "white",
             "width": 1
            },
            "opacity": 0.8,
            "size": {
             "bdata": "ig5gqqPAKUAlHNITpSoxQMg0NfJ3BwdA",
             "dtype": "f8"
            }
           },
           "mode": "markers",
           "name": "Historical and Societal Narratives of Power, Resistance, and Identity",
           "showlegend": true,
           "text": [
            "Category: Historical and Societal Narratives of Power, Resistance, and Identity<br>Year: 2020<br>Grants: 5<br>Funding: $3,570,652",
            "Category: Historical and Societal Narratives of Power, Resistance, and Identity<br>Year: 2021<br>Grants: 10<br>Funding: $4,760,384",
            "Category: Historical and Societal Narratives of Power, Resistance, and Identity<br>Year: 2022<br>Grants: 8<br>Funding: $798,264"
           ],
           "type": "scatter",
           "x": {
            "bdata": "AAAAAACQn0AAAAAAAJSfQAAAAAAAmJ9A",
            "dtype": "f8"
           },
           "y": {
            "bdata": "BQoI",
            "dtype": "i1"
           }
          }
         ],
         "name": "2022.0"
        },
        {
         "data": [
          {
           "hoverinfo": "skip",
           "legendgroup": "Therapeutic Inhibition Strategies",
           "line": {
            "color": "rgb(31, 119, 180)",
            "width": 2
           },
           "mode": "lines",
           "name": "Therapeutic Inhibition Strategies",
           "showlegend": false,
           "type": "scatter",
           "x": {
            "bdata": "AAAAAACQn0AAAAAAAJSfQAAAAAAAmJ9AAAAAAACcn0A=",
            "dtype": "f8"
           },
           "y": {
            "bdata": "AQIBAQ==",
            "dtype": "i1"
           }
          },
          {
           "hovertemplate": "%{text}<extra></extra>",
           "legendgroup": "Therapeutic Inhibition Strategies",
           "marker": {
            "color": "rgb(31, 119, 180)",
            "line": {
             "color": "white",
             "width": 1
            },
            "opacity": 0.8,
            "size": {
             "bdata": "7VzrrPAaCkC3XwRxDLv5P0PvLr0VHvU/AAAAAAAAAAA=",
             "dtype": "f8"
            }
           },
           "mode": "markers",
           "name": "Therapeutic Inhibition Strategies",
           "showlegend": true,
           "text": [
            "Category: Therapeutic Inhibition Strategies<br>Year: 2020<br>Grants: 1<br>Funding: $904,890",
            "Category: Therapeutic Inhibition Strategies<br>Year: 2021<br>Grants: 2<br>Funding: $445,953",
            "Category: Therapeutic Inhibition Strategies<br>Year: 2022<br>Grants: 1<br>Funding: $366,000",
            "Category: Therapeutic Inhibition Strategies<br>Year: 2023<br>Grants: 1<br>Funding: $0"
           ],
           "type": "scatter",
           "x": {
            "bdata": "AAAAAACQn0AAAAAAAJSfQAAAAAAAmJ9AAAAAAACcn0A=",
            "dtype": "f8"
           },
           "y": {
            "bdata": "AQIBAQ==",
            "dtype": "i1"
           }
          },
          {
           "hoverinfo": "skip",
           "legendgroup": "Commercialization and Market Deployment",
           "line": {
            "color": "rgb(255, 127, 14)",
            "width": 2
           },
           "mode": "lines",
           "name": "Commercialization and Market Deployment",
           "showlegend": false,
           "type": "scatter",
           "x": {
            "bdata": "AAAAAACQn0AAAAAAAJSfQAAAAAAAmJ9AAAAAAACcn0A=",
            "dtype": "f8"
           },
           "y": {
            "bdata": "AgUHBA==",
            "dtype": "i1"
           }
          },
          {
           "hovertemplate": "%{text}<extra></extra>",
           "legendgroup": "Commercialization and Market Deployment",
           "marker": {
            "color": "rgb(255, 127, 14)",
            "line": {
             "color": "white",
             "width": 1
            },
            "opacity": 0.8,
            "size": {
             "bdata": "znPNt1sN9D+bgBp4KqwaQAAAAAAAAE5AiQGkOCMHMkA=",
             "dtype": "f8"
            }
           },
           "mode": "markers",
           "name": "Commercialization and Market Deployment",
           "showlegend": true,
           "text": [
            "Category: Commercialization and Market Deployment<br>Year: 2020<br>Grants: 2<br>Funding: $347,536",
            "Category: Commercialization and Market Deployment<br>Year: 2021<br>Grants: 5<br>Funding: $1,849,108",
            "Category: Commercialization and Market Deployment<br>Year: 2022<br>Grants: 7<br>Funding: $16,638,318",
            "Category: Commercialization and Market Deployment<br>Year: 2023<br>Grants: 4<br>Funding: $4,999,227"
           ],
           "type": "scatter",
           "x": {
            "bdata": "AAAAAACQn0AAAAAAAJSfQAAAAAAAmJ9AAAAAAACcn0A=",
            "dtype": "f8"
           },
           "y": {
            "bdata": "AgUHBA==",
            "dtype": "i1"
           }
          },
          {
           "hoverinfo": "skip",
           "legendgroup": "Historical and Societal Narratives of Power, Resistance, and Identity",
           "line": {
            "color": "rgb(44, 160, 44)",
            "width": 2
           },
           "mode": "lines",
           "name": "Historical and Societal Narratives of Power, Resistance, and Identity",
           "showlegend": false,
           "type": "scatter",
           "x": {
            "bdata": "AAAAAACQn0AAAAAAAJSfQAAAAAAAmJ9AAAAAAACcn0A=",
            "dtype": "f8"
           },
           "y": {
            "bdata": "BQoIAQ==",
            "dtype": "i1"
           }
          },
          {
           "hovertemplate": "%{text}<extra></extra>",
           "legendgroup": "Historical and Societal Narratives of Power, Resistance, and Identity",
           "marker": {
            "color": "rgb(44, 160, 44)",
            "line": {
             "color": "white",
             "width": 1
            },
            "opacity": 0.8,
            "size": {
             "bdata": "ig5gqqPAKUAlHNITpSoxQMg0NfJ3BwdAJ+sR5u9Q/j8=",
             "dtype": "f8"
            }
           },
           "mode": "markers",
           "name": "Historical and Societal Narratives of Power, Resistance, and Identity",
           "showlegend": true,
           "text": [
            "Category: Historical and Societal Narratives of Power, Resistance, and Identity<br>Year: 2020<br>Grants: 5<br>Funding: $3,570,652",
            "Category: Historical and Societal Narratives of Power, Resistance, and Identity<br>Year: 2021<br>Grants: 10<br>Funding: $4,760,384",
            "Category: Historical and Societal Narratives of Power, Resistance, and Identity<br>Year: 2022<br>Grants: 8<br>Funding: $798,264",
            "Category: Historical and Societal Narratives of Power, Resistance, and Identity<br>Year: 2023<br>Grants: 1<br>Funding: $525,427"
           ],
           "type": "scatter",
           "x": {
            "bdata": "AAAAAACQn0AAAAAAAJSfQAAAAAAAmJ9AAAAAAACcn0A=",
            "dtype": "f8"
           },
           "y": {
            "bdata": "BQoIAQ==",
            "dtype": "i1"
           }
          }
         ],
         "name": "2023.0"
        },
        {
         "data": [
          {
           "hoverinfo": "skip",
           "legendgroup": "Therapeutic Inhibition Strategies",
           "line": {
            "color": "rgb(31, 119, 180)",
            "width": 2
           },
           "mode": "lines",
           "name": "Therapeutic Inhibition Strategies",
           "showlegend": false,
           "type": "scatter",
           "x": {
            "bdata": "AAAAAACQn0AAAAAAAJSfQAAAAAAAmJ9AAAAAAACcn0AAAAAAAKCfQA==",
            "dtype": "f8"
           },
           "y": {
            "bdata": "AQIBAQI=",
            "dtype": "i1"
           }
          },
          {
           "hovertemplate": "%{text}<extra></extra>",
           "legendgroup": "Therapeutic Inhibition Strategies",
           "marker": {
            "color": "rgb(31, 119, 180)",
            "line": {
             "color": "white",
             "width": 1
            },
            "opacity": 0.8,
            "size": {
             "bdata": "7VzrrPAaCkC3XwRxDLv5P0PvLr0VHvU/AAAAAAAAAABMTVnkUxYBQA==",
             "dtype": "f8"
            }
           },
           "mode": "markers",
           "name": "Therapeutic Inhibition Strategies",
           "showlegend": true,
           "text": [
            "Category: Therapeutic Inhibition Strategies<br>Year: 2020<br>Grants: 1<br>Funding: $904,890",
            "Category: Therapeutic Inhibition Strategies<br>Year: 2021<br>Grants: 2<br>Funding: $445,953",
            "Category: Therapeutic Inhibition Strategies<br>Year: 2022<br>Grants: 1<br>Funding: $366,000",
            "Category: Therapeutic Inhibition Strategies<br>Year: 2023<br>Grants: 1<br>Funding: $0",
            "Category: Therapeutic Inhibition Strategies<br>Year: 2024<br>Grants: 2<br>Funding: $592,297"
           ],
           "type": "scatter",
           "x": {
            "bdata": "AAAAAACQn0AAAAAAAJSfQAAAAAAAmJ9AAAAAAACcn0AAAAAAAKCfQA==",
            "dtype": "f8"
           },
           "y": {
            "bdata": "AQIBAQI=",
            "dtype": "i1"
           }
          },
          {
           "hoverinfo": "skip",
           "legendgroup": "Commercialization and Market Deployment",
           "line": {
            "color": "rgb(255, 127, 14)",
            "width": 2
           },
           "mode": "lines",
           "name": "Commercialization and Market Deployment",
           "showlegend": false,
           "type": "scatter",
           "x": {
            "bdata": "AAAAAACQn0AAAAAAAJSfQAAAAAAAmJ9AAAAAAACcn0AAAAAAAKCfQA==",
            "dtype": "f8"
           },
           "y": {
            "bdata": "AgUHBAM=",
            "dtype": "i1"
           }
          },
          {
           "hovertemplate": "%{text}<extra></extra>",
           "legendgroup": "Commercialization and Market Deployment",
           "marker": {
            "color": "rgb(255, 127, 14)",
            "line": {
             "color": "white",
             "width": 1
            },
            "opacity": 0.8,
            "size": {
             "bdata": "znPNt1sN9D+bgBp4KqwaQAAAAAAAAE5AiQGkOCMHMkBqhRjxncUWQA==",
             "dtype": "f8"
            }
           },
           "mode": "markers",
           "name": "Commercialization and Market Deployment",
           "showlegend": true,
           "text": [
            "Category: Commercialization and Market Deployment<br>Year: 2020<br>Grants: 2<br>Funding: $347,536",
            "Category: Commercialization and Market Deployment<br>Year: 2021<br>Grants: 5<br>Funding: $1,849,108",
            "Category: Commercialization and Market Deployment<br>Year: 2022<br>Grants: 7<br>Funding: $16,638,318",
            "Category: Commercialization and Market Deployment<br>Year: 2023<br>Grants: 4<br>Funding: $4,999,227",
            "Category: Commercialization and Market Deployment<br>Year: 2024<br>Grants: 3<br>Funding: $1,578,695"
           ],
           "type": "scatter",
           "x": {
            "bdata": "AAAAAACQn0AAAAAAAJSfQAAAAAAAmJ9AAAAAAACcn0AAAAAAAKCfQA==",
            "dtype": "f8"
           },
           "y": {
            "bdata": "AgUHBAM=",
            "dtype": "i1"
           }
          },
          {
           "hoverinfo": "skip",
           "legendgroup": "Historical and Societal Narratives of Power, Resistance, and Identity",
           "line": {
            "color": "rgb(44, 160, 44)",
            "width": 2
           },
           "mode": "lines",
           "name": "Historical and Societal Narratives of Power, Resistance, and Identity",
           "showlegend": false,
           "type": "scatter",
           "x": {
            "bdata": "AAAAAACQn0AAAAAAAJSfQAAAAAAAmJ9AAAAAAACcn0AAAAAAAKCfQA==",
            "dtype": "f8"
           },
           "y": {
            "bdata": "BQoIAQU=",
            "dtype": "i1"
           }
          },
          {
           "hovertemplate": "%{text}<extra></extra>",
           "legendgroup": "Historical and Societal Narratives of Power, Resistance, and Identity",
           "marker": {
            "color": "rgb(44, 160, 44)",
            "line": {
             "color": "white",
             "width": 1
            },
            "opacity": 0.8,
            "size": {
             "bdata": "ig5gqqPAKUAlHNITpSoxQMg0NfJ3BwdAJ+sR5u9Q/j+opCXwptMiQA==",
             "dtype": "f8"
            }
           },
           "mode": "markers",
           "name": "Historical and Societal Narratives of Power, Resistance, and Identity",
           "showlegend": true,
           "text": [
            "Category: Historical and Societal Narratives of Power, Resistance, and Identity<br>Year: 2020<br>Grants: 5<br>Funding: $3,570,652",
            "Category: Historical and Societal Narratives of Power, Resistance, and Identity<br>Year: 2021<br>Grants: 10<br>Funding: $4,760,384",
            "Category: Historical and Societal Narratives of Power, Resistance, and Identity<br>Year: 2022<br>Grants: 8<br>Funding: $798,264",
            "Category: Historical and Societal Narratives of Power, Resistance, and Identity<br>Year: 2023<br>Grants: 1<br>Funding: $525,427",
            "Category: Historical and Societal Narratives of Power, Resistance, and Identity<br>Year: 2024<br>Grants: 5<br>Funding: $2,610,381"
           ],
           "type": "scatter",
           "x": {
            "bdata": "AAAAAACQn0AAAAAAAJSfQAAAAAAAmJ9AAAAAAACcn0AAAAAAAKCfQA==",
            "dtype": "f8"
           },
           "y": {
            "bdata": "BQoIAQU=",
            "dtype": "i1"
           }
          }
         ],
         "name": "2024.0"
        },
        {
         "data": [
          {
           "hoverinfo": "skip",
           "legendgroup": "Therapeutic Inhibition Strategies",
           "line": {
            "color": "rgb(31, 119, 180)",
            "width": 2
           },
           "mode": "lines",
           "name": "Therapeutic Inhibition Strategies",
           "showlegend": false,
           "type": "scatter",
           "x": {
            "bdata": "AAAAAACQn0AAAAAAAJSfQAAAAAAAmJ9AAAAAAACcn0AAAAAAAKCfQAAAAAAApJ9A",
            "dtype": "f8"
           },
           "y": {
            "bdata": "AQIBAQIB",
            "dtype": "i1"
           }
          },
          {
           "hovertemplate": "%{text}<extra></extra>",
           "legendgroup": "Therapeutic Inhibition Strategies",
           "marker": {
            "color": "rgb(31, 119, 180)",
            "line": {
             "color": "white",
             "width": 1
            },
            "opacity": 0.8,
            "size": {
             "bdata": "7VzrrPAaCkC3XwRxDLv5P0PvLr0VHvU/AAAAAAAAAABMTVnkUxYBQAAAAAAAAAAA",
             "dtype": "f8"
            }
           },
           "mode": "markers",
           "name": "Therapeutic Inhibition Strategies",
           "showlegend": true,
           "text": [
            "Category: Therapeutic Inhibition Strategies<br>Year: 2020<br>Grants: 1<br>Funding: $904,890",
            "Category: Therapeutic Inhibition Strategies<br>Year: 2021<br>Grants: 2<br>Funding: $445,953",
            "Category: Therapeutic Inhibition Strategies<br>Year: 2022<br>Grants: 1<br>Funding: $366,000",
            "Category: Therapeutic Inhibition Strategies<br>Year: 2023<br>Grants: 1<br>Funding: $0",
            "Category: Therapeutic Inhibition Strategies<br>Year: 2024<br>Grants: 2<br>Funding: $592,297",
            "Category: Therapeutic Inhibition Strategies<br>Year: 2025<br>Grants: 1<br>Funding: $0"
           ],
           "type": "scatter",
           "x": {
            "bdata": "AAAAAACQn0AAAAAAAJSfQAAAAAAAmJ9AAAAAAACcn0AAAAAAAKCfQAAAAAAApJ9A",
            "dtype": "f8"
           },
           "y": {
            "bdata": "AQIBAQIB",
            "dtype": "i1"
           }
          },
          {
           "hoverinfo": "skip",
           "legendgroup": "Commercialization and Market Deployment",
           "line": {
            "color": "rgb(255, 127, 14)",
            "width": 2
           },
           "mode": "lines",
           "name": "Commercialization and Market Deployment",
           "showlegend": false,
           "type": "scatter",
           "x": {
            "bdata": "AAAAAACQn0AAAAAAAJSfQAAAAAAAmJ9AAAAAAACcn0AAAAAAAKCfQAAAAAAApJ9A",
            "dtype": "f8"
           },
           "y": {
            "bdata": "AgUHBAMB",
            "dtype": "i1"
           }
          },
          {
           "hovertemplate": "%{text}<extra></extra>",
           "legendgroup": "Commercialization and Market Deployment",
           "marker": {
            "color": "rgb(255, 127, 14)",
            "line": {
             "color": "white",
             "width": 1
            },
            "opacity": 0.8,
            "size": {
             "bdata": "znPNt1sN9D+bgBp4KqwaQAAAAAAAAE5AiQGkOCMHMkBqhRjxncUWQIYHxM8Y3zFA",
             "dtype": "f8"
            }
           },
           "mode": "markers",
           "name": "Commercialization and Market Deployment",
           "showlegend": true,
           "text": [
            "Category: Commercialization and Market Deployment<br>Year: 2020<br>Grants: 2<br>Funding: $347,536",
            "Category: Commercialization and Market Deployment<br>Year: 2021<br>Grants: 5<br>Funding: $1,849,108",
            "Category: Commercialization and Market Deployment<br>Year: 2022<br>Grants: 7<br>Funding: $16,638,318",
            "Category: Commercialization and Market Deployment<br>Year: 2023<br>Grants: 4<br>Funding: $4,999,227",
            "Category: Commercialization and Market Deployment<br>Year: 2024<br>Grants: 3<br>Funding: $1,578,695",
            "Category: Commercialization and Market Deployment<br>Year: 2025<br>Grants: 1<br>Funding: $4,955,854"
           ],
           "type": "scatter",
           "x": {
            "bdata": "AAAAAACQn0AAAAAAAJSfQAAAAAAAmJ9AAAAAAACcn0AAAAAAAKCfQAAAAAAApJ9A",
            "dtype": "f8"
           },
           "y": {
            "bdata": "AgUHBAMB",
            "dtype": "i1"
           }
          },
          {
           "hoverinfo": "skip",
           "legendgroup": "Historical and Societal Narratives of Power, Resistance, and Identity",
           "line": {
            "color": "rgb(44, 160, 44)",
            "width": 2
           },
           "mode": "lines",
           "name": "Historical and Societal Narratives of Power, Resistance, and Identity",
           "showlegend": false,
           "type": "scatter",
           "x": {
            "bdata": "AAAAAACQn0AAAAAAAJSfQAAAAAAAmJ9AAAAAAACcn0AAAAAAAKCfQAAAAAAApJ9A",
            "dtype": "f8"
           },
           "y": {
            "bdata": "BQoIAQUB",
            "dtype": "i1"
           }
          },
          {
           "hovertemplate": "%{text}<extra></extra>",
           "legendgroup": "Historical and Societal Narratives of Power, Resistance, and Identity",
           "marker": {
            "color": "rgb(44, 160, 44)",
            "line": {
             "color": "white",
             "width": 1
            },
            "opacity": 0.8,
            "size": {
             "bdata": "ig5gqqPAKUAlHNITpSoxQMg0NfJ3BwdAJ+sR5u9Q/j+opCXwptMiQAAAAAAAAAAA",
             "dtype": "f8"
            }
           },
           "mode": "markers",
           "name": "Historical and Societal Narratives of Power, Resistance, and Identity",
           "showlegend": true,
           "text": [
            "Category: Historical and Societal Narratives of Power, Resistance, and Identity<br>Year: 2020<br>Grants: 5<br>Funding: $3,570,652",
            "Category: Historical and Societal Narratives of Power, Resistance, and Identity<br>Year: 2021<br>Grants: 10<br>Funding: $4,760,384",
            "Category: Historical and Societal Narratives of Power, Resistance, and Identity<br>Year: 2022<br>Grants: 8<br>Funding: $798,264",
            "Category: Historical and Societal Narratives of Power, Resistance, and Identity<br>Year: 2023<br>Grants: 1<br>Funding: $525,427",
            "Category: Historical and Societal Narratives of Power, Resistance, and Identity<br>Year: 2024<br>Grants: 5<br>Funding: $2,610,381",
            "Category: Historical and Societal Narratives of Power, Resistance, and Identity<br>Year: 2025<br>Grants: 1<br>Funding: $0"
           ],
           "type": "scatter",
           "x": {
            "bdata": "AAAAAACQn0AAAAAAAJSfQAAAAAAAmJ9AAAAAAACcn0AAAAAAAKCfQAAAAAAApJ9A",
            "dtype": "f8"
           },
           "y": {
            "bdata": "BQoIAQUB",
            "dtype": "i1"
           }
          }
         ],
         "name": "2025.0"
        }
       ],
       "layout": {
        "height": 700,
        "legend": {
         "x": 1.05,
         "xanchor": "left",
         "y": 1,
         "yanchor": "top"
        },
        "sliders": [
         {
          "active": 0,
          "len": 0.8,
          "steps": [
           {
            "args": [
             [
              "2020.0"
             ],
             {
              "frame": {
               "duration": 0,
               "redraw": true
              },
              "mode": "immediate"
             }
            ],
            "label": "2020.0",
            "method": "animate"
           },
           {
            "args": [
             [
              "2021.0"
             ],
             {
              "frame": {
               "duration": 0,
               "redraw": true
              },
              "mode": "immediate"
             }
            ],
            "label": "2021.0",
            "method": "animate"
           },
           {
            "args": [
             [
              "2022.0"
             ],
             {
              "frame": {
               "duration": 0,
               "redraw": true
              },
              "mode": "immediate"
             }
            ],
            "label": "2022.0",
            "method": "animate"
           },
           {
            "args": [
             [
              "2023.0"
             ],
             {
              "frame": {
               "duration": 0,
               "redraw": true
              },
              "mode": "immediate"
             }
            ],
            "label": "2023.0",
            "method": "animate"
           },
           {
            "args": [
             [
              "2024.0"
             ],
             {
              "frame": {
               "duration": 0,
               "redraw": true
              },
              "mode": "immediate"
             }
            ],
            "label": "2024.0",
            "method": "animate"
           },
           {
            "args": [
             [
              "2025.0"
             ],
             {
              "frame": {
               "duration": 0,
               "redraw": true
              },
              "mode": "immediate"
             }
            ],
            "label": "2025.0",
            "method": "animate"
           }
          ],
          "x": 0.1,
          "xanchor": "left",
          "y": -0.25,
          "yanchor": "top"
         }
        ],
        "template": {
         "data": {
          "bar": [
           {
            "error_x": {
             "color": "#2a3f5f"
            },
            "error_y": {
             "color": "#2a3f5f"
            },
            "marker": {
             "line": {
              "color": "#E5ECF6",
              "width": 0.5
             },
             "pattern": {
              "fillmode": "overlay",
              "size": 10,
              "solidity": 0.2
             }
            },
            "type": "bar"
           }
          ],
          "barpolar": [
           {
            "marker": {
             "line": {
              "color": "#E5ECF6",
              "width": 0.5
             },
             "pattern": {
              "fillmode": "overlay",
              "size": 10,
              "solidity": 0.2
             }
            },
            "type": "barpolar"
           }
          ],
          "carpet": [
           {
            "aaxis": {
             "endlinecolor": "#2a3f5f",
             "gridcolor": "white",
             "linecolor": "white",
             "minorgridcolor": "white",
             "startlinecolor": "#2a3f5f"
            },
            "baxis": {
             "endlinecolor": "#2a3f5f",
             "gridcolor": "white",
             "linecolor": "white",
             "minorgridcolor": "white",
             "startlinecolor": "#2a3f5f"
            },
            "type": "carpet"
           }
          ],
          "choropleth": [
           {
            "colorbar": {
             "outlinewidth": 0,
             "ticks": ""
            },
            "type": "choropleth"
           }
          ],
          "contour": [
           {
            "colorbar": {
             "outlinewidth": 0,
             "ticks": ""
            },
            "colorscale": [
             [
              0,
              "#0d0887"
             ],
             [
              0.1111111111111111,
              "#46039f"
             ],
             [
              0.2222222222222222,
              "#7201a8"
             ],
             [
              0.3333333333333333,
              "#9c179e"
             ],
             [
              0.4444444444444444,
              "#bd3786"
             ],
             [
              0.5555555555555556,
              "#d8576b"
             ],
             [
              0.6666666666666666,
              "#ed7953"
             ],
             [
              0.7777777777777778,
              "#fb9f3a"
             ],
             [
              0.8888888888888888,
              "#fdca26"
             ],
             [
              1,
              "#f0f921"
             ]
            ],
            "type": "contour"
           }
          ],
          "contourcarpet": [
           {
            "colorbar": {
             "outlinewidth": 0,
             "ticks": ""
            },
            "type": "contourcarpet"
           }
          ],
          "heatmap": [
           {
            "colorbar": {
             "outlinewidth": 0,
             "ticks": ""
            },
            "colorscale": [
             [
              0,
              "#0d0887"
             ],
             [
              0.1111111111111111,
              "#46039f"
             ],
             [
              0.2222222222222222,
              "#7201a8"
             ],
             [
              0.3333333333333333,
              "#9c179e"
             ],
             [
              0.4444444444444444,
              "#bd3786"
             ],
             [
              0.5555555555555556,
              "#d8576b"
             ],
             [
              0.6666666666666666,
              "#ed7953"
             ],
             [
              0.7777777777777778,
              "#fb9f3a"
             ],
             [
              0.8888888888888888,
              "#fdca26"
             ],
             [
              1,
              "#f0f921"
             ]
            ],
            "type": "heatmap"
           }
          ],
          "histogram": [
           {
            "marker": {
             "pattern": {
              "fillmode": "overlay",
              "size": 10,
              "solidity": 0.2
             }
            },
            "type": "histogram"
           }
          ],
          "histogram2d": [
           {
            "colorbar": {
             "outlinewidth": 0,
             "ticks": ""
            },
            "colorscale": [
             [
              0,
              "#0d0887"
             ],
             [
              0.1111111111111111,
              "#46039f"
             ],
             [
              0.2222222222222222,
              "#7201a8"
             ],
             [
              0.3333333333333333,
              "#9c179e"
             ],
             [
              0.4444444444444444,
              "#bd3786"
             ],
             [
              0.5555555555555556,
              "#d8576b"
             ],
             [
              0.6666666666666666,
              "#ed7953"
             ],
             [
              0.7777777777777778,
              "#fb9f3a"
             ],
             [
              0.8888888888888888,
              "#fdca26"
             ],
             [
              1,
              "#f0f921"
             ]
            ],
            "type": "histogram2d"
           }
          ],
          "histogram2dcontour": [
           {
            "colorbar": {
             "outlinewidth": 0,
             "ticks": ""
            },
            "colorscale": [
             [
              0,
              "#0d0887"
             ],
             [
              0.1111111111111111,
              "#46039f"
             ],
             [
              0.2222222222222222,
              "#7201a8"
             ],
             [
              0.3333333333333333,
              "#9c179e"
             ],
             [
              0.4444444444444444,
              "#bd3786"
             ],
             [
              0.5555555555555556,
              "#d8576b"
             ],
             [
              0.6666666666666666,
              "#ed7953"
             ],
             [
              0.7777777777777778,
              "#fb9f3a"
             ],
             [
              0.8888888888888888,
              "#fdca26"
             ],
             [
              1,
              "#f0f921"
             ]
            ],
            "type": "histogram2dcontour"
           }
          ],
          "mesh3d": [
           {
            "colorbar": {
             "outlinewidth": 0,
             "ticks": ""
            },
            "type": "mesh3d"
           }
          ],
          "parcoords": [
           {
            "line": {
             "colorbar": {
              "outlinewidth": 0,
              "ticks": ""
             }
            },
            "type": "parcoords"
           }
          ],
          "pie": [
           {
            "automargin": true,
            "type": "pie"
           }
          ],
          "scatter": [
           {
            "fillpattern": {
             "fillmode": "overlay",
             "size": 10,
             "solidity": 0.2
            },
            "type": "scatter"
           }
          ],
          "scatter3d": [
           {
            "line": {
             "colorbar": {
              "outlinewidth": 0,
              "ticks": ""
             }
            },
            "marker": {
             "colorbar": {
              "outlinewidth": 0,
              "ticks": ""
             }
            },
            "type": "scatter3d"
           }
          ],
          "scattercarpet": [
           {
            "marker": {
             "colorbar": {
              "outlinewidth": 0,
              "ticks": ""
             }
            },
            "type": "scattercarpet"
           }
          ],
          "scattergeo": [
           {
            "marker": {
             "colorbar": {
              "outlinewidth": 0,
              "ticks": ""
             }
            },
            "type": "scattergeo"
           }
          ],
          "scattergl": [
           {
            "marker": {
             "colorbar": {
              "outlinewidth": 0,
              "ticks": ""
             }
            },
            "type": "scattergl"
           }
          ],
          "scattermap": [
           {
            "marker": {
             "colorbar": {
              "outlinewidth": 0,
              "ticks": ""
             }
            },
            "type": "scattermap"
           }
          ],
          "scattermapbox": [
           {
            "marker": {
             "colorbar": {
              "outlinewidth": 0,
              "ticks": ""
             }
            },
            "type": "scattermapbox"
           }
          ],
          "scatterpolar": [
           {
            "marker": {
             "colorbar": {
              "outlinewidth": 0,
              "ticks": ""
             }
            },
            "type": "scatterpolar"
           }
          ],
          "scatterpolargl": [
           {
            "marker": {
             "colorbar": {
              "outlinewidth": 0,
              "ticks": ""
             }
            },
            "type": "scatterpolargl"
           }
          ],
          "scatterternary": [
           {
            "marker": {
             "colorbar": {
              "outlinewidth": 0,
              "ticks": ""
             }
            },
            "type": "scatterternary"
           }
          ],
          "surface": [
           {
            "colorbar": {
             "outlinewidth": 0,
             "ticks": ""
            },
            "colorscale": [
             [
              0,
              "#0d0887"
             ],
             [
              0.1111111111111111,
              "#46039f"
             ],
             [
              0.2222222222222222,
              "#7201a8"
             ],
             [
              0.3333333333333333,
              "#9c179e"
             ],
             [
              0.4444444444444444,
              "#bd3786"
             ],
             [
              0.5555555555555556,
              "#d8576b"
             ],
             [
              0.6666666666666666,
              "#ed7953"
             ],
             [
              0.7777777777777778,
              "#fb9f3a"
             ],
             [
              0.8888888888888888,
              "#fdca26"
             ],
             [
              1,
              "#f0f921"
             ]
            ],
            "type": "surface"
           }
          ],
          "table": [
           {
            "cells": {
             "fill": {
              "color": "#EBF0F8"
             },
             "line": {
              "color": "white"
             }
            },
            "header": {
             "fill": {
              "color": "#C8D4E3"
             },
             "line": {
              "color": "white"
             }
            },
            "type": "table"
           }
          ]
         },
         "layout": {
          "annotationdefaults": {
           "arrowcolor": "#2a3f5f",
           "arrowhead": 0,
           "arrowwidth": 1
          },
          "autotypenumbers": "strict",
          "coloraxis": {
           "colorbar": {
            "outlinewidth": 0,
            "ticks": ""
           }
          },
          "colorscale": {
           "diverging": [
            [
             0,
             "#8e0152"
            ],
            [
             0.1,
             "#c51b7d"
            ],
            [
             0.2,
             "#de77ae"
            ],
            [
             0.3,
             "#f1b6da"
            ],
            [
             0.4,
             "#fde0ef"
            ],
            [
             0.5,
             "#f7f7f7"
            ],
            [
             0.6,
             "#e6f5d0"
            ],
            [
             0.7,
             "#b8e186"
            ],
            [
             0.8,
             "#7fbc41"
            ],
            [
             0.9,
             "#4d9221"
            ],
            [
             1,
             "#276419"
            ]
           ],
           "sequential": [
            [
             0,
             "#0d0887"
            ],
            [
             0.1111111111111111,
             "#46039f"
            ],
            [
             0.2222222222222222,
             "#7201a8"
            ],
            [
             0.3333333333333333,
             "#9c179e"
            ],
            [
             0.4444444444444444,
             "#bd3786"
            ],
            [
             0.5555555555555556,
             "#d8576b"
            ],
            [
             0.6666666666666666,
             "#ed7953"
            ],
            [
             0.7777777777777778,
             "#fb9f3a"
            ],
            [
             0.8888888888888888,
             "#fdca26"
            ],
            [
             1,
             "#f0f921"
            ]
           ],
           "sequentialminus": [
            [
             0,
             "#0d0887"
            ],
            [
             0.1111111111111111,
             "#46039f"
            ],
            [
             0.2222222222222222,
             "#7201a8"
            ],
            [
             0.3333333333333333,
             "#9c179e"
            ],
            [
             0.4444444444444444,
             "#bd3786"
            ],
            [
             0.5555555555555556,
             "#d8576b"
            ],
            [
             0.6666666666666666,
             "#ed7953"
            ],
            [
             0.7777777777777778,
             "#fb9f3a"
            ],
            [
             0.8888888888888888,
             "#fdca26"
            ],
            [
             1,
             "#f0f921"
            ]
           ]
          },
          "colorway": [
           "#636efa",
           "#EF553B",
           "#00cc96",
           "#ab63fa",
           "#FFA15A",
           "#19d3f3",
           "#FF6692",
           "#B6E880",
           "#FF97FF",
           "#FECB52"
          ],
          "font": {
           "color": "#2a3f5f"
          },
          "geo": {
           "bgcolor": "white",
           "lakecolor": "white",
           "landcolor": "#E5ECF6",
           "showlakes": true,
           "showland": true,
           "subunitcolor": "white"
          },
          "hoverlabel": {
           "align": "left"
          },
          "hovermode": "closest",
          "mapbox": {
           "style": "light"
          },
          "paper_bgcolor": "white",
          "plot_bgcolor": "#E5ECF6",
          "polar": {
           "angularaxis": {
            "gridcolor": "white",
            "linecolor": "white",
            "ticks": ""
           },
           "bgcolor": "#E5ECF6",
           "radialaxis": {
            "gridcolor": "white",
            "linecolor": "white",
            "ticks": ""
           }
          },
          "scene": {
           "xaxis": {
            "backgroundcolor": "#E5ECF6",
            "gridcolor": "white",
            "gridwidth": 2,
            "linecolor": "white",
            "showbackground": true,
            "ticks": "",
            "zerolinecolor": "white"
           },
           "yaxis": {
            "backgroundcolor": "#E5ECF6",
            "gridcolor": "white",
            "gridwidth": 2,
            "linecolor": "white",
            "showbackground": true,
            "ticks": "",
            "zerolinecolor": "white"
           },
           "zaxis": {
            "backgroundcolor": "#E5ECF6",
            "gridcolor": "white",
            "gridwidth": 2,
            "linecolor": "white",
            "showbackground": true,
            "ticks": "",
            "zerolinecolor": "white"
           }
          },
          "shapedefaults": {
           "line": {
            "color": "#2a3f5f"
           }
          },
          "ternary": {
           "aaxis": {
            "gridcolor": "white",
            "linecolor": "white",
            "ticks": ""
           },
           "baxis": {
            "gridcolor": "white",
            "linecolor": "white",
            "ticks": ""
           },
           "bgcolor": "#E5ECF6",
           "caxis": {
            "gridcolor": "white",
            "linecolor": "white",
            "ticks": ""
           }
          },
          "title": {
           "x": 0.05
          },
          "xaxis": {
           "automargin": true,
           "gridcolor": "white",
           "linecolor": "white",
           "ticks": "",
           "title": {
            "standoff": 15
           },
           "zerolinecolor": "white",
           "zerolinewidth": 2
          },
          "yaxis": {
           "automargin": true,
           "gridcolor": "white",
           "linecolor": "white",
           "ticks": "",
           "title": {
            "standoff": 15
           },
           "zerolinecolor": "white",
           "zerolinewidth": 2
          }
         }
        },
        "title": {
         "text": "Fastest Growing Categories: Number of Grants Over Time",
         "x": 0.5,
         "xanchor": "center",
         "y": 0.95,
         "yanchor": "top"
        },
        "updatemenus": [
         {
          "buttons": [
           {
            "args": [
             null,
             {
              "frame": {
               "duration": 800,
               "redraw": true
              },
              "fromcurrent": true
             }
            ],
            "label": "Play",
            "method": "animate"
           },
           {
            "args": [
             [
              null
             ],
             {
              "frame": {
               "duration": 0,
               "redraw": false
              },
              "mode": "immediate"
             }
            ],
            "label": "Pause",
            "method": "animate"
           }
          ],
          "showactive": false,
          "type": "buttons",
          "x": 0.1,
          "xanchor": "left",
          "y": -0.15,
          "yanchor": "top"
         }
        ],
        "xaxis": {
         "dtick": 1,
         "range": [
          2019.5,
          2025.5
         ],
         "title": {
          "text": "Year"
         }
        },
        "yaxis": {
         "range": [
          0,
          11
         ],
         "title": {
          "text": "Number of Grants"
         }
        }
       }
      }
     },
     "metadata": {},
     "output_type": "display_data"
    }
   ],
   "source": [
    "import pandas as pd\n",
    "import numpy as np\n",
    "from datetime import datetime\n",
    "import plotly.graph_objects as go\n",
    "\n",
    "# Create keyword-to-category mapping\n",
    "keyword_to_category = {}\n",
    "for _, row in cats.iterrows():\n",
    "    category_name = row['name']\n",
    "    keywords_list = row['keywords']\n",
    "    for keyword in keywords_list:\n",
    "        keyword_to_category[keyword] = category_name\n",
    "\n",
    "# Explode grants from keywords\n",
    "keywords_exploded = keywords.explode('grants')\n",
    "keywords_exploded = keywords_exploded.rename(columns={'grants': 'grant_id', 'name': 'keyword_name'})\n",
    "\n",
    "# Map keywords to categories\n",
    "keywords_exploded['category'] = keywords_exploded['keyword_name'].map(keyword_to_category)\n",
    "\n",
    "# Merge with grants data\n",
    "grant_category_link = keywords_exploded[['grant_id', 'category']].dropna()\n",
    "grant_category_link = grant_category_link.merge(grants[['id', 'funding_amount', 'start_year']], \n",
    "                                                  left_on='grant_id', right_on='id', how='inner')\n",
    "\n",
    "# Filter for past 5 years\n",
    "current_year = datetime.now().year\n",
    "past_5_years = current_year - 5\n",
    "grant_category_link = grant_category_link[grant_category_link['start_year'] >= past_5_years]\n",
    "\n",
    "# Aggregate by category and year - count grants and sum funding\n",
    "category_year_stats = grant_category_link.groupby(['category', 'start_year']).agg({\n",
    "    'grant_id': 'count',\n",
    "    'funding_amount': 'sum'\n",
    "}).reset_index()\n",
    "category_year_stats = category_year_stats.rename(columns={'grant_id': 'num_grants'})\n",
    "\n",
    "# Find all unique years\n",
    "all_available_years = sorted(category_year_stats['start_year'].unique())\n",
    "num_years = len(all_available_years)\n",
    "\n",
    "# Find categories with data for ALL years and calculate growth\n",
    "growth_analysis = []\n",
    "for category in category_year_stats['category'].unique():\n",
    "    cat_data = category_year_stats[category_year_stats['category'] == category].sort_values('start_year')\n",
    "    \n",
    "    # Only consider categories with data for all years\n",
    "    if len(cat_data) == num_years:\n",
    "        first_year_grants = cat_data.iloc[0]['num_grants']\n",
    "        last_year_grants = cat_data.iloc[-1]['num_grants']\n",
    "        first_year_funding = cat_data.iloc[0]['funding_amount']\n",
    "        last_year_funding = cat_data.iloc[-1]['funding_amount']\n",
    "        \n",
    "        if first_year_grants > 0:\n",
    "            grants_growth_rate = (last_year_grants - first_year_grants) / first_year_grants\n",
    "            funding_growth_rate = (last_year_funding - first_year_funding) / first_year_funding if first_year_funding > 0 else 0\n",
    "            \n",
    "            growth_analysis.append({\n",
    "                'category': category,\n",
    "                'grants_growth_rate': grants_growth_rate,\n",
    "                'funding_growth_rate': funding_growth_rate,\n",
    "                'first_year_grants': first_year_grants,\n",
    "                'last_year_grants': last_year_grants,\n",
    "                'total_grants': cat_data['num_grants'].sum(),\n",
    "                'avg_grants': cat_data['num_grants'].mean(),\n",
    "                'num_years': len(cat_data)\n",
    "            })\n",
    "\n",
    "growth_df = pd.DataFrame(growth_analysis)\n",
    "\n",
    "# Select top 3 fastest growing categories (with all years of data)\n",
    "fastest_growing = growth_df.nlargest(3, 'grants_growth_rate')['category'].tolist()\n",
    "selected_categories = category_year_stats[category_year_stats['category'].isin(fastest_growing)].sort_values('start_year')\n",
    "\n",
    "# Define distinct colors for each category\n",
    "category_colors = {\n",
    "    fastest_growing[0]: 'rgb(31, 119, 180)',   # Blue\n",
    "    fastest_growing[1]: 'rgb(255, 127, 14)',   # Orange\n",
    "    fastest_growing[2]: 'rgb(44, 160, 44)'     # Green\n",
    "}\n",
    "\n",
    "# Create figure with multiple categories\n",
    "all_years = sorted(selected_categories['start_year'].unique())\n",
    "\n",
    "fig = go.Figure()\n",
    "\n",
    "# Create frames for animation\n",
    "frames = []\n",
    "for year in all_years:\n",
    "    year_data = selected_categories[selected_categories['start_year'] <= year]\n",
    "    \n",
    "    traces = []\n",
    "    \n",
    "    # Add line and bubbles for each category\n",
    "    for category in fastest_growing:\n",
    "        cat_data = year_data[year_data['category'] == category]\n",
    "        \n",
    "        if len(cat_data) > 0:\n",
    "            # Line trace\n",
    "            line_trace = go.Scatter(\n",
    "                x=cat_data['start_year'],\n",
    "                y=cat_data['num_grants'],\n",
    "                mode='lines',\n",
    "                line=dict(width=2, color=category_colors[category]),\n",
    "                showlegend=False,\n",
    "                hoverinfo='skip',\n",
    "                name=category,\n",
    "                legendgroup=category\n",
    "            )\n",
    "            \n",
    "            # Bubble trace\n",
    "            bubble_trace = go.Scatter(\n",
    "                x=cat_data['start_year'],\n",
    "                y=cat_data['num_grants'],\n",
    "                mode='markers',\n",
    "                marker=dict(\n",
    "                    size=cat_data['funding_amount'] / selected_categories['funding_amount'].max() * 60,\n",
    "                    color=category_colors[category],\n",
    "                    line=dict(width=1, color='white'),\n",
    "                    opacity=0.8\n",
    "                ),\n",
    "                text=[f\"Category: {category}<br>Year: {int(y)}<br>Grants: {int(g)}<br>Funding: ${f:,.0f}\" \n",
    "                      for y, g, f in zip(cat_data['start_year'], cat_data['num_grants'], cat_data['funding_amount'])],\n",
    "                hovertemplate='%{text}<extra></extra>',\n",
    "                name=category,\n",
    "                legendgroup=category,\n",
    "                showlegend=True\n",
    "            )\n",
    "            \n",
    "            traces.extend([line_trace, bubble_trace])\n",
    "    \n",
    "    frames.append(go.Frame(data=traces, name=str(year)))\n",
    "\n",
    "# Set initial data (first frame)\n",
    "for trace in frames[0].data:\n",
    "    fig.add_trace(trace)\n",
    "\n",
    "# Add frames to figure\n",
    "fig.frames = frames\n",
    "\n",
    "# Update layout\n",
    "fig.update_layout(\n",
    "    title=dict(\n",
    "        text='Fastest Growing Categories: Number of Grants Over Time',\n",
    "        y=0.95,\n",
    "        x=0.5,\n",
    "        xanchor='center',\n",
    "        yanchor='top'\n",
    "    ),\n",
    "    xaxis=dict(title='Year', dtick=1, range=[all_years[0] - 0.5, all_years[-1] + 0.5]),\n",
    "    yaxis=dict(title='Number of Grants', range=[0, selected_categories['num_grants'].max() * 1.1]),\n",
    "    height=700,\n",
    "    legend=dict(x=1.05, y=1, xanchor='left', yanchor='top'),\n",
    "    updatemenus=[dict(\n",
    "        type='buttons',\n",
    "        showactive=False,\n",
    "        buttons=[\n",
    "            dict(label='Play',\n",
    "                 method='animate',\n",
    "                 args=[None, dict(frame=dict(duration=800, redraw=True), fromcurrent=True)]),\n",
    "            dict(label='Pause',\n",
    "                 method='animate',\n",
    "                 args=[[None], dict(frame=dict(duration=0, redraw=False), mode='immediate')])\n",
    "        ],\n",
    "        x=0.1, \n",
    "        y=-0.15,\n",
    "        xanchor='left',\n",
    "        yanchor='top'\n",
    "    )],\n",
    "    sliders=[dict(\n",
    "        active=0,\n",
    "        steps=[dict(args=[[f.name], dict(frame=dict(duration=0, redraw=True), mode='immediate')],\n",
    "                    method='animate',\n",
    "                    label=str(year)) for f, year in zip(frames, all_years)],\n",
    "        x=0.1, \n",
    "        y=-0.25, \n",
    "        len=0.8,\n",
    "        xanchor='left',\n",
    "        yanchor='top'\n",
    "    )]\n",
    ")\n",
    "\n",
    "fig.show()\n"
   ]
  },
  {
   "cell_type": "code",
   "execution_count": null,
   "id": "5204663e",
   "metadata": {},
   "outputs": [],
   "source": []
  }
 ],
 "metadata": {
  "kernelspec": {
   "display_name": "base",
   "language": "python",
   "name": "python3"
  },
  "language_info": {
   "codemirror_mode": {
    "name": "ipython",
    "version": 3
   },
   "file_extension": ".py",
   "mimetype": "text/x-python",
   "name": "python",
   "nbconvert_exporter": "python",
   "pygments_lexer": "ipython3",
   "version": "3.12.10"
  }
 },
 "nbformat": 4,
 "nbformat_minor": 5
}

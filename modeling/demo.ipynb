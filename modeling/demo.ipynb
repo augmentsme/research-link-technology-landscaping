{
 "cells": [
  {
   "cell_type": "code",
   "execution_count": 3,
   "id": "3c30db15",
   "metadata": {},
   "outputs": [
    {
     "name": "stdout",
     "output_type": "stream",
     "text": [
      "The autoreload extension is already loaded. To reload it, use:\n",
      "  %reload_ext autoreload\n"
     ]
    }
   ],
   "source": [
    "%load_ext autoreload\n",
    "%autoreload 2\n",
    "import numpy as np\n",
    "import config\n",
    "import seaborn as sns\n",
    "from database import ResearchDBClient\n",
    "from sklearn.cluster import DBSCAN\n",
    "import plotly.express as px\n",
    "from visualisation import create_keyword_trends_visualization\n",
    "from models import Category, CategoryList\n",
    "import utils\n"
   ]
  },
  {
   "cell_type": "code",
   "execution_count": 4,
   "id": "8bf872cb",
   "metadata": {},
   "outputs": [],
   "source": [
    "grants = config.Grants.load()\n",
    "categories = config.Categories.load()\n",
    "keywords = config.Keywords.load()\n",
    "category_proposals = config.Categories.load_proposal()"
   ]
  },
  {
   "cell_type": "code",
   "execution_count": null,
   "id": "a689567f",
   "metadata": {},
   "outputs": [
    {
     "data": {
      "application/vnd.plotly.v1+json": {
       "config": {
        "plotlyServerURL": "https://plot.ly"
       },
       "data": [
        {
         "line": {
          "width": 1.5
         },
         "marker": {
          "size": 4
         },
         "mode": "lines+markers",
         "name": "Host-pathogen interactions",
         "opacity": 0.6,
         "type": "scatter",
         "x": {
          "bdata": "wwfEB8UHxgfHB8gHyQfKB8sHzAfNB84HzwfQB9EH0gfTB9QH1QfWB9cH2AfZB9oH2wfcB90H3gffB+AH4QfiB+MH5AflB+YH5wfoBw==",
          "dtype": "i2"
         },
         "y": {
          "bdata": "AQAIABMAHAAiACwAMwA/AEsAVQBlAHYAiQCQAJ0ApwC2AMoA3wDzAP8AEwEuAUkBaAGGAaIBuQHMAdYB4gH3ARUCIgIlAicCLAIuAg==",
          "dtype": "i2"
         }
        },
        {
         "line": {
          "width": 1.5
         },
         "marker": {
          "size": 4
         },
         "mode": "lines+markers",
         "name": "biomarker discovery",
         "opacity": 0.6,
         "type": "scatter",
         "x": {
          "bdata": "wwfEB8UHxgfHB8gHyQfKB8sHzAfNB84HzwfQB9EH0gfTB9QH1QfWB9cH2AfZB9oH2wfcB90H3gffB+AH4QfiB+MH5AflB+YH5wfoBw==",
          "dtype": "i2"
         },
         "y": {
          "bdata": "AQAPAB8AKwA7AEsAVABdAGUAcgCFAJMAmwCgAKoAsQDCAM8A7AADAQwBGAEqAUQBVgFqAXwBigGRAZ4BpgG1Ad8B6AHoAekB6QHqAQ==",
          "dtype": "i2"
         }
        },
        {
         "line": {
          "width": 1.5
         },
         "marker": {
          "size": 4
         },
         "mode": "lines+markers",
         "name": "epigenetic regulation",
         "opacity": 0.6,
         "type": "scatter",
         "x": {
          "bdata": "wwfEB8UHxgfHB8gHyQfKB8sHzAfNB84HzwfQB9EH0gfTB9QH1QfWB9cH2AfZB9oH2wfcB90H3gffB+AH4QfiB+MH5AflB+YH5wfoBw==",
          "dtype": "i2"
         },
         "y": {
          "bdata": "AAALABgAIgApADIAOQBJAFgAYQBzAIEAhwCLAJEAmgCvAL8AzQDfAPwACwEeATkBSQFmAX4BlAGlAb0B1QHjAQQCDQIQAhICEwIXAg==",
          "dtype": "i2"
         }
        },
        {
         "line": {
          "width": 1.5
         },
         "marker": {
          "size": 4
         },
         "mode": "lines+markers",
         "name": "health equity",
         "opacity": 0.6,
         "type": "scatter",
         "x": {
          "bdata": "wwfEB8UHxgfHB8gHyQfKB8sHzAfNB84HzwfQB9EH0gfTB9QH1QfWB9cH2AfZB9oH2wfcB90H3gffB+AH4QfiB+MH5AflB+YH5wfoBw==",
          "dtype": "i2"
         },
         "y": {
          "bdata": "AAABAAUABwAMAA8AEwAZACMALAA4AD4AUABZAGcAgACdAL4A5gABASIBQwFhAZkBwAHsARQCQgJeAn0CogLFAvgCEgMeAyADIwMmAw==",
          "dtype": "i2"
         }
        },
        {
         "line": {
          "width": 1.5
         },
         "marker": {
          "size": 4
         },
         "mode": "lines+markers",
         "name": "interdisciplinary collaboration",
         "opacity": 0.6,
         "type": "scatter",
         "x": {
          "bdata": "wwfEB8UHxgfHB8gHyQfKB8sHzAfNB84HzwfQB9EH0gfTB9QH1QfWB9cH2AfZB9oH2wfcB90H3gffB+AH4QfiB+MH5AflB+YH5wfoBw==",
          "dtype": "i2"
         },
         "y": {
          "bdata": "AAAAAAAAAAAAAAAAAAAAAAAAAQACAAQABgAGAAsAIQA5AHQAjwCtANEA6gAAAR8BIQEuATkBRwFTAVgBZQGAAZQBqAHAAc8B3QHvAQ==",
          "dtype": "i2"
         }
        },
        {
         "line": {
          "width": 1.5
         },
         "marker": {
          "size": 4
         },
         "mode": "lines+markers",
         "name": "interdisciplinary research",
         "opacity": 0.6,
         "type": "scatter",
         "x": {
          "bdata": "wwfEB8UHxgfHB8gHyQfKB8sHzAfNB84HzwfQB9EH0gfTB9QH1QfWB9cH2AfZB9oH2wfcB90H3gffB+AH4QfiB+MH5AflB+YH5wfoBw==",
          "dtype": "i2"
         },
         "y": {
          "bdata": "AAAAAAAAAAABAAEAAQACAAIAAgADAAMAAwAEABMARwBpAKIA0AD6ACIBSAFzAaQBwAHUAeYBDwIlAj4CUwJyAoACrwLbAgADIwM7Aw==",
          "dtype": "i2"
         }
        },
        {
         "line": {
          "width": 1.5
         },
         "marker": {
          "size": 4
         },
         "mode": "lines+markers",
         "name": "molecular mechanisms",
         "opacity": 0.6,
         "type": "scatter",
         "x": {
          "bdata": "wwfEB8UHxgfHB8gHyQfKB8sHzAfNB84HzwfQB9EH0gfTB9QH1QfWB9cH2AfZB9oH2wfcB90H3gffB+AH4QfiB+MH5AflB+YH5wfoBw==",
          "dtype": "i2"
         },
         "y": {
          "bdata": "AAAEAAUACAALABMAFQAfACQAKQAvADQAQwBMAFYAaAB5AIsAoQC0AMwA4QD+ABsBMwFJAV8BdQF+AY0BnAGxAcMBzwHVAdwB4wHqAQ==",
          "dtype": "i2"
         }
        },
        {
         "line": {
          "width": 1.5
         },
         "marker": {
          "size": 4
         },
         "mode": "lines+markers",
         "name": "neuroimaging",
         "opacity": 0.6,
         "type": "scatter",
         "x": {
          "bdata": "wwfEB8UHxgfHB8gHyQfKB8sHzAfNB84HzwfQB9EH0gfTB9QH1QfWB9cH2AfZB9oH2wfcB90H3gffB+AH4QfiB+MH5AflB+YH5wfoBw==",
          "dtype": "i2"
         },
         "y": {
          "bdata": "AQADAAcADAAPABoAHwAwADgAPgBHAEsAUgBSAFgAXABhAGcAlACvAMQAzgDSAOwADAEpATwBTAFgAW8BdQGDAZIBmQGZAZwBngGgAQ==",
          "dtype": "i2"
         }
        },
        {
         "line": {
          "width": 1.5
         },
         "marker": {
          "size": 4
         },
         "mode": "lines+markers",
         "name": "precision medicine",
         "opacity": 0.6,
         "type": "scatter",
         "x": {
          "bdata": "wwfEB8UHxgfHB8gHyQfKB8sHzAfNB84HzwfQB9EH0gfTB9QH1QfWB9cH2AfZB9oH2wfcB90H3gffB+AH4QfiB+MH5AflB+YH5wfoBw==",
          "dtype": "i2"
         },
         "y": {
          "bdata": "AAABAAQADQAVABkAIAAiACkALwA4AD8AQwBGAEwAXQBnAIIAlwCmAL0A0gDjAAYBGQEzAUYBWwFnAX8BmgGsAdgB6AHpAesB7gHuAQ==",
          "dtype": "i2"
         }
        },
        {
         "line": {
          "width": 1.5
         },
         "marker": {
          "size": 4
         },
         "mode": "lines+markers",
         "name": "regenerative medicine",
         "opacity": 0.6,
         "type": "scatter",
         "x": {
          "bdata": "wwfEB8UHxgfHB8gHyQfKB8sHzAfNB84HzwfQB9EH0gfTB9QH1QfWB9cH2AfZB9oH2wfcB90H3gffB+AH4QfiB+MH5AflB+YH5wfoBw==",
          "dtype": "i2"
         },
         "y": {
          "bdata": "AAAEAAoAEgAXABkAHgAgACYAKwAxADUAOQA7AD8ASQBUAF0AbgB8AIkAnwC7ANAA5QD9ABQBJQE6AVABYAFyAYsBkgGTAZYBlwGaAQ==",
          "dtype": "i2"
         }
        },
        {
         "hoverinfo": "skip",
         "line": {
          "color": "rgba(0,0,0,0)",
          "width": 0
         },
         "mode": "lines",
         "name": "Upper bound",
         "showlegend": false,
         "type": "scatter",
         "x": {
          "bdata": "wwfEB8UHxgfHB8gHyQfKB8sHzAfNB84HzwfQB9EH0gfTB9QH1QfWB9cH2AfZB9oH2wfcB90H3gffB+AH4QfiB+MH5AflB+YH5wfoBw==",
          "dtype": "i2"
         },
         "y": {
          "bdata": "ekMLuOX53D/SaOO7OzkZQJgP3G+asytA3G6yKXzfNEAZ5V+YYoo7QOrLzrpUoEFAvjSCNfxeREBMIZo0Ib9IQIMxxjoQ5ExASN4D6VxWUEBuFW8pVUJTQMxPtkwff1VAFlEZqUHSV0DS459+7PRYQOBsllTIOFtAJU4ezOD5XkBg1MHIjMZhQAk7aP6e2WRAfLtJb4NsaEBAeg9ijX1rQOHZr9w6mG5A1cVUwrq6cEA4RMaC61JyQN0miKyEinRAXV9FIV0RdkDEdcqMw753QAXduKpVOXlAPzJV0NDlekAuV2moEwR8QAGGROOKQX1AhHNEGfV/fkCKVLNYjfF/QM7boPDV74BAFksEQwGKgUBm7A6l++eBQJ5x8HifL4JATrLMSC13gkBI4ua2rLOCQA==",
          "dtype": "f8"
         }
        },
        {
         "fill": "tonexty",
         "fillcolor": "rgba(0,0,0,0.1)",
         "hoverinfo": "skip",
         "line": {
          "color": "rgba(0,0,0,0)",
          "width": 0
         },
         "mode": "lines",
         "name": "±SE",
         "type": "scatter",
         "x": {
          "bdata": "wwfEB8UHxgfHB8gHyQfKB8sHzAfNB84HzwfQB9EH0gfTB9QH1QfWB9cH2AfZB9oH2wfcB90H3gffB+AH4QfiB+MH5AflB+YH5wfoBw==",
          "dtype": "i2"
         },
         "y": {
          "bdata": "2EW2XAHZwj+QYWy7u8AIQNDgRyDLmBxAe1XO3zp0J0CaAg2cB7gvQCxoYopWvzRAuMkuyDp1OECb8P7J8LQ+QLEBbfgiT0JACt2Rx9/sREDwoe55IshIQP/5LABbm0tAPcQzFONBT0BiT5O0Rn5QQIb5zxGerVJAdUt7zbifV0BBV3xu5jJcQCv4yjSUeWFAhES2kHzzZEDAhfCdcsJnQB8mUCPFp2pAIkEjSFc3bUAoEQ2UwvNvQFcMq4au2HFA19PtEdYxc0DWI88M1rp0QPsiR1WqBnZA9QDeYmJNd0BsQjDxhUV4QGXgIYPbVHlAsL/uGT5TekB2q0ynco57QMuuJIW6Rn1AbQORE5clfkCdjUgcb5Z+QPdPUkH0835AzQHN1AtIf0CjbmXF2Zt/QA==",
          "dtype": "f8"
         }
        },
        {
         "line": {
          "color": "black",
          "width": 3
         },
         "marker": {
          "color": "black",
          "size": 6
         },
         "mode": "lines+markers",
         "name": "Average (Sample)",
         "opacity": 1,
         "type": "scatter",
         "x": {
          "bdata": "wwfEB8UHxgfHB8gHyQfKB8sHzAfNB84HzwfQB9EH0gfTB9QH1QfWB9cH2AfZB9oH2wfcB90H3gffB+AH4QfiB+MH5AflB+YH5wfoBw==",
          "dtype": "i2"
         },
         "y": {
          "bdata": "MzMzMzMz0z/NzMzMzMwSQAAAAAAAACVAzczMzMxMMEAzMzMzM7M1QAAAAAAAADxAzczMzMxMQEDNzMzMzAxEQJqZmZmZmUdAzczMzMzMSkBmZmZmZqZPQGZmZmZmplFAmpmZmZm5U0CamZmZmblUQDMzMzMz81ZAzczMzMxMW0AAAAAAAOBfQJqZmZmZKWNAAAAAAACwZkAAAAAAAKBpQAAAAAAAoGxAZmZmZmZWb0BmZmZmZiZxQJqZmZmZMXNAmpmZmZmhdEDNzMzMzDx2QAAAAAAAoHdAmpmZmZkZeUDNzMzMzCR6QDMzMzMzS3tAmpmZmZlpfEAAAAAAAMB9QDMzMzMzk39AZmZmZmZOgECamZmZmZmAQM3MzMzM1IBAmpmZmZkNgUDNzMzMzECBQA==",
          "dtype": "f8"
         }
        },
        {
         "line": {
          "color": "red",
          "dash": "dash",
          "width": 2
         },
         "marker": {
          "color": "red",
          "size": 4
         },
         "mode": "lines+markers",
         "name": "Baseline (Keywords/Grant/Year)",
         "opacity": 0.8,
         "type": "scatter",
         "x": {
          "bdata": "wwfEB8UHxgfHB8gHyQfKB8sHzAfNB84HzwfQB9EH0gfTB9QH1QfWB9cH2AfZB9oH2wfcB90H3gffB+AH4QfiB+MH5AflB+YH5wfoBw==",
          "dtype": "i2"
         },
         "y": {
          "bdata": "AAAAAAAACkDM3abZwtwaQKYnkXw6wSNAQMEqFtRaKkCuWO+LCTswQC9BbAGZbzNAAIZ/Ts3ANkANrfSt69s5QPVbR/q7OT1ATVd4J3MnQEBoCKdkWddBQGx7lCW2gkNAH4j0W4EDRUAiXUTsmUNGQDm7lzdfpEdAFvKpkyLGSECq0KNpH+ZJQBNQC0JYEUtATqIvqORmTEAkUj4wuLxNQGcFvrEwIk9Aq4V8Ots7UEBEpEerOuVQQHB52mhYm1FAlh3JcT07UkDKdWgGAddSQFRij7icb1NA1C5SttEGVECSFIWf5JdUQJZrVm55JlVAsGClUXjBVUCLbETDUF5WQPmn6ngSHVdA+EVR00+/V0BICmXdO05YQMuhuM2u2FhALA7PISpnWUDNm7g3M/hZQA==",
          "dtype": "f8"
         }
        }
       ],
       "layout": {
        "height": 600,
        "hovermode": "x unified",
        "legend": {
         "title": {
          "text": "Keyword"
         }
        },
        "template": {
         "data": {
          "bar": [
           {
            "error_x": {
             "color": "#2a3f5f"
            },
            "error_y": {
             "color": "#2a3f5f"
            },
            "marker": {
             "line": {
              "color": "#E5ECF6",
              "width": 0.5
             },
             "pattern": {
              "fillmode": "overlay",
              "size": 10,
              "solidity": 0.2
             }
            },
            "type": "bar"
           }
          ],
          "barpolar": [
           {
            "marker": {
             "line": {
              "color": "#E5ECF6",
              "width": 0.5
             },
             "pattern": {
              "fillmode": "overlay",
              "size": 10,
              "solidity": 0.2
             }
            },
            "type": "barpolar"
           }
          ],
          "carpet": [
           {
            "aaxis": {
             "endlinecolor": "#2a3f5f",
             "gridcolor": "white",
             "linecolor": "white",
             "minorgridcolor": "white",
             "startlinecolor": "#2a3f5f"
            },
            "baxis": {
             "endlinecolor": "#2a3f5f",
             "gridcolor": "white",
             "linecolor": "white",
             "minorgridcolor": "white",
             "startlinecolor": "#2a3f5f"
            },
            "type": "carpet"
           }
          ],
          "choropleth": [
           {
            "colorbar": {
             "outlinewidth": 0,
             "ticks": ""
            },
            "type": "choropleth"
           }
          ],
          "contour": [
           {
            "colorbar": {
             "outlinewidth": 0,
             "ticks": ""
            },
            "colorscale": [
             [
              0,
              "#0d0887"
             ],
             [
              0.1111111111111111,
              "#46039f"
             ],
             [
              0.2222222222222222,
              "#7201a8"
             ],
             [
              0.3333333333333333,
              "#9c179e"
             ],
             [
              0.4444444444444444,
              "#bd3786"
             ],
             [
              0.5555555555555556,
              "#d8576b"
             ],
             [
              0.6666666666666666,
              "#ed7953"
             ],
             [
              0.7777777777777778,
              "#fb9f3a"
             ],
             [
              0.8888888888888888,
              "#fdca26"
             ],
             [
              1,
              "#f0f921"
             ]
            ],
            "type": "contour"
           }
          ],
          "contourcarpet": [
           {
            "colorbar": {
             "outlinewidth": 0,
             "ticks": ""
            },
            "type": "contourcarpet"
           }
          ],
          "heatmap": [
           {
            "colorbar": {
             "outlinewidth": 0,
             "ticks": ""
            },
            "colorscale": [
             [
              0,
              "#0d0887"
             ],
             [
              0.1111111111111111,
              "#46039f"
             ],
             [
              0.2222222222222222,
              "#7201a8"
             ],
             [
              0.3333333333333333,
              "#9c179e"
             ],
             [
              0.4444444444444444,
              "#bd3786"
             ],
             [
              0.5555555555555556,
              "#d8576b"
             ],
             [
              0.6666666666666666,
              "#ed7953"
             ],
             [
              0.7777777777777778,
              "#fb9f3a"
             ],
             [
              0.8888888888888888,
              "#fdca26"
             ],
             [
              1,
              "#f0f921"
             ]
            ],
            "type": "heatmap"
           }
          ],
          "histogram": [
           {
            "marker": {
             "pattern": {
              "fillmode": "overlay",
              "size": 10,
              "solidity": 0.2
             }
            },
            "type": "histogram"
           }
          ],
          "histogram2d": [
           {
            "colorbar": {
             "outlinewidth": 0,
             "ticks": ""
            },
            "colorscale": [
             [
              0,
              "#0d0887"
             ],
             [
              0.1111111111111111,
              "#46039f"
             ],
             [
              0.2222222222222222,
              "#7201a8"
             ],
             [
              0.3333333333333333,
              "#9c179e"
             ],
             [
              0.4444444444444444,
              "#bd3786"
             ],
             [
              0.5555555555555556,
              "#d8576b"
             ],
             [
              0.6666666666666666,
              "#ed7953"
             ],
             [
              0.7777777777777778,
              "#fb9f3a"
             ],
             [
              0.8888888888888888,
              "#fdca26"
             ],
             [
              1,
              "#f0f921"
             ]
            ],
            "type": "histogram2d"
           }
          ],
          "histogram2dcontour": [
           {
            "colorbar": {
             "outlinewidth": 0,
             "ticks": ""
            },
            "colorscale": [
             [
              0,
              "#0d0887"
             ],
             [
              0.1111111111111111,
              "#46039f"
             ],
             [
              0.2222222222222222,
              "#7201a8"
             ],
             [
              0.3333333333333333,
              "#9c179e"
             ],
             [
              0.4444444444444444,
              "#bd3786"
             ],
             [
              0.5555555555555556,
              "#d8576b"
             ],
             [
              0.6666666666666666,
              "#ed7953"
             ],
             [
              0.7777777777777778,
              "#fb9f3a"
             ],
             [
              0.8888888888888888,
              "#fdca26"
             ],
             [
              1,
              "#f0f921"
             ]
            ],
            "type": "histogram2dcontour"
           }
          ],
          "mesh3d": [
           {
            "colorbar": {
             "outlinewidth": 0,
             "ticks": ""
            },
            "type": "mesh3d"
           }
          ],
          "parcoords": [
           {
            "line": {
             "colorbar": {
              "outlinewidth": 0,
              "ticks": ""
             }
            },
            "type": "parcoords"
           }
          ],
          "pie": [
           {
            "automargin": true,
            "type": "pie"
           }
          ],
          "scatter": [
           {
            "fillpattern": {
             "fillmode": "overlay",
             "size": 10,
             "solidity": 0.2
            },
            "type": "scatter"
           }
          ],
          "scatter3d": [
           {
            "line": {
             "colorbar": {
              "outlinewidth": 0,
              "ticks": ""
             }
            },
            "marker": {
             "colorbar": {
              "outlinewidth": 0,
              "ticks": ""
             }
            },
            "type": "scatter3d"
           }
          ],
          "scattercarpet": [
           {
            "marker": {
             "colorbar": {
              "outlinewidth": 0,
              "ticks": ""
             }
            },
            "type": "scattercarpet"
           }
          ],
          "scattergeo": [
           {
            "marker": {
             "colorbar": {
              "outlinewidth": 0,
              "ticks": ""
             }
            },
            "type": "scattergeo"
           }
          ],
          "scattergl": [
           {
            "marker": {
             "colorbar": {
              "outlinewidth": 0,
              "ticks": ""
             }
            },
            "type": "scattergl"
           }
          ],
          "scattermap": [
           {
            "marker": {
             "colorbar": {
              "outlinewidth": 0,
              "ticks": ""
             }
            },
            "type": "scattermap"
           }
          ],
          "scattermapbox": [
           {
            "marker": {
             "colorbar": {
              "outlinewidth": 0,
              "ticks": ""
             }
            },
            "type": "scattermapbox"
           }
          ],
          "scatterpolar": [
           {
            "marker": {
             "colorbar": {
              "outlinewidth": 0,
              "ticks": ""
             }
            },
            "type": "scatterpolar"
           }
          ],
          "scatterpolargl": [
           {
            "marker": {
             "colorbar": {
              "outlinewidth": 0,
              "ticks": ""
             }
            },
            "type": "scatterpolargl"
           }
          ],
          "scatterternary": [
           {
            "marker": {
             "colorbar": {
              "outlinewidth": 0,
              "ticks": ""
             }
            },
            "type": "scatterternary"
           }
          ],
          "surface": [
           {
            "colorbar": {
             "outlinewidth": 0,
             "ticks": ""
            },
            "colorscale": [
             [
              0,
              "#0d0887"
             ],
             [
              0.1111111111111111,
              "#46039f"
             ],
             [
              0.2222222222222222,
              "#7201a8"
             ],
             [
              0.3333333333333333,
              "#9c179e"
             ],
             [
              0.4444444444444444,
              "#bd3786"
             ],
             [
              0.5555555555555556,
              "#d8576b"
             ],
             [
              0.6666666666666666,
              "#ed7953"
             ],
             [
              0.7777777777777778,
              "#fb9f3a"
             ],
             [
              0.8888888888888888,
              "#fdca26"
             ],
             [
              1,
              "#f0f921"
             ]
            ],
            "type": "surface"
           }
          ],
          "table": [
           {
            "cells": {
             "fill": {
              "color": "#EBF0F8"
             },
             "line": {
              "color": "white"
             }
            },
            "header": {
             "fill": {
              "color": "#C8D4E3"
             },
             "line": {
              "color": "white"
             }
            },
            "type": "table"
           }
          ]
         },
         "layout": {
          "annotationdefaults": {
           "arrowcolor": "#2a3f5f",
           "arrowhead": 0,
           "arrowwidth": 1
          },
          "autotypenumbers": "strict",
          "coloraxis": {
           "colorbar": {
            "outlinewidth": 0,
            "ticks": ""
           }
          },
          "colorscale": {
           "diverging": [
            [
             0,
             "#8e0152"
            ],
            [
             0.1,
             "#c51b7d"
            ],
            [
             0.2,
             "#de77ae"
            ],
            [
             0.3,
             "#f1b6da"
            ],
            [
             0.4,
             "#fde0ef"
            ],
            [
             0.5,
             "#f7f7f7"
            ],
            [
             0.6,
             "#e6f5d0"
            ],
            [
             0.7,
             "#b8e186"
            ],
            [
             0.8,
             "#7fbc41"
            ],
            [
             0.9,
             "#4d9221"
            ],
            [
             1,
             "#276419"
            ]
           ],
           "sequential": [
            [
             0,
             "#0d0887"
            ],
            [
             0.1111111111111111,
             "#46039f"
            ],
            [
             0.2222222222222222,
             "#7201a8"
            ],
            [
             0.3333333333333333,
             "#9c179e"
            ],
            [
             0.4444444444444444,
             "#bd3786"
            ],
            [
             0.5555555555555556,
             "#d8576b"
            ],
            [
             0.6666666666666666,
             "#ed7953"
            ],
            [
             0.7777777777777778,
             "#fb9f3a"
            ],
            [
             0.8888888888888888,
             "#fdca26"
            ],
            [
             1,
             "#f0f921"
            ]
           ],
           "sequentialminus": [
            [
             0,
             "#0d0887"
            ],
            [
             0.1111111111111111,
             "#46039f"
            ],
            [
             0.2222222222222222,
             "#7201a8"
            ],
            [
             0.3333333333333333,
             "#9c179e"
            ],
            [
             0.4444444444444444,
             "#bd3786"
            ],
            [
             0.5555555555555556,
             "#d8576b"
            ],
            [
             0.6666666666666666,
             "#ed7953"
            ],
            [
             0.7777777777777778,
             "#fb9f3a"
            ],
            [
             0.8888888888888888,
             "#fdca26"
            ],
            [
             1,
             "#f0f921"
            ]
           ]
          },
          "colorway": [
           "#636efa",
           "#EF553B",
           "#00cc96",
           "#ab63fa",
           "#FFA15A",
           "#19d3f3",
           "#FF6692",
           "#B6E880",
           "#FF97FF",
           "#FECB52"
          ],
          "font": {
           "color": "#2a3f5f"
          },
          "geo": {
           "bgcolor": "white",
           "lakecolor": "white",
           "landcolor": "#E5ECF6",
           "showlakes": true,
           "showland": true,
           "subunitcolor": "white"
          },
          "hoverlabel": {
           "align": "left"
          },
          "hovermode": "closest",
          "mapbox": {
           "style": "light"
          },
          "paper_bgcolor": "white",
          "plot_bgcolor": "#E5ECF6",
          "polar": {
           "angularaxis": {
            "gridcolor": "white",
            "linecolor": "white",
            "ticks": ""
           },
           "bgcolor": "#E5ECF6",
           "radialaxis": {
            "gridcolor": "white",
            "linecolor": "white",
            "ticks": ""
           }
          },
          "scene": {
           "xaxis": {
            "backgroundcolor": "#E5ECF6",
            "gridcolor": "white",
            "gridwidth": 2,
            "linecolor": "white",
            "showbackground": true,
            "ticks": "",
            "zerolinecolor": "white"
           },
           "yaxis": {
            "backgroundcolor": "#E5ECF6",
            "gridcolor": "white",
            "gridwidth": 2,
            "linecolor": "white",
            "showbackground": true,
            "ticks": "",
            "zerolinecolor": "white"
           },
           "zaxis": {
            "backgroundcolor": "#E5ECF6",
            "gridcolor": "white",
            "gridwidth": 2,
            "linecolor": "white",
            "showbackground": true,
            "ticks": "",
            "zerolinecolor": "white"
           }
          },
          "shapedefaults": {
           "line": {
            "color": "#2a3f5f"
           }
          },
          "ternary": {
           "aaxis": {
            "gridcolor": "white",
            "linecolor": "white",
            "ticks": ""
           },
           "baxis": {
            "gridcolor": "white",
            "linecolor": "white",
            "ticks": ""
           },
           "bgcolor": "#E5ECF6",
           "caxis": {
            "gridcolor": "white",
            "linecolor": "white",
            "ticks": ""
           }
          },
          "title": {
           "x": 0.05
          },
          "xaxis": {
           "automargin": true,
           "gridcolor": "white",
           "linecolor": "white",
           "ticks": "",
           "title": {
            "standoff": 15
           },
           "zerolinecolor": "white",
           "zerolinewidth": 2
          },
          "yaxis": {
           "automargin": true,
           "gridcolor": "white",
           "linecolor": "white",
           "ticks": "",
           "title": {
            "standoff": 15
           },
           "zerolinecolor": "white",
           "zerolinewidth": 2
          }
         }
        },
        "title": {
         "text": "Top 10 Keywords with Baseline (Keywords per Grant per Year)"
        },
        "xaxis": {
         "title": {
          "text": "Year"
         }
        },
        "yaxis": {
         "title": {
          "text": "Cumulative occurrences"
         }
        }
       }
      }
     },
     "metadata": {},
     "output_type": "display_data"
    }
   ],
   "source": [
    "# Test the new baseline functionality\n",
    "fig_with_baseline = create_keyword_trends_visualization(\n",
    "    keywords_df=keywords,\n",
    "    grants_df=grants,\n",
    "    min_count=10,\n",
    "    top_n=10,\n",
    "    title=\"Top 10 Keywords with Baseline (Keywords per Grant per Year)\",\n",
    "    show_average=True,\n",
    "    show_error_bars=True,\n",
    "    average_from_population=False,\n",
    "    show_baseline=True  # Show the new baseline\n",
    ")\n",
    "\n",
    "fig_with_baseline"
   ]
  },
  {
   "cell_type": "code",
   "execution_count": null,
   "id": "e2fad62f",
   "metadata": {},
   "outputs": [],
   "source": []
  }
 ],
 "metadata": {
  "kernelspec": {
   "display_name": "modeling (3.12.10)",
   "language": "python",
   "name": "python3"
  },
  "language_info": {
   "codemirror_mode": {
    "name": "ipython",
    "version": 3
   },
   "file_extension": ".py",
   "mimetype": "text/x-python",
   "name": "python",
   "nbconvert_exporter": "python",
   "pygments_lexer": "ipython3",
   "version": "3.12.10"
  }
 },
 "nbformat": 4,
 "nbformat_minor": 5
}

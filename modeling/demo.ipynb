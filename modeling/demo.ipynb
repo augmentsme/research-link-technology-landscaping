{
 "cells": [
  {
   "cell_type": "code",
   "execution_count": null,
   "id": "26a671cf",
   "metadata": {},
   "outputs": [
    {
     "name": "stdout",
     "output_type": "stream",
     "text": [
      "The autoreload extension is already loaded. To reload it, use:\n",
      "  %reload_ext autoreload\n"
     ]
    }
   ],
   "source": [
    "%load_ext autoreload\n",
    "%autoreload 2\n",
    "import utils\n",
    "import config\n",
    "import numpy as np\n",
    "import datamapplot"
   ]
  },
  {
   "cell_type": "code",
   "execution_count": 3,
   "id": "d081ae6e",
   "metadata": {},
   "outputs": [],
   "source": [
    "keywords = config.Keywords.load()\n",
    "grants = config.Grants.load()\n",
    "cats = config.Categories.load()"
   ]
  }
 ],
 "metadata": {
  "kernelspec": {
   "display_name": "modeling (3.12.10)",
   "language": "python",
   "name": "python3"
  },
  "language_info": {
   "codemirror_mode": {
    "name": "ipython",
    "version": 3
   },
   "file_extension": ".py",
   "mimetype": "text/x-python",
   "name": "python",
   "nbconvert_exporter": "python",
   "pygments_lexer": "ipython3",
   "version": "3.12.10"
  }
 },
 "nbformat": 4,
 "nbformat_minor": 5
}

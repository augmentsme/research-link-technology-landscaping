{
 "cells": [
  {
   "cell_type": "code",
   "execution_count": 1,
   "id": "eff263cd",
   "metadata": {},
   "outputs": [],
   "source": [
    "%load_ext autoreload\n",
    "%autoreload 2\n",
    "from config import EXTRACTED_KEYWORDS_PATH, KEYWORDS_FINAL_PATH, CLUSTERS_FINAL_PATH, GRANTS_FILE\n",
    "import pandas as pd\n",
    "from visualisation import create_research_landscape_treemap, load_data"
   ]
  },
  {
   "cell_type": "code",
   "execution_count": 2,
   "id": "e1f624d6",
   "metadata": {},
   "outputs": [
    {
     "name": "stdout",
     "output_type": "stream",
     "text": [
      "Found 10 grant classifications\n",
      "Found 5 categories\n"
     ]
    }
   ],
   "source": [
    "cat, classifcation = load_data()"
   ]
  },
  {
   "cell_type": "code",
   "execution_count": 4,
   "id": "ecb113cf",
   "metadata": {},
   "outputs": [
    {
     "name": "stdout",
     "output_type": "stream",
     "text": [
      "Found 10 grant classifications\n",
      "Found 5 categories\n",
      "Total keywords: 101\n",
      "Total grants: 10\n",
      "Classified grants: 37\n",
      "Average keywords per category: 20.2\n",
      "\n",
      "Treemap contains 111 total elements:\n",
      "  - 5 FOR Classes (Blue)\n",
      "  - 5 Categories (Orange)\n",
      "  - 101 Keywords (Green)\n",
      "\n",
      "FOR Class distribution by keyword count:\n",
      "  - FOR 40: ENGINEERING: 29 keywords\n",
      "  - FOR 44: HUMAN SOCIETY: 29 keywords\n",
      "  - FOR 41: ENVIRONMENTAL SCIENCES: 23 keywords\n",
      "  - FOR 31: BIOLOGICAL SCIENCES: 10 keywords\n",
      "  - FOR 32: BIOMEDICAL AND CLINICAL SCIENCES: 10 keywords\n",
      "\n",
      "Classification summary:\n",
      "Classified grants: 37\n",
      "  Grant distribution by category:\n",
      "    - Climate Science, Forcing and Long-term Variability: 2 grants\n",
      "    - Geochemical Fingerprinting and Isotope Techniques: 2 grants\n",
      "    - Corrosion, Surface Functionalization and Coatings: 1 grants\n",
      "    - Catalysis and Green Chemical Processes: 1 grants\n",
      "    - Mental Health, Neurobiology and Ageing: 1 grants\n"
     ]
    },
    {
     "data": {
      "application/vnd.plotly.v1+json": {
       "config": {
        "plotlyServerURL": "https://plot.ly"
       },
       "data": [
        {
         "customdata": [
          [
           "FOR Class",
           23,
           "for_class"
          ],
          [
           "Category",
           23,
           "category"
          ],
          [
           "Keyword",
           1,
           "keyword"
          ],
          [
           "Keyword",
           1,
           "keyword"
          ],
          [
           "Keyword",
           1,
           "keyword"
          ],
          [
           "Keyword",
           1,
           "keyword"
          ],
          [
           "Keyword",
           1,
           "keyword"
          ],
          [
           "Keyword",
           1,
           "keyword"
          ],
          [
           "Keyword",
           1,
           "keyword"
          ],
          [
           "Keyword",
           1,
           "keyword"
          ],
          [
           "Keyword",
           1,
           "keyword"
          ],
          [
           "Keyword",
           1,
           "keyword"
          ],
          [
           "Keyword",
           1,
           "keyword"
          ],
          [
           "Keyword",
           1,
           "keyword"
          ],
          [
           "Keyword",
           1,
           "keyword"
          ],
          [
           "Keyword",
           1,
           "keyword"
          ],
          [
           "Keyword",
           1,
           "keyword"
          ],
          [
           "Keyword",
           1,
           "keyword"
          ],
          [
           "Keyword",
           1,
           "keyword"
          ],
          [
           "Keyword",
           1,
           "keyword"
          ],
          [
           "Keyword",
           1,
           "keyword"
          ],
          [
           "Keyword",
           1,
           "keyword"
          ],
          [
           "Keyword",
           1,
           "keyword"
          ],
          [
           "Keyword",
           1,
           "keyword"
          ],
          [
           "Keyword",
           1,
           "keyword"
          ],
          [
           "FOR Class",
           10,
           "for_class"
          ],
          [
           "Category",
           10,
           "category"
          ],
          [
           "Keyword",
           1,
           "keyword"
          ],
          [
           "Keyword",
           1,
           "keyword"
          ],
          [
           "Keyword",
           1,
           "keyword"
          ],
          [
           "Keyword",
           1,
           "keyword"
          ],
          [
           "Keyword",
           1,
           "keyword"
          ],
          [
           "Keyword",
           1,
           "keyword"
          ],
          [
           "Keyword",
           1,
           "keyword"
          ],
          [
           "Keyword",
           1,
           "keyword"
          ],
          [
           "Keyword",
           1,
           "keyword"
          ],
          [
           "Keyword",
           1,
           "keyword"
          ],
          [
           "FOR Class",
           10,
           "for_class"
          ],
          [
           "Category",
           10,
           "category"
          ],
          [
           "Keyword",
           1,
           "keyword"
          ],
          [
           "Keyword",
           1,
           "keyword"
          ],
          [
           "Keyword",
           1,
           "keyword"
          ],
          [
           "Keyword",
           1,
           "keyword"
          ],
          [
           "Keyword",
           1,
           "keyword"
          ],
          [
           "Keyword",
           1,
           "keyword"
          ],
          [
           "Keyword",
           1,
           "keyword"
          ],
          [
           "Keyword",
           1,
           "keyword"
          ],
          [
           "Keyword",
           1,
           "keyword"
          ],
          [
           "Keyword",
           1,
           "keyword"
          ],
          [
           "FOR Class",
           29,
           "for_class"
          ],
          [
           "Category",
           29,
           "category"
          ],
          [
           "Keyword",
           1,
           "keyword"
          ],
          [
           "Keyword",
           1,
           "keyword"
          ],
          [
           "Keyword",
           1,
           "keyword"
          ],
          [
           "Keyword",
           1,
           "keyword"
          ],
          [
           "Keyword",
           1,
           "keyword"
          ],
          [
           "Keyword",
           1,
           "keyword"
          ],
          [
           "Keyword",
           1,
           "keyword"
          ],
          [
           "Keyword",
           1,
           "keyword"
          ],
          [
           "Keyword",
           1,
           "keyword"
          ],
          [
           "Keyword",
           1,
           "keyword"
          ],
          [
           "Keyword",
           1,
           "keyword"
          ],
          [
           "Keyword",
           1,
           "keyword"
          ],
          [
           "Keyword",
           1,
           "keyword"
          ],
          [
           "Keyword",
           1,
           "keyword"
          ],
          [
           "Keyword",
           1,
           "keyword"
          ],
          [
           "Keyword",
           1,
           "keyword"
          ],
          [
           "Keyword",
           1,
           "keyword"
          ],
          [
           "Keyword",
           1,
           "keyword"
          ],
          [
           "Keyword",
           1,
           "keyword"
          ],
          [
           "Keyword",
           1,
           "keyword"
          ],
          [
           "Keyword",
           1,
           "keyword"
          ],
          [
           "Keyword",
           1,
           "keyword"
          ],
          [
           "Keyword",
           1,
           "keyword"
          ],
          [
           "Keyword",
           1,
           "keyword"
          ],
          [
           "Keyword",
           1,
           "keyword"
          ],
          [
           "Keyword",
           1,
           "keyword"
          ],
          [
           "Keyword",
           1,
           "keyword"
          ],
          [
           "Keyword",
           1,
           "keyword"
          ],
          [
           "Keyword",
           1,
           "keyword"
          ],
          [
           "FOR Class",
           29,
           "for_class"
          ],
          [
           "Category",
           29,
           "category"
          ],
          [
           "Keyword",
           1,
           "keyword"
          ],
          [
           "Keyword",
           1,
           "keyword"
          ],
          [
           "Keyword",
           1,
           "keyword"
          ],
          [
           "Keyword",
           1,
           "keyword"
          ],
          [
           "Keyword",
           1,
           "keyword"
          ],
          [
           "Keyword",
           1,
           "keyword"
          ],
          [
           "Keyword",
           1,
           "keyword"
          ],
          [
           "Keyword",
           1,
           "keyword"
          ],
          [
           "Keyword",
           1,
           "keyword"
          ],
          [
           "Keyword",
           1,
           "keyword"
          ],
          [
           "Keyword",
           1,
           "keyword"
          ],
          [
           "Keyword",
           1,
           "keyword"
          ],
          [
           "Keyword",
           1,
           "keyword"
          ],
          [
           "Keyword",
           1,
           "keyword"
          ],
          [
           "Keyword",
           1,
           "keyword"
          ],
          [
           "Keyword",
           1,
           "keyword"
          ],
          [
           "Keyword",
           1,
           "keyword"
          ],
          [
           "Keyword",
           1,
           "keyword"
          ],
          [
           "Keyword",
           1,
           "keyword"
          ],
          [
           "Keyword",
           1,
           "keyword"
          ],
          [
           "Keyword",
           1,
           "keyword"
          ],
          [
           "Keyword",
           1,
           "keyword"
          ],
          [
           "Keyword",
           1,
           "keyword"
          ],
          [
           "Keyword",
           1,
           "keyword"
          ],
          [
           "Keyword",
           1,
           "keyword"
          ],
          [
           "Keyword",
           1,
           "keyword"
          ],
          [
           "Keyword",
           1,
           "keyword"
          ],
          [
           "Keyword",
           1,
           "keyword"
          ],
          [
           "Keyword",
           1,
           "keyword"
          ]
         ],
         "domain": {
          "x": [
           0,
           1
          ],
          "y": [
           0,
           1
          ]
         },
         "hovertemplate": "name=%{label}<br>value=%{customdata[1]}<br>parent=%{parent}<br>id=%{id}<br>level=%{customdata[0]}<br>item_type=%{customdata[2]}<extra></extra>",
         "ids": [
          "FOR_41",
          "FOR_41 >> Integrated Coastal, Marine and Terrestrial Environmental Systems",
          "FOR_41 >> Integrated Coastal, Marine and Terrestrial Environmental Systems >> KW: biodegradability",
          "FOR_41 >> Integrated Coastal, Marine and Terrestrial Environmental Systems >> KW: rainforest restoration",
          "FOR_41 >> Integrated Coastal, Marine and Terrestrial Environmental Systems >> KW: kelp forest decline",
          "FOR_41 >> Integrated Coastal, Marine and Terrestrial Environmental Systems >> KW: R&D in seaweed",
          "FOR_41 >> Integrated Coastal, Marine and Terrestrial Environmental Systems >> KW: seafood productivity",
          "FOR_41 >> Integrated Coastal, Marine and Terrestrial Environmental Systems >> KW: coastal region",
          "FOR_41 >> Integrated Coastal, Marine and Terrestrial Environmental Systems >> KW: marine sediments",
          "FOR_41 >> Integrated Coastal, Marine and Terrestrial Environmental Systems >> KW: Humpback whale conservation",
          "FOR_41 >> Integrated Coastal, Marine and Terrestrial Environmental Systems >> KW: land to sea transition",
          "FOR_41 >> Integrated Coastal, Marine and Terrestrial Environmental Systems >> KW: waterway health",
          "FOR_41 >> Integrated Coastal, Marine and Terrestrial Environmental Systems >> KW: equitable water distribution",
          "FOR_41 >> Integrated Coastal, Marine and Terrestrial Environmental Systems >> KW: sustainability of gas production",
          "FOR_41 >> Integrated Coastal, Marine and Terrestrial Environmental Systems >> KW: environmental variation",
          "FOR_41 >> Integrated Coastal, Marine and Terrestrial Environmental Systems >> KW: precision ecology",
          "FOR_41 >> Integrated Coastal, Marine and Terrestrial Environmental Systems >> KW: agrifood data exchange",
          "FOR_41 >> Integrated Coastal, Marine and Terrestrial Environmental Systems >> KW: angler behavior",
          "FOR_41 >> Integrated Coastal, Marine and Terrestrial Environmental Systems >> KW: agility in fisheries",
          "FOR_41 >> Integrated Coastal, Marine and Terrestrial Environmental Systems >> KW: community composition",
          "FOR_41 >> Integrated Coastal, Marine and Terrestrial Environmental Systems >> KW: atmospheric O2 and CO2 isotope fingerprints",
          "FOR_41 >> Integrated Coastal, Marine and Terrestrial Environmental Systems >> KW: low‑carbon diets",
          "FOR_41 >> Integrated Coastal, Marine and Terrestrial Environmental Systems >> KW: energy efficiency",
          "FOR_41 >> Integrated Coastal, Marine and Terrestrial Environmental Systems >> KW: hydrogen superpower",
          "FOR_41 >> Integrated Coastal, Marine and Terrestrial Environmental Systems >> KW: hydrogen withdrawal",
          "FOR_31",
          "FOR_31 >> Fundamental Biological Systems and Organismal Mechanisms",
          "FOR_31 >> Fundamental Biological Systems and Organismal Mechanisms >> KW: bacterial cell-surface proteins",
          "FOR_31 >> Fundamental Biological Systems and Organismal Mechanisms >> KW: bacterial survival",
          "FOR_31 >> Fundamental Biological Systems and Organismal Mechanisms >> KW: resistance genes",
          "FOR_31 >> Fundamental Biological Systems and Organismal Mechanisms >> KW: host restriction",
          "FOR_31 >> Fundamental Biological Systems and Organismal Mechanisms >> KW: whole organism studies",
          "FOR_31 >> Fundamental Biological Systems and Organismal Mechanisms >> KW: animal social structures",
          "FOR_31 >> Fundamental Biological Systems and Organismal Mechanisms >> KW: glucose consumption",
          "FOR_31 >> Fundamental Biological Systems and Organismal Mechanisms >> KW: physical principles of life",
          "FOR_31 >> Fundamental Biological Systems and Organismal Mechanisms >> KW: resistance genes",
          "FOR_31 >> Fundamental Biological Systems and Organismal Mechanisms >> KW: bacterial survival",
          "FOR_32",
          "FOR_32 >> Biomedical, Translational and Clinical Sciences",
          "FOR_32 >> Biomedical, Translational and Clinical Sciences >> KW: therapeutic cancer vaccine",
          "FOR_32 >> Biomedical, Translational and Clinical Sciences >> KW: receptor signaling",
          "FOR_32 >> Biomedical, Translational and Clinical Sciences >> KW: G protein selectivity",
          "FOR_32 >> Biomedical, Translational and Clinical Sciences >> KW: nuclear alarmins",
          "FOR_32 >> Biomedical, Translational and Clinical Sciences >> KW: glial cell growth",
          "FOR_32 >> Biomedical, Translational and Clinical Sciences >> KW: brain disorders",
          "FOR_32 >> Biomedical, Translational and Clinical Sciences >> KW: PST profiles",
          "FOR_32 >> Biomedical, Translational and Clinical Sciences >> KW: clinical decision-making",
          "FOR_32 >> Biomedical, Translational and Clinical Sciences >> KW: disease preparedness",
          "FOR_32 >> Biomedical, Translational and Clinical Sciences >> KW: disease resistance",
          "FOR_40",
          "FOR_40 >> Advanced Materials, Devices, Energy Systems and Computational Engineering",
          "FOR_40 >> Advanced Materials, Devices, Energy Systems and Computational Engineering >> KW: specialty alloy processing",
          "FOR_40 >> Advanced Materials, Devices, Energy Systems and Computational Engineering >> KW: atom-thin materials",
          "FOR_40 >> Advanced Materials, Devices, Energy Systems and Computational Engineering >> KW: organic carbon nitrides",
          "FOR_40 >> Advanced Materials, Devices, Energy Systems and Computational Engineering >> KW: cation exsolution",
          "FOR_40 >> Advanced Materials, Devices, Energy Systems and Computational Engineering >> KW: high-performance energy materials",
          "FOR_40 >> Advanced Materials, Devices, Energy Systems and Computational Engineering >> KW: stretchable electronics",
          "FOR_40 >> Advanced Materials, Devices, Energy Systems and Computational Engineering >> KW: wearable inertial sensors",
          "FOR_40 >> Advanced Materials, Devices, Energy Systems and Computational Engineering >> KW: one-way optical circuits",
          "FOR_40 >> Advanced Materials, Devices, Energy Systems and Computational Engineering >> KW: time-reversal-invariant systems",
          "FOR_40 >> Advanced Materials, Devices, Energy Systems and Computational Engineering >> KW: super low power input",
          "FOR_40 >> Advanced Materials, Devices, Energy Systems and Computational Engineering >> KW: helium atom microscope",
          "FOR_40 >> Advanced Materials, Devices, Energy Systems and Computational Engineering >> KW: digital manufacturing",
          "FOR_40 >> Advanced Materials, Devices, Energy Systems and Computational Engineering >> KW: maintenance",
          "FOR_40 >> Advanced Materials, Devices, Energy Systems and Computational Engineering >> KW: cost reduction",
          "FOR_40 >> Advanced Materials, Devices, Energy Systems and Computational Engineering >> KW: multiscale transport theory",
          "FOR_40 >> Advanced Materials, Devices, Energy Systems and Computational Engineering >> KW: nonlinear PDE approximations",
          "FOR_40 >> Advanced Materials, Devices, Energy Systems and Computational Engineering >> KW: transport behavior",
          "FOR_40 >> Advanced Materials, Devices, Energy Systems and Computational Engineering >> KW: self-driving autonomous cars",
          "FOR_40 >> Advanced Materials, Devices, Energy Systems and Computational Engineering >> KW: device uptake",
          "FOR_40 >> Advanced Materials, Devices, Energy Systems and Computational Engineering >> KW: surrogate models",
          "FOR_40 >> Advanced Materials, Devices, Energy Systems and Computational Engineering >> KW: process data",
          "FOR_40 >> Advanced Materials, Devices, Energy Systems and Computational Engineering >> KW: data analysis pipelines",
          "FOR_40 >> Advanced Materials, Devices, Energy Systems and Computational Engineering >> KW: predictive modelling",
          "FOR_40 >> Advanced Materials, Devices, Energy Systems and Computational Engineering >> KW: cross-domain recommendation",
          "FOR_40 >> Advanced Materials, Devices, Energy Systems and Computational Engineering >> KW: high sample-efficiency",
          "FOR_40 >> Advanced Materials, Devices, Energy Systems and Computational Engineering >> KW: software engineering",
          "FOR_40 >> Advanced Materials, Devices, Energy Systems and Computational Engineering >> KW: fast radio bursts",
          "FOR_40 >> Advanced Materials, Devices, Energy Systems and Computational Engineering >> KW: hydraulic infrastructures",
          "FOR_40 >> Advanced Materials, Devices, Energy Systems and Computational Engineering >> KW: specialty alloy processing",
          "FOR_44",
          "FOR_44 >> Societies, Governance, Culture, Heritage and Justice",
          "FOR_44 >> Societies, Governance, Culture, Heritage and Justice >> KW: Aboriginal organisations",
          "FOR_44 >> Societies, Governance, Culture, Heritage and Justice >> KW: Indigenous engagement",
          "FOR_44 >> Societies, Governance, Culture, Heritage and Justice >> KW: reconciliation of science and metaphysics",
          "FOR_44 >> Societies, Governance, Culture, Heritage and Justice >> KW: regional historiography",
          "FOR_44 >> Societies, Governance, Culture, Heritage and Justice >> KW: European settlement",
          "FOR_44 >> Societies, Governance, Culture, Heritage and Justice >> KW: archaeological excavation",
          "FOR_44 >> Societies, Governance, Culture, Heritage and Justice >> KW: early modern women's writing",
          "FOR_44 >> Societies, Governance, Culture, Heritage and Justice >> KW: social implications of death rituals",
          "FOR_44 >> Societies, Governance, Culture, Heritage and Justice >> KW: democratic practices",
          "FOR_44 >> Societies, Governance, Culture, Heritage and Justice >> KW: political mobilisation",
          "FOR_44 >> Societies, Governance, Culture, Heritage and Justice >> KW: grassroots nationalism",
          "FOR_44 >> Societies, Governance, Culture, Heritage and Justice >> KW: extremism",
          "FOR_44 >> Societies, Governance, Culture, Heritage and Justice >> KW: authoritarian states",
          "FOR_44 >> Societies, Governance, Culture, Heritage and Justice >> KW: online disinformation",
          "FOR_44 >> Societies, Governance, Culture, Heritage and Justice >> KW: bad-faith actors",
          "FOR_44 >> Societies, Governance, Culture, Heritage and Justice >> KW: public imagination",
          "FOR_44 >> Societies, Governance, Culture, Heritage and Justice >> KW: policy-practice translation",
          "FOR_44 >> Societies, Governance, Culture, Heritage and Justice >> KW: participation in care",
          "FOR_44 >> Societies, Governance, Culture, Heritage and Justice >> KW: classroom practice",
          "FOR_44 >> Societies, Governance, Culture, Heritage and Justice >> KW: higher education access",
          "FOR_44 >> Societies, Governance, Culture, Heritage and Justice >> KW: labour standards",
          "FOR_44 >> Societies, Governance, Culture, Heritage and Justice >> KW: employee well-being",
          "FOR_44 >> Societies, Governance, Culture, Heritage and Justice >> KW: rural community safety",
          "FOR_44 >> Societies, Governance, Culture, Heritage and Justice >> KW: equitable neighbourhoods",
          "FOR_44 >> Societies, Governance, Culture, Heritage and Justice >> KW: equity indices",
          "FOR_44 >> Societies, Governance, Culture, Heritage and Justice >> KW: desegregation",
          "FOR_44 >> Societies, Governance, Culture, Heritage and Justice >> KW: sexual violence exposure",
          "FOR_44 >> Societies, Governance, Culture, Heritage and Justice >> KW: research reporting",
          "FOR_44 >> Societies, Governance, Culture, Heritage and Justice >> KW: societal adaptation"
         ],
         "labels": [
          "FOR 41: ENVIRONMENTAL SCIENCES",
          "Integrated Coastal, Marine and Terrestrial Environmental Systems",
          "biodegradability",
          "rainforest restoration",
          "kelp forest decline",
          "R&D in seaweed",
          "seafood productivity",
          "coastal region",
          "marine sediments",
          "Humpback whale conservation",
          "land to sea transition",
          "waterway health",
          "equitable water distribution",
          "sustainability of gas production",
          "environmental variation",
          "precision ecology",
          "agrifood data exchange",
          "angler behavior",
          "agility in fisheries",
          "community composition",
          "atmospheric O2 and CO2 isotope fingerprints",
          "low‑carbon diets",
          "energy efficiency",
          "hydrogen superpower",
          "hydrogen withdrawal",
          "FOR 31: BIOLOGICAL SCIENCES",
          "Fundamental Biological Systems and Organismal Mechanisms",
          "bacterial cell-surface proteins",
          "bacterial survival",
          "resistance genes",
          "host restriction",
          "whole organism studies",
          "animal social structures",
          "glucose consumption",
          "physical principles of life",
          "resistance genes",
          "bacterial survival",
          "FOR 32: BIOMEDICAL AND CLINICAL SCIENCES",
          "Biomedical, Translational and Clinical Sciences",
          "therapeutic cancer vaccine",
          "receptor signaling",
          "G protein selectivity",
          "nuclear alarmins",
          "glial cell growth",
          "brain disorders",
          "PST profiles",
          "clinical decision-making",
          "disease preparedness",
          "disease resistance",
          "FOR 40: ENGINEERING",
          "Advanced Materials, Devices, Energy Systems and Computational Engineering",
          "specialty alloy processing",
          "atom-thin materials",
          "organic carbon nitrides",
          "cation exsolution",
          "high-performance energy materials",
          "stretchable electronics",
          "wearable inertial sensors",
          "one-way optical circuits",
          "time-reversal-invariant systems",
          "super low power input",
          "helium atom microscope",
          "digital manufacturing",
          "maintenance",
          "cost reduction",
          "multiscale transport theory",
          "nonlinear PDE approximations",
          "transport behavior",
          "self-driving autonomous cars",
          "device uptake",
          "surrogate models",
          "process data",
          "data analysis pipelines",
          "predictive modelling",
          "cross-domain recommendation",
          "high sample-efficiency",
          "software engineering",
          "fast radio bursts",
          "hydraulic infrastructures",
          "specialty alloy processing",
          "FOR 44: HUMAN SOCIETY",
          "Societies, Governance, Culture, Heritage and Justice",
          "Aboriginal organisations",
          "Indigenous engagement",
          "reconciliation of science and metaphysics",
          "regional historiography",
          "European settlement",
          "archaeological excavation",
          "early modern women's writing",
          "social implications of death rituals",
          "democratic practices",
          "political mobilisation",
          "grassroots nationalism",
          "extremism",
          "authoritarian states",
          "online disinformation",
          "bad-faith actors",
          "public imagination",
          "policy-practice translation",
          "participation in care",
          "classroom practice",
          "higher education access",
          "labour standards",
          "employee well-being",
          "rural community safety",
          "equitable neighbourhoods",
          "equity indices",
          "desegregation",
          "sexual violence exposure",
          "research reporting",
          "societal adaptation"
         ],
         "marker": {
          "colors": [
           "#1f77b4",
           "#ff7f0e",
           "#2ca02c",
           "#2ca02c",
           "#2ca02c",
           "#2ca02c",
           "#2ca02c",
           "#2ca02c",
           "#2ca02c",
           "#2ca02c",
           "#2ca02c",
           "#2ca02c",
           "#2ca02c",
           "#2ca02c",
           "#2ca02c",
           "#2ca02c",
           "#2ca02c",
           "#2ca02c",
           "#2ca02c",
           "#2ca02c",
           "#2ca02c",
           "#2ca02c",
           "#2ca02c",
           "#2ca02c",
           "#2ca02c",
           "#1f77b4",
           "#ff7f0e",
           "#2ca02c",
           "#2ca02c",
           "#2ca02c",
           "#2ca02c",
           "#2ca02c",
           "#2ca02c",
           "#2ca02c",
           "#2ca02c",
           "#2ca02c",
           "#2ca02c",
           "#1f77b4",
           "#ff7f0e",
           "#2ca02c",
           "#2ca02c",
           "#2ca02c",
           "#2ca02c",
           "#2ca02c",
           "#2ca02c",
           "#2ca02c",
           "#2ca02c",
           "#2ca02c",
           "#2ca02c",
           "#1f77b4",
           "#ff7f0e",
           "#2ca02c",
           "#2ca02c",
           "#2ca02c",
           "#2ca02c",
           "#2ca02c",
           "#2ca02c",
           "#2ca02c",
           "#2ca02c",
           "#2ca02c",
           "#2ca02c",
           "#2ca02c",
           "#2ca02c",
           "#2ca02c",
           "#2ca02c",
           "#2ca02c",
           "#2ca02c",
           "#2ca02c",
           "#2ca02c",
           "#2ca02c",
           "#2ca02c",
           "#2ca02c",
           "#2ca02c",
           "#2ca02c",
           "#2ca02c",
           "#2ca02c",
           "#2ca02c",
           "#2ca02c",
           "#2ca02c",
           "#2ca02c",
           "#1f77b4",
           "#ff7f0e",
           "#2ca02c",
           "#2ca02c",
           "#2ca02c",
           "#2ca02c",
           "#2ca02c",
           "#2ca02c",
           "#2ca02c",
           "#2ca02c",
           "#2ca02c",
           "#2ca02c",
           "#2ca02c",
           "#2ca02c",
           "#2ca02c",
           "#2ca02c",
           "#2ca02c",
           "#2ca02c",
           "#2ca02c",
           "#2ca02c",
           "#2ca02c",
           "#2ca02c",
           "#2ca02c",
           "#2ca02c",
           "#2ca02c",
           "#2ca02c",
           "#2ca02c",
           "#2ca02c",
           "#2ca02c",
           "#2ca02c",
           "#2ca02c"
          ]
         },
         "name": "",
         "parents": [
          "",
          "FOR_41",
          "FOR_41 >> Integrated Coastal, Marine and Terrestrial Environmental Systems",
          "FOR_41 >> Integrated Coastal, Marine and Terrestrial Environmental Systems",
          "FOR_41 >> Integrated Coastal, Marine and Terrestrial Environmental Systems",
          "FOR_41 >> Integrated Coastal, Marine and Terrestrial Environmental Systems",
          "FOR_41 >> Integrated Coastal, Marine and Terrestrial Environmental Systems",
          "FOR_41 >> Integrated Coastal, Marine and Terrestrial Environmental Systems",
          "FOR_41 >> Integrated Coastal, Marine and Terrestrial Environmental Systems",
          "FOR_41 >> Integrated Coastal, Marine and Terrestrial Environmental Systems",
          "FOR_41 >> Integrated Coastal, Marine and Terrestrial Environmental Systems",
          "FOR_41 >> Integrated Coastal, Marine and Terrestrial Environmental Systems",
          "FOR_41 >> Integrated Coastal, Marine and Terrestrial Environmental Systems",
          "FOR_41 >> Integrated Coastal, Marine and Terrestrial Environmental Systems",
          "FOR_41 >> Integrated Coastal, Marine and Terrestrial Environmental Systems",
          "FOR_41 >> Integrated Coastal, Marine and Terrestrial Environmental Systems",
          "FOR_41 >> Integrated Coastal, Marine and Terrestrial Environmental Systems",
          "FOR_41 >> Integrated Coastal, Marine and Terrestrial Environmental Systems",
          "FOR_41 >> Integrated Coastal, Marine and Terrestrial Environmental Systems",
          "FOR_41 >> Integrated Coastal, Marine and Terrestrial Environmental Systems",
          "FOR_41 >> Integrated Coastal, Marine and Terrestrial Environmental Systems",
          "FOR_41 >> Integrated Coastal, Marine and Terrestrial Environmental Systems",
          "FOR_41 >> Integrated Coastal, Marine and Terrestrial Environmental Systems",
          "FOR_41 >> Integrated Coastal, Marine and Terrestrial Environmental Systems",
          "FOR_41 >> Integrated Coastal, Marine and Terrestrial Environmental Systems",
          "",
          "FOR_31",
          "FOR_31 >> Fundamental Biological Systems and Organismal Mechanisms",
          "FOR_31 >> Fundamental Biological Systems and Organismal Mechanisms",
          "FOR_31 >> Fundamental Biological Systems and Organismal Mechanisms",
          "FOR_31 >> Fundamental Biological Systems and Organismal Mechanisms",
          "FOR_31 >> Fundamental Biological Systems and Organismal Mechanisms",
          "FOR_31 >> Fundamental Biological Systems and Organismal Mechanisms",
          "FOR_31 >> Fundamental Biological Systems and Organismal Mechanisms",
          "FOR_31 >> Fundamental Biological Systems and Organismal Mechanisms",
          "FOR_31 >> Fundamental Biological Systems and Organismal Mechanisms",
          "FOR_31 >> Fundamental Biological Systems and Organismal Mechanisms",
          "",
          "FOR_32",
          "FOR_32 >> Biomedical, Translational and Clinical Sciences",
          "FOR_32 >> Biomedical, Translational and Clinical Sciences",
          "FOR_32 >> Biomedical, Translational and Clinical Sciences",
          "FOR_32 >> Biomedical, Translational and Clinical Sciences",
          "FOR_32 >> Biomedical, Translational and Clinical Sciences",
          "FOR_32 >> Biomedical, Translational and Clinical Sciences",
          "FOR_32 >> Biomedical, Translational and Clinical Sciences",
          "FOR_32 >> Biomedical, Translational and Clinical Sciences",
          "FOR_32 >> Biomedical, Translational and Clinical Sciences",
          "FOR_32 >> Biomedical, Translational and Clinical Sciences",
          "",
          "FOR_40",
          "FOR_40 >> Advanced Materials, Devices, Energy Systems and Computational Engineering",
          "FOR_40 >> Advanced Materials, Devices, Energy Systems and Computational Engineering",
          "FOR_40 >> Advanced Materials, Devices, Energy Systems and Computational Engineering",
          "FOR_40 >> Advanced Materials, Devices, Energy Systems and Computational Engineering",
          "FOR_40 >> Advanced Materials, Devices, Energy Systems and Computational Engineering",
          "FOR_40 >> Advanced Materials, Devices, Energy Systems and Computational Engineering",
          "FOR_40 >> Advanced Materials, Devices, Energy Systems and Computational Engineering",
          "FOR_40 >> Advanced Materials, Devices, Energy Systems and Computational Engineering",
          "FOR_40 >> Advanced Materials, Devices, Energy Systems and Computational Engineering",
          "FOR_40 >> Advanced Materials, Devices, Energy Systems and Computational Engineering",
          "FOR_40 >> Advanced Materials, Devices, Energy Systems and Computational Engineering",
          "FOR_40 >> Advanced Materials, Devices, Energy Systems and Computational Engineering",
          "FOR_40 >> Advanced Materials, Devices, Energy Systems and Computational Engineering",
          "FOR_40 >> Advanced Materials, Devices, Energy Systems and Computational Engineering",
          "FOR_40 >> Advanced Materials, Devices, Energy Systems and Computational Engineering",
          "FOR_40 >> Advanced Materials, Devices, Energy Systems and Computational Engineering",
          "FOR_40 >> Advanced Materials, Devices, Energy Systems and Computational Engineering",
          "FOR_40 >> Advanced Materials, Devices, Energy Systems and Computational Engineering",
          "FOR_40 >> Advanced Materials, Devices, Energy Systems and Computational Engineering",
          "FOR_40 >> Advanced Materials, Devices, Energy Systems and Computational Engineering",
          "FOR_40 >> Advanced Materials, Devices, Energy Systems and Computational Engineering",
          "FOR_40 >> Advanced Materials, Devices, Energy Systems and Computational Engineering",
          "FOR_40 >> Advanced Materials, Devices, Energy Systems and Computational Engineering",
          "FOR_40 >> Advanced Materials, Devices, Energy Systems and Computational Engineering",
          "FOR_40 >> Advanced Materials, Devices, Energy Systems and Computational Engineering",
          "FOR_40 >> Advanced Materials, Devices, Energy Systems and Computational Engineering",
          "FOR_40 >> Advanced Materials, Devices, Energy Systems and Computational Engineering",
          "FOR_40 >> Advanced Materials, Devices, Energy Systems and Computational Engineering",
          "FOR_40 >> Advanced Materials, Devices, Energy Systems and Computational Engineering",
          "",
          "FOR_44",
          "FOR_44 >> Societies, Governance, Culture, Heritage and Justice",
          "FOR_44 >> Societies, Governance, Culture, Heritage and Justice",
          "FOR_44 >> Societies, Governance, Culture, Heritage and Justice",
          "FOR_44 >> Societies, Governance, Culture, Heritage and Justice",
          "FOR_44 >> Societies, Governance, Culture, Heritage and Justice",
          "FOR_44 >> Societies, Governance, Culture, Heritage and Justice",
          "FOR_44 >> Societies, Governance, Culture, Heritage and Justice",
          "FOR_44 >> Societies, Governance, Culture, Heritage and Justice",
          "FOR_44 >> Societies, Governance, Culture, Heritage and Justice",
          "FOR_44 >> Societies, Governance, Culture, Heritage and Justice",
          "FOR_44 >> Societies, Governance, Culture, Heritage and Justice",
          "FOR_44 >> Societies, Governance, Culture, Heritage and Justice",
          "FOR_44 >> Societies, Governance, Culture, Heritage and Justice",
          "FOR_44 >> Societies, Governance, Culture, Heritage and Justice",
          "FOR_44 >> Societies, Governance, Culture, Heritage and Justice",
          "FOR_44 >> Societies, Governance, Culture, Heritage and Justice",
          "FOR_44 >> Societies, Governance, Culture, Heritage and Justice",
          "FOR_44 >> Societies, Governance, Culture, Heritage and Justice",
          "FOR_44 >> Societies, Governance, Culture, Heritage and Justice",
          "FOR_44 >> Societies, Governance, Culture, Heritage and Justice",
          "FOR_44 >> Societies, Governance, Culture, Heritage and Justice",
          "FOR_44 >> Societies, Governance, Culture, Heritage and Justice",
          "FOR_44 >> Societies, Governance, Culture, Heritage and Justice",
          "FOR_44 >> Societies, Governance, Culture, Heritage and Justice",
          "FOR_44 >> Societies, Governance, Culture, Heritage and Justice",
          "FOR_44 >> Societies, Governance, Culture, Heritage and Justice",
          "FOR_44 >> Societies, Governance, Culture, Heritage and Justice",
          "FOR_44 >> Societies, Governance, Culture, Heritage and Justice",
          "FOR_44 >> Societies, Governance, Culture, Heritage and Justice"
         ],
         "textfont": {
          "size": 9
         },
         "textinfo": "label",
         "textposition": "middle center",
         "type": "treemap",
         "values": {
          "bdata": "FxcBAQEBAQEBAQEBAQEBAQEBAQEBAQEBAQoKAQEBAQEBAQEBAQoKAQEBAQEBAQEBAR0dAQEBAQEBAQEBAQEBAQEBAQEBAQEBAQEBAQEBAQEdHQEBAQEBAQEBAQEBAQEBAQEBAQEBAQEBAQEBAQEB",
          "dtype": "i1"
         }
        }
       ],
       "layout": {
        "font": {
         "size": 9
        },
        "height": 800,
        "legend": {
         "tracegroupgap": 0
        },
        "margin": {
         "b": 25,
         "l": 25,
         "r": 25,
         "t": 60
        },
        "template": {
         "data": {
          "bar": [
           {
            "error_x": {
             "color": "#2a3f5f"
            },
            "error_y": {
             "color": "#2a3f5f"
            },
            "marker": {
             "line": {
              "color": "#E5ECF6",
              "width": 0.5
             },
             "pattern": {
              "fillmode": "overlay",
              "size": 10,
              "solidity": 0.2
             }
            },
            "type": "bar"
           }
          ],
          "barpolar": [
           {
            "marker": {
             "line": {
              "color": "#E5ECF6",
              "width": 0.5
             },
             "pattern": {
              "fillmode": "overlay",
              "size": 10,
              "solidity": 0.2
             }
            },
            "type": "barpolar"
           }
          ],
          "carpet": [
           {
            "aaxis": {
             "endlinecolor": "#2a3f5f",
             "gridcolor": "white",
             "linecolor": "white",
             "minorgridcolor": "white",
             "startlinecolor": "#2a3f5f"
            },
            "baxis": {
             "endlinecolor": "#2a3f5f",
             "gridcolor": "white",
             "linecolor": "white",
             "minorgridcolor": "white",
             "startlinecolor": "#2a3f5f"
            },
            "type": "carpet"
           }
          ],
          "choropleth": [
           {
            "colorbar": {
             "outlinewidth": 0,
             "ticks": ""
            },
            "type": "choropleth"
           }
          ],
          "contour": [
           {
            "colorbar": {
             "outlinewidth": 0,
             "ticks": ""
            },
            "colorscale": [
             [
              0,
              "#0d0887"
             ],
             [
              0.1111111111111111,
              "#46039f"
             ],
             [
              0.2222222222222222,
              "#7201a8"
             ],
             [
              0.3333333333333333,
              "#9c179e"
             ],
             [
              0.4444444444444444,
              "#bd3786"
             ],
             [
              0.5555555555555556,
              "#d8576b"
             ],
             [
              0.6666666666666666,
              "#ed7953"
             ],
             [
              0.7777777777777778,
              "#fb9f3a"
             ],
             [
              0.8888888888888888,
              "#fdca26"
             ],
             [
              1,
              "#f0f921"
             ]
            ],
            "type": "contour"
           }
          ],
          "contourcarpet": [
           {
            "colorbar": {
             "outlinewidth": 0,
             "ticks": ""
            },
            "type": "contourcarpet"
           }
          ],
          "heatmap": [
           {
            "colorbar": {
             "outlinewidth": 0,
             "ticks": ""
            },
            "colorscale": [
             [
              0,
              "#0d0887"
             ],
             [
              0.1111111111111111,
              "#46039f"
             ],
             [
              0.2222222222222222,
              "#7201a8"
             ],
             [
              0.3333333333333333,
              "#9c179e"
             ],
             [
              0.4444444444444444,
              "#bd3786"
             ],
             [
              0.5555555555555556,
              "#d8576b"
             ],
             [
              0.6666666666666666,
              "#ed7953"
             ],
             [
              0.7777777777777778,
              "#fb9f3a"
             ],
             [
              0.8888888888888888,
              "#fdca26"
             ],
             [
              1,
              "#f0f921"
             ]
            ],
            "type": "heatmap"
           }
          ],
          "histogram": [
           {
            "marker": {
             "pattern": {
              "fillmode": "overlay",
              "size": 10,
              "solidity": 0.2
             }
            },
            "type": "histogram"
           }
          ],
          "histogram2d": [
           {
            "colorbar": {
             "outlinewidth": 0,
             "ticks": ""
            },
            "colorscale": [
             [
              0,
              "#0d0887"
             ],
             [
              0.1111111111111111,
              "#46039f"
             ],
             [
              0.2222222222222222,
              "#7201a8"
             ],
             [
              0.3333333333333333,
              "#9c179e"
             ],
             [
              0.4444444444444444,
              "#bd3786"
             ],
             [
              0.5555555555555556,
              "#d8576b"
             ],
             [
              0.6666666666666666,
              "#ed7953"
             ],
             [
              0.7777777777777778,
              "#fb9f3a"
             ],
             [
              0.8888888888888888,
              "#fdca26"
             ],
             [
              1,
              "#f0f921"
             ]
            ],
            "type": "histogram2d"
           }
          ],
          "histogram2dcontour": [
           {
            "colorbar": {
             "outlinewidth": 0,
             "ticks": ""
            },
            "colorscale": [
             [
              0,
              "#0d0887"
             ],
             [
              0.1111111111111111,
              "#46039f"
             ],
             [
              0.2222222222222222,
              "#7201a8"
             ],
             [
              0.3333333333333333,
              "#9c179e"
             ],
             [
              0.4444444444444444,
              "#bd3786"
             ],
             [
              0.5555555555555556,
              "#d8576b"
             ],
             [
              0.6666666666666666,
              "#ed7953"
             ],
             [
              0.7777777777777778,
              "#fb9f3a"
             ],
             [
              0.8888888888888888,
              "#fdca26"
             ],
             [
              1,
              "#f0f921"
             ]
            ],
            "type": "histogram2dcontour"
           }
          ],
          "mesh3d": [
           {
            "colorbar": {
             "outlinewidth": 0,
             "ticks": ""
            },
            "type": "mesh3d"
           }
          ],
          "parcoords": [
           {
            "line": {
             "colorbar": {
              "outlinewidth": 0,
              "ticks": ""
             }
            },
            "type": "parcoords"
           }
          ],
          "pie": [
           {
            "automargin": true,
            "type": "pie"
           }
          ],
          "scatter": [
           {
            "fillpattern": {
             "fillmode": "overlay",
             "size": 10,
             "solidity": 0.2
            },
            "type": "scatter"
           }
          ],
          "scatter3d": [
           {
            "line": {
             "colorbar": {
              "outlinewidth": 0,
              "ticks": ""
             }
            },
            "marker": {
             "colorbar": {
              "outlinewidth": 0,
              "ticks": ""
             }
            },
            "type": "scatter3d"
           }
          ],
          "scattercarpet": [
           {
            "marker": {
             "colorbar": {
              "outlinewidth": 0,
              "ticks": ""
             }
            },
            "type": "scattercarpet"
           }
          ],
          "scattergeo": [
           {
            "marker": {
             "colorbar": {
              "outlinewidth": 0,
              "ticks": ""
             }
            },
            "type": "scattergeo"
           }
          ],
          "scattergl": [
           {
            "marker": {
             "colorbar": {
              "outlinewidth": 0,
              "ticks": ""
             }
            },
            "type": "scattergl"
           }
          ],
          "scattermap": [
           {
            "marker": {
             "colorbar": {
              "outlinewidth": 0,
              "ticks": ""
             }
            },
            "type": "scattermap"
           }
          ],
          "scattermapbox": [
           {
            "marker": {
             "colorbar": {
              "outlinewidth": 0,
              "ticks": ""
             }
            },
            "type": "scattermapbox"
           }
          ],
          "scatterpolar": [
           {
            "marker": {
             "colorbar": {
              "outlinewidth": 0,
              "ticks": ""
             }
            },
            "type": "scatterpolar"
           }
          ],
          "scatterpolargl": [
           {
            "marker": {
             "colorbar": {
              "outlinewidth": 0,
              "ticks": ""
             }
            },
            "type": "scatterpolargl"
           }
          ],
          "scatterternary": [
           {
            "marker": {
             "colorbar": {
              "outlinewidth": 0,
              "ticks": ""
             }
            },
            "type": "scatterternary"
           }
          ],
          "surface": [
           {
            "colorbar": {
             "outlinewidth": 0,
             "ticks": ""
            },
            "colorscale": [
             [
              0,
              "#0d0887"
             ],
             [
              0.1111111111111111,
              "#46039f"
             ],
             [
              0.2222222222222222,
              "#7201a8"
             ],
             [
              0.3333333333333333,
              "#9c179e"
             ],
             [
              0.4444444444444444,
              "#bd3786"
             ],
             [
              0.5555555555555556,
              "#d8576b"
             ],
             [
              0.6666666666666666,
              "#ed7953"
             ],
             [
              0.7777777777777778,
              "#fb9f3a"
             ],
             [
              0.8888888888888888,
              "#fdca26"
             ],
             [
              1,
              "#f0f921"
             ]
            ],
            "type": "surface"
           }
          ],
          "table": [
           {
            "cells": {
             "fill": {
              "color": "#EBF0F8"
             },
             "line": {
              "color": "white"
             }
            },
            "header": {
             "fill": {
              "color": "#C8D4E3"
             },
             "line": {
              "color": "white"
             }
            },
            "type": "table"
           }
          ]
         },
         "layout": {
          "annotationdefaults": {
           "arrowcolor": "#2a3f5f",
           "arrowhead": 0,
           "arrowwidth": 1
          },
          "autotypenumbers": "strict",
          "coloraxis": {
           "colorbar": {
            "outlinewidth": 0,
            "ticks": ""
           }
          },
          "colorscale": {
           "diverging": [
            [
             0,
             "#8e0152"
            ],
            [
             0.1,
             "#c51b7d"
            ],
            [
             0.2,
             "#de77ae"
            ],
            [
             0.3,
             "#f1b6da"
            ],
            [
             0.4,
             "#fde0ef"
            ],
            [
             0.5,
             "#f7f7f7"
            ],
            [
             0.6,
             "#e6f5d0"
            ],
            [
             0.7,
             "#b8e186"
            ],
            [
             0.8,
             "#7fbc41"
            ],
            [
             0.9,
             "#4d9221"
            ],
            [
             1,
             "#276419"
            ]
           ],
           "sequential": [
            [
             0,
             "#0d0887"
            ],
            [
             0.1111111111111111,
             "#46039f"
            ],
            [
             0.2222222222222222,
             "#7201a8"
            ],
            [
             0.3333333333333333,
             "#9c179e"
            ],
            [
             0.4444444444444444,
             "#bd3786"
            ],
            [
             0.5555555555555556,
             "#d8576b"
            ],
            [
             0.6666666666666666,
             "#ed7953"
            ],
            [
             0.7777777777777778,
             "#fb9f3a"
            ],
            [
             0.8888888888888888,
             "#fdca26"
            ],
            [
             1,
             "#f0f921"
            ]
           ],
           "sequentialminus": [
            [
             0,
             "#0d0887"
            ],
            [
             0.1111111111111111,
             "#46039f"
            ],
            [
             0.2222222222222222,
             "#7201a8"
            ],
            [
             0.3333333333333333,
             "#9c179e"
            ],
            [
             0.4444444444444444,
             "#bd3786"
            ],
            [
             0.5555555555555556,
             "#d8576b"
            ],
            [
             0.6666666666666666,
             "#ed7953"
            ],
            [
             0.7777777777777778,
             "#fb9f3a"
            ],
            [
             0.8888888888888888,
             "#fdca26"
            ],
            [
             1,
             "#f0f921"
            ]
           ]
          },
          "colorway": [
           "#636efa",
           "#EF553B",
           "#00cc96",
           "#ab63fa",
           "#FFA15A",
           "#19d3f3",
           "#FF6692",
           "#B6E880",
           "#FF97FF",
           "#FECB52"
          ],
          "font": {
           "color": "#2a3f5f"
          },
          "geo": {
           "bgcolor": "white",
           "lakecolor": "white",
           "landcolor": "#E5ECF6",
           "showlakes": true,
           "showland": true,
           "subunitcolor": "white"
          },
          "hoverlabel": {
           "align": "left"
          },
          "hovermode": "closest",
          "mapbox": {
           "style": "light"
          },
          "paper_bgcolor": "white",
          "plot_bgcolor": "#E5ECF6",
          "polar": {
           "angularaxis": {
            "gridcolor": "white",
            "linecolor": "white",
            "ticks": ""
           },
           "bgcolor": "#E5ECF6",
           "radialaxis": {
            "gridcolor": "white",
            "linecolor": "white",
            "ticks": ""
           }
          },
          "scene": {
           "xaxis": {
            "backgroundcolor": "#E5ECF6",
            "gridcolor": "white",
            "gridwidth": 2,
            "linecolor": "white",
            "showbackground": true,
            "ticks": "",
            "zerolinecolor": "white"
           },
           "yaxis": {
            "backgroundcolor": "#E5ECF6",
            "gridcolor": "white",
            "gridwidth": 2,
            "linecolor": "white",
            "showbackground": true,
            "ticks": "",
            "zerolinecolor": "white"
           },
           "zaxis": {
            "backgroundcolor": "#E5ECF6",
            "gridcolor": "white",
            "gridwidth": 2,
            "linecolor": "white",
            "showbackground": true,
            "ticks": "",
            "zerolinecolor": "white"
           }
          },
          "shapedefaults": {
           "line": {
            "color": "#2a3f5f"
           }
          },
          "ternary": {
           "aaxis": {
            "gridcolor": "white",
            "linecolor": "white",
            "ticks": ""
           },
           "baxis": {
            "gridcolor": "white",
            "linecolor": "white",
            "ticks": ""
           },
           "bgcolor": "#E5ECF6",
           "caxis": {
            "gridcolor": "white",
            "linecolor": "white",
            "ticks": ""
           }
          },
          "title": {
           "x": 0.05
          },
          "xaxis": {
           "automargin": true,
           "gridcolor": "white",
           "linecolor": "white",
           "ticks": "",
           "title": {
            "standoff": 15
           },
           "zerolinecolor": "white",
           "zerolinewidth": 2
          },
          "yaxis": {
           "automargin": true,
           "gridcolor": "white",
           "linecolor": "white",
           "ticks": "",
           "title": {
            "standoff": 15
           },
           "zerolinecolor": "white",
           "zerolinewidth": 2
          }
         }
        },
        "title": {
         "font": {
          "size": 16
         },
         "text": "Research Landscape: FOR Classes → Categories → Keywords"
        }
       }
      }
     },
     "metadata": {},
     "output_type": "display_data"
    }
   ],
   "source": [
    "create_research_landscape_treemap()"
   ]
  },
  {
   "cell_type": "code",
   "execution_count": null,
   "id": "226b86cc",
   "metadata": {},
   "outputs": [],
   "source": []
  }
 ],
 "metadata": {
  "kernelspec": {
   "display_name": "modeling (3.12.10)",
   "language": "python",
   "name": "python3"
  },
  "language_info": {
   "codemirror_mode": {
    "name": "ipython",
    "version": 3
   },
   "file_extension": ".py",
   "mimetype": "text/x-python",
   "name": "python",
   "nbconvert_exporter": "python",
   "pygments_lexer": "ipython3",
   "version": "3.12.10"
  }
 },
 "nbformat": 4,
 "nbformat_minor": 5
}

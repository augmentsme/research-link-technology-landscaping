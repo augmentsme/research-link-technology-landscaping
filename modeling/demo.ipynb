{
 "cells": [
  {
   "cell_type": "code",
   "execution_count": 28,
   "id": "b73895f6",
   "metadata": {},
   "outputs": [],
   "source": [
    "import plotly.express as px\n",
    "import pandas as pd\n",
    "import config\n",
    "from web.shared_utils import load_data"
   ]
  },
  {
   "cell_type": "code",
   "execution_count": 29,
   "id": "5685b047",
   "metadata": {},
   "outputs": [],
   "source": [
    "keywords, grants, cats = load_data()"
   ]
  },
  {
   "cell_type": "code",
   "execution_count": 40,
   "id": "eb152887",
   "metadata": {},
   "outputs": [
    {
     "data": {
      "application/vnd.plotly.v1+json": {
       "config": {
        "plotlyServerURL": "https://plot.ly"
       },
       "data": [
        {
         "hovertemplate": "Keyword Type=%{x}<br>Number of Keywords=%{marker.color}<extra></extra>",
         "legendgroup": "",
         "marker": {
          "color": {
           "bdata": "6f8AAJPOAABfWQAACyYAAA==",
           "dtype": "i4"
          },
          "coloraxis": "coloraxis",
          "pattern": {
           "shape": ""
          }
         },
         "name": "",
         "orientation": "v",
         "showlegend": false,
         "text": {
          "bdata": "AAAAACD970AAAAAAYNLpQAAAAADAV9ZAAAAAAIAFw0A=",
          "dtype": "f8"
         },
         "textposition": "outside",
         "texttemplate": "%{text:,}",
         "type": "bar",
         "x": [
          "Methodology",
          "Application",
          "Technology",
          "General"
         ],
         "xaxis": "x",
         "y": {
          "bdata": "6f8AAJPOAABfWQAACyYAAA==",
          "dtype": "i4"
         },
         "yaxis": "y"
        }
       ],
       "layout": {
        "barmode": "relative",
        "coloraxis": {
         "colorbar": {
          "title": {
           "text": "Number of Keywords"
          }
         },
         "colorscale": [
          [
           0,
           "#440154"
          ],
          [
           0.1111111111111111,
           "#482878"
          ],
          [
           0.2222222222222222,
           "#3e4989"
          ],
          [
           0.3333333333333333,
           "#31688e"
          ],
          [
           0.4444444444444444,
           "#26828e"
          ],
          [
           0.5555555555555556,
           "#1f9e89"
          ],
          [
           0.6666666666666666,
           "#35b779"
          ],
          [
           0.7777777777777778,
           "#6ece58"
          ],
          [
           0.8888888888888888,
           "#b5de2b"
          ],
          [
           1,
           "#fde725"
          ]
         ]
        },
        "font": {
         "size": 12
        },
        "height": 500,
        "hovermode": "x unified",
        "legend": {
         "tracegroupgap": 0
        },
        "showlegend": false,
        "template": {
         "data": {
          "candlestick": [
           {
            "decreasing": {
             "line": {
              "color": "#000033"
             }
            },
            "increasing": {
             "line": {
              "color": "#000032"
             }
            },
            "type": "candlestick"
           }
          ],
          "contour": [
           {
            "colorscale": [
             [
              0,
              "#000011"
             ],
             [
              0.1111111111111111,
              "#000012"
             ],
             [
              0.2222222222222222,
              "#000013"
             ],
             [
              0.3333333333333333,
              "#000014"
             ],
             [
              0.4444444444444444,
              "#000015"
             ],
             [
              0.5555555555555556,
              "#000016"
             ],
             [
              0.6666666666666666,
              "#000017"
             ],
             [
              0.7777777777777778,
              "#000018"
             ],
             [
              0.8888888888888888,
              "#000019"
             ],
             [
              1,
              "#000020"
             ]
            ],
            "type": "contour"
           }
          ],
          "contourcarpet": [
           {
            "colorscale": [
             [
              0,
              "#000011"
             ],
             [
              0.1111111111111111,
              "#000012"
             ],
             [
              0.2222222222222222,
              "#000013"
             ],
             [
              0.3333333333333333,
              "#000014"
             ],
             [
              0.4444444444444444,
              "#000015"
             ],
             [
              0.5555555555555556,
              "#000016"
             ],
             [
              0.6666666666666666,
              "#000017"
             ],
             [
              0.7777777777777778,
              "#000018"
             ],
             [
              0.8888888888888888,
              "#000019"
             ],
             [
              1,
              "#000020"
             ]
            ],
            "type": "contourcarpet"
           }
          ],
          "heatmap": [
           {
            "colorscale": [
             [
              0,
              "#000011"
             ],
             [
              0.1111111111111111,
              "#000012"
             ],
             [
              0.2222222222222222,
              "#000013"
             ],
             [
              0.3333333333333333,
              "#000014"
             ],
             [
              0.4444444444444444,
              "#000015"
             ],
             [
              0.5555555555555556,
              "#000016"
             ],
             [
              0.6666666666666666,
              "#000017"
             ],
             [
              0.7777777777777778,
              "#000018"
             ],
             [
              0.8888888888888888,
              "#000019"
             ],
             [
              1,
              "#000020"
             ]
            ],
            "type": "heatmap"
           }
          ],
          "histogram2d": [
           {
            "colorscale": [
             [
              0,
              "#000011"
             ],
             [
              0.1111111111111111,
              "#000012"
             ],
             [
              0.2222222222222222,
              "#000013"
             ],
             [
              0.3333333333333333,
              "#000014"
             ],
             [
              0.4444444444444444,
              "#000015"
             ],
             [
              0.5555555555555556,
              "#000016"
             ],
             [
              0.6666666666666666,
              "#000017"
             ],
             [
              0.7777777777777778,
              "#000018"
             ],
             [
              0.8888888888888888,
              "#000019"
             ],
             [
              1,
              "#000020"
             ]
            ],
            "type": "histogram2d"
           }
          ],
          "icicle": [
           {
            "textfont": {
             "color": "white"
            },
            "type": "icicle"
           }
          ],
          "sankey": [
           {
            "textfont": {
             "color": "#000036"
            },
            "type": "sankey"
           }
          ],
          "scatter": [
           {
            "marker": {
             "line": {
              "width": 0
             }
            },
            "type": "scatter"
           }
          ],
          "table": [
           {
            "cells": {
             "fill": {
              "color": "#000038"
             },
             "font": {
              "color": "#000037"
             },
             "line": {
              "color": "#000039"
             }
            },
            "header": {
             "fill": {
              "color": "#000040"
             },
             "font": {
              "color": "#000036"
             },
             "line": {
              "color": "#000039"
             }
            },
            "type": "table"
           }
          ],
          "waterfall": [
           {
            "connector": {
             "line": {
              "color": "#000036",
              "width": 2
             }
            },
            "decreasing": {
             "marker": {
              "color": "#000033"
             }
            },
            "increasing": {
             "marker": {
              "color": "#000032"
             }
            },
            "totals": {
             "marker": {
              "color": "#000034"
             }
            },
            "type": "waterfall"
           }
          ]
         },
         "layout": {
          "coloraxis": {
           "colorscale": [
            [
             0,
             "#000011"
            ],
            [
             0.1111111111111111,
             "#000012"
            ],
            [
             0.2222222222222222,
             "#000013"
            ],
            [
             0.3333333333333333,
             "#000014"
            ],
            [
             0.4444444444444444,
             "#000015"
            ],
            [
             0.5555555555555556,
             "#000016"
            ],
            [
             0.6666666666666666,
             "#000017"
            ],
            [
             0.7777777777777778,
             "#000018"
            ],
            [
             0.8888888888888888,
             "#000019"
            ],
            [
             1,
             "#000020"
            ]
           ]
          },
          "colorscale": {
           "diverging": [
            [
             0,
             "#000021"
            ],
            [
             0.1,
             "#000022"
            ],
            [
             0.2,
             "#000023"
            ],
            [
             0.3,
             "#000024"
            ],
            [
             0.4,
             "#000025"
            ],
            [
             0.5,
             "#000026"
            ],
            [
             0.6,
             "#000027"
            ],
            [
             0.7,
             "#000028"
            ],
            [
             0.8,
             "#000029"
            ],
            [
             0.9,
             "#000030"
            ],
            [
             1,
             "#000031"
            ]
           ],
           "sequential": [
            [
             0,
             "#000011"
            ],
            [
             0.1111111111111111,
             "#000012"
            ],
            [
             0.2222222222222222,
             "#000013"
            ],
            [
             0.3333333333333333,
             "#000014"
            ],
            [
             0.4444444444444444,
             "#000015"
            ],
            [
             0.5555555555555556,
             "#000016"
            ],
            [
             0.6666666666666666,
             "#000017"
            ],
            [
             0.7777777777777778,
             "#000018"
            ],
            [
             0.8888888888888888,
             "#000019"
            ],
            [
             1,
             "#000020"
            ]
           ],
           "sequentialminus": [
            [
             0,
             "#000011"
            ],
            [
             0.1111111111111111,
             "#000012"
            ],
            [
             0.2222222222222222,
             "#000013"
            ],
            [
             0.3333333333333333,
             "#000014"
            ],
            [
             0.4444444444444444,
             "#000015"
            ],
            [
             0.5555555555555556,
             "#000016"
            ],
            [
             0.6666666666666666,
             "#000017"
            ],
            [
             0.7777777777777778,
             "#000018"
            ],
            [
             0.8888888888888888,
             "#000019"
            ],
            [
             1,
             "#000020"
            ]
           ]
          },
          "colorway": [
           "#000001",
           "#000002",
           "#000003",
           "#000004",
           "#000005",
           "#000006",
           "#000007",
           "#000008",
           "#000009",
           "#000010"
          ]
         }
        },
        "title": {
         "font": {
          "size": 16
         },
         "text": "Distribution of Keywords by Type"
        },
        "xaxis": {
         "anchor": "y",
         "domain": [
          0,
          1
         ],
         "tickangle": -45,
         "title": {
          "text": "Keyword Type"
         }
        },
        "yaxis": {
         "anchor": "x",
         "domain": [
          0,
          1
         ],
         "title": {
          "text": "Number of Keywords"
         }
        }
       }
      }
     },
     "metadata": {},
     "output_type": "display_data"
    }
   ],
   "source": [
    "# Count keywords by type\n",
    "keyword_counts = keywords['type'].value_counts().reset_index()\n",
    "keyword_counts.columns = ['Keyword Type', 'Count']\n",
    "\n",
    "# Create improved bar plot\n",
    "fig = px.bar(\n",
    "    keyword_counts,\n",
    "    x='Keyword Type',\n",
    "    y='Count',\n",
    "    title='Distribution of Keywords by Type',\n",
    "    labels={'Count': 'Number of Keywords'},\n",
    "    color='Count',\n",
    "    color_continuous_scale='Viridis',\n",
    "    text='Count'\n",
    ")\n",
    "\n",
    "# Improve layout\n",
    "fig.update_traces(\n",
    "    texttemplate='%{text:,}',  # Format numbers with commas\n",
    "    textposition='outside'\n",
    ")\n",
    "\n",
    "fig.update_layout(\n",
    "    xaxis_title='Keyword Type',\n",
    "    yaxis_title='Number of Keywords',\n",
    "    showlegend=False,\n",
    "    height=500,\n",
    "    xaxis_tickangle=-45,  # Rotate x-axis labels for readability\n",
    "    font=dict(size=12),\n",
    "    title_font_size=16,\n",
    "    hovermode='x unified'\n",
    ")\n",
    "\n",
    "fig.show()"
   ]
  },
  {
   "cell_type": "code",
   "execution_count": 50,
   "id": "fa1815ba",
   "metadata": {},
   "outputs": [
    {
     "data": {
      "text/html": [
       "<div>\n",
       "<style scoped>\n",
       "    .dataframe tbody tr th:only-of-type {\n",
       "        vertical-align: middle;\n",
       "    }\n",
       "\n",
       "    .dataframe tbody tr th {\n",
       "        vertical-align: top;\n",
       "    }\n",
       "\n",
       "    .dataframe thead th {\n",
       "        text-align: right;\n",
       "    }\n",
       "</style>\n",
       "<table border=\"1\" class=\"dataframe\">\n",
       "  <thead>\n",
       "    <tr style=\"text-align: right;\">\n",
       "      <th></th>\n",
       "      <th>description</th>\n",
       "      <th>field_of_research</th>\n",
       "      <th>keywords</th>\n",
       "    </tr>\n",
       "    <tr>\n",
       "      <th>name</th>\n",
       "      <th></th>\n",
       "      <th></th>\n",
       "      <th></th>\n",
       "    </tr>\n",
       "  </thead>\n",
       "  <tbody>\n",
       "    <tr>\n",
       "      <th>Climate and Paleoenvironmental Reconstruction</th>\n",
       "      <td>A unified domain integrating climate variabili...</td>\n",
       "      <td>BIOLOGICAL_SCIENCES</td>\n",
       "      <td>[Australia's flooding history, Australian clim...</td>\n",
       "    </tr>\n",
       "    <tr>\n",
       "      <th>Fossilisation, Biological Preservation, and Paleoecological Records</th>\n",
       "      <td>This category explores the scientific processe...</td>\n",
       "      <td>BIOLOGICAL_SCIENCES</td>\n",
       "      <td>[fossilisation processes]</td>\n",
       "    </tr>\n",
       "    <tr>\n",
       "      <th>Evolutionary and Paleobiological Foundations</th>\n",
       "      <td>This category explores the deep evolutionary h...</td>\n",
       "      <td>BIOLOGICAL_SCIENCES</td>\n",
       "      <td>[Australia's oldest complex organisms, Cambria...</td>\n",
       "    </tr>\n",
       "    <tr>\n",
       "      <th>Australian Paleontological and Vertebrate Fossils</th>\n",
       "      <td>This category centers on the fossil record of ...</td>\n",
       "      <td>BIOLOGICAL_SCIENCES</td>\n",
       "      <td>[Australian dinosaurs, Australian tetrapod tra...</td>\n",
       "    </tr>\n",
       "    <tr>\n",
       "      <th>Natural Heritage, Fossil Record and Evolutionary Studies</th>\n",
       "      <td>This category highlights the scientific and co...</td>\n",
       "      <td>BIOLOGICAL_SCIENCES</td>\n",
       "      <td>[Australia's natural heritage, Cambrian fossil...</td>\n",
       "    </tr>\n",
       "  </tbody>\n",
       "</table>\n",
       "</div>"
      ],
      "text/plain": [
       "                                                                                          description  \\\n",
       "name                                                                                                    \n",
       "Climate and Paleoenvironmental Reconstruction       A unified domain integrating climate variabili...   \n",
       "Fossilisation, Biological Preservation, and Pal...  This category explores the scientific processe...   \n",
       "Evolutionary and Paleobiological Foundations        This category explores the deep evolutionary h...   \n",
       "Australian Paleontological and Vertebrate Fossils   This category centers on the fossil record of ...   \n",
       "Natural Heritage, Fossil Record and Evolutionar...  This category highlights the scientific and co...   \n",
       "\n",
       "                                                      field_of_research  \\\n",
       "name                                                                      \n",
       "Climate and Paleoenvironmental Reconstruction       BIOLOGICAL_SCIENCES   \n",
       "Fossilisation, Biological Preservation, and Pal...  BIOLOGICAL_SCIENCES   \n",
       "Evolutionary and Paleobiological Foundations        BIOLOGICAL_SCIENCES   \n",
       "Australian Paleontological and Vertebrate Fossils   BIOLOGICAL_SCIENCES   \n",
       "Natural Heritage, Fossil Record and Evolutionar...  BIOLOGICAL_SCIENCES   \n",
       "\n",
       "                                                                                             keywords  \n",
       "name                                                                                                   \n",
       "Climate and Paleoenvironmental Reconstruction       [Australia's flooding history, Australian clim...  \n",
       "Fossilisation, Biological Preservation, and Pal...                          [fossilisation processes]  \n",
       "Evolutionary and Paleobiological Foundations        [Australia's oldest complex organisms, Cambria...  \n",
       "Australian Paleontological and Vertebrate Fossils   [Australian dinosaurs, Australian tetrapod tra...  \n",
       "Natural Heritage, Fossil Record and Evolutionar...  [Australia's natural heritage, Cambrian fossil...  "
      ]
     },
     "execution_count": 50,
     "metadata": {},
     "output_type": "execute_result"
    }
   ],
   "source": [
    "cats.head()"
   ]
  }
 ],
 "metadata": {
  "kernelspec": {
   "display_name": "modeling (3.12.10)",
   "language": "python",
   "name": "python3"
  },
  "language_info": {
   "codemirror_mode": {
    "name": "ipython",
    "version": 3
   },
   "file_extension": ".py",
   "mimetype": "text/x-python",
   "name": "python",
   "nbconvert_exporter": "python",
   "pygments_lexer": "ipython3",
   "version": "3.12.10"
  }
 },
 "nbformat": 4,
 "nbformat_minor": 5
}

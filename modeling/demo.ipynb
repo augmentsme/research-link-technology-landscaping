{
 "cells": [
  {
   "cell_type": "code",
   "execution_count": 51,
   "id": "eff263cd",
   "metadata": {},
   "outputs": [
    {
     "name": "stdout",
     "output_type": "stream",
     "text": [
      "The autoreload extension is already loaded. To reload it, use:\n",
      "  %reload_ext autoreload\n"
     ]
    }
   ],
   "source": [
    "%load_ext autoreload\n",
    "%autoreload 2\n",
    "from config import EXTRACTED_KEYWORDS_PATH, KEYWORDS_FINAL_PATH, CLUSTERS_FINAL_PATH, GRANTS_FILE\n",
    "import pandas as pd\n",
    "from visualisation import create_research_landscape_treemap, load_data"
   ]
  },
  {
   "cell_type": "code",
   "execution_count": 54,
   "id": "e1f624d6",
   "metadata": {},
   "outputs": [
    {
     "name": "stdout",
     "output_type": "stream",
     "text": [
      "Found 10 grant classifications\n",
      "Found 1 categories\n"
     ]
    }
   ],
   "source": [
    "cat, classifcation = load_data()"
   ]
  },
  {
   "cell_type": "code",
   "execution_count": 56,
   "id": "307fa779",
   "metadata": {},
   "outputs": [
    {
     "data": {
      "text/plain": [
       "[{'grant_id': 'arc/LP0347670',\n",
       "  'title': 'Interplay of Microbiological Corrosion and Alloy Microstructure in Failures of Advanced Stainless Steels and their Weldments in Marine Environments.',\n",
       "  'taxonomy_level': 'base',\n",
       "  'input': '\\nWhich category does this grant belong to?\\n\\n**Title**: Interplay of Microbiological Corrosion and Alloy Microstructure in Failures of Advanced Stainless Steels and their Weldments in Marine Environments.\\n**Summary**: \\nInterplay of Microbiological Corrosion and Alloy Microstructure in Failures of Advanced Stainless Steels and their Weldments in Marine Environments. The proposed research program investigates the role of microbiologically-induced corrosion (MIC) on stress corrosion cracking (SCC) of weldments of advanced stainless steels (SS). Extensive premature SCC failures of SS weldments have lately become increasingly significant in Australian marine industry, following the inability of advanced SCC-resistant SS to alleviate failures.  Inconsistencies in SCC data call for an improved understanding of the role of MIC on SCC, particularly because recent failure analyses have indicated a profound role of microbiological activity on localised corrosion (viz., pitting) of stainless steels and their weldments, as well as because pitting is known to facilitate SCC initiation.\\n',\n",
       "  'selected_categories': ['Corrosion, Surface Functionalization and Coatings']},\n",
       " {'grant_id': 'arc/DP130101838',\n",
       "  'title': 'Turning homogeneous catalysts into heterogeneous catalysts: Robust linking of organometallic complexes onto inert carbon supports.',\n",
       "  'taxonomy_level': 'base',\n",
       "  'input': '\\nWhich category does this grant belong to?\\n\\n**Title**: Turning homogeneous catalysts into heterogeneous catalysts: Robust linking of organometallic complexes onto inert carbon supports.\\n**Summary**: \\nTurning homogeneous catalysts into heterogeneous catalysts: Robust linking of organometallic complexes onto inert carbon supports. Improvement in the sustainability of fine chemical synthesis is urgently required to meet the increasing demand for new pharmaceuticals. This project will develop new approaches to catalyst immobilisation, to enhance catalyst recovery, as well as to the characterisation of such catalysts for understanding structure and mechanism.\\n',\n",
       "  'selected_categories': ['Catalysis and Green Chemical Processes']},\n",
       " {'grant_id': 'arc/LP0775547',\n",
       "  'title': 'Australian Marine Biodiversity As A Source Of New Drugs To Control Neurodegenerative Disease.',\n",
       "  'taxonomy_level': 'base',\n",
       "  'input': \"\\nWhich category does this grant belong to?\\n\\n**Title**: Australian Marine Biodiversity As A Source Of New Drugs To Control Neurodegenerative Disease.\\n**Summary**: \\nAustralian Marine Biodiversity As A Source Of New Drugs To Control Neurodegenerative Disease. With the aging of Australia's population the impact of neurodegenerative diseases such as Alzheimer's and Parkinson's is rapidly on the rise. There is an urgent need to develop new and better drugs to treat the symptoms and underlying cause of these debilitating diseases. Historically, the majority of the world's pharmaceuticals have been drawn from biodiversity (ie plants, microbes and animals). As one of the few megabiodiverse nations, Australia is ideally positioned to accelerate and focus the search for drugs from nature. This project will explore an exceptionally promising pool of Australian biodiversity, its marine ecosystems, as a source of inspiration for the development of new drugs to treat neurodegenerative diseases. \\n\",\n",
       "  'selected_categories': ['Mental Health, Neurobiology and Ageing']},\n",
       " {'grant_id': 'arc/DP1097177',\n",
       "  'title': 'The economics of happiness, public policy, and national success indicators.',\n",
       "  'taxonomy_level': 'base',\n",
       "  'input': \"\\nWhich category does this grant belong to?\\n\\n**Title**: The economics of happiness, public policy, and national success indicators.\\n**Summary**: \\nThe economics of happiness, public policy, and national success indicators. The project will provide a sound analysis of happiness, taking account of traditional welfare economics and recent advances in happiness studies, including making the analysis more relevant for policy formulation, making happiness measures more comparable interpersonally, intertemporally, and interculturally. A new and more appropriate national success indicator will be devised that takes positive account of some appropriate measure of happiness (adjusted happy life-years) and negative account of some measure of per capita external costs. This will encourage people, organizations, and governments to focus on factors that have a more direct bearing on people's happiness.\\n\",\n",
       "  'selected_categories': ['Public Policy, Governance and Institutional Reform']},\n",
       " {'grant_id': 'arc/DP220100606',\n",
       "  'title': \"Australia's variable rainfall - how dry or wet can it really get?\",\n",
       "  'taxonomy_level': 'base',\n",
       "  'input': \"\\nWhich category does this grant belong to?\\n\\n**Title**: Australia's variable rainfall - how dry or wet can it really get?\\n**Summary**: \\nAustralia's variable rainfall - how dry or wet can it really get? Australia’s rainfall is extremely variable, which means existing weather records are too short to calculate the true risk posed by droughts and floods. This project aims to quantify how naturally variable the rainfall coming from the Indo-Pacific mid-latitudes is, allowing recent rainfall extremes and future projections to be assessed in a long-term context. This project expects to produce new estimates of atmospheric moisture budgets between Australia and Antarctica based on a novel, 1000-year length reconstruction of moisture-bearing southern Indian Ocean storms. This new information is critically needed by water managers so that they can properly calculate (and ultimately prepare for) the worst of Australia’s rainfall-related risks.\\n\",\n",
       "  'selected_categories': ['Climate Science, Forcing and Long-term Variability',\n",
       "   'Geochemical Fingerprinting and Isotope Techniques']},\n",
       " {'grant_id': 'arc/DE190100741',\n",
       "  'title': 'How genomics is shaping healthcare: an ethnographic study.',\n",
       "  'taxonomy_level': 'base',\n",
       "  'input': \"\\nWhich category does this grant belong to?\\n\\n**Title**: How genomics is shaping healthcare: an ethnographic study.\\n**Summary**: \\nHow genomics is shaping healthcare: an ethnographic study. This project aims to generate new understandings of how science and biomedicine are co-producing and shaping healthcare. This will be achieved by combining hospital and laboratory ethnography to examine how genomic data is produced, circulated and applied in clinical settings. The project aims to build a theoretical framework and conceptual understanding of genomic medicine that may be used by practitioners and may inform policy. This project should provide significant benefits such as minimising costs by helping identify and streamline decision-making processes, and by showing how public engagement practices shape patients' and practitioners' approaches to genomics.\\n\",\n",
       "  'selected_categories': ['Immunology, Infection and Host-Pathogen Interactions',\n",
       "   'Science, Technology and Society (STS) of Genomics and AI']},\n",
       " {'grant_id': 'arc/DP170104276',\n",
       "  'title': 'Understanding leaf water isotope composition.',\n",
       "  'taxonomy_level': 'base',\n",
       "  'input': '\\nWhich category does this grant belong to?\\n\\n**Title**: Understanding leaf water isotope composition.\\n**Summary**: \\nUnderstanding leaf water isotope composition. This project aims to quantify variation in leaf water isotopes and develop mechanistic models for paleoclimatologists and plant scientists to constrain global carbon cycles. Leaf water stable isotopes influence the isotope compositions of atmospheric oxygen, carbon dioxide and water vapour, and impart an evaporative signal on the isotope composition of plant organic material. These isotope signals have been used to constrain global carbon and water cycles and reconstruct past climates. This project aims to quantify variation in leaf water isotopes and develop mechanistic models for use by paleoclimatologists, plant scientists and to constrain global carbon cycles and develop accurate models of leaf water isotopes to reduce uncertainty in climate models.\\n',\n",
       "  'selected_categories': ['Toxicology, Exposome and Environmental Health',\n",
       "   'Climate Science, Forcing and Long-term Variability',\n",
       "   'Geochemical Fingerprinting and Isotope Techniques']},\n",
       " {'grant_id': 'arc/LP110100452',\n",
       "  'title': 'The Norfolk Island Carbon and Health Evaluation Program: a case study of personal carbon trading  for reducing obesity and greenhouse gas emissions.',\n",
       "  'taxonomy_level': 'base',\n",
       "  'input': '\\nWhich category does this grant belong to?\\n\\n**Title**: The Norfolk Island Carbon and Health Evaluation Program: a case study of personal carbon trading  for reducing obesity and greenhouse gas emissions.\\n**Summary**: \\nThe Norfolk Island Carbon and Health Evaluation Program: a case study of personal carbon trading  for reducing obesity and greenhouse gas emissions. This project tests a system of Personal Carbon Trading for reducing greenhouse gas emissions and improving health. Carbon credit cards given to everyone on Norfolk Island are designed to financially reward people for reducing energy use (fuel and fatty food mainly) by increasing walking/cycling and improving nutrition to improve health\\n',\n",
       "  'selected_categories': ['Food Systems, Nutrition and Functional Foods',\n",
       "   'Climate Adaptation, Resilience and Just Transitions',\n",
       "   'Behavioural Interventions for Health and Lifestyle']},\n",
       " {'grant_id': 'arc/DP180100821',\n",
       "  'title': \"Are super-complex words represented like sentences in speakers' minds?\",\n",
       "  'taxonomy_level': 'base',\n",
       "  'input': \"\\nWhich category does this grant belong to?\\n\\n**Title**: Are super-complex words represented like sentences in speakers' minds?\\n**Summary**: \\nAre super-complex words represented like sentences in speakers' minds? This project aims to examine speakers' knowledge of super-complex words in the remote Australian language Wubuy. The project will provide a crucial test of current theories of language processing and linguistic typology via experimental work on the Indigenous language Wubuy, a language that defies the perceived fundamental distinction between words and phrases. This will have significant benefit to Indigenous language maintenance and revitalisation efforts and thus help improve Indigenous education outcomes and reinforce cultural pride.\\n\",\n",
       "  'selected_categories': ['Microbiome, Gut Health and Intestinal Biology',\n",
       "   'Language Revitalisation and Multilingual Education',\n",
       "   'Indigenous Studies, Co-Governance and Cultural Heritage',\n",
       "   'Arts-Based Research, Performance and Community Memory']},\n",
       " {'grant_id': 'arc/DP0210999',\n",
       "  'title': 'Asynchronous Continuous Time Conditioning.',\n",
       "  'taxonomy_level': 'base',\n",
       "  'input': \"\\nWhich category does this grant belong to?\\n\\n**Title**: Asynchronous Continuous Time Conditioning.\\n**Summary**: \\nAsynchronous Continuous Time Conditioning. Methodology for reasoning about Asynchronous Temporal Conditional Events (ATCE) obtains, complete with logical calculus for causal relations, reasoning about continuous time belief change, and markov chain algorithms calculating joint distributions of ATCE's.\\r\\n   Current techniques, including bayesian nets, are oblivious to temporal aspects; within our model they can be enhanced to recognize dynamic time changes. Ours is the first such unified model and first to link conditional objects with continuous time constraints.\\r\\n   Need  for structures we propose arises in diagnostic reasoning, bayesian learning, temporal databases, and time-dependent data mining. Several commercial products (like Microsoft Office Assistant)could apply them forthwith.\\n\",\n",
       "  'selected_categories': ['Indigenous Cultural Practice, Land Management and Caring for Country',\n",
       "   'Community Wellbeing, Social Capital and Place-Based Planning',\n",
       "   'Data Utility, Privacy and Responsible Data Use',\n",
       "   'Organisational Behaviour, Management and Leadership',\n",
       "   'Respiratory Health, Air Quality and Indoor Environments',\n",
       "   'Human-Centred Design, User Experience and Accessibility',\n",
       "   'Workforce Learning, Lifelong Education and Skills Policy',\n",
       "   'Business Models for Sustainable Industry and Circularity',\n",
       "   'Community-Based Resource Management and Co-Management',\n",
       "   'Biosecurity, Quarantine and Preparedness Planning',\n",
       "   'Environmental Remediation, Chemical Treatment and Detoxification',\n",
       "   'Marine Spatial Planning and Coastal Governance',\n",
       "   'Sensing and Early Warning for Natural Hazards',\n",
       "   'Citizen Science, Community Monitoring and Co-Production',\n",
       "   'Human Rights, Social Justice and Inclusion Policy',\n",
       "   'Sustainable Aquaculture Nutrition and Feed Efficiency',\n",
       "   'Marine Pollution, Plastic Waste and Emerging Contaminants',\n",
       "   'Coastal and Marine Archaeology',\n",
       "   'Machine Learning, Explainability and Data Science']}]"
      ]
     },
     "execution_count": 56,
     "metadata": {},
     "output_type": "execute_result"
    }
   ],
   "source": [
    "classifcation"
   ]
  },
  {
   "cell_type": "code",
   "execution_count": 58,
   "id": "ecb113cf",
   "metadata": {},
   "outputs": [
    {
     "name": "stdout",
     "output_type": "stream",
     "text": [
      "Found 10 grant classifications\n",
      "Found 48 categories\n",
      "Total keywords: 478\n",
      "Total grants: 10\n",
      "Classified grants: 37\n",
      "Average keywords per category: 10.0\n",
      "\n",
      "Treemap contains 526 total elements:\n",
      "  - 48 Categories (Blue)\n",
      "  - 478 Keywords (Green)\n",
      "\n",
      "Classification summary:\n",
      "Classified grants: 37\n",
      "  Grant distribution by category:\n",
      "    - Climate Science, Forcing and Long-term Variability: 2 grants\n",
      "    - Geochemical Fingerprinting and Isotope Techniques: 2 grants\n",
      "    - Corrosion, Surface Functionalization and Coatings: 1 grants\n",
      "    - Catalysis and Green Chemical Processes: 1 grants\n",
      "    - Mental Health, Neurobiology and Ageing: 1 grants\n"
     ]
    },
    {
     "data": {
      "application/vnd.plotly.v1+json": {
       "config": {
        "plotlyServerURL": "https://plot.ly"
       },
       "data": [
        {
         "customdata": [
          [
           "Category",
           10,
           "category"
          ],
          [
           "Keyword",
           1,
           "keyword"
          ],
          [
           "Keyword",
           1,
           "keyword"
          ],
          [
           "Keyword",
           1,
           "keyword"
          ],
          [
           "Keyword",
           1,
           "keyword"
          ],
          [
           "Keyword",
           1,
           "keyword"
          ],
          [
           "Keyword",
           1,
           "keyword"
          ],
          [
           "Keyword",
           1,
           "keyword"
          ],
          [
           "Keyword",
           1,
           "keyword"
          ],
          [
           "Keyword",
           1,
           "keyword"
          ],
          [
           "Keyword",
           1,
           "keyword"
          ],
          [
           "Category",
           10,
           "category"
          ],
          [
           "Keyword",
           1,
           "keyword"
          ],
          [
           "Keyword",
           1,
           "keyword"
          ],
          [
           "Keyword",
           1,
           "keyword"
          ],
          [
           "Keyword",
           1,
           "keyword"
          ],
          [
           "Keyword",
           1,
           "keyword"
          ],
          [
           "Keyword",
           1,
           "keyword"
          ],
          [
           "Keyword",
           1,
           "keyword"
          ],
          [
           "Keyword",
           1,
           "keyword"
          ],
          [
           "Keyword",
           1,
           "keyword"
          ],
          [
           "Keyword",
           1,
           "keyword"
          ],
          [
           "Category",
           10,
           "category"
          ],
          [
           "Keyword",
           1,
           "keyword"
          ],
          [
           "Keyword",
           1,
           "keyword"
          ],
          [
           "Keyword",
           1,
           "keyword"
          ],
          [
           "Keyword",
           1,
           "keyword"
          ],
          [
           "Keyword",
           1,
           "keyword"
          ],
          [
           "Keyword",
           1,
           "keyword"
          ],
          [
           "Keyword",
           1,
           "keyword"
          ],
          [
           "Keyword",
           1,
           "keyword"
          ],
          [
           "Keyword",
           1,
           "keyword"
          ],
          [
           "Keyword",
           1,
           "keyword"
          ],
          [
           "Category",
           10,
           "category"
          ],
          [
           "Keyword",
           1,
           "keyword"
          ],
          [
           "Keyword",
           1,
           "keyword"
          ],
          [
           "Keyword",
           1,
           "keyword"
          ],
          [
           "Keyword",
           1,
           "keyword"
          ],
          [
           "Keyword",
           1,
           "keyword"
          ],
          [
           "Keyword",
           1,
           "keyword"
          ],
          [
           "Keyword",
           1,
           "keyword"
          ],
          [
           "Keyword",
           1,
           "keyword"
          ],
          [
           "Keyword",
           1,
           "keyword"
          ],
          [
           "Keyword",
           1,
           "keyword"
          ],
          [
           "Category",
           10,
           "category"
          ],
          [
           "Keyword",
           1,
           "keyword"
          ],
          [
           "Keyword",
           1,
           "keyword"
          ],
          [
           "Keyword",
           1,
           "keyword"
          ],
          [
           "Keyword",
           1,
           "keyword"
          ],
          [
           "Keyword",
           1,
           "keyword"
          ],
          [
           "Keyword",
           1,
           "keyword"
          ],
          [
           "Keyword",
           1,
           "keyword"
          ],
          [
           "Keyword",
           1,
           "keyword"
          ],
          [
           "Keyword",
           1,
           "keyword"
          ],
          [
           "Keyword",
           1,
           "keyword"
          ],
          [
           "Category",
           10,
           "category"
          ],
          [
           "Keyword",
           1,
           "keyword"
          ],
          [
           "Keyword",
           1,
           "keyword"
          ],
          [
           "Keyword",
           1,
           "keyword"
          ],
          [
           "Keyword",
           1,
           "keyword"
          ],
          [
           "Keyword",
           1,
           "keyword"
          ],
          [
           "Keyword",
           1,
           "keyword"
          ],
          [
           "Keyword",
           1,
           "keyword"
          ],
          [
           "Keyword",
           1,
           "keyword"
          ],
          [
           "Keyword",
           1,
           "keyword"
          ],
          [
           "Keyword",
           1,
           "keyword"
          ],
          [
           "Category",
           10,
           "category"
          ],
          [
           "Keyword",
           1,
           "keyword"
          ],
          [
           "Keyword",
           1,
           "keyword"
          ],
          [
           "Keyword",
           1,
           "keyword"
          ],
          [
           "Keyword",
           1,
           "keyword"
          ],
          [
           "Keyword",
           1,
           "keyword"
          ],
          [
           "Keyword",
           1,
           "keyword"
          ],
          [
           "Keyword",
           1,
           "keyword"
          ],
          [
           "Keyword",
           1,
           "keyword"
          ],
          [
           "Keyword",
           1,
           "keyword"
          ],
          [
           "Keyword",
           1,
           "keyword"
          ],
          [
           "Category",
           10,
           "category"
          ],
          [
           "Keyword",
           1,
           "keyword"
          ],
          [
           "Keyword",
           1,
           "keyword"
          ],
          [
           "Keyword",
           1,
           "keyword"
          ],
          [
           "Keyword",
           1,
           "keyword"
          ],
          [
           "Keyword",
           1,
           "keyword"
          ],
          [
           "Keyword",
           1,
           "keyword"
          ],
          [
           "Keyword",
           1,
           "keyword"
          ],
          [
           "Keyword",
           1,
           "keyword"
          ],
          [
           "Keyword",
           1,
           "keyword"
          ],
          [
           "Keyword",
           1,
           "keyword"
          ],
          [
           "Category",
           10,
           "category"
          ],
          [
           "Keyword",
           1,
           "keyword"
          ],
          [
           "Keyword",
           1,
           "keyword"
          ],
          [
           "Keyword",
           1,
           "keyword"
          ],
          [
           "Keyword",
           1,
           "keyword"
          ],
          [
           "Keyword",
           1,
           "keyword"
          ],
          [
           "Keyword",
           1,
           "keyword"
          ],
          [
           "Keyword",
           1,
           "keyword"
          ],
          [
           "Keyword",
           1,
           "keyword"
          ],
          [
           "Keyword",
           1,
           "keyword"
          ],
          [
           "Keyword",
           1,
           "keyword"
          ],
          [
           "Category",
           9,
           "category"
          ],
          [
           "Keyword",
           1,
           "keyword"
          ],
          [
           "Keyword",
           1,
           "keyword"
          ],
          [
           "Keyword",
           1,
           "keyword"
          ],
          [
           "Keyword",
           1,
           "keyword"
          ],
          [
           "Keyword",
           1,
           "keyword"
          ],
          [
           "Keyword",
           1,
           "keyword"
          ],
          [
           "Keyword",
           1,
           "keyword"
          ],
          [
           "Keyword",
           1,
           "keyword"
          ],
          [
           "Keyword",
           1,
           "keyword"
          ],
          [
           "Category",
           10,
           "category"
          ],
          [
           "Keyword",
           1,
           "keyword"
          ],
          [
           "Keyword",
           1,
           "keyword"
          ],
          [
           "Keyword",
           1,
           "keyword"
          ],
          [
           "Keyword",
           1,
           "keyword"
          ],
          [
           "Keyword",
           1,
           "keyword"
          ],
          [
           "Keyword",
           1,
           "keyword"
          ],
          [
           "Keyword",
           1,
           "keyword"
          ],
          [
           "Keyword",
           1,
           "keyword"
          ],
          [
           "Keyword",
           1,
           "keyword"
          ],
          [
           "Keyword",
           1,
           "keyword"
          ],
          [
           "Category",
           10,
           "category"
          ],
          [
           "Keyword",
           1,
           "keyword"
          ],
          [
           "Keyword",
           1,
           "keyword"
          ],
          [
           "Keyword",
           1,
           "keyword"
          ],
          [
           "Keyword",
           1,
           "keyword"
          ],
          [
           "Keyword",
           1,
           "keyword"
          ],
          [
           "Keyword",
           1,
           "keyword"
          ],
          [
           "Keyword",
           1,
           "keyword"
          ],
          [
           "Keyword",
           1,
           "keyword"
          ],
          [
           "Keyword",
           1,
           "keyword"
          ],
          [
           "Keyword",
           1,
           "keyword"
          ],
          [
           "Category",
           10,
           "category"
          ],
          [
           "Keyword",
           1,
           "keyword"
          ],
          [
           "Keyword",
           1,
           "keyword"
          ],
          [
           "Keyword",
           1,
           "keyword"
          ],
          [
           "Keyword",
           1,
           "keyword"
          ],
          [
           "Keyword",
           1,
           "keyword"
          ],
          [
           "Keyword",
           1,
           "keyword"
          ],
          [
           "Keyword",
           1,
           "keyword"
          ],
          [
           "Keyword",
           1,
           "keyword"
          ],
          [
           "Keyword",
           1,
           "keyword"
          ],
          [
           "Keyword",
           1,
           "keyword"
          ],
          [
           "Category",
           10,
           "category"
          ],
          [
           "Keyword",
           1,
           "keyword"
          ],
          [
           "Keyword",
           1,
           "keyword"
          ],
          [
           "Keyword",
           1,
           "keyword"
          ],
          [
           "Keyword",
           1,
           "keyword"
          ],
          [
           "Keyword",
           1,
           "keyword"
          ],
          [
           "Keyword",
           1,
           "keyword"
          ],
          [
           "Keyword",
           1,
           "keyword"
          ],
          [
           "Keyword",
           1,
           "keyword"
          ],
          [
           "Keyword",
           1,
           "keyword"
          ],
          [
           "Keyword",
           1,
           "keyword"
          ],
          [
           "Category",
           10,
           "category"
          ],
          [
           "Keyword",
           1,
           "keyword"
          ],
          [
           "Keyword",
           1,
           "keyword"
          ],
          [
           "Keyword",
           1,
           "keyword"
          ],
          [
           "Keyword",
           1,
           "keyword"
          ],
          [
           "Keyword",
           1,
           "keyword"
          ],
          [
           "Keyword",
           1,
           "keyword"
          ],
          [
           "Keyword",
           1,
           "keyword"
          ],
          [
           "Keyword",
           1,
           "keyword"
          ],
          [
           "Keyword",
           1,
           "keyword"
          ],
          [
           "Keyword",
           1,
           "keyword"
          ],
          [
           "Category",
           10,
           "category"
          ],
          [
           "Keyword",
           1,
           "keyword"
          ],
          [
           "Keyword",
           1,
           "keyword"
          ],
          [
           "Keyword",
           1,
           "keyword"
          ],
          [
           "Keyword",
           1,
           "keyword"
          ],
          [
           "Keyword",
           1,
           "keyword"
          ],
          [
           "Keyword",
           1,
           "keyword"
          ],
          [
           "Keyword",
           1,
           "keyword"
          ],
          [
           "Keyword",
           1,
           "keyword"
          ],
          [
           "Keyword",
           1,
           "keyword"
          ],
          [
           "Keyword",
           1,
           "keyword"
          ],
          [
           "Category",
           10,
           "category"
          ],
          [
           "Keyword",
           1,
           "keyword"
          ],
          [
           "Keyword",
           1,
           "keyword"
          ],
          [
           "Keyword",
           1,
           "keyword"
          ],
          [
           "Keyword",
           1,
           "keyword"
          ],
          [
           "Keyword",
           1,
           "keyword"
          ],
          [
           "Keyword",
           1,
           "keyword"
          ],
          [
           "Keyword",
           1,
           "keyword"
          ],
          [
           "Keyword",
           1,
           "keyword"
          ],
          [
           "Keyword",
           1,
           "keyword"
          ],
          [
           "Keyword",
           1,
           "keyword"
          ],
          [
           "Category",
           10,
           "category"
          ],
          [
           "Keyword",
           1,
           "keyword"
          ],
          [
           "Keyword",
           1,
           "keyword"
          ],
          [
           "Keyword",
           1,
           "keyword"
          ],
          [
           "Keyword",
           1,
           "keyword"
          ],
          [
           "Keyword",
           1,
           "keyword"
          ],
          [
           "Keyword",
           1,
           "keyword"
          ],
          [
           "Keyword",
           1,
           "keyword"
          ],
          [
           "Keyword",
           1,
           "keyword"
          ],
          [
           "Keyword",
           1,
           "keyword"
          ],
          [
           "Keyword",
           1,
           "keyword"
          ],
          [
           "Category",
           10,
           "category"
          ],
          [
           "Keyword",
           1,
           "keyword"
          ],
          [
           "Keyword",
           1,
           "keyword"
          ],
          [
           "Keyword",
           1,
           "keyword"
          ],
          [
           "Keyword",
           1,
           "keyword"
          ],
          [
           "Keyword",
           1,
           "keyword"
          ],
          [
           "Keyword",
           1,
           "keyword"
          ],
          [
           "Keyword",
           1,
           "keyword"
          ],
          [
           "Keyword",
           1,
           "keyword"
          ],
          [
           "Keyword",
           1,
           "keyword"
          ],
          [
           "Keyword",
           1,
           "keyword"
          ],
          [
           "Category",
           10,
           "category"
          ],
          [
           "Keyword",
           1,
           "keyword"
          ],
          [
           "Keyword",
           1,
           "keyword"
          ],
          [
           "Keyword",
           1,
           "keyword"
          ],
          [
           "Keyword",
           1,
           "keyword"
          ],
          [
           "Keyword",
           1,
           "keyword"
          ],
          [
           "Keyword",
           1,
           "keyword"
          ],
          [
           "Keyword",
           1,
           "keyword"
          ],
          [
           "Keyword",
           1,
           "keyword"
          ],
          [
           "Keyword",
           1,
           "keyword"
          ],
          [
           "Keyword",
           1,
           "keyword"
          ],
          [
           "Category",
           10,
           "category"
          ],
          [
           "Keyword",
           1,
           "keyword"
          ],
          [
           "Keyword",
           1,
           "keyword"
          ],
          [
           "Keyword",
           1,
           "keyword"
          ],
          [
           "Keyword",
           1,
           "keyword"
          ],
          [
           "Keyword",
           1,
           "keyword"
          ],
          [
           "Keyword",
           1,
           "keyword"
          ],
          [
           "Keyword",
           1,
           "keyword"
          ],
          [
           "Keyword",
           1,
           "keyword"
          ],
          [
           "Keyword",
           1,
           "keyword"
          ],
          [
           "Keyword",
           1,
           "keyword"
          ],
          [
           "Category",
           10,
           "category"
          ],
          [
           "Keyword",
           1,
           "keyword"
          ],
          [
           "Keyword",
           1,
           "keyword"
          ],
          [
           "Keyword",
           1,
           "keyword"
          ],
          [
           "Keyword",
           1,
           "keyword"
          ],
          [
           "Keyword",
           1,
           "keyword"
          ],
          [
           "Keyword",
           1,
           "keyword"
          ],
          [
           "Keyword",
           1,
           "keyword"
          ],
          [
           "Keyword",
           1,
           "keyword"
          ],
          [
           "Keyword",
           1,
           "keyword"
          ],
          [
           "Keyword",
           1,
           "keyword"
          ],
          [
           "Category",
           10,
           "category"
          ],
          [
           "Keyword",
           1,
           "keyword"
          ],
          [
           "Keyword",
           1,
           "keyword"
          ],
          [
           "Keyword",
           1,
           "keyword"
          ],
          [
           "Keyword",
           1,
           "keyword"
          ],
          [
           "Keyword",
           1,
           "keyword"
          ],
          [
           "Keyword",
           1,
           "keyword"
          ],
          [
           "Keyword",
           1,
           "keyword"
          ],
          [
           "Keyword",
           1,
           "keyword"
          ],
          [
           "Keyword",
           1,
           "keyword"
          ],
          [
           "Keyword",
           1,
           "keyword"
          ],
          [
           "Category",
           10,
           "category"
          ],
          [
           "Keyword",
           1,
           "keyword"
          ],
          [
           "Keyword",
           1,
           "keyword"
          ],
          [
           "Keyword",
           1,
           "keyword"
          ],
          [
           "Keyword",
           1,
           "keyword"
          ],
          [
           "Keyword",
           1,
           "keyword"
          ],
          [
           "Keyword",
           1,
           "keyword"
          ],
          [
           "Keyword",
           1,
           "keyword"
          ],
          [
           "Keyword",
           1,
           "keyword"
          ],
          [
           "Keyword",
           1,
           "keyword"
          ],
          [
           "Keyword",
           1,
           "keyword"
          ],
          [
           "Category",
           10,
           "category"
          ],
          [
           "Keyword",
           1,
           "keyword"
          ],
          [
           "Keyword",
           1,
           "keyword"
          ],
          [
           "Keyword",
           1,
           "keyword"
          ],
          [
           "Keyword",
           1,
           "keyword"
          ],
          [
           "Keyword",
           1,
           "keyword"
          ],
          [
           "Keyword",
           1,
           "keyword"
          ],
          [
           "Keyword",
           1,
           "keyword"
          ],
          [
           "Keyword",
           1,
           "keyword"
          ],
          [
           "Keyword",
           1,
           "keyword"
          ],
          [
           "Keyword",
           1,
           "keyword"
          ],
          [
           "Category",
           10,
           "category"
          ],
          [
           "Keyword",
           1,
           "keyword"
          ],
          [
           "Keyword",
           1,
           "keyword"
          ],
          [
           "Keyword",
           1,
           "keyword"
          ],
          [
           "Keyword",
           1,
           "keyword"
          ],
          [
           "Keyword",
           1,
           "keyword"
          ],
          [
           "Keyword",
           1,
           "keyword"
          ],
          [
           "Keyword",
           1,
           "keyword"
          ],
          [
           "Keyword",
           1,
           "keyword"
          ],
          [
           "Keyword",
           1,
           "keyword"
          ],
          [
           "Keyword",
           1,
           "keyword"
          ],
          [
           "Category",
           10,
           "category"
          ],
          [
           "Keyword",
           1,
           "keyword"
          ],
          [
           "Keyword",
           1,
           "keyword"
          ],
          [
           "Keyword",
           1,
           "keyword"
          ],
          [
           "Keyword",
           1,
           "keyword"
          ],
          [
           "Keyword",
           1,
           "keyword"
          ],
          [
           "Keyword",
           1,
           "keyword"
          ],
          [
           "Keyword",
           1,
           "keyword"
          ],
          [
           "Keyword",
           1,
           "keyword"
          ],
          [
           "Keyword",
           1,
           "keyword"
          ],
          [
           "Keyword",
           1,
           "keyword"
          ],
          [
           "Category",
           10,
           "category"
          ],
          [
           "Keyword",
           1,
           "keyword"
          ],
          [
           "Keyword",
           1,
           "keyword"
          ],
          [
           "Keyword",
           1,
           "keyword"
          ],
          [
           "Keyword",
           1,
           "keyword"
          ],
          [
           "Keyword",
           1,
           "keyword"
          ],
          [
           "Keyword",
           1,
           "keyword"
          ],
          [
           "Keyword",
           1,
           "keyword"
          ],
          [
           "Keyword",
           1,
           "keyword"
          ],
          [
           "Keyword",
           1,
           "keyword"
          ],
          [
           "Keyword",
           1,
           "keyword"
          ],
          [
           "Category",
           9,
           "category"
          ],
          [
           "Keyword",
           1,
           "keyword"
          ],
          [
           "Keyword",
           1,
           "keyword"
          ],
          [
           "Keyword",
           1,
           "keyword"
          ],
          [
           "Keyword",
           1,
           "keyword"
          ],
          [
           "Keyword",
           1,
           "keyword"
          ],
          [
           "Keyword",
           1,
           "keyword"
          ],
          [
           "Keyword",
           1,
           "keyword"
          ],
          [
           "Keyword",
           1,
           "keyword"
          ],
          [
           "Keyword",
           1,
           "keyword"
          ],
          [
           "Category",
           10,
           "category"
          ],
          [
           "Keyword",
           1,
           "keyword"
          ],
          [
           "Keyword",
           1,
           "keyword"
          ],
          [
           "Keyword",
           1,
           "keyword"
          ],
          [
           "Keyword",
           1,
           "keyword"
          ],
          [
           "Keyword",
           1,
           "keyword"
          ],
          [
           "Keyword",
           1,
           "keyword"
          ],
          [
           "Keyword",
           1,
           "keyword"
          ],
          [
           "Keyword",
           1,
           "keyword"
          ],
          [
           "Keyword",
           1,
           "keyword"
          ],
          [
           "Keyword",
           1,
           "keyword"
          ],
          [
           "Category",
           10,
           "category"
          ],
          [
           "Keyword",
           1,
           "keyword"
          ],
          [
           "Keyword",
           1,
           "keyword"
          ],
          [
           "Keyword",
           1,
           "keyword"
          ],
          [
           "Keyword",
           1,
           "keyword"
          ],
          [
           "Keyword",
           1,
           "keyword"
          ],
          [
           "Keyword",
           1,
           "keyword"
          ],
          [
           "Keyword",
           1,
           "keyword"
          ],
          [
           "Keyword",
           1,
           "keyword"
          ],
          [
           "Keyword",
           1,
           "keyword"
          ],
          [
           "Keyword",
           1,
           "keyword"
          ],
          [
           "Category",
           10,
           "category"
          ],
          [
           "Keyword",
           1,
           "keyword"
          ],
          [
           "Keyword",
           1,
           "keyword"
          ],
          [
           "Keyword",
           1,
           "keyword"
          ],
          [
           "Keyword",
           1,
           "keyword"
          ],
          [
           "Keyword",
           1,
           "keyword"
          ],
          [
           "Keyword",
           1,
           "keyword"
          ],
          [
           "Keyword",
           1,
           "keyword"
          ],
          [
           "Keyword",
           1,
           "keyword"
          ],
          [
           "Keyword",
           1,
           "keyword"
          ],
          [
           "Keyword",
           1,
           "keyword"
          ],
          [
           "Category",
           10,
           "category"
          ],
          [
           "Keyword",
           1,
           "keyword"
          ],
          [
           "Keyword",
           1,
           "keyword"
          ],
          [
           "Keyword",
           1,
           "keyword"
          ],
          [
           "Keyword",
           1,
           "keyword"
          ],
          [
           "Keyword",
           1,
           "keyword"
          ],
          [
           "Keyword",
           1,
           "keyword"
          ],
          [
           "Keyword",
           1,
           "keyword"
          ],
          [
           "Keyword",
           1,
           "keyword"
          ],
          [
           "Keyword",
           1,
           "keyword"
          ],
          [
           "Keyword",
           1,
           "keyword"
          ],
          [
           "Category",
           10,
           "category"
          ],
          [
           "Keyword",
           1,
           "keyword"
          ],
          [
           "Keyword",
           1,
           "keyword"
          ],
          [
           "Keyword",
           1,
           "keyword"
          ],
          [
           "Keyword",
           1,
           "keyword"
          ],
          [
           "Keyword",
           1,
           "keyword"
          ],
          [
           "Keyword",
           1,
           "keyword"
          ],
          [
           "Keyword",
           1,
           "keyword"
          ],
          [
           "Keyword",
           1,
           "keyword"
          ],
          [
           "Keyword",
           1,
           "keyword"
          ],
          [
           "Keyword",
           1,
           "keyword"
          ],
          [
           "Category",
           10,
           "category"
          ],
          [
           "Keyword",
           1,
           "keyword"
          ],
          [
           "Keyword",
           1,
           "keyword"
          ],
          [
           "Keyword",
           1,
           "keyword"
          ],
          [
           "Keyword",
           1,
           "keyword"
          ],
          [
           "Keyword",
           1,
           "keyword"
          ],
          [
           "Keyword",
           1,
           "keyword"
          ],
          [
           "Keyword",
           1,
           "keyword"
          ],
          [
           "Keyword",
           1,
           "keyword"
          ],
          [
           "Keyword",
           1,
           "keyword"
          ],
          [
           "Keyword",
           1,
           "keyword"
          ],
          [
           "Category",
           10,
           "category"
          ],
          [
           "Keyword",
           1,
           "keyword"
          ],
          [
           "Keyword",
           1,
           "keyword"
          ],
          [
           "Keyword",
           1,
           "keyword"
          ],
          [
           "Keyword",
           1,
           "keyword"
          ],
          [
           "Keyword",
           1,
           "keyword"
          ],
          [
           "Keyword",
           1,
           "keyword"
          ],
          [
           "Keyword",
           1,
           "keyword"
          ],
          [
           "Keyword",
           1,
           "keyword"
          ],
          [
           "Keyword",
           1,
           "keyword"
          ],
          [
           "Keyword",
           1,
           "keyword"
          ],
          [
           "Category",
           10,
           "category"
          ],
          [
           "Keyword",
           1,
           "keyword"
          ],
          [
           "Keyword",
           1,
           "keyword"
          ],
          [
           "Keyword",
           1,
           "keyword"
          ],
          [
           "Keyword",
           1,
           "keyword"
          ],
          [
           "Keyword",
           1,
           "keyword"
          ],
          [
           "Keyword",
           1,
           "keyword"
          ],
          [
           "Keyword",
           1,
           "keyword"
          ],
          [
           "Keyword",
           1,
           "keyword"
          ],
          [
           "Keyword",
           1,
           "keyword"
          ],
          [
           "Keyword",
           1,
           "keyword"
          ],
          [
           "Category",
           10,
           "category"
          ],
          [
           "Keyword",
           1,
           "keyword"
          ],
          [
           "Keyword",
           1,
           "keyword"
          ],
          [
           "Keyword",
           1,
           "keyword"
          ],
          [
           "Keyword",
           1,
           "keyword"
          ],
          [
           "Keyword",
           1,
           "keyword"
          ],
          [
           "Keyword",
           1,
           "keyword"
          ],
          [
           "Keyword",
           1,
           "keyword"
          ],
          [
           "Keyword",
           1,
           "keyword"
          ],
          [
           "Keyword",
           1,
           "keyword"
          ],
          [
           "Keyword",
           1,
           "keyword"
          ],
          [
           "Category",
           10,
           "category"
          ],
          [
           "Keyword",
           1,
           "keyword"
          ],
          [
           "Keyword",
           1,
           "keyword"
          ],
          [
           "Keyword",
           1,
           "keyword"
          ],
          [
           "Keyword",
           1,
           "keyword"
          ],
          [
           "Keyword",
           1,
           "keyword"
          ],
          [
           "Keyword",
           1,
           "keyword"
          ],
          [
           "Keyword",
           1,
           "keyword"
          ],
          [
           "Keyword",
           1,
           "keyword"
          ],
          [
           "Keyword",
           1,
           "keyword"
          ],
          [
           "Keyword",
           1,
           "keyword"
          ],
          [
           "Category",
           10,
           "category"
          ],
          [
           "Keyword",
           1,
           "keyword"
          ],
          [
           "Keyword",
           1,
           "keyword"
          ],
          [
           "Keyword",
           1,
           "keyword"
          ],
          [
           "Keyword",
           1,
           "keyword"
          ],
          [
           "Keyword",
           1,
           "keyword"
          ],
          [
           "Keyword",
           1,
           "keyword"
          ],
          [
           "Keyword",
           1,
           "keyword"
          ],
          [
           "Keyword",
           1,
           "keyword"
          ],
          [
           "Keyword",
           1,
           "keyword"
          ],
          [
           "Keyword",
           1,
           "keyword"
          ],
          [
           "Category",
           10,
           "category"
          ],
          [
           "Keyword",
           1,
           "keyword"
          ],
          [
           "Keyword",
           1,
           "keyword"
          ],
          [
           "Keyword",
           1,
           "keyword"
          ],
          [
           "Keyword",
           1,
           "keyword"
          ],
          [
           "Keyword",
           1,
           "keyword"
          ],
          [
           "Keyword",
           1,
           "keyword"
          ],
          [
           "Keyword",
           1,
           "keyword"
          ],
          [
           "Keyword",
           1,
           "keyword"
          ],
          [
           "Keyword",
           1,
           "keyword"
          ],
          [
           "Keyword",
           1,
           "keyword"
          ],
          [
           "Category",
           10,
           "category"
          ],
          [
           "Keyword",
           1,
           "keyword"
          ],
          [
           "Keyword",
           1,
           "keyword"
          ],
          [
           "Keyword",
           1,
           "keyword"
          ],
          [
           "Keyword",
           1,
           "keyword"
          ],
          [
           "Keyword",
           1,
           "keyword"
          ],
          [
           "Keyword",
           1,
           "keyword"
          ],
          [
           "Keyword",
           1,
           "keyword"
          ],
          [
           "Keyword",
           1,
           "keyword"
          ],
          [
           "Keyword",
           1,
           "keyword"
          ],
          [
           "Keyword",
           1,
           "keyword"
          ],
          [
           "Category",
           10,
           "category"
          ],
          [
           "Keyword",
           1,
           "keyword"
          ],
          [
           "Keyword",
           1,
           "keyword"
          ],
          [
           "Keyword",
           1,
           "keyword"
          ],
          [
           "Keyword",
           1,
           "keyword"
          ],
          [
           "Keyword",
           1,
           "keyword"
          ],
          [
           "Keyword",
           1,
           "keyword"
          ],
          [
           "Keyword",
           1,
           "keyword"
          ],
          [
           "Keyword",
           1,
           "keyword"
          ],
          [
           "Keyword",
           1,
           "keyword"
          ],
          [
           "Keyword",
           1,
           "keyword"
          ],
          [
           "Category",
           10,
           "category"
          ],
          [
           "Keyword",
           1,
           "keyword"
          ],
          [
           "Keyword",
           1,
           "keyword"
          ],
          [
           "Keyword",
           1,
           "keyword"
          ],
          [
           "Keyword",
           1,
           "keyword"
          ],
          [
           "Keyword",
           1,
           "keyword"
          ],
          [
           "Keyword",
           1,
           "keyword"
          ],
          [
           "Keyword",
           1,
           "keyword"
          ],
          [
           "Keyword",
           1,
           "keyword"
          ],
          [
           "Keyword",
           1,
           "keyword"
          ],
          [
           "Keyword",
           1,
           "keyword"
          ],
          [
           "Category",
           10,
           "category"
          ],
          [
           "Keyword",
           1,
           "keyword"
          ],
          [
           "Keyword",
           1,
           "keyword"
          ],
          [
           "Keyword",
           1,
           "keyword"
          ],
          [
           "Keyword",
           1,
           "keyword"
          ],
          [
           "Keyword",
           1,
           "keyword"
          ],
          [
           "Keyword",
           1,
           "keyword"
          ],
          [
           "Keyword",
           1,
           "keyword"
          ],
          [
           "Keyword",
           1,
           "keyword"
          ],
          [
           "Keyword",
           1,
           "keyword"
          ],
          [
           "Keyword",
           1,
           "keyword"
          ],
          [
           "Category",
           10,
           "category"
          ],
          [
           "Keyword",
           1,
           "keyword"
          ],
          [
           "Keyword",
           1,
           "keyword"
          ],
          [
           "Keyword",
           1,
           "keyword"
          ],
          [
           "Keyword",
           1,
           "keyword"
          ],
          [
           "Keyword",
           1,
           "keyword"
          ],
          [
           "Keyword",
           1,
           "keyword"
          ],
          [
           "Keyword",
           1,
           "keyword"
          ],
          [
           "Keyword",
           1,
           "keyword"
          ],
          [
           "Keyword",
           1,
           "keyword"
          ],
          [
           "Keyword",
           1,
           "keyword"
          ],
          [
           "Category",
           10,
           "category"
          ],
          [
           "Keyword",
           1,
           "keyword"
          ],
          [
           "Keyword",
           1,
           "keyword"
          ],
          [
           "Keyword",
           1,
           "keyword"
          ],
          [
           "Keyword",
           1,
           "keyword"
          ],
          [
           "Keyword",
           1,
           "keyword"
          ],
          [
           "Keyword",
           1,
           "keyword"
          ],
          [
           "Keyword",
           1,
           "keyword"
          ],
          [
           "Keyword",
           1,
           "keyword"
          ],
          [
           "Keyword",
           1,
           "keyword"
          ],
          [
           "Keyword",
           1,
           "keyword"
          ],
          [
           "Category",
           10,
           "category"
          ],
          [
           "Keyword",
           1,
           "keyword"
          ],
          [
           "Keyword",
           1,
           "keyword"
          ],
          [
           "Keyword",
           1,
           "keyword"
          ],
          [
           "Keyword",
           1,
           "keyword"
          ],
          [
           "Keyword",
           1,
           "keyword"
          ],
          [
           "Keyword",
           1,
           "keyword"
          ],
          [
           "Keyword",
           1,
           "keyword"
          ],
          [
           "Keyword",
           1,
           "keyword"
          ],
          [
           "Keyword",
           1,
           "keyword"
          ],
          [
           "Keyword",
           1,
           "keyword"
          ]
         ],
         "domain": {
          "x": [
           0,
           1
          ],
          "y": [
           0,
           1
          ]
         },
         "hovertemplate": "name=%{label}<br>value=%{customdata[1]}<br>parent=%{parent}<br>id=%{id}<br>level=%{customdata[0]}<br>item_type=%{customdata[2]}<extra></extra>",
         "ids": [
          "Smart Building Envelopes and Energy-Efficient Design",
          "Smart Building Envelopes and Energy-Efficient Design >> KW: smart glazing",
          "Smart Building Envelopes and Energy-Efficient Design >> KW: smart building envelopes",
          "Smart Building Envelopes and Energy-Efficient Design >> KW: lighting optimization",
          "Smart Building Envelopes and Energy-Efficient Design >> KW: energy-efficient curing",
          "Smart Building Envelopes and Energy-Efficient Design >> KW: sustainable high-rise buildings",
          "Smart Building Envelopes and Energy-Efficient Design >> KW: smart buildings",
          "Smart Building Envelopes and Energy-Efficient Design >> KW: thermal stability in polymers",
          "Smart Building Envelopes and Energy-Efficient Design >> KW: energy efficiency",
          "Smart Building Envelopes and Energy-Efficient Design >> KW: urban resilience",
          "Smart Building Envelopes and Energy-Efficient Design >> KW: climate-responsive materials",
          "Materials Design Theory and Advanced Nanomaterials",
          "Materials Design Theory and Advanced Nanomaterials >> KW: materials design theory",
          "Materials Design Theory and Advanced Nanomaterials >> KW: bio-inspired nanoparticles",
          "Materials Design Theory and Advanced Nanomaterials >> KW: environmentally benign nanomaterials",
          "Materials Design Theory and Advanced Nanomaterials >> KW: nanoionic materials",
          "Materials Design Theory and Advanced Nanomaterials >> KW: nanobionic sensors",
          "Materials Design Theory and Advanced Nanomaterials >> KW: nanoparticles",
          "Materials Design Theory and Advanced Nanomaterials >> KW: nanomaterials",
          "Materials Design Theory and Advanced Nanomaterials >> KW: nanostructured Josephson junction arrays",
          "Materials Design Theory and Advanced Nanomaterials >> KW: nanoscale assembly",
          "Materials Design Theory and Advanced Nanomaterials >> KW: thin-film lithium niobate",
          "Biomedical and Clinical Applications of Nanotechnology",
          "Biomedical and Clinical Applications of Nanotechnology >> KW: targeted drug delivery",
          "Biomedical and Clinical Applications of Nanotechnology >> KW: stem cell fate",
          "Biomedical and Clinical Applications of Nanotechnology >> KW: immune cell behaviour",
          "Biomedical and Clinical Applications of Nanotechnology >> KW: nanoparticle delivery",
          "Biomedical and Clinical Applications of Nanotechnology >> KW: cell membrane dynamics",
          "Biomedical and Clinical Applications of Nanotechnology >> KW: cellular protein dynamics",
          "Biomedical and Clinical Applications of Nanotechnology >> KW: cellular sensing",
          "Biomedical and Clinical Applications of Nanotechnology >> KW: tissue engineering",
          "Biomedical and Clinical Applications of Nanotechnology >> KW: personalised medical technologies",
          "Biomedical and Clinical Applications of Nanotechnology >> KW: biomimetic nanotechnology",
          "Environmental Monitoring and Remediation Technologies",
          "Environmental Monitoring and Remediation Technologies >> KW: real-time water monitoring",
          "Environmental Monitoring and Remediation Technologies >> KW: environmental data",
          "Environmental Monitoring and Remediation Technologies >> KW: environmental remediation",
          "Environmental Monitoring and Remediation Technologies >> KW: microplastic detection",
          "Environmental Monitoring and Remediation Technologies >> KW: soil remediation",
          "Environmental Monitoring and Remediation Technologies >> KW: pollutant impact",
          "Environmental Monitoring and Remediation Technologies >> KW: waste-to-resource",
          "Environmental Monitoring and Remediation Technologies >> KW: environmental health monitoring",
          "Environmental Monitoring and Remediation Technologies >> KW: biofilm remediation",
          "Environmental Monitoring and Remediation Technologies >> KW: water quality monitoring",
          "Advanced Chemical and Catalytic Processes",
          "Advanced Chemical and Catalytic Processes >> KW: catalytic reduction",
          "Advanced Chemical and Catalytic Processes >> KW: hydrogen production",
          "Advanced Chemical and Catalytic Processes >> KW: catalytic reactors",
          "Advanced Chemical and Catalytic Processes >> KW: non-precious metal catalysts",
          "Advanced Chemical and Catalytic Processes >> KW: catalytic conversion",
          "Advanced Chemical and Catalytic Processes >> KW: catalytic destruction",
          "Advanced Chemical and Catalytic Processes >> KW: catalytic reactions",
          "Advanced Chemical and Catalytic Processes >> KW: catalytic efficiency",
          "Advanced Chemical and Catalytic Processes >> KW: hydrogen evolution electrocatalysis",
          "Advanced Chemical and Catalytic Processes >> KW: catalytic degradation",
          "Agricultural and Food Systems Innovation",
          "Agricultural and Food Systems Innovation >> KW: seedstock quality",
          "Agricultural and Food Systems Innovation >> KW: precision agriculture",
          "Agricultural and Food Systems Innovation >> KW: plant-microbial interactions",
          "Agricultural and Food Systems Innovation >> KW: sustainable seafood",
          "Agricultural and Food Systems Innovation >> KW: nutrient uptake",
          "Agricultural and Food Systems Innovation >> KW: plant physiology",
          "Agricultural and Food Systems Innovation >> KW: aquaculture sector",
          "Agricultural and Food Systems Innovation >> KW: agricultural workforce",
          "Agricultural and Food Systems Innovation >> KW: food security",
          "Agricultural and Food Systems Innovation >> KW: crop productivity",
          "Digital and Computational Modelling in Environmental Systems",
          "Digital and Computational Modelling in Environmental Systems >> KW: scenario tree modelling",
          "Digital and Computational Modelling in Environmental Systems >> KW: hydrodynamic force coefficients",
          "Digital and Computational Modelling in Environmental Systems >> KW: ecosystem modelling",
          "Digital and Computational Modelling in Environmental Systems >> KW: climate change projections",
          "Digital and Computational Modelling in Environmental Systems >> KW: ecosystem resilience",
          "Digital and Computational Modelling in Environmental Systems >> KW: spatial and temporal variability",
          "Digital and Computational Modelling in Environmental Systems >> KW: predictive modelling",
          "Digital and Computational Modelling in Environmental Systems >> KW: computational modelling",
          "Digital and Computational Modelling in Environmental Systems >> KW: model-based deep learning",
          "Digital and Computational Modelling in Environmental Systems >> KW: dynamic networks",
          "Biological and Ecological Systems Dynamics",
          "Biological and Ecological Systems Dynamics >> KW: species risk evaluation",
          "Biological and Ecological Systems Dynamics >> KW: species decline",
          "Biological and Ecological Systems Dynamics >> KW: biodiversity",
          "Biological and Ecological Systems Dynamics >> KW: invasive species",
          "Biological and Ecological Systems Dynamics >> KW: species sensitivity",
          "Biological and Ecological Systems Dynamics >> KW: population dynamics",
          "Biological and Ecological Systems Dynamics >> KW: ecosystem stability",
          "Biological and Ecological Systems Dynamics >> KW: trophic relationships",
          "Biological and Ecological Systems Dynamics >> KW: ecosystem services",
          "Biological and Ecological Systems Dynamics >> KW: wildlife disease outbreaks",
          "Human Health and Wellbeing in Complex Environments",
          "Human Health and Wellbeing in Complex Environments >> KW: sleep and health",
          "Human Health and Wellbeing in Complex Environments >> KW: mental illness prevention",
          "Human Health and Wellbeing in Complex Environments >> KW: chronic illness prevention",
          "Human Health and Wellbeing in Complex Environments >> KW: health equity",
          "Human Health and Wellbeing in Complex Environments >> KW: mental health in children",
          "Human Health and Wellbeing in Complex Environments >> KW: health-related outcomes",
          "Human Health and Wellbeing in Complex Environments >> KW: wellbeing practices",
          "Human Health and Wellbeing in Complex Environments >> KW: stress acclimation",
          "Human Health and Wellbeing in Complex Environments >> KW: health service delivery",
          "Human Health and Wellbeing in Complex Environments >> KW: public health policy",
          "Indigenous Knowledge Systems and Environmental Stewardship",
          "Indigenous Knowledge Systems and Environmental Stewardship >> KW: Indigenous knowledge systems",
          "Indigenous Knowledge Systems and Environmental Stewardship >> KW: Indigenous land management",
          "Indigenous Knowledge Systems and Environmental Stewardship >> KW: Aboriginal land rights",
          "Indigenous Knowledge Systems and Environmental Stewardship >> KW: First Peoples storytelling",
          "Indigenous Knowledge Systems and Environmental Stewardship >> KW: Aboriginal and Torres Strait Islander Commission",
          "Indigenous Knowledge Systems and Environmental Stewardship >> KW: Indigenous environmental knowledge",
          "Indigenous Knowledge Systems and Environmental Stewardship >> KW: cultural knowledge preservation",
          "Indigenous Knowledge Systems and Environmental Stewardship >> KW: Indigenous sustainable development",
          "Indigenous Knowledge Systems and Environmental Stewardship >> KW: Indigenous stewardship",
          "Advanced Semiconductor and Photonic Technologies",
          "Advanced Semiconductor and Photonic Technologies >> KW: semiconductor inspection",
          "Advanced Semiconductor and Photonic Technologies >> KW: perovskite-based electrodes",
          "Advanced Semiconductor and Photonic Technologies >> KW: thin-film lithium niobate",
          "Advanced Semiconductor and Photonic Technologies >> KW: organic photovoltaic (OPV) thin films",
          "Advanced Semiconductor and Photonic Technologies >> KW: quantum dots",
          "Advanced Semiconductor and Photonic Technologies >> KW: photovoltaic energy",
          "Advanced Semiconductor and Photonic Technologies >> KW: solar hydrogen production",
          "Advanced Semiconductor and Photonic Technologies >> KW: optoelectronic properties",
          "Advanced Semiconductor and Photonic Technologies >> KW: high-efficiency III-V solar cells",
          "Advanced Semiconductor and Photonic Technologies >> KW: photoelectrochemical water splitting",
          "Energy Transition and Renewable Power Generation",
          "Energy Transition and Renewable Power Generation >> KW: renewable power generation",
          "Energy Transition and Renewable Power Generation >> KW: hydrogen production",
          "Energy Transition and Renewable Power Generation >> KW: renewable energy transformation",
          "Energy Transition and Renewable Power Generation >> KW: energy storage technologies",
          "Energy Transition and Renewable Power Generation >> KW: hydrogen transport",
          "Energy Transition and Renewable Power Generation >> KW: renewable energy adoption",
          "Energy Transition and Renewable Power Generation >> KW: solar-to-chemical energy conversion",
          "Energy Transition and Renewable Power Generation >> KW: carbon-neutral manufacturing",
          "Energy Transition and Renewable Power Generation >> KW: low-carbon economy",
          "Energy Transition and Renewable Power Generation >> KW: energy efficiency",
          "Human-Computer Interaction and AI-Driven Systems",
          "Human-Computer Interaction and AI-Driven Systems >> KW: AI-based tools",
          "Human-Computer Interaction and AI-Driven Systems >> KW: explainable AI",
          "Human-Computer Interaction and AI-Driven Systems >> KW: human-AI collaboration",
          "Human-Computer Interaction and AI-Driven Systems >> KW: machine learning in biology",
          "Human-Computer Interaction and AI-Driven Systems >> KW: AI resilience",
          "Human-Computer Interaction and AI-Driven Systems >> KW: digital health data",
          "Human-Computer Interaction and AI-Driven Systems >> KW: predictive analytics",
          "Human-Computer Interaction and AI-Driven Systems >> KW: autonomous decision systems",
          "Human-Computer Interaction and AI-Driven Systems >> KW: AI interpretability",
          "Human-Computer Interaction and AI-Driven Systems >> KW: intelligent systems",
          "Geospatial and Environmental Data Science",
          "Geospatial and Environmental Data Science >> KW: geospatial research",
          "Geospatial and Environmental Data Science >> KW: geophysical surveys",
          "Geospatial and Environmental Data Science >> KW: spatial transformation",
          "Geospatial and Environmental Data Science >> KW: spatial and temporal variability",
          "Geospatial and Environmental Data Science >> KW: remote sensing",
          "Geospatial and Environmental Data Science >> KW: geospatial database",
          "Geospatial and Environmental Data Science >> KW: spatial analysis",
          "Geospatial and Environmental Data Science >> KW: environmental monitoring",
          "Geospatial and Environmental Data Science >> KW: geographic theory",
          "Geospatial and Environmental Data Science >> KW: spatial conservation planning",
          "Social and Cultural Dimensions of Environmental Change",
          "Social and Cultural Dimensions of Environmental Change >> KW: gendered dimensions",
          "Social and Cultural Dimensions of Environmental Change >> KW: cultural revitalization",
          "Social and Cultural Dimensions of Environmental Change >> KW: community-based conservation",
          "Social and Cultural Dimensions of Environmental Change >> KW: community-led research",
          "Social and Cultural Dimensions of Environmental Change >> KW: Indigenous cultural heritage",
          "Social and Cultural Dimensions of Environmental Change >> KW: social sustainability",
          "Social and Cultural Dimensions of Environmental Change >> KW: cultural erosion",
          "Social and Cultural Dimensions of Environmental Change >> KW: community engagement",
          "Social and Cultural Dimensions of Environmental Change >> KW: cultural identity",
          "Social and Cultural Dimensions of Environmental Change >> KW: social transformation",
          "Climate and Atmospheric Sciences",
          "Climate and Atmospheric Sciences >> KW: climate change projections",
          "Climate and Atmospheric Sciences >> KW: greenhouse warming",
          "Climate and Atmospheric Sciences >> KW: climate variability",
          "Climate and Atmospheric Sciences >> KW: atmospheric evolution",
          "Climate and Atmospheric Sciences >> KW: climate resilience",
          "Climate and Atmospheric Sciences >> KW: carbon capture",
          "Climate and Atmospheric Sciences >> KW: climate feedbacks",
          "Climate and Atmospheric Sciences >> KW: oceanic heat transport",
          "Climate and Atmospheric Sciences >> KW: atmospheric circulation",
          "Climate and Atmospheric Sciences >> KW: climate change ethics",
          "Advanced Imaging and Sensing Technologies",
          "Advanced Imaging and Sensing Technologies >> KW: intravital microscopy",
          "Advanced Imaging and Sensing Technologies >> KW: scanning-tunnelling microscopy",
          "Advanced Imaging and Sensing Technologies >> KW: hyperspectral imaging",
          "Advanced Imaging and Sensing Technologies >> KW: in-situ imaging",
          "Advanced Imaging and Sensing Technologies >> KW: optical beam shaping",
          "Advanced Imaging and Sensing Technologies >> KW: surface plasmon resonance",
          "Advanced Imaging and Sensing Technologies >> KW: single-molecule fluorescence microscopy",
          "Advanced Imaging and Sensing Technologies >> KW: imaging facility",
          "Advanced Imaging and Sensing Technologies >> KW: image enhancement",
          "Advanced Imaging and Sensing Technologies >> KW: real-time monitoring",
          "Digital and Physical Infrastructure for Smart Cities",
          "Digital and Physical Infrastructure for Smart Cities >> KW: smart transportation",
          "Digital and Physical Infrastructure for Smart Cities >> KW: smart grid technologies",
          "Digital and Physical Infrastructure for Smart Cities >> KW: urban green spaces",
          "Digital and Physical Infrastructure for Smart Cities >> KW: water distribution infrastructure",
          "Digital and Physical Infrastructure for Smart Cities >> KW: smart city planning",
          "Digital and Physical Infrastructure for Smart Cities >> KW: intelligent wireless access",
          "Digital and Physical Infrastructure for Smart Cities >> KW: urban resilience",
          "Digital and Physical Infrastructure for Smart Cities >> KW: digital infrastructure",
          "Digital and Physical Infrastructure for Smart Cities >> KW: urban sustainability",
          "Digital and Physical Infrastructure for Smart Cities >> KW: connected and automated vehicles",
          "Economic and Policy Analysis in Sustainability",
          "Economic and Policy Analysis in Sustainability >> KW: carbon recycling",
          "Economic and Policy Analysis in Sustainability >> KW: green finance",
          "Economic and Policy Analysis in Sustainability >> KW: sustainable supply chains",
          "Economic and Policy Analysis in Sustainability >> KW: market-based mechanisms",
          "Economic and Policy Analysis in Sustainability >> KW: economic sustainability",
          "Economic and Policy Analysis in Sustainability >> KW: financial sustainability",
          "Economic and Policy Analysis in Sustainability >> KW: carbon pricing",
          "Economic and Policy Analysis in Sustainability >> KW: policy evaluation",
          "Economic and Policy Analysis in Sustainability >> KW: ESG reporting",
          "Economic and Policy Analysis in Sustainability >> KW: economic valuation",
          "Educational Innovation and Digital Learning",
          "Educational Innovation and Digital Learning >> KW: digital pedagogy",
          "Educational Innovation and Digital Learning >> KW: personalised learning",
          "Educational Innovation and Digital Learning >> KW: student engagement",
          "Educational Innovation and Digital Learning >> KW: inclusive education",
          "Educational Innovation and Digital Learning >> KW: student motivation",
          "Educational Innovation and Digital Learning >> KW: teacher development",
          "Educational Innovation and Digital Learning >> KW: learning sciences",
          "Educational Innovation and Digital Learning >> KW: education policy",
          "Educational Innovation and Digital Learning >> KW: digital learning platforms",
          "Educational Innovation and Digital Learning >> KW: student achievement",
          "Ethical, Legal, and Social Implications of Emerging Technologies",
          "Ethical, Legal, and Social Implications of Emerging Technologies >> KW: ethical AI",
          "Ethical, Legal, and Social Implications of Emerging Technologies >> KW: ethical theory",
          "Ethical, Legal, and Social Implications of Emerging Technologies >> KW: data privacy",
          "Ethical, Legal, and Social Implications of Emerging Technologies >> KW: bias in AI",
          "Ethical, Legal, and Social Implications of Emerging Technologies >> KW: social justice",
          "Ethical, Legal, and Social Implications of Emerging Technologies >> KW: equitable access",
          "Ethical, Legal, and Social Implications of Emerging Technologies >> KW: research ethics",
          "Ethical, Legal, and Social Implications of Emerging Technologies >> KW: ethical policy design",
          "Ethical, Legal, and Social Implications of Emerging Technologies >> KW: AI transparency",
          "Ethical, Legal, and Social Implications of Emerging Technologies >> KW: social responsibility",
          "Advanced Manufacturing and Materials Processing",
          "Advanced Manufacturing and Materials Processing >> KW: 3D printing by robots",
          "Advanced Manufacturing and Materials Processing >> KW: scalable synthesis",
          "Advanced Manufacturing and Materials Processing >> KW: additive manufacturing",
          "Advanced Manufacturing and Materials Processing >> KW: material processability",
          "Advanced Manufacturing and Materials Processing >> KW: industrial-scale robotics",
          "Advanced Manufacturing and Materials Processing >> KW: high-performance materials",
          "Advanced Manufacturing and Materials Processing >> KW: material scalability",
          "Advanced Manufacturing and Materials Processing >> KW: process optimization",
          "Advanced Manufacturing and Materials Processing >> KW: modular technology",
          "Advanced Manufacturing and Materials Processing >> KW: manufacturing resilience",
          "Biological and Chemical Sensing for Health and Environment",
          "Biological and Chemical Sensing for Health and Environment >> KW: biosensors",
          "Biological and Chemical Sensing for Health and Environment >> KW: chemical sensing",
          "Biological and Chemical Sensing for Health and Environment >> KW: pathogen detection",
          "Biological and Chemical Sensing for Health and Environment >> KW: real-time monitoring",
          "Biological and Chemical Sensing for Health and Environment >> KW: viral detection",
          "Biological and Chemical Sensing for Health and Environment >> KW: environmental sensors",
          "Biological and Chemical Sensing for Health and Environment >> KW: biomarker quantification",
          "Biological and Chemical Sensing for Health and Environment >> KW: sensing capabilities",
          "Biological and Chemical Sensing for Health and Environment >> KW: diagnostic tools",
          "Biological and Chemical Sensing for Health and Environment >> KW: health monitoring",
          "Urban and Regional Planning for Sustainability",
          "Urban and Regional Planning for Sustainability >> KW: urban planning",
          "Urban and Regional Planning for Sustainability >> KW: sustainable urban development",
          "Urban and Regional Planning for Sustainability >> KW: green infrastructure",
          "Urban and Regional Planning for Sustainability >> KW: housing systems",
          "Urban and Regional Planning for Sustainability >> KW: urban resilience",
          "Urban and Regional Planning for Sustainability >> KW: land use planning",
          "Urban and Regional Planning for Sustainability >> KW: regional planning",
          "Urban and Regional Planning for Sustainability >> KW: sustainable transport",
          "Urban and Regional Planning for Sustainability >> KW: smart urbanism",
          "Urban and Regional Planning for Sustainability >> KW: urban green spaces",
          "Genomics and Precision Medicine",
          "Genomics and Precision Medicine >> KW: genomic technologies",
          "Genomics and Precision Medicine >> KW: genomic tools",
          "Genomics and Precision Medicine >> KW: personalised medicine",
          "Genomics and Precision Medicine >> KW: genetic testing",
          "Genomics and Precision Medicine >> KW: precision agriculture",
          "Genomics and Precision Medicine >> KW: genomic prediction",
          "Genomics and Precision Medicine >> KW: gene editing",
          "Genomics and Precision Medicine >> KW: genetic variation",
          "Genomics and Precision Medicine >> KW: molecular diagnostics",
          "Genomics and Precision Medicine >> KW: epigenomic techniques",
          "Marine and Aquatic Ecosystem Management",
          "Marine and Aquatic Ecosystem Management >> KW: marine ecosystem management",
          "Marine and Aquatic Ecosystem Management >> KW: fisheries science",
          "Marine and Aquatic Ecosystem Management >> KW: aquaculture sector",
          "Marine and Aquatic Ecosystem Management >> KW: reef ecosystem",
          "Marine and Aquatic Ecosystem Management >> KW: seaweed genetics",
          "Marine and Aquatic Ecosystem Management >> KW: marine biodiversity",
          "Marine and Aquatic Ecosystem Management >> KW: fish stock availability",
          "Marine and Aquatic Ecosystem Management >> KW: bycatch",
          "Marine and Aquatic Ecosystem Management >> KW: marine conservation",
          "Marine and Aquatic Ecosystem Management >> KW: oyster cultivation",
          "Quantum Technologies and Advanced Physics",
          "Quantum Technologies and Advanced Physics >> KW: quantum error correction",
          "Quantum Technologies and Advanced Physics >> KW: quantum computing",
          "Quantum Technologies and Advanced Physics >> KW: quantum sensors",
          "Quantum Technologies and Advanced Physics >> KW: quantum dots",
          "Quantum Technologies and Advanced Physics >> KW: quantum communication",
          "Quantum Technologies and Advanced Physics >> KW: quantum materials",
          "Quantum Technologies and Advanced Physics >> KW: quantum cryptography",
          "Quantum Technologies and Advanced Physics >> KW: quantum mechanics",
          "Quantum Technologies and Advanced Physics >> KW: quantum devices",
          "Quantum Technologies and Advanced Physics >> KW: quantum theory",
          "Social and Psychological Factors in Human Behavior",
          "Social and Psychological Factors in Human Behavior >> KW: behavioral economics",
          "Social and Psychological Factors in Human Behavior >> KW: mental health",
          "Social and Psychological Factors in Human Behavior >> KW: social behavior",
          "Social and Psychological Factors in Human Behavior >> KW: cognitive processes",
          "Social and Psychological Factors in Human Behavior >> KW: emotional regulation",
          "Social and Psychological Factors in Human Behavior >> KW: stress response",
          "Social and Psychological Factors in Human Behavior >> KW: social trust",
          "Social and Psychological Factors in Human Behavior >> KW: interpersonal violence",
          "Social and Psychological Factors in Human Behavior >> KW: group dynamics",
          "Social and Psychological Factors in Human Behavior >> KW: psychological factors",
          "Indigenous and Western Knowledge Integration",
          "Indigenous and Western Knowledge Integration >> KW: Indigenous and Western knowledge integration",
          "Indigenous and Western Knowledge Integration >> KW: Indigenous knowledge systems",
          "Indigenous and Western Knowledge Integration >> KW: Indigenous science",
          "Indigenous and Western Knowledge Integration >> KW: cultural knowledge preservation",
          "Indigenous and Western Knowledge Integration >> KW: First Nations leadership",
          "Indigenous and Western Knowledge Integration >> KW: Indigenous innovation",
          "Indigenous and Western Knowledge Integration >> KW: traditional ecological knowledge",
          "Indigenous and Western Knowledge Integration >> KW: cultural knowledge construction",
          "Indigenous and Western Knowledge Integration >> KW: community-based research",
          "Digital and Data-Driven Public Policy",
          "Digital and Data-Driven Public Policy >> KW: data utility",
          "Digital and Data-Driven Public Policy >> KW: predictive analytics",
          "Digital and Data-Driven Public Policy >> KW: data-driven policy",
          "Digital and Data-Driven Public Policy >> KW: public policy evaluation",
          "Digital and Data-Driven Public Policy >> KW: evidence-based policy",
          "Digital and Data-Driven Public Policy >> KW: data science innovation",
          "Digital and Data-Driven Public Policy >> KW: policy scenario modelling",
          "Digital and Data-Driven Public Policy >> KW: policy analysis",
          "Digital and Data-Driven Public Policy >> KW: data governance",
          "Digital and Data-Driven Public Policy >> KW: digital transformation",
          "Advanced Computational Modelling and Simulation",
          "Advanced Computational Modelling and Simulation >> KW: computational modelling",
          "Advanced Computational Modelling and Simulation >> KW: finite element modelling",
          "Advanced Computational Modelling and Simulation >> KW: multiphysics modelling",
          "Advanced Computational Modelling and Simulation >> KW: dynamic systems",
          "Advanced Computational Modelling and Simulation >> KW: system dynamics",
          "Advanced Computational Modelling and Simulation >> KW: agent-based models",
          "Advanced Computational Modelling and Simulation >> KW: computational fluid dynamics",
          "Advanced Computational Modelling and Simulation >> KW: machine learning in biology",
          "Advanced Computational Modelling and Simulation >> KW: system-level change",
          "Advanced Computational Modelling and Simulation >> KW: model-based deep learning",
          "Sustainable and Circular Resource Management",
          "Sustainable and Circular Resource Management >> KW: circular economy",
          "Sustainable and Circular Resource Management >> KW: waste-to-value",
          "Sustainable and Circular Resource Management >> KW: remanufacturing",
          "Sustainable and Circular Resource Management >> KW: reusable materials",
          "Sustainable and Circular Resource Management >> KW: resource recovery",
          "Sustainable and Circular Resource Management >> KW: sustainable materials",
          "Sustainable and Circular Resource Management >> KW: waste-to-resource",
          "Sustainable and Circular Resource Management >> KW: material efficiency",
          "Sustainable and Circular Resource Management >> KW: zero-waste",
          "Sustainable and Circular Resource Management >> KW: resource sharing",
          "Human Movement and Biomechanics",
          "Human Movement and Biomechanics >> KW: human movement analysis",
          "Human Movement and Biomechanics >> KW: motor skill acquisition",
          "Human Movement and Biomechanics >> KW: biomechanics",
          "Human Movement and Biomechanics >> KW: muscle function",
          "Human Movement and Biomechanics >> KW: gait dynamics",
          "Human Movement and Biomechanics >> KW: physical activity",
          "Human Movement and Biomechanics >> KW: rehabilitation technology",
          "Human Movement and Biomechanics >> KW: neuro-motor modulation",
          "Human Movement and Biomechanics >> KW: sports science",
          "Human Movement and Biomechanics >> KW: postural control",
          "Digital and Physical Health Monitoring Systems",
          "Digital and Physical Health Monitoring Systems >> KW: real-time vital signal monitoring",
          "Digital and Physical Health Monitoring Systems >> KW: wearable sensors",
          "Digital and Physical Health Monitoring Systems >> KW: smart health devices",
          "Digital and Physical Health Monitoring Systems >> KW: personalised health",
          "Digital and Physical Health Monitoring Systems >> KW: sleep monitoring",
          "Digital and Physical Health Monitoring Systems >> KW: vital signs",
          "Digital and Physical Health Monitoring Systems >> KW: remote health monitoring",
          "Digital and Physical Health Monitoring Systems >> KW: wearable generators",
          "Digital and Physical Health Monitoring Systems >> KW: digital health data",
          "Digital and Physical Health Monitoring Systems >> KW: health tracking",
          "Cultural and Historical Heritage Preservation",
          "Cultural and Historical Heritage Preservation >> KW: cultural heritage",
          "Cultural and Historical Heritage Preservation >> KW: Indigenous art",
          "Cultural and Historical Heritage Preservation >> KW: historical artifacts",
          "Cultural and Historical Heritage Preservation >> KW: oral histories",
          "Cultural and Historical Heritage Preservation >> KW: Aboriginal stories",
          "Cultural and Historical Heritage Preservation >> KW: cultural memory",
          "Cultural and Historical Heritage Preservation >> KW: heritage conservation",
          "Cultural and Historical Heritage Preservation >> KW: Indigenous knowledge",
          "Cultural and Historical Heritage Preservation >> KW: cultural documentation",
          "Cultural and Historical Heritage Preservation >> KW: historical narratives",
          "Climate-Resilient Infrastructure and Design",
          "Climate-Resilient Infrastructure and Design >> KW: climate resilience",
          "Climate-Resilient Infrastructure and Design >> KW: flood risk assessment",
          "Climate-Resilient Infrastructure and Design >> KW: bushfire resilience",
          "Climate-Resilient Infrastructure and Design >> KW: heat stress",
          "Climate-Resilient Infrastructure and Design >> KW: climate adaptation",
          "Climate-Resilient Infrastructure and Design >> KW: resilient materials",
          "Climate-Resilient Infrastructure and Design >> KW: infrastructure design",
          "Climate-Resilient Infrastructure and Design >> KW: climate change impacts",
          "Climate-Resilient Infrastructure and Design >> KW: adaptive design",
          "Climate-Resilient Infrastructure and Design >> KW: resilient communities",
          "Advanced Water and Wastewater Technologies",
          "Advanced Water and Wastewater Technologies >> KW: desalination membranes",
          "Advanced Water and Wastewater Technologies >> KW: wastewater treatment",
          "Advanced Water and Wastewater Technologies >> KW: water recycling",
          "Advanced Water and Wastewater Technologies >> KW: water quality monitoring",
          "Advanced Water and Wastewater Technologies >> KW: sustainable water use",
          "Advanced Water and Wastewater Technologies >> KW: water infrastructure",
          "Advanced Water and Wastewater Technologies >> KW: off-grid water treatment",
          "Advanced Water and Wastewater Technologies >> KW: water security",
          "Advanced Water and Wastewater Technologies >> KW: water distribution infrastructure",
          "Advanced Water and Wastewater Technologies >> KW: water efficiency",
          "Digital and Social Media in Public Engagement",
          "Digital and Social Media in Public Engagement >> KW: social media",
          "Digital and Social Media in Public Engagement >> KW: digital engagement",
          "Digital and Social Media in Public Engagement >> KW: public communication",
          "Digital and Social Media in Public Engagement >> KW: online misinformation",
          "Digital and Social Media in Public Engagement >> KW: digital inclusion",
          "Digital and Social Media in Public Engagement >> KW: digital literacy",
          "Digital and Social Media in Public Engagement >> KW: media influence",
          "Digital and Social Media in Public Engagement >> KW: public opinion",
          "Digital and Social Media in Public Engagement >> KW: digital platforms",
          "Digital and Social Media in Public Engagement >> KW: online communities",
          "Sustainable and Ethical Supply Chain Management",
          "Sustainable and Ethical Supply Chain Management >> KW: supply chain vulnerability",
          "Sustainable and Ethical Supply Chain Management >> KW: supply chain transparency",
          "Sustainable and Ethical Supply Chain Management >> KW: ethical sourcing",
          "Sustainable and Ethical Supply Chain Management >> KW: sustainable supply chains",
          "Sustainable and Ethical Supply Chain Management >> KW: labor practices",
          "Sustainable and Ethical Supply Chain Management >> KW: supply chain actors",
          "Sustainable and Ethical Supply Chain Management >> KW: supply chain integrity",
          "Sustainable and Ethical Supply Chain Management >> KW: resilient supply chains",
          "Sustainable and Ethical Supply Chain Management >> KW: fair trade",
          "Sustainable and Ethical Supply Chain Management >> KW: corporate responsibility",
          "Human-Animal Interaction and Welfare",
          "Human-Animal Interaction and Welfare >> KW: animal welfare",
          "Human-Animal Interaction and Welfare >> KW: livestock health",
          "Human-Animal Interaction and Welfare >> KW: animal behavior",
          "Human-Animal Interaction and Welfare >> KW: wildlife conservation",
          "Human-Animal Interaction and Welfare >> KW: domestic animals",
          "Human-Animal Interaction and Welfare >> KW: animal-human interaction",
          "Human-Animal Interaction and Welfare >> KW: pet care",
          "Human-Animal Interaction and Welfare >> KW: captive populations",
          "Human-Animal Interaction and Welfare >> KW: zoo management",
          "Human-Animal Interaction and Welfare >> KW: conservation medicine",
          "Digital and Physical Security in Emerging Technologies",
          "Digital and Physical Security in Emerging Technologies >> KW: cybersecurity",
          "Digital and Physical Security in Emerging Technologies >> KW: data integrity",
          "Digital and Physical Security in Emerging Technologies >> KW: secure AI",
          "Digital and Physical Security in Emerging Technologies >> KW: data protection",
          "Digital and Physical Security in Emerging Technologies >> KW: information security",
          "Digital and Physical Security in Emerging Technologies >> KW: secure systems",
          "Digital and Physical Security in Emerging Technologies >> KW: privacy-preserving technologies",
          "Digital and Physical Security in Emerging Technologies >> KW: secure communications",
          "Digital and Physical Security in Emerging Technologies >> KW: cyberattack",
          "Digital and Physical Security in Emerging Technologies >> KW: digital security",
          "Cross-Cultural and Intercultural Communication",
          "Cross-Cultural and Intercultural Communication >> KW: intercultural communication",
          "Cross-Cultural and Intercultural Communication >> KW: cultural sensitivity",
          "Cross-Cultural and Intercultural Communication >> KW: cultural diversity",
          "Cross-Cultural and Intercultural Communication >> KW: cross-cultural understanding",
          "Cross-Cultural and Intercultural Communication >> KW: language diversity",
          "Cross-Cultural and Intercultural Communication >> KW: cultural identity",
          "Cross-Cultural and Intercultural Communication >> KW: migrant communities",
          "Cross-Cultural and Intercultural Communication >> KW: Indigenous communities",
          "Cross-Cultural and Intercultural Communication >> KW: cultural representation",
          "Cross-Cultural and Intercultural Communication >> KW: cultural exchange",
          "Advanced Energy Storage and Conversion Systems",
          "Advanced Energy Storage and Conversion Systems >> KW: energy storage technologies",
          "Advanced Energy Storage and Conversion Systems >> KW: lithium-ion batteries",
          "Advanced Energy Storage and Conversion Systems >> KW: sodium-ion batteries",
          "Advanced Energy Storage and Conversion Systems >> KW: hydrogen storage",
          "Advanced Energy Storage and Conversion Systems >> KW: energy conversion",
          "Advanced Energy Storage and Conversion Systems >> KW: battery longevity",
          "Advanced Energy Storage and Conversion Systems >> KW: high-performance batteries",
          "Advanced Energy Storage and Conversion Systems >> KW: renewable energy storage",
          "Advanced Energy Storage and Conversion Systems >> KW: energy efficiency",
          "Advanced Energy Storage and Conversion Systems >> KW: grid stability",
          "Social and Economic Inequality in Health and Education",
          "Social and Economic Inequality in Health and Education >> KW: health inequality",
          "Social and Economic Inequality in Health and Education >> KW: education access",
          "Social and Economic Inequality in Health and Education >> KW: social disadvantage",
          "Social and Economic Inequality in Health and Education >> KW: economic inequality",
          "Social and Economic Inequality in Health and Education >> KW: marginalised groups",
          "Social and Economic Inequality in Health and Education >> KW: disadvantaged children",
          "Social and Economic Inequality in Health and Education >> KW: equity in healthcare",
          "Social and Economic Inequality in Health and Education >> KW: inclusive policy",
          "Social and Economic Inequality in Health and Education >> KW: social mobility",
          "Social and Economic Inequality in Health and Education >> KW: wealth gap",
          "Policy and Governance in Environmental and Health Systems",
          "Policy and Governance in Environmental and Health Systems >> KW: government policy",
          "Policy and Governance in Environmental and Health Systems >> KW: policy evaluation",
          "Policy and Governance in Environmental and Health Systems >> KW: regulatory frameworks",
          "Policy and Governance in Environmental and Health Systems >> KW: policy continuity",
          "Policy and Governance in Environmental and Health Systems >> KW: environmental governance",
          "Policy and Governance in Environmental and Health Systems >> KW: public health policy",
          "Policy and Governance in Environmental and Health Systems >> KW: regulatory efficacy",
          "Policy and Governance in Environmental and Health Systems >> KW: policy reform",
          "Policy and Governance in Environmental and Health Systems >> KW: policy analysis",
          "Policy and Governance in Environmental and Health Systems >> KW: legal frameworks",
          "Digital and Physical Accessibility for People with Disabilities",
          "Digital and Physical Accessibility for People with Disabilities >> KW: blind and visually-impaired participation",
          "Digital and Physical Accessibility for People with Disabilities >> KW: inclusive design",
          "Digital and Physical Accessibility for People with Disabilities >> KW: accessible technology",
          "Digital and Physical Accessibility for People with Disabilities >> KW: disability inclusion",
          "Digital and Physical Accessibility for People with Disabilities >> KW: universal design",
          "Digital and Physical Accessibility for People with Disabilities >> KW: accessibility",
          "Digital and Physical Accessibility for People with Disabilities >> KW: assistive technologies",
          "Digital and Physical Accessibility for People with Disabilities >> KW: inclusive environments",
          "Digital and Physical Accessibility for People with Disabilities >> KW: digital accessibility",
          "Digital and Physical Accessibility for People with Disabilities >> KW: sensory accessibility",
          "Human and Animal Health in the Context of Disease",
          "Human and Animal Health in the Context of Disease >> KW: disease transmission",
          "Human and Animal Health in the Context of Disease >> KW: zoonotic diseases",
          "Human and Animal Health in the Context of Disease >> KW: viral diseases",
          "Human and Animal Health in the Context of Disease >> KW: infectious disease dynamics",
          "Human and Animal Health in the Context of Disease >> KW: pathogen genes",
          "Human and Animal Health in the Context of Disease >> KW: disease preparedness",
          "Human and Animal Health in the Context of Disease >> KW: vaccination",
          "Human and Animal Health in the Context of Disease >> KW: epidemiological assessment",
          "Human and Animal Health in the Context of Disease >> KW: antibiotic resistance",
          "Human and Animal Health in the Context of Disease >> KW: disease outbreak",
          "Indigenous and Community-Based Research Practices",
          "Indigenous and Community-Based Research Practices >> KW: community-led research",
          "Indigenous and Community-Based Research Practices >> KW: community-based conservation",
          "Indigenous and Community-Based Research Practices >> KW: participatory research",
          "Indigenous and Community-Based Research Practices >> KW: Indigenous research",
          "Indigenous and Community-Based Research Practices >> KW: community engagement",
          "Indigenous and Community-Based Research Practices >> KW: community-based monitoring",
          "Indigenous and Community-Based Research Practices >> KW: community values",
          "Indigenous and Community-Based Research Practices >> KW: benefit-sharing",
          "Indigenous and Community-Based Research Practices >> KW: cultural safety",
          "Indigenous and Community-Based Research Practices >> KW: Indigenous participation"
         ],
         "labels": [
          "Smart Building Envelopes and Energy-Efficient Design",
          "smart glazing",
          "smart building envelopes",
          "lighting optimization",
          "energy-efficient curing",
          "sustainable high-rise buildings",
          "smart buildings",
          "thermal stability in polymers",
          "energy efficiency",
          "urban resilience",
          "climate-responsive materials",
          "Materials Design Theory and Advanced Nanomaterials",
          "materials design theory",
          "bio-inspired nanoparticles",
          "environmentally benign nanomaterials",
          "nanoionic materials",
          "nanobionic sensors",
          "nanoparticles",
          "nanomaterials",
          "nanostructured Josephson junction arrays",
          "nanoscale assembly",
          "thin-film lithium niobate",
          "Biomedical and Clinical Applications of Nanotechnology",
          "targeted drug delivery",
          "stem cell fate",
          "immune cell behaviour",
          "nanoparticle delivery",
          "cell membrane dynamics",
          "cellular protein dynamics",
          "cellular sensing",
          "tissue engineering",
          "personalised medical technologies",
          "biomimetic nanotechnology",
          "Environmental Monitoring and Remediation Technologies",
          "real-time water monitoring",
          "environmental data",
          "environmental remediation",
          "microplastic detection",
          "soil remediation",
          "pollutant impact",
          "waste-to-resource",
          "environmental health monitoring",
          "biofilm remediation",
          "water quality monitoring",
          "Advanced Chemical and Catalytic Processes",
          "catalytic reduction",
          "hydrogen production",
          "catalytic reactors",
          "non-precious metal catalysts",
          "catalytic conversion",
          "catalytic destruction",
          "catalytic reactions",
          "catalytic efficiency",
          "hydrogen evolution electrocatalysis",
          "catalytic degradation",
          "Agricultural and Food Systems Innovation",
          "seedstock quality",
          "precision agriculture",
          "plant-microbial interactions",
          "sustainable seafood",
          "nutrient uptake",
          "plant physiology",
          "aquaculture sector",
          "agricultural workforce",
          "food security",
          "crop productivity",
          "Digital and Computational Modelling in Environmental Systems",
          "scenario tree modelling",
          "hydrodynamic force coefficients",
          "ecosystem modelling",
          "climate change projections",
          "ecosystem resilience",
          "spatial and temporal variability",
          "predictive modelling",
          "computational modelling",
          "model-based deep learning",
          "dynamic networks",
          "Biological and Ecological Systems Dynamics",
          "species risk evaluation",
          "species decline",
          "biodiversity",
          "invasive species",
          "species sensitivity",
          "population dynamics",
          "ecosystem stability",
          "trophic relationships",
          "ecosystem services",
          "wildlife disease outbreaks",
          "Human Health and Wellbeing in Complex Environments",
          "sleep and health",
          "mental illness prevention",
          "chronic illness prevention",
          "health equity",
          "mental health in children",
          "health-related outcomes",
          "wellbeing practices",
          "stress acclimation",
          "health service delivery",
          "public health policy",
          "Indigenous Knowledge Systems and Environmental Stewardship",
          "Indigenous knowledge systems",
          "Indigenous land management",
          "Aboriginal land rights",
          "First Peoples storytelling",
          "Aboriginal and Torres Strait Islander Commission",
          "Indigenous environmental knowledge",
          "cultural knowledge preservation",
          "Indigenous sustainable development",
          "Indigenous stewardship",
          "Advanced Semiconductor and Photonic Technologies",
          "semiconductor inspection",
          "perovskite-based electrodes",
          "thin-film lithium niobate",
          "organic photovoltaic (OPV) thin films",
          "quantum dots",
          "photovoltaic energy",
          "solar hydrogen production",
          "optoelectronic properties",
          "high-efficiency III-V solar cells",
          "photoelectrochemical water splitting",
          "Energy Transition and Renewable Power Generation",
          "renewable power generation",
          "hydrogen production",
          "renewable energy transformation",
          "energy storage technologies",
          "hydrogen transport",
          "renewable energy adoption",
          "solar-to-chemical energy conversion",
          "carbon-neutral manufacturing",
          "low-carbon economy",
          "energy efficiency",
          "Human-Computer Interaction and AI-Driven Systems",
          "AI-based tools",
          "explainable AI",
          "human-AI collaboration",
          "machine learning in biology",
          "AI resilience",
          "digital health data",
          "predictive analytics",
          "autonomous decision systems",
          "AI interpretability",
          "intelligent systems",
          "Geospatial and Environmental Data Science",
          "geospatial research",
          "geophysical surveys",
          "spatial transformation",
          "spatial and temporal variability",
          "remote sensing",
          "geospatial database",
          "spatial analysis",
          "environmental monitoring",
          "geographic theory",
          "spatial conservation planning",
          "Social and Cultural Dimensions of Environmental Change",
          "gendered dimensions",
          "cultural revitalization",
          "community-based conservation",
          "community-led research",
          "Indigenous cultural heritage",
          "social sustainability",
          "cultural erosion",
          "community engagement",
          "cultural identity",
          "social transformation",
          "Climate and Atmospheric Sciences",
          "climate change projections",
          "greenhouse warming",
          "climate variability",
          "atmospheric evolution",
          "climate resilience",
          "carbon capture",
          "climate feedbacks",
          "oceanic heat transport",
          "atmospheric circulation",
          "climate change ethics",
          "Advanced Imaging and Sensing Technologies",
          "intravital microscopy",
          "scanning-tunnelling microscopy",
          "hyperspectral imaging",
          "in-situ imaging",
          "optical beam shaping",
          "surface plasmon resonance",
          "single-molecule fluorescence microscopy",
          "imaging facility",
          "image enhancement",
          "real-time monitoring",
          "Digital and Physical Infrastructure for Smart Cities",
          "smart transportation",
          "smart grid technologies",
          "urban green spaces",
          "water distribution infrastructure",
          "smart city planning",
          "intelligent wireless access",
          "urban resilience",
          "digital infrastructure",
          "urban sustainability",
          "connected and automated vehicles",
          "Economic and Policy Analysis in Sustainability",
          "carbon recycling",
          "green finance",
          "sustainable supply chains",
          "market-based mechanisms",
          "economic sustainability",
          "financial sustainability",
          "carbon pricing",
          "policy evaluation",
          "ESG reporting",
          "economic valuation",
          "Educational Innovation and Digital Learning",
          "digital pedagogy",
          "personalised learning",
          "student engagement",
          "inclusive education",
          "student motivation",
          "teacher development",
          "learning sciences",
          "education policy",
          "digital learning platforms",
          "student achievement",
          "Ethical, Legal, and Social Implications of Emerging Technologies",
          "ethical AI",
          "ethical theory",
          "data privacy",
          "bias in AI",
          "social justice",
          "equitable access",
          "research ethics",
          "ethical policy design",
          "AI transparency",
          "social responsibility",
          "Advanced Manufacturing and Materials Processing",
          "3D printing by robots",
          "scalable synthesis",
          "additive manufacturing",
          "material processability",
          "industrial-scale robotics",
          "high-performance materials",
          "material scalability",
          "process optimization",
          "modular technology",
          "manufacturing resilience",
          "Biological and Chemical Sensing for Health and Environment",
          "biosensors",
          "chemical sensing",
          "pathogen detection",
          "real-time monitoring",
          "viral detection",
          "environmental sensors",
          "biomarker quantification",
          "sensing capabilities",
          "diagnostic tools",
          "health monitoring",
          "Urban and Regional Planning for Sustainability",
          "urban planning",
          "sustainable urban development",
          "green infrastructure",
          "housing systems",
          "urban resilience",
          "land use planning",
          "regional planning",
          "sustainable transport",
          "smart urbanism",
          "urban green spaces",
          "Genomics and Precision Medicine",
          "genomic technologies",
          "genomic tools",
          "personalised medicine",
          "genetic testing",
          "precision agriculture",
          "genomic prediction",
          "gene editing",
          "genetic variation",
          "molecular diagnostics",
          "epigenomic techniques",
          "Marine and Aquatic Ecosystem Management",
          "marine ecosystem management",
          "fisheries science",
          "aquaculture sector",
          "reef ecosystem",
          "seaweed genetics",
          "marine biodiversity",
          "fish stock availability",
          "bycatch",
          "marine conservation",
          "oyster cultivation",
          "Quantum Technologies and Advanced Physics",
          "quantum error correction",
          "quantum computing",
          "quantum sensors",
          "quantum dots",
          "quantum communication",
          "quantum materials",
          "quantum cryptography",
          "quantum mechanics",
          "quantum devices",
          "quantum theory",
          "Social and Psychological Factors in Human Behavior",
          "behavioral economics",
          "mental health",
          "social behavior",
          "cognitive processes",
          "emotional regulation",
          "stress response",
          "social trust",
          "interpersonal violence",
          "group dynamics",
          "psychological factors",
          "Indigenous and Western Knowledge Integration",
          "Indigenous and Western knowledge integration",
          "Indigenous knowledge systems",
          "Indigenous science",
          "cultural knowledge preservation",
          "First Nations leadership",
          "Indigenous innovation",
          "traditional ecological knowledge",
          "cultural knowledge construction",
          "community-based research",
          "Digital and Data-Driven Public Policy",
          "data utility",
          "predictive analytics",
          "data-driven policy",
          "public policy evaluation",
          "evidence-based policy",
          "data science innovation",
          "policy scenario modelling",
          "policy analysis",
          "data governance",
          "digital transformation",
          "Advanced Computational Modelling and Simulation",
          "computational modelling",
          "finite element modelling",
          "multiphysics modelling",
          "dynamic systems",
          "system dynamics",
          "agent-based models",
          "computational fluid dynamics",
          "machine learning in biology",
          "system-level change",
          "model-based deep learning",
          "Sustainable and Circular Resource Management",
          "circular economy",
          "waste-to-value",
          "remanufacturing",
          "reusable materials",
          "resource recovery",
          "sustainable materials",
          "waste-to-resource",
          "material efficiency",
          "zero-waste",
          "resource sharing",
          "Human Movement and Biomechanics",
          "human movement analysis",
          "motor skill acquisition",
          "biomechanics",
          "muscle function",
          "gait dynamics",
          "physical activity",
          "rehabilitation technology",
          "neuro-motor modulation",
          "sports science",
          "postural control",
          "Digital and Physical Health Monitoring Systems",
          "real-time vital signal monitoring",
          "wearable sensors",
          "smart health devices",
          "personalised health",
          "sleep monitoring",
          "vital signs",
          "remote health monitoring",
          "wearable generators",
          "digital health data",
          "health tracking",
          "Cultural and Historical Heritage Preservation",
          "cultural heritage",
          "Indigenous art",
          "historical artifacts",
          "oral histories",
          "Aboriginal stories",
          "cultural memory",
          "heritage conservation",
          "Indigenous knowledge",
          "cultural documentation",
          "historical narratives",
          "Climate-Resilient Infrastructure and Design",
          "climate resilience",
          "flood risk assessment",
          "bushfire resilience",
          "heat stress",
          "climate adaptation",
          "resilient materials",
          "infrastructure design",
          "climate change impacts",
          "adaptive design",
          "resilient communities",
          "Advanced Water and Wastewater Technologies",
          "desalination membranes",
          "wastewater treatment",
          "water recycling",
          "water quality monitoring",
          "sustainable water use",
          "water infrastructure",
          "off-grid water treatment",
          "water security",
          "water distribution infrastructure",
          "water efficiency",
          "Digital and Social Media in Public Engagement",
          "social media",
          "digital engagement",
          "public communication",
          "online misinformation",
          "digital inclusion",
          "digital literacy",
          "media influence",
          "public opinion",
          "digital platforms",
          "online communities",
          "Sustainable and Ethical Supply Chain Management",
          "supply chain vulnerability",
          "supply chain transparency",
          "ethical sourcing",
          "sustainable supply chains",
          "labor practices",
          "supply chain actors",
          "supply chain integrity",
          "resilient supply chains",
          "fair trade",
          "corporate responsibility",
          "Human-Animal Interaction and Welfare",
          "animal welfare",
          "livestock health",
          "animal behavior",
          "wildlife conservation",
          "domestic animals",
          "animal-human interaction",
          "pet care",
          "captive populations",
          "zoo management",
          "conservation medicine",
          "Digital and Physical Security in Emerging Technologies",
          "cybersecurity",
          "data integrity",
          "secure AI",
          "data protection",
          "information security",
          "secure systems",
          "privacy-preserving technologies",
          "secure communications",
          "cyberattack",
          "digital security",
          "Cross-Cultural and Intercultural Communication",
          "intercultural communication",
          "cultural sensitivity",
          "cultural diversity",
          "cross-cultural understanding",
          "language diversity",
          "cultural identity",
          "migrant communities",
          "Indigenous communities",
          "cultural representation",
          "cultural exchange",
          "Advanced Energy Storage and Conversion Systems",
          "energy storage technologies",
          "lithium-ion batteries",
          "sodium-ion batteries",
          "hydrogen storage",
          "energy conversion",
          "battery longevity",
          "high-performance batteries",
          "renewable energy storage",
          "energy efficiency",
          "grid stability",
          "Social and Economic Inequality in Health and Education",
          "health inequality",
          "education access",
          "social disadvantage",
          "economic inequality",
          "marginalised groups",
          "disadvantaged children",
          "equity in healthcare",
          "inclusive policy",
          "social mobility",
          "wealth gap",
          "Policy and Governance in Environmental and Health Systems",
          "government policy",
          "policy evaluation",
          "regulatory frameworks",
          "policy continuity",
          "environmental governance",
          "public health policy",
          "regulatory efficacy",
          "policy reform",
          "policy analysis",
          "legal frameworks",
          "Digital and Physical Accessibility for People with Disabilities",
          "blind and visually-impaired participation",
          "inclusive design",
          "accessible technology",
          "disability inclusion",
          "universal design",
          "accessibility",
          "assistive technologies",
          "inclusive environments",
          "digital accessibility",
          "sensory accessibility",
          "Human and Animal Health in the Context of Disease",
          "disease transmission",
          "zoonotic diseases",
          "viral diseases",
          "infectious disease dynamics",
          "pathogen genes",
          "disease preparedness",
          "vaccination",
          "epidemiological assessment",
          "antibiotic resistance",
          "disease outbreak",
          "Indigenous and Community-Based Research Practices",
          "community-led research",
          "community-based conservation",
          "participatory research",
          "Indigenous research",
          "community engagement",
          "community-based monitoring",
          "community values",
          "benefit-sharing",
          "cultural safety",
          "Indigenous participation"
         ],
         "marker": {
          "colors": [
           "#1f77b4",
           "#2ca02c",
           "#2ca02c",
           "#2ca02c",
           "#2ca02c",
           "#2ca02c",
           "#2ca02c",
           "#2ca02c",
           "#2ca02c",
           "#2ca02c",
           "#2ca02c",
           "#1f77b4",
           "#2ca02c",
           "#2ca02c",
           "#2ca02c",
           "#2ca02c",
           "#2ca02c",
           "#2ca02c",
           "#2ca02c",
           "#2ca02c",
           "#2ca02c",
           "#2ca02c",
           "#1f77b4",
           "#2ca02c",
           "#2ca02c",
           "#2ca02c",
           "#2ca02c",
           "#2ca02c",
           "#2ca02c",
           "#2ca02c",
           "#2ca02c",
           "#2ca02c",
           "#2ca02c",
           "#1f77b4",
           "#2ca02c",
           "#2ca02c",
           "#2ca02c",
           "#2ca02c",
           "#2ca02c",
           "#2ca02c",
           "#2ca02c",
           "#2ca02c",
           "#2ca02c",
           "#2ca02c",
           "#1f77b4",
           "#2ca02c",
           "#2ca02c",
           "#2ca02c",
           "#2ca02c",
           "#2ca02c",
           "#2ca02c",
           "#2ca02c",
           "#2ca02c",
           "#2ca02c",
           "#2ca02c",
           "#1f77b4",
           "#2ca02c",
           "#2ca02c",
           "#2ca02c",
           "#2ca02c",
           "#2ca02c",
           "#2ca02c",
           "#2ca02c",
           "#2ca02c",
           "#2ca02c",
           "#2ca02c",
           "#1f77b4",
           "#2ca02c",
           "#2ca02c",
           "#2ca02c",
           "#2ca02c",
           "#2ca02c",
           "#2ca02c",
           "#2ca02c",
           "#2ca02c",
           "#2ca02c",
           "#2ca02c",
           "#1f77b4",
           "#2ca02c",
           "#2ca02c",
           "#2ca02c",
           "#2ca02c",
           "#2ca02c",
           "#2ca02c",
           "#2ca02c",
           "#2ca02c",
           "#2ca02c",
           "#2ca02c",
           "#1f77b4",
           "#2ca02c",
           "#2ca02c",
           "#2ca02c",
           "#2ca02c",
           "#2ca02c",
           "#2ca02c",
           "#2ca02c",
           "#2ca02c",
           "#2ca02c",
           "#2ca02c",
           "#1f77b4",
           "#2ca02c",
           "#2ca02c",
           "#2ca02c",
           "#2ca02c",
           "#2ca02c",
           "#2ca02c",
           "#2ca02c",
           "#2ca02c",
           "#2ca02c",
           "#1f77b4",
           "#2ca02c",
           "#2ca02c",
           "#2ca02c",
           "#2ca02c",
           "#2ca02c",
           "#2ca02c",
           "#2ca02c",
           "#2ca02c",
           "#2ca02c",
           "#2ca02c",
           "#1f77b4",
           "#2ca02c",
           "#2ca02c",
           "#2ca02c",
           "#2ca02c",
           "#2ca02c",
           "#2ca02c",
           "#2ca02c",
           "#2ca02c",
           "#2ca02c",
           "#2ca02c",
           "#1f77b4",
           "#2ca02c",
           "#2ca02c",
           "#2ca02c",
           "#2ca02c",
           "#2ca02c",
           "#2ca02c",
           "#2ca02c",
           "#2ca02c",
           "#2ca02c",
           "#2ca02c",
           "#1f77b4",
           "#2ca02c",
           "#2ca02c",
           "#2ca02c",
           "#2ca02c",
           "#2ca02c",
           "#2ca02c",
           "#2ca02c",
           "#2ca02c",
           "#2ca02c",
           "#2ca02c",
           "#1f77b4",
           "#2ca02c",
           "#2ca02c",
           "#2ca02c",
           "#2ca02c",
           "#2ca02c",
           "#2ca02c",
           "#2ca02c",
           "#2ca02c",
           "#2ca02c",
           "#2ca02c",
           "#1f77b4",
           "#2ca02c",
           "#2ca02c",
           "#2ca02c",
           "#2ca02c",
           "#2ca02c",
           "#2ca02c",
           "#2ca02c",
           "#2ca02c",
           "#2ca02c",
           "#2ca02c",
           "#1f77b4",
           "#2ca02c",
           "#2ca02c",
           "#2ca02c",
           "#2ca02c",
           "#2ca02c",
           "#2ca02c",
           "#2ca02c",
           "#2ca02c",
           "#2ca02c",
           "#2ca02c",
           "#1f77b4",
           "#2ca02c",
           "#2ca02c",
           "#2ca02c",
           "#2ca02c",
           "#2ca02c",
           "#2ca02c",
           "#2ca02c",
           "#2ca02c",
           "#2ca02c",
           "#2ca02c",
           "#1f77b4",
           "#2ca02c",
           "#2ca02c",
           "#2ca02c",
           "#2ca02c",
           "#2ca02c",
           "#2ca02c",
           "#2ca02c",
           "#2ca02c",
           "#2ca02c",
           "#2ca02c",
           "#1f77b4",
           "#2ca02c",
           "#2ca02c",
           "#2ca02c",
           "#2ca02c",
           "#2ca02c",
           "#2ca02c",
           "#2ca02c",
           "#2ca02c",
           "#2ca02c",
           "#2ca02c",
           "#1f77b4",
           "#2ca02c",
           "#2ca02c",
           "#2ca02c",
           "#2ca02c",
           "#2ca02c",
           "#2ca02c",
           "#2ca02c",
           "#2ca02c",
           "#2ca02c",
           "#2ca02c",
           "#1f77b4",
           "#2ca02c",
           "#2ca02c",
           "#2ca02c",
           "#2ca02c",
           "#2ca02c",
           "#2ca02c",
           "#2ca02c",
           "#2ca02c",
           "#2ca02c",
           "#2ca02c",
           "#1f77b4",
           "#2ca02c",
           "#2ca02c",
           "#2ca02c",
           "#2ca02c",
           "#2ca02c",
           "#2ca02c",
           "#2ca02c",
           "#2ca02c",
           "#2ca02c",
           "#2ca02c",
           "#1f77b4",
           "#2ca02c",
           "#2ca02c",
           "#2ca02c",
           "#2ca02c",
           "#2ca02c",
           "#2ca02c",
           "#2ca02c",
           "#2ca02c",
           "#2ca02c",
           "#2ca02c",
           "#1f77b4",
           "#2ca02c",
           "#2ca02c",
           "#2ca02c",
           "#2ca02c",
           "#2ca02c",
           "#2ca02c",
           "#2ca02c",
           "#2ca02c",
           "#2ca02c",
           "#2ca02c",
           "#1f77b4",
           "#2ca02c",
           "#2ca02c",
           "#2ca02c",
           "#2ca02c",
           "#2ca02c",
           "#2ca02c",
           "#2ca02c",
           "#2ca02c",
           "#2ca02c",
           "#2ca02c",
           "#1f77b4",
           "#2ca02c",
           "#2ca02c",
           "#2ca02c",
           "#2ca02c",
           "#2ca02c",
           "#2ca02c",
           "#2ca02c",
           "#2ca02c",
           "#2ca02c",
           "#2ca02c",
           "#1f77b4",
           "#2ca02c",
           "#2ca02c",
           "#2ca02c",
           "#2ca02c",
           "#2ca02c",
           "#2ca02c",
           "#2ca02c",
           "#2ca02c",
           "#2ca02c",
           "#2ca02c",
           "#1f77b4",
           "#2ca02c",
           "#2ca02c",
           "#2ca02c",
           "#2ca02c",
           "#2ca02c",
           "#2ca02c",
           "#2ca02c",
           "#2ca02c",
           "#2ca02c",
           "#1f77b4",
           "#2ca02c",
           "#2ca02c",
           "#2ca02c",
           "#2ca02c",
           "#2ca02c",
           "#2ca02c",
           "#2ca02c",
           "#2ca02c",
           "#2ca02c",
           "#2ca02c",
           "#1f77b4",
           "#2ca02c",
           "#2ca02c",
           "#2ca02c",
           "#2ca02c",
           "#2ca02c",
           "#2ca02c",
           "#2ca02c",
           "#2ca02c",
           "#2ca02c",
           "#2ca02c",
           "#1f77b4",
           "#2ca02c",
           "#2ca02c",
           "#2ca02c",
           "#2ca02c",
           "#2ca02c",
           "#2ca02c",
           "#2ca02c",
           "#2ca02c",
           "#2ca02c",
           "#2ca02c",
           "#1f77b4",
           "#2ca02c",
           "#2ca02c",
           "#2ca02c",
           "#2ca02c",
           "#2ca02c",
           "#2ca02c",
           "#2ca02c",
           "#2ca02c",
           "#2ca02c",
           "#2ca02c",
           "#1f77b4",
           "#2ca02c",
           "#2ca02c",
           "#2ca02c",
           "#2ca02c",
           "#2ca02c",
           "#2ca02c",
           "#2ca02c",
           "#2ca02c",
           "#2ca02c",
           "#2ca02c",
           "#1f77b4",
           "#2ca02c",
           "#2ca02c",
           "#2ca02c",
           "#2ca02c",
           "#2ca02c",
           "#2ca02c",
           "#2ca02c",
           "#2ca02c",
           "#2ca02c",
           "#2ca02c",
           "#1f77b4",
           "#2ca02c",
           "#2ca02c",
           "#2ca02c",
           "#2ca02c",
           "#2ca02c",
           "#2ca02c",
           "#2ca02c",
           "#2ca02c",
           "#2ca02c",
           "#2ca02c",
           "#1f77b4",
           "#2ca02c",
           "#2ca02c",
           "#2ca02c",
           "#2ca02c",
           "#2ca02c",
           "#2ca02c",
           "#2ca02c",
           "#2ca02c",
           "#2ca02c",
           "#2ca02c",
           "#1f77b4",
           "#2ca02c",
           "#2ca02c",
           "#2ca02c",
           "#2ca02c",
           "#2ca02c",
           "#2ca02c",
           "#2ca02c",
           "#2ca02c",
           "#2ca02c",
           "#2ca02c",
           "#1f77b4",
           "#2ca02c",
           "#2ca02c",
           "#2ca02c",
           "#2ca02c",
           "#2ca02c",
           "#2ca02c",
           "#2ca02c",
           "#2ca02c",
           "#2ca02c",
           "#2ca02c",
           "#1f77b4",
           "#2ca02c",
           "#2ca02c",
           "#2ca02c",
           "#2ca02c",
           "#2ca02c",
           "#2ca02c",
           "#2ca02c",
           "#2ca02c",
           "#2ca02c",
           "#2ca02c",
           "#1f77b4",
           "#2ca02c",
           "#2ca02c",
           "#2ca02c",
           "#2ca02c",
           "#2ca02c",
           "#2ca02c",
           "#2ca02c",
           "#2ca02c",
           "#2ca02c",
           "#2ca02c",
           "#1f77b4",
           "#2ca02c",
           "#2ca02c",
           "#2ca02c",
           "#2ca02c",
           "#2ca02c",
           "#2ca02c",
           "#2ca02c",
           "#2ca02c",
           "#2ca02c",
           "#2ca02c",
           "#1f77b4",
           "#2ca02c",
           "#2ca02c",
           "#2ca02c",
           "#2ca02c",
           "#2ca02c",
           "#2ca02c",
           "#2ca02c",
           "#2ca02c",
           "#2ca02c",
           "#2ca02c",
           "#1f77b4",
           "#2ca02c",
           "#2ca02c",
           "#2ca02c",
           "#2ca02c",
           "#2ca02c",
           "#2ca02c",
           "#2ca02c",
           "#2ca02c",
           "#2ca02c",
           "#2ca02c",
           "#1f77b4",
           "#2ca02c",
           "#2ca02c",
           "#2ca02c",
           "#2ca02c",
           "#2ca02c",
           "#2ca02c",
           "#2ca02c",
           "#2ca02c",
           "#2ca02c",
           "#2ca02c",
           "#1f77b4",
           "#2ca02c",
           "#2ca02c",
           "#2ca02c",
           "#2ca02c",
           "#2ca02c",
           "#2ca02c",
           "#2ca02c",
           "#2ca02c",
           "#2ca02c",
           "#2ca02c",
           "#1f77b4",
           "#2ca02c",
           "#2ca02c",
           "#2ca02c",
           "#2ca02c",
           "#2ca02c",
           "#2ca02c",
           "#2ca02c",
           "#2ca02c",
           "#2ca02c",
           "#2ca02c",
           "#1f77b4",
           "#2ca02c",
           "#2ca02c",
           "#2ca02c",
           "#2ca02c",
           "#2ca02c",
           "#2ca02c",
           "#2ca02c",
           "#2ca02c",
           "#2ca02c",
           "#2ca02c"
          ]
         },
         "name": "",
         "parents": [
          "",
          "Smart Building Envelopes and Energy-Efficient Design",
          "Smart Building Envelopes and Energy-Efficient Design",
          "Smart Building Envelopes and Energy-Efficient Design",
          "Smart Building Envelopes and Energy-Efficient Design",
          "Smart Building Envelopes and Energy-Efficient Design",
          "Smart Building Envelopes and Energy-Efficient Design",
          "Smart Building Envelopes and Energy-Efficient Design",
          "Smart Building Envelopes and Energy-Efficient Design",
          "Smart Building Envelopes and Energy-Efficient Design",
          "Smart Building Envelopes and Energy-Efficient Design",
          "",
          "Materials Design Theory and Advanced Nanomaterials",
          "Materials Design Theory and Advanced Nanomaterials",
          "Materials Design Theory and Advanced Nanomaterials",
          "Materials Design Theory and Advanced Nanomaterials",
          "Materials Design Theory and Advanced Nanomaterials",
          "Materials Design Theory and Advanced Nanomaterials",
          "Materials Design Theory and Advanced Nanomaterials",
          "Materials Design Theory and Advanced Nanomaterials",
          "Materials Design Theory and Advanced Nanomaterials",
          "Materials Design Theory and Advanced Nanomaterials",
          "",
          "Biomedical and Clinical Applications of Nanotechnology",
          "Biomedical and Clinical Applications of Nanotechnology",
          "Biomedical and Clinical Applications of Nanotechnology",
          "Biomedical and Clinical Applications of Nanotechnology",
          "Biomedical and Clinical Applications of Nanotechnology",
          "Biomedical and Clinical Applications of Nanotechnology",
          "Biomedical and Clinical Applications of Nanotechnology",
          "Biomedical and Clinical Applications of Nanotechnology",
          "Biomedical and Clinical Applications of Nanotechnology",
          "Biomedical and Clinical Applications of Nanotechnology",
          "",
          "Environmental Monitoring and Remediation Technologies",
          "Environmental Monitoring and Remediation Technologies",
          "Environmental Monitoring and Remediation Technologies",
          "Environmental Monitoring and Remediation Technologies",
          "Environmental Monitoring and Remediation Technologies",
          "Environmental Monitoring and Remediation Technologies",
          "Environmental Monitoring and Remediation Technologies",
          "Environmental Monitoring and Remediation Technologies",
          "Environmental Monitoring and Remediation Technologies",
          "Environmental Monitoring and Remediation Technologies",
          "",
          "Advanced Chemical and Catalytic Processes",
          "Advanced Chemical and Catalytic Processes",
          "Advanced Chemical and Catalytic Processes",
          "Advanced Chemical and Catalytic Processes",
          "Advanced Chemical and Catalytic Processes",
          "Advanced Chemical and Catalytic Processes",
          "Advanced Chemical and Catalytic Processes",
          "Advanced Chemical and Catalytic Processes",
          "Advanced Chemical and Catalytic Processes",
          "Advanced Chemical and Catalytic Processes",
          "",
          "Agricultural and Food Systems Innovation",
          "Agricultural and Food Systems Innovation",
          "Agricultural and Food Systems Innovation",
          "Agricultural and Food Systems Innovation",
          "Agricultural and Food Systems Innovation",
          "Agricultural and Food Systems Innovation",
          "Agricultural and Food Systems Innovation",
          "Agricultural and Food Systems Innovation",
          "Agricultural and Food Systems Innovation",
          "Agricultural and Food Systems Innovation",
          "",
          "Digital and Computational Modelling in Environmental Systems",
          "Digital and Computational Modelling in Environmental Systems",
          "Digital and Computational Modelling in Environmental Systems",
          "Digital and Computational Modelling in Environmental Systems",
          "Digital and Computational Modelling in Environmental Systems",
          "Digital and Computational Modelling in Environmental Systems",
          "Digital and Computational Modelling in Environmental Systems",
          "Digital and Computational Modelling in Environmental Systems",
          "Digital and Computational Modelling in Environmental Systems",
          "Digital and Computational Modelling in Environmental Systems",
          "",
          "Biological and Ecological Systems Dynamics",
          "Biological and Ecological Systems Dynamics",
          "Biological and Ecological Systems Dynamics",
          "Biological and Ecological Systems Dynamics",
          "Biological and Ecological Systems Dynamics",
          "Biological and Ecological Systems Dynamics",
          "Biological and Ecological Systems Dynamics",
          "Biological and Ecological Systems Dynamics",
          "Biological and Ecological Systems Dynamics",
          "Biological and Ecological Systems Dynamics",
          "",
          "Human Health and Wellbeing in Complex Environments",
          "Human Health and Wellbeing in Complex Environments",
          "Human Health and Wellbeing in Complex Environments",
          "Human Health and Wellbeing in Complex Environments",
          "Human Health and Wellbeing in Complex Environments",
          "Human Health and Wellbeing in Complex Environments",
          "Human Health and Wellbeing in Complex Environments",
          "Human Health and Wellbeing in Complex Environments",
          "Human Health and Wellbeing in Complex Environments",
          "Human Health and Wellbeing in Complex Environments",
          "",
          "Indigenous Knowledge Systems and Environmental Stewardship",
          "Indigenous Knowledge Systems and Environmental Stewardship",
          "Indigenous Knowledge Systems and Environmental Stewardship",
          "Indigenous Knowledge Systems and Environmental Stewardship",
          "Indigenous Knowledge Systems and Environmental Stewardship",
          "Indigenous Knowledge Systems and Environmental Stewardship",
          "Indigenous Knowledge Systems and Environmental Stewardship",
          "Indigenous Knowledge Systems and Environmental Stewardship",
          "Indigenous Knowledge Systems and Environmental Stewardship",
          "",
          "Advanced Semiconductor and Photonic Technologies",
          "Advanced Semiconductor and Photonic Technologies",
          "Advanced Semiconductor and Photonic Technologies",
          "Advanced Semiconductor and Photonic Technologies",
          "Advanced Semiconductor and Photonic Technologies",
          "Advanced Semiconductor and Photonic Technologies",
          "Advanced Semiconductor and Photonic Technologies",
          "Advanced Semiconductor and Photonic Technologies",
          "Advanced Semiconductor and Photonic Technologies",
          "Advanced Semiconductor and Photonic Technologies",
          "",
          "Energy Transition and Renewable Power Generation",
          "Energy Transition and Renewable Power Generation",
          "Energy Transition and Renewable Power Generation",
          "Energy Transition and Renewable Power Generation",
          "Energy Transition and Renewable Power Generation",
          "Energy Transition and Renewable Power Generation",
          "Energy Transition and Renewable Power Generation",
          "Energy Transition and Renewable Power Generation",
          "Energy Transition and Renewable Power Generation",
          "Energy Transition and Renewable Power Generation",
          "",
          "Human-Computer Interaction and AI-Driven Systems",
          "Human-Computer Interaction and AI-Driven Systems",
          "Human-Computer Interaction and AI-Driven Systems",
          "Human-Computer Interaction and AI-Driven Systems",
          "Human-Computer Interaction and AI-Driven Systems",
          "Human-Computer Interaction and AI-Driven Systems",
          "Human-Computer Interaction and AI-Driven Systems",
          "Human-Computer Interaction and AI-Driven Systems",
          "Human-Computer Interaction and AI-Driven Systems",
          "Human-Computer Interaction and AI-Driven Systems",
          "",
          "Geospatial and Environmental Data Science",
          "Geospatial and Environmental Data Science",
          "Geospatial and Environmental Data Science",
          "Geospatial and Environmental Data Science",
          "Geospatial and Environmental Data Science",
          "Geospatial and Environmental Data Science",
          "Geospatial and Environmental Data Science",
          "Geospatial and Environmental Data Science",
          "Geospatial and Environmental Data Science",
          "Geospatial and Environmental Data Science",
          "",
          "Social and Cultural Dimensions of Environmental Change",
          "Social and Cultural Dimensions of Environmental Change",
          "Social and Cultural Dimensions of Environmental Change",
          "Social and Cultural Dimensions of Environmental Change",
          "Social and Cultural Dimensions of Environmental Change",
          "Social and Cultural Dimensions of Environmental Change",
          "Social and Cultural Dimensions of Environmental Change",
          "Social and Cultural Dimensions of Environmental Change",
          "Social and Cultural Dimensions of Environmental Change",
          "Social and Cultural Dimensions of Environmental Change",
          "",
          "Climate and Atmospheric Sciences",
          "Climate and Atmospheric Sciences",
          "Climate and Atmospheric Sciences",
          "Climate and Atmospheric Sciences",
          "Climate and Atmospheric Sciences",
          "Climate and Atmospheric Sciences",
          "Climate and Atmospheric Sciences",
          "Climate and Atmospheric Sciences",
          "Climate and Atmospheric Sciences",
          "Climate and Atmospheric Sciences",
          "",
          "Advanced Imaging and Sensing Technologies",
          "Advanced Imaging and Sensing Technologies",
          "Advanced Imaging and Sensing Technologies",
          "Advanced Imaging and Sensing Technologies",
          "Advanced Imaging and Sensing Technologies",
          "Advanced Imaging and Sensing Technologies",
          "Advanced Imaging and Sensing Technologies",
          "Advanced Imaging and Sensing Technologies",
          "Advanced Imaging and Sensing Technologies",
          "Advanced Imaging and Sensing Technologies",
          "",
          "Digital and Physical Infrastructure for Smart Cities",
          "Digital and Physical Infrastructure for Smart Cities",
          "Digital and Physical Infrastructure for Smart Cities",
          "Digital and Physical Infrastructure for Smart Cities",
          "Digital and Physical Infrastructure for Smart Cities",
          "Digital and Physical Infrastructure for Smart Cities",
          "Digital and Physical Infrastructure for Smart Cities",
          "Digital and Physical Infrastructure for Smart Cities",
          "Digital and Physical Infrastructure for Smart Cities",
          "Digital and Physical Infrastructure for Smart Cities",
          "",
          "Economic and Policy Analysis in Sustainability",
          "Economic and Policy Analysis in Sustainability",
          "Economic and Policy Analysis in Sustainability",
          "Economic and Policy Analysis in Sustainability",
          "Economic and Policy Analysis in Sustainability",
          "Economic and Policy Analysis in Sustainability",
          "Economic and Policy Analysis in Sustainability",
          "Economic and Policy Analysis in Sustainability",
          "Economic and Policy Analysis in Sustainability",
          "Economic and Policy Analysis in Sustainability",
          "",
          "Educational Innovation and Digital Learning",
          "Educational Innovation and Digital Learning",
          "Educational Innovation and Digital Learning",
          "Educational Innovation and Digital Learning",
          "Educational Innovation and Digital Learning",
          "Educational Innovation and Digital Learning",
          "Educational Innovation and Digital Learning",
          "Educational Innovation and Digital Learning",
          "Educational Innovation and Digital Learning",
          "Educational Innovation and Digital Learning",
          "",
          "Ethical, Legal, and Social Implications of Emerging Technologies",
          "Ethical, Legal, and Social Implications of Emerging Technologies",
          "Ethical, Legal, and Social Implications of Emerging Technologies",
          "Ethical, Legal, and Social Implications of Emerging Technologies",
          "Ethical, Legal, and Social Implications of Emerging Technologies",
          "Ethical, Legal, and Social Implications of Emerging Technologies",
          "Ethical, Legal, and Social Implications of Emerging Technologies",
          "Ethical, Legal, and Social Implications of Emerging Technologies",
          "Ethical, Legal, and Social Implications of Emerging Technologies",
          "Ethical, Legal, and Social Implications of Emerging Technologies",
          "",
          "Advanced Manufacturing and Materials Processing",
          "Advanced Manufacturing and Materials Processing",
          "Advanced Manufacturing and Materials Processing",
          "Advanced Manufacturing and Materials Processing",
          "Advanced Manufacturing and Materials Processing",
          "Advanced Manufacturing and Materials Processing",
          "Advanced Manufacturing and Materials Processing",
          "Advanced Manufacturing and Materials Processing",
          "Advanced Manufacturing and Materials Processing",
          "Advanced Manufacturing and Materials Processing",
          "",
          "Biological and Chemical Sensing for Health and Environment",
          "Biological and Chemical Sensing for Health and Environment",
          "Biological and Chemical Sensing for Health and Environment",
          "Biological and Chemical Sensing for Health and Environment",
          "Biological and Chemical Sensing for Health and Environment",
          "Biological and Chemical Sensing for Health and Environment",
          "Biological and Chemical Sensing for Health and Environment",
          "Biological and Chemical Sensing for Health and Environment",
          "Biological and Chemical Sensing for Health and Environment",
          "Biological and Chemical Sensing for Health and Environment",
          "",
          "Urban and Regional Planning for Sustainability",
          "Urban and Regional Planning for Sustainability",
          "Urban and Regional Planning for Sustainability",
          "Urban and Regional Planning for Sustainability",
          "Urban and Regional Planning for Sustainability",
          "Urban and Regional Planning for Sustainability",
          "Urban and Regional Planning for Sustainability",
          "Urban and Regional Planning for Sustainability",
          "Urban and Regional Planning for Sustainability",
          "Urban and Regional Planning for Sustainability",
          "",
          "Genomics and Precision Medicine",
          "Genomics and Precision Medicine",
          "Genomics and Precision Medicine",
          "Genomics and Precision Medicine",
          "Genomics and Precision Medicine",
          "Genomics and Precision Medicine",
          "Genomics and Precision Medicine",
          "Genomics and Precision Medicine",
          "Genomics and Precision Medicine",
          "Genomics and Precision Medicine",
          "",
          "Marine and Aquatic Ecosystem Management",
          "Marine and Aquatic Ecosystem Management",
          "Marine and Aquatic Ecosystem Management",
          "Marine and Aquatic Ecosystem Management",
          "Marine and Aquatic Ecosystem Management",
          "Marine and Aquatic Ecosystem Management",
          "Marine and Aquatic Ecosystem Management",
          "Marine and Aquatic Ecosystem Management",
          "Marine and Aquatic Ecosystem Management",
          "Marine and Aquatic Ecosystem Management",
          "",
          "Quantum Technologies and Advanced Physics",
          "Quantum Technologies and Advanced Physics",
          "Quantum Technologies and Advanced Physics",
          "Quantum Technologies and Advanced Physics",
          "Quantum Technologies and Advanced Physics",
          "Quantum Technologies and Advanced Physics",
          "Quantum Technologies and Advanced Physics",
          "Quantum Technologies and Advanced Physics",
          "Quantum Technologies and Advanced Physics",
          "Quantum Technologies and Advanced Physics",
          "",
          "Social and Psychological Factors in Human Behavior",
          "Social and Psychological Factors in Human Behavior",
          "Social and Psychological Factors in Human Behavior",
          "Social and Psychological Factors in Human Behavior",
          "Social and Psychological Factors in Human Behavior",
          "Social and Psychological Factors in Human Behavior",
          "Social and Psychological Factors in Human Behavior",
          "Social and Psychological Factors in Human Behavior",
          "Social and Psychological Factors in Human Behavior",
          "Social and Psychological Factors in Human Behavior",
          "",
          "Indigenous and Western Knowledge Integration",
          "Indigenous and Western Knowledge Integration",
          "Indigenous and Western Knowledge Integration",
          "Indigenous and Western Knowledge Integration",
          "Indigenous and Western Knowledge Integration",
          "Indigenous and Western Knowledge Integration",
          "Indigenous and Western Knowledge Integration",
          "Indigenous and Western Knowledge Integration",
          "Indigenous and Western Knowledge Integration",
          "",
          "Digital and Data-Driven Public Policy",
          "Digital and Data-Driven Public Policy",
          "Digital and Data-Driven Public Policy",
          "Digital and Data-Driven Public Policy",
          "Digital and Data-Driven Public Policy",
          "Digital and Data-Driven Public Policy",
          "Digital and Data-Driven Public Policy",
          "Digital and Data-Driven Public Policy",
          "Digital and Data-Driven Public Policy",
          "Digital and Data-Driven Public Policy",
          "",
          "Advanced Computational Modelling and Simulation",
          "Advanced Computational Modelling and Simulation",
          "Advanced Computational Modelling and Simulation",
          "Advanced Computational Modelling and Simulation",
          "Advanced Computational Modelling and Simulation",
          "Advanced Computational Modelling and Simulation",
          "Advanced Computational Modelling and Simulation",
          "Advanced Computational Modelling and Simulation",
          "Advanced Computational Modelling and Simulation",
          "Advanced Computational Modelling and Simulation",
          "",
          "Sustainable and Circular Resource Management",
          "Sustainable and Circular Resource Management",
          "Sustainable and Circular Resource Management",
          "Sustainable and Circular Resource Management",
          "Sustainable and Circular Resource Management",
          "Sustainable and Circular Resource Management",
          "Sustainable and Circular Resource Management",
          "Sustainable and Circular Resource Management",
          "Sustainable and Circular Resource Management",
          "Sustainable and Circular Resource Management",
          "",
          "Human Movement and Biomechanics",
          "Human Movement and Biomechanics",
          "Human Movement and Biomechanics",
          "Human Movement and Biomechanics",
          "Human Movement and Biomechanics",
          "Human Movement and Biomechanics",
          "Human Movement and Biomechanics",
          "Human Movement and Biomechanics",
          "Human Movement and Biomechanics",
          "Human Movement and Biomechanics",
          "",
          "Digital and Physical Health Monitoring Systems",
          "Digital and Physical Health Monitoring Systems",
          "Digital and Physical Health Monitoring Systems",
          "Digital and Physical Health Monitoring Systems",
          "Digital and Physical Health Monitoring Systems",
          "Digital and Physical Health Monitoring Systems",
          "Digital and Physical Health Monitoring Systems",
          "Digital and Physical Health Monitoring Systems",
          "Digital and Physical Health Monitoring Systems",
          "Digital and Physical Health Monitoring Systems",
          "",
          "Cultural and Historical Heritage Preservation",
          "Cultural and Historical Heritage Preservation",
          "Cultural and Historical Heritage Preservation",
          "Cultural and Historical Heritage Preservation",
          "Cultural and Historical Heritage Preservation",
          "Cultural and Historical Heritage Preservation",
          "Cultural and Historical Heritage Preservation",
          "Cultural and Historical Heritage Preservation",
          "Cultural and Historical Heritage Preservation",
          "Cultural and Historical Heritage Preservation",
          "",
          "Climate-Resilient Infrastructure and Design",
          "Climate-Resilient Infrastructure and Design",
          "Climate-Resilient Infrastructure and Design",
          "Climate-Resilient Infrastructure and Design",
          "Climate-Resilient Infrastructure and Design",
          "Climate-Resilient Infrastructure and Design",
          "Climate-Resilient Infrastructure and Design",
          "Climate-Resilient Infrastructure and Design",
          "Climate-Resilient Infrastructure and Design",
          "Climate-Resilient Infrastructure and Design",
          "",
          "Advanced Water and Wastewater Technologies",
          "Advanced Water and Wastewater Technologies",
          "Advanced Water and Wastewater Technologies",
          "Advanced Water and Wastewater Technologies",
          "Advanced Water and Wastewater Technologies",
          "Advanced Water and Wastewater Technologies",
          "Advanced Water and Wastewater Technologies",
          "Advanced Water and Wastewater Technologies",
          "Advanced Water and Wastewater Technologies",
          "Advanced Water and Wastewater Technologies",
          "",
          "Digital and Social Media in Public Engagement",
          "Digital and Social Media in Public Engagement",
          "Digital and Social Media in Public Engagement",
          "Digital and Social Media in Public Engagement",
          "Digital and Social Media in Public Engagement",
          "Digital and Social Media in Public Engagement",
          "Digital and Social Media in Public Engagement",
          "Digital and Social Media in Public Engagement",
          "Digital and Social Media in Public Engagement",
          "Digital and Social Media in Public Engagement",
          "",
          "Sustainable and Ethical Supply Chain Management",
          "Sustainable and Ethical Supply Chain Management",
          "Sustainable and Ethical Supply Chain Management",
          "Sustainable and Ethical Supply Chain Management",
          "Sustainable and Ethical Supply Chain Management",
          "Sustainable and Ethical Supply Chain Management",
          "Sustainable and Ethical Supply Chain Management",
          "Sustainable and Ethical Supply Chain Management",
          "Sustainable and Ethical Supply Chain Management",
          "Sustainable and Ethical Supply Chain Management",
          "",
          "Human-Animal Interaction and Welfare",
          "Human-Animal Interaction and Welfare",
          "Human-Animal Interaction and Welfare",
          "Human-Animal Interaction and Welfare",
          "Human-Animal Interaction and Welfare",
          "Human-Animal Interaction and Welfare",
          "Human-Animal Interaction and Welfare",
          "Human-Animal Interaction and Welfare",
          "Human-Animal Interaction and Welfare",
          "Human-Animal Interaction and Welfare",
          "",
          "Digital and Physical Security in Emerging Technologies",
          "Digital and Physical Security in Emerging Technologies",
          "Digital and Physical Security in Emerging Technologies",
          "Digital and Physical Security in Emerging Technologies",
          "Digital and Physical Security in Emerging Technologies",
          "Digital and Physical Security in Emerging Technologies",
          "Digital and Physical Security in Emerging Technologies",
          "Digital and Physical Security in Emerging Technologies",
          "Digital and Physical Security in Emerging Technologies",
          "Digital and Physical Security in Emerging Technologies",
          "",
          "Cross-Cultural and Intercultural Communication",
          "Cross-Cultural and Intercultural Communication",
          "Cross-Cultural and Intercultural Communication",
          "Cross-Cultural and Intercultural Communication",
          "Cross-Cultural and Intercultural Communication",
          "Cross-Cultural and Intercultural Communication",
          "Cross-Cultural and Intercultural Communication",
          "Cross-Cultural and Intercultural Communication",
          "Cross-Cultural and Intercultural Communication",
          "Cross-Cultural and Intercultural Communication",
          "",
          "Advanced Energy Storage and Conversion Systems",
          "Advanced Energy Storage and Conversion Systems",
          "Advanced Energy Storage and Conversion Systems",
          "Advanced Energy Storage and Conversion Systems",
          "Advanced Energy Storage and Conversion Systems",
          "Advanced Energy Storage and Conversion Systems",
          "Advanced Energy Storage and Conversion Systems",
          "Advanced Energy Storage and Conversion Systems",
          "Advanced Energy Storage and Conversion Systems",
          "Advanced Energy Storage and Conversion Systems",
          "",
          "Social and Economic Inequality in Health and Education",
          "Social and Economic Inequality in Health and Education",
          "Social and Economic Inequality in Health and Education",
          "Social and Economic Inequality in Health and Education",
          "Social and Economic Inequality in Health and Education",
          "Social and Economic Inequality in Health and Education",
          "Social and Economic Inequality in Health and Education",
          "Social and Economic Inequality in Health and Education",
          "Social and Economic Inequality in Health and Education",
          "Social and Economic Inequality in Health and Education",
          "",
          "Policy and Governance in Environmental and Health Systems",
          "Policy and Governance in Environmental and Health Systems",
          "Policy and Governance in Environmental and Health Systems",
          "Policy and Governance in Environmental and Health Systems",
          "Policy and Governance in Environmental and Health Systems",
          "Policy and Governance in Environmental and Health Systems",
          "Policy and Governance in Environmental and Health Systems",
          "Policy and Governance in Environmental and Health Systems",
          "Policy and Governance in Environmental and Health Systems",
          "Policy and Governance in Environmental and Health Systems",
          "",
          "Digital and Physical Accessibility for People with Disabilities",
          "Digital and Physical Accessibility for People with Disabilities",
          "Digital and Physical Accessibility for People with Disabilities",
          "Digital and Physical Accessibility for People with Disabilities",
          "Digital and Physical Accessibility for People with Disabilities",
          "Digital and Physical Accessibility for People with Disabilities",
          "Digital and Physical Accessibility for People with Disabilities",
          "Digital and Physical Accessibility for People with Disabilities",
          "Digital and Physical Accessibility for People with Disabilities",
          "Digital and Physical Accessibility for People with Disabilities",
          "",
          "Human and Animal Health in the Context of Disease",
          "Human and Animal Health in the Context of Disease",
          "Human and Animal Health in the Context of Disease",
          "Human and Animal Health in the Context of Disease",
          "Human and Animal Health in the Context of Disease",
          "Human and Animal Health in the Context of Disease",
          "Human and Animal Health in the Context of Disease",
          "Human and Animal Health in the Context of Disease",
          "Human and Animal Health in the Context of Disease",
          "Human and Animal Health in the Context of Disease",
          "",
          "Indigenous and Community-Based Research Practices",
          "Indigenous and Community-Based Research Practices",
          "Indigenous and Community-Based Research Practices",
          "Indigenous and Community-Based Research Practices",
          "Indigenous and Community-Based Research Practices",
          "Indigenous and Community-Based Research Practices",
          "Indigenous and Community-Based Research Practices",
          "Indigenous and Community-Based Research Practices",
          "Indigenous and Community-Based Research Practices",
          "Indigenous and Community-Based Research Practices"
         ],
         "textfont": {
          "size": 9
         },
         "textinfo": "label",
         "textposition": "middle center",
         "type": "treemap",
         "values": {
          "bdata": "CgEBAQEBAQEBAQEKAQEBAQEBAQEBAQoBAQEBAQEBAQEBCgEBAQEBAQEBAQEKAQEBAQEBAQEBAQoBAQEBAQEBAQEBCgEBAQEBAQEBAQEKAQEBAQEBAQEBAQoBAQEBAQEBAQEBCQEBAQEBAQEBAQoBAQEBAQEBAQEBCgEBAQEBAQEBAQEKAQEBAQEBAQEBAQoBAQEBAQEBAQEBCgEBAQEBAQEBAQEKAQEBAQEBAQEBAQoBAQEBAQEBAQEBCgEBAQEBAQEBAQEKAQEBAQEBAQEBAQoBAQEBAQEBAQEBCgEBAQEBAQEBAQEKAQEBAQEBAQEBAQoBAQEBAQEBAQEBCgEBAQEBAQEBAQEKAQEBAQEBAQEBAQoBAQEBAQEBAQEBCgEBAQEBAQEBAQEKAQEBAQEBAQEBAQkBAQEBAQEBAQEKAQEBAQEBAQEBAQoBAQEBAQEBAQEBCgEBAQEBAQEBAQEKAQEBAQEBAQEBAQoBAQEBAQEBAQEBCgEBAQEBAQEBAQEKAQEBAQEBAQEBAQoBAQEBAQEBAQEBCgEBAQEBAQEBAQEKAQEBAQEBAQEBAQoBAQEBAQEBAQEBCgEBAQEBAQEBAQEKAQEBAQEBAQEBAQoBAQEBAQEBAQEBCgEBAQEBAQEBAQEKAQEBAQEBAQEBAQoBAQEBAQEBAQEBCgEBAQEBAQEBAQEKAQEBAQEBAQEBAQ==",
          "dtype": "i1"
         }
        }
       ],
       "layout": {
        "font": {
         "size": 9
        },
        "height": 800,
        "legend": {
         "tracegroupgap": 0
        },
        "margin": {
         "b": 25,
         "l": 25,
         "r": 25,
         "t": 60
        },
        "template": {
         "data": {
          "bar": [
           {
            "error_x": {
             "color": "#2a3f5f"
            },
            "error_y": {
             "color": "#2a3f5f"
            },
            "marker": {
             "line": {
              "color": "#E5ECF6",
              "width": 0.5
             },
             "pattern": {
              "fillmode": "overlay",
              "size": 10,
              "solidity": 0.2
             }
            },
            "type": "bar"
           }
          ],
          "barpolar": [
           {
            "marker": {
             "line": {
              "color": "#E5ECF6",
              "width": 0.5
             },
             "pattern": {
              "fillmode": "overlay",
              "size": 10,
              "solidity": 0.2
             }
            },
            "type": "barpolar"
           }
          ],
          "carpet": [
           {
            "aaxis": {
             "endlinecolor": "#2a3f5f",
             "gridcolor": "white",
             "linecolor": "white",
             "minorgridcolor": "white",
             "startlinecolor": "#2a3f5f"
            },
            "baxis": {
             "endlinecolor": "#2a3f5f",
             "gridcolor": "white",
             "linecolor": "white",
             "minorgridcolor": "white",
             "startlinecolor": "#2a3f5f"
            },
            "type": "carpet"
           }
          ],
          "choropleth": [
           {
            "colorbar": {
             "outlinewidth": 0,
             "ticks": ""
            },
            "type": "choropleth"
           }
          ],
          "contour": [
           {
            "colorbar": {
             "outlinewidth": 0,
             "ticks": ""
            },
            "colorscale": [
             [
              0,
              "#0d0887"
             ],
             [
              0.1111111111111111,
              "#46039f"
             ],
             [
              0.2222222222222222,
              "#7201a8"
             ],
             [
              0.3333333333333333,
              "#9c179e"
             ],
             [
              0.4444444444444444,
              "#bd3786"
             ],
             [
              0.5555555555555556,
              "#d8576b"
             ],
             [
              0.6666666666666666,
              "#ed7953"
             ],
             [
              0.7777777777777778,
              "#fb9f3a"
             ],
             [
              0.8888888888888888,
              "#fdca26"
             ],
             [
              1,
              "#f0f921"
             ]
            ],
            "type": "contour"
           }
          ],
          "contourcarpet": [
           {
            "colorbar": {
             "outlinewidth": 0,
             "ticks": ""
            },
            "type": "contourcarpet"
           }
          ],
          "heatmap": [
           {
            "colorbar": {
             "outlinewidth": 0,
             "ticks": ""
            },
            "colorscale": [
             [
              0,
              "#0d0887"
             ],
             [
              0.1111111111111111,
              "#46039f"
             ],
             [
              0.2222222222222222,
              "#7201a8"
             ],
             [
              0.3333333333333333,
              "#9c179e"
             ],
             [
              0.4444444444444444,
              "#bd3786"
             ],
             [
              0.5555555555555556,
              "#d8576b"
             ],
             [
              0.6666666666666666,
              "#ed7953"
             ],
             [
              0.7777777777777778,
              "#fb9f3a"
             ],
             [
              0.8888888888888888,
              "#fdca26"
             ],
             [
              1,
              "#f0f921"
             ]
            ],
            "type": "heatmap"
           }
          ],
          "histogram": [
           {
            "marker": {
             "pattern": {
              "fillmode": "overlay",
              "size": 10,
              "solidity": 0.2
             }
            },
            "type": "histogram"
           }
          ],
          "histogram2d": [
           {
            "colorbar": {
             "outlinewidth": 0,
             "ticks": ""
            },
            "colorscale": [
             [
              0,
              "#0d0887"
             ],
             [
              0.1111111111111111,
              "#46039f"
             ],
             [
              0.2222222222222222,
              "#7201a8"
             ],
             [
              0.3333333333333333,
              "#9c179e"
             ],
             [
              0.4444444444444444,
              "#bd3786"
             ],
             [
              0.5555555555555556,
              "#d8576b"
             ],
             [
              0.6666666666666666,
              "#ed7953"
             ],
             [
              0.7777777777777778,
              "#fb9f3a"
             ],
             [
              0.8888888888888888,
              "#fdca26"
             ],
             [
              1,
              "#f0f921"
             ]
            ],
            "type": "histogram2d"
           }
          ],
          "histogram2dcontour": [
           {
            "colorbar": {
             "outlinewidth": 0,
             "ticks": ""
            },
            "colorscale": [
             [
              0,
              "#0d0887"
             ],
             [
              0.1111111111111111,
              "#46039f"
             ],
             [
              0.2222222222222222,
              "#7201a8"
             ],
             [
              0.3333333333333333,
              "#9c179e"
             ],
             [
              0.4444444444444444,
              "#bd3786"
             ],
             [
              0.5555555555555556,
              "#d8576b"
             ],
             [
              0.6666666666666666,
              "#ed7953"
             ],
             [
              0.7777777777777778,
              "#fb9f3a"
             ],
             [
              0.8888888888888888,
              "#fdca26"
             ],
             [
              1,
              "#f0f921"
             ]
            ],
            "type": "histogram2dcontour"
           }
          ],
          "mesh3d": [
           {
            "colorbar": {
             "outlinewidth": 0,
             "ticks": ""
            },
            "type": "mesh3d"
           }
          ],
          "parcoords": [
           {
            "line": {
             "colorbar": {
              "outlinewidth": 0,
              "ticks": ""
             }
            },
            "type": "parcoords"
           }
          ],
          "pie": [
           {
            "automargin": true,
            "type": "pie"
           }
          ],
          "scatter": [
           {
            "fillpattern": {
             "fillmode": "overlay",
             "size": 10,
             "solidity": 0.2
            },
            "type": "scatter"
           }
          ],
          "scatter3d": [
           {
            "line": {
             "colorbar": {
              "outlinewidth": 0,
              "ticks": ""
             }
            },
            "marker": {
             "colorbar": {
              "outlinewidth": 0,
              "ticks": ""
             }
            },
            "type": "scatter3d"
           }
          ],
          "scattercarpet": [
           {
            "marker": {
             "colorbar": {
              "outlinewidth": 0,
              "ticks": ""
             }
            },
            "type": "scattercarpet"
           }
          ],
          "scattergeo": [
           {
            "marker": {
             "colorbar": {
              "outlinewidth": 0,
              "ticks": ""
             }
            },
            "type": "scattergeo"
           }
          ],
          "scattergl": [
           {
            "marker": {
             "colorbar": {
              "outlinewidth": 0,
              "ticks": ""
             }
            },
            "type": "scattergl"
           }
          ],
          "scattermap": [
           {
            "marker": {
             "colorbar": {
              "outlinewidth": 0,
              "ticks": ""
             }
            },
            "type": "scattermap"
           }
          ],
          "scattermapbox": [
           {
            "marker": {
             "colorbar": {
              "outlinewidth": 0,
              "ticks": ""
             }
            },
            "type": "scattermapbox"
           }
          ],
          "scatterpolar": [
           {
            "marker": {
             "colorbar": {
              "outlinewidth": 0,
              "ticks": ""
             }
            },
            "type": "scatterpolar"
           }
          ],
          "scatterpolargl": [
           {
            "marker": {
             "colorbar": {
              "outlinewidth": 0,
              "ticks": ""
             }
            },
            "type": "scatterpolargl"
           }
          ],
          "scatterternary": [
           {
            "marker": {
             "colorbar": {
              "outlinewidth": 0,
              "ticks": ""
             }
            },
            "type": "scatterternary"
           }
          ],
          "surface": [
           {
            "colorbar": {
             "outlinewidth": 0,
             "ticks": ""
            },
            "colorscale": [
             [
              0,
              "#0d0887"
             ],
             [
              0.1111111111111111,
              "#46039f"
             ],
             [
              0.2222222222222222,
              "#7201a8"
             ],
             [
              0.3333333333333333,
              "#9c179e"
             ],
             [
              0.4444444444444444,
              "#bd3786"
             ],
             [
              0.5555555555555556,
              "#d8576b"
             ],
             [
              0.6666666666666666,
              "#ed7953"
             ],
             [
              0.7777777777777778,
              "#fb9f3a"
             ],
             [
              0.8888888888888888,
              "#fdca26"
             ],
             [
              1,
              "#f0f921"
             ]
            ],
            "type": "surface"
           }
          ],
          "table": [
           {
            "cells": {
             "fill": {
              "color": "#EBF0F8"
             },
             "line": {
              "color": "white"
             }
            },
            "header": {
             "fill": {
              "color": "#C8D4E3"
             },
             "line": {
              "color": "white"
             }
            },
            "type": "table"
           }
          ]
         },
         "layout": {
          "annotationdefaults": {
           "arrowcolor": "#2a3f5f",
           "arrowhead": 0,
           "arrowwidth": 1
          },
          "autotypenumbers": "strict",
          "coloraxis": {
           "colorbar": {
            "outlinewidth": 0,
            "ticks": ""
           }
          },
          "colorscale": {
           "diverging": [
            [
             0,
             "#8e0152"
            ],
            [
             0.1,
             "#c51b7d"
            ],
            [
             0.2,
             "#de77ae"
            ],
            [
             0.3,
             "#f1b6da"
            ],
            [
             0.4,
             "#fde0ef"
            ],
            [
             0.5,
             "#f7f7f7"
            ],
            [
             0.6,
             "#e6f5d0"
            ],
            [
             0.7,
             "#b8e186"
            ],
            [
             0.8,
             "#7fbc41"
            ],
            [
             0.9,
             "#4d9221"
            ],
            [
             1,
             "#276419"
            ]
           ],
           "sequential": [
            [
             0,
             "#0d0887"
            ],
            [
             0.1111111111111111,
             "#46039f"
            ],
            [
             0.2222222222222222,
             "#7201a8"
            ],
            [
             0.3333333333333333,
             "#9c179e"
            ],
            [
             0.4444444444444444,
             "#bd3786"
            ],
            [
             0.5555555555555556,
             "#d8576b"
            ],
            [
             0.6666666666666666,
             "#ed7953"
            ],
            [
             0.7777777777777778,
             "#fb9f3a"
            ],
            [
             0.8888888888888888,
             "#fdca26"
            ],
            [
             1,
             "#f0f921"
            ]
           ],
           "sequentialminus": [
            [
             0,
             "#0d0887"
            ],
            [
             0.1111111111111111,
             "#46039f"
            ],
            [
             0.2222222222222222,
             "#7201a8"
            ],
            [
             0.3333333333333333,
             "#9c179e"
            ],
            [
             0.4444444444444444,
             "#bd3786"
            ],
            [
             0.5555555555555556,
             "#d8576b"
            ],
            [
             0.6666666666666666,
             "#ed7953"
            ],
            [
             0.7777777777777778,
             "#fb9f3a"
            ],
            [
             0.8888888888888888,
             "#fdca26"
            ],
            [
             1,
             "#f0f921"
            ]
           ]
          },
          "colorway": [
           "#636efa",
           "#EF553B",
           "#00cc96",
           "#ab63fa",
           "#FFA15A",
           "#19d3f3",
           "#FF6692",
           "#B6E880",
           "#FF97FF",
           "#FECB52"
          ],
          "font": {
           "color": "#2a3f5f"
          },
          "geo": {
           "bgcolor": "white",
           "lakecolor": "white",
           "landcolor": "#E5ECF6",
           "showlakes": true,
           "showland": true,
           "subunitcolor": "white"
          },
          "hoverlabel": {
           "align": "left"
          },
          "hovermode": "closest",
          "mapbox": {
           "style": "light"
          },
          "paper_bgcolor": "white",
          "plot_bgcolor": "#E5ECF6",
          "polar": {
           "angularaxis": {
            "gridcolor": "white",
            "linecolor": "white",
            "ticks": ""
           },
           "bgcolor": "#E5ECF6",
           "radialaxis": {
            "gridcolor": "white",
            "linecolor": "white",
            "ticks": ""
           }
          },
          "scene": {
           "xaxis": {
            "backgroundcolor": "#E5ECF6",
            "gridcolor": "white",
            "gridwidth": 2,
            "linecolor": "white",
            "showbackground": true,
            "ticks": "",
            "zerolinecolor": "white"
           },
           "yaxis": {
            "backgroundcolor": "#E5ECF6",
            "gridcolor": "white",
            "gridwidth": 2,
            "linecolor": "white",
            "showbackground": true,
            "ticks": "",
            "zerolinecolor": "white"
           },
           "zaxis": {
            "backgroundcolor": "#E5ECF6",
            "gridcolor": "white",
            "gridwidth": 2,
            "linecolor": "white",
            "showbackground": true,
            "ticks": "",
            "zerolinecolor": "white"
           }
          },
          "shapedefaults": {
           "line": {
            "color": "#2a3f5f"
           }
          },
          "ternary": {
           "aaxis": {
            "gridcolor": "white",
            "linecolor": "white",
            "ticks": ""
           },
           "baxis": {
            "gridcolor": "white",
            "linecolor": "white",
            "ticks": ""
           },
           "bgcolor": "#E5ECF6",
           "caxis": {
            "gridcolor": "white",
            "linecolor": "white",
            "ticks": ""
           }
          },
          "title": {
           "x": 0.05
          },
          "xaxis": {
           "automargin": true,
           "gridcolor": "white",
           "linecolor": "white",
           "ticks": "",
           "title": {
            "standoff": 15
           },
           "zerolinecolor": "white",
           "zerolinewidth": 2
          },
          "yaxis": {
           "automargin": true,
           "gridcolor": "white",
           "linecolor": "white",
           "ticks": "",
           "title": {
            "standoff": 15
           },
           "zerolinecolor": "white",
           "zerolinewidth": 2
          }
         }
        },
        "title": {
         "font": {
          "size": 16
         },
         "text": "Research Landscape: Categories → Keywords"
        }
       }
      }
     },
     "metadata": {},
     "output_type": "display_data"
    }
   ],
   "source": [
    "create_research_landscape_treemap()"
   ]
  },
  {
   "cell_type": "markdown",
   "id": "eab65177",
   "metadata": {},
   "source": [
    "# Updated Treemap with FOR Classes\n",
    "The treemap now includes a 3-level hierarchy:\n",
    "- **FOR Classes** (Blue) - Research field divisions\n",
    "- **Categories** (Orange) - Research categories within each FOR class  \n",
    "- **Keywords** (Green) - Individual keywords within each category"
   ]
  },
  {
   "cell_type": "code",
   "execution_count": null,
   "id": "977fd521",
   "metadata": {},
   "outputs": [],
   "source": [
    "# Test the updated treemap with FOR class hierarchy\n",
    "fig = create_research_landscape_treemap()\n",
    "if fig:\n",
    "    fig.show()"
   ]
  },
  {
   "cell_type": "code",
   "execution_count": null,
   "id": "226b86cc",
   "metadata": {},
   "outputs": [],
   "source": []
  }
 ],
 "metadata": {
  "kernelspec": {
   "display_name": "modeling (3.12.10)",
   "language": "python",
   "name": "python3"
  },
  "language_info": {
   "codemirror_mode": {
    "name": "ipython",
    "version": 3
   },
   "file_extension": ".py",
   "mimetype": "text/x-python",
   "name": "python",
   "nbconvert_exporter": "python",
   "pygments_lexer": "ipython3",
   "version": "3.12.10"
  }
 },
 "nbformat": 4,
 "nbformat_minor": 5
}

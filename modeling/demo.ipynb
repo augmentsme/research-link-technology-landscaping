{
 "cells": [
  {
   "cell_type": "code",
   "execution_count": 18,
   "id": "3c30db15",
   "metadata": {},
   "outputs": [
    {
     "name": "stdout",
     "output_type": "stream",
     "text": [
      "The autoreload extension is already loaded. To reload it, use:\n",
      "  %reload_ext autoreload\n"
     ]
    }
   ],
   "source": [
    "\n",
    "%load_ext autoreload\n",
    "%autoreload 2\n",
    "import utils\n",
    "import config\n",
    "from categorise import postprocess_categories\n",
    "import pandas as pd\n",
    "import plotly.express as px\n",
    "# px.bar(keywords.groupby(\"type\")['type'].count(), text_auto=True).update_layout(yaxis_title=\"Count\", xaxis_title=\"Type\")"
   ]
  },
  {
   "cell_type": "code",
   "execution_count": 19,
   "id": "3918317c",
   "metadata": {},
   "outputs": [],
   "source": [
    "postprocess_categories()"
   ]
  },
  {
   "cell_type": "code",
   "execution_count": null,
   "id": "23244228",
   "metadata": {},
   "outputs": [],
   "source": []
  }
 ],
 "metadata": {
  "kernelspec": {
   "display_name": "modeling (3.12.10)",
   "language": "python",
   "name": "python3"
  },
  "language_info": {
   "codemirror_mode": {
    "name": "ipython",
    "version": 3
   },
   "file_extension": ".py",
   "mimetype": "text/x-python",
   "name": "python",
   "nbconvert_exporter": "python",
   "pygments_lexer": "ipython3",
   "version": "3.12.10"
  }
 },
 "nbformat": 4,
 "nbformat_minor": 5
}

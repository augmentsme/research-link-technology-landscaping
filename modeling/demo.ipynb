{
 "cells": [
  {
   "cell_type": "code",
   "execution_count": 63,
   "id": "26a671cf",
   "metadata": {},
   "outputs": [
    {
     "name": "stdout",
     "output_type": "stream",
     "text": [
      "The autoreload extension is already loaded. To reload it, use:\n",
      "  %reload_ext autoreload\n"
     ]
    }
   ],
   "source": [
    "%load_ext autoreload\n",
    "%autoreload 2\n",
    "\n",
    "import utils\n",
    "import config\n",
    "import pandas as pd\n",
    "import plotly.express as px"
   ]
  },
  {
   "cell_type": "code",
   "execution_count": 64,
   "id": "45bfa30c",
   "metadata": {},
   "outputs": [
    {
     "data": {
      "text/plain": [
       "<function config.Grants.<lambda>(record)>"
      ]
     },
     "execution_count": 64,
     "metadata": {},
     "output_type": "execute_result"
    }
   ],
   "source": [
    "config.Grants.template"
   ]
  },
  {
   "cell_type": "code",
   "execution_count": 67,
   "id": "6369761b",
   "metadata": {},
   "outputs": [
    {
     "data": {
      "text/plain": [
       "0    Nanomaterials Optical Characterisation Facilit...\n",
       "1    Advanced Geochemical Facility for Climate and ...\n",
       "2    Efficient Coding for Distributed-input Distrib...\n",
       "3    Fluid Dynamics of Circulation: Focus on the Ki...\n",
       "4    Development of Novel Pesticidal Agents. We hav...\n",
       "Name: grant_summary, dtype: object"
      ]
     },
     "execution_count": 67,
     "metadata": {},
     "output_type": "execute_result"
    }
   ],
   "source": [
    "config.Grants.load(as_dataframe=True).head().grant_summary"
   ]
  },
  {
   "cell_type": "code",
   "execution_count": null,
   "id": "a4f15ea8",
   "metadata": {},
   "outputs": [],
   "source": []
  },
  {
   "cell_type": "code",
   "execution_count": null,
   "id": "a7c9cdd4",
   "metadata": {},
   "outputs": [],
   "source": []
  }
 ],
 "metadata": {
  "kernelspec": {
   "display_name": "modeling (3.12.10)",
   "language": "python",
   "name": "python3"
  },
  "language_info": {
   "codemirror_mode": {
    "name": "ipython",
    "version": 3
   },
   "file_extension": ".py",
   "mimetype": "text/x-python",
   "name": "python",
   "nbconvert_exporter": "python",
   "pygments_lexer": "ipython3",
   "version": "3.12.10"
  }
 },
 "nbformat": 4,
 "nbformat_minor": 5
}

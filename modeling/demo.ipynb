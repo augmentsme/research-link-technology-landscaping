{
 "cells": [
  {
   "cell_type": "code",
   "execution_count": 2,
   "id": "15a7f15d",
   "metadata": {},
   "outputs": [
    {
     "name": "stdout",
     "output_type": "stream",
     "text": [
      "The autoreload extension is already loaded. To reload it, use:\n",
      "  %reload_ext autoreload\n"
     ]
    }
   ],
   "source": [
    "%load_ext autoreload\n",
    "%autoreload 2\n",
    "from utils import load_grants\n",
    "import pandas as pd\n",
    "import plotly.express as px\n",
    "import utils"
   ]
  },
  {
   "cell_type": "code",
   "execution_count": 4,
   "id": "35e53e95",
   "metadata": {},
   "outputs": [
    {
     "data": {
      "application/vnd.plotly.v1+json": {
       "config": {
        "plotlyServerURL": "https://plot.ly"
       },
       "data": [
        {
         "hovertemplate": "Year=%{x}<br>Number of Grants=%{y}<extra></extra>",
         "legendgroup": "",
         "marker": {
          "color": "#636efa",
          "pattern": {
           "shape": ""
          }
         },
         "name": "",
         "orientation": "v",
         "showlegend": false,
         "textposition": "auto",
         "type": "bar",
         "x": {
          "bdata": "AAAAAABwn0AAAAAAAGyfQAAAAAAAYJ9AAAAAAABon0AAAAAAAGSfQAAAAAAAVJ9AAAAAAAB4n0AAAAAAAHSfQAAAAAAAUJ9AAAAAAABMn0AAAAAAAFyfQAAAAAAAWJ9AAAAAAACAn0AAAAAAAHyfQAAAAAAASJ9AAAAAAACEn0AAAAAAAIifQAAAAAAAjJ9AAAAAAACQn0AAAAAAAJSfQAAAAAAAnJ9AAAAAAACYn0AAAAAAAKCfQAAAAAAARJ9AAAAAAABAn0AAAAAAADyfQAAAAAAANJ9AAAAAAAA4n0AAAAAAADCfQAAAAAAALJ9AAAAAAAAon0AAAAAAABifQAAAAAAAHJ9AAAAAAAAgn0AAAAAAACSfQAAAAAAAFJ9AAAAAAAAQn0AAAAAAAAyfQAAAAAAACJ9AAAAAAACkn0A=",
          "dtype": "f8"
         },
         "xaxis": "x",
         "y": {
          "bdata": "xwzeC3QLOwvzCtkKuAqwCjQKHQoCCs4JhAlBCQEJ/giFCAsIXgcpBdEEZwS+A7sDmwKFAnwCKAL8AeMB2AHMAcMBngF0ATUB9wAIAAMAAgA=",
          "dtype": "i2"
         },
         "yaxis": "y"
        }
       ],
       "layout": {
        "barmode": "relative",
        "legend": {
         "tracegroupgap": 0
        },
        "template": {
         "data": {
          "bar": [
           {
            "error_x": {
             "color": "#2a3f5f"
            },
            "error_y": {
             "color": "#2a3f5f"
            },
            "marker": {
             "line": {
              "color": "#E5ECF6",
              "width": 0.5
             },
             "pattern": {
              "fillmode": "overlay",
              "size": 10,
              "solidity": 0.2
             }
            },
            "type": "bar"
           }
          ],
          "barpolar": [
           {
            "marker": {
             "line": {
              "color": "#E5ECF6",
              "width": 0.5
             },
             "pattern": {
              "fillmode": "overlay",
              "size": 10,
              "solidity": 0.2
             }
            },
            "type": "barpolar"
           }
          ],
          "carpet": [
           {
            "aaxis": {
             "endlinecolor": "#2a3f5f",
             "gridcolor": "white",
             "linecolor": "white",
             "minorgridcolor": "white",
             "startlinecolor": "#2a3f5f"
            },
            "baxis": {
             "endlinecolor": "#2a3f5f",
             "gridcolor": "white",
             "linecolor": "white",
             "minorgridcolor": "white",
             "startlinecolor": "#2a3f5f"
            },
            "type": "carpet"
           }
          ],
          "choropleth": [
           {
            "colorbar": {
             "outlinewidth": 0,
             "ticks": ""
            },
            "type": "choropleth"
           }
          ],
          "contour": [
           {
            "colorbar": {
             "outlinewidth": 0,
             "ticks": ""
            },
            "colorscale": [
             [
              0,
              "#0d0887"
             ],
             [
              0.1111111111111111,
              "#46039f"
             ],
             [
              0.2222222222222222,
              "#7201a8"
             ],
             [
              0.3333333333333333,
              "#9c179e"
             ],
             [
              0.4444444444444444,
              "#bd3786"
             ],
             [
              0.5555555555555556,
              "#d8576b"
             ],
             [
              0.6666666666666666,
              "#ed7953"
             ],
             [
              0.7777777777777778,
              "#fb9f3a"
             ],
             [
              0.8888888888888888,
              "#fdca26"
             ],
             [
              1,
              "#f0f921"
             ]
            ],
            "type": "contour"
           }
          ],
          "contourcarpet": [
           {
            "colorbar": {
             "outlinewidth": 0,
             "ticks": ""
            },
            "type": "contourcarpet"
           }
          ],
          "heatmap": [
           {
            "colorbar": {
             "outlinewidth": 0,
             "ticks": ""
            },
            "colorscale": [
             [
              0,
              "#0d0887"
             ],
             [
              0.1111111111111111,
              "#46039f"
             ],
             [
              0.2222222222222222,
              "#7201a8"
             ],
             [
              0.3333333333333333,
              "#9c179e"
             ],
             [
              0.4444444444444444,
              "#bd3786"
             ],
             [
              0.5555555555555556,
              "#d8576b"
             ],
             [
              0.6666666666666666,
              "#ed7953"
             ],
             [
              0.7777777777777778,
              "#fb9f3a"
             ],
             [
              0.8888888888888888,
              "#fdca26"
             ],
             [
              1,
              "#f0f921"
             ]
            ],
            "type": "heatmap"
           }
          ],
          "histogram": [
           {
            "marker": {
             "pattern": {
              "fillmode": "overlay",
              "size": 10,
              "solidity": 0.2
             }
            },
            "type": "histogram"
           }
          ],
          "histogram2d": [
           {
            "colorbar": {
             "outlinewidth": 0,
             "ticks": ""
            },
            "colorscale": [
             [
              0,
              "#0d0887"
             ],
             [
              0.1111111111111111,
              "#46039f"
             ],
             [
              0.2222222222222222,
              "#7201a8"
             ],
             [
              0.3333333333333333,
              "#9c179e"
             ],
             [
              0.4444444444444444,
              "#bd3786"
             ],
             [
              0.5555555555555556,
              "#d8576b"
             ],
             [
              0.6666666666666666,
              "#ed7953"
             ],
             [
              0.7777777777777778,
              "#fb9f3a"
             ],
             [
              0.8888888888888888,
              "#fdca26"
             ],
             [
              1,
              "#f0f921"
             ]
            ],
            "type": "histogram2d"
           }
          ],
          "histogram2dcontour": [
           {
            "colorbar": {
             "outlinewidth": 0,
             "ticks": ""
            },
            "colorscale": [
             [
              0,
              "#0d0887"
             ],
             [
              0.1111111111111111,
              "#46039f"
             ],
             [
              0.2222222222222222,
              "#7201a8"
             ],
             [
              0.3333333333333333,
              "#9c179e"
             ],
             [
              0.4444444444444444,
              "#bd3786"
             ],
             [
              0.5555555555555556,
              "#d8576b"
             ],
             [
              0.6666666666666666,
              "#ed7953"
             ],
             [
              0.7777777777777778,
              "#fb9f3a"
             ],
             [
              0.8888888888888888,
              "#fdca26"
             ],
             [
              1,
              "#f0f921"
             ]
            ],
            "type": "histogram2dcontour"
           }
          ],
          "mesh3d": [
           {
            "colorbar": {
             "outlinewidth": 0,
             "ticks": ""
            },
            "type": "mesh3d"
           }
          ],
          "parcoords": [
           {
            "line": {
             "colorbar": {
              "outlinewidth": 0,
              "ticks": ""
             }
            },
            "type": "parcoords"
           }
          ],
          "pie": [
           {
            "automargin": true,
            "type": "pie"
           }
          ],
          "scatter": [
           {
            "fillpattern": {
             "fillmode": "overlay",
             "size": 10,
             "solidity": 0.2
            },
            "type": "scatter"
           }
          ],
          "scatter3d": [
           {
            "line": {
             "colorbar": {
              "outlinewidth": 0,
              "ticks": ""
             }
            },
            "marker": {
             "colorbar": {
              "outlinewidth": 0,
              "ticks": ""
             }
            },
            "type": "scatter3d"
           }
          ],
          "scattercarpet": [
           {
            "marker": {
             "colorbar": {
              "outlinewidth": 0,
              "ticks": ""
             }
            },
            "type": "scattercarpet"
           }
          ],
          "scattergeo": [
           {
            "marker": {
             "colorbar": {
              "outlinewidth": 0,
              "ticks": ""
             }
            },
            "type": "scattergeo"
           }
          ],
          "scattergl": [
           {
            "marker": {
             "colorbar": {
              "outlinewidth": 0,
              "ticks": ""
             }
            },
            "type": "scattergl"
           }
          ],
          "scattermap": [
           {
            "marker": {
             "colorbar": {
              "outlinewidth": 0,
              "ticks": ""
             }
            },
            "type": "scattermap"
           }
          ],
          "scattermapbox": [
           {
            "marker": {
             "colorbar": {
              "outlinewidth": 0,
              "ticks": ""
             }
            },
            "type": "scattermapbox"
           }
          ],
          "scatterpolar": [
           {
            "marker": {
             "colorbar": {
              "outlinewidth": 0,
              "ticks": ""
             }
            },
            "type": "scatterpolar"
           }
          ],
          "scatterpolargl": [
           {
            "marker": {
             "colorbar": {
              "outlinewidth": 0,
              "ticks": ""
             }
            },
            "type": "scatterpolargl"
           }
          ],
          "scatterternary": [
           {
            "marker": {
             "colorbar": {
              "outlinewidth": 0,
              "ticks": ""
             }
            },
            "type": "scatterternary"
           }
          ],
          "surface": [
           {
            "colorbar": {
             "outlinewidth": 0,
             "ticks": ""
            },
            "colorscale": [
             [
              0,
              "#0d0887"
             ],
             [
              0.1111111111111111,
              "#46039f"
             ],
             [
              0.2222222222222222,
              "#7201a8"
             ],
             [
              0.3333333333333333,
              "#9c179e"
             ],
             [
              0.4444444444444444,
              "#bd3786"
             ],
             [
              0.5555555555555556,
              "#d8576b"
             ],
             [
              0.6666666666666666,
              "#ed7953"
             ],
             [
              0.7777777777777778,
              "#fb9f3a"
             ],
             [
              0.8888888888888888,
              "#fdca26"
             ],
             [
              1,
              "#f0f921"
             ]
            ],
            "type": "surface"
           }
          ],
          "table": [
           {
            "cells": {
             "fill": {
              "color": "#EBF0F8"
             },
             "line": {
              "color": "white"
             }
            },
            "header": {
             "fill": {
              "color": "#C8D4E3"
             },
             "line": {
              "color": "white"
             }
            },
            "type": "table"
           }
          ]
         },
         "layout": {
          "annotationdefaults": {
           "arrowcolor": "#2a3f5f",
           "arrowhead": 0,
           "arrowwidth": 1
          },
          "autotypenumbers": "strict",
          "coloraxis": {
           "colorbar": {
            "outlinewidth": 0,
            "ticks": ""
           }
          },
          "colorscale": {
           "diverging": [
            [
             0,
             "#8e0152"
            ],
            [
             0.1,
             "#c51b7d"
            ],
            [
             0.2,
             "#de77ae"
            ],
            [
             0.3,
             "#f1b6da"
            ],
            [
             0.4,
             "#fde0ef"
            ],
            [
             0.5,
             "#f7f7f7"
            ],
            [
             0.6,
             "#e6f5d0"
            ],
            [
             0.7,
             "#b8e186"
            ],
            [
             0.8,
             "#7fbc41"
            ],
            [
             0.9,
             "#4d9221"
            ],
            [
             1,
             "#276419"
            ]
           ],
           "sequential": [
            [
             0,
             "#0d0887"
            ],
            [
             0.1111111111111111,
             "#46039f"
            ],
            [
             0.2222222222222222,
             "#7201a8"
            ],
            [
             0.3333333333333333,
             "#9c179e"
            ],
            [
             0.4444444444444444,
             "#bd3786"
            ],
            [
             0.5555555555555556,
             "#d8576b"
            ],
            [
             0.6666666666666666,
             "#ed7953"
            ],
            [
             0.7777777777777778,
             "#fb9f3a"
            ],
            [
             0.8888888888888888,
             "#fdca26"
            ],
            [
             1,
             "#f0f921"
            ]
           ],
           "sequentialminus": [
            [
             0,
             "#0d0887"
            ],
            [
             0.1111111111111111,
             "#46039f"
            ],
            [
             0.2222222222222222,
             "#7201a8"
            ],
            [
             0.3333333333333333,
             "#9c179e"
            ],
            [
             0.4444444444444444,
             "#bd3786"
            ],
            [
             0.5555555555555556,
             "#d8576b"
            ],
            [
             0.6666666666666666,
             "#ed7953"
            ],
            [
             0.7777777777777778,
             "#fb9f3a"
            ],
            [
             0.8888888888888888,
             "#fdca26"
            ],
            [
             1,
             "#f0f921"
            ]
           ]
          },
          "colorway": [
           "#636efa",
           "#EF553B",
           "#00cc96",
           "#ab63fa",
           "#FFA15A",
           "#19d3f3",
           "#FF6692",
           "#B6E880",
           "#FF97FF",
           "#FECB52"
          ],
          "font": {
           "color": "#2a3f5f"
          },
          "geo": {
           "bgcolor": "white",
           "lakecolor": "white",
           "landcolor": "#E5ECF6",
           "showlakes": true,
           "showland": true,
           "subunitcolor": "white"
          },
          "hoverlabel": {
           "align": "left"
          },
          "hovermode": "closest",
          "mapbox": {
           "style": "light"
          },
          "paper_bgcolor": "white",
          "plot_bgcolor": "#E5ECF6",
          "polar": {
           "angularaxis": {
            "gridcolor": "white",
            "linecolor": "white",
            "ticks": ""
           },
           "bgcolor": "#E5ECF6",
           "radialaxis": {
            "gridcolor": "white",
            "linecolor": "white",
            "ticks": ""
           }
          },
          "scene": {
           "xaxis": {
            "backgroundcolor": "#E5ECF6",
            "gridcolor": "white",
            "gridwidth": 2,
            "linecolor": "white",
            "showbackground": true,
            "ticks": "",
            "zerolinecolor": "white"
           },
           "yaxis": {
            "backgroundcolor": "#E5ECF6",
            "gridcolor": "white",
            "gridwidth": 2,
            "linecolor": "white",
            "showbackground": true,
            "ticks": "",
            "zerolinecolor": "white"
           },
           "zaxis": {
            "backgroundcolor": "#E5ECF6",
            "gridcolor": "white",
            "gridwidth": 2,
            "linecolor": "white",
            "showbackground": true,
            "ticks": "",
            "zerolinecolor": "white"
           }
          },
          "shapedefaults": {
           "line": {
            "color": "#2a3f5f"
           }
          },
          "ternary": {
           "aaxis": {
            "gridcolor": "white",
            "linecolor": "white",
            "ticks": ""
           },
           "baxis": {
            "gridcolor": "white",
            "linecolor": "white",
            "ticks": ""
           },
           "bgcolor": "#E5ECF6",
           "caxis": {
            "gridcolor": "white",
            "linecolor": "white",
            "ticks": ""
           }
          },
          "title": {
           "x": 0.05
          },
          "xaxis": {
           "automargin": true,
           "gridcolor": "white",
           "linecolor": "white",
           "ticks": "",
           "title": {
            "standoff": 15
           },
           "zerolinecolor": "white",
           "zerolinewidth": 2
          },
          "yaxis": {
           "automargin": true,
           "gridcolor": "white",
           "linecolor": "white",
           "ticks": "",
           "title": {
            "standoff": 15
           },
           "zerolinecolor": "white",
           "zerolinewidth": 2
          }
         }
        },
        "title": {
         "text": "Grants by Year"
        },
        "xaxis": {
         "anchor": "y",
         "domain": [
          0,
          1
         ],
         "title": {
          "text": "Year"
         }
        },
        "yaxis": {
         "anchor": "x",
         "domain": [
          0,
          1
         ],
         "title": {
          "text": "Number of Grants"
         }
        }
       }
      }
     },
     "metadata": {},
     "output_type": "display_data"
    }
   ],
   "source": [
    "grants = pd.DataFrame(utils.load_grants())\n",
    "grants_by_year = grants.start_year.value_counts()\n",
    "# Create Plotly Express bar chart with title and axis labels\n",
    "fig = px.bar(\n",
    "    x=grants_by_year.index,\n",
    "    y=grants_by_year.values,\n",
    "    labels={\"x\": \"Year\", \"y\": \"Number of Grants\"},\n",
    "    title=\"Grants by Year\"\n",
    ")\n",
    "fig.show()"
   ]
  },
  {
   "cell_type": "code",
   "execution_count": 10,
   "id": "b3667456",
   "metadata": {},
   "outputs": [],
   "source": [
    "keywords = pd.DataFrame(utils.load_keywords())"
   ]
  },
  {
   "cell_type": "code",
   "execution_count": null,
   "id": "cb68abe9",
   "metadata": {},
   "outputs": [
    {
     "data": {
      "text/plain": [
       "0           1\n",
       "1          10\n",
       "2           2\n",
       "3           3\n",
       "4         217\n",
       "         ... \n",
       "392462      1\n",
       "392463      1\n",
       "392464      1\n",
       "392465      1\n",
       "392466      1\n",
       "Name: grants, Length: 392467, dtype: int64"
      ]
     },
     "execution_count": 21,
     "metadata": {},
     "output_type": "execute_result"
    }
   ],
   "source": []
  },
  {
   "cell_type": "code",
   "execution_count": 24,
   "id": "2367a251",
   "metadata": {},
   "outputs": [
    {
     "data": {
      "application/vnd.plotly.v1+json": {
       "config": {
        "plotlyServerURL": "https://plot.ly"
       },
       "data": [
        {
         "hovertemplate": "Number of Grants=%{x}<br>Keyword=%{y}<extra></extra>",
         "legendgroup": "",
         "marker": {
          "color": "#636efa",
          "pattern": {
           "shape": ""
          }
         },
         "name": "",
         "orientation": "h",
         "showlegend": false,
         "text": {
          "bdata": "AAAAAAAgdEAAAAAAACB0QAAAAAAAwHRAAAAAAAAwdUAAAAAAAEB2QAAAAAAAQHZAAAAAAACAdkAAAAAAANB2QAAAAAAA0HdAAAAAAACQeUAAAAAAALB5QAAAAAAAAHpAAAAAAACgfkAAAAAAAKB+QAAAAAAAEH9AAAAAAAAgf0AAAAAAAMCAQAAAAAAAeIFAAAAAAAA4iUAAAAAAAOCJQA==",
          "dtype": "f8"
         },
         "textposition": "auto",
         "type": "bar",
         "x": {
          "bdata": "QgFCAUwBUwFkAWQBaAFtAX0BmQGbAaAB6gHqAfEB8gEYAi8CJwM8Aw==",
          "dtype": "i2"
         },
         "xaxis": "x",
         "y": [
          "therapeutic targets",
          "developmental biology",
          "climate change impact",
          "public health policy",
          "international collaboration",
          "structural biology",
          "translational research",
          "clinical translation",
          "gene regulation",
          "bio-integrated nano-photonics",
          "regenerative medicine",
          "neuroimaging",
          "biomarker discovery",
          "molecular mechanisms",
          "precision medicine",
          "interdisciplinary collaboration",
          "epigenetic regulation",
          "Host-pathogen interactions",
          "health equity",
          "interdisciplinary research"
         ],
         "yaxis": "y"
        }
       ],
       "layout": {
        "barmode": "relative",
        "height": 800,
        "legend": {
         "tracegroupgap": 0
        },
        "margin": {
         "b": 20,
         "l": 200,
         "r": 20,
         "t": 60
        },
        "template": {
         "data": {
          "bar": [
           {
            "error_x": {
             "color": "#2a3f5f"
            },
            "error_y": {
             "color": "#2a3f5f"
            },
            "marker": {
             "line": {
              "color": "#E5ECF6",
              "width": 0.5
             },
             "pattern": {
              "fillmode": "overlay",
              "size": 10,
              "solidity": 0.2
             }
            },
            "type": "bar"
           }
          ],
          "barpolar": [
           {
            "marker": {
             "line": {
              "color": "#E5ECF6",
              "width": 0.5
             },
             "pattern": {
              "fillmode": "overlay",
              "size": 10,
              "solidity": 0.2
             }
            },
            "type": "barpolar"
           }
          ],
          "carpet": [
           {
            "aaxis": {
             "endlinecolor": "#2a3f5f",
             "gridcolor": "white",
             "linecolor": "white",
             "minorgridcolor": "white",
             "startlinecolor": "#2a3f5f"
            },
            "baxis": {
             "endlinecolor": "#2a3f5f",
             "gridcolor": "white",
             "linecolor": "white",
             "minorgridcolor": "white",
             "startlinecolor": "#2a3f5f"
            },
            "type": "carpet"
           }
          ],
          "choropleth": [
           {
            "colorbar": {
             "outlinewidth": 0,
             "ticks": ""
            },
            "type": "choropleth"
           }
          ],
          "contour": [
           {
            "colorbar": {
             "outlinewidth": 0,
             "ticks": ""
            },
            "colorscale": [
             [
              0,
              "#0d0887"
             ],
             [
              0.1111111111111111,
              "#46039f"
             ],
             [
              0.2222222222222222,
              "#7201a8"
             ],
             [
              0.3333333333333333,
              "#9c179e"
             ],
             [
              0.4444444444444444,
              "#bd3786"
             ],
             [
              0.5555555555555556,
              "#d8576b"
             ],
             [
              0.6666666666666666,
              "#ed7953"
             ],
             [
              0.7777777777777778,
              "#fb9f3a"
             ],
             [
              0.8888888888888888,
              "#fdca26"
             ],
             [
              1,
              "#f0f921"
             ]
            ],
            "type": "contour"
           }
          ],
          "contourcarpet": [
           {
            "colorbar": {
             "outlinewidth": 0,
             "ticks": ""
            },
            "type": "contourcarpet"
           }
          ],
          "heatmap": [
           {
            "colorbar": {
             "outlinewidth": 0,
             "ticks": ""
            },
            "colorscale": [
             [
              0,
              "#0d0887"
             ],
             [
              0.1111111111111111,
              "#46039f"
             ],
             [
              0.2222222222222222,
              "#7201a8"
             ],
             [
              0.3333333333333333,
              "#9c179e"
             ],
             [
              0.4444444444444444,
              "#bd3786"
             ],
             [
              0.5555555555555556,
              "#d8576b"
             ],
             [
              0.6666666666666666,
              "#ed7953"
             ],
             [
              0.7777777777777778,
              "#fb9f3a"
             ],
             [
              0.8888888888888888,
              "#fdca26"
             ],
             [
              1,
              "#f0f921"
             ]
            ],
            "type": "heatmap"
           }
          ],
          "histogram": [
           {
            "marker": {
             "pattern": {
              "fillmode": "overlay",
              "size": 10,
              "solidity": 0.2
             }
            },
            "type": "histogram"
           }
          ],
          "histogram2d": [
           {
            "colorbar": {
             "outlinewidth": 0,
             "ticks": ""
            },
            "colorscale": [
             [
              0,
              "#0d0887"
             ],
             [
              0.1111111111111111,
              "#46039f"
             ],
             [
              0.2222222222222222,
              "#7201a8"
             ],
             [
              0.3333333333333333,
              "#9c179e"
             ],
             [
              0.4444444444444444,
              "#bd3786"
             ],
             [
              0.5555555555555556,
              "#d8576b"
             ],
             [
              0.6666666666666666,
              "#ed7953"
             ],
             [
              0.7777777777777778,
              "#fb9f3a"
             ],
             [
              0.8888888888888888,
              "#fdca26"
             ],
             [
              1,
              "#f0f921"
             ]
            ],
            "type": "histogram2d"
           }
          ],
          "histogram2dcontour": [
           {
            "colorbar": {
             "outlinewidth": 0,
             "ticks": ""
            },
            "colorscale": [
             [
              0,
              "#0d0887"
             ],
             [
              0.1111111111111111,
              "#46039f"
             ],
             [
              0.2222222222222222,
              "#7201a8"
             ],
             [
              0.3333333333333333,
              "#9c179e"
             ],
             [
              0.4444444444444444,
              "#bd3786"
             ],
             [
              0.5555555555555556,
              "#d8576b"
             ],
             [
              0.6666666666666666,
              "#ed7953"
             ],
             [
              0.7777777777777778,
              "#fb9f3a"
             ],
             [
              0.8888888888888888,
              "#fdca26"
             ],
             [
              1,
              "#f0f921"
             ]
            ],
            "type": "histogram2dcontour"
           }
          ],
          "mesh3d": [
           {
            "colorbar": {
             "outlinewidth": 0,
             "ticks": ""
            },
            "type": "mesh3d"
           }
          ],
          "parcoords": [
           {
            "line": {
             "colorbar": {
              "outlinewidth": 0,
              "ticks": ""
             }
            },
            "type": "parcoords"
           }
          ],
          "pie": [
           {
            "automargin": true,
            "type": "pie"
           }
          ],
          "scatter": [
           {
            "fillpattern": {
             "fillmode": "overlay",
             "size": 10,
             "solidity": 0.2
            },
            "type": "scatter"
           }
          ],
          "scatter3d": [
           {
            "line": {
             "colorbar": {
              "outlinewidth": 0,
              "ticks": ""
             }
            },
            "marker": {
             "colorbar": {
              "outlinewidth": 0,
              "ticks": ""
             }
            },
            "type": "scatter3d"
           }
          ],
          "scattercarpet": [
           {
            "marker": {
             "colorbar": {
              "outlinewidth": 0,
              "ticks": ""
             }
            },
            "type": "scattercarpet"
           }
          ],
          "scattergeo": [
           {
            "marker": {
             "colorbar": {
              "outlinewidth": 0,
              "ticks": ""
             }
            },
            "type": "scattergeo"
           }
          ],
          "scattergl": [
           {
            "marker": {
             "colorbar": {
              "outlinewidth": 0,
              "ticks": ""
             }
            },
            "type": "scattergl"
           }
          ],
          "scattermap": [
           {
            "marker": {
             "colorbar": {
              "outlinewidth": 0,
              "ticks": ""
             }
            },
            "type": "scattermap"
           }
          ],
          "scattermapbox": [
           {
            "marker": {
             "colorbar": {
              "outlinewidth": 0,
              "ticks": ""
             }
            },
            "type": "scattermapbox"
           }
          ],
          "scatterpolar": [
           {
            "marker": {
             "colorbar": {
              "outlinewidth": 0,
              "ticks": ""
             }
            },
            "type": "scatterpolar"
           }
          ],
          "scatterpolargl": [
           {
            "marker": {
             "colorbar": {
              "outlinewidth": 0,
              "ticks": ""
             }
            },
            "type": "scatterpolargl"
           }
          ],
          "scatterternary": [
           {
            "marker": {
             "colorbar": {
              "outlinewidth": 0,
              "ticks": ""
             }
            },
            "type": "scatterternary"
           }
          ],
          "surface": [
           {
            "colorbar": {
             "outlinewidth": 0,
             "ticks": ""
            },
            "colorscale": [
             [
              0,
              "#0d0887"
             ],
             [
              0.1111111111111111,
              "#46039f"
             ],
             [
              0.2222222222222222,
              "#7201a8"
             ],
             [
              0.3333333333333333,
              "#9c179e"
             ],
             [
              0.4444444444444444,
              "#bd3786"
             ],
             [
              0.5555555555555556,
              "#d8576b"
             ],
             [
              0.6666666666666666,
              "#ed7953"
             ],
             [
              0.7777777777777778,
              "#fb9f3a"
             ],
             [
              0.8888888888888888,
              "#fdca26"
             ],
             [
              1,
              "#f0f921"
             ]
            ],
            "type": "surface"
           }
          ],
          "table": [
           {
            "cells": {
             "fill": {
              "color": "#EBF0F8"
             },
             "line": {
              "color": "white"
             }
            },
            "header": {
             "fill": {
              "color": "#C8D4E3"
             },
             "line": {
              "color": "white"
             }
            },
            "type": "table"
           }
          ]
         },
         "layout": {
          "annotationdefaults": {
           "arrowcolor": "#2a3f5f",
           "arrowhead": 0,
           "arrowwidth": 1
          },
          "autotypenumbers": "strict",
          "coloraxis": {
           "colorbar": {
            "outlinewidth": 0,
            "ticks": ""
           }
          },
          "colorscale": {
           "diverging": [
            [
             0,
             "#8e0152"
            ],
            [
             0.1,
             "#c51b7d"
            ],
            [
             0.2,
             "#de77ae"
            ],
            [
             0.3,
             "#f1b6da"
            ],
            [
             0.4,
             "#fde0ef"
            ],
            [
             0.5,
             "#f7f7f7"
            ],
            [
             0.6,
             "#e6f5d0"
            ],
            [
             0.7,
             "#b8e186"
            ],
            [
             0.8,
             "#7fbc41"
            ],
            [
             0.9,
             "#4d9221"
            ],
            [
             1,
             "#276419"
            ]
           ],
           "sequential": [
            [
             0,
             "#0d0887"
            ],
            [
             0.1111111111111111,
             "#46039f"
            ],
            [
             0.2222222222222222,
             "#7201a8"
            ],
            [
             0.3333333333333333,
             "#9c179e"
            ],
            [
             0.4444444444444444,
             "#bd3786"
            ],
            [
             0.5555555555555556,
             "#d8576b"
            ],
            [
             0.6666666666666666,
             "#ed7953"
            ],
            [
             0.7777777777777778,
             "#fb9f3a"
            ],
            [
             0.8888888888888888,
             "#fdca26"
            ],
            [
             1,
             "#f0f921"
            ]
           ],
           "sequentialminus": [
            [
             0,
             "#0d0887"
            ],
            [
             0.1111111111111111,
             "#46039f"
            ],
            [
             0.2222222222222222,
             "#7201a8"
            ],
            [
             0.3333333333333333,
             "#9c179e"
            ],
            [
             0.4444444444444444,
             "#bd3786"
            ],
            [
             0.5555555555555556,
             "#d8576b"
            ],
            [
             0.6666666666666666,
             "#ed7953"
            ],
            [
             0.7777777777777778,
             "#fb9f3a"
            ],
            [
             0.8888888888888888,
             "#fdca26"
            ],
            [
             1,
             "#f0f921"
            ]
           ]
          },
          "colorway": [
           "#636efa",
           "#EF553B",
           "#00cc96",
           "#ab63fa",
           "#FFA15A",
           "#19d3f3",
           "#FF6692",
           "#B6E880",
           "#FF97FF",
           "#FECB52"
          ],
          "font": {
           "color": "#2a3f5f"
          },
          "geo": {
           "bgcolor": "white",
           "lakecolor": "white",
           "landcolor": "#E5ECF6",
           "showlakes": true,
           "showland": true,
           "subunitcolor": "white"
          },
          "hoverlabel": {
           "align": "left"
          },
          "hovermode": "closest",
          "mapbox": {
           "style": "light"
          },
          "paper_bgcolor": "white",
          "plot_bgcolor": "#E5ECF6",
          "polar": {
           "angularaxis": {
            "gridcolor": "white",
            "linecolor": "white",
            "ticks": ""
           },
           "bgcolor": "#E5ECF6",
           "radialaxis": {
            "gridcolor": "white",
            "linecolor": "white",
            "ticks": ""
           }
          },
          "scene": {
           "xaxis": {
            "backgroundcolor": "#E5ECF6",
            "gridcolor": "white",
            "gridwidth": 2,
            "linecolor": "white",
            "showbackground": true,
            "ticks": "",
            "zerolinecolor": "white"
           },
           "yaxis": {
            "backgroundcolor": "#E5ECF6",
            "gridcolor": "white",
            "gridwidth": 2,
            "linecolor": "white",
            "showbackground": true,
            "ticks": "",
            "zerolinecolor": "white"
           },
           "zaxis": {
            "backgroundcolor": "#E5ECF6",
            "gridcolor": "white",
            "gridwidth": 2,
            "linecolor": "white",
            "showbackground": true,
            "ticks": "",
            "zerolinecolor": "white"
           }
          },
          "shapedefaults": {
           "line": {
            "color": "#2a3f5f"
           }
          },
          "ternary": {
           "aaxis": {
            "gridcolor": "white",
            "linecolor": "white",
            "ticks": ""
           },
           "baxis": {
            "gridcolor": "white",
            "linecolor": "white",
            "ticks": ""
           },
           "bgcolor": "#E5ECF6",
           "caxis": {
            "gridcolor": "white",
            "linecolor": "white",
            "ticks": ""
           }
          },
          "title": {
           "x": 0.05
          },
          "xaxis": {
           "automargin": true,
           "gridcolor": "white",
           "linecolor": "white",
           "ticks": "",
           "title": {
            "standoff": 15
           },
           "zerolinecolor": "white",
           "zerolinewidth": 2
          },
          "yaxis": {
           "automargin": true,
           "gridcolor": "white",
           "linecolor": "white",
           "ticks": "",
           "title": {
            "standoff": 15
           },
           "zerolinecolor": "white",
           "zerolinewidth": 2
          }
         }
        },
        "title": {
         "text": "Top 20 Keywords by Number of Grants"
        },
        "xaxis": {
         "anchor": "y",
         "domain": [
          0,
          1
         ],
         "title": {
          "text": "Number of Grants"
         }
        },
        "yaxis": {
         "anchor": "x",
         "domain": [
          0,
          1
         ],
         "title": {
          "text": "Keyword"
         }
        }
       }
      }
     },
     "metadata": {},
     "output_type": "display_data"
    }
   ],
   "source": [
    "\n",
    "\n",
    "keywords.loc[:, 'grants_len'] = keywords.grants.map(len)\n",
    "keywords_sorted = keywords.sort_values('grants_len', ascending=False).reset_index(drop=True)\n",
    "\n",
    "\n",
    "N = 20\n",
    "top_keywords = keywords_sorted[['term', 'grants_len']].head(N).copy()\n",
    "top_keywords = top_keywords.iloc[::-1]  # reverse for top-to-bottom display\n",
    "\n",
    "fig_keywords = px.bar(\n",
    "    top_keywords,\n",
    "    x='grants_len',\n",
    "    y='term',\n",
    "    orientation='h',\n",
    "    labels={'grants_len': 'Number of Grants', 'term': 'Keyword'},\n",
    "    title=f'Top {N} Keywords by Number of Grants',\n",
    "    height=400 + 20 * N\n",
    ")\n",
    "fig_keywords.update_traces(text=top_keywords['grants_len'], textposition='auto')\n",
    "fig_keywords.update_layout(margin=dict(l=200, r=20, t=60, b=20))\n",
    "fig_keywords.show()"
   ]
  },
  {
   "cell_type": "code",
   "execution_count": null,
   "id": "248e37c9",
   "metadata": {},
   "outputs": [
    {
     "data": {
      "text/html": [
       "<div>\n",
       "<style scoped>\n",
       "    .dataframe tbody tr th:only-of-type {\n",
       "        vertical-align: middle;\n",
       "    }\n",
       "\n",
       "    .dataframe tbody tr th {\n",
       "        vertical-align: top;\n",
       "    }\n",
       "\n",
       "    .dataframe thead th {\n",
       "        text-align: right;\n",
       "    }\n",
       "</style>\n",
       "<table border=\"1\" class=\"dataframe\">\n",
       "  <thead>\n",
       "    <tr style=\"text-align: right;\">\n",
       "      <th></th>\n",
       "      <th>id</th>\n",
       "      <th>title</th>\n",
       "      <th>grant_summary</th>\n",
       "      <th>funding_amount</th>\n",
       "      <th>start_year</th>\n",
       "      <th>end_year</th>\n",
       "      <th>funder</th>\n",
       "      <th>for_primary</th>\n",
       "      <th>for</th>\n",
       "    </tr>\n",
       "  </thead>\n",
       "  <tbody>\n",
       "    <tr>\n",
       "      <th>0</th>\n",
       "      <td>arc/DP220100606</td>\n",
       "      <td>Australia's variable rainfall - how dry or wet...</td>\n",
       "      <td>Australia's variable rainfall - how dry or wet...</td>\n",
       "      <td>353000.00</td>\n",
       "      <td>2022.0</td>\n",
       "      <td>2025.0</td>\n",
       "      <td>arc.gov.au</td>\n",
       "      <td>406.0</td>\n",
       "      <td>040104,0406,040605,040608</td>\n",
       "    </tr>\n",
       "    <tr>\n",
       "      <th>1</th>\n",
       "      <td>arc/LP0347670</td>\n",
       "      <td>Interplay of Microbiological Corrosion and All...</td>\n",
       "      <td>Interplay of Microbiological Corrosion and All...</td>\n",
       "      <td>88000.00</td>\n",
       "      <td>2004.0</td>\n",
       "      <td>2008.0</td>\n",
       "      <td>arc.gov.au</td>\n",
       "      <td>912.0</td>\n",
       "      <td>0912</td>\n",
       "    </tr>\n",
       "    <tr>\n",
       "      <th>2</th>\n",
       "      <td>arc/DP1097177</td>\n",
       "      <td>The economics of happiness, public policy, and...</td>\n",
       "      <td>The economics of happiness, public policy, and...</td>\n",
       "      <td>367607.00</td>\n",
       "      <td>2010.0</td>\n",
       "      <td>2014.0</td>\n",
       "      <td>arc.gov.au</td>\n",
       "      <td>1402.0</td>\n",
       "      <td>1402</td>\n",
       "    </tr>\n",
       "    <tr>\n",
       "      <th>3</th>\n",
       "      <td>arc/DP0210999</td>\n",
       "      <td>Asynchronous Continuous Time Conditioning.</td>\n",
       "      <td>Asynchronous Continuous Time Conditioning. Met...</td>\n",
       "      <td>211164.00</td>\n",
       "      <td>2002.0</td>\n",
       "      <td>2008.0</td>\n",
       "      <td>arc.gov.au</td>\n",
       "      <td>806.0</td>\n",
       "      <td>0806</td>\n",
       "    </tr>\n",
       "    <tr>\n",
       "      <th>4</th>\n",
       "      <td>arc/DP130101838</td>\n",
       "      <td>Turning homogeneous catalysts into heterogeneo...</td>\n",
       "      <td>Turning homogeneous catalysts into heterogeneo...</td>\n",
       "      <td>390000.00</td>\n",
       "      <td>2013.0</td>\n",
       "      <td>2016.0</td>\n",
       "      <td>arc.gov.au</td>\n",
       "      <td>399.0</td>\n",
       "      <td>030603,030606,0399,039904</td>\n",
       "    </tr>\n",
       "    <tr>\n",
       "      <th>...</th>\n",
       "      <td>...</td>\n",
       "      <td>...</td>\n",
       "      <td>...</td>\n",
       "      <td>...</td>\n",
       "      <td>...</td>\n",
       "      <td>...</td>\n",
       "      <td>...</td>\n",
       "      <td>...</td>\n",
       "      <td>...</td>\n",
       "    </tr>\n",
       "    <tr>\n",
       "      <th>60880</th>\n",
       "      <td>nhmrc/254727</td>\n",
       "      <td>Synthesis and purification of flavivirus-speci...</td>\n",
       "      <td>In this proposal we suggest to develop an anti...</td>\n",
       "      <td>140000.00</td>\n",
       "      <td>2003.0</td>\n",
       "      <td>2004.0</td>\n",
       "      <td>National Health and Medical Research Council</td>\n",
       "      <td>NaN</td>\n",
       "      <td>NaN</td>\n",
       "    </tr>\n",
       "    <tr>\n",
       "      <th>60881</th>\n",
       "      <td>nhmrc/932028</td>\n",
       "      <td>Efficacy of conductive education for children ...</td>\n",
       "      <td></td>\n",
       "      <td>125733.60</td>\n",
       "      <td>1993.0</td>\n",
       "      <td>1995.0</td>\n",
       "      <td>National Health and Medical Research Council</td>\n",
       "      <td>NaN</td>\n",
       "      <td>NaN</td>\n",
       "    </tr>\n",
       "    <tr>\n",
       "      <th>60882</th>\n",
       "      <td>nhmrc/960887</td>\n",
       "      <td>How physiological factors influence the side e...</td>\n",
       "      <td></td>\n",
       "      <td>165174.22</td>\n",
       "      <td>1996.0</td>\n",
       "      <td>1998.0</td>\n",
       "      <td>National Health and Medical Research Council</td>\n",
       "      <td>NaN</td>\n",
       "      <td>NaN</td>\n",
       "    </tr>\n",
       "    <tr>\n",
       "      <th>60883</th>\n",
       "      <td>nhmrc/316928</td>\n",
       "      <td>Costimulatory mechanisms for enhancing CD8 T c...</td>\n",
       "      <td>Following an infection, a person's immune syst...</td>\n",
       "      <td>438750.00</td>\n",
       "      <td>2005.0</td>\n",
       "      <td>2007.0</td>\n",
       "      <td>National Health and Medical Research Council</td>\n",
       "      <td>NaN</td>\n",
       "      <td>NaN</td>\n",
       "    </tr>\n",
       "    <tr>\n",
       "      <th>60884</th>\n",
       "      <td>nhmrc/330455</td>\n",
       "      <td>Influence of persuasion, modelling and mastery...</td>\n",
       "      <td></td>\n",
       "      <td>42068.00</td>\n",
       "      <td>2005.0</td>\n",
       "      <td>2006.0</td>\n",
       "      <td>National Health and Medical Research Council</td>\n",
       "      <td>NaN</td>\n",
       "      <td>NaN</td>\n",
       "    </tr>\n",
       "  </tbody>\n",
       "</table>\n",
       "<p>60885 rows × 9 columns</p>\n",
       "</div>"
      ],
      "text/plain": [
       "                    id                                              title  \\\n",
       "0      arc/DP220100606  Australia's variable rainfall - how dry or wet...   \n",
       "1        arc/LP0347670  Interplay of Microbiological Corrosion and All...   \n",
       "2        arc/DP1097177  The economics of happiness, public policy, and...   \n",
       "3        arc/DP0210999         Asynchronous Continuous Time Conditioning.   \n",
       "4      arc/DP130101838  Turning homogeneous catalysts into heterogeneo...   \n",
       "...                ...                                                ...   \n",
       "60880     nhmrc/254727  Synthesis and purification of flavivirus-speci...   \n",
       "60881     nhmrc/932028  Efficacy of conductive education for children ...   \n",
       "60882     nhmrc/960887  How physiological factors influence the side e...   \n",
       "60883     nhmrc/316928  Costimulatory mechanisms for enhancing CD8 T c...   \n",
       "60884     nhmrc/330455  Influence of persuasion, modelling and mastery...   \n",
       "\n",
       "                                           grant_summary  funding_amount  \\\n",
       "0      Australia's variable rainfall - how dry or wet...       353000.00   \n",
       "1      Interplay of Microbiological Corrosion and All...        88000.00   \n",
       "2      The economics of happiness, public policy, and...       367607.00   \n",
       "3      Asynchronous Continuous Time Conditioning. Met...       211164.00   \n",
       "4      Turning homogeneous catalysts into heterogeneo...       390000.00   \n",
       "...                                                  ...             ...   \n",
       "60880  In this proposal we suggest to develop an anti...       140000.00   \n",
       "60881                                                          125733.60   \n",
       "60882                                                          165174.22   \n",
       "60883  Following an infection, a person's immune syst...       438750.00   \n",
       "60884                                                           42068.00   \n",
       "\n",
       "       start_year  end_year                                        funder  \\\n",
       "0          2022.0    2025.0                                    arc.gov.au   \n",
       "1          2004.0    2008.0                                    arc.gov.au   \n",
       "2          2010.0    2014.0                                    arc.gov.au   \n",
       "3          2002.0    2008.0                                    arc.gov.au   \n",
       "4          2013.0    2016.0                                    arc.gov.au   \n",
       "...           ...       ...                                           ...   \n",
       "60880      2003.0    2004.0  National Health and Medical Research Council   \n",
       "60881      1993.0    1995.0  National Health and Medical Research Council   \n",
       "60882      1996.0    1998.0  National Health and Medical Research Council   \n",
       "60883      2005.0    2007.0  National Health and Medical Research Council   \n",
       "60884      2005.0    2006.0  National Health and Medical Research Council   \n",
       "\n",
       "       for_primary                        for  \n",
       "0            406.0  040104,0406,040605,040608  \n",
       "1            912.0                       0912  \n",
       "2           1402.0                       1402  \n",
       "3            806.0                       0806  \n",
       "4            399.0  030603,030606,0399,039904  \n",
       "...            ...                        ...  \n",
       "60880          NaN                        NaN  \n",
       "60881          NaN                        NaN  \n",
       "60882          NaN                        NaN  \n",
       "60883          NaN                        NaN  \n",
       "60884          NaN                        NaN  \n",
       "\n",
       "[60885 rows x 9 columns]"
      ]
     },
     "execution_count": 25,
     "metadata": {},
     "output_type": "execute_result"
    }
   ],
   "source": [
    "grants"
   ]
  },
  {
   "cell_type": "code",
   "execution_count": 26,
   "id": "a70ba11e",
   "metadata": {},
   "outputs": [
    {
     "data": {
      "text/html": [
       "<div>\n",
       "<style scoped>\n",
       "    .dataframe tbody tr th:only-of-type {\n",
       "        vertical-align: middle;\n",
       "    }\n",
       "\n",
       "    .dataframe tbody tr th {\n",
       "        vertical-align: top;\n",
       "    }\n",
       "\n",
       "    .dataframe thead th {\n",
       "        text-align: right;\n",
       "    }\n",
       "</style>\n",
       "<table border=\"1\" class=\"dataframe\">\n",
       "  <thead>\n",
       "    <tr style=\"text-align: right;\">\n",
       "      <th></th>\n",
       "      <th>term</th>\n",
       "      <th>type</th>\n",
       "      <th>description</th>\n",
       "      <th>grants</th>\n",
       "      <th>grants_len</th>\n",
       "    </tr>\n",
       "  </thead>\n",
       "  <tbody>\n",
       "    <tr>\n",
       "      <th>0</th>\n",
       "      <td>animal ethics</td>\n",
       "      <td>Methodology</td>\n",
       "      <td>A framework for evaluating the moral and socie...</td>\n",
       "      <td>[arc/ANZCCART]</td>\n",
       "      <td>1</td>\n",
       "    </tr>\n",
       "    <tr>\n",
       "      <th>1</th>\n",
       "      <td>research ethics</td>\n",
       "      <td>Methodology</td>\n",
       "      <td>Incorporates ethical review and compliance fra...</td>\n",
       "      <td>[arc/ANZCCART, arc/DP0343014, arc/DP110103193,...</td>\n",
       "      <td>10</td>\n",
       "    </tr>\n",
       "    <tr>\n",
       "      <th>2</th>\n",
       "      <td>consensus-building</td>\n",
       "      <td>Methodology</td>\n",
       "      <td>A process through which diverse stakeholders (...</td>\n",
       "      <td>[arc/ANZCCART, arc/DP0667042]</td>\n",
       "      <td>2</td>\n",
       "    </tr>\n",
       "    <tr>\n",
       "      <th>3</th>\n",
       "      <td>scientific integrity</td>\n",
       "      <td>Application</td>\n",
       "      <td>Enhancing the quality and fairness of scientif...</td>\n",
       "      <td>[arc/ANZCCART, arc/DP160102523, arc/FT110100658]</td>\n",
       "      <td>3</td>\n",
       "    </tr>\n",
       "    <tr>\n",
       "      <th>4</th>\n",
       "      <td>community engagement</td>\n",
       "      <td>Methodology</td>\n",
       "      <td>Active involvement of community members in the...</td>\n",
       "      <td>[arc/ANZCCART, arc/DE130100400, arc/DE13010051...</td>\n",
       "      <td>217</td>\n",
       "    </tr>\n",
       "    <tr>\n",
       "      <th>...</th>\n",
       "      <td>...</td>\n",
       "      <td>...</td>\n",
       "      <td>...</td>\n",
       "      <td>...</td>\n",
       "      <td>...</td>\n",
       "    </tr>\n",
       "    <tr>\n",
       "      <th>392462</th>\n",
       "      <td>Superiority trial design comparing central BP‑...</td>\n",
       "      <td>Methodology</td>\n",
       "      <td>Randomised superiority framework to test wheth...</td>\n",
       "      <td>[nhmrc/http://purl.org/au-research/grants/nhmr...</td>\n",
       "      <td>1</td>\n",
       "    </tr>\n",
       "    <tr>\n",
       "      <th>392463</th>\n",
       "      <td>aortic pressure</td>\n",
       "      <td>Methodology</td>\n",
       "      <td>Direct measurement of pressure in the aorta, u...</td>\n",
       "      <td>[nhmrc/http://purl.org/au-research/grants/nhmr...</td>\n",
       "      <td>1</td>\n",
       "    </tr>\n",
       "    <tr>\n",
       "      <th>392464</th>\n",
       "      <td>clinical application of central BP</td>\n",
       "      <td>Application</td>\n",
       "      <td>Use of central blood pressure data in diagnosi...</td>\n",
       "      <td>[nhmrc/http://purl.org/au-research/grants/nhmr...</td>\n",
       "      <td>1</td>\n",
       "    </tr>\n",
       "    <tr>\n",
       "      <th>392465</th>\n",
       "      <td>cardiac workload</td>\n",
       "      <td>Application</td>\n",
       "      <td>Assessment of the strain placed on the heart d...</td>\n",
       "      <td>[nhmrc/http://purl.org/au-research/grants/nhmr...</td>\n",
       "      <td>1</td>\n",
       "    </tr>\n",
       "    <tr>\n",
       "      <th>392466</th>\n",
       "      <td>cerebrovascular autoregulation</td>\n",
       "      <td>Methodology</td>\n",
       "      <td>The brain's ability to maintain stable blood f...</td>\n",
       "      <td>[nhmrc/http://purl.org/au-research/grants/nhmr...</td>\n",
       "      <td>1</td>\n",
       "    </tr>\n",
       "  </tbody>\n",
       "</table>\n",
       "<p>392467 rows × 5 columns</p>\n",
       "</div>"
      ],
      "text/plain": [
       "                                                     term         type  \\\n",
       "0                                           animal ethics  Methodology   \n",
       "1                                         research ethics  Methodology   \n",
       "2                                      consensus-building  Methodology   \n",
       "3                                    scientific integrity  Application   \n",
       "4                                    community engagement  Methodology   \n",
       "...                                                   ...          ...   \n",
       "392462  Superiority trial design comparing central BP‑...  Methodology   \n",
       "392463                                    aortic pressure  Methodology   \n",
       "392464                 clinical application of central BP  Application   \n",
       "392465                                   cardiac workload  Application   \n",
       "392466                     cerebrovascular autoregulation  Methodology   \n",
       "\n",
       "                                              description  \\\n",
       "0       A framework for evaluating the moral and socie...   \n",
       "1       Incorporates ethical review and compliance fra...   \n",
       "2       A process through which diverse stakeholders (...   \n",
       "3       Enhancing the quality and fairness of scientif...   \n",
       "4       Active involvement of community members in the...   \n",
       "...                                                   ...   \n",
       "392462  Randomised superiority framework to test wheth...   \n",
       "392463  Direct measurement of pressure in the aorta, u...   \n",
       "392464  Use of central blood pressure data in diagnosi...   \n",
       "392465  Assessment of the strain placed on the heart d...   \n",
       "392466  The brain's ability to maintain stable blood f...   \n",
       "\n",
       "                                                   grants  grants_len  \n",
       "0                                          [arc/ANZCCART]           1  \n",
       "1       [arc/ANZCCART, arc/DP0343014, arc/DP110103193,...          10  \n",
       "2                           [arc/ANZCCART, arc/DP0667042]           2  \n",
       "3        [arc/ANZCCART, arc/DP160102523, arc/FT110100658]           3  \n",
       "4       [arc/ANZCCART, arc/DE130100400, arc/DE13010051...         217  \n",
       "...                                                   ...         ...  \n",
       "392462  [nhmrc/http://purl.org/au-research/grants/nhmr...           1  \n",
       "392463  [nhmrc/http://purl.org/au-research/grants/nhmr...           1  \n",
       "392464  [nhmrc/http://purl.org/au-research/grants/nhmr...           1  \n",
       "392465  [nhmrc/http://purl.org/au-research/grants/nhmr...           1  \n",
       "392466  [nhmrc/http://purl.org/au-research/grants/nhmr...           1  \n",
       "\n",
       "[392467 rows x 5 columns]"
      ]
     },
     "execution_count": 26,
     "metadata": {},
     "output_type": "execute_result"
    }
   ],
   "source": [
    "keywords"
   ]
  },
  {
   "cell_type": "code",
   "execution_count": 28,
   "id": "45a267da",
   "metadata": {},
   "outputs": [],
   "source": [
    "# build time series of grant counts per year for the top N keywords and plot them\n",
    "selected_terms = top_keywords['term'].tolist()\n",
    "\n",
    "records = []\n",
    "for term in selected_terms:\n",
    "    row = keywords[keywords['term'] == term]\n",
    "    if row.empty:\n",
    "        continue\n",
    "    grant_ids = row['grants'].iat[0]\n",
    "    # ensure grant_ids is iterable of ids\n",
    "    if isinstance(grant_ids, str):\n",
    "        # unlikely, but guard: try to treat as single id\n",
    "        grant_ids = [grant_ids]\n",
    "    # select grants that match these ids and have a start_year\n",
    "    g = grants[grants['id'].isin(grant_ids)][['id', 'start_year']].dropna(subset=['start_year']).copy()\n",
    "    if g.empty:\n",
    "        continue\n",
    "    g['year'] = g['start_year'].astype(int)\n",
    "    counts = g['year'].value_counts().sort_index()\n",
    "    for year, cnt in counts.items():\n",
    "        records.append({'term': term, 'year': int(year), 'count': int(cnt)})\n",
    "\n",
    "df_kw_time = pd.DataFrame(records)"
   ]
  },
  {
   "cell_type": "code",
   "execution_count": null,
   "id": "26b83398",
   "metadata": {},
   "outputs": [
    {
     "data": {
      "application/vnd.plotly.v1+json": {
       "config": {
        "plotlyServerURL": "https://plot.ly"
       },
       "data": [
        {
         "hovertemplate": "Keyword=therapeutic targets<br>Year=%{x}<br>Number of Grants=%{y}<extra></extra>",
         "legendgroup": "therapeutic targets",
         "line": {
          "color": "#636efa",
          "dash": "solid"
         },
         "marker": {
          "symbol": "circle"
         },
         "mode": "lines",
         "name": "therapeutic targets",
         "orientation": "v",
         "showlegend": true,
         "type": "scatter",
         "x": {
          "bdata": "wwfEB8UHxgfHB8gHyQfKB8sHzAfNB84HzwfQB9EH0gfTB9QH1QfWB9cH2AfZB9oH2wfcB90H3gffB+AH4QfiB+MH5AflB+YH5wfoBw==",
          "dtype": "i2"
         },
         "xaxis": "x",
         "y": {
          "bdata": "AAAAAAAAAAAAAAAAAAAAAAAAAAAAAAAAAAAAAAAAAAAAAAAAAAAAAAAAAAAAAAAAAAAAAAAAAAAAAAAAAAAAAAAAAAAAAPA/AAAAAAAAAAAAAAAAAAAAAAAAAAAAAAAAAAAAAAAA8D8AAAAAAAAAQAAAAAAAABxAAAAAAAAAFEAAAAAAAAAgQAAAAAAAABRAAAAAAAAAHEAAAAAAAAAoQAAAAAAAAC5AAAAAAAAANUAAAAAAAAA3QAAAAAAAADBAAAAAAAAANkAAAAAAAAA/QAAAAAAAADNAAAAAAAAAOEAAAAAAAAA2QAAAAAAAADFAAAAAAAAANEAAAAAAAAAqQAAAAAAAACpAAAAAAAAAMEAAAAAAAAAAQAAAAAAAAAAAAAAAAAAAAAAAAAAAAAAAAA==",
          "dtype": "f8"
         },
         "yaxis": "y"
        },
        {
         "hovertemplate": "Keyword=developmental biology<br>Year=%{x}<br>Number of Grants=%{y}<extra></extra>",
         "legendgroup": "developmental biology",
         "line": {
          "color": "#EF553B",
          "dash": "solid"
         },
         "marker": {
          "symbol": "circle"
         },
         "mode": "lines",
         "name": "developmental biology",
         "orientation": "v",
         "showlegend": true,
         "type": "scatter",
         "x": {
          "bdata": "wwfEB8UHxgfHB8gHyQfKB8sHzAfNB84HzwfQB9EH0gfTB9QH1QfWB9cH2AfZB9oH2wfcB90H3gffB+AH4QfiB+MH5AflB+YH5wfoBw==",
          "dtype": "i2"
         },
         "xaxis": "x",
         "y": {
          "bdata": "AAAAAAAAAAAAAAAAAAAQQAAAAAAAACJAAAAAAAAAIkAAAAAAAAAUQAAAAAAAABxAAAAAAAAAHEAAAAAAAAAqQAAAAAAAACBAAAAAAAAAHEAAAAAAAAAUQAAAAAAAABxAAAAAAAAAIEAAAAAAAAAYQAAAAAAAABxAAAAAAAAAHEAAAAAAAAAkQAAAAAAAACBAAAAAAAAAJkAAAAAAAAAkQAAAAAAAADBAAAAAAAAAJEAAAAAAAAAuQAAAAAAAACpAAAAAAAAAKkAAAAAAAAAoQAAAAAAAACpAAAAAAAAAGEAAAAAAAAAqQAAAAAAAACJAAAAAAAAAFEAAAAAAAAAoQAAAAAAAACpAAAAAAAAAGEAAAAAAAAAcQAAAAAAAAAhAAAAAAAAACEAAAAAAAAAQQA==",
          "dtype": "f8"
         },
         "yaxis": "y"
        },
        {
         "hovertemplate": "Keyword=climate change impact<br>Year=%{x}<br>Number of Grants=%{y}<extra></extra>",
         "legendgroup": "climate change impact",
         "line": {
          "color": "#00cc96",
          "dash": "solid"
         },
         "marker": {
          "symbol": "circle"
         },
         "mode": "lines",
         "name": "climate change impact",
         "orientation": "v",
         "showlegend": true,
         "type": "scatter",
         "x": {
          "bdata": "wwfEB8UHxgfHB8gHyQfKB8sHzAfNB84HzwfQB9EH0gfTB9QH1QfWB9cH2AfZB9oH2wfcB90H3gffB+AH4QfiB+MH5AflB+YH5wfoBw==",
          "dtype": "i2"
         },
         "xaxis": "x",
         "y": {
          "bdata": "AAAAAAAAAAAAAAAAAAAAAAAAAAAAAAAAAAAAAAAAAAAAAAAAAAAAQAAAAAAAAAAAAAAAAAAAAAAAAAAAAAAAAAAAAAAAAPA/AAAAAAAAAAAAAAAAAAAAAAAAAAAAAAAAAAAAAAAAAEAAAAAAAAAAAAAAAAAAAAAAAAAAAAAAEEAAAAAAAAAQQAAAAAAAACRAAAAAAAAAIEAAAAAAAAAzQAAAAAAAADVAAAAAAAAAPkAAAAAAAAA5QAAAAAAAAEBAAAAAAAAAP0AAAAAAAAA7QAAAAAAAACZAAAAAAAAALEAAAAAAAAAkQAAAAAAAACRAAAAAAAAAGEAAAAAAAAAkQAAAAAAAACRAAAAAAAAAIEAAAAAAAAAoQAAAAAAAABxAAAAAAAAAGEAAAAAAAAAmQA==",
          "dtype": "f8"
         },
         "yaxis": "y"
        },
        {
         "hovertemplate": "Keyword=public health policy<br>Year=%{x}<br>Number of Grants=%{y}<extra></extra>",
         "legendgroup": "public health policy",
         "line": {
          "color": "#ab63fa",
          "dash": "solid"
         },
         "marker": {
          "symbol": "circle"
         },
         "mode": "lines",
         "name": "public health policy",
         "orientation": "v",
         "showlegend": true,
         "type": "scatter",
         "x": {
          "bdata": "wwfEB8UHxgfHB8gHyQfKB8sHzAfNB84HzwfQB9EH0gfTB9QH1QfWB9cH2AfZB9oH2wfcB90H3gffB+AH4QfiB+MH5AflB+YH5wfoBw==",
          "dtype": "i2"
         },
         "xaxis": "x",
         "y": {
          "bdata": "AAAAAAAAAAAAAAAAAAAIQAAAAAAAAAAAAAAAAAAACEAAAAAAAAAIQAAAAAAAAPA/AAAAAAAAEEAAAAAAAADwPwAAAAAAAAhAAAAAAAAA8D8AAAAAAAAIQAAAAAAAABBAAAAAAAAACEAAAAAAAAAcQAAAAAAAABhAAAAAAAAAGEAAAAAAAAAmQAAAAAAAACpAAAAAAAAAMkAAAAAAAAAoQAAAAAAAADVAAAAAAAAAMEAAAAAAAAAxQAAAAAAAADZAAAAAAAAAMkAAAAAAAAAsQAAAAAAAAC5AAAAAAAAAIkAAAAAAAAAwQAAAAAAAACRAAAAAAAAANUAAAAAAAAAqQAAAAAAAADRAAAAAAAAAIkAAAAAAAAAgQAAAAAAAAAhAAAAAAAAAFEAAAAAAAAAAAA==",
          "dtype": "f8"
         },
         "yaxis": "y"
        },
        {
         "hovertemplate": "Keyword=international collaboration<br>Year=%{x}<br>Number of Grants=%{y}<extra></extra>",
         "legendgroup": "international collaboration",
         "line": {
          "color": "#FFA15A",
          "dash": "solid"
         },
         "marker": {
          "symbol": "circle"
         },
         "mode": "lines",
         "name": "international collaboration",
         "orientation": "v",
         "showlegend": true,
         "type": "scatter",
         "x": {
          "bdata": "wwfEB8UHxgfHB8gHyQfKB8sHzAfNB84HzwfQB9EH0gfTB9QH1QfWB9cH2AfZB9oH2wfcB90H3gffB+AH4QfiB+MH5AflB+YH5wfoBw==",
          "dtype": "i2"
         },
         "xaxis": "x",
         "y": {
          "bdata": "AAAAAAAAAAAAAAAAAAAAAAAAAAAAAAAAAAAAAAAAAAAAAAAAAAAAAAAAAAAAAPA/AAAAAAAAAAAAAAAAAAAAAAAAAAAAAAAAAAAAAAAAAAAAAAAAAAAAAAAAAAAAAAAAAAAAAAAAAAAAAAAAAAAAAAAAAAAAABRAAAAAAAAAIEAAAAAAAAAsQAAAAAAAACRAAAAAAAAAQEAAAAAAAABBQAAAAAAAADVAAAAAAAAAQkAAAAAAAAA+QAAAAAAAgEVAAAAAAAAAIkAAAAAAAAAcQAAAAAAAABxAAAAAAAAAHEAAAAAAAAAQQAAAAAAAAAhAAAAAAAAAIkAAAAAAAAAiQAAAAAAAABxAAAAAAAAAKEAAAAAAAAAoQAAAAAAAACRAAAAAAAAANUAAAAAAAAAUQA==",
          "dtype": "f8"
         },
         "yaxis": "y"
        },
        {
         "hovertemplate": "Keyword=structural biology<br>Year=%{x}<br>Number of Grants=%{y}<extra></extra>",
         "legendgroup": "structural biology",
         "line": {
          "color": "#19d3f3",
          "dash": "solid"
         },
         "marker": {
          "symbol": "circle"
         },
         "mode": "lines",
         "name": "structural biology",
         "orientation": "v",
         "showlegend": true,
         "type": "scatter",
         "x": {
          "bdata": "wwfEB8UHxgfHB8gHyQfKB8sHzAfNB84HzwfQB9EH0gfTB9QH1QfWB9cH2AfZB9oH2wfcB90H3gffB+AH4QfiB+MH5AflB+YH5wfoBw==",
          "dtype": "i2"
         },
         "xaxis": "x",
         "y": {
          "bdata": "AAAAAAAAAAAAAAAAAAAAAAAAAAAAAAhAAAAAAAAA8D8AAAAAAADwPwAAAAAAAPA/AAAAAAAAEEAAAAAAAAAAQAAAAAAAAAhAAAAAAAAAAEAAAAAAAAAgQAAAAAAAABBAAAAAAAAAJkAAAAAAAAAcQAAAAAAAABBAAAAAAAAAJkAAAAAAAAAxQAAAAAAAACZAAAAAAAAALkAAAAAAAAA0QAAAAAAAADFAAAAAAAAAOUAAAAAAAAAsQAAAAAAAADNAAAAAAAAALkAAAAAAAAAyQAAAAAAAAChAAAAAAAAAKEAAAAAAAAAgQAAAAAAAACBAAAAAAAAAMkAAAAAAAAAcQAAAAAAAACZAAAAAAAAALEAAAAAAAAAmQAAAAAAAABRAAAAAAAAAJEAAAAAAAAAcQA==",
          "dtype": "f8"
         },
         "yaxis": "y"
        },
        {
         "hovertemplate": "Keyword=translational research<br>Year=%{x}<br>Number of Grants=%{y}<extra></extra>",
         "legendgroup": "translational research",
         "line": {
          "color": "#FF6692",
          "dash": "solid"
         },
         "marker": {
          "symbol": "circle"
         },
         "mode": "lines",
         "name": "translational research",
         "orientation": "v",
         "showlegend": true,
         "type": "scatter",
         "x": {
          "bdata": "wwfEB8UHxgfHB8gHyQfKB8sHzAfNB84HzwfQB9EH0gfTB9QH1QfWB9cH2AfZB9oH2wfcB90H3gffB+AH4QfiB+MH5AflB+YH5wfoBw==",
          "dtype": "i2"
         },
         "xaxis": "x",
         "y": {
          "bdata": "AAAAAAAAAAAAAAAAAAAAQAAAAAAAAAhAAAAAAAAACEAAAAAAAAAAAAAAAAAAAAhAAAAAAAAAEEAAAAAAAAAAQAAAAAAAAABAAAAAAAAACEAAAAAAAAAUQAAAAAAAAAhAAAAAAAAA8D8AAAAAAAAIQAAAAAAAABRAAAAAAAAAKkAAAAAAAAAgQAAAAAAAACZAAAAAAAAAJEAAAAAAAAAqQAAAAAAAADNAAAAAAAAALkAAAAAAAAAkQAAAAAAAADRAAAAAAAAANEAAAAAAAAAuQAAAAAAAAC5AAAAAAAAAN0AAAAAAAAAmQAAAAAAAADBAAAAAAAAAOUAAAAAAAAAzQAAAAAAAADxAAAAAAAAAMkAAAAAAAAAQQAAAAAAAAPA/AAAAAAAAFEAAAAAAAADwPw==",
          "dtype": "f8"
         },
         "yaxis": "y"
        },
        {
         "hovertemplate": "Keyword=clinical translation<br>Year=%{x}<br>Number of Grants=%{y}<extra></extra>",
         "legendgroup": "clinical translation",
         "line": {
          "color": "#B6E880",
          "dash": "solid"
         },
         "marker": {
          "symbol": "circle"
         },
         "mode": "lines",
         "name": "clinical translation",
         "orientation": "v",
         "showlegend": true,
         "type": "scatter",
         "x": {
          "bdata": "wwfEB8UHxgfHB8gHyQfKB8sHzAfNB84HzwfQB9EH0gfTB9QH1QfWB9cH2AfZB9oH2wfcB90H3gffB+AH4QfiB+MH5AflB+YH5wfoBw==",
          "dtype": "i2"
         },
         "xaxis": "x",
         "y": {
          "bdata": "AAAAAAAAAAAAAAAAAAAAQAAAAAAAAAAAAAAAAAAAAAAAAAAAAAAAQAAAAAAAAPA/AAAAAAAAAAAAAAAAAAAAAAAAAAAAAAAAAAAAAAAA8D8AAAAAAAAAAAAAAAAAAAhAAAAAAAAAAAAAAAAAAADwPwAAAAAAABhAAAAAAAAAJkAAAAAAAAAYQAAAAAAAABxAAAAAAAAAOUAAAAAAAAAqQAAAAAAAADRAAAAAAAAAMUAAAAAAAAAsQAAAAAAAgEBAAAAAAAAANEAAAAAAAABAQAAAAAAAAD5AAAAAAAAAN0AAAAAAAAAzQAAAAAAAACZAAAAAAAAAMkAAAAAAAAAxQAAAAAAAAC5AAAAAAAAALkAAAAAAAAAAAAAAAAAAAAAAAAAAAAAAAAAAAAAAAADwPw==",
          "dtype": "f8"
         },
         "yaxis": "y"
        },
        {
         "hovertemplate": "Keyword=gene regulation<br>Year=%{x}<br>Number of Grants=%{y}<extra></extra>",
         "legendgroup": "gene regulation",
         "line": {
          "color": "#FF97FF",
          "dash": "solid"
         },
         "marker": {
          "symbol": "circle"
         },
         "mode": "lines",
         "name": "gene regulation",
         "orientation": "v",
         "showlegend": true,
         "type": "scatter",
         "x": {
          "bdata": "wwfEB8UHxgfHB8gHyQfKB8sHzAfNB84HzwfQB9EH0gfTB9QH1QfWB9cH2AfZB9oH2wfcB90H3gffB+AH4QfiB+MH5AflB+YH5wfoBw==",
          "dtype": "i2"
         },
         "xaxis": "x",
         "y": {
          "bdata": "AAAAAAAAAAAAAAAAAAAAQAAAAAAAABRAAAAAAAAACEAAAAAAAAAIQAAAAAAAAAhAAAAAAAAAGEAAAAAAAADwPwAAAAAAAAhAAAAAAAAAHEAAAAAAAAAYQAAAAAAAACpAAAAAAAAAGEAAAAAAAAAiQAAAAAAAACRAAAAAAAAAMEAAAAAAAAAqQAAAAAAAACJAAAAAAAAAKEAAAAAAAAAmQAAAAAAAACRAAAAAAAAALkAAAAAAAAA2QAAAAAAAADNAAAAAAAAAMkAAAAAAAAA3QAAAAAAAADBAAAAAAAAANUAAAAAAAAAzQAAAAAAAAC5AAAAAAAAALEAAAAAAAAAmQAAAAAAAADFAAAAAAAAAJEAAAAAAAAAUQAAAAAAAAAhAAAAAAAAACEAAAAAAAAAAQA==",
          "dtype": "f8"
         },
         "yaxis": "y"
        },
        {
         "hovertemplate": "Keyword=bio-integrated nano-photonics<br>Year=%{x}<br>Number of Grants=%{y}<extra></extra>",
         "legendgroup": "bio-integrated nano-photonics",
         "line": {
          "color": "#FECB52",
          "dash": "solid"
         },
         "marker": {
          "symbol": "circle"
         },
         "mode": "lines",
         "name": "bio-integrated nano-photonics",
         "orientation": "v",
         "showlegend": true,
         "type": "scatter",
         "x": {
          "bdata": "wwfEB8UHxgfHB8gHyQfKB8sHzAfNB84HzwfQB9EH0gfTB9QH1QfWB9cH2AfZB9oH2wfcB90H3gffB+AH4QfiB+MH5AflB+YH5wfoBw==",
          "dtype": "i2"
         },
         "xaxis": "x",
         "y": {
          "bdata": "AAAAAAAAAAAAAAAAAAAAAAAAAAAAAAAAAAAAAAAAEEAAAAAAAADwPwAAAAAAAAAAAAAAAAAAGEAAAAAAAADwPwAAAAAAACRAAAAAAAAA8D8AAAAAAADwPwAAAAAAAABAAAAAAAAA8D8AAAAAAADwPwAAAAAAAAhAAAAAAAAAKkAAAAAAAAA6QAAAAAAAADZAAAAAAACAQEAAAAAAAAAzQAAAAAAAADJAAAAAAAAAPUAAAAAAAAA/QAAAAAAAADRAAAAAAAAAMkAAAAAAAAAuQAAAAAAAADZAAAAAAAAANkAAAAAAAAAuQAAAAAAAACxAAAAAAAAANUAAAAAAAAAsQAAAAAAAABBAAAAAAAAACEAAAAAAAAAUQAAAAAAAAAhAAAAAAAAAGEAAAAAAAAAUQA==",
          "dtype": "f8"
         },
         "yaxis": "y"
        },
        {
         "hovertemplate": "Keyword=regenerative medicine<br>Year=%{x}<br>Number of Grants=%{y}<extra></extra>",
         "legendgroup": "regenerative medicine",
         "line": {
          "color": "#636efa",
          "dash": "solid"
         },
         "marker": {
          "symbol": "circle"
         },
         "mode": "lines",
         "name": "regenerative medicine",
         "orientation": "v",
         "showlegend": true,
         "type": "scatter",
         "x": {
          "bdata": "wwfEB8UHxgfHB8gHyQfKB8sHzAfNB84HzwfQB9EH0gfTB9QH1QfWB9cH2AfZB9oH2wfcB90H3gffB+AH4QfiB+MH5AflB+YH5wfoBw==",
          "dtype": "i2"
         },
         "xaxis": "x",
         "y": {
          "bdata": "AAAAAAAAAAAAAAAAAAAQQAAAAAAAABhAAAAAAAAAIEAAAAAAAAAUQAAAAAAAAABAAAAAAAAAFEAAAAAAAAAAQAAAAAAAABhAAAAAAAAAFEAAAAAAAAAYQAAAAAAAABBAAAAAAAAAEEAAAAAAAAAAQAAAAAAAABBAAAAAAAAAJEAAAAAAAAAmQAAAAAAAACJAAAAAAAAAMUAAAAAAAAAsQAAAAAAAACpAAAAAAAAANkAAAAAAAAA8QAAAAAAAADVAAAAAAAAANUAAAAAAAAA4QAAAAAAAADdAAAAAAAAAMUAAAAAAAAA1QAAAAAAAADZAAAAAAAAAMEAAAAAAAAAyQAAAAAAAADlAAAAAAAAAHEAAAAAAAADwPwAAAAAAAAhAAAAAAAAA8D8AAAAAAAAIQA==",
          "dtype": "f8"
         },
         "yaxis": "y"
        },
        {
         "hovertemplate": "Keyword=neuroimaging<br>Year=%{x}<br>Number of Grants=%{y}<extra></extra>",
         "legendgroup": "neuroimaging",
         "line": {
          "color": "#EF553B",
          "dash": "solid"
         },
         "marker": {
          "symbol": "circle"
         },
         "mode": "lines",
         "name": "neuroimaging",
         "orientation": "v",
         "showlegend": true,
         "type": "scatter",
         "x": {
          "bdata": "wwfEB8UHxgfHB8gHyQfKB8sHzAfNB84HzwfQB9EH0gfTB9QH1QfWB9cH2AfZB9oH2wfcB90H3gffB+AH4QfiB+MH5AflB+YH5wfoBw==",
          "dtype": "i2"
         },
         "xaxis": "x",
         "y": {
          "bdata": "AAAAAAAA8D8AAAAAAAAAQAAAAAAAABBAAAAAAAAAFEAAAAAAAAAIQAAAAAAAACZAAAAAAAAAFEAAAAAAAAAxQAAAAAAAACBAAAAAAAAAGEAAAAAAAAAiQAAAAAAAABBAAAAAAAAAHEAAAAAAAAAAAAAAAAAAABhAAAAAAAAAEEAAAAAAAAAUQAAAAAAAABhAAAAAAACARkAAAAAAAAA7QAAAAAAAADVAAAAAAAAAJEAAAAAAAAAQQAAAAAAAADpAAAAAAAAAQEAAAAAAAAA9QAAAAAAAADNAAAAAAAAAMEAAAAAAAAA0QAAAAAAAAC5AAAAAAAAAGEAAAAAAAAAsQAAAAAAAAC5AAAAAAAAAHEAAAAAAAAAAAAAAAAAAAAhAAAAAAAAAAEAAAAAAAAAAQA==",
          "dtype": "f8"
         },
         "yaxis": "y"
        },
        {
         "hovertemplate": "Keyword=biomarker discovery<br>Year=%{x}<br>Number of Grants=%{y}<extra></extra>",
         "legendgroup": "biomarker discovery",
         "line": {
          "color": "#00cc96",
          "dash": "solid"
         },
         "marker": {
          "symbol": "circle"
         },
         "mode": "lines",
         "name": "biomarker discovery",
         "orientation": "v",
         "showlegend": true,
         "type": "scatter",
         "x": {
          "bdata": "wwfEB8UHxgfHB8gHyQfKB8sHzAfNB84HzwfQB9EH0gfTB9QH1QfWB9cH2AfZB9oH2wfcB90H3gffB+AH4QfiB+MH5AflB+YH5wfoBw==",
          "dtype": "i2"
         },
         "xaxis": "x",
         "y": {
          "bdata": "AAAAAAAA8D8AAAAAAAAsQAAAAAAAADBAAAAAAAAAKEAAAAAAAAAwQAAAAAAAADBAAAAAAAAAIkAAAAAAAAAiQAAAAAAAACBAAAAAAAAAKkAAAAAAAAAzQAAAAAAAACxAAAAAAAAAIEAAAAAAAAAUQAAAAAAAACRAAAAAAAAAHEAAAAAAAAAxQAAAAAAAACpAAAAAAAAAPUAAAAAAAAA3QAAAAAAAACJAAAAAAAAAKEAAAAAAAAAyQAAAAAAAADpAAAAAAAAAMkAAAAAAAAA0QAAAAAAAADJAAAAAAAAALEAAAAAAAAAcQAAAAAAAACpAAAAAAAAAIEAAAAAAAAAuQAAAAAAAAEVAAAAAAAAAIkAAAAAAAAAAAAAAAAAAAPA/AAAAAAAAAAAAAAAAAADwPw==",
          "dtype": "f8"
         },
         "yaxis": "y"
        },
        {
         "hovertemplate": "Keyword=molecular mechanisms<br>Year=%{x}<br>Number of Grants=%{y}<extra></extra>",
         "legendgroup": "molecular mechanisms",
         "line": {
          "color": "#ab63fa",
          "dash": "solid"
         },
         "marker": {
          "symbol": "circle"
         },
         "mode": "lines",
         "name": "molecular mechanisms",
         "orientation": "v",
         "showlegend": true,
         "type": "scatter",
         "x": {
          "bdata": "wwfEB8UHxgfHB8gHyQfKB8sHzAfNB84HzwfQB9EH0gfTB9QH1QfWB9cH2AfZB9oH2wfcB90H3gffB+AH4QfiB+MH5AflB+YH5wfoBw==",
          "dtype": "i2"
         },
         "xaxis": "x",
         "y": {
          "bdata": "AAAAAAAAAAAAAAAAAAAQQAAAAAAAAPA/AAAAAAAACEAAAAAAAAAIQAAAAAAAACBAAAAAAAAAAEAAAAAAAAAkQAAAAAAAABRAAAAAAAAAFEAAAAAAAAAYQAAAAAAAABRAAAAAAAAALkAAAAAAAAAiQAAAAAAAACRAAAAAAAAAMkAAAAAAAAAxQAAAAAAAADJAAAAAAAAANkAAAAAAAAAzQAAAAAAAADhAAAAAAAAANUAAAAAAAAA9QAAAAAAAAD1AAAAAAAAAOEAAAAAAAAA2QAAAAAAAADZAAAAAAAAANkAAAAAAAAAiQAAAAAAAAC5AAAAAAAAALkAAAAAAAAA1QAAAAAAAADJAAAAAAAAAKEAAAAAAAAAYQAAAAAAAABxAAAAAAAAAHEAAAAAAAAAcQA==",
          "dtype": "f8"
         },
         "yaxis": "y"
        },
        {
         "hovertemplate": "Keyword=precision medicine<br>Year=%{x}<br>Number of Grants=%{y}<extra></extra>",
         "legendgroup": "precision medicine",
         "line": {
          "color": "#FFA15A",
          "dash": "solid"
         },
         "marker": {
          "symbol": "circle"
         },
         "mode": "lines",
         "name": "precision medicine",
         "orientation": "v",
         "showlegend": true,
         "type": "scatter",
         "x": {
          "bdata": "wwfEB8UHxgfHB8gHyQfKB8sHzAfNB84HzwfQB9EH0gfTB9QH1QfWB9cH2AfZB9oH2wfcB90H3gffB+AH4QfiB+MH5AflB+YH5wfoBw==",
          "dtype": "i2"
         },
         "xaxis": "x",
         "y": {
          "bdata": "AAAAAAAAAAAAAAAAAADwPwAAAAAAAAhAAAAAAAAAIkAAAAAAAAAgQAAAAAAAABBAAAAAAAAAHEAAAAAAAAAAQAAAAAAAABxAAAAAAAAAGEAAAAAAAAAiQAAAAAAAABxAAAAAAAAAEEAAAAAAAAAIQAAAAAAAABhAAAAAAAAAMUAAAAAAAAAkQAAAAAAAADtAAAAAAAAANUAAAAAAAAAuQAAAAAAAADdAAAAAAAAANUAAAAAAAAAxQAAAAAAAgEFAAAAAAAAAM0AAAAAAAAA6QAAAAAAAADNAAAAAAAAANUAAAAAAAAAoQAAAAAAAADhAAAAAAAAAO0AAAAAAAAAyQAAAAAAAAEZAAAAAAAAAMEAAAAAAAADwPwAAAAAAAABAAAAAAAAACEAAAAAAAAAAAA==",
          "dtype": "f8"
         },
         "yaxis": "y"
        },
        {
         "hovertemplate": "Keyword=interdisciplinary collaboration<br>Year=%{x}<br>Number of Grants=%{y}<extra></extra>",
         "legendgroup": "interdisciplinary collaboration",
         "line": {
          "color": "#19d3f3",
          "dash": "solid"
         },
         "marker": {
          "symbol": "circle"
         },
         "mode": "lines",
         "name": "interdisciplinary collaboration",
         "orientation": "v",
         "showlegend": true,
         "type": "scatter",
         "x": {
          "bdata": "wwfEB8UHxgfHB8gHyQfKB8sHzAfNB84HzwfQB9EH0gfTB9QH1QfWB9cH2AfZB9oH2wfcB90H3gffB+AH4QfiB+MH5AflB+YH5wfoBw==",
          "dtype": "i2"
         },
         "xaxis": "x",
         "y": {
          "bdata": "AAAAAAAAAAAAAAAAAAAAAAAAAAAAAAAAAAAAAAAAAAAAAAAAAAAAAAAAAAAAAAAAAAAAAAAAAAAAAAAAAAAAAAAAAAAAAAAAAAAAAAAA8D8AAAAAAADwPwAAAAAAAABAAAAAAAAAAEAAAAAAAAAAAAAAAAAAABRAAAAAAAAANkAAAAAAAAA4QAAAAAAAgE1AAAAAAAAAO0AAAAAAAAA+QAAAAAAAAEJAAAAAAAAAOUAAAAAAAAA2QAAAAAAAAD9AAAAAAAAAAEAAAAAAAAAqQAAAAAAAACZAAAAAAAAALEAAAAAAAAAoQAAAAAAAABRAAAAAAAAAKkAAAAAAAAA7QAAAAAAAADRAAAAAAAAANEAAAAAAAAA4QAAAAAAAAC5AAAAAAAAALEAAAAAAAAAyQA==",
          "dtype": "f8"
         },
         "yaxis": "y"
        },
        {
         "hovertemplate": "Keyword=epigenetic regulation<br>Year=%{x}<br>Number of Grants=%{y}<extra></extra>",
         "legendgroup": "epigenetic regulation",
         "line": {
          "color": "#FF6692",
          "dash": "solid"
         },
         "marker": {
          "symbol": "circle"
         },
         "mode": "lines",
         "name": "epigenetic regulation",
         "orientation": "v",
         "showlegend": true,
         "type": "scatter",
         "x": {
          "bdata": "wwfEB8UHxgfHB8gHyQfKB8sHzAfNB84HzwfQB9EH0gfTB9QH1QfWB9cH2AfZB9oH2wfcB90H3gffB+AH4QfiB+MH5AflB+YH5wfoBw==",
          "dtype": "i2"
         },
         "xaxis": "x",
         "y": {
          "bdata": "AAAAAAAAAAAAAAAAAAAmQAAAAAAAACpAAAAAAAAAJEAAAAAAAAAcQAAAAAAAACJAAAAAAAAAHEAAAAAAAAAwQAAAAAAAAC5AAAAAAAAAIkAAAAAAAAAyQAAAAAAAACxAAAAAAAAAGEAAAAAAAAAQQAAAAAAAABhAAAAAAAAAIkAAAAAAAAA1QAAAAAAAADBAAAAAAAAALEAAAAAAAAAyQAAAAAAAAD1AAAAAAAAALkAAAAAAAAAzQAAAAAAAADtAAAAAAAAAMEAAAAAAAAA9QAAAAAAAADhAAAAAAAAANkAAAAAAAAAxQAAAAAAAADhAAAAAAAAAOEAAAAAAAAAsQAAAAAAAgEBAAAAAAAAAIkAAAAAAAAAIQAAAAAAAAABAAAAAAAAA8D8AAAAAAAAQQA==",
          "dtype": "f8"
         },
         "yaxis": "y"
        },
        {
         "hovertemplate": "Keyword=Host-pathogen interactions<br>Year=%{x}<br>Number of Grants=%{y}<extra></extra>",
         "legendgroup": "Host-pathogen interactions",
         "line": {
          "color": "#B6E880",
          "dash": "solid"
         },
         "marker": {
          "symbol": "circle"
         },
         "mode": "lines",
         "name": "Host-pathogen interactions",
         "orientation": "v",
         "showlegend": true,
         "type": "scatter",
         "x": {
          "bdata": "wwfEB8UHxgfHB8gHyQfKB8sHzAfNB84HzwfQB9EH0gfTB9QH1QfWB9cH2AfZB9oH2wfcB90H3gffB+AH4QfiB+MH5AflB+YH5wfoBw==",
          "dtype": "i2"
         },
         "xaxis": "x",
         "y": {
          "bdata": "AAAAAAAA8D8AAAAAAAAcQAAAAAAAACZAAAAAAAAAIkAAAAAAAAAYQAAAAAAAACRAAAAAAAAAHEAAAAAAAAAoQAAAAAAAAChAAAAAAAAAJEAAAAAAAAAwQAAAAAAAADFAAAAAAAAAM0AAAAAAAAAcQAAAAAAAACpAAAAAAAAAJEAAAAAAAAAuQAAAAAAAADRAAAAAAAAANUAAAAAAAAA0QAAAAAAAAChAAAAAAAAANEAAAAAAAAA7QAAAAAAAADtAAAAAAAAAP0AAAAAAAAA+QAAAAAAAADxAAAAAAAAAN0AAAAAAAAAzQAAAAAAAACRAAAAAAAAAKEAAAAAAAAA1QAAAAAAAAD5AAAAAAAAAKkAAAAAAAAAIQAAAAAAAAABAAAAAAAAAFEAAAAAAAAAAQA==",
          "dtype": "f8"
         },
         "yaxis": "y"
        },
        {
         "hovertemplate": "Keyword=health equity<br>Year=%{x}<br>Number of Grants=%{y}<extra></extra>",
         "legendgroup": "health equity",
         "line": {
          "color": "#FF97FF",
          "dash": "solid"
         },
         "marker": {
          "symbol": "circle"
         },
         "mode": "lines",
         "name": "health equity",
         "orientation": "v",
         "showlegend": true,
         "type": "scatter",
         "x": {
          "bdata": "wwfEB8UHxgfHB8gHyQfKB8sHzAfNB84HzwfQB9EH0gfTB9QH1QfWB9cH2AfZB9oH2wfcB90H3gffB+AH4QfiB+MH5AflB+YH5wfoBw==",
          "dtype": "i2"
         },
         "xaxis": "x",
         "y": {
          "bdata": "AAAAAAAAAAAAAAAAAADwPwAAAAAAABBAAAAAAAAAAEAAAAAAAAAUQAAAAAAAAAhAAAAAAAAAEEAAAAAAAAAYQAAAAAAAACRAAAAAAAAAIkAAAAAAAAAoQAAAAAAAABhAAAAAAAAAMkAAAAAAAAAiQAAAAAAAACxAAAAAAAAAOUAAAAAAAAA9QAAAAAAAgEBAAAAAAAAAREAAAAAAAAA7QAAAAAAAgEBAAAAAAACAQEAAAAAAAAA+QAAAAAAAAExAAAAAAACAQ0AAAAAAAABGQAAAAAAAAERAAAAAAAAAR0AAAAAAAAA8QAAAAAAAAD9AAAAAAACAQkAAAAAAAIBBQAAAAAAAgElAAAAAAAAAOkAAAAAAAAAoQAAAAAAAAABAAAAAAAAACEAAAAAAAAAIQA==",
          "dtype": "f8"
         },
         "yaxis": "y"
        },
        {
         "hovertemplate": "Keyword=interdisciplinary research<br>Year=%{x}<br>Number of Grants=%{y}<extra></extra>",
         "legendgroup": "interdisciplinary research",
         "line": {
          "color": "#FECB52",
          "dash": "solid"
         },
         "marker": {
          "symbol": "circle"
         },
         "mode": "lines",
         "name": "interdisciplinary research",
         "orientation": "v",
         "showlegend": true,
         "type": "scatter",
         "x": {
          "bdata": "wwfEB8UHxgfHB8gHyQfKB8sHzAfNB84HzwfQB9EH0gfTB9QH1QfWB9cH2AfZB9oH2wfcB90H3gffB+AH4QfiB+MH5AflB+YH5wfoBw==",
          "dtype": "i2"
         },
         "xaxis": "x",
         "y": {
          "bdata": "AAAAAAAAAAAAAAAAAAAAAAAAAAAAAAAAAAAAAAAAAAAAAAAAAADwPwAAAAAAAAAAAAAAAAAAAAAAAAAAAADwPwAAAAAAAAAAAAAAAAAAAAAAAAAAAADwPwAAAAAAAAAAAAAAAAAAAAAAAAAAAADwPwAAAAAAAC5AAAAAAAAASkAAAAAAAABBQAAAAAAAgExAAAAAAAAAR0AAAAAAAABFQAAAAAAAAERAAAAAAAAAQ0AAAAAAAIBFQAAAAAAAgEhAAAAAAAAAPEAAAAAAAAA0QAAAAAAAADJAAAAAAACAREAAAAAAAAA2QAAAAAAAADlAAAAAAAAANUAAAAAAAAA/QAAAAAAAACxAAAAAAACAR0AAAAAAAABGQAAAAAAAgEJAAAAAAACAQUAAAAAAAAA4QA==",
          "dtype": "f8"
         },
         "yaxis": "y"
        }
       ],
       "layout": {
        "legend": {
         "orientation": "v",
         "title": {
          "text": "Keyword"
         },
         "tracegroupgap": 0,
         "x": 1.02,
         "xanchor": "left",
         "y": 0.95,
         "yanchor": "top"
        },
        "template": {
         "data": {
          "bar": [
           {
            "error_x": {
             "color": "#2a3f5f"
            },
            "error_y": {
             "color": "#2a3f5f"
            },
            "marker": {
             "line": {
              "color": "#E5ECF6",
              "width": 0.5
             },
             "pattern": {
              "fillmode": "overlay",
              "size": 10,
              "solidity": 0.2
             }
            },
            "type": "bar"
           }
          ],
          "barpolar": [
           {
            "marker": {
             "line": {
              "color": "#E5ECF6",
              "width": 0.5
             },
             "pattern": {
              "fillmode": "overlay",
              "size": 10,
              "solidity": 0.2
             }
            },
            "type": "barpolar"
           }
          ],
          "carpet": [
           {
            "aaxis": {
             "endlinecolor": "#2a3f5f",
             "gridcolor": "white",
             "linecolor": "white",
             "minorgridcolor": "white",
             "startlinecolor": "#2a3f5f"
            },
            "baxis": {
             "endlinecolor": "#2a3f5f",
             "gridcolor": "white",
             "linecolor": "white",
             "minorgridcolor": "white",
             "startlinecolor": "#2a3f5f"
            },
            "type": "carpet"
           }
          ],
          "choropleth": [
           {
            "colorbar": {
             "outlinewidth": 0,
             "ticks": ""
            },
            "type": "choropleth"
           }
          ],
          "contour": [
           {
            "colorbar": {
             "outlinewidth": 0,
             "ticks": ""
            },
            "colorscale": [
             [
              0,
              "#0d0887"
             ],
             [
              0.1111111111111111,
              "#46039f"
             ],
             [
              0.2222222222222222,
              "#7201a8"
             ],
             [
              0.3333333333333333,
              "#9c179e"
             ],
             [
              0.4444444444444444,
              "#bd3786"
             ],
             [
              0.5555555555555556,
              "#d8576b"
             ],
             [
              0.6666666666666666,
              "#ed7953"
             ],
             [
              0.7777777777777778,
              "#fb9f3a"
             ],
             [
              0.8888888888888888,
              "#fdca26"
             ],
             [
              1,
              "#f0f921"
             ]
            ],
            "type": "contour"
           }
          ],
          "contourcarpet": [
           {
            "colorbar": {
             "outlinewidth": 0,
             "ticks": ""
            },
            "type": "contourcarpet"
           }
          ],
          "heatmap": [
           {
            "colorbar": {
             "outlinewidth": 0,
             "ticks": ""
            },
            "colorscale": [
             [
              0,
              "#0d0887"
             ],
             [
              0.1111111111111111,
              "#46039f"
             ],
             [
              0.2222222222222222,
              "#7201a8"
             ],
             [
              0.3333333333333333,
              "#9c179e"
             ],
             [
              0.4444444444444444,
              "#bd3786"
             ],
             [
              0.5555555555555556,
              "#d8576b"
             ],
             [
              0.6666666666666666,
              "#ed7953"
             ],
             [
              0.7777777777777778,
              "#fb9f3a"
             ],
             [
              0.8888888888888888,
              "#fdca26"
             ],
             [
              1,
              "#f0f921"
             ]
            ],
            "type": "heatmap"
           }
          ],
          "histogram": [
           {
            "marker": {
             "pattern": {
              "fillmode": "overlay",
              "size": 10,
              "solidity": 0.2
             }
            },
            "type": "histogram"
           }
          ],
          "histogram2d": [
           {
            "colorbar": {
             "outlinewidth": 0,
             "ticks": ""
            },
            "colorscale": [
             [
              0,
              "#0d0887"
             ],
             [
              0.1111111111111111,
              "#46039f"
             ],
             [
              0.2222222222222222,
              "#7201a8"
             ],
             [
              0.3333333333333333,
              "#9c179e"
             ],
             [
              0.4444444444444444,
              "#bd3786"
             ],
             [
              0.5555555555555556,
              "#d8576b"
             ],
             [
              0.6666666666666666,
              "#ed7953"
             ],
             [
              0.7777777777777778,
              "#fb9f3a"
             ],
             [
              0.8888888888888888,
              "#fdca26"
             ],
             [
              1,
              "#f0f921"
             ]
            ],
            "type": "histogram2d"
           }
          ],
          "histogram2dcontour": [
           {
            "colorbar": {
             "outlinewidth": 0,
             "ticks": ""
            },
            "colorscale": [
             [
              0,
              "#0d0887"
             ],
             [
              0.1111111111111111,
              "#46039f"
             ],
             [
              0.2222222222222222,
              "#7201a8"
             ],
             [
              0.3333333333333333,
              "#9c179e"
             ],
             [
              0.4444444444444444,
              "#bd3786"
             ],
             [
              0.5555555555555556,
              "#d8576b"
             ],
             [
              0.6666666666666666,
              "#ed7953"
             ],
             [
              0.7777777777777778,
              "#fb9f3a"
             ],
             [
              0.8888888888888888,
              "#fdca26"
             ],
             [
              1,
              "#f0f921"
             ]
            ],
            "type": "histogram2dcontour"
           }
          ],
          "mesh3d": [
           {
            "colorbar": {
             "outlinewidth": 0,
             "ticks": ""
            },
            "type": "mesh3d"
           }
          ],
          "parcoords": [
           {
            "line": {
             "colorbar": {
              "outlinewidth": 0,
              "ticks": ""
             }
            },
            "type": "parcoords"
           }
          ],
          "pie": [
           {
            "automargin": true,
            "type": "pie"
           }
          ],
          "scatter": [
           {
            "fillpattern": {
             "fillmode": "overlay",
             "size": 10,
             "solidity": 0.2
            },
            "type": "scatter"
           }
          ],
          "scatter3d": [
           {
            "line": {
             "colorbar": {
              "outlinewidth": 0,
              "ticks": ""
             }
            },
            "marker": {
             "colorbar": {
              "outlinewidth": 0,
              "ticks": ""
             }
            },
            "type": "scatter3d"
           }
          ],
          "scattercarpet": [
           {
            "marker": {
             "colorbar": {
              "outlinewidth": 0,
              "ticks": ""
             }
            },
            "type": "scattercarpet"
           }
          ],
          "scattergeo": [
           {
            "marker": {
             "colorbar": {
              "outlinewidth": 0,
              "ticks": ""
             }
            },
            "type": "scattergeo"
           }
          ],
          "scattergl": [
           {
            "marker": {
             "colorbar": {
              "outlinewidth": 0,
              "ticks": ""
             }
            },
            "type": "scattergl"
           }
          ],
          "scattermap": [
           {
            "marker": {
             "colorbar": {
              "outlinewidth": 0,
              "ticks": ""
             }
            },
            "type": "scattermap"
           }
          ],
          "scattermapbox": [
           {
            "marker": {
             "colorbar": {
              "outlinewidth": 0,
              "ticks": ""
             }
            },
            "type": "scattermapbox"
           }
          ],
          "scatterpolar": [
           {
            "marker": {
             "colorbar": {
              "outlinewidth": 0,
              "ticks": ""
             }
            },
            "type": "scatterpolar"
           }
          ],
          "scatterpolargl": [
           {
            "marker": {
             "colorbar": {
              "outlinewidth": 0,
              "ticks": ""
             }
            },
            "type": "scatterpolargl"
           }
          ],
          "scatterternary": [
           {
            "marker": {
             "colorbar": {
              "outlinewidth": 0,
              "ticks": ""
             }
            },
            "type": "scatterternary"
           }
          ],
          "surface": [
           {
            "colorbar": {
             "outlinewidth": 0,
             "ticks": ""
            },
            "colorscale": [
             [
              0,
              "#0d0887"
             ],
             [
              0.1111111111111111,
              "#46039f"
             ],
             [
              0.2222222222222222,
              "#7201a8"
             ],
             [
              0.3333333333333333,
              "#9c179e"
             ],
             [
              0.4444444444444444,
              "#bd3786"
             ],
             [
              0.5555555555555556,
              "#d8576b"
             ],
             [
              0.6666666666666666,
              "#ed7953"
             ],
             [
              0.7777777777777778,
              "#fb9f3a"
             ],
             [
              0.8888888888888888,
              "#fdca26"
             ],
             [
              1,
              "#f0f921"
             ]
            ],
            "type": "surface"
           }
          ],
          "table": [
           {
            "cells": {
             "fill": {
              "color": "#EBF0F8"
             },
             "line": {
              "color": "white"
             }
            },
            "header": {
             "fill": {
              "color": "#C8D4E3"
             },
             "line": {
              "color": "white"
             }
            },
            "type": "table"
           }
          ]
         },
         "layout": {
          "annotationdefaults": {
           "arrowcolor": "#2a3f5f",
           "arrowhead": 0,
           "arrowwidth": 1
          },
          "autotypenumbers": "strict",
          "coloraxis": {
           "colorbar": {
            "outlinewidth": 0,
            "ticks": ""
           }
          },
          "colorscale": {
           "diverging": [
            [
             0,
             "#8e0152"
            ],
            [
             0.1,
             "#c51b7d"
            ],
            [
             0.2,
             "#de77ae"
            ],
            [
             0.3,
             "#f1b6da"
            ],
            [
             0.4,
             "#fde0ef"
            ],
            [
             0.5,
             "#f7f7f7"
            ],
            [
             0.6,
             "#e6f5d0"
            ],
            [
             0.7,
             "#b8e186"
            ],
            [
             0.8,
             "#7fbc41"
            ],
            [
             0.9,
             "#4d9221"
            ],
            [
             1,
             "#276419"
            ]
           ],
           "sequential": [
            [
             0,
             "#0d0887"
            ],
            [
             0.1111111111111111,
             "#46039f"
            ],
            [
             0.2222222222222222,
             "#7201a8"
            ],
            [
             0.3333333333333333,
             "#9c179e"
            ],
            [
             0.4444444444444444,
             "#bd3786"
            ],
            [
             0.5555555555555556,
             "#d8576b"
            ],
            [
             0.6666666666666666,
             "#ed7953"
            ],
            [
             0.7777777777777778,
             "#fb9f3a"
            ],
            [
             0.8888888888888888,
             "#fdca26"
            ],
            [
             1,
             "#f0f921"
            ]
           ],
           "sequentialminus": [
            [
             0,
             "#0d0887"
            ],
            [
             0.1111111111111111,
             "#46039f"
            ],
            [
             0.2222222222222222,
             "#7201a8"
            ],
            [
             0.3333333333333333,
             "#9c179e"
            ],
            [
             0.4444444444444444,
             "#bd3786"
            ],
            [
             0.5555555555555556,
             "#d8576b"
            ],
            [
             0.6666666666666666,
             "#ed7953"
            ],
            [
             0.7777777777777778,
             "#fb9f3a"
            ],
            [
             0.8888888888888888,
             "#fdca26"
            ],
            [
             1,
             "#f0f921"
            ]
           ]
          },
          "colorway": [
           "#636efa",
           "#EF553B",
           "#00cc96",
           "#ab63fa",
           "#FFA15A",
           "#19d3f3",
           "#FF6692",
           "#B6E880",
           "#FF97FF",
           "#FECB52"
          ],
          "font": {
           "color": "#2a3f5f"
          },
          "geo": {
           "bgcolor": "white",
           "lakecolor": "white",
           "landcolor": "#E5ECF6",
           "showlakes": true,
           "showland": true,
           "subunitcolor": "white"
          },
          "hoverlabel": {
           "align": "left"
          },
          "hovermode": "closest",
          "mapbox": {
           "style": "light"
          },
          "paper_bgcolor": "white",
          "plot_bgcolor": "#E5ECF6",
          "polar": {
           "angularaxis": {
            "gridcolor": "white",
            "linecolor": "white",
            "ticks": ""
           },
           "bgcolor": "#E5ECF6",
           "radialaxis": {
            "gridcolor": "white",
            "linecolor": "white",
            "ticks": ""
           }
          },
          "scene": {
           "xaxis": {
            "backgroundcolor": "#E5ECF6",
            "gridcolor": "white",
            "gridwidth": 2,
            "linecolor": "white",
            "showbackground": true,
            "ticks": "",
            "zerolinecolor": "white"
           },
           "yaxis": {
            "backgroundcolor": "#E5ECF6",
            "gridcolor": "white",
            "gridwidth": 2,
            "linecolor": "white",
            "showbackground": true,
            "ticks": "",
            "zerolinecolor": "white"
           },
           "zaxis": {
            "backgroundcolor": "#E5ECF6",
            "gridcolor": "white",
            "gridwidth": 2,
            "linecolor": "white",
            "showbackground": true,
            "ticks": "",
            "zerolinecolor": "white"
           }
          },
          "shapedefaults": {
           "line": {
            "color": "#2a3f5f"
           }
          },
          "ternary": {
           "aaxis": {
            "gridcolor": "white",
            "linecolor": "white",
            "ticks": ""
           },
           "baxis": {
            "gridcolor": "white",
            "linecolor": "white",
            "ticks": ""
           },
           "bgcolor": "#E5ECF6",
           "caxis": {
            "gridcolor": "white",
            "linecolor": "white",
            "ticks": ""
           }
          },
          "title": {
           "x": 0.05
          },
          "xaxis": {
           "automargin": true,
           "gridcolor": "white",
           "linecolor": "white",
           "ticks": "",
           "title": {
            "standoff": 15
           },
           "zerolinecolor": "white",
           "zerolinewidth": 2
          },
          "yaxis": {
           "automargin": true,
           "gridcolor": "white",
           "linecolor": "white",
           "ticks": "",
           "title": {
            "standoff": 15
           },
           "zerolinecolor": "white",
           "zerolinewidth": 2
          }
         }
        },
        "title": {
         "text": "Keyword mentions over time (top 20 keywords)"
        },
        "xaxis": {
         "anchor": "y",
         "domain": [
          0,
          1
         ],
         "title": {
          "text": "Year"
         }
        },
        "yaxis": {
         "anchor": "x",
         "domain": [
          0,
          1
         ],
         "title": {
          "text": "Number of Grants"
         }
        }
       }
      }
     },
     "metadata": {},
     "output_type": "display_data"
    }
   ],
   "source": [
    "# pivot to wide format: rows = year, cols = keyword\n",
    "df_pivot = df_kw_time.pivot(index='year', columns='term', values='count').fillna(0).sort_index()\n",
    "present_terms = [t for t in selected_terms if t in df_pivot.columns]\n",
    "\n",
    "# line plot (one line per keyword)\n",
    "fig_kw_time = px.line(\n",
    "    df_pivot.reset_index(),\n",
    "    x='year',\n",
    "    y=present_terms,\n",
    "    labels={'value': 'Number of Grants', 'variable': 'Keyword', 'year': 'Year'},\n",
    "    title=f'Keyword mentions over time (top {len(present_terms)} keywords)'\n",
    ")\n",
    "fig_kw_time.update_layout(legend=dict(orientation='v', yanchor='top', y=0.95, xanchor='left', x=1.02))\n",
    "fig_kw_time.show()\n"
   ]
  },
  {
   "cell_type": "code",
   "execution_count": 31,
   "id": "2b9e76e7",
   "metadata": {},
   "outputs": [
    {
     "data": {
      "application/vnd.plotly.v1+json": {
       "config": {
        "plotlyServerURL": "https://plot.ly"
       },
       "data": [
        {
         "coloraxis": "coloraxis",
         "hovertemplate": "Year: %{x}<br>Keyword: %{y}<br>Number of Grants: %{z}<extra></extra>",
         "name": "0",
         "type": "heatmap",
         "x": {
          "bdata": "wwfEB8UHxgfHB8gHyQfKB8sHzAfNB84HzwfQB9EH0gfTB9QH1QfWB9cH2AfZB9oH2wfcB90H3gffB+AH4QfiB+MH5AflB+YH5wfoBw==",
          "dtype": "i2"
         },
         "xaxis": "x",
         "y": [
          "Host-pathogen interactions",
          "bio-integrated nano-photonics",
          "biomarker discovery",
          "climate change impact",
          "clinical translation",
          "developmental biology",
          "epigenetic regulation",
          "gene regulation",
          "health equity",
          "interdisciplinary collaboration",
          "interdisciplinary research",
          "international collaboration",
          "molecular mechanisms",
          "neuroimaging",
          "precision medicine",
          "public health policy",
          "regenerative medicine",
          "structural biology",
          "therapeutic targets",
          "translational research"
         ],
         "yaxis": "y",
         "z": {
          "bdata": "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",
          "dtype": "f8",
          "shape": "20, 38"
         }
        }
       ],
       "layout": {
        "coloraxis": {
         "colorbar": {
          "title": {
           "text": "Number of Grants"
          }
         },
         "colorscale": [
          [
           0,
           "#0d0887"
          ],
          [
           0.1111111111111111,
           "#46039f"
          ],
          [
           0.2222222222222222,
           "#7201a8"
          ],
          [
           0.3333333333333333,
           "#9c179e"
          ],
          [
           0.4444444444444444,
           "#bd3786"
          ],
          [
           0.5555555555555556,
           "#d8576b"
          ],
          [
           0.6666666666666666,
           "#ed7953"
          ],
          [
           0.7777777777777778,
           "#fb9f3a"
          ],
          [
           0.8888888888888888,
           "#fdca26"
          ],
          [
           1,
           "#f0f921"
          ]
         ]
        },
        "height": 800,
        "margin": {
         "b": 20,
         "l": 200,
         "r": 20,
         "t": 60
        },
        "template": {
         "data": {
          "bar": [
           {
            "error_x": {
             "color": "#2a3f5f"
            },
            "error_y": {
             "color": "#2a3f5f"
            },
            "marker": {
             "line": {
              "color": "#E5ECF6",
              "width": 0.5
             },
             "pattern": {
              "fillmode": "overlay",
              "size": 10,
              "solidity": 0.2
             }
            },
            "type": "bar"
           }
          ],
          "barpolar": [
           {
            "marker": {
             "line": {
              "color": "#E5ECF6",
              "width": 0.5
             },
             "pattern": {
              "fillmode": "overlay",
              "size": 10,
              "solidity": 0.2
             }
            },
            "type": "barpolar"
           }
          ],
          "carpet": [
           {
            "aaxis": {
             "endlinecolor": "#2a3f5f",
             "gridcolor": "white",
             "linecolor": "white",
             "minorgridcolor": "white",
             "startlinecolor": "#2a3f5f"
            },
            "baxis": {
             "endlinecolor": "#2a3f5f",
             "gridcolor": "white",
             "linecolor": "white",
             "minorgridcolor": "white",
             "startlinecolor": "#2a3f5f"
            },
            "type": "carpet"
           }
          ],
          "choropleth": [
           {
            "colorbar": {
             "outlinewidth": 0,
             "ticks": ""
            },
            "type": "choropleth"
           }
          ],
          "contour": [
           {
            "colorbar": {
             "outlinewidth": 0,
             "ticks": ""
            },
            "colorscale": [
             [
              0,
              "#0d0887"
             ],
             [
              0.1111111111111111,
              "#46039f"
             ],
             [
              0.2222222222222222,
              "#7201a8"
             ],
             [
              0.3333333333333333,
              "#9c179e"
             ],
             [
              0.4444444444444444,
              "#bd3786"
             ],
             [
              0.5555555555555556,
              "#d8576b"
             ],
             [
              0.6666666666666666,
              "#ed7953"
             ],
             [
              0.7777777777777778,
              "#fb9f3a"
             ],
             [
              0.8888888888888888,
              "#fdca26"
             ],
             [
              1,
              "#f0f921"
             ]
            ],
            "type": "contour"
           }
          ],
          "contourcarpet": [
           {
            "colorbar": {
             "outlinewidth": 0,
             "ticks": ""
            },
            "type": "contourcarpet"
           }
          ],
          "heatmap": [
           {
            "colorbar": {
             "outlinewidth": 0,
             "ticks": ""
            },
            "colorscale": [
             [
              0,
              "#0d0887"
             ],
             [
              0.1111111111111111,
              "#46039f"
             ],
             [
              0.2222222222222222,
              "#7201a8"
             ],
             [
              0.3333333333333333,
              "#9c179e"
             ],
             [
              0.4444444444444444,
              "#bd3786"
             ],
             [
              0.5555555555555556,
              "#d8576b"
             ],
             [
              0.6666666666666666,
              "#ed7953"
             ],
             [
              0.7777777777777778,
              "#fb9f3a"
             ],
             [
              0.8888888888888888,
              "#fdca26"
             ],
             [
              1,
              "#f0f921"
             ]
            ],
            "type": "heatmap"
           }
          ],
          "histogram": [
           {
            "marker": {
             "pattern": {
              "fillmode": "overlay",
              "size": 10,
              "solidity": 0.2
             }
            },
            "type": "histogram"
           }
          ],
          "histogram2d": [
           {
            "colorbar": {
             "outlinewidth": 0,
             "ticks": ""
            },
            "colorscale": [
             [
              0,
              "#0d0887"
             ],
             [
              0.1111111111111111,
              "#46039f"
             ],
             [
              0.2222222222222222,
              "#7201a8"
             ],
             [
              0.3333333333333333,
              "#9c179e"
             ],
             [
              0.4444444444444444,
              "#bd3786"
             ],
             [
              0.5555555555555556,
              "#d8576b"
             ],
             [
              0.6666666666666666,
              "#ed7953"
             ],
             [
              0.7777777777777778,
              "#fb9f3a"
             ],
             [
              0.8888888888888888,
              "#fdca26"
             ],
             [
              1,
              "#f0f921"
             ]
            ],
            "type": "histogram2d"
           }
          ],
          "histogram2dcontour": [
           {
            "colorbar": {
             "outlinewidth": 0,
             "ticks": ""
            },
            "colorscale": [
             [
              0,
              "#0d0887"
             ],
             [
              0.1111111111111111,
              "#46039f"
             ],
             [
              0.2222222222222222,
              "#7201a8"
             ],
             [
              0.3333333333333333,
              "#9c179e"
             ],
             [
              0.4444444444444444,
              "#bd3786"
             ],
             [
              0.5555555555555556,
              "#d8576b"
             ],
             [
              0.6666666666666666,
              "#ed7953"
             ],
             [
              0.7777777777777778,
              "#fb9f3a"
             ],
             [
              0.8888888888888888,
              "#fdca26"
             ],
             [
              1,
              "#f0f921"
             ]
            ],
            "type": "histogram2dcontour"
           }
          ],
          "mesh3d": [
           {
            "colorbar": {
             "outlinewidth": 0,
             "ticks": ""
            },
            "type": "mesh3d"
           }
          ],
          "parcoords": [
           {
            "line": {
             "colorbar": {
              "outlinewidth": 0,
              "ticks": ""
             }
            },
            "type": "parcoords"
           }
          ],
          "pie": [
           {
            "automargin": true,
            "type": "pie"
           }
          ],
          "scatter": [
           {
            "fillpattern": {
             "fillmode": "overlay",
             "size": 10,
             "solidity": 0.2
            },
            "type": "scatter"
           }
          ],
          "scatter3d": [
           {
            "line": {
             "colorbar": {
              "outlinewidth": 0,
              "ticks": ""
             }
            },
            "marker": {
             "colorbar": {
              "outlinewidth": 0,
              "ticks": ""
             }
            },
            "type": "scatter3d"
           }
          ],
          "scattercarpet": [
           {
            "marker": {
             "colorbar": {
              "outlinewidth": 0,
              "ticks": ""
             }
            },
            "type": "scattercarpet"
           }
          ],
          "scattergeo": [
           {
            "marker": {
             "colorbar": {
              "outlinewidth": 0,
              "ticks": ""
             }
            },
            "type": "scattergeo"
           }
          ],
          "scattergl": [
           {
            "marker": {
             "colorbar": {
              "outlinewidth": 0,
              "ticks": ""
             }
            },
            "type": "scattergl"
           }
          ],
          "scattermap": [
           {
            "marker": {
             "colorbar": {
              "outlinewidth": 0,
              "ticks": ""
             }
            },
            "type": "scattermap"
           }
          ],
          "scattermapbox": [
           {
            "marker": {
             "colorbar": {
              "outlinewidth": 0,
              "ticks": ""
             }
            },
            "type": "scattermapbox"
           }
          ],
          "scatterpolar": [
           {
            "marker": {
             "colorbar": {
              "outlinewidth": 0,
              "ticks": ""
             }
            },
            "type": "scatterpolar"
           }
          ],
          "scatterpolargl": [
           {
            "marker": {
             "colorbar": {
              "outlinewidth": 0,
              "ticks": ""
             }
            },
            "type": "scatterpolargl"
           }
          ],
          "scatterternary": [
           {
            "marker": {
             "colorbar": {
              "outlinewidth": 0,
              "ticks": ""
             }
            },
            "type": "scatterternary"
           }
          ],
          "surface": [
           {
            "colorbar": {
             "outlinewidth": 0,
             "ticks": ""
            },
            "colorscale": [
             [
              0,
              "#0d0887"
             ],
             [
              0.1111111111111111,
              "#46039f"
             ],
             [
              0.2222222222222222,
              "#7201a8"
             ],
             [
              0.3333333333333333,
              "#9c179e"
             ],
             [
              0.4444444444444444,
              "#bd3786"
             ],
             [
              0.5555555555555556,
              "#d8576b"
             ],
             [
              0.6666666666666666,
              "#ed7953"
             ],
             [
              0.7777777777777778,
              "#fb9f3a"
             ],
             [
              0.8888888888888888,
              "#fdca26"
             ],
             [
              1,
              "#f0f921"
             ]
            ],
            "type": "surface"
           }
          ],
          "table": [
           {
            "cells": {
             "fill": {
              "color": "#EBF0F8"
             },
             "line": {
              "color": "white"
             }
            },
            "header": {
             "fill": {
              "color": "#C8D4E3"
             },
             "line": {
              "color": "white"
             }
            },
            "type": "table"
           }
          ]
         },
         "layout": {
          "annotationdefaults": {
           "arrowcolor": "#2a3f5f",
           "arrowhead": 0,
           "arrowwidth": 1
          },
          "autotypenumbers": "strict",
          "coloraxis": {
           "colorbar": {
            "outlinewidth": 0,
            "ticks": ""
           }
          },
          "colorscale": {
           "diverging": [
            [
             0,
             "#8e0152"
            ],
            [
             0.1,
             "#c51b7d"
            ],
            [
             0.2,
             "#de77ae"
            ],
            [
             0.3,
             "#f1b6da"
            ],
            [
             0.4,
             "#fde0ef"
            ],
            [
             0.5,
             "#f7f7f7"
            ],
            [
             0.6,
             "#e6f5d0"
            ],
            [
             0.7,
             "#b8e186"
            ],
            [
             0.8,
             "#7fbc41"
            ],
            [
             0.9,
             "#4d9221"
            ],
            [
             1,
             "#276419"
            ]
           ],
           "sequential": [
            [
             0,
             "#0d0887"
            ],
            [
             0.1111111111111111,
             "#46039f"
            ],
            [
             0.2222222222222222,
             "#7201a8"
            ],
            [
             0.3333333333333333,
             "#9c179e"
            ],
            [
             0.4444444444444444,
             "#bd3786"
            ],
            [
             0.5555555555555556,
             "#d8576b"
            ],
            [
             0.6666666666666666,
             "#ed7953"
            ],
            [
             0.7777777777777778,
             "#fb9f3a"
            ],
            [
             0.8888888888888888,
             "#fdca26"
            ],
            [
             1,
             "#f0f921"
            ]
           ],
           "sequentialminus": [
            [
             0,
             "#0d0887"
            ],
            [
             0.1111111111111111,
             "#46039f"
            ],
            [
             0.2222222222222222,
             "#7201a8"
            ],
            [
             0.3333333333333333,
             "#9c179e"
            ],
            [
             0.4444444444444444,
             "#bd3786"
            ],
            [
             0.5555555555555556,
             "#d8576b"
            ],
            [
             0.6666666666666666,
             "#ed7953"
            ],
            [
             0.7777777777777778,
             "#fb9f3a"
            ],
            [
             0.8888888888888888,
             "#fdca26"
            ],
            [
             1,
             "#f0f921"
            ]
           ]
          },
          "colorway": [
           "#636efa",
           "#EF553B",
           "#00cc96",
           "#ab63fa",
           "#FFA15A",
           "#19d3f3",
           "#FF6692",
           "#B6E880",
           "#FF97FF",
           "#FECB52"
          ],
          "font": {
           "color": "#2a3f5f"
          },
          "geo": {
           "bgcolor": "white",
           "lakecolor": "white",
           "landcolor": "#E5ECF6",
           "showlakes": true,
           "showland": true,
           "subunitcolor": "white"
          },
          "hoverlabel": {
           "align": "left"
          },
          "hovermode": "closest",
          "mapbox": {
           "style": "light"
          },
          "paper_bgcolor": "white",
          "plot_bgcolor": "#E5ECF6",
          "polar": {
           "angularaxis": {
            "gridcolor": "white",
            "linecolor": "white",
            "ticks": ""
           },
           "bgcolor": "#E5ECF6",
           "radialaxis": {
            "gridcolor": "white",
            "linecolor": "white",
            "ticks": ""
           }
          },
          "scene": {
           "xaxis": {
            "backgroundcolor": "#E5ECF6",
            "gridcolor": "white",
            "gridwidth": 2,
            "linecolor": "white",
            "showbackground": true,
            "ticks": "",
            "zerolinecolor": "white"
           },
           "yaxis": {
            "backgroundcolor": "#E5ECF6",
            "gridcolor": "white",
            "gridwidth": 2,
            "linecolor": "white",
            "showbackground": true,
            "ticks": "",
            "zerolinecolor": "white"
           },
           "zaxis": {
            "backgroundcolor": "#E5ECF6",
            "gridcolor": "white",
            "gridwidth": 2,
            "linecolor": "white",
            "showbackground": true,
            "ticks": "",
            "zerolinecolor": "white"
           }
          },
          "shapedefaults": {
           "line": {
            "color": "#2a3f5f"
           }
          },
          "ternary": {
           "aaxis": {
            "gridcolor": "white",
            "linecolor": "white",
            "ticks": ""
           },
           "baxis": {
            "gridcolor": "white",
            "linecolor": "white",
            "ticks": ""
           },
           "bgcolor": "#E5ECF6",
           "caxis": {
            "gridcolor": "white",
            "linecolor": "white",
            "ticks": ""
           }
          },
          "title": {
           "x": 0.05
          },
          "xaxis": {
           "automargin": true,
           "gridcolor": "white",
           "linecolor": "white",
           "ticks": "",
           "title": {
            "standoff": 15
           },
           "zerolinecolor": "white",
           "zerolinewidth": 2
          },
          "yaxis": {
           "automargin": true,
           "gridcolor": "white",
           "linecolor": "white",
           "ticks": "",
           "title": {
            "standoff": 15
           },
           "zerolinecolor": "white",
           "zerolinewidth": 2
          }
         }
        },
        "title": {
         "text": "Heatmap: Keyword mentions over time (top 20 keywords)"
        },
        "xaxis": {
         "anchor": "y",
         "domain": [
          0,
          1
         ],
         "tickmode": "linear",
         "title": {
          "text": "Year"
         }
        },
        "yaxis": {
         "anchor": "x",
         "autorange": "reversed",
         "domain": [
          0,
          1
         ],
         "title": {
          "text": "Keyword"
         }
        }
       }
      }
     },
     "metadata": {},
     "output_type": "display_data"
    }
   ],
   "source": [
    "\n",
    "# heatmap for a compact overview (keywords on y-axis, years on x-axis)\n",
    "fig_kw_heat = px.imshow(\n",
    "    df_pivot.T,\n",
    "    aspect='auto',\n",
    "    labels=dict(x='Year', y='Keyword', color='Number of Grants'),\n",
    "    title=f'Heatmap: Keyword mentions over time (top {len(present_terms)} keywords)'\n",
    ")\n",
    "fig_kw_heat.update_xaxes(tickmode='linear')\n",
    "fig_kw_heat.update_layout(height=400 + 20 * len(present_terms), margin=dict(l=200, r=20, t=60, b=20))\n",
    "fig_kw_heat.show()"
   ]
  },
  {
   "cell_type": "code",
   "execution_count": null,
   "id": "ffe4c578",
   "metadata": {},
   "outputs": [],
   "source": []
  }
 ],
 "metadata": {
  "kernelspec": {
   "display_name": "modeling (3.12.10)",
   "language": "python",
   "name": "python3"
  },
  "language_info": {
   "codemirror_mode": {
    "name": "ipython",
    "version": 3
   },
   "file_extension": ".py",
   "mimetype": "text/x-python",
   "name": "python",
   "nbconvert_exporter": "python",
   "pygments_lexer": "ipython3",
   "version": "3.12.10"
  }
 },
 "nbformat": 4,
 "nbformat_minor": 5
}

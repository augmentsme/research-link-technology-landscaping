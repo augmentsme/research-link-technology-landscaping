{
 "cells": [
  {
   "cell_type": "code",
   "execution_count": null,
   "id": "3c30db15",
   "metadata": {},
   "outputs": [],
   "source": [
    "%load_ext autoreload\n",
    "%autoreload 2\n",
    "import utils\n",
    "import config\n",
    "from categorise import postprocess_categories\n",
    "import pandas as pd\n",
    "import plotly.express as px\n",
    "# px.bar(keywords.groupby(\"type\")['type'].count(), text_auto=True).update_layout(yaxis_title=\"Count\", xaxis_title=\"Type\")"
   ]
  },
  {
   "cell_type": "code",
   "execution_count": 54,
   "id": "6a0335b7",
   "metadata": {},
   "outputs": [],
   "source": [
    "keywords = config.Keywords.load()\n",
    "grants = config.Grants.load()"
   ]
  },
  {
   "cell_type": "code",
   "execution_count": 60,
   "id": "307b9076",
   "metadata": {},
   "outputs": [],
   "source": [
    "utils.get_keywords_freq_table_with_selector(keywords, grants, grants.funder == \"Australian Research Council\").drop([\"organisation_name\", \"organisation_country\", \"researcher_orcid\"], axis=1).to_csv(\"arc.csv\", index=False)"
   ]
  },
  {
   "cell_type": "code",
   "execution_count": 61,
   "id": "3a903806",
   "metadata": {},
   "outputs": [],
   "source": [
    "utils.get_keywords_freq_table_with_selector(keywords, grants, grants.funder == \"National Health and Medical Research Council\").drop([\"organisation_name\", \"organisation_country\", \"researcher_orcid\"], axis=1).to_csv(\"nhmrc.csv\", index=False)"
   ]
  },
  {
   "cell_type": "code",
   "execution_count": 62,
   "id": "a4e4be5e",
   "metadata": {},
   "outputs": [],
   "source": [
    "utils.get_keywords_freq_table_with_selector(keywords, grants, (grants.funder == \"National Health and Medical Research Council\") | (grants.funder == \"Australian Research Council\")).drop([\"organisation_name\", \"organisation_country\", \"researcher_orcid\"], axis=1).to_csv(\"both.csv\", index=False)"
   ]
  },
  {
   "cell_type": "code",
   "execution_count": null,
   "id": "ec647d2f",
   "metadata": {},
   "outputs": [],
   "source": []
  }
 ],
 "metadata": {
  "kernelspec": {
   "display_name": "modeling (3.12.10)",
   "language": "python",
   "name": "python3"
  },
  "language_info": {
   "codemirror_mode": {
    "name": "ipython",
    "version": 3
   },
   "file_extension": ".py",
   "mimetype": "text/x-python",
   "name": "python",
   "nbconvert_exporter": "python",
   "pygments_lexer": "ipython3",
   "version": "3.12.10"
  }
 },
 "nbformat": 4,
 "nbformat_minor": 5
}

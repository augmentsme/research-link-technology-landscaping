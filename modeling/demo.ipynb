{
 "cells": [
  {
   "cell_type": "code",
   "execution_count": 1,
   "id": "3c30db15",
   "metadata": {},
   "outputs": [],
   "source": [
    "%load_ext autoreload\n",
    "%autoreload 2\n",
    "import utils\n",
    "import config\n",
    "from categorise import postprocess_categories\n",
    "import pandas as pd\n",
    "import plotly.express as px\n",
    "# px.bar(keywords.groupby(\"type\")['type'].count(), text_auto=True).update_layout(yaxis_title=\"Count\", xaxis_title=\"Type\")"
   ]
  },
  {
   "cell_type": "code",
   "execution_count": 2,
   "id": "6a0335b7",
   "metadata": {},
   "outputs": [],
   "source": [
    "keywords = config.Keywords.load()\n",
    "grants = config.Grants.load()\n",
    "categroies = config.Categories.load()"
   ]
  },
  {
   "cell_type": "code",
   "execution_count": 8,
   "id": "ec647d2f",
   "metadata": {},
   "outputs": [
    {
     "data": {
      "text/plain": [
       "<Axes: >"
      ]
     },
     "execution_count": 8,
     "metadata": {},
     "output_type": "execute_result"
    },
    {
     "data": {
      "image/png": "[encoded data removed]",
      "text/plain": [
       "<Figure size 640x480 with 1 Axes>"
      ]
     },
     "metadata": {},
     "output_type": "display_data"
    }
   ],
   "source": [
    "categroies.keywords.map(len).hist(bins=80, log=True)"
   ]
  },
  {
   "cell_type": "code",
   "execution_count": null,
   "id": "26a671cf",
   "metadata": {},
   "outputs": [],
   "source": []
  }
 ],
 "metadata": {
  "kernelspec": {
   "display_name": "modeling",
   "language": "python",
   "name": "python3"
  },
  "language_info": {
   "codemirror_mode": {
    "name": "ipython",
    "version": 3
   },
   "file_extension": ".py",
   "mimetype": "text/x-python",
   "name": "python",
   "nbconvert_exporter": "python",
   "pygments_lexer": "ipython3",
   "version": "3.12.10"
  }
 },
 "nbformat": 4,
 "nbformat_minor": 5
}

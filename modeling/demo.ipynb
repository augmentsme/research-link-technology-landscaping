{
 "cells": [
  {
   "cell_type": "code",
   "execution_count": 3,
   "id": "eff263cd",
   "metadata": {},
   "outputs": [
    {
     "name": "stdout",
     "output_type": "stream",
     "text": [
      "The autoreload extension is already loaded. To reload it, use:\n",
      "  %reload_ext autoreload\n"
     ]
    }
   ],
   "source": [
    "%load_ext autoreload\n",
    "%autoreload 2\n",
    "\n",
    "from visualisation import (\n",
    "    create_research_landscape_treemap, \n",
    "    analyze_keyword_trends,\n",
    "    create_keyword_trends_visualization\n",
    ")\n",
    "from config import FIGURES_DIR, EXTRACTED_KEYWORDS_PATH, EXTRACTED_KEYWORDS_DIR\n",
    "from inspect_ai.log import read_eval_log\n",
    "from inspect_ai import eval_retry"
   ]
  },
  {
   "cell_type": "code",
   "execution_count": 4,
   "id": "ecb113cf",
   "metadata": {},
   "outputs": [
    {
     "data": {
      "application/vnd.plotly.v1+json": {
       "config": {
        "plotlyServerURL": "https://plot.ly"
       },
       "data": [
        {
         "customdata": [
          [
           "FOR Class",
           12,
           "for_class"
          ],
          [
           "Category",
           12,
           "category"
          ],
          [
           "Keyword",
           1,
           "keyword"
          ],
          [
           "Keyword",
           1,
           "keyword"
          ],
          [
           "Keyword",
           1,
           "keyword"
          ],
          [
           "Keyword",
           1,
           "keyword"
          ],
          [
           "Keyword",
           1,
           "keyword"
          ],
          [
           "Keyword",
           1,
           "keyword"
          ],
          [
           "Keyword",
           1,
           "keyword"
          ],
          [
           "Keyword",
           1,
           "keyword"
          ],
          [
           "Keyword",
           1,
           "keyword"
          ],
          [
           "Keyword",
           1,
           "keyword"
          ],
          [
           "Keyword",
           1,
           "keyword"
          ],
          [
           "Keyword",
           1,
           "keyword"
          ],
          [
           "FOR Class",
           22,
           "for_class"
          ],
          [
           "Category",
           22,
           "category"
          ],
          [
           "Keyword",
           1,
           "keyword"
          ],
          [
           "Keyword",
           1,
           "keyword"
          ],
          [
           "Keyword",
           1,
           "keyword"
          ],
          [
           "Keyword",
           1,
           "keyword"
          ],
          [
           "Keyword",
           1,
           "keyword"
          ],
          [
           "Keyword",
           1,
           "keyword"
          ],
          [
           "Keyword",
           1,
           "keyword"
          ],
          [
           "Keyword",
           1,
           "keyword"
          ],
          [
           "Keyword",
           1,
           "keyword"
          ],
          [
           "Keyword",
           1,
           "keyword"
          ],
          [
           "Keyword",
           1,
           "keyword"
          ],
          [
           "Keyword",
           1,
           "keyword"
          ],
          [
           "Keyword",
           1,
           "keyword"
          ],
          [
           "Keyword",
           1,
           "keyword"
          ],
          [
           "Keyword",
           1,
           "keyword"
          ],
          [
           "Keyword",
           1,
           "keyword"
          ],
          [
           "Keyword",
           1,
           "keyword"
          ],
          [
           "Keyword",
           1,
           "keyword"
          ],
          [
           "Keyword",
           1,
           "keyword"
          ],
          [
           "Keyword",
           1,
           "keyword"
          ],
          [
           "Keyword",
           1,
           "keyword"
          ],
          [
           "Keyword",
           1,
           "keyword"
          ],
          [
           "FOR Class",
           23,
           "for_class"
          ],
          [
           "Category",
           23,
           "category"
          ],
          [
           "Keyword",
           1,
           "keyword"
          ],
          [
           "Keyword",
           1,
           "keyword"
          ],
          [
           "Keyword",
           1,
           "keyword"
          ],
          [
           "Keyword",
           1,
           "keyword"
          ],
          [
           "Keyword",
           1,
           "keyword"
          ],
          [
           "Keyword",
           1,
           "keyword"
          ],
          [
           "Keyword",
           1,
           "keyword"
          ],
          [
           "Keyword",
           1,
           "keyword"
          ],
          [
           "Keyword",
           1,
           "keyword"
          ],
          [
           "Keyword",
           1,
           "keyword"
          ],
          [
           "Keyword",
           1,
           "keyword"
          ],
          [
           "Keyword",
           1,
           "keyword"
          ],
          [
           "Keyword",
           1,
           "keyword"
          ],
          [
           "Keyword",
           1,
           "keyword"
          ],
          [
           "Keyword",
           1,
           "keyword"
          ],
          [
           "Keyword",
           1,
           "keyword"
          ],
          [
           "Keyword",
           1,
           "keyword"
          ],
          [
           "Keyword",
           1,
           "keyword"
          ],
          [
           "Keyword",
           1,
           "keyword"
          ],
          [
           "Keyword",
           1,
           "keyword"
          ],
          [
           "Keyword",
           1,
           "keyword"
          ],
          [
           "Keyword",
           1,
           "keyword"
          ],
          [
           "Keyword",
           1,
           "keyword"
          ],
          [
           "FOR Class",
           23,
           "for_class"
          ],
          [
           "Category",
           23,
           "category"
          ],
          [
           "Keyword",
           1,
           "keyword"
          ],
          [
           "Keyword",
           1,
           "keyword"
          ],
          [
           "Keyword",
           1,
           "keyword"
          ],
          [
           "Keyword",
           1,
           "keyword"
          ],
          [
           "Keyword",
           1,
           "keyword"
          ],
          [
           "Keyword",
           1,
           "keyword"
          ],
          [
           "Keyword",
           1,
           "keyword"
          ],
          [
           "Keyword",
           1,
           "keyword"
          ],
          [
           "Keyword",
           1,
           "keyword"
          ],
          [
           "Keyword",
           1,
           "keyword"
          ],
          [
           "Keyword",
           1,
           "keyword"
          ],
          [
           "Keyword",
           1,
           "keyword"
          ],
          [
           "Keyword",
           1,
           "keyword"
          ],
          [
           "Keyword",
           1,
           "keyword"
          ],
          [
           "Keyword",
           1,
           "keyword"
          ],
          [
           "Keyword",
           1,
           "keyword"
          ],
          [
           "Keyword",
           1,
           "keyword"
          ],
          [
           "Keyword",
           1,
           "keyword"
          ],
          [
           "Keyword",
           1,
           "keyword"
          ],
          [
           "Keyword",
           1,
           "keyword"
          ],
          [
           "Keyword",
           1,
           "keyword"
          ],
          [
           "Keyword",
           1,
           "keyword"
          ],
          [
           "Keyword",
           1,
           "keyword"
          ],
          [
           "FOR Class",
           28,
           "for_class"
          ],
          [
           "Category",
           28,
           "category"
          ],
          [
           "Keyword",
           1,
           "keyword"
          ],
          [
           "Keyword",
           1,
           "keyword"
          ],
          [
           "Keyword",
           1,
           "keyword"
          ],
          [
           "Keyword",
           1,
           "keyword"
          ],
          [
           "Keyword",
           1,
           "keyword"
          ],
          [
           "Keyword",
           1,
           "keyword"
          ],
          [
           "Keyword",
           1,
           "keyword"
          ],
          [
           "Keyword",
           1,
           "keyword"
          ],
          [
           "Keyword",
           1,
           "keyword"
          ],
          [
           "Keyword",
           1,
           "keyword"
          ],
          [
           "Keyword",
           1,
           "keyword"
          ],
          [
           "Keyword",
           1,
           "keyword"
          ],
          [
           "Keyword",
           1,
           "keyword"
          ],
          [
           "Keyword",
           1,
           "keyword"
          ],
          [
           "Keyword",
           1,
           "keyword"
          ],
          [
           "Keyword",
           1,
           "keyword"
          ],
          [
           "Keyword",
           1,
           "keyword"
          ],
          [
           "Keyword",
           1,
           "keyword"
          ],
          [
           "Keyword",
           1,
           "keyword"
          ],
          [
           "Keyword",
           1,
           "keyword"
          ],
          [
           "Keyword",
           1,
           "keyword"
          ],
          [
           "Keyword",
           1,
           "keyword"
          ],
          [
           "Keyword",
           1,
           "keyword"
          ],
          [
           "Keyword",
           1,
           "keyword"
          ],
          [
           "Keyword",
           1,
           "keyword"
          ],
          [
           "Keyword",
           1,
           "keyword"
          ],
          [
           "Keyword",
           1,
           "keyword"
          ],
          [
           "Keyword",
           1,
           "keyword"
          ],
          [
           "FOR Class",
           30,
           "for_class"
          ],
          [
           "Category",
           21,
           "category"
          ],
          [
           "Keyword",
           1,
           "keyword"
          ],
          [
           "Keyword",
           1,
           "keyword"
          ],
          [
           "Keyword",
           1,
           "keyword"
          ],
          [
           "Keyword",
           1,
           "keyword"
          ],
          [
           "Keyword",
           1,
           "keyword"
          ],
          [
           "Keyword",
           1,
           "keyword"
          ],
          [
           "Keyword",
           1,
           "keyword"
          ],
          [
           "Keyword",
           1,
           "keyword"
          ],
          [
           "Keyword",
           1,
           "keyword"
          ],
          [
           "Keyword",
           1,
           "keyword"
          ],
          [
           "Keyword",
           1,
           "keyword"
          ],
          [
           "Keyword",
           1,
           "keyword"
          ],
          [
           "Keyword",
           1,
           "keyword"
          ],
          [
           "Keyword",
           1,
           "keyword"
          ],
          [
           "Keyword",
           1,
           "keyword"
          ],
          [
           "Keyword",
           1,
           "keyword"
          ],
          [
           "Keyword",
           1,
           "keyword"
          ],
          [
           "Keyword",
           1,
           "keyword"
          ],
          [
           "Keyword",
           1,
           "keyword"
          ],
          [
           "Keyword",
           1,
           "keyword"
          ],
          [
           "Keyword",
           1,
           "keyword"
          ],
          [
           "Category",
           9,
           "category"
          ],
          [
           "Keyword",
           1,
           "keyword"
          ],
          [
           "Keyword",
           1,
           "keyword"
          ],
          [
           "Keyword",
           1,
           "keyword"
          ],
          [
           "Keyword",
           1,
           "keyword"
          ],
          [
           "Keyword",
           1,
           "keyword"
          ],
          [
           "Keyword",
           1,
           "keyword"
          ],
          [
           "Keyword",
           1,
           "keyword"
          ],
          [
           "Keyword",
           1,
           "keyword"
          ],
          [
           "Keyword",
           1,
           "keyword"
          ],
          [
           "FOR Class",
           42,
           "for_class"
          ],
          [
           "Category",
           14,
           "category"
          ],
          [
           "Keyword",
           1,
           "keyword"
          ],
          [
           "Keyword",
           1,
           "keyword"
          ],
          [
           "Keyword",
           1,
           "keyword"
          ],
          [
           "Keyword",
           1,
           "keyword"
          ],
          [
           "Keyword",
           1,
           "keyword"
          ],
          [
           "Keyword",
           1,
           "keyword"
          ],
          [
           "Keyword",
           1,
           "keyword"
          ],
          [
           "Keyword",
           1,
           "keyword"
          ],
          [
           "Keyword",
           1,
           "keyword"
          ],
          [
           "Keyword",
           1,
           "keyword"
          ],
          [
           "Keyword",
           1,
           "keyword"
          ],
          [
           "Keyword",
           1,
           "keyword"
          ],
          [
           "Keyword",
           1,
           "keyword"
          ],
          [
           "Keyword",
           1,
           "keyword"
          ],
          [
           "Category",
           28,
           "category"
          ],
          [
           "Keyword",
           1,
           "keyword"
          ],
          [
           "Keyword",
           1,
           "keyword"
          ],
          [
           "Keyword",
           1,
           "keyword"
          ],
          [
           "Keyword",
           1,
           "keyword"
          ],
          [
           "Keyword",
           1,
           "keyword"
          ],
          [
           "Keyword",
           1,
           "keyword"
          ],
          [
           "Keyword",
           1,
           "keyword"
          ],
          [
           "Keyword",
           1,
           "keyword"
          ],
          [
           "Keyword",
           1,
           "keyword"
          ],
          [
           "Keyword",
           1,
           "keyword"
          ],
          [
           "Keyword",
           1,
           "keyword"
          ],
          [
           "Keyword",
           1,
           "keyword"
          ],
          [
           "Keyword",
           1,
           "keyword"
          ],
          [
           "Keyword",
           1,
           "keyword"
          ],
          [
           "Keyword",
           1,
           "keyword"
          ],
          [
           "Keyword",
           1,
           "keyword"
          ],
          [
           "Keyword",
           1,
           "keyword"
          ],
          [
           "Keyword",
           1,
           "keyword"
          ],
          [
           "Keyword",
           1,
           "keyword"
          ],
          [
           "Keyword",
           1,
           "keyword"
          ],
          [
           "Keyword",
           1,
           "keyword"
          ],
          [
           "Keyword",
           1,
           "keyword"
          ],
          [
           "Keyword",
           1,
           "keyword"
          ],
          [
           "Keyword",
           1,
           "keyword"
          ],
          [
           "Keyword",
           1,
           "keyword"
          ],
          [
           "Keyword",
           1,
           "keyword"
          ],
          [
           "Keyword",
           1,
           "keyword"
          ],
          [
           "Keyword",
           1,
           "keyword"
          ],
          [
           "FOR Class",
           117,
           "for_class"
          ],
          [
           "Category",
           19,
           "category"
          ],
          [
           "Keyword",
           1,
           "keyword"
          ],
          [
           "Keyword",
           1,
           "keyword"
          ],
          [
           "Keyword",
           1,
           "keyword"
          ],
          [
           "Keyword",
           1,
           "keyword"
          ],
          [
           "Keyword",
           1,
           "keyword"
          ],
          [
           "Keyword",
           1,
           "keyword"
          ],
          [
           "Keyword",
           1,
           "keyword"
          ],
          [
           "Keyword",
           1,
           "keyword"
          ],
          [
           "Keyword",
           1,
           "keyword"
          ],
          [
           "Keyword",
           1,
           "keyword"
          ],
          [
           "Keyword",
           1,
           "keyword"
          ],
          [
           "Keyword",
           1,
           "keyword"
          ],
          [
           "Keyword",
           1,
           "keyword"
          ],
          [
           "Keyword",
           1,
           "keyword"
          ],
          [
           "Keyword",
           1,
           "keyword"
          ],
          [
           "Keyword",
           1,
           "keyword"
          ],
          [
           "Keyword",
           1,
           "keyword"
          ],
          [
           "Keyword",
           1,
           "keyword"
          ],
          [
           "Keyword",
           1,
           "keyword"
          ],
          [
           "Category",
           16,
           "category"
          ],
          [
           "Keyword",
           1,
           "keyword"
          ],
          [
           "Keyword",
           1,
           "keyword"
          ],
          [
           "Keyword",
           1,
           "keyword"
          ],
          [
           "Keyword",
           1,
           "keyword"
          ],
          [
           "Keyword",
           1,
           "keyword"
          ],
          [
           "Keyword",
           1,
           "keyword"
          ],
          [
           "Keyword",
           1,
           "keyword"
          ],
          [
           "Keyword",
           1,
           "keyword"
          ],
          [
           "Keyword",
           1,
           "keyword"
          ],
          [
           "Keyword",
           1,
           "keyword"
          ],
          [
           "Keyword",
           1,
           "keyword"
          ],
          [
           "Keyword",
           1,
           "keyword"
          ],
          [
           "Keyword",
           1,
           "keyword"
          ],
          [
           "Keyword",
           1,
           "keyword"
          ],
          [
           "Keyword",
           1,
           "keyword"
          ],
          [
           "Keyword",
           1,
           "keyword"
          ],
          [
           "Category",
           12,
           "category"
          ],
          [
           "Keyword",
           1,
           "keyword"
          ],
          [
           "Keyword",
           1,
           "keyword"
          ],
          [
           "Keyword",
           1,
           "keyword"
          ],
          [
           "Keyword",
           1,
           "keyword"
          ],
          [
           "Keyword",
           1,
           "keyword"
          ],
          [
           "Keyword",
           1,
           "keyword"
          ],
          [
           "Keyword",
           1,
           "keyword"
          ],
          [
           "Keyword",
           1,
           "keyword"
          ],
          [
           "Keyword",
           1,
           "keyword"
          ],
          [
           "Keyword",
           1,
           "keyword"
          ],
          [
           "Keyword",
           1,
           "keyword"
          ],
          [
           "Keyword",
           1,
           "keyword"
          ],
          [
           "Category",
           15,
           "category"
          ],
          [
           "Keyword",
           1,
           "keyword"
          ],
          [
           "Keyword",
           1,
           "keyword"
          ],
          [
           "Keyword",
           1,
           "keyword"
          ],
          [
           "Keyword",
           1,
           "keyword"
          ],
          [
           "Keyword",
           1,
           "keyword"
          ],
          [
           "Keyword",
           1,
           "keyword"
          ],
          [
           "Keyword",
           1,
           "keyword"
          ],
          [
           "Keyword",
           1,
           "keyword"
          ],
          [
           "Keyword",
           1,
           "keyword"
          ],
          [
           "Keyword",
           1,
           "keyword"
          ],
          [
           "Keyword",
           1,
           "keyword"
          ],
          [
           "Keyword",
           1,
           "keyword"
          ],
          [
           "Keyword",
           1,
           "keyword"
          ],
          [
           "Keyword",
           1,
           "keyword"
          ],
          [
           "Keyword",
           1,
           "keyword"
          ],
          [
           "Category",
           48,
           "category"
          ],
          [
           "Keyword",
           1,
           "keyword"
          ],
          [
           "Keyword",
           1,
           "keyword"
          ],
          [
           "Keyword",
           1,
           "keyword"
          ],
          [
           "Keyword",
           1,
           "keyword"
          ],
          [
           "Keyword",
           1,
           "keyword"
          ],
          [
           "Keyword",
           1,
           "keyword"
          ],
          [
           "Keyword",
           1,
           "keyword"
          ],
          [
           "Keyword",
           1,
           "keyword"
          ],
          [
           "Keyword",
           1,
           "keyword"
          ],
          [
           "Keyword",
           1,
           "keyword"
          ],
          [
           "Keyword",
           1,
           "keyword"
          ],
          [
           "Keyword",
           1,
           "keyword"
          ],
          [
           "Keyword",
           1,
           "keyword"
          ],
          [
           "Keyword",
           1,
           "keyword"
          ],
          [
           "Keyword",
           1,
           "keyword"
          ],
          [
           "Keyword",
           1,
           "keyword"
          ],
          [
           "Keyword",
           1,
           "keyword"
          ],
          [
           "Keyword",
           1,
           "keyword"
          ],
          [
           "Keyword",
           1,
           "keyword"
          ],
          [
           "Keyword",
           1,
           "keyword"
          ],
          [
           "Keyword",
           1,
           "keyword"
          ],
          [
           "Keyword",
           1,
           "keyword"
          ],
          [
           "Keyword",
           1,
           "keyword"
          ],
          [
           "Keyword",
           1,
           "keyword"
          ],
          [
           "Keyword",
           1,
           "keyword"
          ],
          [
           "Keyword",
           1,
           "keyword"
          ],
          [
           "Keyword",
           1,
           "keyword"
          ],
          [
           "Keyword",
           1,
           "keyword"
          ],
          [
           "Keyword",
           1,
           "keyword"
          ],
          [
           "Keyword",
           1,
           "keyword"
          ],
          [
           "Keyword",
           1,
           "keyword"
          ],
          [
           "Keyword",
           1,
           "keyword"
          ],
          [
           "Keyword",
           1,
           "keyword"
          ],
          [
           "Keyword",
           1,
           "keyword"
          ],
          [
           "Keyword",
           1,
           "keyword"
          ],
          [
           "Keyword",
           1,
           "keyword"
          ],
          [
           "Keyword",
           1,
           "keyword"
          ],
          [
           "Keyword",
           1,
           "keyword"
          ],
          [
           "Keyword",
           1,
           "keyword"
          ],
          [
           "Keyword",
           1,
           "keyword"
          ],
          [
           "Keyword",
           1,
           "keyword"
          ],
          [
           "Keyword",
           1,
           "keyword"
          ],
          [
           "Keyword",
           1,
           "keyword"
          ],
          [
           "Keyword",
           1,
           "keyword"
          ],
          [
           "Keyword",
           1,
           "keyword"
          ],
          [
           "Keyword",
           1,
           "keyword"
          ],
          [
           "Keyword",
           1,
           "keyword"
          ],
          [
           "Keyword",
           1,
           "keyword"
          ],
          [
           "Category",
           7,
           "category"
          ],
          [
           "Keyword",
           1,
           "keyword"
          ],
          [
           "Keyword",
           1,
           "keyword"
          ],
          [
           "Keyword",
           1,
           "keyword"
          ],
          [
           "Keyword",
           1,
           "keyword"
          ],
          [
           "Keyword",
           1,
           "keyword"
          ],
          [
           "Keyword",
           1,
           "keyword"
          ],
          [
           "Keyword",
           1,
           "keyword"
          ]
         ],
         "domain": {
          "x": [
           0,
           1
          ],
          "y": [
           0,
           1
          ]
         },
         "hovertemplate": "name=%{label}<br>value=%{customdata[1]}<br>parent=%{parent}<br>id=%{id}<br>level=%{customdata[0]}<br>item_type=%{customdata[2]}<extra></extra>",
         "ids": [
          "FOR_36",
          "FOR_36 >> Advanced Robotics and Autonomous Systems",
          "FOR_36 >> Advanced Robotics and Autonomous Systems >> KW: {'term': 'disaster response robotics', 'type': 'Application', 'description': 'Use of mobile robots in civil emergencies like bushfires or rubble searches to locate people, assess damage, and support rescue operations in hazardous conditions'}",
          "FOR_36 >> Advanced Robotics and Autonomous Systems >> KW: {'term': 'semi-autonomous wheelchairs', 'type': 'Application', 'description': 'Personal mobility devices that combine human control with autonomous navigation and adaptive support to improve independence for individuals with mobility challenges'}",
          "FOR_36 >> Advanced Robotics and Autonomous Systems >> KW: {'term': 'outdoor autonomous navigation', 'type': 'Application', 'description': 'Development and testing of autonomous systems operating in unstructured, unpredictable natural environments such as forests, roads, and open fields'}",
          "FOR_36 >> Advanced Robotics and Autonomous Systems >> KW: {'term': 'real-time environmental perception', 'type': 'Application', 'description': 'Application of vision sensing to allow robotic vehicles to continuously interpret and respond to dynamic, unstructured environments such as urban scenes or underwater terrain'}",
          "FOR_36 >> Advanced Robotics and Autonomous Systems >> KW: {'term': 'networked sensor systems', 'type': 'Application', 'description': 'Distributed sensing architectures used in environmental monitoring, infrastructure safety, and wildlife habitat surveillance, where sensors communicate and coordinate over a network'}",
          "FOR_36 >> Advanced Robotics and Autonomous Systems >> KW: {'term': 'human-machine cooperation', 'type': 'Application', 'description': 'Integrated frameworks where human operators and intelligent machines work collaboratively, with continuous feedback loops to achieve tasks beyond human or machine capability alone'}",
          "FOR_36 >> Advanced Robotics and Autonomous Systems >> KW: {'term': 'human-machine vision integration', 'type': 'Application', 'description': 'Development of systems where robotic or AI vision aligns with human visual cognition, enabling more intuitive and effective interaction'}",
          "FOR_36 >> Advanced Robotics and Autonomous Systems >> KW: {'term': 'robust visual perception', 'type': 'Application', 'description': 'Goal of understanding how the brain achieves stable and accurate interpretation of visual scenes, with implications for artificial systems'}",
          "FOR_36 >> Advanced Robotics and Autonomous Systems >> KW: {'term': 'scene understanding in unstructured environments', 'type': 'Application', 'description': 'Enabling robots to comprehend complex, real-world scenes—such as construction sites or warehouses—where objects, lighting, and layout vary unpredictably'}",
          "FOR_36 >> Advanced Robotics and Autonomous Systems >> KW: {'term': 'human-robot visual alignment', 'type': 'Application', 'description': 'Enabling robots to interpret visual information in a way that matches human perception, improving safety and collaboration in shared workspaces'}",
          "FOR_36 >> Advanced Robotics and Autonomous Systems >> KW: {'term': 'surveillance and security', 'type': 'Application', 'description': 'Application of imaging systems for monitoring public spaces, detecting anomalies, and supporting security operations through real-time or remote analysis'}",
          "FOR_36 >> Advanced Robotics and Autonomous Systems >> KW: {'term': 'artificial vision for autonomous systems', 'type': 'Application', 'description': 'Enabling machines to perceive and interpret invisible or non-visible wavelengths (e.g., terahertz, infrared) for improved navigation and sensing in complex environments'}",
          "FOR_45",
          "FOR_45 >> AI, IoT, and Digital Technologies in Society",
          "FOR_45 >> AI, IoT, and Digital Technologies in Society >> KW: {'term': 'AI deployment in urban environments', 'type': 'Application', 'description': 'Exploration of how artificial intelligence is integrated into city infrastructure, including smart transportation, energy management, and public services, with focus on Australian contexts'}",
          "FOR_45 >> AI, IoT, and Digital Technologies in Society >> KW: {'term': 'economic impacts of AI in Australia', 'type': 'Application', 'description': 'Assessment of how AI influences labor markets, productivity, innovation, and economic growth across industries in Australia'}",
          "FOR_45 >> AI, IoT, and Digital Technologies in Society >> KW: {'term': 'AI environmental footprint', 'type': 'Application', 'description': 'Evaluation of the energy consumption, carbon emissions, and resource use associated with AI systems, particularly large-scale models and data centers in Australia'}",
          "FOR_45 >> AI, IoT, and Digital Technologies in Society >> KW: {'term': 'AI in household and workplace settings', 'type': 'Application', 'description': 'Examination of how AI technologies are being implemented in domestic and professional environments, including automation, decision support, and personalization'}",
          "FOR_45 >> AI, IoT, and Digital Technologies in Society >> KW: {'term': 'IoT policy frameworks', 'type': 'Application', 'description': 'Structured guidelines and regulatory approaches to govern the deployment of Internet of Things technologies in Australia, ensuring responsible and equitable use across sectors'}",
          "FOR_45 >> AI, IoT, and Digital Technologies in Society >> KW: {'term': 'smart industrial systems', 'type': 'Application', 'description': 'Integration of IoT sensors and connectivity into manufacturing and industrial environments to improve productivity, safety, and operational efficiency'}",
          "FOR_45 >> AI, IoT, and Digital Technologies in Society >> KW: {'term': 'digital service efficiency', 'type': 'Application', 'description': 'Use of IoT to enhance the performance and responsiveness of public and private sector services, such as transportation, healthcare, and utilities'}",
          "FOR_45 >> AI, IoT, and Digital Technologies in Society >> KW: {'term': 'cultural and social implications of IoT', 'type': 'Application', 'description': 'Examination of how IoT deployment affects community dynamics, privacy, equity, and digital inclusion across diverse Australian populations'}",
          "FOR_45 >> AI, IoT, and Digital Technologies in Society >> KW: {'term': 'inter-sectoral IoT integration', 'type': 'Application', 'description': 'Cross-sector coordination of IoT solutions to enable seamless data sharing and interoperability between industries and public services'}",
          "FOR_45 >> AI, IoT, and Digital Technologies in Society >> KW: {'term': 'algorithmic accountability', 'type': 'Application', 'description': 'Addressing the lack of transparency in platform algorithms that contribute to disinformation and harmful content through regulatory frameworks'}",
          "FOR_45 >> AI, IoT, and Digital Technologies in Society >> KW: {'term': 'social impact assessment of AI', 'type': 'Application', 'description': 'Evaluation of how automated decisions affect diverse communities, especially in sensitive domains like health and social services'}",
          "FOR_45 >> AI, IoT, and Digital Technologies in Society >> KW: {'term': 'cross-sectoral AI risk mitigation', 'type': 'Application', 'description': 'Strategic identification and management of risks in automated decision-making across news, transport, health, and social services'}",
          "FOR_45 >> AI, IoT, and Digital Technologies in Society >> KW: {'term': 'real-time system optimization', 'type': 'Application', 'description': 'Application of control and optimization techniques to improve efficiency, safety, and performance in real-time operations such as metal forming or energy distribution'}",
          "FOR_45 >> AI, IoT, and Digital Technologies in Society >> KW: {'term': 'predictive control strategies', 'type': 'Application', 'description': 'Development of data-driven or model-based strategies to manage and influence the behaviour of complex systems, such as climate or traffic networks'}",
          "FOR_45 >> AI, IoT, and Digital Technologies in Society >> KW: {'term': 'multi-scale system dynamics', 'type': 'Application', 'description': 'Modeling biological systems across spatial and temporal scales—from molecular interactions to organ-level function—to capture emergent behaviors in complex systems'}",
          "FOR_45 >> AI, IoT, and Digital Technologies in Society >> KW: {'term': 'network theory in natural systems', 'type': 'Application', 'description': 'Use of graph-based models to study interactions in ecological, social, or biological networks, revealing emergent properties and robustness'}",
          "FOR_45 >> AI, IoT, and Digital Technologies in Society >> KW: {'term': 'multi-agent decision making', 'type': 'Application', 'description': 'Research into how multiple autonomous agents coordinate and make decisions in shared environments, such as urban or natural landscapes'}",
          "FOR_45 >> AI, IoT, and Digital Technologies in Society >> KW: {'term': 'built environment autonomy', 'type': 'Application', 'description': 'Deployment and study of autonomous systems in structured human-made environments like cities, buildings, and infrastructure'}",
          "FOR_45 >> AI, IoT, and Digital Technologies in Society >> KW: {'term': 'wireless control reliability', 'type': 'Application', 'description': 'Focus on ensuring dependable data transmission in real-time control systems where failure can lead to safety or performance issues'}",
          "FOR_45 >> AI, IoT, and Digital Technologies in Society >> KW: {'term': 'delay-sensitive transmission', 'type': 'Application', 'description': 'Transmission strategies designed for control tasks where timing precision is critical, such as robotics or autonomous systems'}",
          "FOR_45 >> AI, IoT, and Digital Technologies in Society >> KW: {'term': 'communication channel multiplexing', 'type': 'Application', 'description': 'Real-world application where partitioned Steiner systems allow multiple users to share a communication channel without interference'}",
          "FOR_45 >> AI, IoT, and Digital Technologies in Society >> KW: {'term': 'data redundancy and fault tolerance', 'type': 'Application', 'description': 'Use of structured system properties to prevent data loss in computer storage due to hard disk failures'}",
          "FOR_33",
          "FOR_33 >> Environmental and Climate Resilience",
          "FOR_33 >> Environmental and Climate Resilience >> KW: {'term': 'climate resilience in marine ecosystems', 'type': 'Application', 'description': 'Development of science-based strategies to enhance the adaptive capacity of coral reefs to climate change and environmental stressors'}",
          "FOR_33 >> Environmental and Climate Resilience >> KW: {'term': 'community-based reef stewardship', 'type': 'Application', 'description': 'Engagement of local Indigenous and coastal communities in reef conservation and management practices to ensure cultural and social sustainability'}",
          "FOR_33 >> Environmental and Climate Resilience >> KW: {'term': 'coral reef resilience', 'type': 'Application', 'description': \"The capacity of coral reef ecosystems to recover and maintain structural and functional integrity under environmental stressors, central to the project's objective\"}",
          "FOR_33 >> Environmental and Climate Resilience >> KW: {'term': 'climate change adaptation in marine ecosystems', 'type': 'Application', 'description': 'Assessment of how marine reserve networks can support long-term sustainability under shifting climate conditions, including ocean warming and acidification'}",
          "FOR_33 >> Environmental and Climate Resilience >> KW: {'term': 'ocean acidification impacts', 'type': 'Application', 'description': 'Investigation of how reduced pH levels affect coral calcification, symbiont health, and overall metabolic efficiency in reef ecosystems'}",
          "FOR_33 >> Environmental and Climate Resilience >> KW: {'term': 'climate-resilient crop development', 'type': 'Application', 'description': 'Broader agricultural goal focused on improving crop performance under changing climate conditions to ensure food security and stable farm incomes'}",
          "FOR_33 >> Environmental and Climate Resilience >> KW: {'term': 'climate-driven weather change', 'type': 'Application', 'description': 'Focus on understanding how climate change is altering regional weather patterns in Australia, linking long-term climate trends to short-term weather variability'}",
          "FOR_33 >> Environmental and Climate Resilience >> KW: {'term': 'weather adaptation decision support', 'type': 'Application', 'description': 'Development of actionable insights to guide policy, agriculture, infrastructure, and emergency management in response to projected weather shifts'}",
          "FOR_33 >> Environmental and Climate Resilience >> KW: {'term': 'weather as a renewable resource', 'type': 'Application', 'description': 'Exploration of opportunities to harness weather patterns—such as wind, solar, and precipitation—for sustainable energy and water management'}",
          "FOR_33 >> Environmental and Climate Resilience >> KW: {'term': 'climate-heritage interactions', 'type': 'Application', 'description': 'Examining how climate change affects both biological diversity and cultural heritage sites across Australia'}",
          "FOR_33 >> Environmental and Climate Resilience >> KW: {'term': 'historical climate extreme analysis', 'type': 'Application', 'description': 'Re-examining past climate events to identify patterns, drivers, and thresholds that inform future risk assessments and projections'}",
          "FOR_33 >> Environmental and Climate Resilience >> KW: {'term': 'climate resilience frameworks', 'type': 'Application', 'description': 'Development of actionable strategies and policy tools to strengthen societal, environmental, and economic adaptation to climate extremes'}",
          "FOR_33 >> Environmental and Climate Resilience >> KW: {'term': 'environmental change tracking', 'type': 'Application', 'description': 'Long-term monitoring and analysis of environmental shifts to understand drivers and impacts on native ecosystems'}",
          "FOR_33 >> Environmental and Climate Resilience >> KW: {'term': 'adaptive environmental policy', 'type': 'Application', 'description': 'Developing evidence-based, flexible policy strategies that respond to dynamic environmental changes and emerging threats'}",
          "FOR_33 >> Environmental and Climate Resilience >> KW: {'term': 'social-ecological governance', 'type': 'Application', 'description': 'Investigation into how local communities, policymakers, and institutions can collaborate to improve reef management and policy frameworks'}",
          "FOR_33 >> Environmental and Climate Resilience >> KW: {'term': 'cultural heritage integration', 'type': 'Application', 'description': 'Incorporating Indigenous knowledge and cultural perspectives into biodiversity conservation and environmental management frameworks'}",
          "FOR_33 >> Environmental and Climate Resilience >> KW: {'term': 'sustainable land and sea management', 'type': 'Application', 'description': 'Ecologically responsible practices in managing natural resources that support long-term environmental health and community well-being'}",
          "FOR_33 >> Environmental and Climate Resilience >> KW: {'term': 'policy-informed environmental forecasting', 'type': 'Application', 'description': 'Generation of evidence-based projections of environmental change to support informed decision-making in government and Indigenous-led governance'}",
          "FOR_33 >> Environmental and Climate Resilience >> KW: {'term': 'ecosystem water cycling', 'type': 'Application', 'description': 'The broader process by which trees and vegetation regulate water movement through the atmosphere and soil under changing climate conditions'}",
          "FOR_33 >> Environmental and Climate Resilience >> KW: {'term': 'tree growth dynamics', 'type': 'Application', 'description': 'The response of tree physiology and growth patterns to changing seasonal water availability under altered rainfall timing'}",
          "FOR_33 >> Environmental and Climate Resilience >> KW: {'term': 'plant water use efficiency', 'type': 'Application', 'description': 'A key agricultural and ecological outcome linked to stomatal function, influencing crop yields and sustainability under changing climate conditions'}",
          "FOR_33 >> Environmental and Climate Resilience >> KW: {'term': 'seasonal drought response', 'type': 'Application', 'description': 'Understanding how trees adapt their water uptake and transpiration when spring droughts are replaced by autumn rainfall'}",
          "FOR_33 >> Environmental and Climate Resilience >> KW: {'term': 'rainfall timing shift', 'type': 'Application', 'description': 'A key climate change scenario where precipitation moves from spring to autumn, altering the hydrological cycle and plant water availability'}",
          "FOR_44",
          "FOR_44 >> Quantum and Fundamental Physics Research",
          "FOR_44 >> Quantum and Fundamental Physics Research >> KW: {'term': 'Bose-Einstein condensation', 'type': 'Application', 'description': 'A quantum state of matter achieved at ultra-low temperatures where atoms behave as a single coherent wave, used in precision measurements and quantum simulation'}",
          "FOR_44 >> Quantum and Fundamental Physics Research >> KW: {'term': 'dark matter detection', 'type': 'Application', 'description': 'A key scientific goal of the facility, focusing on identifying weakly interacting massive particles (WIMPs) through ultra-sensitive cryogenic detectors'}",
          "FOR_44 >> Quantum and Fundamental Physics Research >> KW: {'term': 'high-energy collider experiments', 'type': 'Application', 'description': 'Research conducted in environments with intense particle collisions to study rare decays and search for new particles or forces that could explain cosmic mysteries'}",
          "FOR_44 >> Quantum and Fundamental Physics Research >> KW: {'term': 'particle physics training', 'type': 'Application', 'description': 'Development of high-level educational programs to train the next generation of physicists in cutting-edge experimental and theoretical techniques'}",
          "FOR_44 >> Quantum and Fundamental Physics Research >> KW: {'term': 'particle mass generation', 'type': 'Application', 'description': 'Investigation into the mechanism by which elementary particles acquire mass, primarily through the Higgs field and its associated boson'}",
          "FOR_44 >> Quantum and Fundamental Physics Research >> KW: {'term': 'fundamental physics tests', 'type': 'Application', 'description': 'Use of ultra-precise frequency generation to probe physical constants, relativity, and potential new physics beyond the Standard Model'}",
          "FOR_44 >> Quantum and Fundamental Physics Research >> KW: {'term': \"Einstein's General Theory of Relativity\", 'type': 'Application', 'description': \"Experimental validation of Einstein's foundational theory of gravity through gravitational wave observations\"}",
          "FOR_44 >> Quantum and Fundamental Physics Research >> KW: {'term': 'relativistic gravity', 'type': 'Application', 'description': \"Investigation of Einstein's theory of general relativity under extreme conditions, testing predictions in strong gravitational fields and high-energy regimes\"}",
          "FOR_44 >> Quantum and Fundamental Physics Research >> KW: {'term': 'ultra-dense matter', 'type': 'Application', 'description': 'Study of matter in extreme states, such as neutron star interiors, to understand the equation of state and phase transitions in dense nuclear matter'}",
          "FOR_44 >> Quantum and Fundamental Physics Research >> KW: {'term': 'origin of matter and elements', 'type': 'Application', 'description': 'Research into how the fundamental building blocks of the Universe—such as protons, neutrons, and heavy elements—were formed in stellar processes and supernovae'}",
          "FOR_44 >> Quantum and Fundamental Physics Research >> KW: {'term': 'particle astrophysics', 'type': 'Application', 'description': 'Study of dark matter through astronomical observations and cosmic phenomena, linking subatomic physics with large-scale structure and cosmology'}",
          "FOR_44 >> Quantum and Fundamental Physics Research >> KW: {'term': 'multi-messenger astrophysics', 'type': 'Application', 'description': 'Integration of neutrino data with electromagnetic and gravitational wave observations to build a comprehensive picture of violent cosmic events'}",
          "FOR_44 >> Quantum and Fundamental Physics Research >> KW: {'term': 'cosmological probes', 'type': 'Application', 'description': 'Using fast radio bursts as observational tools to study large-scale structure and early universe conditions, complementing traditional probes like supernovae and galaxy surveys'}",
          "FOR_44 >> Quantum and Fundamental Physics Research >> KW: {'term': 'astroseismology', 'type': 'Application', 'description': 'The broader field of studying oscillations in stars to determine properties such as mass, age, and composition through internal sound and pressure waves'}",
          "FOR_44 >> Quantum and Fundamental Physics Research >> KW: {'term': 'open star clusters', 'type': 'Application', 'description': 'Groups of stars formed from the same molecular cloud; the project focuses on understanding their formation and evolution through high-precision stellar measurements'}",
          "FOR_44 >> Quantum and Fundamental Physics Research >> KW: {'term': 'stellar mass determination', 'type': 'Application', 'description': 'Precise measurement of star masses to understand formation dynamics and gravitational interactions within star clusters'}",
          "FOR_44 >> Quantum and Fundamental Physics Research >> KW: {'term': 'stellar age and composition analysis', 'type': 'Application', 'description': 'High-accuracy determination of stellar age and chemical composition to trace evolutionary paths and formation histories'}",
          "FOR_44 >> Quantum and Fundamental Physics Research >> KW: {'term': 'fundamental constants variation', 'type': 'Application', 'description': 'Searching for temporal or spatial variations in fundamental physical constants, which could imply new physics beyond the Standard Model'}",
          "FOR_44 >> Quantum and Fundamental Physics Research >> KW: {'term': 'extra dimensions detection', 'type': 'Application', 'description': 'Search for signatures of additional spatial dimensions that could manifest as variations in fundamental constants, providing indirect evidence for theories like string theory'}",
          "FOR_44 >> Quantum and Fundamental Physics Research >> KW: {'term': 'dark energy dynamics', 'type': 'Application', 'description': 'Exploration of how changes in fundamental constants could influence the expansion rate of the universe, offering new insights into the nature of dark energy'}",
          "FOR_44 >> Quantum and Fundamental Physics Research >> KW: {'term': 'string theory validation', 'type': 'Application', 'description': 'Search for experimental evidence supporting string theory, which posits that fundamental particles are vibrating strings in higher-dimensional space; MCMC analysis may offer observational signatures'}",
          "FOR_44 >> Quantum and Fundamental Physics Research >> KW: {'term': 'quantum entanglement in photonic devices', 'type': 'Application', 'description': 'Generation and manipulation of entangled photon pairs within micro- and nano-scale photonic circuits, forming the foundation for quantum communication and computing on integrated platforms'}",
          "FOR_44 >> Quantum and Fundamental Physics Research >> KW: {'term': 'scalable quantum photonic systems', 'type': 'Application', 'description': 'A research direction focused on developing quantum technologies that can be manufactured at scale, enabling large-scale deployment of secure quantum communication networks and high-performance quantum processors'}",
          "FOR_42",
          "FOR_42 >> Quantum Technologies and Advanced Materials",
          "FOR_42 >> Quantum Technologies and Advanced Materials >> KW: {'term': 'quantum photonics', 'type': 'Application', 'description': 'Application of single-photon sources in quantum technologies such as quantum cryptography and quantum computing'}",
          "FOR_42 >> Quantum Technologies and Advanced Materials >> KW: {'term': 'quantum photonics-based secure transmission', 'type': 'Application', 'description': 'Use of quantum principles in photonics to enable unhackable communication through quantum key distribution and quantum encryption'}",
          "FOR_42 >> Quantum Technologies and Advanced Materials >> KW: {'term': 'quantum communication security', 'type': 'Application', 'description': 'Application of quantum principles to protect classical communication systems from eavesdropping and information leakage'}",
          "FOR_42 >> Quantum Technologies and Advanced Materials >> KW: {'term': 'quantum communication networks', 'type': 'Application', 'description': 'The development of secure, long-distance communication systems using quantum entanglement and quantum key distribution to enable unhackable communication over global networks'}",
          "FOR_42 >> Quantum Technologies and Advanced Materials >> KW: {'term': 'quantum information security', 'type': 'Application', 'description': 'Use of quantum principles to develop secure cryptographic systems and protect sensitive information in digital infrastructure and healthcare records'}",
          "FOR_42 >> Quantum Technologies and Advanced Materials >> KW: {'term': 'quantum-safe cybersecurity', 'type': 'Application', 'description': 'Research into quantum-resistant cryptographic methods to protect Australia’s digital infrastructure and data security'}",
          "FOR_42 >> Quantum Technologies and Advanced Materials >> KW: {'term': 'quantum simulation', 'type': 'Application', 'description': 'The use of quantum computers to simulate quantum systems, such as molecules or materials, which is particularly useful in chemistry, material science, and drug discovery where classical simulations fail due to exponential scaling'}",
          "FOR_42 >> Quantum Technologies and Advanced Materials >> KW: {'term': 'quantum chemistry simulation', 'type': 'Application', 'description': 'Scientific computation aimed at modeling the behavior of electrons in molecules, critical for understanding chemical reactivity, bonding, and material properties at the atomic level'}",
          "FOR_42 >> Quantum Technologies and Advanced Materials >> KW: {'term': 'quantum material design', 'type': 'Application', 'description': 'Application of materials science to engineer novel semiconductor structures that support long-lived quantum states, enabling more robust and efficient quantum computation'}",
          "FOR_42 >> Quantum Technologies and Advanced Materials >> KW: {'term': 'quantum-communication', 'type': 'Application', 'description': 'Secure transmission of information using quantum principles, such as quantum key distribution, to prevent eavesdropping'}",
          "FOR_42 >> Quantum Technologies and Advanced Materials >> KW: {'term': 'quantum speedup', 'type': 'Application', 'description': 'The phenomenon where quantum algorithms solve certain problems faster than any classical algorithm, which this project seeks to explain through the structure of nonclassicality'}",
          "FOR_42 >> Quantum Technologies and Advanced Materials >> KW: {'term': 'topological insulators', 'type': 'Application', 'description': 'A class of quantum materials that exhibit insulating bulk behavior with conducting surface states; studied via quantum gas microscopy to explore exotic quantum phenomena and potential for quantum devices'}",
          "FOR_42 >> Quantum Technologies and Advanced Materials >> KW: {'term': 'quantum spin Hall effect', 'type': 'Application', 'description': 'Emergent phenomenon in topological insulators where spin-polarized edge states allow dissipationless spin current flow'}",
          "FOR_42 >> Quantum Technologies and Advanced Materials >> KW: {'term': 'solid-state resistance-free electronics', 'type': 'Application', 'description': 'Development of next-generation electronic devices based on solid-state systems that operate without electrical resistance, reducing power consumption'}",
          "FOR_42 >> Quantum Technologies and Advanced Materials >> KW: {'term': 'low-energy integrated circuits', 'type': 'Application', 'description': 'Design and fabrication of compact, energy-efficient electronic circuits that leverage resistance-free conduction for sustainable computing'}",
          "FOR_42 >> Quantum Technologies and Advanced Materials >> KW: {'term': 'quantum materials interface', 'type': 'Application', 'description': 'Research at the boundary between fundamental quantum physics and engineered materials to enable novel device functionalities'}",
          "FOR_42 >> Quantum Technologies and Advanced Materials >> KW: {'term': 'quantum-enabled health diagnostics', 'type': 'Application', 'description': 'Development of quantum-based tools for early detection and monitoring of diseases through enhanced sensing capabilities'}",
          "FOR_42 >> Quantum Technologies and Advanced Materials >> KW: {'term': 'fault-tolerant quantum processor', 'type': 'Application', 'description': 'A quantum computing system designed to operate reliably despite errors through error correction and redundancy, essential for practical, large-scale quantum computation'}",
          "FOR_42 >> Quantum Technologies and Advanced Materials >> KW: {'term': 'nonlinear optical effects', 'type': 'Application', 'description': 'Emerging phenomena in light-matter systems where intense light induces changes in material properties, enabling applications in sensing and signal processing'}",
          "FOR_42 >> Quantum Technologies and Advanced Materials >> KW: {'term': 'integrated optical systems', 'type': 'Application', 'description': 'On-chip photonic circuits that combine multiple optical functions for applications in communications, sensing, and computing'}",
          "FOR_42 >> Quantum Technologies and Advanced Materials >> KW: {'term': 'three-dimensional nonlinear nanofocusing', 'type': 'Application', 'description': 'A novel optical phenomenon enabling sub-wavelength focusing of light in all spatial dimensions using nonlinear effects, critical for high-resolution imaging and integrated photonics'}",
          "FOR_42 >> Quantum Technologies and Advanced Materials >> KW: {'term': 'far-field nanofocusing', 'type': 'Application', 'description': 'Achieving nanoscale light confinement and focusing at distances beyond the near-field regime, enabling practical integration into optical systems'}",
          "FOR_42 >> Quantum Technologies and Advanced Materials >> KW: {'term': 'environmental nanosensors', 'type': 'Application', 'description': 'Nanomaterial-based devices for detecting pollutants, toxins, or environmental changes with high sensitivity and specificity'}",
          "FOR_42 >> Quantum Technologies and Advanced Materials >> KW: {'term': 'healthcare nanodevices', 'type': 'Application', 'description': 'Nanomaterials designed for targeted drug delivery, diagnostics, or imaging in medical applications'}",
          "FOR_42 >> Quantum Technologies and Advanced Materials >> KW: {'term': 'ion-selective nanostructures', 'type': 'Application', 'description': 'Nanostructures engineered to selectively allow or block specific ions, mimicking biological ion channels for use in desalination and targeted drug delivery'}",
          "FOR_42 >> Quantum Technologies and Advanced Materials >> KW: {'term': 'desalination membrane design', 'type': 'Application', 'description': 'A key application area where concentration-gradient-driven transport can improve water purification efficiency and reduce energy consumption'}",
          "FOR_42 >> Quantum Technologies and Advanced Materials >> KW: {'term': 'cancer-targeted pharmaceutical delivery', 'type': 'Application', 'description': 'Use of ion-selective nanostructures to deliver drugs specifically to cancer cells by exploiting ion gradients in tumor microenvironments'}",
          "FOR_42 >> Quantum Technologies and Advanced Materials >> KW: {'term': 'cystic fibrosis therapeutics', 'type': 'Application', 'description': 'Development of nano-based ion transport systems to restore chloride ion flow in airway cells affected in cystic fibrosis'}",
          "FOR_30",
          "FOR_30 >> Plant and Crop Biotechnology",
          "FOR_30 >> Plant and Crop Biotechnology >> KW: {'term': 'legume architecture optimization', 'type': 'Application', 'description': 'Application of developmental insights to improve plant structure for enhanced productivity, yield, and environmental resilience'}",
          "FOR_30 >> Plant and Crop Biotechnology >> KW: {'term': 'reproductive differentiation in legumes', 'type': 'Application', 'description': 'Study of how legumes transition from vegetative to reproductive states, with implications for flowering time and seed production'}",
          "FOR_30 >> Plant and Crop Biotechnology >> KW: {'term': 'plant cell metabolism', 'type': 'Application', 'description': 'Central to crop productivity; research focuses on how metabolic pathways regulate germination, seedling vigour, biomass, and stress tolerance in plants'}",
          "FOR_30 >> Plant and Crop Biotechnology >> KW: {'term': 'metabolic control', 'type': 'Application', 'description': 'How mitochondrial activity influences and is influenced by cellular metabolic pathways, particularly during cell division'}",
          "FOR_30 >> Plant and Crop Biotechnology >> KW: {'term': 'stress tolerance in crops', 'type': 'Application', 'description': \"A key agricultural goal addressed through the use of wild genetic resources to improve crops' ability to withstand environmental stresses such as drought or heat\"}",
          "FOR_30 >> Plant and Crop Biotechnology >> KW: {'term': 'quality metabolite traits', 'type': 'Application', 'description': 'Focus on improving the production of bioactive compounds in plants that contribute to human health, such as antioxidants, phytochemicals, and nutraceuticals'}",
          "FOR_30 >> Plant and Crop Biotechnology >> KW: {'term': 'biomass and yield enhancement', 'type': 'Application', 'description': 'Metabolic optimization strategies designed to increase plant growth and productivity with minimal environmental impact'}",
          "FOR_30 >> Plant and Crop Biotechnology >> KW: {'term': 'early seedling vigour', 'type': 'Application', 'description': 'A measure of seedling growth and resilience during the initial stages of development, influenced by organelle function and protein targeting strategies'}",
          "FOR_30 >> Plant and Crop Biotechnology >> KW: {'term': 'crop bioengineering', 'type': 'Application', 'description': 'Genetic modification and engineering of crops to enhance photosynthetic efficiency, stress tolerance, and yield potential in major food crops like wheat, rice, and sorghum'}",
          "FOR_30 >> Plant and Crop Biotechnology >> KW: {'term': 'photosynthetic efficiency enhancement', 'type': 'Application', 'description': 'Strategic optimization of light availability and environmental conditions to increase the rate at which microalgae convert solar energy into biomass, improving overall system productivity'}",
          "FOR_30 >> Plant and Crop Biotechnology >> KW: {'term': 'climate-resilient crop development', 'type': 'Application', 'description': 'Broader agricultural goal focused on improving crop performance under changing climate conditions to ensure food security and stable farm incomes'}",
          "FOR_30 >> Plant and Crop Biotechnology >> KW: {'term': 'sustainable agricultural productivity', 'type': 'Application', 'description': 'Contribution to long-term food security and environmental sustainability through development of robust, low-input crop varieties'}",
          "FOR_30 >> Plant and Crop Biotechnology >> KW: {'term': 'C4 photosynthesis transfer', 'type': 'Application', 'description': 'Strategic effort to engineer C4 photosynthetic pathways—known for high efficiency—into C3 plants (like rice) to improve carbon fixation and yield under stress conditions'}",
          "FOR_30 >> Plant and Crop Biotechnology >> KW: {'term': 'C3-C4 photosynthetic engineering', 'type': 'Application', 'description': 'Interdisciplinary approach to genetically modify C3 crops to adopt features of C4 photosynthesis, aiming to overcome limitations in water and light use efficiency'}",
          "FOR_30 >> Plant and Crop Biotechnology >> KW: {'term': 'adaptive plant strategies', 'type': 'Application', 'description': 'Identification of natural plant responses to environmental stress that enhance productivity and resilience in variable climates'}",
          "FOR_30 >> Plant and Crop Biotechnology >> KW: {'term': 'crop resilience engineering', 'type': 'Application', 'description': 'Development of genetically improved plant varieties with enhanced tolerance to environmental stresses and improved yield stability under changing climate conditions'}",
          "FOR_30 >> Plant and Crop Biotechnology >> KW: {'term': 'climate-adaptive crop development', 'type': 'Application', 'description': 'Development of crop varieties specifically tailored to respond to climate variability and extreme weather events'}",
          "FOR_30 >> Plant and Crop Biotechnology >> KW: {'term': 'renewable carbon resource utilization', 'type': 'Application', 'description': 'Exploitation of plant cell walls as a sustainable source of carbon for bio-based products and energy'}",
          "FOR_30 >> Plant and Crop Biotechnology >> KW: {'term': 'cell wall re-modelling', 'type': 'Application', 'description': 'Process by which plant cell walls are dynamically altered to support growth, stress responses, and structural adaptation'}",
          "FOR_30 >> Plant and Crop Biotechnology >> KW: {'term': 'cell wall depolymerisation', 'type': 'Application', 'description': 'Breakdown of polysaccharide polymers in cell walls, relevant for biofuel production and agricultural biotechnology'}",
          "FOR_30 >> Plant and Crop Biotechnology >> KW: {'term': 'cereal and grass cell wall biology', 'type': 'Application', 'description': 'Focus on key crop species where cell wall composition directly impacts yield, nutritional value, and industrial utility'}",
          "FOR_30 >> Animal Health, Welfare, and Ethical Research",
          "FOR_30 >> Animal Health, Welfare, and Ethical Research >> KW: {'term': 'animal ethics in research', 'type': 'Application', 'description': 'Application of ethical frameworks to guide the use of animals in scientific research and teaching, ensuring alignment with community values and welfare standards'}",
          "FOR_30 >> Animal Health, Welfare, and Ethical Research >> KW: {'term': 'scientific justification for animal use', 'type': 'Application', 'description': 'Evaluation of the necessity and validity of animal models in research, focusing on minimizing harm while maintaining scientific integrity'}",
          "FOR_30 >> Animal Health, Welfare, and Ethical Research >> KW: {'term': 'veterinary vaccine development', 'type': 'Application', 'description': 'Translation of genomic and functional insights into novel vaccine candidates targeting pathogenic microbes in livestock'}",
          "FOR_30 >> Animal Health, Welfare, and Ethical Research >> KW: {'term': 'antimicrobial target identification', 'type': 'Application', 'description': 'Discovery of essential microbial proteins or pathways that can be targeted for new antibiotics to combat resistant pathogens'}",
          "FOR_30 >> Animal Health, Welfare, and Ethical Research >> KW: {'term': 'pest animal control', 'type': 'Application', 'description': 'Development of targeted strategies for pest management using molecular-level understanding of biological pathways and metabolites'}",
          "FOR_30 >> Animal Health, Welfare, and Ethical Research >> KW: {'term': \"ovine Johne's disease\", 'type': 'Application', 'description': 'A chronic bacterial infection in sheep caused by Mycobacterium avium subspecies paratuberculosis; a key target for immune response enhancement'}",
          "FOR_30 >> Animal Health, Welfare, and Ethical Research >> KW: {'term': 'footrot', 'type': 'Application', 'description': 'A common bacterial skin infection in sheep, caused by Dichelobacter nodosum; studied for immune-related resistance mechanisms'}",
          "FOR_30 >> Animal Health, Welfare, and Ethical Research >> KW: {'term': 'immune response modulation', 'type': 'Application', 'description': \"Use of synthetic peptides to fine-tune the body's immune system activation, enhancing protective immunity without causing excessive inflammation\"}",
          "FOR_30 >> Animal Health, Welfare, and Ethical Research >> KW: {'term': 'selective breeding for disease resistance', 'type': 'Application', 'description': 'Use of molecular characterisation to guide breeding programs that produce sheep with enhanced natural resistance to infectious diseases'}",
          "FOR_35",
          "FOR_35 >> Sustainable Energy Technologies and Solar Innovation",
          "FOR_35 >> Sustainable Energy Technologies and Solar Innovation >> KW: {'term': 'silicon photovoltaics (Si PV)', 'type': 'Application', 'description': 'Solar energy conversion technology using silicon to transform sunlight into electricity, a key component of sustainable energy systems'}",
          "FOR_35 >> Sustainable Energy Technologies and Solar Innovation >> KW: {'term': 'sustainable energy technologies', 'type': 'Application', 'description': 'Renewable energy solutions focused on environmentally benign, scalable, and cost-effective energy generation methods such as organic photovoltaics'}",
          "FOR_35 >> Sustainable Energy Technologies and Solar Innovation >> KW: {'term': 'concentrator solar cells', 'type': 'Application', 'description': 'High-efficiency solar cells designed to operate under intense, concentrated sunlight, enabling superior energy conversion in solar thermal and photovoltaic systems'}",
          "FOR_35 >> Sustainable Energy Technologies and Solar Innovation >> KW: {'term': 'solar thermal energy conversion', 'type': 'Application', 'description': 'Research into harnessing concentrated sunlight to generate heat for industrial processes or energy storage, complementing photovoltaic systems'}",
          "FOR_35 >> Sustainable Energy Technologies and Solar Innovation >> KW: {'term': 'solar energy commercialisation', 'type': 'Application', 'description': 'Efforts to transition laboratory-developed solar technologies into market-ready products and scalable industrial solutions'}",
          "FOR_35 >> Sustainable Energy Technologies and Solar Innovation >> KW: {'term': 'solar energy education and outreach', 'type': 'Application', 'description': 'Programs aimed at training the next generation of researchers and engaging communities in solar energy innovation and sustainability'}",
          "FOR_35 >> Sustainable Energy Technologies and Solar Innovation >> KW: {'term': 'sustainable energy system integration', 'type': 'Application', 'description': \"The project's broader impact on enabling Australia's transition to renewable energy by providing a safe, scalable, and efficient energy storage solution\"}",
          "FOR_35 >> Sustainable Energy Technologies and Solar Innovation >> KW: {'term': 'photovoltaic nanomaterials', 'type': 'Application', 'description': 'Design and characterization of nanoscale materials for solar energy conversion, including enhanced light absorption and charge separation efficiency'}",
          "FOR_35 >> Sustainable Energy Technologies and Solar Innovation >> KW: {'term': 'battery nanodevices', 'type': 'Application', 'description': 'Next-generation energy storage systems utilizing nanostructured materials for higher capacity, faster charging, and longer lifespan'}",
          "FOR_35 >> Sustainable Energy Technologies and Solar Innovation >> KW: {'term': 'wearable energy systems', 'type': 'Application', 'description': 'Flexible, lightweight electromaterial-based systems integrated into clothing or skin for portable power and energy harvesting'}",
          "FOR_35 >> Sustainable Energy Technologies and Solar Innovation >> KW: {'term': 'clean energy nanomaterials', 'type': 'Application', 'description': 'Nanomaterials engineered for improved efficiency in energy harvesting and storage, such as in solar cells or fuel cells'}",
          "FOR_35 >> Sustainable Energy Technologies and Solar Innovation >> KW: {'term': 'lightweight batteries', 'type': 'Application', 'description': 'Next-generation energy storage devices with reduced weight and enhanced efficiency, enabling use in portable electronics and electric vehicles'}",
          "FOR_35 >> Sustainable Energy Technologies and Solar Innovation >> KW: {'term': 'green-photonics', 'type': 'Application', 'description': 'Sustainable photonics technology that reduces energy consumption and environmental impact in optical devices, aligning with eco-friendly industrial practices'}",
          "FOR_35 >> Sustainable Energy Technologies and Solar Innovation >> KW: {'term': 'energy-efficient optical data transmission', 'type': 'Application', 'description': 'Development of photonic systems that reduce power consumption in data transfer, improving sustainability and scalability of internet infrastructure'}",
          "FOR_35 >> Biomedical and Health Systems Innovation",
          "FOR_35 >> Biomedical and Health Systems Innovation >> KW: {'term': 'biomedical dynamic modeling', 'type': 'Application', 'description': 'Use of dynamic system principles to model physiological processes, such as cardiac or neural activity, for diagnostics and treatment planning'}",
          "FOR_35 >> Biomedical and Health Systems Innovation >> KW: {'term': 'precision health through bioinformatics', 'type': 'Application', 'description': 'Applying genomic and phenotypic insights to improve disease diagnosis, treatment, and personalized medicine'}",
          "FOR_35 >> Biomedical and Health Systems Innovation >> KW: {'term': 'healthcare monitoring systems', 'type': 'Application', 'description': 'Smart environments that continuously track health conditions and support care through wearable or embedded sensors and autonomous decision-making in homes or hospitals'}",
          "FOR_35 >> Biomedical and Health Systems Innovation >> KW: {'term': 'targeted drug delivery', 'type': 'Application', 'description': 'Use of peptide-DNA conjugates to deliver therapeutic agents specifically to disease sites, such as tumors or infected cells, enhancing efficacy and reducing off-target effects'}",
          "FOR_35 >> Biomedical and Health Systems Innovation >> KW: {'term': 'gene therapy nanocarriers', 'type': 'Application', 'description': 'Use of nanoscale materials to deliver genetic material into cells for treating genetic disorders and other diseases'}",
          "FOR_35 >> Biomedical and Health Systems Innovation >> KW: {'term': 'in vivo nanomedicine performance', 'type': 'Application', 'description': 'Evaluation of how nanomedicine systems behave and perform within living organisms, including biodistribution and efficacy'}",
          "FOR_35 >> Biomedical and Health Systems Innovation >> KW: {'term': 'molecular imaging', 'type': 'Application', 'description': 'Non-invasive visualization of biological processes at the molecular level, enabling real-time monitoring of disease progression and therapeutic response'}",
          "FOR_35 >> Biomedical and Health Systems Innovation >> KW: {'term': 'immunomolecular interactions', 'type': 'Application', 'description': 'Study of how immune proteins bind, activate, and respond to pathogens or cellular signals, critical for understanding immune function and dysregulation'}",
          "FOR_35 >> Biomedical and Health Systems Innovation >> KW: {'term': 'immune response dynamics in disease', 'type': 'Application', 'description': 'Investigation of how immune systems respond to pathogens or chronic conditions, providing insights into disease mechanisms and therapeutic targets'}",
          "FOR_35 >> Biomedical and Health Systems Innovation >> KW: {'term': 'cognitive decision-making mechanisms', 'type': 'Application', 'description': 'Investigation into the neural basis of choices under uncertainty, risk, and reward, with implications for mental health and human behavior'}",
          "FOR_35 >> Biomedical and Health Systems Innovation >> KW: {'term': 'neural information integration', 'type': 'Application', 'description': 'The study of how groups of neurons combine inputs to form coherent perceptions, with implications for both neuroscience and the development of more biologically inspired AI systems'}",
          "FOR_35 >> Biomedical and Health Systems Innovation >> KW: {'term': 'stroke therapy', 'type': 'Application', 'description': 'The clinical context in which PI3Kbeta inhibitors are being explored as a safer alternative to current thrombolytic treatments with reduced bleeding risk'}",
          "FOR_35 >> Biomedical and Health Systems Innovation >> KW: {'term': 'testicular cancer', 'type': 'Application', 'description': 'Understanding developmental pathways to identify early biomarkers and potential therapeutic targets for testicular cancers'}",
          "FOR_35 >> Biomedical and Health Systems Innovation >> KW: {'term': 'male infertility', 'type': 'Application', 'description': 'Focus on understanding the biological basis of male infertility, particularly those cases linked to mitochondrial dysfunction in reproductive cells'}",
          "FOR_35 >> Biomedical and Health Systems Innovation >> KW: {'term': 'contraceptive development', 'type': 'Application', 'description': 'Potential for targeting gametogenetin or its interactions as a basis for novel contraceptive strategies'}",
          "FOR_35 >> Biomedical and Health Systems Innovation >> KW: {'term': 'spermatozoon differentiation', 'type': 'Application', 'description': 'Research into how precursor cells mature into functional sperm, with implications for fertility treatments and reproductive health'}",
          "FOR_35 >> Biomedical and Health Systems Innovation >> KW: {'term': 'bionic ear technology', 'type': 'Application', 'description': \"The broader field of bionic auditory devices that mimic natural hearing, with this project contributing to Australia's leadership in cochlear implant innovation and surgical outcomes\"}",
          "FOR_35 >> Biomedical and Health Systems Innovation >> KW: {'term': 'human-machine cooperation', 'type': 'Application', 'description': 'Integrated frameworks where human operators and intelligent machines work collaboratively, with continuous feedback loops to achieve tasks beyond human or machine capability alone'}",
          "FOR_35 >> Biomedical and Health Systems Innovation >> KW: {'term': 'healthcare connectivity', 'type': 'Application', 'description': 'Improved access to high-speed internet in healthcare settings, enabling telemedicine, remote diagnostics, and real-time medical data sharing'}",
          "FOR_35 >> Biomedical and Health Systems Innovation >> KW: {'term': 'digital child wellbeing', 'type': 'Application', 'description': 'Focus on the holistic health and emotional development of children in digital environments, addressing mental, social, and behavioral outcomes'}",
          "FOR_35 >> Biomedical and Health Systems Innovation >> KW: {'term': 'child digital practices', 'type': 'Application', 'description': 'Analysis of how children interact with digital technologies in daily life, including usage patterns, engagement, and social behaviors'}",
          "FOR_35 >> Biomedical and Health Systems Innovation >> KW: {'term': 'child health and digital environments', 'type': 'Application', 'description': 'Investigation into the impact of digital technologies on physical, mental, and emotional health in young children'}",
          "FOR_35 >> Biomedical and Health Systems Innovation >> KW: {'term': 'digital connectedness', 'type': 'Application', 'description': 'Examination of how children form social bonds and access information through digital networks and devices'}",
          "FOR_35 >> Biomedical and Health Systems Innovation >> KW: {'term': 'policy-informed decision-making', 'type': 'Application', 'description': 'Translation of analytical findings into actionable policy recommendations for regulators and superannuation authorities'}",
          "FOR_35 >> Biomedical and Health Systems Innovation >> KW: {'term': 'longevity economics', 'type': 'Application', 'description': 'Analysis of the economic impacts of increased life expectancy, including pension systems, workforce participation, and healthcare costs'}",
          "FOR_35 >> Biomedical and Health Systems Innovation >> KW: {'term': 'policy-informed ageing interventions', 'type': 'Application', 'description': 'Development of evidence-based policies and programs that respond to population ageing, such as retirement planning, healthcare access, and active ageing initiatives'}",
          "FOR_35 >> Biomedical and Health Systems Innovation >> KW: {'term': 'motor function deterioration', 'type': 'Application', 'description': 'Research focused on understanding and predicting age-related declines in physical mobility and motor skills, with implications for healthcare and urban design'}",
          "FOR_35 >> Biomedical and Health Systems Innovation >> KW: {'term': 'family and community well-being', 'type': 'Application', 'description': 'Focus on improving quality of life for older adults and their caregivers through research on support systems and intergenerational relationships'}",
          "FOR_47",
          "FOR_47 >> Indigenous Knowledge and Social Equity",
          "FOR_47 >> Indigenous Knowledge and Social Equity >> KW: {'term': 'Western-Indigenous knowledge integration', 'type': 'Application', 'description': 'Framework for combining scientific environmental modeling with Indigenous epistemologies to co-develop holistic understandings of land and sea change over time'}",
          "FOR_47 >> Indigenous Knowledge and Social Equity >> KW: {'term': 'cultural heritage integration', 'type': 'Application', 'description': 'Incorporating Indigenous knowledge and cultural perspectives into biodiversity conservation and environmental management frameworks'}",
          "FOR_47 >> Indigenous Knowledge and Social Equity >> KW: {'term': 'cultural heritage destruction', 'type': 'Application', 'description': 'Focus on the systematic damage and loss of historical and cultural sites in Iraq, particularly since 2003, as a key indicator of socio-political instability'}",
          "FOR_47 >> Indigenous Knowledge and Social Equity >> KW: {'term': 'Stolen Generations', 'type': 'Application', 'description': 'A historical and social phenomenon in Australia where Indigenous children were removed from their families; this research focuses on the role of white fathers in this process and its implications for reconciliation'}",
          "FOR_47 >> Indigenous Knowledge and Social Equity >> KW: {'term': 'sterilised children in Canada', 'type': 'Application', 'description': 'A case of state-sanctioned reproductive control affecting Indigenous children in Canada, examined to reveal systemic injustices and their lasting impact on community memory and identity'}",
          "FOR_47 >> Indigenous Knowledge and Social Equity >> KW: {'term': 'reconciliation in postcolonial contexts', 'type': 'Application', 'description': \"The process of addressing historical injustices and building equitable relationships between Indigenous and non-Indigenous communities, central to the project's socio-political objectives\"}",
          "FOR_47 >> Indigenous Knowledge and Social Equity >> KW: {'term': 'Indigenous biobank governance', 'type': 'Application', 'description': 'Development of community-led governance models for managing and regulating access to Indigenous DNA samples and genetic data'}",
          "FOR_47 >> Indigenous Knowledge and Social Equity >> KW: {'term': 'cultural property status of genetic material', 'type': 'Application', 'description': 'Reframing human genetic material as cultural property rather than mere scientific specimens, emphasizing cultural significance and ownership'}",
          "FOR_47 >> Indigenous Knowledge and Social Equity >> KW: {'term': 'historical misuse of Indigenous biological samples', 'type': 'Application', 'description': \"Analysis of past research practices that exploited or failed to respect Indigenous communities' rights and knowledge systems\"}",
          "FOR_47 >> Indigenous Knowledge and Social Equity >> KW: {'term': 'social equity policy development', 'type': 'Application', 'description': 'Use of research findings to design evidence-based policies that promote fairness and inclusive economic growth for disadvantaged populations'}",
          "FOR_47 >> Indigenous Knowledge and Social Equity >> KW: {'term': 'contextualized disadvantage', 'type': 'Application', 'description': 'A research focus on understanding how disadvantage manifests in specific local, cultural, and socioeconomic contexts, rather than as a universal or abstract condition'}",
          "FOR_47 >> Indigenous Knowledge and Social Equity >> KW: {'term': 'language heritage preservation', 'type': 'Application', 'description': 'Strategies and digital tools to document, archive, and revitalize endangered and Indigenous languages'}",
          "FOR_47 >> Indigenous Knowledge and Social Equity >> KW: {'term': 'language policy and community engagement', 'type': 'Application', 'description': 'Integration of linguistic research into policy frameworks to support migrant and Indigenous communities in language access and equity'}",
          "FOR_47 >> Indigenous Knowledge and Social Equity >> KW: {'term': 'first and second language learning interventions', 'type': 'Application', 'description': 'Design and evaluation of evidence-based pedagogical strategies to improve language acquisition in diverse learner populations'}",
          "FOR_47 >> Indigenous Knowledge and Social Equity >> KW: {'term': 'linguistic diversity and trade', 'type': 'Application', 'description': 'Exploration of how multilingual capabilities can enhance Australia’s competitiveness in global trade and information exchange'}",
          "FOR_47 >> Indigenous Knowledge and Social Equity >> KW: {'term': 'social-ecological system dynamics', 'type': 'Application', 'description': 'Integration of social and environmental factors to model and predict outcomes in complex human-environment interactions'}",
          "FOR_47 >> Indigenous Knowledge and Social Equity >> KW: {'term': 'policy-informed ageing interventions', 'type': 'Application', 'description': 'Development of evidence-based policies and programs that respond to population ageing, such as retirement planning, healthcare access, and active ageing initiatives'}",
          "FOR_47 >> Indigenous Knowledge and Social Equity >> KW: {'term': 'intergenerational inequity', 'type': 'Application', 'description': 'Focuses on the long-term, systemic disadvantages passed across generations in areas such as health, education, and employment among Indigenous communities'}",
          "FOR_47 >> Indigenous Knowledge and Social Equity >> KW: {'term': 'National Agreement Close The Gap -2020', 'type': 'Application', 'description': 'Framework guiding the Centre’s work through four priority reform areas aimed at reducing disparities in health, education, housing, and economic opportunity'}",
          "FOR_47 >> Cultural and Environmental Dynamics",
          "FOR_47 >> Cultural and Environmental Dynamics >> KW: {'term': 'climate change impact forecasting', 'type': 'Application', 'description': 'Use of oceanographic data to model and project climate-related changes affecting marine ecosystems and coastal regions'}",
          "FOR_47 >> Cultural and Environmental Dynamics >> KW: {'term': 'rainfall timing shift', 'type': 'Application', 'description': 'A key climate change scenario where precipitation moves from spring to autumn, altering the hydrological cycle and plant water availability'}",
          "FOR_47 >> Cultural and Environmental Dynamics >> KW: {'term': 'tree growth dynamics', 'type': 'Application', 'description': 'The response of tree physiology and growth patterns to changing seasonal water availability under altered rainfall timing'}",
          "FOR_47 >> Cultural and Environmental Dynamics >> KW: {'term': 'plant water use efficiency', 'type': 'Application', 'description': 'A key agricultural and ecological outcome linked to stomatal function, influencing crop yields and sustainability under changing climate conditions'}",
          "FOR_47 >> Cultural and Environmental Dynamics >> KW: {'term': 'seasonal drought response', 'type': 'Application', 'description': 'Understanding how trees adapt their water uptake and transpiration when spring droughts are replaced by autumn rainfall'}",
          "FOR_47 >> Cultural and Environmental Dynamics >> KW: {'term': 'ecosystem water cycling', 'type': 'Application', 'description': 'The broader process by which trees and vegetation regulate water movement through the atmosphere and soil under changing climate conditions'}",
          "FOR_47 >> Cultural and Environmental Dynamics >> KW: {'term': 'megadiverse plant communities', 'type': 'Application', 'description': 'Highly biodiverse plant assemblages found in south-western Australia, representing a key focus for understanding ecological complexity and evolutionary dynamics'}",
          "FOR_47 >> Cultural and Environmental Dynamics >> KW: {'term': 'ecosystem maintenance mechanisms', 'type': 'Application', 'description': 'Processes such as mutualistic interactions, seed dispersal, and soil feedback that sustain plant diversity in harsh, stable environments'}",
          "FOR_47 >> Cultural and Environmental Dynamics >> KW: {'term': 'convergent margin volcanism', 'type': 'Application', 'description': 'Volcanic activity at subduction zones where slab-related fluids and minerals drive oxidation and melt generation'}",
          "FOR_47 >> Cultural and Environmental Dynamics >> KW: {'term': 'metal transport and deposition', 'type': 'Application', 'description': 'How metals are mobilized and concentrated in magmatic systems, affected by oxidation state and fluid interactions'}",
          "FOR_47 >> Cultural and Environmental Dynamics >> KW: {'term': 'commodity price shocks', 'type': 'Application', 'description': 'Sudden changes in international prices of natural resources like iron, coal, and copper that impact national income and household well-being'}",
          "FOR_47 >> Cultural and Environmental Dynamics >> KW: {'term': 'state fragility', 'type': 'Application', 'description': 'A key outcome of regime-induced displacement, where the breakdown of social cohesion and governance leads to weakened state institutions and increased vulnerability to conflict'}",
          "FOR_47 >> Cultural and Environmental Dynamics >> KW: {'term': 'autocracy-to-democracy transition', 'type': 'Application', 'description': 'The process by which authoritarian regimes shift toward democratic governance, influenced by economic and external shocks such as commodity price fluctuations'}",
          "FOR_47 >> Cultural and Environmental Dynamics >> KW: {'term': 'civil conflict risk', 'type': 'Application', 'description': 'The likelihood of armed conflict emerging in response to economic distress caused by commodity price shocks in fragile states'}",
          "FOR_47 >> Cultural and Environmental Dynamics >> KW: {'term': 'food riots', 'type': 'Application', 'description': 'Public uprisings driven by food price spikes resulting from commodity price shocks, particularly in low-income and food-insecure regions'}",
          "FOR_47 >> Cultural and Environmental Dynamics >> KW: {'term': 'dictator survival probability', 'type': 'Application', 'description': 'The statistical likelihood that authoritarian leaders remain in power amid economic stress caused by commodity price volatility'}",
          "FOR_47 >> Health, Wellbeing and Human Development",
          "FOR_47 >> Health, Wellbeing and Human Development >> KW: {'term': 'cerebellar perceptual regulation', 'type': 'Application', 'description': 'Investigation into how the cerebellum modulates sensory perception, enabling accurate environmental interpretation'}",
          "FOR_47 >> Health, Wellbeing and Human Development >> KW: {'term': 'cerebellar dysfunction in autism', 'type': 'Application', 'description': 'Exploration of cerebellar abnormalities as a potential contributor to perceptual and social deficits in autism spectrum disorder'}",
          "FOR_47 >> Health, Wellbeing and Human Development >> KW: {'term': 'traumatic brain injury in youth', 'type': 'Application', 'description': 'Focus on the specific impact of childhood traumatic brain injury on developmental trajectories, particularly in relation to behavioral and mental health outcomes'}",
          "FOR_47 >> Health, Wellbeing and Human Development >> KW: {'term': 'mental health risk profiling', 'type': 'Application', 'description': 'Development of early indicators for mental health disorders such as depression, anxiety, and impulse control issues following brain injury'}",
          "FOR_47 >> Health, Wellbeing and Human Development >> KW: {'term': 'early intervention strategies', 'type': 'Application', 'description': 'Development and evaluation of preventive measures aimed at reducing the likelihood of substance use disorders in youth'}",
          "FOR_47 >> Health, Wellbeing and Human Development >> KW: {'term': 'ovarian follicular fluid formation', 'type': 'Application', 'description': 'The biological process by which fluid accumulates within ovarian follicles prior to ovulation, a key area of unknown mechanism in reproductive biology'}",
          "FOR_47 >> Health, Wellbeing and Human Development >> KW: {'term': 'follicular fluid homeostasis', 'type': 'Application', 'description': 'Regulation of fluid volume and composition to maintain optimal conditions for oocyte development and maturation'}",
          "FOR_47 >> Health, Wellbeing and Human Development >> KW: {'term': 'ovarian follicle microenvironment', 'type': 'Application', 'description': 'Focus on the dynamic, matrix-rich environment that supports oocyte development and influences fertility outcomes'}",
          "FOR_47 >> Health, Wellbeing and Human Development >> KW: {'term': 'in vitro egg production', 'type': 'Application', 'description': 'Development of laboratory-based methods to produce eggs outside the body, with potential applications in human fertility treatment and conservation of endangered species'}",
          "FOR_47 >> Health, Wellbeing and Human Development >> KW: {'term': 'fertility restoration', 'type': 'Application', 'description': 'Strategic intervention aimed at restoring reproductive capacity in individuals or species facing infertility due to disease, environmental stress, or genetic factors'}",
          "FOR_47 >> Health, Wellbeing and Human Development >> KW: {'term': 'species preservation', 'type': 'Application', 'description': 'Use of biomimetic technologies to support the survival and reproductive viability of threatened or endangered species through assisted reproduction techniques'}",
          "FOR_47 >> Health, Wellbeing and Human Development >> KW: {'term': 'heritable individual differences', 'type': 'Application', 'description': 'Focus on why humans exhibit persistent genetic variation despite natural selection favoring optimal traits'}",
          "FOR_47 >> Education, Policy and Social Institutions",
          "FOR_47 >> Education, Policy and Social Institutions >> KW: {'term': 'national standardised testing', 'type': 'Application', 'description': 'A policy-driven assessment mechanism used to evaluate student performance, which influences teacher professional development practices in both rural and urban Australian schools'}",
          "FOR_47 >> Education, Policy and Social Institutions >> KW: {'term': 'rural-urban educational disparities', 'type': 'Application', 'description': 'The differential impacts of policy interventions like standardised testing on teacher learning and student outcomes across rural and urban school settings with varying socio-economic profiles'}",
          "FOR_47 >> Education, Policy and Social Institutions >> KW: {'term': 'socio-economic status and education', 'type': 'Application', 'description': 'The influence of community-level economic conditions on how teachers respond to policy mandates, particularly in relation to professional development and instructional practices'}",
          "FOR_47 >> Education, Policy and Social Institutions >> KW: {'term': 'student learning outcomes as a consequence of teacher development', 'type': 'Application', 'description': 'The research focus on how changes in teacher practice, driven by testing policies, ultimately affect student achievement in different community settings'}",
          "FOR_47 >> Education, Policy and Social Institutions >> KW: {'term': 'compulsory non-academic pathways', 'type': 'Application', 'description': 'Structured educational tracks in schools and TAFE that focus on vocational, life skills, or non-academic development, mandated by policy to extend student stay until age 17'}",
          "FOR_47 >> Education, Policy and Social Institutions >> KW: {'term': 'vocational education pathways', 'type': 'Application', 'description': 'Educational tracks in TAFE and high schools that prepare students for specific trades or work-based roles, often serving as non-academic alternatives to traditional academic study'}",
          "FOR_47 >> Education, Policy and Social Institutions >> KW: {'term': 'classroom relations', 'type': 'Application', 'description': 'The dynamics of interactions between teachers and students that influence learning environments and student engagement in non-academic pathways'}",
          "FOR_47 >> Education, Policy and Social Institutions >> KW: {'term': 'prison violence reduction', 'type': 'Application', 'description': 'A key objective of the project to develop policies and practices that reduce violent incidents within correctional facilities through normative and structural reforms'}",
          "FOR_47 >> Education, Policy and Social Institutions >> KW: {'term': 'prison staff safety', 'type': 'Application', 'description': 'Focus on creating safer working conditions for prison staff by addressing systemic practices that contribute to workplace stress and violence'}",
          "FOR_47 >> Education, Policy and Social Institutions >> KW: {'term': 'humanitarian treatment of prisoners', 'type': 'Application', 'description': 'A core aim of the project to promote more humane and equitable treatment of incarcerated individuals through policy reform and practice innovation'}",
          "FOR_47 >> Education, Policy and Social Institutions >> KW: {'term': 'penal system reform', 'type': 'Application', 'description': 'Examination of how different penal systems in Tasmania and Victoria influenced rehabilitation and recidivism rates'}",
          "FOR_47 >> Education, Policy and Social Institutions >> KW: {'term': 'advising boards', 'type': 'Application', 'description': 'Corporate boards that provide strategic guidance and advisory functions to management, influencing risk decisions and firm performance'}",
          "FOR_47 >> Education, Policy and Social Institutions >> KW: {'term': 'entrepreneur directors', 'type': 'Application', 'description': 'Board members with prior entrepreneurial experience who bring operational and innovation insights to corporate governance and risk management'}",
          "FOR_47 >> Education, Policy and Social Institutions >> KW: {'term': 'corporate risk management', 'type': 'Application', 'description': 'Process by which firms assess, monitor, and mitigate risks in strategic and operational decisions, influenced by board composition and advisory roles'}",
          "FOR_47 >> Education, Policy and Social Institutions >> KW: {'term': 'firm performance', 'type': 'Application', 'description': 'A key outcome measure in the research, assessing how effectively a firm operates and achieves its strategic objectives through its pay system design'}",
          "FOR_47 >> Technology, Innovation and Scientific Research",
          "FOR_47 >> Technology, Innovation and Scientific Research >> KW: {'term': 'non-invasive wildlife forensics', 'type': 'Application', 'description': 'Use of eggshell DNA to identify illegally traded wildlife products and track illegal trafficking networks'}",
          "FOR_47 >> Technology, Innovation and Scientific Research >> KW: {'term': 'climate change impact on bird extinctions', 'type': 'Application', 'description': 'Analysis of eggshell genetic and biochemical markers to assess how environmental changes correlate with avian population declines'}",
          "FOR_47 >> Technology, Innovation and Scientific Research >> KW: {'term': 'avian population monitoring', 'type': 'Application', 'description': 'Long-term tracking of bird populations using genetic and chemical data from eggshells to assess biodiversity and ecosystem health'}",
          "FOR_47 >> Technology, Innovation and Scientific Research >> KW: {'term': 'magnetic label detection', 'type': 'Application', 'description': 'Use of magnetically tagged biomolecules to enable sensitive and specific detection of disease markers such as cancer antigens in biological samples'}",
          "FOR_47 >> Technology, Innovation and Scientific Research >> KW: {'term': 'on-site disease detection', 'type': 'Application', 'description': 'Enabling early and accessible diagnosis of diseases like cancer in remote or underserved regions through real-time, point-of-care magnetic sensing'}",
          "FOR_47 >> Technology, Innovation and Scientific Research >> KW: {'term': 'bioaccumulation of brominated flame retardants', 'type': 'Application', 'description': 'Study of how these chemicals accumulate in biological tissues over time, critical for understanding human and ecosystem exposure risks'}",
          "FOR_47 >> Technology, Innovation and Scientific Research >> KW: {'term': 'persistent organic pollutants (POPs)', 'type': 'Application', 'description': 'A class of toxic, long-lasting organic compounds in wastewater that resist degradation and pose environmental and health risks, targeted for removal in this research'}",
          "FOR_47 >> Technology, Innovation and Scientific Research >> KW: {'term': 'human exposure assessment', 'type': 'Application', 'description': 'Integration of air quality predictions with human activity patterns to estimate individual or population-level exposure to airborne pollutants, supporting health risk evaluation'}",
          "FOR_47 >> Technology, Innovation and Scientific Research >> KW: {'term': 'wetting-induced instability', 'type': 'Application', 'description': 'Prediction of ground failures such as landslides or slope collapses triggered by moisture infiltration and soil saturation'}",
          "FOR_47 >> Technology, Innovation and Scientific Research >> KW: {'term': 'distribution of prime numbers', 'type': 'Application', 'description': 'The primary application of improved zeta-function bounds—enhancing theoretical knowledge about how prime numbers are distributed across the number line'}",
          "FOR_47 >> Technology, Innovation and Scientific Research >> KW: {'term': 'analytic number theory', 'type': 'Application', 'description': 'An emerging area where the project aims to apply harmonic analysis techniques to solve problems involving distribution of prime numbers and arithmetic functions'}",
          "FOR_47 >> Technology, Innovation and Scientific Research >> KW: {'term': 'prime number distribution', 'type': 'Application', 'description': 'Using verified zeros of the zeta function to improve theoretical understanding and predictive models of how prime numbers are distributed along the number line'}",
          "FOR_47 >> Technology, Innovation and Scientific Research >> KW: {'term': 'high-speed wireless communications', 'type': 'Application', 'description': 'A key area of focus where complexity-constrained algorithms improve network performance, latency, and throughput in next-generation wireless systems such as 5G and beyond'}",
          "FOR_47 >> Technology, Innovation and Scientific Research >> KW: {'term': 'wireless network migration', 'type': 'Application', 'description': 'Supports the transition from wired to wireless infrastructure by providing scalable, high-performance solutions for modern data-intensive services'}",
          "FOR_47 >> Technology, Innovation and Scientific Research >> KW: {'term': 'reliable wireless data delivery', 'type': 'Application', 'description': 'Ensures robust and consistent data transmission in dynamic wireless environments, critical for time-sensitive applications like remote health monitoring and IoT systems'}",
          "FOR_47 >> Technology, Innovation and Scientific Research >> KW: {'term': 'hydrocarbon fuel synthesis', 'type': 'Application', 'description': 'The production of liquid hydrocarbons (e.g., methanol, ethylene, propane) from CO2 and water, offering a renewable alternative to fossil fuel-based feedstocks'}",
          "FOR_47 >> Technology, Innovation and Scientific Research >> KW: {'term': 'sustainable carbon cycling', 'type': 'Application', 'description': 'A strategy to close the carbon loop by transforming atmospheric CO2 into useful chemical products, contributing to climate change mitigation'}",
          "FOR_47 >> Technology, Innovation and Scientific Research >> KW: {'term': 'non-fossil fuel feedstocks', 'type': 'Application', 'description': 'Development of industrial chemicals and fuels derived from renewable carbon sources, reducing dependence on petroleum-based systems'}",
          "FOR_47 >> Technology, Innovation and Scientific Research >> KW: {'term': 'semiconductor photocatalysts', 'type': 'Application', 'description': 'Materials that absorb sunlight to drive redox reactions, enabling solar-driven chemical energy conversion and environmental cleanup'}",
          "FOR_47 >> Technology, Innovation and Scientific Research >> KW: {'term': 'energy transfer in fluids', 'type': 'Application', 'description': 'Focuses on how kinetic energy is transferred across different scales in rotating fluids, critical for modeling wind dynamics and cyclone behavior'}",
          "FOR_47 >> Technology, Innovation and Scientific Research >> KW: {'term': 'atmospheric dynamics', 'type': 'Application', 'description': \"Applies laboratory-scale rotating turbulence studies to better understand large-scale wind patterns and interactions in Earth's atmosphere\"}",
          "FOR_47 >> Technology, Innovation and Scientific Research >> KW: {'term': 'multiply charged anions', 'type': 'Application', 'description': 'Negatively charged molecular species with multiple extra electrons, prevalent in environmental and biological processes such as smog formation and protein electron transfer'}",
          "FOR_47 >> Technology, Innovation and Scientific Research >> KW: {'term': 'gas-phase molecular structure', 'type': 'Application', 'description': 'Investigation of molecular configurations in the absence of solvent, revealing intrinsic structural properties and stability of self-assembled systems'}",
          "FOR_47 >> Technology, Innovation and Scientific Research >> KW: {'term': 'photochemical smog formation', 'type': 'Application', 'description': 'Environmental process driven by free radical reactions; research aims to improve predictive models for air quality and pollution control'}",
          "FOR_47 >> Technology, Innovation and Scientific Research >> KW: {'term': 'protein structure in vivo', 'type': 'Application', 'description': 'Biological context where anionic species may play roles in redox processes and electron transfer, influencing protein folding and function'}",
          "FOR_47 >> Technology, Innovation and Scientific Research >> KW: {'term': 'early modern global encounters', 'type': 'Application', 'description': 'Analyzes the interactions between European powers and Asian states during the 1600–1800 period, focusing on diplomatic missions as a lens for understanding cross-cultural contact and power dynamics'}",
          "FOR_47 >> Technology, Innovation and Scientific Research >> KW: {'term': 'European embassies to Asia', 'type': 'Application', 'description': 'Specific case studies of diplomatic missions sent by European nations to major Asian states, used to trace the evolution of international relations in pre-modern Asia-Europe interactions'}",
          "FOR_47 >> Technology, Innovation and Scientific Research >> KW: {'term': 'cultural negotiation in diplomacy', 'type': 'Application', 'description': 'Explores how cultural differences shaped the outcomes of embassies, including language, protocol, and symbolic gestures in intercultural diplomacy'}",
          "FOR_47 >> Technology, Innovation and Scientific Research >> KW: {'term': 'child medical decision-making', 'type': 'Application', 'description': 'Focuses on the specific context of healthcare decisions involving minors, where parental authority intersects with clinical judgment'}",
          "FOR_47 >> Technology, Innovation and Scientific Research >> KW: {'term': 'clinical disagreement in pediatric care', 'type': 'Application', 'description': 'Highlights real-world scenarios where clinicians and parents conflict over treatment options for children, requiring ethical resolution'}",
          "FOR_47 >> Technology, Innovation and Scientific Research >> KW: {'term': 'minor patient rights', 'type': 'Application', 'description': \"Considers the emerging recognition of children's rights to medical care and informed participation in treatment decisions as they grow older\"}",
          "FOR_47 >> Technology, Innovation and Scientific Research >> KW: {'term': 'Brassica speciation', 'type': 'Application', 'description': 'Investigation into how natural hybridisation leads to the formation of new species within the Brassica genus, with implications for crop development'}",
          "FOR_47 >> Technology, Innovation and Scientific Research >> KW: {'term': 'crop species diversification', 'type': 'Application', 'description': 'Goal of creating novel Brassica crop species with improved agronomic traits through mimicking natural evolutionary pathways'}",
          "FOR_47 >> Technology, Innovation and Scientific Research >> KW: {'term': 'mammalian antiviral response', 'type': 'Application', 'description': 'Focus on how mammals naturally respond to viral infections via innate immune mechanisms, with particular interest in whether RNAi pathways are actively engaged'}",
          "FOR_47 >> Technology, Innovation and Scientific Research >> KW: {'term': 'influenza antiviral defense', 'type': 'Application', 'description': 'Specific application of the research to understand how RNAi mechanisms may combat influenza virus infection in humans'}",
          "FOR_47 >> Technology, Innovation and Scientific Research >> KW: {'term': 'HIV immune evasion', 'type': 'Application', 'description': 'Study of how HIV disrupts IL-12-dependent immune activation to suppress antiviral responses and promote viral persistence'}",
          "FOR_47 >> Technology, Innovation and Scientific Research >> KW: {'term': 'natural resource conflict dynamics', 'type': 'Application', 'description': 'Study of evolving patterns and drivers of conflict in resource exploitation, such as water, minerals, or energy, across diverse socio-political contexts'}",
          "FOR_47 >> Technology, Innovation and Scientific Research >> KW: {'term': 'dispute resolution in environmental law', 'type': 'Application', 'description': 'Focus on innovative legal and institutional mechanisms to resolve conflicts arising from natural resource extraction and management'}",
          "FOR_47 >> Technology, Innovation and Scientific Research >> KW: {'term': 'quantum standard improvement', 'type': 'Application', 'description': 'Development of next-generation quantum standards for time, frequency, or length measurement, enhancing national and international metrology frameworks'}",
          "FOR_47 >> Technology, Innovation and Scientific Research >> KW: {'term': 'BNDES internationalisation', 'type': 'Application', 'description': \"The role of Brazil's National Development Bank in facilitating the global expansion of Brazilian firms, particularly within the Global South\"}",
          "FOR_47 >> Technology, Innovation and Scientific Research >> KW: {'term': 'foreign policy and economic development', 'type': 'Application', 'description': \"Analysis of how Brazil's foreign policy is shaped and reinforced through economic partnerships and development financing\"}",
          "FOR_47 >> Technology, Innovation and Scientific Research >> KW: {'term': 'Brazil-GLOBAL SOUTH engagement', 'type': 'Application', 'description': \"Examination of Brazil's strategic economic and diplomatic relationships with countries in the Global South, including Bolivia, Paraguay, Angola, and Mozambique\"}",
          "FOR_47 >> Technology, Innovation and Scientific Research >> KW: {'term': 'perceptions of Brazil in the Global South', 'type': 'Application', 'description': 'Critical assessment of how Brazil is viewed and received by partner nations in regional and international economic contexts'}",
          "FOR_47 >> Technology, Innovation and Scientific Research >> KW: {'term': 'workplace caregiving', 'type': 'Application', 'description': 'The phenomenon where employees provide care for older relatives, leading to time and emotional resource depletion in the work context'}",
          "FOR_47 >> Technology, Innovation and Scientific Research >> KW: {'term': 'workplace mentoring', 'type': 'Application', 'description': 'The process by which older workers guide younger employees, fostering knowledge transfer but potentially leading to role conflict or burnout if unmanaged'}",
          "FOR_47 >> Technology, Innovation and Scientific Research >> KW: {'term': 'ageing population workforce', 'type': 'Application', 'description': 'The growing trend of older Australians remaining in the workforce, increasing the prevalence of intergenerational interactions and associated demands'}",
          "FOR_47 >> Technology, Innovation and Scientific Research >> KW: {'term': 'workplace role conflict', 'type': 'Application', 'description': 'The tension arising when employees must balance caregiving or mentoring duties with professional responsibilities, leading to stress and reduced performance'}",
          "FOR_47 >> Technology, Innovation and Scientific Research >> KW: {'term': 'intergenerational workplace demands', 'type': 'Application', 'description': 'Refers to the dual role of workers caring for older individuals or mentoring younger colleagues, creating both support and strain in organizational settings'}",
          "FOR_47 >> Historical and Cultural Studies",
          "FOR_47 >> Historical and Cultural Studies >> KW: {'term': 'Protector of Slaves', 'type': 'Application', 'description': 'Imperial office established to enforce legal control over slavery, reflecting the institutionalization of legal imperialism in colonial territories during the early 19th century'}",
          "FOR_47 >> Historical and Cultural Studies >> KW: {'term': 'intimate colonial governance', 'type': 'Application', 'description': 'A form of governance that involved direct, personal, and often paternalistic legal interventions in colonial communities, blurring lines between state and community'}",
          "FOR_47 >> Historical and Cultural Studies >> KW: {'term': \"indigenous women's histories\", 'type': 'Application', 'description': 'Focus on the lived experiences and agency of First Nations women in borderland communities, challenging dominant historical narratives'}",
          "FOR_47 >> Historical and Cultural Studies >> KW: {'term': 'residential school impacts', 'type': 'Application', 'description': \"Examination of how forced assimilation policies affected Indigenous women's family, cultural, and social lives on reservations\"}",
          "FOR_47 >> Historical and Cultural Studies >> KW: {'term': 'early modern global encounters', 'type': 'Application', 'description': 'Analyzes the interactions between European powers and Asian states during the 1600–1800 period, focusing on diplomatic missions as a lens for understanding cross-cultural contact and power dynamics'}",
          "FOR_47 >> Historical and Cultural Studies >> KW: {'term': 'European embassies to Asia', 'type': 'Application', 'description': 'Specific case studies of diplomatic missions sent by European nations to major Asian states, used to trace the evolution of international relations in pre-modern Asia-Europe interactions'}",
          "FOR_47 >> Historical and Cultural Studies >> KW: {'term': 'cultural negotiation in diplomacy', 'type': 'Application', 'description': 'Explores how cultural differences shaped the outcomes of embassies, including language, protocol, and symbolic gestures in intercultural diplomacy'}"
         ],
         "labels": [
          "FOR 36: CREATIVE ARTS AND WRITING",
          "Advanced Robotics and Autonomous Systems",
          {
           "description": "Use of mobile robots in civil emergencies like bushfires or rubble searches to locate people, assess damage, and support rescue operations in hazardous conditions",
           "term": "disaster response robotics",
           "type": "Application"
          },
          {
           "description": "Personal mobility devices that combine human control with autonomous navigation and adaptive support to improve independence for individuals with mobility challenges",
           "term": "semi-autonomous wheelchairs",
           "type": "Application"
          },
          {
           "description": "Development and testing of autonomous systems operating in unstructured, unpredictable natural environments such as forests, roads, and open fields",
           "term": "outdoor autonomous navigation",
           "type": "Application"
          },
          {
           "description": "Application of vision sensing to allow robotic vehicles to continuously interpret and respond to dynamic, unstructured environments such as urban scenes or underwater terrain",
           "term": "real-time environmental perception",
           "type": "Application"
          },
          {
           "description": "Distributed sensing architectures used in environmental monitoring, infrastructure safety, and wildlife habitat surveillance, where sensors communicate and coordinate over a network",
           "term": "networked sensor systems",
           "type": "Application"
          },
          {
           "description": "Integrated frameworks where human operators and intelligent machines work collaboratively, with continuous feedback loops to achieve tasks beyond human or machine capability alone",
           "term": "human-machine cooperation",
           "type": "Application"
          },
          {
           "description": "Development of systems where robotic or AI vision aligns with human visual cognition, enabling more intuitive and effective interaction",
           "term": "human-machine vision integration",
           "type": "Application"
          },
          {
           "description": "Goal of understanding how the brain achieves stable and accurate interpretation of visual scenes, with implications for artificial systems",
           "term": "robust visual perception",
           "type": "Application"
          },
          {
           "description": "Enabling robots to comprehend complex, real-world scenes—such as construction sites or warehouses—where objects, lighting, and layout vary unpredictably",
           "term": "scene understanding in unstructured environments",
           "type": "Application"
          },
          {
           "description": "Enabling robots to interpret visual information in a way that matches human perception, improving safety and collaboration in shared workspaces",
           "term": "human-robot visual alignment",
           "type": "Application"
          },
          {
           "description": "Application of imaging systems for monitoring public spaces, detecting anomalies, and supporting security operations through real-time or remote analysis",
           "term": "surveillance and security",
           "type": "Application"
          },
          {
           "description": "Enabling machines to perceive and interpret invisible or non-visible wavelengths (e.g., terahertz, infrared) for improved navigation and sensing in complex environments",
           "term": "artificial vision for autonomous systems",
           "type": "Application"
          },
          "FOR 45: HUMAN SOCIETY",
          "AI, IoT, and Digital Technologies in Society",
          {
           "description": "Exploration of how artificial intelligence is integrated into city infrastructure, including smart transportation, energy management, and public services, with focus on Australian contexts",
           "term": "AI deployment in urban environments",
           "type": "Application"
          },
          {
           "description": "Assessment of how AI influences labor markets, productivity, innovation, and economic growth across industries in Australia",
           "term": "economic impacts of AI in Australia",
           "type": "Application"
          },
          {
           "description": "Evaluation of the energy consumption, carbon emissions, and resource use associated with AI systems, particularly large-scale models and data centers in Australia",
           "term": "AI environmental footprint",
           "type": "Application"
          },
          {
           "description": "Examination of how AI technologies are being implemented in domestic and professional environments, including automation, decision support, and personalization",
           "term": "AI in household and workplace settings",
           "type": "Application"
          },
          {
           "description": "Structured guidelines and regulatory approaches to govern the deployment of Internet of Things technologies in Australia, ensuring responsible and equitable use across sectors",
           "term": "IoT policy frameworks",
           "type": "Application"
          },
          {
           "description": "Integration of IoT sensors and connectivity into manufacturing and industrial environments to improve productivity, safety, and operational efficiency",
           "term": "smart industrial systems",
           "type": "Application"
          },
          {
           "description": "Use of IoT to enhance the performance and responsiveness of public and private sector services, such as transportation, healthcare, and utilities",
           "term": "digital service efficiency",
           "type": "Application"
          },
          {
           "description": "Examination of how IoT deployment affects community dynamics, privacy, equity, and digital inclusion across diverse Australian populations",
           "term": "cultural and social implications of IoT",
           "type": "Application"
          },
          {
           "description": "Cross-sector coordination of IoT solutions to enable seamless data sharing and interoperability between industries and public services",
           "term": "inter-sectoral IoT integration",
           "type": "Application"
          },
          {
           "description": "Addressing the lack of transparency in platform algorithms that contribute to disinformation and harmful content through regulatory frameworks",
           "term": "algorithmic accountability",
           "type": "Application"
          },
          {
           "description": "Evaluation of how automated decisions affect diverse communities, especially in sensitive domains like health and social services",
           "term": "social impact assessment of AI",
           "type": "Application"
          },
          {
           "description": "Strategic identification and management of risks in automated decision-making across news, transport, health, and social services",
           "term": "cross-sectoral AI risk mitigation",
           "type": "Application"
          },
          {
           "description": "Application of control and optimization techniques to improve efficiency, safety, and performance in real-time operations such as metal forming or energy distribution",
           "term": "real-time system optimization",
           "type": "Application"
          },
          {
           "description": "Development of data-driven or model-based strategies to manage and influence the behaviour of complex systems, such as climate or traffic networks",
           "term": "predictive control strategies",
           "type": "Application"
          },
          {
           "description": "Modeling biological systems across spatial and temporal scales—from molecular interactions to organ-level function—to capture emergent behaviors in complex systems",
           "term": "multi-scale system dynamics",
           "type": "Application"
          },
          {
           "description": "Use of graph-based models to study interactions in ecological, social, or biological networks, revealing emergent properties and robustness",
           "term": "network theory in natural systems",
           "type": "Application"
          },
          {
           "description": "Research into how multiple autonomous agents coordinate and make decisions in shared environments, such as urban or natural landscapes",
           "term": "multi-agent decision making",
           "type": "Application"
          },
          {
           "description": "Deployment and study of autonomous systems in structured human-made environments like cities, buildings, and infrastructure",
           "term": "built environment autonomy",
           "type": "Application"
          },
          {
           "description": "Focus on ensuring dependable data transmission in real-time control systems where failure can lead to safety or performance issues",
           "term": "wireless control reliability",
           "type": "Application"
          },
          {
           "description": "Transmission strategies designed for control tasks where timing precision is critical, such as robotics or autonomous systems",
           "term": "delay-sensitive transmission",
           "type": "Application"
          },
          {
           "description": "Real-world application where partitioned Steiner systems allow multiple users to share a communication channel without interference",
           "term": "communication channel multiplexing",
           "type": "Application"
          },
          {
           "description": "Use of structured system properties to prevent data loss in computer storage due to hard disk failures",
           "term": "data redundancy and fault tolerance",
           "type": "Application"
          },
          "FOR 33: BUILT ENVIRONMENT AND DESIGN",
          "Environmental and Climate Resilience",
          {
           "description": "Development of science-based strategies to enhance the adaptive capacity of coral reefs to climate change and environmental stressors",
           "term": "climate resilience in marine ecosystems",
           "type": "Application"
          },
          {
           "description": "Engagement of local Indigenous and coastal communities in reef conservation and management practices to ensure cultural and social sustainability",
           "term": "community-based reef stewardship",
           "type": "Application"
          },
          {
           "description": "The capacity of coral reef ecosystems to recover and maintain structural and functional integrity under environmental stressors, central to the project's objective",
           "term": "coral reef resilience",
           "type": "Application"
          },
          {
           "description": "Assessment of how marine reserve networks can support long-term sustainability under shifting climate conditions, including ocean warming and acidification",
           "term": "climate change adaptation in marine ecosystems",
           "type": "Application"
          },
          {
           "description": "Investigation of how reduced pH levels affect coral calcification, symbiont health, and overall metabolic efficiency in reef ecosystems",
           "term": "ocean acidification impacts",
           "type": "Application"
          },
          {
           "description": "Broader agricultural goal focused on improving crop performance under changing climate conditions to ensure food security and stable farm incomes",
           "term": "climate-resilient crop development",
           "type": "Application"
          },
          {
           "description": "Focus on understanding how climate change is altering regional weather patterns in Australia, linking long-term climate trends to short-term weather variability",
           "term": "climate-driven weather change",
           "type": "Application"
          },
          {
           "description": "Development of actionable insights to guide policy, agriculture, infrastructure, and emergency management in response to projected weather shifts",
           "term": "weather adaptation decision support",
           "type": "Application"
          },
          {
           "description": "Exploration of opportunities to harness weather patterns—such as wind, solar, and precipitation—for sustainable energy and water management",
           "term": "weather as a renewable resource",
           "type": "Application"
          },
          {
           "description": "Examining how climate change affects both biological diversity and cultural heritage sites across Australia",
           "term": "climate-heritage interactions",
           "type": "Application"
          },
          {
           "description": "Re-examining past climate events to identify patterns, drivers, and thresholds that inform future risk assessments and projections",
           "term": "historical climate extreme analysis",
           "type": "Application"
          },
          {
           "description": "Development of actionable strategies and policy tools to strengthen societal, environmental, and economic adaptation to climate extremes",
           "term": "climate resilience frameworks",
           "type": "Application"
          },
          {
           "description": "Long-term monitoring and analysis of environmental shifts to understand drivers and impacts on native ecosystems",
           "term": "environmental change tracking",
           "type": "Application"
          },
          {
           "description": "Developing evidence-based, flexible policy strategies that respond to dynamic environmental changes and emerging threats",
           "term": "adaptive environmental policy",
           "type": "Application"
          },
          {
           "description": "Investigation into how local communities, policymakers, and institutions can collaborate to improve reef management and policy frameworks",
           "term": "social-ecological governance",
           "type": "Application"
          },
          {
           "description": "Incorporating Indigenous knowledge and cultural perspectives into biodiversity conservation and environmental management frameworks",
           "term": "cultural heritage integration",
           "type": "Application"
          },
          {
           "description": "Ecologically responsible practices in managing natural resources that support long-term environmental health and community well-being",
           "term": "sustainable land and sea management",
           "type": "Application"
          },
          {
           "description": "Generation of evidence-based projections of environmental change to support informed decision-making in government and Indigenous-led governance",
           "term": "policy-informed environmental forecasting",
           "type": "Application"
          },
          {
           "description": "The broader process by which trees and vegetation regulate water movement through the atmosphere and soil under changing climate conditions",
           "term": "ecosystem water cycling",
           "type": "Application"
          },
          {
           "description": "The response of tree physiology and growth patterns to changing seasonal water availability under altered rainfall timing",
           "term": "tree growth dynamics",
           "type": "Application"
          },
          {
           "description": "A key agricultural and ecological outcome linked to stomatal function, influencing crop yields and sustainability under changing climate conditions",
           "term": "plant water use efficiency",
           "type": "Application"
          },
          {
           "description": "Understanding how trees adapt their water uptake and transpiration when spring droughts are replaced by autumn rainfall",
           "term": "seasonal drought response",
           "type": "Application"
          },
          {
           "description": "A key climate change scenario where precipitation moves from spring to autumn, altering the hydrological cycle and plant water availability",
           "term": "rainfall timing shift",
           "type": "Application"
          },
          "FOR 44: HUMAN SOCIETY",
          "Quantum and Fundamental Physics Research",
          {
           "description": "A quantum state of matter achieved at ultra-low temperatures where atoms behave as a single coherent wave, used in precision measurements and quantum simulation",
           "term": "Bose-Einstein condensation",
           "type": "Application"
          },
          {
           "description": "A key scientific goal of the facility, focusing on identifying weakly interacting massive particles (WIMPs) through ultra-sensitive cryogenic detectors",
           "term": "dark matter detection",
           "type": "Application"
          },
          {
           "description": "Research conducted in environments with intense particle collisions to study rare decays and search for new particles or forces that could explain cosmic mysteries",
           "term": "high-energy collider experiments",
           "type": "Application"
          },
          {
           "description": "Development of high-level educational programs to train the next generation of physicists in cutting-edge experimental and theoretical techniques",
           "term": "particle physics training",
           "type": "Application"
          },
          {
           "description": "Investigation into the mechanism by which elementary particles acquire mass, primarily through the Higgs field and its associated boson",
           "term": "particle mass generation",
           "type": "Application"
          },
          {
           "description": "Use of ultra-precise frequency generation to probe physical constants, relativity, and potential new physics beyond the Standard Model",
           "term": "fundamental physics tests",
           "type": "Application"
          },
          {
           "description": "Experimental validation of Einstein's foundational theory of gravity through gravitational wave observations",
           "term": "Einstein's General Theory of Relativity",
           "type": "Application"
          },
          {
           "description": "Investigation of Einstein's theory of general relativity under extreme conditions, testing predictions in strong gravitational fields and high-energy regimes",
           "term": "relativistic gravity",
           "type": "Application"
          },
          {
           "description": "Study of matter in extreme states, such as neutron star interiors, to understand the equation of state and phase transitions in dense nuclear matter",
           "term": "ultra-dense matter",
           "type": "Application"
          },
          {
           "description": "Research into how the fundamental building blocks of the Universe—such as protons, neutrons, and heavy elements—were formed in stellar processes and supernovae",
           "term": "origin of matter and elements",
           "type": "Application"
          },
          {
           "description": "Study of dark matter through astronomical observations and cosmic phenomena, linking subatomic physics with large-scale structure and cosmology",
           "term": "particle astrophysics",
           "type": "Application"
          },
          {
           "description": "Integration of neutrino data with electromagnetic and gravitational wave observations to build a comprehensive picture of violent cosmic events",
           "term": "multi-messenger astrophysics",
           "type": "Application"
          },
          {
           "description": "Using fast radio bursts as observational tools to study large-scale structure and early universe conditions, complementing traditional probes like supernovae and galaxy surveys",
           "term": "cosmological probes",
           "type": "Application"
          },
          {
           "description": "The broader field of studying oscillations in stars to determine properties such as mass, age, and composition through internal sound and pressure waves",
           "term": "astroseismology",
           "type": "Application"
          },
          {
           "description": "Groups of stars formed from the same molecular cloud; the project focuses on understanding their formation and evolution through high-precision stellar measurements",
           "term": "open star clusters",
           "type": "Application"
          },
          {
           "description": "Precise measurement of star masses to understand formation dynamics and gravitational interactions within star clusters",
           "term": "stellar mass determination",
           "type": "Application"
          },
          {
           "description": "High-accuracy determination of stellar age and chemical composition to trace evolutionary paths and formation histories",
           "term": "stellar age and composition analysis",
           "type": "Application"
          },
          {
           "description": "Searching for temporal or spatial variations in fundamental physical constants, which could imply new physics beyond the Standard Model",
           "term": "fundamental constants variation",
           "type": "Application"
          },
          {
           "description": "Search for signatures of additional spatial dimensions that could manifest as variations in fundamental constants, providing indirect evidence for theories like string theory",
           "term": "extra dimensions detection",
           "type": "Application"
          },
          {
           "description": "Exploration of how changes in fundamental constants could influence the expansion rate of the universe, offering new insights into the nature of dark energy",
           "term": "dark energy dynamics",
           "type": "Application"
          },
          {
           "description": "Search for experimental evidence supporting string theory, which posits that fundamental particles are vibrating strings in higher-dimensional space; MCMC analysis may offer observational signatures",
           "term": "string theory validation",
           "type": "Application"
          },
          {
           "description": "Generation and manipulation of entangled photon pairs within micro- and nano-scale photonic circuits, forming the foundation for quantum communication and computing on integrated platforms",
           "term": "quantum entanglement in photonic devices",
           "type": "Application"
          },
          {
           "description": "A research direction focused on developing quantum technologies that can be manufactured at scale, enabling large-scale deployment of secure quantum communication networks and high-performance quantum processors",
           "term": "scalable quantum photonic systems",
           "type": "Application"
          },
          "FOR 42: HEALTH SCIENCES",
          "Quantum Technologies and Advanced Materials",
          {
           "description": "Application of single-photon sources in quantum technologies such as quantum cryptography and quantum computing",
           "term": "quantum photonics",
           "type": "Application"
          },
          {
           "description": "Use of quantum principles in photonics to enable unhackable communication through quantum key distribution and quantum encryption",
           "term": "quantum photonics-based secure transmission",
           "type": "Application"
          },
          {
           "description": "Application of quantum principles to protect classical communication systems from eavesdropping and information leakage",
           "term": "quantum communication security",
           "type": "Application"
          },
          {
           "description": "The development of secure, long-distance communication systems using quantum entanglement and quantum key distribution to enable unhackable communication over global networks",
           "term": "quantum communication networks",
           "type": "Application"
          },
          {
           "description": "Use of quantum principles to develop secure cryptographic systems and protect sensitive information in digital infrastructure and healthcare records",
           "term": "quantum information security",
           "type": "Application"
          },
          {
           "description": "Research into quantum-resistant cryptographic methods to protect Australia’s digital infrastructure and data security",
           "term": "quantum-safe cybersecurity",
           "type": "Application"
          },
          {
           "description": "The use of quantum computers to simulate quantum systems, such as molecules or materials, which is particularly useful in chemistry, material science, and drug discovery where classical simulations fail due to exponential scaling",
           "term": "quantum simulation",
           "type": "Application"
          },
          {
           "description": "Scientific computation aimed at modeling the behavior of electrons in molecules, critical for understanding chemical reactivity, bonding, and material properties at the atomic level",
           "term": "quantum chemistry simulation",
           "type": "Application"
          },
          {
           "description": "Application of materials science to engineer novel semiconductor structures that support long-lived quantum states, enabling more robust and efficient quantum computation",
           "term": "quantum material design",
           "type": "Application"
          },
          {
           "description": "Secure transmission of information using quantum principles, such as quantum key distribution, to prevent eavesdropping",
           "term": "quantum-communication",
           "type": "Application"
          },
          {
           "description": "The phenomenon where quantum algorithms solve certain problems faster than any classical algorithm, which this project seeks to explain through the structure of nonclassicality",
           "term": "quantum speedup",
           "type": "Application"
          },
          {
           "description": "A class of quantum materials that exhibit insulating bulk behavior with conducting surface states; studied via quantum gas microscopy to explore exotic quantum phenomena and potential for quantum devices",
           "term": "topological insulators",
           "type": "Application"
          },
          {
           "description": "Emergent phenomenon in topological insulators where spin-polarized edge states allow dissipationless spin current flow",
           "term": "quantum spin Hall effect",
           "type": "Application"
          },
          {
           "description": "Development of next-generation electronic devices based on solid-state systems that operate without electrical resistance, reducing power consumption",
           "term": "solid-state resistance-free electronics",
           "type": "Application"
          },
          {
           "description": "Design and fabrication of compact, energy-efficient electronic circuits that leverage resistance-free conduction for sustainable computing",
           "term": "low-energy integrated circuits",
           "type": "Application"
          },
          {
           "description": "Research at the boundary between fundamental quantum physics and engineered materials to enable novel device functionalities",
           "term": "quantum materials interface",
           "type": "Application"
          },
          {
           "description": "Development of quantum-based tools for early detection and monitoring of diseases through enhanced sensing capabilities",
           "term": "quantum-enabled health diagnostics",
           "type": "Application"
          },
          {
           "description": "A quantum computing system designed to operate reliably despite errors through error correction and redundancy, essential for practical, large-scale quantum computation",
           "term": "fault-tolerant quantum processor",
           "type": "Application"
          },
          {
           "description": "Emerging phenomena in light-matter systems where intense light induces changes in material properties, enabling applications in sensing and signal processing",
           "term": "nonlinear optical effects",
           "type": "Application"
          },
          {
           "description": "On-chip photonic circuits that combine multiple optical functions for applications in communications, sensing, and computing",
           "term": "integrated optical systems",
           "type": "Application"
          },
          {
           "description": "A novel optical phenomenon enabling sub-wavelength focusing of light in all spatial dimensions using nonlinear effects, critical for high-resolution imaging and integrated photonics",
           "term": "three-dimensional nonlinear nanofocusing",
           "type": "Application"
          },
          {
           "description": "Achieving nanoscale light confinement and focusing at distances beyond the near-field regime, enabling practical integration into optical systems",
           "term": "far-field nanofocusing",
           "type": "Application"
          },
          {
           "description": "Nanomaterial-based devices for detecting pollutants, toxins, or environmental changes with high sensitivity and specificity",
           "term": "environmental nanosensors",
           "type": "Application"
          },
          {
           "description": "Nanomaterials designed for targeted drug delivery, diagnostics, or imaging in medical applications",
           "term": "healthcare nanodevices",
           "type": "Application"
          },
          {
           "description": "Nanostructures engineered to selectively allow or block specific ions, mimicking biological ion channels for use in desalination and targeted drug delivery",
           "term": "ion-selective nanostructures",
           "type": "Application"
          },
          {
           "description": "A key application area where concentration-gradient-driven transport can improve water purification efficiency and reduce energy consumption",
           "term": "desalination membrane design",
           "type": "Application"
          },
          {
           "description": "Use of ion-selective nanostructures to deliver drugs specifically to cancer cells by exploiting ion gradients in tumor microenvironments",
           "term": "cancer-targeted pharmaceutical delivery",
           "type": "Application"
          },
          {
           "description": "Development of nano-based ion transport systems to restore chloride ion flow in airway cells affected in cystic fibrosis",
           "term": "cystic fibrosis therapeutics",
           "type": "Application"
          },
          "FOR 30: AGRICULTURAL, VETERINARY AND FOOD SCIENCES",
          "Plant and Crop Biotechnology",
          {
           "description": "Application of developmental insights to improve plant structure for enhanced productivity, yield, and environmental resilience",
           "term": "legume architecture optimization",
           "type": "Application"
          },
          {
           "description": "Study of how legumes transition from vegetative to reproductive states, with implications for flowering time and seed production",
           "term": "reproductive differentiation in legumes",
           "type": "Application"
          },
          {
           "description": "Central to crop productivity; research focuses on how metabolic pathways regulate germination, seedling vigour, biomass, and stress tolerance in plants",
           "term": "plant cell metabolism",
           "type": "Application"
          },
          {
           "description": "How mitochondrial activity influences and is influenced by cellular metabolic pathways, particularly during cell division",
           "term": "metabolic control",
           "type": "Application"
          },
          {
           "description": "A key agricultural goal addressed through the use of wild genetic resources to improve crops' ability to withstand environmental stresses such as drought or heat",
           "term": "stress tolerance in crops",
           "type": "Application"
          },
          {
           "description": "Focus on improving the production of bioactive compounds in plants that contribute to human health, such as antioxidants, phytochemicals, and nutraceuticals",
           "term": "quality metabolite traits",
           "type": "Application"
          },
          {
           "description": "Metabolic optimization strategies designed to increase plant growth and productivity with minimal environmental impact",
           "term": "biomass and yield enhancement",
           "type": "Application"
          },
          {
           "description": "A measure of seedling growth and resilience during the initial stages of development, influenced by organelle function and protein targeting strategies",
           "term": "early seedling vigour",
           "type": "Application"
          },
          {
           "description": "Genetic modification and engineering of crops to enhance photosynthetic efficiency, stress tolerance, and yield potential in major food crops like wheat, rice, and sorghum",
           "term": "crop bioengineering",
           "type": "Application"
          },
          {
           "description": "Strategic optimization of light availability and environmental conditions to increase the rate at which microalgae convert solar energy into biomass, improving overall system productivity",
           "term": "photosynthetic efficiency enhancement",
           "type": "Application"
          },
          {
           "description": "Broader agricultural goal focused on improving crop performance under changing climate conditions to ensure food security and stable farm incomes",
           "term": "climate-resilient crop development",
           "type": "Application"
          },
          {
           "description": "Contribution to long-term food security and environmental sustainability through development of robust, low-input crop varieties",
           "term": "sustainable agricultural productivity",
           "type": "Application"
          },
          {
           "description": "Strategic effort to engineer C4 photosynthetic pathways—known for high efficiency—into C3 plants (like rice) to improve carbon fixation and yield under stress conditions",
           "term": "C4 photosynthesis transfer",
           "type": "Application"
          },
          {
           "description": "Interdisciplinary approach to genetically modify C3 crops to adopt features of C4 photosynthesis, aiming to overcome limitations in water and light use efficiency",
           "term": "C3-C4 photosynthetic engineering",
           "type": "Application"
          },
          {
           "description": "Identification of natural plant responses to environmental stress that enhance productivity and resilience in variable climates",
           "term": "adaptive plant strategies",
           "type": "Application"
          },
          {
           "description": "Development of genetically improved plant varieties with enhanced tolerance to environmental stresses and improved yield stability under changing climate conditions",
           "term": "crop resilience engineering",
           "type": "Application"
          },
          {
           "description": "Development of crop varieties specifically tailored to respond to climate variability and extreme weather events",
           "term": "climate-adaptive crop development",
           "type": "Application"
          },
          {
           "description": "Exploitation of plant cell walls as a sustainable source of carbon for bio-based products and energy",
           "term": "renewable carbon resource utilization",
           "type": "Application"
          },
          {
           "description": "Process by which plant cell walls are dynamically altered to support growth, stress responses, and structural adaptation",
           "term": "cell wall re-modelling",
           "type": "Application"
          },
          {
           "description": "Breakdown of polysaccharide polymers in cell walls, relevant for biofuel production and agricultural biotechnology",
           "term": "cell wall depolymerisation",
           "type": "Application"
          },
          {
           "description": "Focus on key crop species where cell wall composition directly impacts yield, nutritional value, and industrial utility",
           "term": "cereal and grass cell wall biology",
           "type": "Application"
          },
          "Animal Health, Welfare, and Ethical Research",
          {
           "description": "Application of ethical frameworks to guide the use of animals in scientific research and teaching, ensuring alignment with community values and welfare standards",
           "term": "animal ethics in research",
           "type": "Application"
          },
          {
           "description": "Evaluation of the necessity and validity of animal models in research, focusing on minimizing harm while maintaining scientific integrity",
           "term": "scientific justification for animal use",
           "type": "Application"
          },
          {
           "description": "Translation of genomic and functional insights into novel vaccine candidates targeting pathogenic microbes in livestock",
           "term": "veterinary vaccine development",
           "type": "Application"
          },
          {
           "description": "Discovery of essential microbial proteins or pathways that can be targeted for new antibiotics to combat resistant pathogens",
           "term": "antimicrobial target identification",
           "type": "Application"
          },
          {
           "description": "Development of targeted strategies for pest management using molecular-level understanding of biological pathways and metabolites",
           "term": "pest animal control",
           "type": "Application"
          },
          {
           "description": "A chronic bacterial infection in sheep caused by Mycobacterium avium subspecies paratuberculosis; a key target for immune response enhancement",
           "term": "ovine Johne's disease",
           "type": "Application"
          },
          {
           "description": "A common bacterial skin infection in sheep, caused by Dichelobacter nodosum; studied for immune-related resistance mechanisms",
           "term": "footrot",
           "type": "Application"
          },
          {
           "description": "Use of synthetic peptides to fine-tune the body's immune system activation, enhancing protective immunity without causing excessive inflammation",
           "term": "immune response modulation",
           "type": "Application"
          },
          {
           "description": "Use of molecular characterisation to guide breeding programs that produce sheep with enhanced natural resistance to infectious diseases",
           "term": "selective breeding for disease resistance",
           "type": "Application"
          },
          "FOR 35: COMMERCE, MANAGEMENT, TOURISM AND SERVICES",
          "Sustainable Energy Technologies and Solar Innovation",
          {
           "description": "Solar energy conversion technology using silicon to transform sunlight into electricity, a key component of sustainable energy systems",
           "term": "silicon photovoltaics (Si PV)",
           "type": "Application"
          },
          {
           "description": "Renewable energy solutions focused on environmentally benign, scalable, and cost-effective energy generation methods such as organic photovoltaics",
           "term": "sustainable energy technologies",
           "type": "Application"
          },
          {
           "description": "High-efficiency solar cells designed to operate under intense, concentrated sunlight, enabling superior energy conversion in solar thermal and photovoltaic systems",
           "term": "concentrator solar cells",
           "type": "Application"
          },
          {
           "description": "Research into harnessing concentrated sunlight to generate heat for industrial processes or energy storage, complementing photovoltaic systems",
           "term": "solar thermal energy conversion",
           "type": "Application"
          },
          {
           "description": "Efforts to transition laboratory-developed solar technologies into market-ready products and scalable industrial solutions",
           "term": "solar energy commercialisation",
           "type": "Application"
          },
          {
           "description": "Programs aimed at training the next generation of researchers and engaging communities in solar energy innovation and sustainability",
           "term": "solar energy education and outreach",
           "type": "Application"
          },
          {
           "description": "The project's broader impact on enabling Australia's transition to renewable energy by providing a safe, scalable, and efficient energy storage solution",
           "term": "sustainable energy system integration",
           "type": "Application"
          },
          {
           "description": "Design and characterization of nanoscale materials for solar energy conversion, including enhanced light absorption and charge separation efficiency",
           "term": "photovoltaic nanomaterials",
           "type": "Application"
          },
          {
           "description": "Next-generation energy storage systems utilizing nanostructured materials for higher capacity, faster charging, and longer lifespan",
           "term": "battery nanodevices",
           "type": "Application"
          },
          {
           "description": "Flexible, lightweight electromaterial-based systems integrated into clothing or skin for portable power and energy harvesting",
           "term": "wearable energy systems",
           "type": "Application"
          },
          {
           "description": "Nanomaterials engineered for improved efficiency in energy harvesting and storage, such as in solar cells or fuel cells",
           "term": "clean energy nanomaterials",
           "type": "Application"
          },
          {
           "description": "Next-generation energy storage devices with reduced weight and enhanced efficiency, enabling use in portable electronics and electric vehicles",
           "term": "lightweight batteries",
           "type": "Application"
          },
          {
           "description": "Sustainable photonics technology that reduces energy consumption and environmental impact in optical devices, aligning with eco-friendly industrial practices",
           "term": "green-photonics",
           "type": "Application"
          },
          {
           "description": "Development of photonic systems that reduce power consumption in data transfer, improving sustainability and scalability of internet infrastructure",
           "term": "energy-efficient optical data transmission",
           "type": "Application"
          },
          "Biomedical and Health Systems Innovation",
          {
           "description": "Use of dynamic system principles to model physiological processes, such as cardiac or neural activity, for diagnostics and treatment planning",
           "term": "biomedical dynamic modeling",
           "type": "Application"
          },
          {
           "description": "Applying genomic and phenotypic insights to improve disease diagnosis, treatment, and personalized medicine",
           "term": "precision health through bioinformatics",
           "type": "Application"
          },
          {
           "description": "Smart environments that continuously track health conditions and support care through wearable or embedded sensors and autonomous decision-making in homes or hospitals",
           "term": "healthcare monitoring systems",
           "type": "Application"
          },
          {
           "description": "Use of peptide-DNA conjugates to deliver therapeutic agents specifically to disease sites, such as tumors or infected cells, enhancing efficacy and reducing off-target effects",
           "term": "targeted drug delivery",
           "type": "Application"
          },
          {
           "description": "Use of nanoscale materials to deliver genetic material into cells for treating genetic disorders and other diseases",
           "term": "gene therapy nanocarriers",
           "type": "Application"
          },
          {
           "description": "Evaluation of how nanomedicine systems behave and perform within living organisms, including biodistribution and efficacy",
           "term": "in vivo nanomedicine performance",
           "type": "Application"
          },
          {
           "description": "Non-invasive visualization of biological processes at the molecular level, enabling real-time monitoring of disease progression and therapeutic response",
           "term": "molecular imaging",
           "type": "Application"
          },
          {
           "description": "Study of how immune proteins bind, activate, and respond to pathogens or cellular signals, critical for understanding immune function and dysregulation",
           "term": "immunomolecular interactions",
           "type": "Application"
          },
          {
           "description": "Investigation of how immune systems respond to pathogens or chronic conditions, providing insights into disease mechanisms and therapeutic targets",
           "term": "immune response dynamics in disease",
           "type": "Application"
          },
          {
           "description": "Investigation into the neural basis of choices under uncertainty, risk, and reward, with implications for mental health and human behavior",
           "term": "cognitive decision-making mechanisms",
           "type": "Application"
          },
          {
           "description": "The study of how groups of neurons combine inputs to form coherent perceptions, with implications for both neuroscience and the development of more biologically inspired AI systems",
           "term": "neural information integration",
           "type": "Application"
          },
          {
           "description": "The clinical context in which PI3Kbeta inhibitors are being explored as a safer alternative to current thrombolytic treatments with reduced bleeding risk",
           "term": "stroke therapy",
           "type": "Application"
          },
          {
           "description": "Understanding developmental pathways to identify early biomarkers and potential therapeutic targets for testicular cancers",
           "term": "testicular cancer",
           "type": "Application"
          },
          {
           "description": "Focus on understanding the biological basis of male infertility, particularly those cases linked to mitochondrial dysfunction in reproductive cells",
           "term": "male infertility",
           "type": "Application"
          },
          {
           "description": "Potential for targeting gametogenetin or its interactions as a basis for novel contraceptive strategies",
           "term": "contraceptive development",
           "type": "Application"
          },
          {
           "description": "Research into how precursor cells mature into functional sperm, with implications for fertility treatments and reproductive health",
           "term": "spermatozoon differentiation",
           "type": "Application"
          },
          {
           "description": "The broader field of bionic auditory devices that mimic natural hearing, with this project contributing to Australia's leadership in cochlear implant innovation and surgical outcomes",
           "term": "bionic ear technology",
           "type": "Application"
          },
          {
           "description": "Integrated frameworks where human operators and intelligent machines work collaboratively, with continuous feedback loops to achieve tasks beyond human or machine capability alone",
           "term": "human-machine cooperation",
           "type": "Application"
          },
          {
           "description": "Improved access to high-speed internet in healthcare settings, enabling telemedicine, remote diagnostics, and real-time medical data sharing",
           "term": "healthcare connectivity",
           "type": "Application"
          },
          {
           "description": "Focus on the holistic health and emotional development of children in digital environments, addressing mental, social, and behavioral outcomes",
           "term": "digital child wellbeing",
           "type": "Application"
          },
          {
           "description": "Analysis of how children interact with digital technologies in daily life, including usage patterns, engagement, and social behaviors",
           "term": "child digital practices",
           "type": "Application"
          },
          {
           "description": "Investigation into the impact of digital technologies on physical, mental, and emotional health in young children",
           "term": "child health and digital environments",
           "type": "Application"
          },
          {
           "description": "Examination of how children form social bonds and access information through digital networks and devices",
           "term": "digital connectedness",
           "type": "Application"
          },
          {
           "description": "Translation of analytical findings into actionable policy recommendations for regulators and superannuation authorities",
           "term": "policy-informed decision-making",
           "type": "Application"
          },
          {
           "description": "Analysis of the economic impacts of increased life expectancy, including pension systems, workforce participation, and healthcare costs",
           "term": "longevity economics",
           "type": "Application"
          },
          {
           "description": "Development of evidence-based policies and programs that respond to population ageing, such as retirement planning, healthcare access, and active ageing initiatives",
           "term": "policy-informed ageing interventions",
           "type": "Application"
          },
          {
           "description": "Research focused on understanding and predicting age-related declines in physical mobility and motor skills, with implications for healthcare and urban design",
           "term": "motor function deterioration",
           "type": "Application"
          },
          {
           "description": "Focus on improving quality of life for older adults and their caregivers through research on support systems and intergenerational relationships",
           "term": "family and community well-being",
           "type": "Application"
          },
          "FOR 47: LANGUAGE, COMMUNICATION AND CULTURE",
          "Indigenous Knowledge and Social Equity",
          {
           "description": "Framework for combining scientific environmental modeling with Indigenous epistemologies to co-develop holistic understandings of land and sea change over time",
           "term": "Western-Indigenous knowledge integration",
           "type": "Application"
          },
          {
           "description": "Incorporating Indigenous knowledge and cultural perspectives into biodiversity conservation and environmental management frameworks",
           "term": "cultural heritage integration",
           "type": "Application"
          },
          {
           "description": "Focus on the systematic damage and loss of historical and cultural sites in Iraq, particularly since 2003, as a key indicator of socio-political instability",
           "term": "cultural heritage destruction",
           "type": "Application"
          },
          {
           "description": "A historical and social phenomenon in Australia where Indigenous children were removed from their families; this research focuses on the role of white fathers in this process and its implications for reconciliation",
           "term": "Stolen Generations",
           "type": "Application"
          },
          {
           "description": "A case of state-sanctioned reproductive control affecting Indigenous children in Canada, examined to reveal systemic injustices and their lasting impact on community memory and identity",
           "term": "sterilised children in Canada",
           "type": "Application"
          },
          {
           "description": "The process of addressing historical injustices and building equitable relationships between Indigenous and non-Indigenous communities, central to the project's socio-political objectives",
           "term": "reconciliation in postcolonial contexts",
           "type": "Application"
          },
          {
           "description": "Development of community-led governance models for managing and regulating access to Indigenous DNA samples and genetic data",
           "term": "Indigenous biobank governance",
           "type": "Application"
          },
          {
           "description": "Reframing human genetic material as cultural property rather than mere scientific specimens, emphasizing cultural significance and ownership",
           "term": "cultural property status of genetic material",
           "type": "Application"
          },
          {
           "description": "Analysis of past research practices that exploited or failed to respect Indigenous communities' rights and knowledge systems",
           "term": "historical misuse of Indigenous biological samples",
           "type": "Application"
          },
          {
           "description": "Use of research findings to design evidence-based policies that promote fairness and inclusive economic growth for disadvantaged populations",
           "term": "social equity policy development",
           "type": "Application"
          },
          {
           "description": "A research focus on understanding how disadvantage manifests in specific local, cultural, and socioeconomic contexts, rather than as a universal or abstract condition",
           "term": "contextualized disadvantage",
           "type": "Application"
          },
          {
           "description": "Strategies and digital tools to document, archive, and revitalize endangered and Indigenous languages",
           "term": "language heritage preservation",
           "type": "Application"
          },
          {
           "description": "Integration of linguistic research into policy frameworks to support migrant and Indigenous communities in language access and equity",
           "term": "language policy and community engagement",
           "type": "Application"
          },
          {
           "description": "Design and evaluation of evidence-based pedagogical strategies to improve language acquisition in diverse learner populations",
           "term": "first and second language learning interventions",
           "type": "Application"
          },
          {
           "description": "Exploration of how multilingual capabilities can enhance Australia’s competitiveness in global trade and information exchange",
           "term": "linguistic diversity and trade",
           "type": "Application"
          },
          {
           "description": "Integration of social and environmental factors to model and predict outcomes in complex human-environment interactions",
           "term": "social-ecological system dynamics",
           "type": "Application"
          },
          {
           "description": "Development of evidence-based policies and programs that respond to population ageing, such as retirement planning, healthcare access, and active ageing initiatives",
           "term": "policy-informed ageing interventions",
           "type": "Application"
          },
          {
           "description": "Focuses on the long-term, systemic disadvantages passed across generations in areas such as health, education, and employment among Indigenous communities",
           "term": "intergenerational inequity",
           "type": "Application"
          },
          {
           "description": "Framework guiding the Centre’s work through four priority reform areas aimed at reducing disparities in health, education, housing, and economic opportunity",
           "term": "National Agreement Close The Gap -2020",
           "type": "Application"
          },
          "Cultural and Environmental Dynamics",
          {
           "description": "Use of oceanographic data to model and project climate-related changes affecting marine ecosystems and coastal regions",
           "term": "climate change impact forecasting",
           "type": "Application"
          },
          {
           "description": "A key climate change scenario where precipitation moves from spring to autumn, altering the hydrological cycle and plant water availability",
           "term": "rainfall timing shift",
           "type": "Application"
          },
          {
           "description": "The response of tree physiology and growth patterns to changing seasonal water availability under altered rainfall timing",
           "term": "tree growth dynamics",
           "type": "Application"
          },
          {
           "description": "A key agricultural and ecological outcome linked to stomatal function, influencing crop yields and sustainability under changing climate conditions",
           "term": "plant water use efficiency",
           "type": "Application"
          },
          {
           "description": "Understanding how trees adapt their water uptake and transpiration when spring droughts are replaced by autumn rainfall",
           "term": "seasonal drought response",
           "type": "Application"
          },
          {
           "description": "The broader process by which trees and vegetation regulate water movement through the atmosphere and soil under changing climate conditions",
           "term": "ecosystem water cycling",
           "type": "Application"
          },
          {
           "description": "Highly biodiverse plant assemblages found in south-western Australia, representing a key focus for understanding ecological complexity and evolutionary dynamics",
           "term": "megadiverse plant communities",
           "type": "Application"
          },
          {
           "description": "Processes such as mutualistic interactions, seed dispersal, and soil feedback that sustain plant diversity in harsh, stable environments",
           "term": "ecosystem maintenance mechanisms",
           "type": "Application"
          },
          {
           "description": "Volcanic activity at subduction zones where slab-related fluids and minerals drive oxidation and melt generation",
           "term": "convergent margin volcanism",
           "type": "Application"
          },
          {
           "description": "How metals are mobilized and concentrated in magmatic systems, affected by oxidation state and fluid interactions",
           "term": "metal transport and deposition",
           "type": "Application"
          },
          {
           "description": "Sudden changes in international prices of natural resources like iron, coal, and copper that impact national income and household well-being",
           "term": "commodity price shocks",
           "type": "Application"
          },
          {
           "description": "A key outcome of regime-induced displacement, where the breakdown of social cohesion and governance leads to weakened state institutions and increased vulnerability to conflict",
           "term": "state fragility",
           "type": "Application"
          },
          {
           "description": "The process by which authoritarian regimes shift toward democratic governance, influenced by economic and external shocks such as commodity price fluctuations",
           "term": "autocracy-to-democracy transition",
           "type": "Application"
          },
          {
           "description": "The likelihood of armed conflict emerging in response to economic distress caused by commodity price shocks in fragile states",
           "term": "civil conflict risk",
           "type": "Application"
          },
          {
           "description": "Public uprisings driven by food price spikes resulting from commodity price shocks, particularly in low-income and food-insecure regions",
           "term": "food riots",
           "type": "Application"
          },
          {
           "description": "The statistical likelihood that authoritarian leaders remain in power amid economic stress caused by commodity price volatility",
           "term": "dictator survival probability",
           "type": "Application"
          },
          "Health, Wellbeing and Human Development",
          {
           "description": "Investigation into how the cerebellum modulates sensory perception, enabling accurate environmental interpretation",
           "term": "cerebellar perceptual regulation",
           "type": "Application"
          },
          {
           "description": "Exploration of cerebellar abnormalities as a potential contributor to perceptual and social deficits in autism spectrum disorder",
           "term": "cerebellar dysfunction in autism",
           "type": "Application"
          },
          {
           "description": "Focus on the specific impact of childhood traumatic brain injury on developmental trajectories, particularly in relation to behavioral and mental health outcomes",
           "term": "traumatic brain injury in youth",
           "type": "Application"
          },
          {
           "description": "Development of early indicators for mental health disorders such as depression, anxiety, and impulse control issues following brain injury",
           "term": "mental health risk profiling",
           "type": "Application"
          },
          {
           "description": "Development and evaluation of preventive measures aimed at reducing the likelihood of substance use disorders in youth",
           "term": "early intervention strategies",
           "type": "Application"
          },
          {
           "description": "The biological process by which fluid accumulates within ovarian follicles prior to ovulation, a key area of unknown mechanism in reproductive biology",
           "term": "ovarian follicular fluid formation",
           "type": "Application"
          },
          {
           "description": "Regulation of fluid volume and composition to maintain optimal conditions for oocyte development and maturation",
           "term": "follicular fluid homeostasis",
           "type": "Application"
          },
          {
           "description": "Focus on the dynamic, matrix-rich environment that supports oocyte development and influences fertility outcomes",
           "term": "ovarian follicle microenvironment",
           "type": "Application"
          },
          {
           "description": "Development of laboratory-based methods to produce eggs outside the body, with potential applications in human fertility treatment and conservation of endangered species",
           "term": "in vitro egg production",
           "type": "Application"
          },
          {
           "description": "Strategic intervention aimed at restoring reproductive capacity in individuals or species facing infertility due to disease, environmental stress, or genetic factors",
           "term": "fertility restoration",
           "type": "Application"
          },
          {
           "description": "Use of biomimetic technologies to support the survival and reproductive viability of threatened or endangered species through assisted reproduction techniques",
           "term": "species preservation",
           "type": "Application"
          },
          {
           "description": "Focus on why humans exhibit persistent genetic variation despite natural selection favoring optimal traits",
           "term": "heritable individual differences",
           "type": "Application"
          },
          "Education, Policy and Social Institutions",
          {
           "description": "A policy-driven assessment mechanism used to evaluate student performance, which influences teacher professional development practices in both rural and urban Australian schools",
           "term": "national standardised testing",
           "type": "Application"
          },
          {
           "description": "The differential impacts of policy interventions like standardised testing on teacher learning and student outcomes across rural and urban school settings with varying socio-economic profiles",
           "term": "rural-urban educational disparities",
           "type": "Application"
          },
          {
           "description": "The influence of community-level economic conditions on how teachers respond to policy mandates, particularly in relation to professional development and instructional practices",
           "term": "socio-economic status and education",
           "type": "Application"
          },
          {
           "description": "The research focus on how changes in teacher practice, driven by testing policies, ultimately affect student achievement in different community settings",
           "term": "student learning outcomes as a consequence of teacher development",
           "type": "Application"
          },
          {
           "description": "Structured educational tracks in schools and TAFE that focus on vocational, life skills, or non-academic development, mandated by policy to extend student stay until age 17",
           "term": "compulsory non-academic pathways",
           "type": "Application"
          },
          {
           "description": "Educational tracks in TAFE and high schools that prepare students for specific trades or work-based roles, often serving as non-academic alternatives to traditional academic study",
           "term": "vocational education pathways",
           "type": "Application"
          },
          {
           "description": "The dynamics of interactions between teachers and students that influence learning environments and student engagement in non-academic pathways",
           "term": "classroom relations",
           "type": "Application"
          },
          {
           "description": "A key objective of the project to develop policies and practices that reduce violent incidents within correctional facilities through normative and structural reforms",
           "term": "prison violence reduction",
           "type": "Application"
          },
          {
           "description": "Focus on creating safer working conditions for prison staff by addressing systemic practices that contribute to workplace stress and violence",
           "term": "prison staff safety",
           "type": "Application"
          },
          {
           "description": "A core aim of the project to promote more humane and equitable treatment of incarcerated individuals through policy reform and practice innovation",
           "term": "humanitarian treatment of prisoners",
           "type": "Application"
          },
          {
           "description": "Examination of how different penal systems in Tasmania and Victoria influenced rehabilitation and recidivism rates",
           "term": "penal system reform",
           "type": "Application"
          },
          {
           "description": "Corporate boards that provide strategic guidance and advisory functions to management, influencing risk decisions and firm performance",
           "term": "advising boards",
           "type": "Application"
          },
          {
           "description": "Board members with prior entrepreneurial experience who bring operational and innovation insights to corporate governance and risk management",
           "term": "entrepreneur directors",
           "type": "Application"
          },
          {
           "description": "Process by which firms assess, monitor, and mitigate risks in strategic and operational decisions, influenced by board composition and advisory roles",
           "term": "corporate risk management",
           "type": "Application"
          },
          {
           "description": "A key outcome measure in the research, assessing how effectively a firm operates and achieves its strategic objectives through its pay system design",
           "term": "firm performance",
           "type": "Application"
          },
          "Technology, Innovation and Scientific Research",
          {
           "description": "Use of eggshell DNA to identify illegally traded wildlife products and track illegal trafficking networks",
           "term": "non-invasive wildlife forensics",
           "type": "Application"
          },
          {
           "description": "Analysis of eggshell genetic and biochemical markers to assess how environmental changes correlate with avian population declines",
           "term": "climate change impact on bird extinctions",
           "type": "Application"
          },
          {
           "description": "Long-term tracking of bird populations using genetic and chemical data from eggshells to assess biodiversity and ecosystem health",
           "term": "avian population monitoring",
           "type": "Application"
          },
          {
           "description": "Use of magnetically tagged biomolecules to enable sensitive and specific detection of disease markers such as cancer antigens in biological samples",
           "term": "magnetic label detection",
           "type": "Application"
          },
          {
           "description": "Enabling early and accessible diagnosis of diseases like cancer in remote or underserved regions through real-time, point-of-care magnetic sensing",
           "term": "on-site disease detection",
           "type": "Application"
          },
          {
           "description": "Study of how these chemicals accumulate in biological tissues over time, critical for understanding human and ecosystem exposure risks",
           "term": "bioaccumulation of brominated flame retardants",
           "type": "Application"
          },
          {
           "description": "A class of toxic, long-lasting organic compounds in wastewater that resist degradation and pose environmental and health risks, targeted for removal in this research",
           "term": "persistent organic pollutants (POPs)",
           "type": "Application"
          },
          {
           "description": "Integration of air quality predictions with human activity patterns to estimate individual or population-level exposure to airborne pollutants, supporting health risk evaluation",
           "term": "human exposure assessment",
           "type": "Application"
          },
          {
           "description": "Prediction of ground failures such as landslides or slope collapses triggered by moisture infiltration and soil saturation",
           "term": "wetting-induced instability",
           "type": "Application"
          },
          {
           "description": "The primary application of improved zeta-function bounds—enhancing theoretical knowledge about how prime numbers are distributed across the number line",
           "term": "distribution of prime numbers",
           "type": "Application"
          },
          {
           "description": "An emerging area where the project aims to apply harmonic analysis techniques to solve problems involving distribution of prime numbers and arithmetic functions",
           "term": "analytic number theory",
           "type": "Application"
          },
          {
           "description": "Using verified zeros of the zeta function to improve theoretical understanding and predictive models of how prime numbers are distributed along the number line",
           "term": "prime number distribution",
           "type": "Application"
          },
          {
           "description": "A key area of focus where complexity-constrained algorithms improve network performance, latency, and throughput in next-generation wireless systems such as 5G and beyond",
           "term": "high-speed wireless communications",
           "type": "Application"
          },
          {
           "description": "Supports the transition from wired to wireless infrastructure by providing scalable, high-performance solutions for modern data-intensive services",
           "term": "wireless network migration",
           "type": "Application"
          },
          {
           "description": "Ensures robust and consistent data transmission in dynamic wireless environments, critical for time-sensitive applications like remote health monitoring and IoT systems",
           "term": "reliable wireless data delivery",
           "type": "Application"
          },
          {
           "description": "The production of liquid hydrocarbons (e.g., methanol, ethylene, propane) from CO2 and water, offering a renewable alternative to fossil fuel-based feedstocks",
           "term": "hydrocarbon fuel synthesis",
           "type": "Application"
          },
          {
           "description": "A strategy to close the carbon loop by transforming atmospheric CO2 into useful chemical products, contributing to climate change mitigation",
           "term": "sustainable carbon cycling",
           "type": "Application"
          },
          {
           "description": "Development of industrial chemicals and fuels derived from renewable carbon sources, reducing dependence on petroleum-based systems",
           "term": "non-fossil fuel feedstocks",
           "type": "Application"
          },
          {
           "description": "Materials that absorb sunlight to drive redox reactions, enabling solar-driven chemical energy conversion and environmental cleanup",
           "term": "semiconductor photocatalysts",
           "type": "Application"
          },
          {
           "description": "Focuses on how kinetic energy is transferred across different scales in rotating fluids, critical for modeling wind dynamics and cyclone behavior",
           "term": "energy transfer in fluids",
           "type": "Application"
          },
          {
           "description": "Applies laboratory-scale rotating turbulence studies to better understand large-scale wind patterns and interactions in Earth's atmosphere",
           "term": "atmospheric dynamics",
           "type": "Application"
          },
          {
           "description": "Negatively charged molecular species with multiple extra electrons, prevalent in environmental and biological processes such as smog formation and protein electron transfer",
           "term": "multiply charged anions",
           "type": "Application"
          },
          {
           "description": "Investigation of molecular configurations in the absence of solvent, revealing intrinsic structural properties and stability of self-assembled systems",
           "term": "gas-phase molecular structure",
           "type": "Application"
          },
          {
           "description": "Environmental process driven by free radical reactions; research aims to improve predictive models for air quality and pollution control",
           "term": "photochemical smog formation",
           "type": "Application"
          },
          {
           "description": "Biological context where anionic species may play roles in redox processes and electron transfer, influencing protein folding and function",
           "term": "protein structure in vivo",
           "type": "Application"
          },
          {
           "description": "Analyzes the interactions between European powers and Asian states during the 1600–1800 period, focusing on diplomatic missions as a lens for understanding cross-cultural contact and power dynamics",
           "term": "early modern global encounters",
           "type": "Application"
          },
          {
           "description": "Specific case studies of diplomatic missions sent by European nations to major Asian states, used to trace the evolution of international relations in pre-modern Asia-Europe interactions",
           "term": "European embassies to Asia",
           "type": "Application"
          },
          {
           "description": "Explores how cultural differences shaped the outcomes of embassies, including language, protocol, and symbolic gestures in intercultural diplomacy",
           "term": "cultural negotiation in diplomacy",
           "type": "Application"
          },
          {
           "description": "Focuses on the specific context of healthcare decisions involving minors, where parental authority intersects with clinical judgment",
           "term": "child medical decision-making",
           "type": "Application"
          },
          {
           "description": "Highlights real-world scenarios where clinicians and parents conflict over treatment options for children, requiring ethical resolution",
           "term": "clinical disagreement in pediatric care",
           "type": "Application"
          },
          {
           "description": "Considers the emerging recognition of children's rights to medical care and informed participation in treatment decisions as they grow older",
           "term": "minor patient rights",
           "type": "Application"
          },
          {
           "description": "Investigation into how natural hybridisation leads to the formation of new species within the Brassica genus, with implications for crop development",
           "term": "Brassica speciation",
           "type": "Application"
          },
          {
           "description": "Goal of creating novel Brassica crop species with improved agronomic traits through mimicking natural evolutionary pathways",
           "term": "crop species diversification",
           "type": "Application"
          },
          {
           "description": "Focus on how mammals naturally respond to viral infections via innate immune mechanisms, with particular interest in whether RNAi pathways are actively engaged",
           "term": "mammalian antiviral response",
           "type": "Application"
          },
          {
           "description": "Specific application of the research to understand how RNAi mechanisms may combat influenza virus infection in humans",
           "term": "influenza antiviral defense",
           "type": "Application"
          },
          {
           "description": "Study of how HIV disrupts IL-12-dependent immune activation to suppress antiviral responses and promote viral persistence",
           "term": "HIV immune evasion",
           "type": "Application"
          },
          {
           "description": "Study of evolving patterns and drivers of conflict in resource exploitation, such as water, minerals, or energy, across diverse socio-political contexts",
           "term": "natural resource conflict dynamics",
           "type": "Application"
          },
          {
           "description": "Focus on innovative legal and institutional mechanisms to resolve conflicts arising from natural resource extraction and management",
           "term": "dispute resolution in environmental law",
           "type": "Application"
          },
          {
           "description": "Development of next-generation quantum standards for time, frequency, or length measurement, enhancing national and international metrology frameworks",
           "term": "quantum standard improvement",
           "type": "Application"
          },
          {
           "description": "The role of Brazil's National Development Bank in facilitating the global expansion of Brazilian firms, particularly within the Global South",
           "term": "BNDES internationalisation",
           "type": "Application"
          },
          {
           "description": "Analysis of how Brazil's foreign policy is shaped and reinforced through economic partnerships and development financing",
           "term": "foreign policy and economic development",
           "type": "Application"
          },
          {
           "description": "Examination of Brazil's strategic economic and diplomatic relationships with countries in the Global South, including Bolivia, Paraguay, Angola, and Mozambique",
           "term": "Brazil-GLOBAL SOUTH engagement",
           "type": "Application"
          },
          {
           "description": "Critical assessment of how Brazil is viewed and received by partner nations in regional and international economic contexts",
           "term": "perceptions of Brazil in the Global South",
           "type": "Application"
          },
          {
           "description": "The phenomenon where employees provide care for older relatives, leading to time and emotional resource depletion in the work context",
           "term": "workplace caregiving",
           "type": "Application"
          },
          {
           "description": "The process by which older workers guide younger employees, fostering knowledge transfer but potentially leading to role conflict or burnout if unmanaged",
           "term": "workplace mentoring",
           "type": "Application"
          },
          {
           "description": "The growing trend of older Australians remaining in the workforce, increasing the prevalence of intergenerational interactions and associated demands",
           "term": "ageing population workforce",
           "type": "Application"
          },
          {
           "description": "The tension arising when employees must balance caregiving or mentoring duties with professional responsibilities, leading to stress and reduced performance",
           "term": "workplace role conflict",
           "type": "Application"
          },
          {
           "description": "Refers to the dual role of workers caring for older individuals or mentoring younger colleagues, creating both support and strain in organizational settings",
           "term": "intergenerational workplace demands",
           "type": "Application"
          },
          "Historical and Cultural Studies",
          {
           "description": "Imperial office established to enforce legal control over slavery, reflecting the institutionalization of legal imperialism in colonial territories during the early 19th century",
           "term": "Protector of Slaves",
           "type": "Application"
          },
          {
           "description": "A form of governance that involved direct, personal, and often paternalistic legal interventions in colonial communities, blurring lines between state and community",
           "term": "intimate colonial governance",
           "type": "Application"
          },
          {
           "description": "Focus on the lived experiences and agency of First Nations women in borderland communities, challenging dominant historical narratives",
           "term": "indigenous women's histories",
           "type": "Application"
          },
          {
           "description": "Examination of how forced assimilation policies affected Indigenous women's family, cultural, and social lives on reservations",
           "term": "residential school impacts",
           "type": "Application"
          },
          {
           "description": "Analyzes the interactions between European powers and Asian states during the 1600–1800 period, focusing on diplomatic missions as a lens for understanding cross-cultural contact and power dynamics",
           "term": "early modern global encounters",
           "type": "Application"
          },
          {
           "description": "Specific case studies of diplomatic missions sent by European nations to major Asian states, used to trace the evolution of international relations in pre-modern Asia-Europe interactions",
           "term": "European embassies to Asia",
           "type": "Application"
          },
          {
           "description": "Explores how cultural differences shaped the outcomes of embassies, including language, protocol, and symbolic gestures in intercultural diplomacy",
           "term": "cultural negotiation in diplomacy",
           "type": "Application"
          }
         ],
         "marker": {
          "colors": [
           "#1f77b4",
           "#ff7f0e",
           "#2ca02c",
           "#2ca02c",
           "#2ca02c",
           "#2ca02c",
           "#2ca02c",
           "#2ca02c",
           "#2ca02c",
           "#2ca02c",
           "#2ca02c",
           "#2ca02c",
           "#2ca02c",
           "#2ca02c",
           "#1f77b4",
           "#ff7f0e",
           "#2ca02c",
           "#2ca02c",
           "#2ca02c",
           "#2ca02c",
           "#2ca02c",
           "#2ca02c",
           "#2ca02c",
           "#2ca02c",
           "#2ca02c",
           "#2ca02c",
           "#2ca02c",
           "#2ca02c",
           "#2ca02c",
           "#2ca02c",
           "#2ca02c",
           "#2ca02c",
           "#2ca02c",
           "#2ca02c",
           "#2ca02c",
           "#2ca02c",
           "#2ca02c",
           "#2ca02c",
           "#1f77b4",
           "#ff7f0e",
           "#2ca02c",
           "#2ca02c",
           "#2ca02c",
           "#2ca02c",
           "#2ca02c",
           "#2ca02c",
           "#2ca02c",
           "#2ca02c",
           "#2ca02c",
           "#2ca02c",
           "#2ca02c",
           "#2ca02c",
           "#2ca02c",
           "#2ca02c",
           "#2ca02c",
           "#2ca02c",
           "#2ca02c",
           "#2ca02c",
           "#2ca02c",
           "#2ca02c",
           "#2ca02c",
           "#2ca02c",
           "#2ca02c",
           "#1f77b4",
           "#ff7f0e",
           "#2ca02c",
           "#2ca02c",
           "#2ca02c",
           "#2ca02c",
           "#2ca02c",
           "#2ca02c",
           "#2ca02c",
           "#2ca02c",
           "#2ca02c",
           "#2ca02c",
           "#2ca02c",
           "#2ca02c",
           "#2ca02c",
           "#2ca02c",
           "#2ca02c",
           "#2ca02c",
           "#2ca02c",
           "#2ca02c",
           "#2ca02c",
           "#2ca02c",
           "#2ca02c",
           "#2ca02c",
           "#2ca02c",
           "#1f77b4",
           "#ff7f0e",
           "#2ca02c",
           "#2ca02c",
           "#2ca02c",
           "#2ca02c",
           "#2ca02c",
           "#2ca02c",
           "#2ca02c",
           "#2ca02c",
           "#2ca02c",
           "#2ca02c",
           "#2ca02c",
           "#2ca02c",
           "#2ca02c",
           "#2ca02c",
           "#2ca02c",
           "#2ca02c",
           "#2ca02c",
           "#2ca02c",
           "#2ca02c",
           "#2ca02c",
           "#2ca02c",
           "#2ca02c",
           "#2ca02c",
           "#2ca02c",
           "#2ca02c",
           "#2ca02c",
           "#2ca02c",
           "#2ca02c",
           "#1f77b4",
           "#ff7f0e",
           "#2ca02c",
           "#2ca02c",
           "#2ca02c",
           "#2ca02c",
           "#2ca02c",
           "#2ca02c",
           "#2ca02c",
           "#2ca02c",
           "#2ca02c",
           "#2ca02c",
           "#2ca02c",
           "#2ca02c",
           "#2ca02c",
           "#2ca02c",
           "#2ca02c",
           "#2ca02c",
           "#2ca02c",
           "#2ca02c",
           "#2ca02c",
           "#2ca02c",
           "#2ca02c",
           "#ff7f0e",
           "#2ca02c",
           "#2ca02c",
           "#2ca02c",
           "#2ca02c",
           "#2ca02c",
           "#2ca02c",
           "#2ca02c",
           "#2ca02c",
           "#2ca02c",
           "#1f77b4",
           "#ff7f0e",
           "#2ca02c",
           "#2ca02c",
           "#2ca02c",
           "#2ca02c",
           "#2ca02c",
           "#2ca02c",
           "#2ca02c",
           "#2ca02c",
           "#2ca02c",
           "#2ca02c",
           "#2ca02c",
           "#2ca02c",
           "#2ca02c",
           "#2ca02c",
           "#ff7f0e",
           "#2ca02c",
           "#2ca02c",
           "#2ca02c",
           "#2ca02c",
           "#2ca02c",
           "#2ca02c",
           "#2ca02c",
           "#2ca02c",
           "#2ca02c",
           "#2ca02c",
           "#2ca02c",
           "#2ca02c",
           "#2ca02c",
           "#2ca02c",
           "#2ca02c",
           "#2ca02c",
           "#2ca02c",
           "#2ca02c",
           "#2ca02c",
           "#2ca02c",
           "#2ca02c",
           "#2ca02c",
           "#2ca02c",
           "#2ca02c",
           "#2ca02c",
           "#2ca02c",
           "#2ca02c",
           "#2ca02c",
           "#1f77b4",
           "#ff7f0e",
           "#2ca02c",
           "#2ca02c",
           "#2ca02c",
           "#2ca02c",
           "#2ca02c",
           "#2ca02c",
           "#2ca02c",
           "#2ca02c",
           "#2ca02c",
           "#2ca02c",
           "#2ca02c",
           "#2ca02c",
           "#2ca02c",
           "#2ca02c",
           "#2ca02c",
           "#2ca02c",
           "#2ca02c",
           "#2ca02c",
           "#2ca02c",
           "#ff7f0e",
           "#2ca02c",
           "#2ca02c",
           "#2ca02c",
           "#2ca02c",
           "#2ca02c",
           "#2ca02c",
           "#2ca02c",
           "#2ca02c",
           "#2ca02c",
           "#2ca02c",
           "#2ca02c",
           "#2ca02c",
           "#2ca02c",
           "#2ca02c",
           "#2ca02c",
           "#2ca02c",
           "#ff7f0e",
           "#2ca02c",
           "#2ca02c",
           "#2ca02c",
           "#2ca02c",
           "#2ca02c",
           "#2ca02c",
           "#2ca02c",
           "#2ca02c",
           "#2ca02c",
           "#2ca02c",
           "#2ca02c",
           "#2ca02c",
           "#ff7f0e",
           "#2ca02c",
           "#2ca02c",
           "#2ca02c",
           "#2ca02c",
           "#2ca02c",
           "#2ca02c",
           "#2ca02c",
           "#2ca02c",
           "#2ca02c",
           "#2ca02c",
           "#2ca02c",
           "#2ca02c",
           "#2ca02c",
           "#2ca02c",
           "#2ca02c",
           "#ff7f0e",
           "#2ca02c",
           "#2ca02c",
           "#2ca02c",
           "#2ca02c",
           "#2ca02c",
           "#2ca02c",
           "#2ca02c",
           "#2ca02c",
           "#2ca02c",
           "#2ca02c",
           "#2ca02c",
           "#2ca02c",
           "#2ca02c",
           "#2ca02c",
           "#2ca02c",
           "#2ca02c",
           "#2ca02c",
           "#2ca02c",
           "#2ca02c",
           "#2ca02c",
           "#2ca02c",
           "#2ca02c",
           "#2ca02c",
           "#2ca02c",
           "#2ca02c",
           "#2ca02c",
           "#2ca02c",
           "#2ca02c",
           "#2ca02c",
           "#2ca02c",
           "#2ca02c",
           "#2ca02c",
           "#2ca02c",
           "#2ca02c",
           "#2ca02c",
           "#2ca02c",
           "#2ca02c",
           "#2ca02c",
           "#2ca02c",
           "#2ca02c",
           "#2ca02c",
           "#2ca02c",
           "#2ca02c",
           "#2ca02c",
           "#2ca02c",
           "#2ca02c",
           "#2ca02c",
           "#2ca02c",
           "#ff7f0e",
           "#2ca02c",
           "#2ca02c",
           "#2ca02c",
           "#2ca02c",
           "#2ca02c",
           "#2ca02c",
           "#2ca02c"
          ]
         },
         "name": "",
         "parents": [
          "",
          "FOR_36",
          "FOR_36 >> Advanced Robotics and Autonomous Systems",
          "FOR_36 >> Advanced Robotics and Autonomous Systems",
          "FOR_36 >> Advanced Robotics and Autonomous Systems",
          "FOR_36 >> Advanced Robotics and Autonomous Systems",
          "FOR_36 >> Advanced Robotics and Autonomous Systems",
          "FOR_36 >> Advanced Robotics and Autonomous Systems",
          "FOR_36 >> Advanced Robotics and Autonomous Systems",
          "FOR_36 >> Advanced Robotics and Autonomous Systems",
          "FOR_36 >> Advanced Robotics and Autonomous Systems",
          "FOR_36 >> Advanced Robotics and Autonomous Systems",
          "FOR_36 >> Advanced Robotics and Autonomous Systems",
          "FOR_36 >> Advanced Robotics and Autonomous Systems",
          "",
          "FOR_45",
          "FOR_45 >> AI, IoT, and Digital Technologies in Society",
          "FOR_45 >> AI, IoT, and Digital Technologies in Society",
          "FOR_45 >> AI, IoT, and Digital Technologies in Society",
          "FOR_45 >> AI, IoT, and Digital Technologies in Society",
          "FOR_45 >> AI, IoT, and Digital Technologies in Society",
          "FOR_45 >> AI, IoT, and Digital Technologies in Society",
          "FOR_45 >> AI, IoT, and Digital Technologies in Society",
          "FOR_45 >> AI, IoT, and Digital Technologies in Society",
          "FOR_45 >> AI, IoT, and Digital Technologies in Society",
          "FOR_45 >> AI, IoT, and Digital Technologies in Society",
          "FOR_45 >> AI, IoT, and Digital Technologies in Society",
          "FOR_45 >> AI, IoT, and Digital Technologies in Society",
          "FOR_45 >> AI, IoT, and Digital Technologies in Society",
          "FOR_45 >> AI, IoT, and Digital Technologies in Society",
          "FOR_45 >> AI, IoT, and Digital Technologies in Society",
          "FOR_45 >> AI, IoT, and Digital Technologies in Society",
          "FOR_45 >> AI, IoT, and Digital Technologies in Society",
          "FOR_45 >> AI, IoT, and Digital Technologies in Society",
          "FOR_45 >> AI, IoT, and Digital Technologies in Society",
          "FOR_45 >> AI, IoT, and Digital Technologies in Society",
          "FOR_45 >> AI, IoT, and Digital Technologies in Society",
          "FOR_45 >> AI, IoT, and Digital Technologies in Society",
          "",
          "FOR_33",
          "FOR_33 >> Environmental and Climate Resilience",
          "FOR_33 >> Environmental and Climate Resilience",
          "FOR_33 >> Environmental and Climate Resilience",
          "FOR_33 >> Environmental and Climate Resilience",
          "FOR_33 >> Environmental and Climate Resilience",
          "FOR_33 >> Environmental and Climate Resilience",
          "FOR_33 >> Environmental and Climate Resilience",
          "FOR_33 >> Environmental and Climate Resilience",
          "FOR_33 >> Environmental and Climate Resilience",
          "FOR_33 >> Environmental and Climate Resilience",
          "FOR_33 >> Environmental and Climate Resilience",
          "FOR_33 >> Environmental and Climate Resilience",
          "FOR_33 >> Environmental and Climate Resilience",
          "FOR_33 >> Environmental and Climate Resilience",
          "FOR_33 >> Environmental and Climate Resilience",
          "FOR_33 >> Environmental and Climate Resilience",
          "FOR_33 >> Environmental and Climate Resilience",
          "FOR_33 >> Environmental and Climate Resilience",
          "FOR_33 >> Environmental and Climate Resilience",
          "FOR_33 >> Environmental and Climate Resilience",
          "FOR_33 >> Environmental and Climate Resilience",
          "FOR_33 >> Environmental and Climate Resilience",
          "FOR_33 >> Environmental and Climate Resilience",
          "",
          "FOR_44",
          "FOR_44 >> Quantum and Fundamental Physics Research",
          "FOR_44 >> Quantum and Fundamental Physics Research",
          "FOR_44 >> Quantum and Fundamental Physics Research",
          "FOR_44 >> Quantum and Fundamental Physics Research",
          "FOR_44 >> Quantum and Fundamental Physics Research",
          "FOR_44 >> Quantum and Fundamental Physics Research",
          "FOR_44 >> Quantum and Fundamental Physics Research",
          "FOR_44 >> Quantum and Fundamental Physics Research",
          "FOR_44 >> Quantum and Fundamental Physics Research",
          "FOR_44 >> Quantum and Fundamental Physics Research",
          "FOR_44 >> Quantum and Fundamental Physics Research",
          "FOR_44 >> Quantum and Fundamental Physics Research",
          "FOR_44 >> Quantum and Fundamental Physics Research",
          "FOR_44 >> Quantum and Fundamental Physics Research",
          "FOR_44 >> Quantum and Fundamental Physics Research",
          "FOR_44 >> Quantum and Fundamental Physics Research",
          "FOR_44 >> Quantum and Fundamental Physics Research",
          "FOR_44 >> Quantum and Fundamental Physics Research",
          "FOR_44 >> Quantum and Fundamental Physics Research",
          "FOR_44 >> Quantum and Fundamental Physics Research",
          "FOR_44 >> Quantum and Fundamental Physics Research",
          "FOR_44 >> Quantum and Fundamental Physics Research",
          "FOR_44 >> Quantum and Fundamental Physics Research",
          "",
          "FOR_42",
          "FOR_42 >> Quantum Technologies and Advanced Materials",
          "FOR_42 >> Quantum Technologies and Advanced Materials",
          "FOR_42 >> Quantum Technologies and Advanced Materials",
          "FOR_42 >> Quantum Technologies and Advanced Materials",
          "FOR_42 >> Quantum Technologies and Advanced Materials",
          "FOR_42 >> Quantum Technologies and Advanced Materials",
          "FOR_42 >> Quantum Technologies and Advanced Materials",
          "FOR_42 >> Quantum Technologies and Advanced Materials",
          "FOR_42 >> Quantum Technologies and Advanced Materials",
          "FOR_42 >> Quantum Technologies and Advanced Materials",
          "FOR_42 >> Quantum Technologies and Advanced Materials",
          "FOR_42 >> Quantum Technologies and Advanced Materials",
          "FOR_42 >> Quantum Technologies and Advanced Materials",
          "FOR_42 >> Quantum Technologies and Advanced Materials",
          "FOR_42 >> Quantum Technologies and Advanced Materials",
          "FOR_42 >> Quantum Technologies and Advanced Materials",
          "FOR_42 >> Quantum Technologies and Advanced Materials",
          "FOR_42 >> Quantum Technologies and Advanced Materials",
          "FOR_42 >> Quantum Technologies and Advanced Materials",
          "FOR_42 >> Quantum Technologies and Advanced Materials",
          "FOR_42 >> Quantum Technologies and Advanced Materials",
          "FOR_42 >> Quantum Technologies and Advanced Materials",
          "FOR_42 >> Quantum Technologies and Advanced Materials",
          "FOR_42 >> Quantum Technologies and Advanced Materials",
          "FOR_42 >> Quantum Technologies and Advanced Materials",
          "FOR_42 >> Quantum Technologies and Advanced Materials",
          "FOR_42 >> Quantum Technologies and Advanced Materials",
          "FOR_42 >> Quantum Technologies and Advanced Materials",
          "",
          "FOR_30",
          "FOR_30 >> Plant and Crop Biotechnology",
          "FOR_30 >> Plant and Crop Biotechnology",
          "FOR_30 >> Plant and Crop Biotechnology",
          "FOR_30 >> Plant and Crop Biotechnology",
          "FOR_30 >> Plant and Crop Biotechnology",
          "FOR_30 >> Plant and Crop Biotechnology",
          "FOR_30 >> Plant and Crop Biotechnology",
          "FOR_30 >> Plant and Crop Biotechnology",
          "FOR_30 >> Plant and Crop Biotechnology",
          "FOR_30 >> Plant and Crop Biotechnology",
          "FOR_30 >> Plant and Crop Biotechnology",
          "FOR_30 >> Plant and Crop Biotechnology",
          "FOR_30 >> Plant and Crop Biotechnology",
          "FOR_30 >> Plant and Crop Biotechnology",
          "FOR_30 >> Plant and Crop Biotechnology",
          "FOR_30 >> Plant and Crop Biotechnology",
          "FOR_30 >> Plant and Crop Biotechnology",
          "FOR_30 >> Plant and Crop Biotechnology",
          "FOR_30 >> Plant and Crop Biotechnology",
          "FOR_30 >> Plant and Crop Biotechnology",
          "FOR_30 >> Plant and Crop Biotechnology",
          "FOR_30",
          "FOR_30 >> Animal Health, Welfare, and Ethical Research",
          "FOR_30 >> Animal Health, Welfare, and Ethical Research",
          "FOR_30 >> Animal Health, Welfare, and Ethical Research",
          "FOR_30 >> Animal Health, Welfare, and Ethical Research",
          "FOR_30 >> Animal Health, Welfare, and Ethical Research",
          "FOR_30 >> Animal Health, Welfare, and Ethical Research",
          "FOR_30 >> Animal Health, Welfare, and Ethical Research",
          "FOR_30 >> Animal Health, Welfare, and Ethical Research",
          "FOR_30 >> Animal Health, Welfare, and Ethical Research",
          "",
          "FOR_35",
          "FOR_35 >> Sustainable Energy Technologies and Solar Innovation",
          "FOR_35 >> Sustainable Energy Technologies and Solar Innovation",
          "FOR_35 >> Sustainable Energy Technologies and Solar Innovation",
          "FOR_35 >> Sustainable Energy Technologies and Solar Innovation",
          "FOR_35 >> Sustainable Energy Technologies and Solar Innovation",
          "FOR_35 >> Sustainable Energy Technologies and Solar Innovation",
          "FOR_35 >> Sustainable Energy Technologies and Solar Innovation",
          "FOR_35 >> Sustainable Energy Technologies and Solar Innovation",
          "FOR_35 >> Sustainable Energy Technologies and Solar Innovation",
          "FOR_35 >> Sustainable Energy Technologies and Solar Innovation",
          "FOR_35 >> Sustainable Energy Technologies and Solar Innovation",
          "FOR_35 >> Sustainable Energy Technologies and Solar Innovation",
          "FOR_35 >> Sustainable Energy Technologies and Solar Innovation",
          "FOR_35 >> Sustainable Energy Technologies and Solar Innovation",
          "FOR_35",
          "FOR_35 >> Biomedical and Health Systems Innovation",
          "FOR_35 >> Biomedical and Health Systems Innovation",
          "FOR_35 >> Biomedical and Health Systems Innovation",
          "FOR_35 >> Biomedical and Health Systems Innovation",
          "FOR_35 >> Biomedical and Health Systems Innovation",
          "FOR_35 >> Biomedical and Health Systems Innovation",
          "FOR_35 >> Biomedical and Health Systems Innovation",
          "FOR_35 >> Biomedical and Health Systems Innovation",
          "FOR_35 >> Biomedical and Health Systems Innovation",
          "FOR_35 >> Biomedical and Health Systems Innovation",
          "FOR_35 >> Biomedical and Health Systems Innovation",
          "FOR_35 >> Biomedical and Health Systems Innovation",
          "FOR_35 >> Biomedical and Health Systems Innovation",
          "FOR_35 >> Biomedical and Health Systems Innovation",
          "FOR_35 >> Biomedical and Health Systems Innovation",
          "FOR_35 >> Biomedical and Health Systems Innovation",
          "FOR_35 >> Biomedical and Health Systems Innovation",
          "FOR_35 >> Biomedical and Health Systems Innovation",
          "FOR_35 >> Biomedical and Health Systems Innovation",
          "FOR_35 >> Biomedical and Health Systems Innovation",
          "FOR_35 >> Biomedical and Health Systems Innovation",
          "FOR_35 >> Biomedical and Health Systems Innovation",
          "FOR_35 >> Biomedical and Health Systems Innovation",
          "FOR_35 >> Biomedical and Health Systems Innovation",
          "FOR_35 >> Biomedical and Health Systems Innovation",
          "FOR_35 >> Biomedical and Health Systems Innovation",
          "FOR_35 >> Biomedical and Health Systems Innovation",
          "FOR_35 >> Biomedical and Health Systems Innovation",
          "",
          "FOR_47",
          "FOR_47 >> Indigenous Knowledge and Social Equity",
          "FOR_47 >> Indigenous Knowledge and Social Equity",
          "FOR_47 >> Indigenous Knowledge and Social Equity",
          "FOR_47 >> Indigenous Knowledge and Social Equity",
          "FOR_47 >> Indigenous Knowledge and Social Equity",
          "FOR_47 >> Indigenous Knowledge and Social Equity",
          "FOR_47 >> Indigenous Knowledge and Social Equity",
          "FOR_47 >> Indigenous Knowledge and Social Equity",
          "FOR_47 >> Indigenous Knowledge and Social Equity",
          "FOR_47 >> Indigenous Knowledge and Social Equity",
          "FOR_47 >> Indigenous Knowledge and Social Equity",
          "FOR_47 >> Indigenous Knowledge and Social Equity",
          "FOR_47 >> Indigenous Knowledge and Social Equity",
          "FOR_47 >> Indigenous Knowledge and Social Equity",
          "FOR_47 >> Indigenous Knowledge and Social Equity",
          "FOR_47 >> Indigenous Knowledge and Social Equity",
          "FOR_47 >> Indigenous Knowledge and Social Equity",
          "FOR_47 >> Indigenous Knowledge and Social Equity",
          "FOR_47 >> Indigenous Knowledge and Social Equity",
          "FOR_47",
          "FOR_47 >> Cultural and Environmental Dynamics",
          "FOR_47 >> Cultural and Environmental Dynamics",
          "FOR_47 >> Cultural and Environmental Dynamics",
          "FOR_47 >> Cultural and Environmental Dynamics",
          "FOR_47 >> Cultural and Environmental Dynamics",
          "FOR_47 >> Cultural and Environmental Dynamics",
          "FOR_47 >> Cultural and Environmental Dynamics",
          "FOR_47 >> Cultural and Environmental Dynamics",
          "FOR_47 >> Cultural and Environmental Dynamics",
          "FOR_47 >> Cultural and Environmental Dynamics",
          "FOR_47 >> Cultural and Environmental Dynamics",
          "FOR_47 >> Cultural and Environmental Dynamics",
          "FOR_47 >> Cultural and Environmental Dynamics",
          "FOR_47 >> Cultural and Environmental Dynamics",
          "FOR_47 >> Cultural and Environmental Dynamics",
          "FOR_47 >> Cultural and Environmental Dynamics",
          "FOR_47",
          "FOR_47 >> Health, Wellbeing and Human Development",
          "FOR_47 >> Health, Wellbeing and Human Development",
          "FOR_47 >> Health, Wellbeing and Human Development",
          "FOR_47 >> Health, Wellbeing and Human Development",
          "FOR_47 >> Health, Wellbeing and Human Development",
          "FOR_47 >> Health, Wellbeing and Human Development",
          "FOR_47 >> Health, Wellbeing and Human Development",
          "FOR_47 >> Health, Wellbeing and Human Development",
          "FOR_47 >> Health, Wellbeing and Human Development",
          "FOR_47 >> Health, Wellbeing and Human Development",
          "FOR_47 >> Health, Wellbeing and Human Development",
          "FOR_47 >> Health, Wellbeing and Human Development",
          "FOR_47",
          "FOR_47 >> Education, Policy and Social Institutions",
          "FOR_47 >> Education, Policy and Social Institutions",
          "FOR_47 >> Education, Policy and Social Institutions",
          "FOR_47 >> Education, Policy and Social Institutions",
          "FOR_47 >> Education, Policy and Social Institutions",
          "FOR_47 >> Education, Policy and Social Institutions",
          "FOR_47 >> Education, Policy and Social Institutions",
          "FOR_47 >> Education, Policy and Social Institutions",
          "FOR_47 >> Education, Policy and Social Institutions",
          "FOR_47 >> Education, Policy and Social Institutions",
          "FOR_47 >> Education, Policy and Social Institutions",
          "FOR_47 >> Education, Policy and Social Institutions",
          "FOR_47 >> Education, Policy and Social Institutions",
          "FOR_47 >> Education, Policy and Social Institutions",
          "FOR_47 >> Education, Policy and Social Institutions",
          "FOR_47",
          "FOR_47 >> Technology, Innovation and Scientific Research",
          "FOR_47 >> Technology, Innovation and Scientific Research",
          "FOR_47 >> Technology, Innovation and Scientific Research",
          "FOR_47 >> Technology, Innovation and Scientific Research",
          "FOR_47 >> Technology, Innovation and Scientific Research",
          "FOR_47 >> Technology, Innovation and Scientific Research",
          "FOR_47 >> Technology, Innovation and Scientific Research",
          "FOR_47 >> Technology, Innovation and Scientific Research",
          "FOR_47 >> Technology, Innovation and Scientific Research",
          "FOR_47 >> Technology, Innovation and Scientific Research",
          "FOR_47 >> Technology, Innovation and Scientific Research",
          "FOR_47 >> Technology, Innovation and Scientific Research",
          "FOR_47 >> Technology, Innovation and Scientific Research",
          "FOR_47 >> Technology, Innovation and Scientific Research",
          "FOR_47 >> Technology, Innovation and Scientific Research",
          "FOR_47 >> Technology, Innovation and Scientific Research",
          "FOR_47 >> Technology, Innovation and Scientific Research",
          "FOR_47 >> Technology, Innovation and Scientific Research",
          "FOR_47 >> Technology, Innovation and Scientific Research",
          "FOR_47 >> Technology, Innovation and Scientific Research",
          "FOR_47 >> Technology, Innovation and Scientific Research",
          "FOR_47 >> Technology, Innovation and Scientific Research",
          "FOR_47 >> Technology, Innovation and Scientific Research",
          "FOR_47 >> Technology, Innovation and Scientific Research",
          "FOR_47 >> Technology, Innovation and Scientific Research",
          "FOR_47 >> Technology, Innovation and Scientific Research",
          "FOR_47 >> Technology, Innovation and Scientific Research",
          "FOR_47 >> Technology, Innovation and Scientific Research",
          "FOR_47 >> Technology, Innovation and Scientific Research",
          "FOR_47 >> Technology, Innovation and Scientific Research",
          "FOR_47 >> Technology, Innovation and Scientific Research",
          "FOR_47 >> Technology, Innovation and Scientific Research",
          "FOR_47 >> Technology, Innovation and Scientific Research",
          "FOR_47 >> Technology, Innovation and Scientific Research",
          "FOR_47 >> Technology, Innovation and Scientific Research",
          "FOR_47 >> Technology, Innovation and Scientific Research",
          "FOR_47 >> Technology, Innovation and Scientific Research",
          "FOR_47 >> Technology, Innovation and Scientific Research",
          "FOR_47 >> Technology, Innovation and Scientific Research",
          "FOR_47 >> Technology, Innovation and Scientific Research",
          "FOR_47 >> Technology, Innovation and Scientific Research",
          "FOR_47 >> Technology, Innovation and Scientific Research",
          "FOR_47 >> Technology, Innovation and Scientific Research",
          "FOR_47 >> Technology, Innovation and Scientific Research",
          "FOR_47 >> Technology, Innovation and Scientific Research",
          "FOR_47 >> Technology, Innovation and Scientific Research",
          "FOR_47 >> Technology, Innovation and Scientific Research",
          "FOR_47 >> Technology, Innovation and Scientific Research",
          "FOR_47",
          "FOR_47 >> Historical and Cultural Studies",
          "FOR_47 >> Historical and Cultural Studies",
          "FOR_47 >> Historical and Cultural Studies",
          "FOR_47 >> Historical and Cultural Studies",
          "FOR_47 >> Historical and Cultural Studies",
          "FOR_47 >> Historical and Cultural Studies",
          "FOR_47 >> Historical and Cultural Studies"
         ],
         "textfont": {
          "size": 9
         },
         "textinfo": "label",
         "textposition": "middle center",
         "type": "treemap",
         "values": {
          "bdata": "DAwBAQEBAQEBAQEBAQEWFgEBAQEBAQEBAQEBAQEBAQEBAQEBAQEXFwEBAQEBAQEBAQEBAQEBAQEBAQEBAQEBFxcBAQEBAQEBAQEBAQEBAQEBAQEBAQEBARwcAQEBAQEBAQEBAQEBAQEBAQEBAQEBAQEBAQEBAR4VAQEBAQEBAQEBAQEBAQEBAQEBAQEBCQEBAQEBAQEBASoOAQEBAQEBAQEBAQEBAQEcAQEBAQEBAQEBAQEBAQEBAQEBAQEBAQEBAQEBAXUTAQEBAQEBAQEBAQEBAQEBAQEBARABAQEBAQEBAQEBAQEBAQEBDAEBAQEBAQEBAQEBAQ8BAQEBAQEBAQEBAQEBAQEwAQEBAQEBAQEBAQEBAQEBAQEBAQEBAQEBAQEBAQEBAQEBAQEBAQEBAQEBAQEBAQEBBwEBAQEBAQE=",
          "dtype": "i1"
         }
        }
       ],
       "layout": {
        "font": {
         "size": 9
        },
        "height": 800,
        "legend": {
         "tracegroupgap": 0
        },
        "margin": {
         "b": 25,
         "l": 25,
         "r": 25,
         "t": 60
        },
        "template": {
         "data": {
          "bar": [
           {
            "error_x": {
             "color": "#2a3f5f"
            },
            "error_y": {
             "color": "#2a3f5f"
            },
            "marker": {
             "line": {
              "color": "#E5ECF6",
              "width": 0.5
             },
             "pattern": {
              "fillmode": "overlay",
              "size": 10,
              "solidity": 0.2
             }
            },
            "type": "bar"
           }
          ],
          "barpolar": [
           {
            "marker": {
             "line": {
              "color": "#E5ECF6",
              "width": 0.5
             },
             "pattern": {
              "fillmode": "overlay",
              "size": 10,
              "solidity": 0.2
             }
            },
            "type": "barpolar"
           }
          ],
          "carpet": [
           {
            "aaxis": {
             "endlinecolor": "#2a3f5f",
             "gridcolor": "white",
             "linecolor": "white",
             "minorgridcolor": "white",
             "startlinecolor": "#2a3f5f"
            },
            "baxis": {
             "endlinecolor": "#2a3f5f",
             "gridcolor": "white",
             "linecolor": "white",
             "minorgridcolor": "white",
             "startlinecolor": "#2a3f5f"
            },
            "type": "carpet"
           }
          ],
          "choropleth": [
           {
            "colorbar": {
             "outlinewidth": 0,
             "ticks": ""
            },
            "type": "choropleth"
           }
          ],
          "contour": [
           {
            "colorbar": {
             "outlinewidth": 0,
             "ticks": ""
            },
            "colorscale": [
             [
              0,
              "#0d0887"
             ],
             [
              0.1111111111111111,
              "#46039f"
             ],
             [
              0.2222222222222222,
              "#7201a8"
             ],
             [
              0.3333333333333333,
              "#9c179e"
             ],
             [
              0.4444444444444444,
              "#bd3786"
             ],
             [
              0.5555555555555556,
              "#d8576b"
             ],
             [
              0.6666666666666666,
              "#ed7953"
             ],
             [
              0.7777777777777778,
              "#fb9f3a"
             ],
             [
              0.8888888888888888,
              "#fdca26"
             ],
             [
              1,
              "#f0f921"
             ]
            ],
            "type": "contour"
           }
          ],
          "contourcarpet": [
           {
            "colorbar": {
             "outlinewidth": 0,
             "ticks": ""
            },
            "type": "contourcarpet"
           }
          ],
          "heatmap": [
           {
            "colorbar": {
             "outlinewidth": 0,
             "ticks": ""
            },
            "colorscale": [
             [
              0,
              "#0d0887"
             ],
             [
              0.1111111111111111,
              "#46039f"
             ],
             [
              0.2222222222222222,
              "#7201a8"
             ],
             [
              0.3333333333333333,
              "#9c179e"
             ],
             [
              0.4444444444444444,
              "#bd3786"
             ],
             [
              0.5555555555555556,
              "#d8576b"
             ],
             [
              0.6666666666666666,
              "#ed7953"
             ],
             [
              0.7777777777777778,
              "#fb9f3a"
             ],
             [
              0.8888888888888888,
              "#fdca26"
             ],
             [
              1,
              "#f0f921"
             ]
            ],
            "type": "heatmap"
           }
          ],
          "histogram": [
           {
            "marker": {
             "pattern": {
              "fillmode": "overlay",
              "size": 10,
              "solidity": 0.2
             }
            },
            "type": "histogram"
           }
          ],
          "histogram2d": [
           {
            "colorbar": {
             "outlinewidth": 0,
             "ticks": ""
            },
            "colorscale": [
             [
              0,
              "#0d0887"
             ],
             [
              0.1111111111111111,
              "#46039f"
             ],
             [
              0.2222222222222222,
              "#7201a8"
             ],
             [
              0.3333333333333333,
              "#9c179e"
             ],
             [
              0.4444444444444444,
              "#bd3786"
             ],
             [
              0.5555555555555556,
              "#d8576b"
             ],
             [
              0.6666666666666666,
              "#ed7953"
             ],
             [
              0.7777777777777778,
              "#fb9f3a"
             ],
             [
              0.8888888888888888,
              "#fdca26"
             ],
             [
              1,
              "#f0f921"
             ]
            ],
            "type": "histogram2d"
           }
          ],
          "histogram2dcontour": [
           {
            "colorbar": {
             "outlinewidth": 0,
             "ticks": ""
            },
            "colorscale": [
             [
              0,
              "#0d0887"
             ],
             [
              0.1111111111111111,
              "#46039f"
             ],
             [
              0.2222222222222222,
              "#7201a8"
             ],
             [
              0.3333333333333333,
              "#9c179e"
             ],
             [
              0.4444444444444444,
              "#bd3786"
             ],
             [
              0.5555555555555556,
              "#d8576b"
             ],
             [
              0.6666666666666666,
              "#ed7953"
             ],
             [
              0.7777777777777778,
              "#fb9f3a"
             ],
             [
              0.8888888888888888,
              "#fdca26"
             ],
             [
              1,
              "#f0f921"
             ]
            ],
            "type": "histogram2dcontour"
           }
          ],
          "mesh3d": [
           {
            "colorbar": {
             "outlinewidth": 0,
             "ticks": ""
            },
            "type": "mesh3d"
           }
          ],
          "parcoords": [
           {
            "line": {
             "colorbar": {
              "outlinewidth": 0,
              "ticks": ""
             }
            },
            "type": "parcoords"
           }
          ],
          "pie": [
           {
            "automargin": true,
            "type": "pie"
           }
          ],
          "scatter": [
           {
            "fillpattern": {
             "fillmode": "overlay",
             "size": 10,
             "solidity": 0.2
            },
            "type": "scatter"
           }
          ],
          "scatter3d": [
           {
            "line": {
             "colorbar": {
              "outlinewidth": 0,
              "ticks": ""
             }
            },
            "marker": {
             "colorbar": {
              "outlinewidth": 0,
              "ticks": ""
             }
            },
            "type": "scatter3d"
           }
          ],
          "scattercarpet": [
           {
            "marker": {
             "colorbar": {
              "outlinewidth": 0,
              "ticks": ""
             }
            },
            "type": "scattercarpet"
           }
          ],
          "scattergeo": [
           {
            "marker": {
             "colorbar": {
              "outlinewidth": 0,
              "ticks": ""
             }
            },
            "type": "scattergeo"
           }
          ],
          "scattergl": [
           {
            "marker": {
             "colorbar": {
              "outlinewidth": 0,
              "ticks": ""
             }
            },
            "type": "scattergl"
           }
          ],
          "scattermap": [
           {
            "marker": {
             "colorbar": {
              "outlinewidth": 0,
              "ticks": ""
             }
            },
            "type": "scattermap"
           }
          ],
          "scattermapbox": [
           {
            "marker": {
             "colorbar": {
              "outlinewidth": 0,
              "ticks": ""
             }
            },
            "type": "scattermapbox"
           }
          ],
          "scatterpolar": [
           {
            "marker": {
             "colorbar": {
              "outlinewidth": 0,
              "ticks": ""
             }
            },
            "type": "scatterpolar"
           }
          ],
          "scatterpolargl": [
           {
            "marker": {
             "colorbar": {
              "outlinewidth": 0,
              "ticks": ""
             }
            },
            "type": "scatterpolargl"
           }
          ],
          "scatterternary": [
           {
            "marker": {
             "colorbar": {
              "outlinewidth": 0,
              "ticks": ""
             }
            },
            "type": "scatterternary"
           }
          ],
          "surface": [
           {
            "colorbar": {
             "outlinewidth": 0,
             "ticks": ""
            },
            "colorscale": [
             [
              0,
              "#0d0887"
             ],
             [
              0.1111111111111111,
              "#46039f"
             ],
             [
              0.2222222222222222,
              "#7201a8"
             ],
             [
              0.3333333333333333,
              "#9c179e"
             ],
             [
              0.4444444444444444,
              "#bd3786"
             ],
             [
              0.5555555555555556,
              "#d8576b"
             ],
             [
              0.6666666666666666,
              "#ed7953"
             ],
             [
              0.7777777777777778,
              "#fb9f3a"
             ],
             [
              0.8888888888888888,
              "#fdca26"
             ],
             [
              1,
              "#f0f921"
             ]
            ],
            "type": "surface"
           }
          ],
          "table": [
           {
            "cells": {
             "fill": {
              "color": "#EBF0F8"
             },
             "line": {
              "color": "white"
             }
            },
            "header": {
             "fill": {
              "color": "#C8D4E3"
             },
             "line": {
              "color": "white"
             }
            },
            "type": "table"
           }
          ]
         },
         "layout": {
          "annotationdefaults": {
           "arrowcolor": "#2a3f5f",
           "arrowhead": 0,
           "arrowwidth": 1
          },
          "autotypenumbers": "strict",
          "coloraxis": {
           "colorbar": {
            "outlinewidth": 0,
            "ticks": ""
           }
          },
          "colorscale": {
           "diverging": [
            [
             0,
             "#8e0152"
            ],
            [
             0.1,
             "#c51b7d"
            ],
            [
             0.2,
             "#de77ae"
            ],
            [
             0.3,
             "#f1b6da"
            ],
            [
             0.4,
             "#fde0ef"
            ],
            [
             0.5,
             "#f7f7f7"
            ],
            [
             0.6,
             "#e6f5d0"
            ],
            [
             0.7,
             "#b8e186"
            ],
            [
             0.8,
             "#7fbc41"
            ],
            [
             0.9,
             "#4d9221"
            ],
            [
             1,
             "#276419"
            ]
           ],
           "sequential": [
            [
             0,
             "#0d0887"
            ],
            [
             0.1111111111111111,
             "#46039f"
            ],
            [
             0.2222222222222222,
             "#7201a8"
            ],
            [
             0.3333333333333333,
             "#9c179e"
            ],
            [
             0.4444444444444444,
             "#bd3786"
            ],
            [
             0.5555555555555556,
             "#d8576b"
            ],
            [
             0.6666666666666666,
             "#ed7953"
            ],
            [
             0.7777777777777778,
             "#fb9f3a"
            ],
            [
             0.8888888888888888,
             "#fdca26"
            ],
            [
             1,
             "#f0f921"
            ]
           ],
           "sequentialminus": [
            [
             0,
             "#0d0887"
            ],
            [
             0.1111111111111111,
             "#46039f"
            ],
            [
             0.2222222222222222,
             "#7201a8"
            ],
            [
             0.3333333333333333,
             "#9c179e"
            ],
            [
             0.4444444444444444,
             "#bd3786"
            ],
            [
             0.5555555555555556,
             "#d8576b"
            ],
            [
             0.6666666666666666,
             "#ed7953"
            ],
            [
             0.7777777777777778,
             "#fb9f3a"
            ],
            [
             0.8888888888888888,
             "#fdca26"
            ],
            [
             1,
             "#f0f921"
            ]
           ]
          },
          "colorway": [
           "#636efa",
           "#EF553B",
           "#00cc96",
           "#ab63fa",
           "#FFA15A",
           "#19d3f3",
           "#FF6692",
           "#B6E880",
           "#FF97FF",
           "#FECB52"
          ],
          "font": {
           "color": "#2a3f5f"
          },
          "geo": {
           "bgcolor": "white",
           "lakecolor": "white",
           "landcolor": "#E5ECF6",
           "showlakes": true,
           "showland": true,
           "subunitcolor": "white"
          },
          "hoverlabel": {
           "align": "left"
          },
          "hovermode": "closest",
          "mapbox": {
           "style": "light"
          },
          "paper_bgcolor": "white",
          "plot_bgcolor": "#E5ECF6",
          "polar": {
           "angularaxis": {
            "gridcolor": "white",
            "linecolor": "white",
            "ticks": ""
           },
           "bgcolor": "#E5ECF6",
           "radialaxis": {
            "gridcolor": "white",
            "linecolor": "white",
            "ticks": ""
           }
          },
          "scene": {
           "xaxis": {
            "backgroundcolor": "#E5ECF6",
            "gridcolor": "white",
            "gridwidth": 2,
            "linecolor": "white",
            "showbackground": true,
            "ticks": "",
            "zerolinecolor": "white"
           },
           "yaxis": {
            "backgroundcolor": "#E5ECF6",
            "gridcolor": "white",
            "gridwidth": 2,
            "linecolor": "white",
            "showbackground": true,
            "ticks": "",
            "zerolinecolor": "white"
           },
           "zaxis": {
            "backgroundcolor": "#E5ECF6",
            "gridcolor": "white",
            "gridwidth": 2,
            "linecolor": "white",
            "showbackground": true,
            "ticks": "",
            "zerolinecolor": "white"
           }
          },
          "shapedefaults": {
           "line": {
            "color": "#2a3f5f"
           }
          },
          "ternary": {
           "aaxis": {
            "gridcolor": "white",
            "linecolor": "white",
            "ticks": ""
           },
           "baxis": {
            "gridcolor": "white",
            "linecolor": "white",
            "ticks": ""
           },
           "bgcolor": "#E5ECF6",
           "caxis": {
            "gridcolor": "white",
            "linecolor": "white",
            "ticks": ""
           }
          },
          "title": {
           "x": 0.05
          },
          "xaxis": {
           "automargin": true,
           "gridcolor": "white",
           "linecolor": "white",
           "ticks": "",
           "title": {
            "standoff": 15
           },
           "zerolinecolor": "white",
           "zerolinewidth": 2
          },
          "yaxis": {
           "automargin": true,
           "gridcolor": "white",
           "linecolor": "white",
           "ticks": "",
           "title": {
            "standoff": 15
           },
           "zerolinecolor": "white",
           "zerolinewidth": 2
          }
         }
        },
        "title": {
         "font": {
          "size": 16
         },
         "text": "Research Landscape: FOR Classes → Categories → Keywords"
        }
       }
      }
     },
     "metadata": {},
     "output_type": "display_data"
    }
   ],
   "source": [
    "fig = create_research_landscape_treemap()\n",
    "fig.write_html(FIGURES_DIR / \"research_landscape_treemap.html\")\n",
    "fig"
   ]
  },
  {
   "cell_type": "code",
   "execution_count": null,
   "id": "41f61998",
   "metadata": {},
   "outputs": [],
   "source": []
  }
 ],
 "metadata": {
  "kernelspec": {
   "display_name": "modeling (3.12.10)",
   "language": "python",
   "name": "python3"
  },
  "language_info": {
   "codemirror_mode": {
    "name": "ipython",
    "version": 3
   },
   "file_extension": ".py",
   "mimetype": "text/x-python",
   "name": "python",
   "nbconvert_exporter": "python",
   "pygments_lexer": "ipython3",
   "version": "3.12.10"
  }
 },
 "nbformat": 4,
 "nbformat_minor": 5
}
